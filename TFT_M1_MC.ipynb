{
 "cells": [
  {
   "cell_type": "markdown",
   "metadata": {
    "id": "HS2zqnqTp83j"
   },
   "source": [
    "# **Summary** 📘\n",
    "\n",
    "1.   **Abstract**\n",
    "2.   **Introduction**\n",
    "3.   **Objectives**\n",
    "4.   **Methodology**\n",
    "4.   **Model**\n",
    "4.   **Using the Model**\n",
    "5.   **Optimizing the Model**\n",
    "5.   **Visualizing Optimized Parameters**\n",
    "5.   **Results**\n",
    "6.   **References**"
   ]
  },
  {
   "cell_type": "markdown",
   "metadata": {
    "id": "_a5XygxxnYzp"
   },
   "source": [
    "## **Benchmarking Tool for Thin-Film Transistors** ⚡\n",
    "\n",
    "## **Student**:\n",
    "\n",
    "Rodrigo Santos Batista – rsb6@cin.ufpe.br\n",
    "\n",
    "CIn ­ UFPE\n",
    "\n",
    "## **Research project**:\n",
    "\n",
    "Benchmarking emerging technologies for near and far computing\n",
    "\n",
    "inside sensors (BEeTle)\n",
    "\n",
    "## **Coordinator**:\n",
    "\n",
    "Stefan Michael Blawid – sblawid@cin.ufpe.br\n",
    "\n",
    "CIn ­ UFPE"
   ]
  },
  {
   "cell_type": "markdown",
   "metadata": {
    "id": "BHo5BnF7L2jD"
   },
   "source": []
  },
  {
   "cell_type": "markdown",
   "metadata": {
    "id": "teoZkrLIvxaV"
   },
   "source": [
    "### **Abstract** 📩"
   ]
  },
  {
   "cell_type": "markdown",
   "metadata": {
    "id": "T1gfcLkSyPWh"
   },
   "source": [
    "> Thin-film transistors (TFTs) are electronic switches where a current flows from the source terminal to the drain terminal, controlled by the voltage applied to the third terminal, the gate. Benchmark models need to reasonably reproduce the current-voltage (IV) characteristics of TFTs with a minimal number of parameters. Here, \"reasonably\" means that the model parameters can be reliably and unambiguously extracted from experimental IV curves."
   ]
  },
  {
   "cell_type": "markdown",
   "metadata": {
    "id": "HfZC11MavqP5"
   },
   "source": [
    "### **Introduction** 📢\n"
   ]
  },
  {
   "cell_type": "markdown",
   "metadata": {
    "id": "jfejU_Wbvbcg"
   },
   "source": [
    "> The ubiquitous computing paradigm envisions computing appearing everywhere at any time. Flexible electronics are considered an essential enabling technology `[1]`. Flexible electronics offer various form factors, including soft, flexible, stretchable, and lightweight forms, thus allowing ambient intelligence to become widely available. Promising applications in health, industrial, environmental, agricultural, and structural monitoring have already been demonstrated `[2]`. It is generally accepted that the low cost required for edge devices `[3]` of future Internet of Things (IoT) infrastructures can only be achieved through printing manufacturing. The basic printed blocks of flexible electronics include sensors, energy harvesters, displays, and antennas. Many of these components require thin-film transistors (TFTs) as active switches. TFTs are usually compared across different devices and technologies based on threshold voltage, charge carrier mobility, and series resistance. However, conventional parameter extraction established for silicon transistors often leads to misleading results when applied to TFTs `[4]`. Some of the peculiarities of TFTs can be addressed by the virtual source (VS) emission-diffusion (ED) theory `[5]`. In combination with nonlinear least squares solvers, VSED-based benchmark models can replace conventional extraction methods and are applicable to a wide range of TFT technologies `[6]`."
   ]
  },
  {
   "cell_type": "markdown",
   "metadata": {
    "id": "Kw3wbLglv07J"
   },
   "source": [
    "### **Objective** 🔎\n"
   ]
  },
  {
   "cell_type": "markdown",
   "metadata": {
    "id": "aqwdc5NS_7bH"
   },
   "source": [
    "> The optimization of parameters for TFT devices is an important process in the manufacturing of thin-film electronics. The main reason for performing this process is to improve the performance of the devices, making them more efficient, reliable, and cost-effective. Essentially, we want to optimize certain parameters embedded in a model that will provide the best results for the production of these devices. A simplified form of how the model operates can be described as follows: `ID = F(VGS, VDS)` where:\n",
    "> * ID → Electric current that flows between the source and drain terminals of a thin-film transistor (TFT)\n",
    "> * VGS → Voltage applied to the gate terminal of the transistor, which controls the current flowing between the source and drain terminals\n",
    "> * VDS → Voltage applied to the drain terminal of the transistor, which determines the current flowing between the source and drain terminals when the gate voltage is kept constant.\n",
    "\n",
    "> VGS and VDS are important for the operation of the TFT transistor and for the optimization of its parameters, which can be obtained from the device's transfer and output curves. From these operations, it is possible to obtain information about its parameters, such as Vtho, l, n, JD, leak, δ, RS, λ, and Vcrit. Since these parameters are limited in the model, it allows for the simultaneous adjustment of all values. Therefore, parameter optimization is performed using a nonlinear least squares solver, which allows for efficient and unambiguous parameter adjustment. In this way, it is possible to gain a better understanding of the TFT device's behavior and optimize its operation for specific applications. Additionally, parameter optimization is also important to ensure the quality and reliability of the device, as well as its integration into complex electronic circuits."
   ]
  },
  {
   "cell_type": "markdown",
   "metadata": {
    "id": "IHBDOV5ZwCml"
   },
   "source": [
    "### **Methodology** 📚\n"
   ]
  },
  {
   "cell_type": "markdown",
   "metadata": {
    "id": "ioyQZpzaItji"
   },
   "source": [
    "> To perform this optimization, we will use the SciPy library, an open-source Python module that provides advanced mathematical functions and algorithms for scientific data processing and numerical analysis. More specifically, we will apply the `curve_fit` function, which is a type of optimization that finds an ideal set of parameters for a defined function that best fits a given set of observations.\n",
    "\n",
    "> Unlike supervised learning, curve fitting requires the author to define the function that maps input examples to outputs. The mapping function, also called the base function, can take any form, including a straight line (linear regression), a curved line (polynomial regression), and many others. This provides flexibility and control to define the shape of the curve, where an optimization process is used to find the optimal specific parameters of the function. For our purposes, this will be to optimize the parameters of the function $ID = F(VGS, VDS)$, which will give us the current at each pair of points from the experiment conducted.\n",
    "\n",
    "> Here is a trivial example of how `curve_fit` works:\n",
    "\n",
    "  > * First, the curve is constructed.\n",
    "  > * Then, we apply the Python curve-fitting API.\n",
    "\n",
    "> In this way, we will think of curve fitting in two dimensions, like a 2D graph. So, let's consider that data collection was performed from the problem domain with inputs and outputs.\n",
    "\n",
    "> The `x-axis is the independent variable` or the input to the function. The `y-axis is the dependent variable` or the output of the function. We do not know the shape of the function that maps input examples to outputs, but we suspect we can approximate the function with a standard function shape. Curve fitting involves first defining the `functional form of the mapping function` (base function or objective function) and searching for the parameters in the function that result in the minimum error.\n",
    "\n",
    "> The error is calculated using observations from the domain and passing the inputs to our candidate mapping function, calculating the output, and comparing the calculated output with the observed output.\n",
    "\n",
    "> Once in shape, we can use the mapping function to interpolate or extrapolate new points in the domain. It is common to run a sequence of input values through the mapping function to calculate a sequence of outputs, then create a line graph of the result to show how the output varies with the input and how well the line fits the observed points.\n",
    "\n",
    "> The key to curve fitting is the shape of the mapping function. A straight line between inputs and outputs can be defined as follows: `y = a * x + b`\n",
    "Where `y is the calculated output`, `x is the input`, and `a` and `b` are parameters of the mapping function found using an optimization algorithm. This is called a linear equation because it is a weighted sum of the inputs. In a linear regression model, these parameters are referred to as coefficients; in a neural network, they are called weights.\n",
    "\n",
    "> This equation can be generalized to any number of inputs (which is the purpose for us), meaning that the notion of curve fitting is not limited to two dimensions (one input and one output) but could have many input variables.\n",
    "\n",
    "> An important observation is that adding arbitrary mathematical functions to our mapping function usually means we cannot calculate the parameters analytically and instead need to use an iterative optimization algorithm. This is called `nonlinear least squares`,\n",
    "as the objective function is no longer convex (not linear), and it is not as simple to solve.\n",
    "\n",
    "> Since our model's data is bi-dimensional, we are not in the trivial case. Thus, when passing data to the model, we will need to preprocess it first. For instance, suppose that for our problem, we will have the voltages Vd and Vg as a set of vectors. Essentially, what will be computed is an $MxN$ matrix; however, the `curve_fit` function only calculates ideal parameters for the one-dimensional vector case. So, we will first allocate all Vg voltages into a matrix and do the same for Vd voltages. Then, we will use Python's `np.ravel()` function to transform an array into a one-dimensional array. This operation does not affect the integrity of the data, only resizes it. The `np.ravel()` function returns a copy of the original array, with all elements of the original array \"flattened\" into a single one-dimensional array. This means that the function returns an array with all the rows of the original array concatenated into a single row."
   ]
  },
  {
   "cell_type": "markdown",
   "metadata": {
    "id": "c0Jt9A63whok"
   },
   "source": [
    "### **Model Description** 🔧\n"
   ]
  },
  {
   "cell_type": "markdown",
   "metadata": {
    "id": "_r5x1sBswlA1"
   },
   "source": [
    "The mathematical model to which we will subject the experimental data consists of a set of equations, where each variable has its degree of importance and contribution. Below is its prototyping as well as what each parameter signifies:\n",
    "\n",
    "The drain current of a TFT consists of mobile charges $Q_{free}$ modulated by the gate voltage and moves with a velocity modulated by the drain voltage. At high electric fields from source to drain, the carrier velocity saturates at a value $V_{sat}$. However, carriers need to scale a potential barrier on the path from source to drain, which represents a bottleneck for carrier transport. The limited rate of charge injection from the top of the barrier potential choke point can be termed as a virtual source (VS). The modified $V_{sed}$ model suggests a specific form of drain current per gate width W in VS:\n",
    "$$J_D = \\frac{I_D}{W} = V_{sat} \\cdot F_{sat} \\cdot Q_{free} $$\n",
    "\n",
    "Some charged particles are not mobile. In certain cases, an exponential tail of trapping states ranging from the valence band edge to the band gap can relate the free and total carrier density by a power law. This occurs because all states are occupied according to the same quasi-Fermi level, as seen in Equation (B4) in [8] and its earlier derivation. Thus, the equation shows that\n",
    "$$Q_{free} = q \\cdot \\sigma_v \\cdot \\left(\\frac{Q_{tot}}{q \\cdot \\sigma_{traps}}\\right)^l$$\n",
    "\n",
    "Here, $σ_V$ and $σ_{traps}$ represent the density of valence states and traps in a single semiconductor layer in $V_S$, respectively. The value of the exponent $l$ is determined by the effective \"temperature\" ratio defining the exponential distribution of trap states' energy and the device temperature, originating from the Boltzmann energy distribution of free charge carriers. However, since the exact trap distribution is generally unknown, $l$ is treated as a model parameter. The distinction between free and trapped charge carriers, as presented in Equation (2), is the main adaptation of the VSED framework for thin film materials proposed in this work.\n",
    "\n",
    "For a depleted semiconductor, an exponential accumulation of holes (positive charges) is expected with increasing gate field, which ceases when substantial shielding by the accumulated charge sheet is established. The following phenomenological expression first proposed in [9] is employed:\n",
    "$$ Q_{tot} = C_I \\cdot n \\cdot V_T \\cdot \\ln \\left[ 1 + e^{\\psi \\cdot V_S - V_{GS}} \\cdot n \\cdot V_T \\right],$$\n",
    "$$ \\psi \\cdot V_S = V_{tho} + |\\delta| \\cdot V_{DS}$$\n",
    "\n",
    "The gate insulator capacitance depends on the dielectric constant ε and the insulator thickness tI: $C_I = \\frac{ε}{t_I}$. The thermal voltage is represented by $V_T = \\frac{kT}{q}$. The transition from weak to strong accumulation is modeled by parameters $n, V_{th0}$, and $δ$, where $n$ is influenced by the charging of the semiconductor region adjacent to the gate insulator interface, filling surface states and affecting the band bending rate with gate bias.\n",
    "\n",
    "The interface potential becomes independent of VGS when it reaches a bias value $ψ \\cdot V_S$, also known as threshold voltage. This allows parameterizing the potential barrier control by gate bias in TFTs. The parameter $ψ \\cdot V_S$ represents the critical bias at which the potential at $V_S$ becomes independent of gate voltage. During hole accumulation at the gate insulator interface, parameters n and $l$ describe the loading of trap states, and the voltage scale for the exponential increase of drain current with gate bias is given by $(\\frac{n}{l}) \\cdot V_T$ in the VSED model. The parameter $δ$ does not necessarily represent drain-induced barrier lowering (DIBL).\n",
    "\n",
    "The charge injection velocity $Q_{free}$ in the transistor channel is represented by $V_{inj} = V_{sat} \\cdot F_{sat}$. It is common to estimate the drain current in TFTs as a drift motion of injected charge carriers, but this can lead to a mistaken conclusion about saturation velocity $V_{sat}$. While in high electric field regions the saturation velocity equals the body semiconductor saturation velocity, in low electric field regions the saturation velocity is defined by the unidirectional thermal velocity of the quasi-Fermi potential, not the electrostatic potential. This concept is discussed in [10]:\n",
    "$$V_{sat} = \\frac{2D}{\\bar{\\lambda}_{free}} = \\frac{2 \\cdot \\mu \\cdot V_T}{\\bar{\\lambda}_{free}}$$\n",
    "\n",
    "which is parametrized here by the diffusion coefficient $D$ and may relate to drift mobility $μ$ through the Einstein relation. In low drain bias, charge carrier diffusion is the dominant transport mechanism in much of the TFT and not just in $V_S$. The characteristic length in Eq. (5) will no longer be given by the mean free path $\\bar{\\lambda}_{free}$ but by the diffusion length. Since only carriers of a single type are injected into a basically intrinsic semiconductor, the diffusion length can be very large and comparable to the device dimension given by the gate length $L_G$. $F_{sat}$ introduces a length scale $λ = \\frac{L_G}{\\bar{\\lambda}_{free}}$, which effectively replaces ${\\bar{\\lambda}_{free}}$ → $L_G$ under low drain bias.\n",
    "\n",
    "The remaining function $F_{sat}$ describes the drainage of accumulated holes. For long-channel TFTs, diffusion and emission theory [11, 5] represent an interesting approach to determine $F_{sat}$:\n",
    "\n",
    "$$F_{sat} = \\frac{1}{1 + 2t} \\cdot \\frac{1-e^{-\\left(\\frac{-V_{SD}}{V_T}\\right)}}{1+e^{-\\left(\\frac{-V_{SD}}{V_T}\\right)}} \\cdot \\frac{1}{1+2t}$$\n",
    "\n",
    "For drain bias significantly exceeding thermal voltage, the transition function is described by $F_{sat} = \\frac{1}{1 + 2t}$. The critical probability factor $t$ is determined by a mean Boltzmann factor in the channel region controlled by the gate and can be obtained from the specific potential profile. For long-channel devices, an analytical form has been proposed, which can be found in equations (4) to (12) of reference [11].\n",
    "\n",
    "$$ t = \\frac{2 \\cdot \\lambda}{m^2 (1 - η^2)} \\cdot \\left[ (1 - m \\cdot η) \\cdot e^{-m (1 - η)} - (1 - m) \\right]$$\n",
    "\n",
    "$$ η = 1 - \\tanh\\left(\\frac{V_{SD}}{mV_T}\\right)$$\n",
    "\n",
    "$$ m = \\frac{2 \\cdot \\frac{V_{Gt}}{V_T}}{1 + \\sqrt{\\frac{2 \\cdot V_{Gt}}{V_{crit}}}}$$\n",
    "\n",
    "$$ V_{Gt} = \\frac{Q_{tot}}{C_I}$$\n",
    "\n",
    "Note that an increase in transistor overdrive leads to a spacious diffusion region and shifts the onset of saturation to higher drain bias. In high gate bias, the necessary increase in saturation voltage decreases and transforms into square root growth for $V_{Gt} > V_{crit}$. Note that the saturation velocity given by Eq. (5) is achieved only for both large $V_{SG}$ (low barrier) and large $V_{SD}$ (sink load). In general, the critical diffusion length replacing $\\lambda_{free}$ in Eq. (5) is a fraction of $L_G$ dependent on gate voltage. The $V_{Gt}$ required to achieve maximum injection velocity given by unidirectional thermal velocity decreases with $L_G$.\n",
    "\n",
    "* The first equation is used to calculate the average lifetime of an unstable particle. It relates the average lifetime ($t$) of an unstable particle to its mass ($m$), binding energy ($λ$), and damping factor ($η$). The equation is a mathematical expression of the exponential decay law of the particle.\n",
    "\n",
    "* The second equation is used to calculate the reflection coefficient of a wave in a MOSFET transistor (metal-oxide-semiconductor field-effect transistor). The equation relates the reflection coefficient ($η$) to the potential difference between drain and source ($V_{SD}$), ambient temperature ($V_T$), and a device parameter ($m$).\n",
    "\n",
    "* The third equation is used in semiconductor devices to calculate the slope factor of a MOSFET transistor. The slope factor is a measure of the transistor's efficiency in turning on and off quickly. The equation relates the slope factor ($m$) to the transistor's threshold voltage ($V_{GT}$), a critical voltage constant ($V_{crit}$), and ambient temperature ($V_T$).\n",
    "\n",
    "* The fourth equation is used to calculate the threshold voltage of a MOSFET transistor. The threshold voltage is the minimum voltage required to turn on the transistor. The equation relates the threshold voltage ($V_{GT}$) to the total charge ($Q_{tot}$) stored on the transistor gate, the gate capacitance ($C$), and the current ($I$) applied to the gate.\n",
    "\n",
    "Understanding how each equation relates and what each one consists of, we will abstract all this 'complex' mathematics into the model code and execute it to observe what kind of results it will yield.\n",
    "\n",
    "Remembering that our goal here will be to optimize the coefficients $J_T, V_{tho}, δ, l\n",
    "\n",
    ", n, λ$, and $V_{crit}$ used in the modeling of the equations.\n",
    "\n",
    "* $J_T$ → Junction Temperature Coefficient. It is a parameter representing the temperature variation at the junction of an electronic device, such as a transistor, diode, or integrated circuit. The value of $J_T$ is important for the correct design and operation of these devices.\n",
    "\n",
    "* $V_{tho}$ → Threshold Voltage. It is the minimum electric voltage that must be applied to an electronic device, such as a MOSFET transistor, to initiate current conduction. The value of $V_{tho}$ is determined by the properties of the semiconductor material used in the device construction.\n",
    "\n",
    "* $δ$ → Diffusion Layer Thickness. It is a parameter representing the thickness of the doped semiconductor material layer deposited on the semiconductor substrate surface to form a transistor or other electronic device.\n",
    "\n",
    "* $l$ → Diffusion Length. It is a parameter representing the distance that the semiconductor material doping diffuses on the semiconductor substrate surface during the electronic device manufacturing process.\n",
    "\n",
    "* $n$ → Diode Ideality Factor. It is a parameter describing the relationship between the electric current and voltage in a diode. The value of $n$ is used to calculate the diode's voltage drop at different current levels.\n",
    "\n",
    "* $λ$ → Voltage Drop Coefficient. It is a parameter describing the voltage drop in an electronic device relative to the electric current passing through it. The value of $λ$ is used to calculate the voltage drop in a MOSFET transistor at different current levels.\n",
    "\n",
    "* $V_{crit}$ → Critical Voltage. It is an electric voltage representing the maximum voltage limit that an electronic device can withstand without damaging its structure or functionality. The value of $V_{crit}$ is determined by the properties of the semiconductor materials used in the device construction and is important for the safe design and operation of electronic circuits.\n",
    "\n",
    "Remembering that our objective here will be to optimize the coefficients $J_T, V_{tho}, δ, l, n, λ$, and $V_{crit}$ used in the modeling of the equations.\n",
    "\n",
    "* $J_T$ → Junction Temperature Coefficient. It is a parameter representing the temperature variation at the junction of an electronic device, such as a transistor, diode, or integrated circuit. The value of $J_T$ is important for the correct design and operation of these devices.\n",
    "\n",
    "* $V_{tho}$ → Threshold Voltage. It is the minimum electric voltage that must be applied to an electronic device, such as a MOSFET transistor, to initiate current conduction. The value of $V_{tho}$ is determined by the properties of the semiconductor material used in the device construction.\n",
    "\n",
    "* $δ$ → Diffusion Layer Thickness. It is a parameter representing the thickness of the doped semiconductor material layer deposited on the semiconductor substrate surface to form a transistor or other electronic device.\n",
    "\n",
    "* $l$ → Diffusion Length. It is a parameter representing the distance that the semiconductor material doping diffuses on the semiconductor substrate surface during the electronic device manufacturing process.\n",
    "\n",
    "* $n$ → Diode Ideality Factor. It is a parameter describing the relationship between the electric current and voltage in a diode. The value of $n$ is used to calculate the diode's voltage drop at different current levels.\n",
    "\n",
    "* $λ$ → Voltage Drop Coefficient. It is a parameter describing the voltage drop in an electronic device relative to the electric current passing through it. The value of $λ$ is used to calculate the voltage drop in a MOSFET transistor at different current levels.\n",
    "\n",
    "* $V_{crit}$ → Critical Voltage. It is an electric voltage representing the maximum voltage limit that an electronic device can withstand without damaging its structure or functionality. The value of $V_{crit}$ is determined by the properties of the semiconductor materials used in the device construction and is important for the safe design and operation of electronic circuits.\n",
    "\n",
    "\n",
    "\n"
   ]
  },
  {
   "cell_type": "markdown",
   "metadata": {
    "id": "RkmdLzKbMAnz"
   },
   "source": [
    "## **Using the Model** 💻"
   ]
  },
  {
   "cell_type": "markdown",
   "metadata": {
    "id": "Ril-6Y3iKXdL"
   },
   "source": [
    "Below, insert the address of the `MODULE_OTFT` module that contains the files to be imported. This folder contains all the necessary files that the model uses to function. It can be loaded following the example: `sys.path.append('/content/drive/MyDrive/your/path/Model_OTFT')`, simply replace the path below with the corresponding path from your mounted drive containing the module."
   ]
  },
  {
   "cell_type": "code",
   "execution_count": 1,
   "metadata": {
    "id": "6UzzLMgVLD9V"
   },
   "outputs": [],
   "source": [
    "# !git clone https://github.com/RodrigoSantosB/Model_OTFT.git"
   ]
  },
  {
   "cell_type": "code",
   "execution_count": 2,
   "metadata": {},
   "outputs": [],
   "source": [
    "# import sys\n",
    "# sys.path.append('/content/Model_OTFT')"
   ]
  },
  {
   "cell_type": "code",
   "execution_count": 3,
   "metadata": {},
   "outputs": [],
   "source": [
    "# # enter into Model_OTFT directory\n",
    "# %cd /content/Model_OTFT"
   ]
  },
  {
   "cell_type": "code",
   "execution_count": 4,
   "metadata": {},
   "outputs": [],
   "source": [
    "# Show the actually branch\n",
    "# !git branch"
   ]
  },
  {
   "cell_type": "code",
   "execution_count": 5,
   "metadata": {},
   "outputs": [],
   "source": [
    "# Switch for to Model_01 branch\n",
    "# !git checkout -f Model_01"
   ]
  },
  {
   "cell_type": "code",
   "execution_count": 6,
   "metadata": {
    "id": "JnknGBYoiJZ2"
   },
   "outputs": [],
   "source": [
    "# Load the used classes\n",
    "from modules_otft._imports import *\n",
    "from modules_otft._read_data import ReadData\n",
    "from modules_otft._model import TFTModel\n",
    "from modules_otft._grafics import  TFTGraphicsPlot\n",
    "from modules_otft._menu import TFTMenu\n",
    "\n",
    "# from modules_otft._global_vars import *\n",
    "from modules_otft._config import *\n",
    "from modules_otft._utils import *\n"
   ]
  },
  {
   "cell_type": "markdown",
   "metadata": {
    "id": "-m6XG_odMgoL"
   },
   "source": [
    "---\n",
    "## **Instantiating the used classes**\n",
    "---\n"
   ]
  },
  {
   "cell_type": "code",
   "execution_count": 7,
   "metadata": {
    "id": "pXJi9KefNXnl"
   },
   "outputs": [],
   "source": [
    "plot = TFTGraphicsPlot()\n",
    "menu = TFTMenu()\n",
    "read = ReadData()"
   ]
  },
  {
   "cell_type": "markdown",
   "metadata": {
    "id": "G0y8r9ATMVuR"
   },
   "source": [
    "---\n",
    "## **Loading sample data** 📚\n",
    "\n",
    "\n",
    "---\n",
    "\n"
   ]
  },
  {
   "cell_type": "code",
   "execution_count": 8,
   "metadata": {
    "cellView": "form",
    "colab": {
     "base_uri": "https://localhost:8080/"
    },
    "executionInfo": {
     "elapsed": 18258,
     "status": "ok",
     "timestamp": 1730290019904,
     "user": {
      "displayName": "Rodrigo Santos Batista",
      "userId": "10844009603124520931"
     },
     "user_tz": 180
    },
    "id": "zojCEe15uAiJ",
    "outputId": "12bc9236-bf6a-4332-e963-aff864b66c58"
   },
   "outputs": [
    {
     "name": "stdout",
     "output_type": "stream",
     "text": [
      "--------------------------------------------------------------------------------------------------------------------------------------------------------------------------------------------------------\n",
      "--------------------------------------------------------------------------------------------------------------------------------------------------------------------------------------------------------\n",
      "\n",
      "\n",
      "___________________________________________________________________________________ SETTINGS PRESENT IN THE JSON FILE:___________________________________________________________________________________\n",
      "\n",
      "| path: /home/rsb6/Desktop/Artigo JICS/Model_OTFT/datas/Fig1cd\n",
      "--------------------------------------------------------------------------------------------------------------------------------------------------------------------------------------------------------\n",
      "| experimental_data_scale_transfer: A\n",
      "--------------------------------------------------------------------------------------------------------------------------------------------------------------------------------------------------------\n",
      "| experimental_data_scale_output: uA\n",
      "--------------------------------------------------------------------------------------------------------------------------------------------------------------------------------------------------------\n",
      "| current_typic: uA\n",
      "--------------------------------------------------------------------------------------------------------------------------------------------------------------------------------------------------------\n",
      "| loaded_voltages: -5, -40, -20, -30, -40\n",
      "--------------------------------------------------------------------------------------------------------------------------------------------------------------------------------------------------------\n",
      "| curves_transfer: 2\n",
      "--------------------------------------------------------------------------------------------------------------------------------------------------------------------------------------------------------\n",
      "| type_curve_plot: logarithmic\n",
      "--------------------------------------------------------------------------------------------------------------------------------------------------------------------------------------------------------\n",
      "| type_read_data_exp: read interpolated data\n",
      "--------------------------------------------------------------------------------------------------------------------------------------------------------------------------------------------------------\n",
      "| shift_volt_data: 5, 5, 5\n",
      "--------------------------------------------------------------------------------------------------------------------------------------------------------------------------------------------------------\n",
      "| select_files: \n",
      "--------------------------------------------------------------------------------------------------------------------------------------------------------------------------------------------------------\n",
      "| resistance_scale: 1e4\n",
      "--------------------------------------------------------------------------------------------------------------------------------------------------------------------------------------------------------\n",
      "| current_carry: 1e-6\n",
      "--------------------------------------------------------------------------------------------------------------------------------------------------------------------------------------------------------\n",
      "| with_transistor: 0.1\n",
      "--------------------------------------------------------------------------------------------------------------------------------------------------------------------------------------------------------\n",
      "| type_of_transistor: pFET\n",
      "--------------------------------------------------------------------------------------------------------------------------------------------------------------------------------------------------------\n",
      "| loaded_parameters: {'VTHO': 8.57, 'DELTA': 0.0032, 'N': 57.4, 'L': 2.14, 'VGCRIT': 32.3, 'JTH': 4, 'RS': 20}\n",
      "--------------------------------------------------------------------------------------------------------------------------------------------------------------------------------------------------------\n",
      "| idleak_mode: more than one value idleak\n",
      "--------------------------------------------------------------------------------------------------------------------------------------------------------------------------------------------------------\n",
      "| loaded_idleak: 4e-10,  3e-9\n",
      "--------------------------------------------------------------------------------------------------------------------------------------------------------------------------------------------------------\n",
      "| image_size_width: None\n",
      "--------------------------------------------------------------------------------------------------------------------------------------------------------------------------------------------------------\n",
      "| image_size_height: None\n",
      "--------------------------------------------------------------------------------------------------------------------------------------------------------------------------------------------------------\n",
      "| upper_bounds: {'ub_VTHO': 12, 'ub_DELTA': 0.3, 'ub_N': 130, 'ub_L': 4.1, 'ub_VGCRIT': 80, 'ub_JTH': 10, 'ub_RS': 360}\n",
      "--------------------------------------------------------------------------------------------------------------------------------------------------------------------------------------------------------\n",
      "| lower_bounds: {'lb_VTHO': 8, 'lb_DELTA': 0, 'lb_N': 10, 'lb_L': 1, 'lb_VGCRIT': 10, 'lb_JTH': 0, 'lb_RS': 0}\n",
      "--------------------------------------------------------------------------------------------------------------------------------------------------------------------------------------------------------\n",
      "| default_bounds: no\n",
      "--------------------------------------------------------------------------------------------------------------------------------------------------------------------------------------------------------\n",
      "| optimization_method: trf\n",
      "--------------------------------------------------------------------------------------------------------------------------------------------------------------------------------------------------------\n",
      "| tolerance_factor: 4e-7\n",
      "--------------------------------------------------------------------------------------------------------------------------------------------------------------------------------------------------------\n",
      "\n",
      "\n",
      "Shift value    : [5, 5, 5]\n",
      "\n",
      "List volt shift: [-5, -40, -25, -35, -45]\n",
      "\n",
      "--------------------------------------------\n",
      "--------------------------------------------\n",
      "|                READ FILES                |\n",
      "--------------------------------------------\n",
      "--------------------------------------------\n",
      "|            transfer-5V.csv            |\n",
      "--------------------------------------------\n",
      "|             transfer-40V.csv             |\n",
      "--------------------------------------------\n",
      "|              output-20V.csv              |\n",
      "--------------------------------------------\n",
      "|              output-30V.csv              |\n",
      "--------------------------------------------\n",
      "|              output-40V.csv              |\n",
      "--------------------------------------------\n",
      "--------------------------------------------\n",
      "\n",
      "The table above shows all the files that were read in the directory, if you want to filter files so that only those that are of interest are read, do this by passing numbers that correspond to the order of the experiment curves,\n",
      "separated by ,. For example: 0:tranfer-5v , 3:output-40v and so on\n",
      "\n",
      "\n",
      "\n"
     ]
    },
    {
     "ename": "TypeError",
     "evalue": "eval() arg 1 must be a string, bytes or code object",
     "output_type": "error",
     "traceback": [
      "\u001b[0;31m---------------------------------------------------------------------------\u001b[0m",
      "\u001b[0;31mTypeError\u001b[0m                                 Traceback (most recent call last)",
      "Cell \u001b[0;32mIn[8], line 38\u001b[0m\n\u001b[1;32m     35\u001b[0m \u001b[38;5;28mprint\u001b[39m(\u001b[38;5;124m'\u001b[39m\u001b[38;5;124mseparated by ,. For example: 0:tranfer-5v , 3:output-40v and so on\u001b[39m\u001b[38;5;124m'\u001b[39m)\n\u001b[1;32m     36\u001b[0m \u001b[38;5;28mprint\u001b[39m(\u001b[38;5;124m'\u001b[39m\u001b[38;5;130;01m\\n\u001b[39;00m\u001b[38;5;130;01m\\n\u001b[39;00m\u001b[38;5;124m'\u001b[39m)\n\u001b[0;32m---> 38\u001b[0m path_voltages, list_tension_shift, list_tension \u001b[38;5;241m=\u001b[39m \u001b[43mfilter_and_load_files\u001b[49m\u001b[43m(\u001b[49m\u001b[43mread\u001b[49m\u001b[43m,\u001b[49m\u001b[43m \u001b[49m\u001b[43msettings\u001b[49m\u001b[43m[\u001b[49m\u001b[38;5;124;43m'\u001b[39;49m\u001b[38;5;124;43mselect_files\u001b[39;49m\u001b[38;5;124;43m'\u001b[39;49m\u001b[43m]\u001b[49m\u001b[43m,\u001b[49m\u001b[43m \u001b[49m\u001b[43mlist_curves\u001b[49m\u001b[43m,\u001b[49m\u001b[43m \u001b[49m\u001b[43mlist_tension_shift\u001b[49m\u001b[43m,\u001b[49m\u001b[43m \u001b[49m\u001b[43mld_voltages\u001b[49m\u001b[43m,\u001b[49m\u001b[43m \u001b[49m\u001b[43msettings\u001b[49m\u001b[43m[\u001b[49m\u001b[38;5;124;43m'\u001b[39;49m\u001b[38;5;124;43mpath\u001b[39;49m\u001b[38;5;124;43m'\u001b[39;49m\u001b[43m]\u001b[49m\u001b[43m)\u001b[49m\n\u001b[1;32m     40\u001b[0m \u001b[38;5;28mprint\u001b[39m()\n\u001b[1;32m     42\u001b[0m \u001b[38;5;28mprint\u001b[39m(\u001b[38;5;124m\"\u001b[39m\u001b[38;5;124mList volt shift  : \u001b[39m\u001b[38;5;124m\"\u001b[39m \u001b[38;5;124mf\u001b[39m\u001b[38;5;124m'\u001b[39m\u001b[38;5;132;01m{\u001b[39;00mlist_tension_shift\u001b[38;5;132;01m}\u001b[39;00m\u001b[38;5;124m'\u001b[39m )\n",
      "File \u001b[0;32m~/Desktop/Artigo JICS/Model_OTFT/modules_otft/_utils.py:83\u001b[0m, in \u001b[0;36mfilter_and_load_files\u001b[0;34m(read, path, select_files, list_curves, list_tension_shift, ld_voltages)\u001b[0m\n\u001b[1;32m     81\u001b[0m \u001b[38;5;28;01melse\u001b[39;00m:\n\u001b[1;32m     82\u001b[0m     \u001b[38;5;28;01mtry\u001b[39;00m:\n\u001b[0;32m---> 83\u001b[0m         \u001b[38;5;28;01mif\u001b[39;00m \u001b[38;5;28misinstance\u001b[39m(\u001b[38;5;28;43meval\u001b[39;49m\u001b[43m(\u001b[49m\u001b[43mselect_files\u001b[49m\u001b[43m)\u001b[49m, \u001b[38;5;28mint\u001b[39m):\n\u001b[1;32m     84\u001b[0m             f_selection\u001b[38;5;241m.\u001b[39mappend(\u001b[38;5;28mint\u001b[39m(select_files))   \n\u001b[1;32m     85\u001b[0m         \u001b[38;5;28;01melif\u001b[39;00m \u001b[38;5;28mlen\u001b[39m(select_files) \u001b[38;5;241m>\u001b[39m \u001b[38;5;241m1\u001b[39m:\n",
      "\u001b[0;31mTypeError\u001b[0m: eval() arg 1 must be a string, bytes or code object"
     ]
    }
   ],
   "source": [
    "# @title ### **Load parameters local / remote directory.**\n",
    "# @markdown In this section, you can load the intrinsic parameters of the model you want to optimize. The load can be done locally, by choosing your `json` file containing all the values ​​to be loaded, parameters `Vtho, delta, n, l, lam, Vgcrit, Jth, Rs`\n",
    "\n",
    "# @markdown Note, also, that it is necessary to provide the respective values ​​of `resistance_scale`, `current_carry` and `with_transistor`, which are respectively: resistance values, current values ​​- where the transistor typically operates - and transistor width (associated technology). If you want to add a value other than the default, add it to the field. Remember that the values ​​in the `JTH` and `Rs` fields will be multiples of the values ​​defined in these fields and the value of `with_transistor` is in units of `[cm]`. So make sure you provide consistent values ​​so that the template output can also be consistent\n",
    "\n",
    "# @markdown ---\n",
    "\n",
    "# Read and show the path file Json\n",
    "settings = enter_with_json_file()\n",
    "print()\n",
    "print()\n",
    "\n",
    "ld_voltages = load_voltages(settings['loaded_voltages'])\n",
    "\n",
    "type_curve_plot = get_type_plot(settings['type_curve_plot'])\n",
    "\n",
    "shift_list = calculate_shift_list(settings['shift_volt_data'], ld_voltages, settings['curves_transfer'])\n",
    "\n",
    "list_tension_shift = get_shift_list(read, settings['curves_transfer'], shift_list, ld_voltages)\n",
    "\n",
    "path_voltages = read.read_files_experimental(settings['path'], list_tension_shift)\n",
    "\n",
    "Vv, Id, input_voltage, n_points, count_transfer, count_output = read.load_data(settings['type_read_data_exp'], path_voltages, settings['current_typic'], settings['experimental_data_scale_transfer'], settings['experimental_data_scale_output'], type_curve_plot)\n",
    "\n",
    "\n",
    "print(\"Shift value    : \" + f'{shift_list}')\n",
    "print()\n",
    "\n",
    "print(\"List volt shift: \" +  f'{list_tension_shift}')\n",
    "print()\n",
    "list_curves = menu.view_path_reads(path_voltages, list_tension_shift)\n",
    "\n",
    "print()\n",
    "print('The table above shows all the files that were read in the directory, if you want to filter files so that only those that are of interest are read, do this by passing numbers that correspond to the order of the experiment curves,')\n",
    "print('separated by ,. For example: 0:tranfer-5v , 3:output-40v and so on')\n",
    "print('\\n\\n')\n",
    "\n",
    "path_voltages, list_tension_shift, list_tension = filter_and_load_files(read, settings['select_files'], list_curves, list_tension_shift, ld_voltages, settings['path'])\n",
    "\n",
    "print()\n",
    "\n",
    "print(\"List volt shift  : \" f'{list_tension_shift}' )\n",
    "print(\"List tension     : \" f'{list_tension}' )\n",
    "print()\n",
    "_ = menu.view_path_reads(path_voltages, list_tension_shift)\n",
    "print('\\n\\n')\n",
    "\n",
    "\n",
    "tp_tst = get_transistor_type(settings['type_of_transistor'])\n",
    "resistance = get_resistance(settings['resistance_scale'])\n",
    "current = get_current(settings['current_carry'])\n",
    "width_t = get_transistor_width(settings['with_transistor'])\n",
    "load_parameters = load_coefficients(settings['loaded_parameters'])\n",
    "\n",
    "\n",
    "print()\n",
    "menu.print_values(load_parameters)\n",
    "print()\n",
    "\n",
    "mode_idleak, load_idleak = load_idleak_parameters(settings['idleak_mode'], settings['loaded_idleak'])"
   ]
  },
  {
   "cell_type": "code",
   "execution_count": null,
   "metadata": {
    "cellView": "form",
    "colab": {
     "base_uri": "https://localhost:8080/",
     "height": 1000
    },
    "executionInfo": {
     "elapsed": 505,
     "status": "ok",
     "timestamp": 1730290020406,
     "user": {
      "displayName": "Rodrigo Santos Batista",
      "userId": "10844009603124520931"
     },
     "user_tz": 180
    },
    "id": "q1VjR5eys3Bi",
    "outputId": "14606288-42a6-46ba-b23c-1ebea2f2f88e"
   },
   "outputs": [
    {
     "data": {
      "application/vnd.plotly.v1+json": {
       "config": {
        "plotlyServerURL": "https://plot.ly"
       },
       "data": [
        {
         "line": {
          "color": "rgb(255, 0, 0)",
          "dash": "dash"
         },
         "mode": "lines+text",
         "name": "<b>Model OVSED<b> <b>-2V<b>",
         "text": [
          "-2V"
         ],
         "textfont": {
          "color": "rgb(255, 0, 0)",
          "family": "Times New Roman",
          "size": 13
         },
         "textposition": "bottom center",
         "type": "scatter",
         "x": [
          -29.888,
          -29.15936585365854,
          -28.430731707317076,
          -27.70209756097561,
          -26.973463414634146,
          -26.244829268292683,
          -25.51619512195122,
          -24.787560975609757,
          -24.058926829268295,
          -23.33029268292683,
          -22.60165853658537,
          -21.873024390243906,
          -21.14439024390244,
          -20.415756097560976,
          -19.687121951219513,
          -18.958487804878047,
          -18.229853658536584,
          -17.50121951219512,
          -16.772585365853658,
          -16.043951219512195,
          -15.315317073170732,
          -14.586682926829267,
          -13.858048780487806,
          -13.12941463414634,
          -12.400780487804877,
          -11.672146341463414,
          -10.94351219512195,
          -10.214878048780488,
          -9.486243902439025,
          -8.757609756097558,
          -8.028975609756095,
          -7.300341463414632,
          -6.5717073170731695,
          -5.8430731707317065,
          -5.114439024390244,
          -4.385804878048781,
          -3.657170731707314,
          -2.928536585365851,
          -2.199902439024388,
          -1.4712682926829252,
          -0.7426341463414623,
          -0.014
         ],
         "y": [
          0.00022193219139642753,
          0.00021551482727417853,
          0.00020878937867503647,
          0.00020175193209106076,
          0.00019440117652118512,
          0.00018673894576836208,
          0.00017877080232098585,
          0.0001705066507132292,
          0.00016196136276132192,
          0.0001531553909026773,
          0.00014411533932644858,
          0.0001348744561470408,
          0.00012547300417767768,
          0.00011595846370357654,
          0.00010638551892835785,
          0.00009681578137742594,
          0.00008731720927515189,
          0.00007796319228508412,
          0.0000688312861007473,
          0.00006000160071773419,
          0.00005155486866984631,
          0.000043570243270353194,
          0.000036122899568830115,
          0.000029281529473487155,
          0.00002310583418231658,
          0.000017644118407658874,
          0.000012931078126380118,
          0.00000898584134347821,
          0.0000058102582906832746,
          0.0000033873108926166297,
          0.0000016792025331758592,
          6.236689042849713e-7,
          1.2261398309442994e-7,
          2.734517351852795e-9,
          2.5574881259668865e-14,
          1.0000025309000406e-14,
          1.0000000000044583e-14,
          1e-14,
          1e-14,
          1e-14,
          1e-14,
          1e-14
         ]
        },
        {
         "marker": {
          "color": "rgb(255, 0, 0)",
          "line": {
           "color": "MediumPurple",
           "width": 0.8
          },
          "opacity": 0.5,
          "size": 11
         },
         "mode": "markers+text",
         "name": "<b>Exp <b> <b>-2V<b>",
         "text": [
          "<b>VDS<b>=-2V"
         ],
         "textfont": {
          "color": "rgb(255, 0, 0)",
          "family": "Times New Roman",
          "size": 18
         },
         "textposition": "top right",
         "type": "scatter",
         "x": [
          -29.888,
          -29.15936585365854,
          -28.430731707317076,
          -27.70209756097561,
          -26.973463414634146,
          -26.244829268292683,
          -25.51619512195122,
          -24.787560975609757,
          -24.058926829268295,
          -23.33029268292683,
          -22.60165853658537,
          -21.873024390243906,
          -21.14439024390244,
          -20.415756097560976,
          -19.687121951219513,
          -18.958487804878047,
          -18.229853658536584,
          -17.50121951219512,
          -16.772585365853658,
          -16.043951219512195,
          -15.315317073170732,
          -14.586682926829267,
          -13.858048780487806,
          -13.12941463414634,
          -12.400780487804877,
          -11.672146341463414,
          -10.94351219512195,
          -10.214878048780488,
          -9.486243902439025,
          -8.757609756097558,
          -8.028975609756095,
          -7.300341463414632,
          -6.5717073170731695,
          -5.8430731707317065,
          -5.114439024390244,
          -4.385804878048781,
          -3.657170731707314,
          -2.928536585365851,
          -2.199902439024388,
          -1.4712682926829252,
          -0.7426341463414623,
          -0.014
         ],
         "y": [
          0.00023209999999999992,
          0.00021661131986062715,
          0.00020966207340039492,
          0.00020351018091262002,
          0.0001947578187944042,
          0.00018472895311060465,
          0.00017936947478677234,
          0.00017478677464181322,
          0.00016261901384829168,
          0.00015558141206675223,
          0.00014825816275359013,
          0.00013969919984575344,
          0.00012817929239371449,
          0.00011944369537476228,
          0.00011099591104734579,
          0.00010028070301291242,
          0.00008866533276514673,
          0.00008162985403521988,
          0.00007516679562657702,
          0.00006278360446954218,
          0.00005398873634827356,
          0.00004570327092692329,
          0.000037532044008483556,
          0.000032003928419936354,
          0.00002564040594557072,
          0.00001961883925643805,
          0.000014423253089900825,
          0.000010497192607735323,
          0.000006944418438350227,
          0.000003946450447669026,
          0.000001880449830194499,
          7.006778628792364e-7,
          1.2109453479302532e-7,
          5.126243396694714e-11,
          3.088157149941635e-11,
          1.0500709031885492e-11,
          1.4178390319297348e-14,
          1.6498256787850896e-14,
          2.1811786930510847e-14,
          2.1284092140921402e-14,
          1.8579332045399682e-14,
          1.6479999999999968e-14
         ]
        }
       ],
       "layout": {
        "height": 600,
        "legend": {
         "font": {
          "size": 16
         }
        },
        "template": {
         "data": {
          "bar": [
           {
            "error_x": {
             "color": "#2a3f5f"
            },
            "error_y": {
             "color": "#2a3f5f"
            },
            "marker": {
             "line": {
              "color": "#E5ECF6",
              "width": 0.5
             },
             "pattern": {
              "fillmode": "overlay",
              "size": 10,
              "solidity": 0.2
             }
            },
            "type": "bar"
           }
          ],
          "barpolar": [
           {
            "marker": {
             "line": {
              "color": "#E5ECF6",
              "width": 0.5
             },
             "pattern": {
              "fillmode": "overlay",
              "size": 10,
              "solidity": 0.2
             }
            },
            "type": "barpolar"
           }
          ],
          "carpet": [
           {
            "aaxis": {
             "endlinecolor": "#2a3f5f",
             "gridcolor": "white",
             "linecolor": "white",
             "minorgridcolor": "white",
             "startlinecolor": "#2a3f5f"
            },
            "baxis": {
             "endlinecolor": "#2a3f5f",
             "gridcolor": "white",
             "linecolor": "white",
             "minorgridcolor": "white",
             "startlinecolor": "#2a3f5f"
            },
            "type": "carpet"
           }
          ],
          "choropleth": [
           {
            "colorbar": {
             "outlinewidth": 0,
             "ticks": ""
            },
            "type": "choropleth"
           }
          ],
          "contour": [
           {
            "colorbar": {
             "outlinewidth": 0,
             "ticks": ""
            },
            "colorscale": [
             [
              0,
              "#0d0887"
             ],
             [
              0.1111111111111111,
              "#46039f"
             ],
             [
              0.2222222222222222,
              "#7201a8"
             ],
             [
              0.3333333333333333,
              "#9c179e"
             ],
             [
              0.4444444444444444,
              "#bd3786"
             ],
             [
              0.5555555555555556,
              "#d8576b"
             ],
             [
              0.6666666666666666,
              "#ed7953"
             ],
             [
              0.7777777777777778,
              "#fb9f3a"
             ],
             [
              0.8888888888888888,
              "#fdca26"
             ],
             [
              1,
              "#f0f921"
             ]
            ],
            "type": "contour"
           }
          ],
          "contourcarpet": [
           {
            "colorbar": {
             "outlinewidth": 0,
             "ticks": ""
            },
            "type": "contourcarpet"
           }
          ],
          "heatmap": [
           {
            "colorbar": {
             "outlinewidth": 0,
             "ticks": ""
            },
            "colorscale": [
             [
              0,
              "#0d0887"
             ],
             [
              0.1111111111111111,
              "#46039f"
             ],
             [
              0.2222222222222222,
              "#7201a8"
             ],
             [
              0.3333333333333333,
              "#9c179e"
             ],
             [
              0.4444444444444444,
              "#bd3786"
             ],
             [
              0.5555555555555556,
              "#d8576b"
             ],
             [
              0.6666666666666666,
              "#ed7953"
             ],
             [
              0.7777777777777778,
              "#fb9f3a"
             ],
             [
              0.8888888888888888,
              "#fdca26"
             ],
             [
              1,
              "#f0f921"
             ]
            ],
            "type": "heatmap"
           }
          ],
          "heatmapgl": [
           {
            "colorbar": {
             "outlinewidth": 0,
             "ticks": ""
            },
            "colorscale": [
             [
              0,
              "#0d0887"
             ],
             [
              0.1111111111111111,
              "#46039f"
             ],
             [
              0.2222222222222222,
              "#7201a8"
             ],
             [
              0.3333333333333333,
              "#9c179e"
             ],
             [
              0.4444444444444444,
              "#bd3786"
             ],
             [
              0.5555555555555556,
              "#d8576b"
             ],
             [
              0.6666666666666666,
              "#ed7953"
             ],
             [
              0.7777777777777778,
              "#fb9f3a"
             ],
             [
              0.8888888888888888,
              "#fdca26"
             ],
             [
              1,
              "#f0f921"
             ]
            ],
            "type": "heatmapgl"
           }
          ],
          "histogram": [
           {
            "marker": {
             "pattern": {
              "fillmode": "overlay",
              "size": 10,
              "solidity": 0.2
             }
            },
            "type": "histogram"
           }
          ],
          "histogram2d": [
           {
            "colorbar": {
             "outlinewidth": 0,
             "ticks": ""
            },
            "colorscale": [
             [
              0,
              "#0d0887"
             ],
             [
              0.1111111111111111,
              "#46039f"
             ],
             [
              0.2222222222222222,
              "#7201a8"
             ],
             [
              0.3333333333333333,
              "#9c179e"
             ],
             [
              0.4444444444444444,
              "#bd3786"
             ],
             [
              0.5555555555555556,
              "#d8576b"
             ],
             [
              0.6666666666666666,
              "#ed7953"
             ],
             [
              0.7777777777777778,
              "#fb9f3a"
             ],
             [
              0.8888888888888888,
              "#fdca26"
             ],
             [
              1,
              "#f0f921"
             ]
            ],
            "type": "histogram2d"
           }
          ],
          "histogram2dcontour": [
           {
            "colorbar": {
             "outlinewidth": 0,
             "ticks": ""
            },
            "colorscale": [
             [
              0,
              "#0d0887"
             ],
             [
              0.1111111111111111,
              "#46039f"
             ],
             [
              0.2222222222222222,
              "#7201a8"
             ],
             [
              0.3333333333333333,
              "#9c179e"
             ],
             [
              0.4444444444444444,
              "#bd3786"
             ],
             [
              0.5555555555555556,
              "#d8576b"
             ],
             [
              0.6666666666666666,
              "#ed7953"
             ],
             [
              0.7777777777777778,
              "#fb9f3a"
             ],
             [
              0.8888888888888888,
              "#fdca26"
             ],
             [
              1,
              "#f0f921"
             ]
            ],
            "type": "histogram2dcontour"
           }
          ],
          "mesh3d": [
           {
            "colorbar": {
             "outlinewidth": 0,
             "ticks": ""
            },
            "type": "mesh3d"
           }
          ],
          "parcoords": [
           {
            "line": {
             "colorbar": {
              "outlinewidth": 0,
              "ticks": ""
             }
            },
            "type": "parcoords"
           }
          ],
          "pie": [
           {
            "automargin": true,
            "type": "pie"
           }
          ],
          "scatter": [
           {
            "fillpattern": {
             "fillmode": "overlay",
             "size": 10,
             "solidity": 0.2
            },
            "type": "scatter"
           }
          ],
          "scatter3d": [
           {
            "line": {
             "colorbar": {
              "outlinewidth": 0,
              "ticks": ""
             }
            },
            "marker": {
             "colorbar": {
              "outlinewidth": 0,
              "ticks": ""
             }
            },
            "type": "scatter3d"
           }
          ],
          "scattercarpet": [
           {
            "marker": {
             "colorbar": {
              "outlinewidth": 0,
              "ticks": ""
             }
            },
            "type": "scattercarpet"
           }
          ],
          "scattergeo": [
           {
            "marker": {
             "colorbar": {
              "outlinewidth": 0,
              "ticks": ""
             }
            },
            "type": "scattergeo"
           }
          ],
          "scattergl": [
           {
            "marker": {
             "colorbar": {
              "outlinewidth": 0,
              "ticks": ""
             }
            },
            "type": "scattergl"
           }
          ],
          "scattermapbox": [
           {
            "marker": {
             "colorbar": {
              "outlinewidth": 0,
              "ticks": ""
             }
            },
            "type": "scattermapbox"
           }
          ],
          "scatterpolar": [
           {
            "marker": {
             "colorbar": {
              "outlinewidth": 0,
              "ticks": ""
             }
            },
            "type": "scatterpolar"
           }
          ],
          "scatterpolargl": [
           {
            "marker": {
             "colorbar": {
              "outlinewidth": 0,
              "ticks": ""
             }
            },
            "type": "scatterpolargl"
           }
          ],
          "scatterternary": [
           {
            "marker": {
             "colorbar": {
              "outlinewidth": 0,
              "ticks": ""
             }
            },
            "type": "scatterternary"
           }
          ],
          "surface": [
           {
            "colorbar": {
             "outlinewidth": 0,
             "ticks": ""
            },
            "colorscale": [
             [
              0,
              "#0d0887"
             ],
             [
              0.1111111111111111,
              "#46039f"
             ],
             [
              0.2222222222222222,
              "#7201a8"
             ],
             [
              0.3333333333333333,
              "#9c179e"
             ],
             [
              0.4444444444444444,
              "#bd3786"
             ],
             [
              0.5555555555555556,
              "#d8576b"
             ],
             [
              0.6666666666666666,
              "#ed7953"
             ],
             [
              0.7777777777777778,
              "#fb9f3a"
             ],
             [
              0.8888888888888888,
              "#fdca26"
             ],
             [
              1,
              "#f0f921"
             ]
            ],
            "type": "surface"
           }
          ],
          "table": [
           {
            "cells": {
             "fill": {
              "color": "#EBF0F8"
             },
             "line": {
              "color": "white"
             }
            },
            "header": {
             "fill": {
              "color": "#C8D4E3"
             },
             "line": {
              "color": "white"
             }
            },
            "type": "table"
           }
          ]
         },
         "layout": {
          "annotationdefaults": {
           "arrowcolor": "#2a3f5f",
           "arrowhead": 0,
           "arrowwidth": 1
          },
          "autotypenumbers": "strict",
          "coloraxis": {
           "colorbar": {
            "outlinewidth": 0,
            "ticks": ""
           }
          },
          "colorscale": {
           "diverging": [
            [
             0,
             "#8e0152"
            ],
            [
             0.1,
             "#c51b7d"
            ],
            [
             0.2,
             "#de77ae"
            ],
            [
             0.3,
             "#f1b6da"
            ],
            [
             0.4,
             "#fde0ef"
            ],
            [
             0.5,
             "#f7f7f7"
            ],
            [
             0.6,
             "#e6f5d0"
            ],
            [
             0.7,
             "#b8e186"
            ],
            [
             0.8,
             "#7fbc41"
            ],
            [
             0.9,
             "#4d9221"
            ],
            [
             1,
             "#276419"
            ]
           ],
           "sequential": [
            [
             0,
             "#0d0887"
            ],
            [
             0.1111111111111111,
             "#46039f"
            ],
            [
             0.2222222222222222,
             "#7201a8"
            ],
            [
             0.3333333333333333,
             "#9c179e"
            ],
            [
             0.4444444444444444,
             "#bd3786"
            ],
            [
             0.5555555555555556,
             "#d8576b"
            ],
            [
             0.6666666666666666,
             "#ed7953"
            ],
            [
             0.7777777777777778,
             "#fb9f3a"
            ],
            [
             0.8888888888888888,
             "#fdca26"
            ],
            [
             1,
             "#f0f921"
            ]
           ],
           "sequentialminus": [
            [
             0,
             "#0d0887"
            ],
            [
             0.1111111111111111,
             "#46039f"
            ],
            [
             0.2222222222222222,
             "#7201a8"
            ],
            [
             0.3333333333333333,
             "#9c179e"
            ],
            [
             0.4444444444444444,
             "#bd3786"
            ],
            [
             0.5555555555555556,
             "#d8576b"
            ],
            [
             0.6666666666666666,
             "#ed7953"
            ],
            [
             0.7777777777777778,
             "#fb9f3a"
            ],
            [
             0.8888888888888888,
             "#fdca26"
            ],
            [
             1,
             "#f0f921"
            ]
           ]
          },
          "colorway": [
           "#636efa",
           "#EF553B",
           "#00cc96",
           "#ab63fa",
           "#FFA15A",
           "#19d3f3",
           "#FF6692",
           "#B6E880",
           "#FF97FF",
           "#FECB52"
          ],
          "font": {
           "color": "#2a3f5f"
          },
          "geo": {
           "bgcolor": "white",
           "lakecolor": "white",
           "landcolor": "#E5ECF6",
           "showlakes": true,
           "showland": true,
           "subunitcolor": "white"
          },
          "hoverlabel": {
           "align": "left"
          },
          "hovermode": "closest",
          "mapbox": {
           "style": "light"
          },
          "paper_bgcolor": "white",
          "plot_bgcolor": "#E5ECF6",
          "polar": {
           "angularaxis": {
            "gridcolor": "white",
            "linecolor": "white",
            "ticks": ""
           },
           "bgcolor": "#E5ECF6",
           "radialaxis": {
            "gridcolor": "white",
            "linecolor": "white",
            "ticks": ""
           }
          },
          "scene": {
           "xaxis": {
            "backgroundcolor": "#E5ECF6",
            "gridcolor": "white",
            "gridwidth": 2,
            "linecolor": "white",
            "showbackground": true,
            "ticks": "",
            "zerolinecolor": "white"
           },
           "yaxis": {
            "backgroundcolor": "#E5ECF6",
            "gridcolor": "white",
            "gridwidth": 2,
            "linecolor": "white",
            "showbackground": true,
            "ticks": "",
            "zerolinecolor": "white"
           },
           "zaxis": {
            "backgroundcolor": "#E5ECF6",
            "gridcolor": "white",
            "gridwidth": 2,
            "linecolor": "white",
            "showbackground": true,
            "ticks": "",
            "zerolinecolor": "white"
           }
          },
          "shapedefaults": {
           "line": {
            "color": "#2a3f5f"
           }
          },
          "ternary": {
           "aaxis": {
            "gridcolor": "white",
            "linecolor": "white",
            "ticks": ""
           },
           "baxis": {
            "gridcolor": "white",
            "linecolor": "white",
            "ticks": ""
           },
           "bgcolor": "#E5ECF6",
           "caxis": {
            "gridcolor": "white",
            "linecolor": "white",
            "ticks": ""
           }
          },
          "title": {
           "x": 0.05
          },
          "xaxis": {
           "automargin": true,
           "gridcolor": "white",
           "linecolor": "white",
           "ticks": "",
           "title": {
            "standoff": 15
           },
           "zerolinecolor": "white",
           "zerolinewidth": 2
          },
          "yaxis": {
           "automargin": true,
           "gridcolor": "white",
           "linecolor": "white",
           "ticks": "",
           "title": {
            "standoff": 15
           },
           "zerolinecolor": "white",
           "zerolinewidth": 2
          }
         }
        },
        "title": {
         "font": {
          "color": "black",
          "family": "Overpass",
          "size": 25
         },
         "text": "<b>Experimental Datas Vs Model<b>",
         "x": 0.45,
         "y": 0.9
        },
        "width": 1100,
        "xaxis": {
         "title": {
          "font": {
           "color": "black",
           "family": "Overpass",
           "size": 25
          },
          "standoff": 25,
          "text": "<b>VGS / V<b>"
         }
        },
        "yaxis": {
         "title": {
          "font": {
           "color": "black",
           "family": "Overpass",
           "size": 25
          },
          "standoff": 10,
          "text": "<b>|ID| / A<b>"
         },
         "type": "log"
        }
       }
      }
     },
     "metadata": {},
     "output_type": "display_data"
    },
    {
     "name": "stdout",
     "output_type": "stream",
     "text": [
      "\n"
     ]
    },
    {
     "data": {
      "application/vnd.plotly.v1+json": {
       "config": {
        "plotlyServerURL": "https://plot.ly"
       },
       "data": [
        {
         "line": {
          "color": "rgb(255, 0, 0)",
          "dash": "dash"
         },
         "mode": "lines+text",
         "name": "<b>Model OVSED<b> <b>-8V<b>",
         "text": [
          "-8V"
         ],
         "textfont": {
          "color": "rgb(255, 0, 0)",
          "family": "Times New Roman",
          "size": 13
         },
         "textposition": "bottom center",
         "type": "scatter",
         "x": [
          -19.916,
          -19.469,
          -18.943,
          -18.471,
          -17.947,
          -17.457,
          -16.966,
          -16.458,
          -15.921,
          -15.438,
          -14.93,
          -14.458,
          -13.97,
          -13.475,
          -12.975,
          -12.476,
          -11.962,
          -11.447,
          -10.945,
          -10.441,
          -9.985,
          -9.425,
          -8.958,
          -8.45,
          -7.956,
          -7.494,
          -6.961,
          -6.468,
          -5.974,
          -5.472,
          -4.977,
          -4.475,
          -3.964,
          -3.465,
          -2.984,
          -2.478,
          -2.001,
          -1.48,
          -1.029,
          -0.573,
          0.0005882,
          0.0005882
         ],
         "y": [
          -249.1781471761114,
          -249.15031954220035,
          -249.09463482924062,
          -249.0195469655525,
          -248.90281622267764,
          -248.7557845074384,
          -248.56466321792985,
          -248.31208885802354,
          -247.9727724351381,
          -247.5921075147464,
          -247.10029901668648,
          -246.54468168964823,
          -245.8531405180354,
          -245.00975818951366,
          -243.98856452927498,
          -242.77197792702884,
          -241.27926188172015,
          -239.50119866902094,
          -237.45419795931346,
          -235.0416916696098,
          -232.50881097728586,
          -228.88194339754278,
          -225.36792959053466,
          -220.97814500132094,
          -216.08011634808787,
          -210.88029540863732,
          -204.06565927171502,
          -196.91447821033583,
          -188.86248100091635,
          -179.70294671438188,
          -169.64111867258902,
          -158.32853089078466,
          -145.60416526661567,
          -131.94509944429615,
          -117.57769377126228,
          -101.14634595676458,
          -84.3836592984266,
          -64.62724073987125,
          -46.28017107878452,
          -26.53575128555407,
          -0.028151650391182195,
          -0.028151650391182195
         ]
        },
        {
         "line": {
          "color": "rgb(0, 0, 255)",
          "dash": "dash"
         },
         "mode": "lines+text",
         "name": "<b>Model OVSED<b> <b>-16V<b>",
         "text": [
          "-16V"
         ],
         "textfont": {
          "color": "rgb(0, 0, 255)",
          "family": "Times New Roman",
          "size": 13
         },
         "textposition": "bottom center",
         "type": "scatter",
         "x": [
          -19.879,
          -19.437,
          -18.928,
          -18.493,
          -17.977,
          -17.46,
          -16.958,
          -16.44,
          -15.959,
          -15.432,
          -14.966,
          -14.42,
          -13.951,
          -13.414,
          -12.947,
          -12.464,
          -11.941,
          -11.477,
          -10.959,
          -10.462,
          -9.986,
          -9.456,
          -8.986,
          -8.483,
          -7.984,
          -7.515,
          -7.004,
          -6.505,
          -5.998,
          -5.487,
          -5.02,
          -4.475,
          -3.998,
          -3.513,
          -3.046,
          -2.485,
          -2.048,
          -1.567,
          -1.113,
          -0.78,
          -0.459,
          -0.069
         ],
         "y": [
          -867.6447773428413,
          -865.0402753948963,
          -861.669486607697,
          -858.4429947483542,
          -854.161395379779,
          -849.3291674797686,
          -844.0669633617227,
          -837.992888469894,
          -831.7156207199017,
          -824.0740654232694,
          -816.5998826518797,
          -806.92057164305,
          -797.756902008357,
          -786.2350773780307,
          -775.2680052306364,
          -762.9461966469154,
          -748.4239036887183,
          -734.4646515949461,
          -717.6345666923918,
          -700.2033134063848,
          -682.2893987574529,
          -660.8965121745659,
          -640.6165893066625,
          -617.518414096873,
          -593.1524113645589,
          -568.9127056158621,
          -541.007212995603,
          -512.2380443427588,
          -481.4598593746485,
          -448.8537820646975,
          -417.66147787266766,
          -379.57759611161924,
          -344.7634375323575,
          -307.9540619301819,
          -271.1747012710652,
          -225.27391591497272,
          -188.2320987668983,
          -146.17276423031586,
          -105.25076762750808,
          -74.48879258659522,
          -44.243821410526216,
          -6.720115071493845
         ]
        },
        {
         "line": {
          "color": "rgb(30, 144, 255)",
          "dash": "dash"
         },
         "mode": "lines+text",
         "name": "<b>Model OVSED<b> <b>-20V<b>",
         "text": [
          "-20V"
         ],
         "textfont": {
          "color": "rgb(30, 144, 255)",
          "family": "Times New Roman",
          "size": 13
         },
         "textposition": "bottom center",
         "type": "scatter",
         "x": [
          -19.924,
          -19.507,
          -18.951,
          -18.431,
          -18.011,
          -17.522,
          -16.955,
          -16.479,
          -15.968,
          -15.44,
          -15.011,
          -14.456,
          -13.968,
          -13.469,
          -12.954,
          -12.457,
          -11.964,
          -11.439,
          -10.941,
          -10.464,
          -10.003,
          -9.482,
          -8.946,
          -8.506,
          -7.95,
          -7.536,
          -7.007,
          -6.486,
          -6.005,
          -5.496,
          -4.963,
          -4.461,
          -3.989,
          -3.457,
          -2.986,
          -2.489,
          -1.993,
          -1.46,
          -1.07,
          -0.823,
          -0.464,
          -0.019
         ],
         "y": [
          -1274.6320997447915,
          -1267.7710879448289,
          -1257.7651194938799,
          -1247.4612598962929,
          -1238.430078856772,
          -1227.0726318781935,
          -1212.7074051675006,
          -1199.6042702381737,
          -1184.4260841021953,
          -1167.48146969424,
          -1152.7337855663263,
          -1132.3043742613888,
          -1113.0438245115354,
          -1092.0576272582225,
          -1068.9958125652397,
          -1045.3605960577308,
          -1020.5533962997357,
          -992.6226941607591,
          -964.6693975147756,
          -936.5516605549066,
          -908.1212941708155,
          -874.5001697270333,
          -838.259176710693,
          -807.258772706701,
          -766.4791650863546,
          -734.9557259974657,
          -693.2470039004895,
          -650.6162519580777,
          -609.9055105951079,
          -565.4278988851659,
          -517.3349442144805,
          -470.6409953786208,
          -425.52076512300096,
          -373.276146850776,
          -325.81616315241246,
          -274.53240100859136,
          -222.14403162602392,
          -164.5320293643455,
          -121.53159550135597,
          -93.93512388464701,
          -53.33081703248579,
          -2.2002879228951135
         ]
        },
        {
         "marker": {
          "color": "rgb(255, 0, 0)",
          "line": {
           "color": "MediumPurple",
           "width": 0.8
          },
          "opacity": 0.5,
          "size": 11
         },
         "mode": "markers+text",
         "name": "<b>Exp <b> <b>-18V<b> <b> (-10V)<b>",
         "text": [
          "<b>VGS<b>=-8V  (-10)"
         ],
         "textfont": {
          "color": "rgb(255, 0, 0)",
          "family": "Times New Roman",
          "size": 18
         },
         "textposition": "top right",
         "type": "scatter",
         "x": [
          -19.916,
          -19.469,
          -18.943,
          -18.471,
          -17.947,
          -17.457,
          -16.966,
          -16.458,
          -15.921,
          -15.438,
          -14.93,
          -14.458,
          -13.97,
          -13.475,
          -12.975,
          -12.476,
          -11.962,
          -11.447,
          -10.945,
          -10.441,
          -9.985,
          -9.425,
          -8.958,
          -8.45,
          -7.956,
          -7.494,
          -6.961,
          -6.468,
          -5.974,
          -5.472,
          -4.977,
          -4.475,
          -3.964,
          -3.465,
          -2.984,
          -2.478,
          -2.001,
          -1.48,
          -1.029,
          -0.573,
          0.0005882,
          0.0005882
         ],
         "y": [
          -267.00000000000006,
          -264.00000000000006,
          -263.00000000000006,
          -261.00000000000006,
          -265.00000000000006,
          -260.00000000000006,
          -261.00000000000006,
          -257.00000000000006,
          -257.00000000000006,
          -255.00000000000003,
          -255.00000000000003,
          -253.00000000000003,
          -251.00000000000003,
          -249.00000000000003,
          -249.00000000000003,
          -246.00000000000003,
          -243.00000000000003,
          -244.00000000000003,
          -237.00000000000003,
          -234.00000000000003,
          -230.00000000000003,
          -226.00000000000003,
          -222.00000000000003,
          -220.00000000000003,
          -213.00000000000003,
          -205,
          -198.00000000000003,
          -192.00000000000003,
          -182.00000000000003,
          -173,
          -164.00000000000003,
          -151,
          -137.00000000000003,
          -123.00000000000001,
          -109.00000000000001,
          -88,
          -77.00000000000001,
          -57.00000000000001,
          -43,
          -29.000000000000004,
          0.30430000000000007,
          0.30430000000000007
         ]
        },
        {
         "marker": {
          "color": "rgb(0, 0, 255)",
          "line": {
           "color": "MediumPurple",
           "width": 0.8
          },
          "opacity": 0.5,
          "size": 11
         },
         "mode": "markers+text",
         "name": "<b>Exp <b> <b>-26V<b> <b> (-10V)<b>",
         "text": [
          "<b>VGS<b>=-16V  (-10)"
         ],
         "textfont": {
          "color": "rgb(0, 0, 255)",
          "family": "Times New Roman",
          "size": 18
         },
         "textposition": "top right",
         "type": "scatter",
         "x": [
          -19.879,
          -19.437,
          -18.928,
          -18.493,
          -17.977,
          -17.46,
          -16.958,
          -16.44,
          -15.959,
          -15.432,
          -14.966,
          -14.42,
          -13.951,
          -13.414,
          -12.947,
          -12.464,
          -11.941,
          -11.477,
          -10.959,
          -10.462,
          -9.986,
          -9.456,
          -8.986,
          -8.483,
          -7.984,
          -7.515,
          -7.004,
          -6.505,
          -5.998,
          -5.487,
          -5.02,
          -4.475,
          -3.998,
          -3.513,
          -3.046,
          -2.485,
          -2.048,
          -1.567,
          -1.113,
          -0.78,
          -0.459,
          -0.069
         ],
         "y": [
          -917.0000000000001,
          -911.0000000000001,
          -905.0000000000001,
          -900.0000000000001,
          -892.0000000000001,
          -882.0000000000001,
          -875.0000000000001,
          -868.0000000000001,
          -856.0000000000001,
          -848.0000000000001,
          -835.0000000000001,
          -826,
          -812.0000000000001,
          -797.0000000000001,
          -785.0000000000001,
          -770.0000000000001,
          -751.0000000000001,
          -734.0000000000001,
          -713,
          -694,
          -672.0000000000001,
          -648.0000000000001,
          -627.0000000000001,
          -602,
          -579,
          -553.0000000000001,
          -522.0000000000001,
          -490.00000000000006,
          -460.00000000000006,
          -426.00000000000006,
          -394.00000000000006,
          -357,
          -320.00000000000006,
          -286,
          -251.00000000000003,
          -204,
          -166.00000000000003,
          -138.00000000000003,
          -106.00000000000001,
          -73,
          -44,
          -5.000000000000001
         ]
        },
        {
         "marker": {
          "color": "rgb(30, 144, 255)",
          "line": {
           "color": "MediumPurple",
           "width": 0.8
          },
          "opacity": 0.5,
          "size": 11
         },
         "mode": "markers+text",
         "name": "<b>Exp <b> <b>-30V<b> <b> (-10V)<b>",
         "text": [
          "<b>VGS<b>=-20V  (-10)"
         ],
         "textfont": {
          "color": "rgb(30, 144, 255)",
          "family": "Times New Roman",
          "size": 18
         },
         "textposition": "top right",
         "type": "scatter",
         "x": [
          -19.924,
          -19.507,
          -18.951,
          -18.431,
          -18.011,
          -17.522,
          -16.955,
          -16.479,
          -15.968,
          -15.44,
          -15.011,
          -14.456,
          -13.968,
          -13.469,
          -12.954,
          -12.457,
          -11.964,
          -11.439,
          -10.941,
          -10.464,
          -10.003,
          -9.482,
          -8.946,
          -8.506,
          -7.95,
          -7.536,
          -7.007,
          -6.486,
          -6.005,
          -5.496,
          -4.963,
          -4.461,
          -3.989,
          -3.457,
          -2.986,
          -2.489,
          -1.993,
          -1.46,
          -1.07,
          -0.823,
          -0.464,
          -0.019
         ],
         "y": [
          -1299,
          -1284.0000000000002,
          -1269,
          -1258.0000000000002,
          -1244.0000000000002,
          -1230.0000000000002,
          -1220,
          -1202,
          -1184,
          -1168,
          -1150,
          -1132,
          -1108.0000000000002,
          -1085,
          -1059,
          -1038.0000000000002,
          -1009,
          -983.0000000000001,
          -957.0000000000001,
          -923.0000000000001,
          -892.0000000000001,
          -860.0000000000001,
          -825,
          -790.0000000000001,
          -749.0000000000001,
          -712,
          -674.0000000000001,
          -631.0000000000001,
          -590,
          -543.0000000000001,
          -497.00000000000006,
          -448.00000000000006,
          -405.00000000000006,
          -357,
          -305,
          -257.00000000000006,
          -204,
          -159.00000000000003,
          -128.00000000000003,
          -105.00000000000001,
          -59.00000000000001,
          -4.000000000000001
         ]
        }
       ],
       "layout": {
        "height": 600,
        "legend": {
         "font": {
          "size": 16
         }
        },
        "template": {
         "data": {
          "bar": [
           {
            "error_x": {
             "color": "#2a3f5f"
            },
            "error_y": {
             "color": "#2a3f5f"
            },
            "marker": {
             "line": {
              "color": "#E5ECF6",
              "width": 0.5
             },
             "pattern": {
              "fillmode": "overlay",
              "size": 10,
              "solidity": 0.2
             }
            },
            "type": "bar"
           }
          ],
          "barpolar": [
           {
            "marker": {
             "line": {
              "color": "#E5ECF6",
              "width": 0.5
             },
             "pattern": {
              "fillmode": "overlay",
              "size": 10,
              "solidity": 0.2
             }
            },
            "type": "barpolar"
           }
          ],
          "carpet": [
           {
            "aaxis": {
             "endlinecolor": "#2a3f5f",
             "gridcolor": "white",
             "linecolor": "white",
             "minorgridcolor": "white",
             "startlinecolor": "#2a3f5f"
            },
            "baxis": {
             "endlinecolor": "#2a3f5f",
             "gridcolor": "white",
             "linecolor": "white",
             "minorgridcolor": "white",
             "startlinecolor": "#2a3f5f"
            },
            "type": "carpet"
           }
          ],
          "choropleth": [
           {
            "colorbar": {
             "outlinewidth": 0,
             "ticks": ""
            },
            "type": "choropleth"
           }
          ],
          "contour": [
           {
            "colorbar": {
             "outlinewidth": 0,
             "ticks": ""
            },
            "colorscale": [
             [
              0,
              "#0d0887"
             ],
             [
              0.1111111111111111,
              "#46039f"
             ],
             [
              0.2222222222222222,
              "#7201a8"
             ],
             [
              0.3333333333333333,
              "#9c179e"
             ],
             [
              0.4444444444444444,
              "#bd3786"
             ],
             [
              0.5555555555555556,
              "#d8576b"
             ],
             [
              0.6666666666666666,
              "#ed7953"
             ],
             [
              0.7777777777777778,
              "#fb9f3a"
             ],
             [
              0.8888888888888888,
              "#fdca26"
             ],
             [
              1,
              "#f0f921"
             ]
            ],
            "type": "contour"
           }
          ],
          "contourcarpet": [
           {
            "colorbar": {
             "outlinewidth": 0,
             "ticks": ""
            },
            "type": "contourcarpet"
           }
          ],
          "heatmap": [
           {
            "colorbar": {
             "outlinewidth": 0,
             "ticks": ""
            },
            "colorscale": [
             [
              0,
              "#0d0887"
             ],
             [
              0.1111111111111111,
              "#46039f"
             ],
             [
              0.2222222222222222,
              "#7201a8"
             ],
             [
              0.3333333333333333,
              "#9c179e"
             ],
             [
              0.4444444444444444,
              "#bd3786"
             ],
             [
              0.5555555555555556,
              "#d8576b"
             ],
             [
              0.6666666666666666,
              "#ed7953"
             ],
             [
              0.7777777777777778,
              "#fb9f3a"
             ],
             [
              0.8888888888888888,
              "#fdca26"
             ],
             [
              1,
              "#f0f921"
             ]
            ],
            "type": "heatmap"
           }
          ],
          "heatmapgl": [
           {
            "colorbar": {
             "outlinewidth": 0,
             "ticks": ""
            },
            "colorscale": [
             [
              0,
              "#0d0887"
             ],
             [
              0.1111111111111111,
              "#46039f"
             ],
             [
              0.2222222222222222,
              "#7201a8"
             ],
             [
              0.3333333333333333,
              "#9c179e"
             ],
             [
              0.4444444444444444,
              "#bd3786"
             ],
             [
              0.5555555555555556,
              "#d8576b"
             ],
             [
              0.6666666666666666,
              "#ed7953"
             ],
             [
              0.7777777777777778,
              "#fb9f3a"
             ],
             [
              0.8888888888888888,
              "#fdca26"
             ],
             [
              1,
              "#f0f921"
             ]
            ],
            "type": "heatmapgl"
           }
          ],
          "histogram": [
           {
            "marker": {
             "pattern": {
              "fillmode": "overlay",
              "size": 10,
              "solidity": 0.2
             }
            },
            "type": "histogram"
           }
          ],
          "histogram2d": [
           {
            "colorbar": {
             "outlinewidth": 0,
             "ticks": ""
            },
            "colorscale": [
             [
              0,
              "#0d0887"
             ],
             [
              0.1111111111111111,
              "#46039f"
             ],
             [
              0.2222222222222222,
              "#7201a8"
             ],
             [
              0.3333333333333333,
              "#9c179e"
             ],
             [
              0.4444444444444444,
              "#bd3786"
             ],
             [
              0.5555555555555556,
              "#d8576b"
             ],
             [
              0.6666666666666666,
              "#ed7953"
             ],
             [
              0.7777777777777778,
              "#fb9f3a"
             ],
             [
              0.8888888888888888,
              "#fdca26"
             ],
             [
              1,
              "#f0f921"
             ]
            ],
            "type": "histogram2d"
           }
          ],
          "histogram2dcontour": [
           {
            "colorbar": {
             "outlinewidth": 0,
             "ticks": ""
            },
            "colorscale": [
             [
              0,
              "#0d0887"
             ],
             [
              0.1111111111111111,
              "#46039f"
             ],
             [
              0.2222222222222222,
              "#7201a8"
             ],
             [
              0.3333333333333333,
              "#9c179e"
             ],
             [
              0.4444444444444444,
              "#bd3786"
             ],
             [
              0.5555555555555556,
              "#d8576b"
             ],
             [
              0.6666666666666666,
              "#ed7953"
             ],
             [
              0.7777777777777778,
              "#fb9f3a"
             ],
             [
              0.8888888888888888,
              "#fdca26"
             ],
             [
              1,
              "#f0f921"
             ]
            ],
            "type": "histogram2dcontour"
           }
          ],
          "mesh3d": [
           {
            "colorbar": {
             "outlinewidth": 0,
             "ticks": ""
            },
            "type": "mesh3d"
           }
          ],
          "parcoords": [
           {
            "line": {
             "colorbar": {
              "outlinewidth": 0,
              "ticks": ""
             }
            },
            "type": "parcoords"
           }
          ],
          "pie": [
           {
            "automargin": true,
            "type": "pie"
           }
          ],
          "scatter": [
           {
            "fillpattern": {
             "fillmode": "overlay",
             "size": 10,
             "solidity": 0.2
            },
            "type": "scatter"
           }
          ],
          "scatter3d": [
           {
            "line": {
             "colorbar": {
              "outlinewidth": 0,
              "ticks": ""
             }
            },
            "marker": {
             "colorbar": {
              "outlinewidth": 0,
              "ticks": ""
             }
            },
            "type": "scatter3d"
           }
          ],
          "scattercarpet": [
           {
            "marker": {
             "colorbar": {
              "outlinewidth": 0,
              "ticks": ""
             }
            },
            "type": "scattercarpet"
           }
          ],
          "scattergeo": [
           {
            "marker": {
             "colorbar": {
              "outlinewidth": 0,
              "ticks": ""
             }
            },
            "type": "scattergeo"
           }
          ],
          "scattergl": [
           {
            "marker": {
             "colorbar": {
              "outlinewidth": 0,
              "ticks": ""
             }
            },
            "type": "scattergl"
           }
          ],
          "scattermapbox": [
           {
            "marker": {
             "colorbar": {
              "outlinewidth": 0,
              "ticks": ""
             }
            },
            "type": "scattermapbox"
           }
          ],
          "scatterpolar": [
           {
            "marker": {
             "colorbar": {
              "outlinewidth": 0,
              "ticks": ""
             }
            },
            "type": "scatterpolar"
           }
          ],
          "scatterpolargl": [
           {
            "marker": {
             "colorbar": {
              "outlinewidth": 0,
              "ticks": ""
             }
            },
            "type": "scatterpolargl"
           }
          ],
          "scatterternary": [
           {
            "marker": {
             "colorbar": {
              "outlinewidth": 0,
              "ticks": ""
             }
            },
            "type": "scatterternary"
           }
          ],
          "surface": [
           {
            "colorbar": {
             "outlinewidth": 0,
             "ticks": ""
            },
            "colorscale": [
             [
              0,
              "#0d0887"
             ],
             [
              0.1111111111111111,
              "#46039f"
             ],
             [
              0.2222222222222222,
              "#7201a8"
             ],
             [
              0.3333333333333333,
              "#9c179e"
             ],
             [
              0.4444444444444444,
              "#bd3786"
             ],
             [
              0.5555555555555556,
              "#d8576b"
             ],
             [
              0.6666666666666666,
              "#ed7953"
             ],
             [
              0.7777777777777778,
              "#fb9f3a"
             ],
             [
              0.8888888888888888,
              "#fdca26"
             ],
             [
              1,
              "#f0f921"
             ]
            ],
            "type": "surface"
           }
          ],
          "table": [
           {
            "cells": {
             "fill": {
              "color": "#EBF0F8"
             },
             "line": {
              "color": "white"
             }
            },
            "header": {
             "fill": {
              "color": "#C8D4E3"
             },
             "line": {
              "color": "white"
             }
            },
            "type": "table"
           }
          ]
         },
         "layout": {
          "annotationdefaults": {
           "arrowcolor": "#2a3f5f",
           "arrowhead": 0,
           "arrowwidth": 1
          },
          "autotypenumbers": "strict",
          "coloraxis": {
           "colorbar": {
            "outlinewidth": 0,
            "ticks": ""
           }
          },
          "colorscale": {
           "diverging": [
            [
             0,
             "#8e0152"
            ],
            [
             0.1,
             "#c51b7d"
            ],
            [
             0.2,
             "#de77ae"
            ],
            [
             0.3,
             "#f1b6da"
            ],
            [
             0.4,
             "#fde0ef"
            ],
            [
             0.5,
             "#f7f7f7"
            ],
            [
             0.6,
             "#e6f5d0"
            ],
            [
             0.7,
             "#b8e186"
            ],
            [
             0.8,
             "#7fbc41"
            ],
            [
             0.9,
             "#4d9221"
            ],
            [
             1,
             "#276419"
            ]
           ],
           "sequential": [
            [
             0,
             "#0d0887"
            ],
            [
             0.1111111111111111,
             "#46039f"
            ],
            [
             0.2222222222222222,
             "#7201a8"
            ],
            [
             0.3333333333333333,
             "#9c179e"
            ],
            [
             0.4444444444444444,
             "#bd3786"
            ],
            [
             0.5555555555555556,
             "#d8576b"
            ],
            [
             0.6666666666666666,
             "#ed7953"
            ],
            [
             0.7777777777777778,
             "#fb9f3a"
            ],
            [
             0.8888888888888888,
             "#fdca26"
            ],
            [
             1,
             "#f0f921"
            ]
           ],
           "sequentialminus": [
            [
             0,
             "#0d0887"
            ],
            [
             0.1111111111111111,
             "#46039f"
            ],
            [
             0.2222222222222222,
             "#7201a8"
            ],
            [
             0.3333333333333333,
             "#9c179e"
            ],
            [
             0.4444444444444444,
             "#bd3786"
            ],
            [
             0.5555555555555556,
             "#d8576b"
            ],
            [
             0.6666666666666666,
             "#ed7953"
            ],
            [
             0.7777777777777778,
             "#fb9f3a"
            ],
            [
             0.8888888888888888,
             "#fdca26"
            ],
            [
             1,
             "#f0f921"
            ]
           ]
          },
          "colorway": [
           "#636efa",
           "#EF553B",
           "#00cc96",
           "#ab63fa",
           "#FFA15A",
           "#19d3f3",
           "#FF6692",
           "#B6E880",
           "#FF97FF",
           "#FECB52"
          ],
          "font": {
           "color": "#2a3f5f"
          },
          "geo": {
           "bgcolor": "white",
           "lakecolor": "white",
           "landcolor": "#E5ECF6",
           "showlakes": true,
           "showland": true,
           "subunitcolor": "white"
          },
          "hoverlabel": {
           "align": "left"
          },
          "hovermode": "closest",
          "mapbox": {
           "style": "light"
          },
          "paper_bgcolor": "white",
          "plot_bgcolor": "#E5ECF6",
          "polar": {
           "angularaxis": {
            "gridcolor": "white",
            "linecolor": "white",
            "ticks": ""
           },
           "bgcolor": "#E5ECF6",
           "radialaxis": {
            "gridcolor": "white",
            "linecolor": "white",
            "ticks": ""
           }
          },
          "scene": {
           "xaxis": {
            "backgroundcolor": "#E5ECF6",
            "gridcolor": "white",
            "gridwidth": 2,
            "linecolor": "white",
            "showbackground": true,
            "ticks": "",
            "zerolinecolor": "white"
           },
           "yaxis": {
            "backgroundcolor": "#E5ECF6",
            "gridcolor": "white",
            "gridwidth": 2,
            "linecolor": "white",
            "showbackground": true,
            "ticks": "",
            "zerolinecolor": "white"
           },
           "zaxis": {
            "backgroundcolor": "#E5ECF6",
            "gridcolor": "white",
            "gridwidth": 2,
            "linecolor": "white",
            "showbackground": true,
            "ticks": "",
            "zerolinecolor": "white"
           }
          },
          "shapedefaults": {
           "line": {
            "color": "#2a3f5f"
           }
          },
          "ternary": {
           "aaxis": {
            "gridcolor": "white",
            "linecolor": "white",
            "ticks": ""
           },
           "baxis": {
            "gridcolor": "white",
            "linecolor": "white",
            "ticks": ""
           },
           "bgcolor": "#E5ECF6",
           "caxis": {
            "gridcolor": "white",
            "linecolor": "white",
            "ticks": ""
           }
          },
          "title": {
           "x": 0.05
          },
          "xaxis": {
           "automargin": true,
           "gridcolor": "white",
           "linecolor": "white",
           "ticks": "",
           "title": {
            "standoff": 15
           },
           "zerolinecolor": "white",
           "zerolinewidth": 2
          },
          "yaxis": {
           "automargin": true,
           "gridcolor": "white",
           "linecolor": "white",
           "ticks": "",
           "title": {
            "standoff": 15
           },
           "zerolinecolor": "white",
           "zerolinewidth": 2
          }
         }
        },
        "title": {
         "font": {
          "color": "black",
          "family": "Overpass",
          "size": 25
         },
         "text": "<b>Experimental Datas Vs Model<b>",
         "x": 0.45,
         "y": 0.9
        },
        "width": 1100,
        "xaxis": {
         "title": {
          "font": {
           "color": "black",
           "family": "Overpass",
           "size": 25
          },
          "standoff": 25,
          "text": "<b>VDS / V<b>"
         }
        },
        "yaxis": {
         "title": {
          "font": {
           "color": "black",
           "family": "Overpass",
           "size": 25
          },
          "standoff": 10,
          "text": "<b>ID / uA<b>"
         },
         "type": "linear"
        }
       }
      }
     },
     "metadata": {},
     "output_type": "display_data"
    },
    {
     "name": "stdout",
     "output_type": "stream",
     "text": [
      "\n",
      "\n",
      "\n",
      "\n",
      "\n",
      "\n",
      "**************************************************************************************************************************************************\n",
      "\n",
      "|RELATIVE ERROR BETWEEN CURVES: 4055.9901\n",
      "\n",
      "**************************************************************************************************************************************************\n"
     ]
    }
   ],
   "source": [
    "# @title ##### ***GRAFICS PLOT OPTION:*** { run: \"auto\" }\n",
    "option = 'show both curves' # @param [\"Show Transfer curve\", \"Show output curve\", \"show both curves\"]\n",
    "\n",
    "plot = initialize_graphics_plot(settings['image_size_width'], settings['image_size_height'])\n",
    "model = instance_model(read, TFTModel, n_points, type_curve_plot, load_parameters, input_voltage, Vv, load_idleak, width_t, count_transfer, tp_tst, settings['experimental_data_scale_transfer'], settings['current_typic'], resistance, current)\n",
    "in_model_data, in_exp_data, out_model_data, out_exp_data = load_experimental_data(read, count_transfer, Vv, Id, model, count_output)\n",
    "plot_curves(option, plot, list_tension, list_tension_shift, count_transfer, in_model_data, out_model_data, in_exp_data, out_exp_data, shift_list, settings['select_files'], settings['current_typic'], type_curve_plot)\n",
    "read.compute_relative_distance(Id, model)\n"
   ]
  },
  {
   "cell_type": "markdown",
   "metadata": {
    "id": "vUMiE-AQVQYh"
   },
   "source": [
    "### **Model Optimization** ⚡"
   ]
  },
  {
   "cell_type": "markdown",
   "metadata": {
    "id": "hPKJt-uDVKbe"
   },
   "source": [
    "This optimization section focuses on estimating the optimal parameters for a MOSFET transistor given a sequence of input voltage $V$ [V] and current $I$ [mA], using the mathematical model introduced in section [5]. The goal here is to estimate these optimal parameters using the `curve_fit` function, as also introduced in section [4] (for more details, refer to that section). The parameters in question are listed below:\n",
    "\n",
    "- $V_{tho}$: Gate threshold voltage of the transistor.\n",
    "- $\\Delta$: Channel modulation coefficient.\n",
    "- $N$: Number of transistor channels.\n",
    "- $L$: Channel length of the transistor.\n",
    "- $\\Lambda$: Channel modulation length.\n",
    "- $V_{crit}$: Transistor breakdown voltage.\n",
    "- $J_{th}$: Transistor saturation current.\n",
    "- $R_s$: Transistor series resistance.\n",
    "\n"
   ]
  },
  {
   "cell_type": "code",
   "execution_count": null,
   "metadata": {
    "cellView": "form",
    "colab": {
     "base_uri": "https://localhost:8080/"
    },
    "executionInfo": {
     "elapsed": 99499,
     "status": "ok",
     "timestamp": 1730290119901,
     "user": {
      "displayName": "Rodrigo Santos Batista",
      "userId": "10844009603124520931"
     },
     "user_tz": 180
    },
    "id": "R3wX-9nPVZLQ",
    "outputId": "880cb966-b46f-4637-be60-39b090dd3952"
   },
   "outputs": [
    {
     "name": "stdout",
     "output_type": "stream",
     "text": [
      "\n",
      "----------------------------------------------------------------------------------------------------\n",
      "TRUST REGION REFLECTIVE (TRF) MODE\n",
      "----------------------------------------------------------------------------------------------------\n",
      "\n",
      "\n",
      "\n",
      "\n",
      "\n",
      "********************************************************************************************************************************************************************************************************\n",
      "`ftol` termination condition is satisfied.\n",
      "function evaluations 498, initial cost 3.3085e+04, final cost 4.3704e+03, first-order optimality 5.83e+02.\n",
      "\n",
      "********************************************************************************************************************************************************************************************************\n",
      "\n",
      "\n",
      "\n",
      "\n"
     ]
    }
   ],
   "source": [
    "# @title #### **OPTIMIZING THE MODEL.** { run: \"auto\" }\n",
    "lw_bounds, up_bounds = get_bounds(settings['lower_bounds'], settings['upper_bounds'])\n",
    "tolerance_factor = get_tolerance_factor(settings['tolerance_factor'])\n",
    "tlr_factor = get_tolerance_factor(tolerance_factor)\n",
    "lw_bounds, up_bounds = configure_bounds(settings['default_bounds'], lw_bounds, up_bounds)\n",
    "\n",
    "model_id = create_model_opt(TFTModel, input_voltage, n_points, type_curve_plot, settings['current_typic'],\n",
    "                            settings['experimental_data_scale_transfer'], load_idleak, mode_idleak, count_transfer,\n",
    "                            resistance, current)\n",
    "\n",
    "optimizer = create_optimizer(settings['current_typic'], settings['experimental_data_scale_transfer'], settings['experimental_data_scale_output'],\n",
    "                             settings['type_read_data_exp'], path_voltages, type_curve_plot, settings['optimization_method'], (lw_bounds, up_bounds))\n",
    "\n",
    "configure_optimizer(optimizer, settings['default_bounds'], tlr_factor)\n",
    "\n",
    "coeff_opt, coeff_error, text_verbose = optimize_model(optimizer, model_id, load_parameters, *path_voltages)\n",
    "\n",
    "# Exibição dos resultados\n",
    "print('\\n\\n\\n')\n",
    "print('*' * 200)\n",
    "print(text_verbose.capitalize())\n",
    "print('*' * 200)\n",
    "print('\\n\\n\\n')"
   ]
  },
  {
   "cell_type": "code",
   "execution_count": null,
   "metadata": {
    "cellView": "form",
    "colab": {
     "base_uri": "https://localhost:8080/"
    },
    "executionInfo": {
     "elapsed": 17,
     "status": "ok",
     "timestamp": 1730290119902,
     "user": {
      "displayName": "Rodrigo Santos Batista",
      "userId": "10844009603124520931"
     },
     "user_tz": 180
    },
    "id": "E2sKzh9yw0jJ",
    "outputId": "279448f8-91bb-46e5-eded-b8aaf9c9dbb1"
   },
   "outputs": [
    {
     "name": "stdout",
     "output_type": "stream",
     "text": [
      "\n",
      "---------------------------\n",
      " OPTIMIZED COEFFICIENTS:\n",
      "\n",
      "╒══════════════════════╤═════════════════╤═══════════════════╤═════════════════════════════════════════╕\n",
      "│ Parameter            │   Initial Value │   Optimized Value │   Associated Error (standard deviation) │\n",
      "╞══════════════════════╪═════════════════╪═══════════════════╪═════════════════════════════════════════╡\n",
      "│ VTHO [V]             │     5.53        │       5.6         │                              0.166427   │\n",
      "├──────────────────────┼─────────────────┼───────────────────┼─────────────────────────────────────────┤\n",
      "│ DELTA                │     0.0029      │       5.06004e-35 │                              0.00219142 │\n",
      "├──────────────────────┼─────────────────┼───────────────────┼─────────────────────────────────────────┤\n",
      "│ N                    │     5.14        │      18.1954      │                              2.45006    │\n",
      "├──────────────────────┼─────────────────┼───────────────────┼─────────────────────────────────────────┤\n",
      "│ L                    │     2.4         │       2.54157     │                              0.044962   │\n",
      "├──────────────────────┼─────────────────┼───────────────────┼─────────────────────────────────────────┤\n",
      "│ LAMBDA               │   586           │     533.269       │                             21.5774     │\n",
      "├──────────────────────┼─────────────────┼───────────────────┼─────────────────────────────────────────┤\n",
      "│ VGCRIT [V]           │    14.7         │      34.1437      │                              1.66559    │\n",
      "├──────────────────────┼─────────────────┼───────────────────┼─────────────────────────────────────────┤\n",
      "│ JTH [μA cm^−1]       │     0.358       │       4.02305     │                              1.98985    │\n",
      "├──────────────────────┼─────────────────┼───────────────────┼─────────────────────────────────────────┤\n",
      "│ RS [kΩ]              │     2.8         │       3.05504     │                              0.00302216 │\n",
      "├──────────────────────┼─────────────────┼───────────────────┼─────────────────────────────────────────┤\n",
      "│ JTH / LAMBDA * N [μA │     0.000118856 │       0.000414618 │                              0.0376395  │\n",
      "│      cm^−1]          │                 │                   │                                         │\n",
      "╘══════════════════════╧═════════════════╧═══════════════════╧═════════════════════════════════════════╛\n",
      "\n",
      "\n",
      "\n",
      "\n"
     ]
    }
   ],
   "source": [
    "# @title #### **SHOW MODEL PARAMETERS OPTIMIZED.** { run: \"auto\" }\n",
    "# @markdown ### **Loading Parameters and Optimizing the Model** ⚡\n",
    "# @markdown > This section is dedicated to visualizing the parameters obtained through optimization. To do this, simply choose any of the options below:\n",
    "# @markdown ##### ***Show the list coefficients optimized:***\n",
    "# @markdown ##### **--> Vtho, delta, n, l, lam, Vgcrit, Jth, Rs**\n",
    "# @markdown ---\n",
    "\n",
    "option = 'Show the table of values opt' # @param [\"Show the coeff values\",\"Show the initial values\", \"Show the table of values opt\", \"coeff opt\", \"coeff error\"]\n",
    "show_model_parameters_optimized(menu, option, load_parameters, coeff_opt, coeff_error, current, settings['current_typic'], resistance)\n"
   ]
  },
  {
   "cell_type": "markdown",
   "metadata": {
    "id": "wtumu9_Lxx4q"
   },
   "source": [
    "### **Comparing** ✅\n",
    "\n",
    "---\n",
    "This section aims to evaluate the model's performance relative to the initial data. Visual observation allows assessing whether the model significantly outperformed the initial coefficients.\n",
    "\n",
    "In this section, simply execute the cells below; no explicit modifications are required.\n",
    "\n",
    "---"
   ]
  },
  {
   "cell_type": "code",
   "execution_count": null,
   "metadata": {
    "cellView": "form",
    "colab": {
     "base_uri": "https://localhost:8080/",
     "height": 1000
    },
    "executionInfo": {
     "elapsed": 367,
     "status": "ok",
     "timestamp": 1730290120254,
     "user": {
      "displayName": "Rodrigo Santos Batista",
      "userId": "10844009603124520931"
     },
     "user_tz": 180
    },
    "id": "gvhAweAZx3eD",
    "outputId": "8cceb938-9438-4010-9ed4-9f0b2efeffa5"
   },
   "outputs": [
    {
     "data": {
      "application/vnd.plotly.v1+json": {
       "config": {
        "plotlyServerURL": "https://plot.ly"
       },
       "data": [
        {
         "line": {
          "color": "rgb(255, 0, 0)",
          "dash": "dash"
         },
         "mode": "lines+text",
         "name": "<b>Model OVSED<b> <b>-2V<b>",
         "text": [
          "-2V"
         ],
         "textfont": {
          "color": "rgb(255, 0, 0)",
          "family": "Times New Roman",
          "size": 13
         },
         "textposition": "bottom center",
         "type": "scatter",
         "x": [
          -29.888,
          -29.15936585365854,
          -28.430731707317076,
          -27.70209756097561,
          -26.973463414634146,
          -26.244829268292683,
          -25.51619512195122,
          -24.787560975609757,
          -24.058926829268295,
          -23.33029268292683,
          -22.60165853658537,
          -21.873024390243906,
          -21.14439024390244,
          -20.415756097560976,
          -19.687121951219513,
          -18.958487804878047,
          -18.229853658536584,
          -17.50121951219512,
          -16.772585365853658,
          -16.043951219512195,
          -15.315317073170732,
          -14.586682926829267,
          -13.858048780487806,
          -13.12941463414634,
          -12.400780487804877,
          -11.672146341463414,
          -10.94351219512195,
          -10.214878048780488,
          -9.486243902439025,
          -8.757609756097558,
          -8.028975609756095,
          -7.300341463414632,
          -6.5717073170731695,
          -5.8430731707317065,
          -5.114439024390244,
          -4.385804878048781,
          -3.657170731707314,
          -2.928536585365851,
          -2.199902439024388,
          -1.4712682926829252,
          -0.7426341463414623,
          -0.014
         ],
         "y": [
          0.00022193219139642753,
          0.00021551482727417853,
          0.00020878937867503647,
          0.00020175193209106076,
          0.00019440117652118512,
          0.00018673894576836208,
          0.00017877080232098585,
          0.0001705066507132292,
          0.00016196136276132192,
          0.0001531553909026773,
          0.00014411533932644858,
          0.0001348744561470408,
          0.00012547300417767768,
          0.00011595846370357654,
          0.00010638551892835785,
          0.00009681578137742594,
          0.00008731720927515189,
          0.00007796319228508412,
          0.0000688312861007473,
          0.00006000160071773419,
          0.00005155486866984631,
          0.000043570243270353194,
          0.000036122899568830115,
          0.000029281529473487155,
          0.00002310583418231658,
          0.000017644118407658874,
          0.000012931078126380118,
          0.00000898584134347821,
          0.0000058102582906832746,
          0.0000033873108926166297,
          0.0000016792025331758592,
          6.236689042849713e-7,
          1.2261398309442994e-7,
          2.734517351852795e-9,
          2.5574881259668865e-14,
          1.0000025309000406e-14,
          1.0000000000044583e-14,
          1e-14,
          1e-14,
          1e-14,
          1e-14,
          1e-14
         ]
        },
        {
         "line": {
          "color": "black",
          "dash": "solid"
         },
         "mode": "lines+text",
         "name": "<b>Model OPT<b> <b>-2V<b>",
         "text": [
          "-2V"
         ],
         "textfont": {
          "color": "black",
          "family": "Times New Roman",
          "size": 13
         },
         "textposition": "bottom center",
         "type": "scatter",
         "x": [
          -29.888,
          -29.15936585365854,
          -28.430731707317076,
          -27.70209756097561,
          -26.973463414634146,
          -26.244829268292683,
          -25.51619512195122,
          -24.787560975609757,
          -24.058926829268295,
          -23.33029268292683,
          -22.60165853658537,
          -21.873024390243906,
          -21.14439024390244,
          -20.415756097560976,
          -19.687121951219513,
          -18.958487804878047,
          -18.229853658536584,
          -17.50121951219512,
          -16.772585365853658,
          -16.043951219512195,
          -15.315317073170732,
          -14.586682926829267,
          -13.858048780487806,
          -13.12941463414634,
          -12.400780487804877,
          -11.672146341463414,
          -10.94351219512195,
          -10.214878048780488,
          -9.486243902439025,
          -8.757609756097558,
          -8.028975609756095,
          -7.300341463414632,
          -6.5717073170731695,
          -5.8430731707317065,
          -5.114439024390244,
          -4.385804878048781,
          -3.657170731707314,
          -2.928536585365851,
          -2.199902439024388,
          -1.4712682926829252,
          -0.7426341463414623,
          -0.014
         ],
         "y": [
          0.00021237681256005403,
          0.00020633646765981782,
          0.00019997376123545276,
          0.00019328267378028793,
          0.0001862599797573053,
          0.00017890589921258984,
          0.0001712248047320253,
          0.00016322596770922753,
          0.00015492432010794327,
          0.00014634119917899388,
          0.0001375050334431367,
          0.0001284519194560952,
          0.00011922603147410281,
          0.00010987980139551115,
          0.00010047380562899646,
          0.00009107630012803913,
          0.00008176235574402948,
          0.00007261256376579196,
          0.00006371130575516674,
          0.00005514461136358365,
          0.000046997660559134536,
          0.000039352019551632406,
          0.00003228272894629366,
          0.000025855384226905994,
          0.000020123358615420356,
          0.000015125313350399642,
          0.000010883118429917802,
          0.000007400267984807579,
          0.000004660820392684031,
          0.0000026288089799283877,
          0.0000012477809671969606,
          4.3852284253908837e-7,
          8.596887213555459e-8,
          5.72370030896898e-9,
          1.0104823916879467e-10,
          9.286168826546344e-13,
          2.1331194790928682e-14,
          1.0190655779433611e-14,
          1.0003523930166118e-14,
          1.0000066551154865e-14,
          1.0000001262682468e-14,
          1.0000000023980508e-14
         ]
        },
        {
         "marker": {
          "color": "rgb(255, 0, 0)",
          "line": {
           "color": "MediumPurple",
           "width": 0.8
          },
          "opacity": 0.5,
          "size": 11
         },
         "mode": "markers+text",
         "name": "<b>Exp <b> <b>-2V<b>",
         "text": [
          "<b>VDS<b>=-2V"
         ],
         "textfont": {
          "color": "rgb(255, 0, 0)",
          "family": "Times New Roman",
          "size": 18
         },
         "textposition": "top right",
         "type": "scatter",
         "x": [
          -29.888,
          -29.15936585365854,
          -28.430731707317076,
          -27.70209756097561,
          -26.973463414634146,
          -26.244829268292683,
          -25.51619512195122,
          -24.787560975609757,
          -24.058926829268295,
          -23.33029268292683,
          -22.60165853658537,
          -21.873024390243906,
          -21.14439024390244,
          -20.415756097560976,
          -19.687121951219513,
          -18.958487804878047,
          -18.229853658536584,
          -17.50121951219512,
          -16.772585365853658,
          -16.043951219512195,
          -15.315317073170732,
          -14.586682926829267,
          -13.858048780487806,
          -13.12941463414634,
          -12.400780487804877,
          -11.672146341463414,
          -10.94351219512195,
          -10.214878048780488,
          -9.486243902439025,
          -8.757609756097558,
          -8.028975609756095,
          -7.300341463414632,
          -6.5717073170731695,
          -5.8430731707317065,
          -5.114439024390244,
          -4.385804878048781,
          -3.657170731707314,
          -2.928536585365851,
          -2.199902439024388,
          -1.4712682926829252,
          -0.7426341463414623,
          -0.014
         ],
         "y": [
          0.00023209999999999992,
          0.00021661131986062715,
          0.00020966207340039492,
          0.00020351018091262002,
          0.0001947578187944042,
          0.00018472895311060465,
          0.00017936947478677234,
          0.00017478677464181322,
          0.00016261901384829168,
          0.00015558141206675223,
          0.00014825816275359013,
          0.00013969919984575344,
          0.00012817929239371449,
          0.00011944369537476228,
          0.00011099591104734579,
          0.00010028070301291242,
          0.00008866533276514673,
          0.00008162985403521988,
          0.00007516679562657702,
          0.00006278360446954218,
          0.00005398873634827356,
          0.00004570327092692329,
          0.000037532044008483556,
          0.000032003928419936354,
          0.00002564040594557072,
          0.00001961883925643805,
          0.000014423253089900825,
          0.000010497192607735323,
          0.000006944418438350227,
          0.000003946450447669026,
          0.000001880449830194499,
          7.006778628792364e-7,
          1.2109453479302532e-7,
          5.126243396694714e-11,
          3.088157149941635e-11,
          1.0500709031885492e-11,
          1.4178390319297348e-14,
          1.6498256787850896e-14,
          2.1811786930510847e-14,
          2.1284092140921402e-14,
          1.8579332045399682e-14,
          1.6479999999999968e-14
         ]
        }
       ],
       "layout": {
        "height": 600,
        "legend": {
         "font": {
          "size": 16
         }
        },
        "template": {
         "data": {
          "bar": [
           {
            "error_x": {
             "color": "#2a3f5f"
            },
            "error_y": {
             "color": "#2a3f5f"
            },
            "marker": {
             "line": {
              "color": "#E5ECF6",
              "width": 0.5
             },
             "pattern": {
              "fillmode": "overlay",
              "size": 10,
              "solidity": 0.2
             }
            },
            "type": "bar"
           }
          ],
          "barpolar": [
           {
            "marker": {
             "line": {
              "color": "#E5ECF6",
              "width": 0.5
             },
             "pattern": {
              "fillmode": "overlay",
              "size": 10,
              "solidity": 0.2
             }
            },
            "type": "barpolar"
           }
          ],
          "carpet": [
           {
            "aaxis": {
             "endlinecolor": "#2a3f5f",
             "gridcolor": "white",
             "linecolor": "white",
             "minorgridcolor": "white",
             "startlinecolor": "#2a3f5f"
            },
            "baxis": {
             "endlinecolor": "#2a3f5f",
             "gridcolor": "white",
             "linecolor": "white",
             "minorgridcolor": "white",
             "startlinecolor": "#2a3f5f"
            },
            "type": "carpet"
           }
          ],
          "choropleth": [
           {
            "colorbar": {
             "outlinewidth": 0,
             "ticks": ""
            },
            "type": "choropleth"
           }
          ],
          "contour": [
           {
            "colorbar": {
             "outlinewidth": 0,
             "ticks": ""
            },
            "colorscale": [
             [
              0,
              "#0d0887"
             ],
             [
              0.1111111111111111,
              "#46039f"
             ],
             [
              0.2222222222222222,
              "#7201a8"
             ],
             [
              0.3333333333333333,
              "#9c179e"
             ],
             [
              0.4444444444444444,
              "#bd3786"
             ],
             [
              0.5555555555555556,
              "#d8576b"
             ],
             [
              0.6666666666666666,
              "#ed7953"
             ],
             [
              0.7777777777777778,
              "#fb9f3a"
             ],
             [
              0.8888888888888888,
              "#fdca26"
             ],
             [
              1,
              "#f0f921"
             ]
            ],
            "type": "contour"
           }
          ],
          "contourcarpet": [
           {
            "colorbar": {
             "outlinewidth": 0,
             "ticks": ""
            },
            "type": "contourcarpet"
           }
          ],
          "heatmap": [
           {
            "colorbar": {
             "outlinewidth": 0,
             "ticks": ""
            },
            "colorscale": [
             [
              0,
              "#0d0887"
             ],
             [
              0.1111111111111111,
              "#46039f"
             ],
             [
              0.2222222222222222,
              "#7201a8"
             ],
             [
              0.3333333333333333,
              "#9c179e"
             ],
             [
              0.4444444444444444,
              "#bd3786"
             ],
             [
              0.5555555555555556,
              "#d8576b"
             ],
             [
              0.6666666666666666,
              "#ed7953"
             ],
             [
              0.7777777777777778,
              "#fb9f3a"
             ],
             [
              0.8888888888888888,
              "#fdca26"
             ],
             [
              1,
              "#f0f921"
             ]
            ],
            "type": "heatmap"
           }
          ],
          "heatmapgl": [
           {
            "colorbar": {
             "outlinewidth": 0,
             "ticks": ""
            },
            "colorscale": [
             [
              0,
              "#0d0887"
             ],
             [
              0.1111111111111111,
              "#46039f"
             ],
             [
              0.2222222222222222,
              "#7201a8"
             ],
             [
              0.3333333333333333,
              "#9c179e"
             ],
             [
              0.4444444444444444,
              "#bd3786"
             ],
             [
              0.5555555555555556,
              "#d8576b"
             ],
             [
              0.6666666666666666,
              "#ed7953"
             ],
             [
              0.7777777777777778,
              "#fb9f3a"
             ],
             [
              0.8888888888888888,
              "#fdca26"
             ],
             [
              1,
              "#f0f921"
             ]
            ],
            "type": "heatmapgl"
           }
          ],
          "histogram": [
           {
            "marker": {
             "pattern": {
              "fillmode": "overlay",
              "size": 10,
              "solidity": 0.2
             }
            },
            "type": "histogram"
           }
          ],
          "histogram2d": [
           {
            "colorbar": {
             "outlinewidth": 0,
             "ticks": ""
            },
            "colorscale": [
             [
              0,
              "#0d0887"
             ],
             [
              0.1111111111111111,
              "#46039f"
             ],
             [
              0.2222222222222222,
              "#7201a8"
             ],
             [
              0.3333333333333333,
              "#9c179e"
             ],
             [
              0.4444444444444444,
              "#bd3786"
             ],
             [
              0.5555555555555556,
              "#d8576b"
             ],
             [
              0.6666666666666666,
              "#ed7953"
             ],
             [
              0.7777777777777778,
              "#fb9f3a"
             ],
             [
              0.8888888888888888,
              "#fdca26"
             ],
             [
              1,
              "#f0f921"
             ]
            ],
            "type": "histogram2d"
           }
          ],
          "histogram2dcontour": [
           {
            "colorbar": {
             "outlinewidth": 0,
             "ticks": ""
            },
            "colorscale": [
             [
              0,
              "#0d0887"
             ],
             [
              0.1111111111111111,
              "#46039f"
             ],
             [
              0.2222222222222222,
              "#7201a8"
             ],
             [
              0.3333333333333333,
              "#9c179e"
             ],
             [
              0.4444444444444444,
              "#bd3786"
             ],
             [
              0.5555555555555556,
              "#d8576b"
             ],
             [
              0.6666666666666666,
              "#ed7953"
             ],
             [
              0.7777777777777778,
              "#fb9f3a"
             ],
             [
              0.8888888888888888,
              "#fdca26"
             ],
             [
              1,
              "#f0f921"
             ]
            ],
            "type": "histogram2dcontour"
           }
          ],
          "mesh3d": [
           {
            "colorbar": {
             "outlinewidth": 0,
             "ticks": ""
            },
            "type": "mesh3d"
           }
          ],
          "parcoords": [
           {
            "line": {
             "colorbar": {
              "outlinewidth": 0,
              "ticks": ""
             }
            },
            "type": "parcoords"
           }
          ],
          "pie": [
           {
            "automargin": true,
            "type": "pie"
           }
          ],
          "scatter": [
           {
            "fillpattern": {
             "fillmode": "overlay",
             "size": 10,
             "solidity": 0.2
            },
            "type": "scatter"
           }
          ],
          "scatter3d": [
           {
            "line": {
             "colorbar": {
              "outlinewidth": 0,
              "ticks": ""
             }
            },
            "marker": {
             "colorbar": {
              "outlinewidth": 0,
              "ticks": ""
             }
            },
            "type": "scatter3d"
           }
          ],
          "scattercarpet": [
           {
            "marker": {
             "colorbar": {
              "outlinewidth": 0,
              "ticks": ""
             }
            },
            "type": "scattercarpet"
           }
          ],
          "scattergeo": [
           {
            "marker": {
             "colorbar": {
              "outlinewidth": 0,
              "ticks": ""
             }
            },
            "type": "scattergeo"
           }
          ],
          "scattergl": [
           {
            "marker": {
             "colorbar": {
              "outlinewidth": 0,
              "ticks": ""
             }
            },
            "type": "scattergl"
           }
          ],
          "scattermapbox": [
           {
            "marker": {
             "colorbar": {
              "outlinewidth": 0,
              "ticks": ""
             }
            },
            "type": "scattermapbox"
           }
          ],
          "scatterpolar": [
           {
            "marker": {
             "colorbar": {
              "outlinewidth": 0,
              "ticks": ""
             }
            },
            "type": "scatterpolar"
           }
          ],
          "scatterpolargl": [
           {
            "marker": {
             "colorbar": {
              "outlinewidth": 0,
              "ticks": ""
             }
            },
            "type": "scatterpolargl"
           }
          ],
          "scatterternary": [
           {
            "marker": {
             "colorbar": {
              "outlinewidth": 0,
              "ticks": ""
             }
            },
            "type": "scatterternary"
           }
          ],
          "surface": [
           {
            "colorbar": {
             "outlinewidth": 0,
             "ticks": ""
            },
            "colorscale": [
             [
              0,
              "#0d0887"
             ],
             [
              0.1111111111111111,
              "#46039f"
             ],
             [
              0.2222222222222222,
              "#7201a8"
             ],
             [
              0.3333333333333333,
              "#9c179e"
             ],
             [
              0.4444444444444444,
              "#bd3786"
             ],
             [
              0.5555555555555556,
              "#d8576b"
             ],
             [
              0.6666666666666666,
              "#ed7953"
             ],
             [
              0.7777777777777778,
              "#fb9f3a"
             ],
             [
              0.8888888888888888,
              "#fdca26"
             ],
             [
              1,
              "#f0f921"
             ]
            ],
            "type": "surface"
           }
          ],
          "table": [
           {
            "cells": {
             "fill": {
              "color": "#EBF0F8"
             },
             "line": {
              "color": "white"
             }
            },
            "header": {
             "fill": {
              "color": "#C8D4E3"
             },
             "line": {
              "color": "white"
             }
            },
            "type": "table"
           }
          ]
         },
         "layout": {
          "annotationdefaults": {
           "arrowcolor": "#2a3f5f",
           "arrowhead": 0,
           "arrowwidth": 1
          },
          "autotypenumbers": "strict",
          "coloraxis": {
           "colorbar": {
            "outlinewidth": 0,
            "ticks": ""
           }
          },
          "colorscale": {
           "diverging": [
            [
             0,
             "#8e0152"
            ],
            [
             0.1,
             "#c51b7d"
            ],
            [
             0.2,
             "#de77ae"
            ],
            [
             0.3,
             "#f1b6da"
            ],
            [
             0.4,
             "#fde0ef"
            ],
            [
             0.5,
             "#f7f7f7"
            ],
            [
             0.6,
             "#e6f5d0"
            ],
            [
             0.7,
             "#b8e186"
            ],
            [
             0.8,
             "#7fbc41"
            ],
            [
             0.9,
             "#4d9221"
            ],
            [
             1,
             "#276419"
            ]
           ],
           "sequential": [
            [
             0,
             "#0d0887"
            ],
            [
             0.1111111111111111,
             "#46039f"
            ],
            [
             0.2222222222222222,
             "#7201a8"
            ],
            [
             0.3333333333333333,
             "#9c179e"
            ],
            [
             0.4444444444444444,
             "#bd3786"
            ],
            [
             0.5555555555555556,
             "#d8576b"
            ],
            [
             0.6666666666666666,
             "#ed7953"
            ],
            [
             0.7777777777777778,
             "#fb9f3a"
            ],
            [
             0.8888888888888888,
             "#fdca26"
            ],
            [
             1,
             "#f0f921"
            ]
           ],
           "sequentialminus": [
            [
             0,
             "#0d0887"
            ],
            [
             0.1111111111111111,
             "#46039f"
            ],
            [
             0.2222222222222222,
             "#7201a8"
            ],
            [
             0.3333333333333333,
             "#9c179e"
            ],
            [
             0.4444444444444444,
             "#bd3786"
            ],
            [
             0.5555555555555556,
             "#d8576b"
            ],
            [
             0.6666666666666666,
             "#ed7953"
            ],
            [
             0.7777777777777778,
             "#fb9f3a"
            ],
            [
             0.8888888888888888,
             "#fdca26"
            ],
            [
             1,
             "#f0f921"
            ]
           ]
          },
          "colorway": [
           "#636efa",
           "#EF553B",
           "#00cc96",
           "#ab63fa",
           "#FFA15A",
           "#19d3f3",
           "#FF6692",
           "#B6E880",
           "#FF97FF",
           "#FECB52"
          ],
          "font": {
           "color": "#2a3f5f"
          },
          "geo": {
           "bgcolor": "white",
           "lakecolor": "white",
           "landcolor": "#E5ECF6",
           "showlakes": true,
           "showland": true,
           "subunitcolor": "white"
          },
          "hoverlabel": {
           "align": "left"
          },
          "hovermode": "closest",
          "mapbox": {
           "style": "light"
          },
          "paper_bgcolor": "white",
          "plot_bgcolor": "#E5ECF6",
          "polar": {
           "angularaxis": {
            "gridcolor": "white",
            "linecolor": "white",
            "ticks": ""
           },
           "bgcolor": "#E5ECF6",
           "radialaxis": {
            "gridcolor": "white",
            "linecolor": "white",
            "ticks": ""
           }
          },
          "scene": {
           "xaxis": {
            "backgroundcolor": "#E5ECF6",
            "gridcolor": "white",
            "gridwidth": 2,
            "linecolor": "white",
            "showbackground": true,
            "ticks": "",
            "zerolinecolor": "white"
           },
           "yaxis": {
            "backgroundcolor": "#E5ECF6",
            "gridcolor": "white",
            "gridwidth": 2,
            "linecolor": "white",
            "showbackground": true,
            "ticks": "",
            "zerolinecolor": "white"
           },
           "zaxis": {
            "backgroundcolor": "#E5ECF6",
            "gridcolor": "white",
            "gridwidth": 2,
            "linecolor": "white",
            "showbackground": true,
            "ticks": "",
            "zerolinecolor": "white"
           }
          },
          "shapedefaults": {
           "line": {
            "color": "#2a3f5f"
           }
          },
          "ternary": {
           "aaxis": {
            "gridcolor": "white",
            "linecolor": "white",
            "ticks": ""
           },
           "baxis": {
            "gridcolor": "white",
            "linecolor": "white",
            "ticks": ""
           },
           "bgcolor": "#E5ECF6",
           "caxis": {
            "gridcolor": "white",
            "linecolor": "white",
            "ticks": ""
           }
          },
          "title": {
           "x": 0.05
          },
          "xaxis": {
           "automargin": true,
           "gridcolor": "white",
           "linecolor": "white",
           "ticks": "",
           "title": {
            "standoff": 15
           },
           "zerolinecolor": "white",
           "zerolinewidth": 2
          },
          "yaxis": {
           "automargin": true,
           "gridcolor": "white",
           "linecolor": "white",
           "ticks": "",
           "title": {
            "standoff": 15
           },
           "zerolinecolor": "white",
           "zerolinewidth": 2
          }
         }
        },
        "title": {
         "font": {
          "color": "black",
          "family": "Overpass",
          "size": 25
         },
         "text": "<b>Model Vs Model Optimized (OPT)<b>",
         "x": 0.45,
         "y": 0.9
        },
        "width": 1100,
        "xaxis": {
         "title": {
          "font": {
           "color": "black",
           "family": "Overpass",
           "size": 25
          },
          "standoff": 25,
          "text": "<b>VGS / V<b>"
         }
        },
        "yaxis": {
         "title": {
          "font": {
           "color": "black",
           "family": "Overpass",
           "size": 25
          },
          "standoff": 10,
          "text": "<b>|ID| / A<b>"
         },
         "type": "log"
        }
       }
      }
     },
     "metadata": {},
     "output_type": "display_data"
    },
    {
     "name": "stdout",
     "output_type": "stream",
     "text": [
      "\n"
     ]
    },
    {
     "data": {
      "application/vnd.plotly.v1+json": {
       "config": {
        "plotlyServerURL": "https://plot.ly"
       },
       "data": [
        {
         "line": {
          "color": "rgb(255, 0, 0)",
          "dash": "dash"
         },
         "mode": "lines+text",
         "name": "<b>Model OVSED<b> <b>-8V<b>",
         "text": [
          "-8V"
         ],
         "textfont": {
          "color": "rgb(255, 0, 0)",
          "family": "Times New Roman",
          "size": 13
         },
         "textposition": "bottom center",
         "type": "scatter",
         "x": [
          -19.916,
          -19.469,
          -18.943,
          -18.471,
          -17.947,
          -17.457,
          -16.966,
          -16.458,
          -15.921,
          -15.438,
          -14.93,
          -14.458,
          -13.97,
          -13.475,
          -12.975,
          -12.476,
          -11.962,
          -11.447,
          -10.945,
          -10.441,
          -9.985,
          -9.425,
          -8.958,
          -8.45,
          -7.956,
          -7.494,
          -6.961,
          -6.468,
          -5.974,
          -5.472,
          -4.977,
          -4.475,
          -3.964,
          -3.465,
          -2.984,
          -2.478,
          -2.001,
          -1.48,
          -1.029,
          -0.573,
          0.0005882,
          0.0005882
         ],
         "y": [
          -249.1781471761114,
          -249.15031954220035,
          -249.09463482924062,
          -249.0195469655525,
          -248.90281622267764,
          -248.7557845074384,
          -248.56466321792985,
          -248.31208885802354,
          -247.9727724351381,
          -247.5921075147464,
          -247.10029901668648,
          -246.54468168964823,
          -245.8531405180354,
          -245.00975818951366,
          -243.98856452927498,
          -242.77197792702884,
          -241.27926188172015,
          -239.50119866902094,
          -237.45419795931346,
          -235.0416916696098,
          -232.50881097728586,
          -228.88194339754278,
          -225.36792959053466,
          -220.97814500132094,
          -216.08011634808787,
          -210.88029540863732,
          -204.06565927171502,
          -196.91447821033583,
          -188.86248100091635,
          -179.70294671438188,
          -169.64111867258902,
          -158.32853089078466,
          -145.60416526661567,
          -131.94509944429615,
          -117.57769377126228,
          -101.14634595676458,
          -84.3836592984266,
          -64.62724073987125,
          -46.28017107878452,
          -26.53575128555407,
          -0.028151650391182195,
          -0.028151650391182195
         ]
        },
        {
         "line": {
          "color": "rgb(0, 0, 255)",
          "dash": "dash"
         },
         "mode": "lines+text",
         "name": "<b>Model OVSED<b> <b>-16V<b>",
         "text": [
          "-16V"
         ],
         "textfont": {
          "color": "rgb(0, 0, 255)",
          "family": "Times New Roman",
          "size": 13
         },
         "textposition": "bottom center",
         "type": "scatter",
         "x": [
          -19.879,
          -19.437,
          -18.928,
          -18.493,
          -17.977,
          -17.46,
          -16.958,
          -16.44,
          -15.959,
          -15.432,
          -14.966,
          -14.42,
          -13.951,
          -13.414,
          -12.947,
          -12.464,
          -11.941,
          -11.477,
          -10.959,
          -10.462,
          -9.986,
          -9.456,
          -8.986,
          -8.483,
          -7.984,
          -7.515,
          -7.004,
          -6.505,
          -5.998,
          -5.487,
          -5.02,
          -4.475,
          -3.998,
          -3.513,
          -3.046,
          -2.485,
          -2.048,
          -1.567,
          -1.113,
          -0.78,
          -0.459,
          -0.069
         ],
         "y": [
          -867.6447773428413,
          -865.0402753948963,
          -861.669486607697,
          -858.4429947483542,
          -854.161395379779,
          -849.3291674797686,
          -844.0669633617227,
          -837.992888469894,
          -831.7156207199017,
          -824.0740654232694,
          -816.5998826518797,
          -806.92057164305,
          -797.756902008357,
          -786.2350773780307,
          -775.2680052306364,
          -762.9461966469154,
          -748.4239036887183,
          -734.4646515949461,
          -717.6345666923918,
          -700.2033134063848,
          -682.2893987574529,
          -660.8965121745659,
          -640.6165893066625,
          -617.518414096873,
          -593.1524113645589,
          -568.9127056158621,
          -541.007212995603,
          -512.2380443427588,
          -481.4598593746485,
          -448.8537820646975,
          -417.66147787266766,
          -379.57759611161924,
          -344.7634375323575,
          -307.9540619301819,
          -271.1747012710652,
          -225.27391591497272,
          -188.2320987668983,
          -146.17276423031586,
          -105.25076762750808,
          -74.48879258659522,
          -44.243821410526216,
          -6.720115071493845
         ]
        },
        {
         "line": {
          "color": "rgb(30, 144, 255)",
          "dash": "dash"
         },
         "mode": "lines+text",
         "name": "<b>Model OVSED<b> <b>-20V<b>",
         "text": [
          "-20V"
         ],
         "textfont": {
          "color": "rgb(30, 144, 255)",
          "family": "Times New Roman",
          "size": 13
         },
         "textposition": "bottom center",
         "type": "scatter",
         "x": [
          -19.924,
          -19.507,
          -18.951,
          -18.431,
          -18.011,
          -17.522,
          -16.955,
          -16.479,
          -15.968,
          -15.44,
          -15.011,
          -14.456,
          -13.968,
          -13.469,
          -12.954,
          -12.457,
          -11.964,
          -11.439,
          -10.941,
          -10.464,
          -10.003,
          -9.482,
          -8.946,
          -8.506,
          -7.95,
          -7.536,
          -7.007,
          -6.486,
          -6.005,
          -5.496,
          -4.963,
          -4.461,
          -3.989,
          -3.457,
          -2.986,
          -2.489,
          -1.993,
          -1.46,
          -1.07,
          -0.823,
          -0.464,
          -0.019
         ],
         "y": [
          -1274.6320997447915,
          -1267.7710879448289,
          -1257.7651194938799,
          -1247.4612598962929,
          -1238.430078856772,
          -1227.0726318781935,
          -1212.7074051675006,
          -1199.6042702381737,
          -1184.4260841021953,
          -1167.48146969424,
          -1152.7337855663263,
          -1132.3043742613888,
          -1113.0438245115354,
          -1092.0576272582225,
          -1068.9958125652397,
          -1045.3605960577308,
          -1020.5533962997357,
          -992.6226941607591,
          -964.6693975147756,
          -936.5516605549066,
          -908.1212941708155,
          -874.5001697270333,
          -838.259176710693,
          -807.258772706701,
          -766.4791650863546,
          -734.9557259974657,
          -693.2470039004895,
          -650.6162519580777,
          -609.9055105951079,
          -565.4278988851659,
          -517.3349442144805,
          -470.6409953786208,
          -425.52076512300096,
          -373.276146850776,
          -325.81616315241246,
          -274.53240100859136,
          -222.14403162602392,
          -164.5320293643455,
          -121.53159550135597,
          -93.93512388464701,
          -53.33081703248579,
          -2.2002879228951135
         ]
        },
        {
         "line": {
          "color": "black",
          "dash": "solid"
         },
         "mode": "lines+text",
         "name": "<b>Model OPT<b> <b>-8V<b>",
         "text": [
          "-8V"
         ],
         "textfont": {
          "color": "black",
          "family": "Times New Roman",
          "size": 13
         },
         "textposition": "bottom center",
         "type": "scatter",
         "x": [
          -19.916,
          -19.469,
          -18.943,
          -18.471,
          -17.947,
          -17.457,
          -16.966,
          -16.458,
          -15.921,
          -15.438,
          -14.93,
          -14.458,
          -13.97,
          -13.475,
          -12.975,
          -12.476,
          -11.962,
          -11.447,
          -10.945,
          -10.441,
          -9.985,
          -9.425,
          -8.958,
          -8.45,
          -7.956,
          -7.494,
          -6.961,
          -6.468,
          -5.974,
          -5.472,
          -4.977,
          -4.475,
          -3.964,
          -3.465,
          -2.984,
          -2.478,
          -2.001,
          -1.48,
          -1.029,
          -0.573,
          0.0005882,
          0.0005882
         ],
         "y": [
          -263.6599255075225,
          -263.3747301653962,
          -262.9883821454386,
          -262.58838144420247,
          -262.0765177181967,
          -261.5241478557907,
          -260.8890372978661,
          -260.1340418602905,
          -259.2124445343408,
          -258.26019292128126,
          -257.1156346376085,
          -255.9041913830669,
          -254.4832067577559,
          -252.84582856649632,
          -250.9675395205514,
          -248.841812783093,
          -246.359521491434,
          -243.54087124950217,
          -240.43904223868728,
          -236.9361130652151,
          -233.398720933152,
          -228.52989827082956,
          -223.98751116173295,
          -218.50403985987842,
          -212.58581465227263,
          -206.48808983348908,
          -198.72743357664606,
          -190.80863260003233,
          -182.11205794665238,
          -172.44546199945702,
          -162.0479961084235,
          -150.57805338911845,
          -137.8967815919405,
          -124.48789487046707,
          -110.56220420513881,
          -94.81042668326373,
          -78.88881400891083,
          -60.26789031601664,
          -43.07917605670524,
          -24.662148765003703,
          -0.02613022790516063,
          -0.02613022790516063
         ]
        },
        {
         "line": {
          "color": "black",
          "dash": "solid"
         },
         "mode": "lines+text",
         "name": "<b>Model OPT<b> <b>-16V<b>",
         "text": [
          "-16V"
         ],
         "textfont": {
          "color": "black",
          "family": "Times New Roman",
          "size": 13
         },
         "textposition": "bottom center",
         "type": "scatter",
         "x": [
          -19.879,
          -19.437,
          -18.928,
          -18.493,
          -17.977,
          -17.46,
          -16.958,
          -16.44,
          -15.959,
          -15.432,
          -14.966,
          -14.42,
          -13.951,
          -13.414,
          -12.947,
          -12.464,
          -11.941,
          -11.477,
          -10.959,
          -10.462,
          -9.986,
          -9.456,
          -8.986,
          -8.483,
          -7.984,
          -7.515,
          -7.004,
          -6.505,
          -5.998,
          -5.487,
          -5.02,
          -4.475,
          -3.998,
          -3.513,
          -3.046,
          -2.485,
          -2.048,
          -1.567,
          -1.113,
          -0.78,
          -0.459,
          -0.069
         ],
         "y": [
          -908.7532948558438,
          -904.0371161843668,
          -898.1449575605391,
          -892.6927383504822,
          -885.6941272959233,
          -878.0664210020643,
          -870.0319422539599,
          -861.0519263983981,
          -852.0495130737471,
          -841.4104296270359,
          -831.2916005780781,
          -818.5420574526485,
          -806.7840741891995,
          -792.3629634206295,
          -778.9549124836864,
          -764.2053107432938,
          -747.1851803160897,
          -731.1404601388643,
          -712.14476948004,
          -692.8124383288773,
          -673.2527597155561,
          -650.2414486715354,
          -628.7239476299748,
          -604.5144295810416,
          -579.2688052012752,
          -554.4075166204888,
          -526.0521114816348,
          -497.0715104985681,
          -466.306426004397,
          -433.9415549686673,
          -403.16483072542934,
          -365.7940904378206,
          -331.7984204455195,
          -295.9995478172194,
          -260.3557549286202,
          -216.01967655629772,
          -180.340794123827,
          -139.9198270307595,
          -100.67043149319912,
          -71.20951909065073,
          -42.275701851880456,
          -6.418027838964997
         ]
        },
        {
         "line": {
          "color": "black",
          "dash": "solid"
         },
         "mode": "lines+text",
         "name": "<b>Model OPT<b> <b>-20V<b>",
         "text": [
          "-20V"
         ],
         "textfont": {
          "color": "black",
          "family": "Times New Roman",
          "size": 13
         },
         "textposition": "bottom center",
         "type": "scatter",
         "x": [
          -19.924,
          -19.507,
          -18.951,
          -18.431,
          -18.011,
          -17.522,
          -16.955,
          -16.479,
          -15.968,
          -15.44,
          -15.011,
          -14.456,
          -13.968,
          -13.469,
          -12.954,
          -12.457,
          -11.964,
          -11.439,
          -10.941,
          -10.464,
          -10.003,
          -9.482,
          -8.946,
          -8.506,
          -7.95,
          -7.536,
          -7.007,
          -6.486,
          -6.005,
          -5.496,
          -4.963,
          -4.461,
          -3.989,
          -3.457,
          -2.986,
          -2.489,
          -1.993,
          -1.46,
          -1.07,
          -0.823,
          -0.464,
          -0.019
         ],
         "y": [
          -1307.8195592655015,
          -1297.8677453588093,
          -1283.7325431147872,
          -1269.5788569527326,
          -1257.4617360740272,
          -1242.5544465891242,
          -1224.154461685751,
          -1207.7515130992224,
          -1189.1398342481225,
          -1168.7866338007818,
          -1151.3878153744452,
          -1127.7041887479818,
          -1105.7609753423303,
          -1082.2182487417806,
          -1056.728067762709,
          -1030.9618060509795,
          -1004.2547524583302,
          -974.5418993894289,
          -945.1322851221172,
          -915.835792474566,
          -886.4679457611503,
          -852.0254404869863,
          -815.2008559774433,
          -783.9168471983891,
          -743.0261279616376,
          -711.595409892759,
          -670.2173355298293,
          -628.1381066454823,
          -588.1288926240798,
          -544.5876065689937,
          -497.680800112739,
          -452.288708266233,
          -408.5493607158454,
          -358.03586975418904,
          -312.2567452484878,
          -262.89131096550267,
          -212.55955995603017,
          -157.3093263811351,
          -116.13282718241742,
          -89.73209613507842,
          -50.92027544678975,
          -2.099891200918091
         ]
        },
        {
         "marker": {
          "color": "rgb(255, 0, 0)",
          "line": {
           "color": "MediumPurple",
           "width": 0.8
          },
          "opacity": 0.5,
          "size": 11
         },
         "mode": "markers+text",
         "name": "<b>Exp <b> <b>-18V<b> <b> (-10V)<b>",
         "text": [
          "<b>VGS<b>=-8V  (-10)"
         ],
         "textfont": {
          "color": "rgb(255, 0, 0)",
          "family": "Times New Roman",
          "size": 18
         },
         "textposition": "top right",
         "type": "scatter",
         "x": [
          -19.916,
          -19.469,
          -18.943,
          -18.471,
          -17.947,
          -17.457,
          -16.966,
          -16.458,
          -15.921,
          -15.438,
          -14.93,
          -14.458,
          -13.97,
          -13.475,
          -12.975,
          -12.476,
          -11.962,
          -11.447,
          -10.945,
          -10.441,
          -9.985,
          -9.425,
          -8.958,
          -8.45,
          -7.956,
          -7.494,
          -6.961,
          -6.468,
          -5.974,
          -5.472,
          -4.977,
          -4.475,
          -3.964,
          -3.465,
          -2.984,
          -2.478,
          -2.001,
          -1.48,
          -1.029,
          -0.573,
          0.0005882,
          0.0005882
         ],
         "y": [
          -267.00000000000006,
          -264.00000000000006,
          -263.00000000000006,
          -261.00000000000006,
          -265.00000000000006,
          -260.00000000000006,
          -261.00000000000006,
          -257.00000000000006,
          -257.00000000000006,
          -255.00000000000003,
          -255.00000000000003,
          -253.00000000000003,
          -251.00000000000003,
          -249.00000000000003,
          -249.00000000000003,
          -246.00000000000003,
          -243.00000000000003,
          -244.00000000000003,
          -237.00000000000003,
          -234.00000000000003,
          -230.00000000000003,
          -226.00000000000003,
          -222.00000000000003,
          -220.00000000000003,
          -213.00000000000003,
          -205,
          -198.00000000000003,
          -192.00000000000003,
          -182.00000000000003,
          -173,
          -164.00000000000003,
          -151,
          -137.00000000000003,
          -123.00000000000001,
          -109.00000000000001,
          -88,
          -77.00000000000001,
          -57.00000000000001,
          -43,
          -29.000000000000004,
          0.30430000000000007,
          0.30430000000000007
         ]
        },
        {
         "marker": {
          "color": "rgb(0, 0, 255)",
          "line": {
           "color": "MediumPurple",
           "width": 0.8
          },
          "opacity": 0.5,
          "size": 11
         },
         "mode": "markers+text",
         "name": "<b>Exp <b> <b>-26V<b> <b> (-10V)<b>",
         "text": [
          "<b>VGS<b>=-16V  (-10)"
         ],
         "textfont": {
          "color": "rgb(0, 0, 255)",
          "family": "Times New Roman",
          "size": 18
         },
         "textposition": "top right",
         "type": "scatter",
         "x": [
          -19.879,
          -19.437,
          -18.928,
          -18.493,
          -17.977,
          -17.46,
          -16.958,
          -16.44,
          -15.959,
          -15.432,
          -14.966,
          -14.42,
          -13.951,
          -13.414,
          -12.947,
          -12.464,
          -11.941,
          -11.477,
          -10.959,
          -10.462,
          -9.986,
          -9.456,
          -8.986,
          -8.483,
          -7.984,
          -7.515,
          -7.004,
          -6.505,
          -5.998,
          -5.487,
          -5.02,
          -4.475,
          -3.998,
          -3.513,
          -3.046,
          -2.485,
          -2.048,
          -1.567,
          -1.113,
          -0.78,
          -0.459,
          -0.069
         ],
         "y": [
          -917.0000000000001,
          -911.0000000000001,
          -905.0000000000001,
          -900.0000000000001,
          -892.0000000000001,
          -882.0000000000001,
          -875.0000000000001,
          -868.0000000000001,
          -856.0000000000001,
          -848.0000000000001,
          -835.0000000000001,
          -826,
          -812.0000000000001,
          -797.0000000000001,
          -785.0000000000001,
          -770.0000000000001,
          -751.0000000000001,
          -734.0000000000001,
          -713,
          -694,
          -672.0000000000001,
          -648.0000000000001,
          -627.0000000000001,
          -602,
          -579,
          -553.0000000000001,
          -522.0000000000001,
          -490.00000000000006,
          -460.00000000000006,
          -426.00000000000006,
          -394.00000000000006,
          -357,
          -320.00000000000006,
          -286,
          -251.00000000000003,
          -204,
          -166.00000000000003,
          -138.00000000000003,
          -106.00000000000001,
          -73,
          -44,
          -5.000000000000001
         ]
        },
        {
         "marker": {
          "color": "rgb(30, 144, 255)",
          "line": {
           "color": "MediumPurple",
           "width": 0.8
          },
          "opacity": 0.5,
          "size": 11
         },
         "mode": "markers+text",
         "name": "<b>Exp <b> <b>-30V<b> <b> (-10V)<b>",
         "text": [
          "<b>VGS<b>=-20V  (-10)"
         ],
         "textfont": {
          "color": "rgb(30, 144, 255)",
          "family": "Times New Roman",
          "size": 18
         },
         "textposition": "top right",
         "type": "scatter",
         "x": [
          -19.924,
          -19.507,
          -18.951,
          -18.431,
          -18.011,
          -17.522,
          -16.955,
          -16.479,
          -15.968,
          -15.44,
          -15.011,
          -14.456,
          -13.968,
          -13.469,
          -12.954,
          -12.457,
          -11.964,
          -11.439,
          -10.941,
          -10.464,
          -10.003,
          -9.482,
          -8.946,
          -8.506,
          -7.95,
          -7.536,
          -7.007,
          -6.486,
          -6.005,
          -5.496,
          -4.963,
          -4.461,
          -3.989,
          -3.457,
          -2.986,
          -2.489,
          -1.993,
          -1.46,
          -1.07,
          -0.823,
          -0.464,
          -0.019
         ],
         "y": [
          -1299,
          -1284.0000000000002,
          -1269,
          -1258.0000000000002,
          -1244.0000000000002,
          -1230.0000000000002,
          -1220,
          -1202,
          -1184,
          -1168,
          -1150,
          -1132,
          -1108.0000000000002,
          -1085,
          -1059,
          -1038.0000000000002,
          -1009,
          -983.0000000000001,
          -957.0000000000001,
          -923.0000000000001,
          -892.0000000000001,
          -860.0000000000001,
          -825,
          -790.0000000000001,
          -749.0000000000001,
          -712,
          -674.0000000000001,
          -631.0000000000001,
          -590,
          -543.0000000000001,
          -497.00000000000006,
          -448.00000000000006,
          -405.00000000000006,
          -357,
          -305,
          -257.00000000000006,
          -204,
          -159.00000000000003,
          -128.00000000000003,
          -105.00000000000001,
          -59.00000000000001,
          -4.000000000000001
         ]
        }
       ],
       "layout": {
        "height": 600,
        "legend": {
         "font": {
          "size": 16
         }
        },
        "template": {
         "data": {
          "bar": [
           {
            "error_x": {
             "color": "#2a3f5f"
            },
            "error_y": {
             "color": "#2a3f5f"
            },
            "marker": {
             "line": {
              "color": "#E5ECF6",
              "width": 0.5
             },
             "pattern": {
              "fillmode": "overlay",
              "size": 10,
              "solidity": 0.2
             }
            },
            "type": "bar"
           }
          ],
          "barpolar": [
           {
            "marker": {
             "line": {
              "color": "#E5ECF6",
              "width": 0.5
             },
             "pattern": {
              "fillmode": "overlay",
              "size": 10,
              "solidity": 0.2
             }
            },
            "type": "barpolar"
           }
          ],
          "carpet": [
           {
            "aaxis": {
             "endlinecolor": "#2a3f5f",
             "gridcolor": "white",
             "linecolor": "white",
             "minorgridcolor": "white",
             "startlinecolor": "#2a3f5f"
            },
            "baxis": {
             "endlinecolor": "#2a3f5f",
             "gridcolor": "white",
             "linecolor": "white",
             "minorgridcolor": "white",
             "startlinecolor": "#2a3f5f"
            },
            "type": "carpet"
           }
          ],
          "choropleth": [
           {
            "colorbar": {
             "outlinewidth": 0,
             "ticks": ""
            },
            "type": "choropleth"
           }
          ],
          "contour": [
           {
            "colorbar": {
             "outlinewidth": 0,
             "ticks": ""
            },
            "colorscale": [
             [
              0,
              "#0d0887"
             ],
             [
              0.1111111111111111,
              "#46039f"
             ],
             [
              0.2222222222222222,
              "#7201a8"
             ],
             [
              0.3333333333333333,
              "#9c179e"
             ],
             [
              0.4444444444444444,
              "#bd3786"
             ],
             [
              0.5555555555555556,
              "#d8576b"
             ],
             [
              0.6666666666666666,
              "#ed7953"
             ],
             [
              0.7777777777777778,
              "#fb9f3a"
             ],
             [
              0.8888888888888888,
              "#fdca26"
             ],
             [
              1,
              "#f0f921"
             ]
            ],
            "type": "contour"
           }
          ],
          "contourcarpet": [
           {
            "colorbar": {
             "outlinewidth": 0,
             "ticks": ""
            },
            "type": "contourcarpet"
           }
          ],
          "heatmap": [
           {
            "colorbar": {
             "outlinewidth": 0,
             "ticks": ""
            },
            "colorscale": [
             [
              0,
              "#0d0887"
             ],
             [
              0.1111111111111111,
              "#46039f"
             ],
             [
              0.2222222222222222,
              "#7201a8"
             ],
             [
              0.3333333333333333,
              "#9c179e"
             ],
             [
              0.4444444444444444,
              "#bd3786"
             ],
             [
              0.5555555555555556,
              "#d8576b"
             ],
             [
              0.6666666666666666,
              "#ed7953"
             ],
             [
              0.7777777777777778,
              "#fb9f3a"
             ],
             [
              0.8888888888888888,
              "#fdca26"
             ],
             [
              1,
              "#f0f921"
             ]
            ],
            "type": "heatmap"
           }
          ],
          "heatmapgl": [
           {
            "colorbar": {
             "outlinewidth": 0,
             "ticks": ""
            },
            "colorscale": [
             [
              0,
              "#0d0887"
             ],
             [
              0.1111111111111111,
              "#46039f"
             ],
             [
              0.2222222222222222,
              "#7201a8"
             ],
             [
              0.3333333333333333,
              "#9c179e"
             ],
             [
              0.4444444444444444,
              "#bd3786"
             ],
             [
              0.5555555555555556,
              "#d8576b"
             ],
             [
              0.6666666666666666,
              "#ed7953"
             ],
             [
              0.7777777777777778,
              "#fb9f3a"
             ],
             [
              0.8888888888888888,
              "#fdca26"
             ],
             [
              1,
              "#f0f921"
             ]
            ],
            "type": "heatmapgl"
           }
          ],
          "histogram": [
           {
            "marker": {
             "pattern": {
              "fillmode": "overlay",
              "size": 10,
              "solidity": 0.2
             }
            },
            "type": "histogram"
           }
          ],
          "histogram2d": [
           {
            "colorbar": {
             "outlinewidth": 0,
             "ticks": ""
            },
            "colorscale": [
             [
              0,
              "#0d0887"
             ],
             [
              0.1111111111111111,
              "#46039f"
             ],
             [
              0.2222222222222222,
              "#7201a8"
             ],
             [
              0.3333333333333333,
              "#9c179e"
             ],
             [
              0.4444444444444444,
              "#bd3786"
             ],
             [
              0.5555555555555556,
              "#d8576b"
             ],
             [
              0.6666666666666666,
              "#ed7953"
             ],
             [
              0.7777777777777778,
              "#fb9f3a"
             ],
             [
              0.8888888888888888,
              "#fdca26"
             ],
             [
              1,
              "#f0f921"
             ]
            ],
            "type": "histogram2d"
           }
          ],
          "histogram2dcontour": [
           {
            "colorbar": {
             "outlinewidth": 0,
             "ticks": ""
            },
            "colorscale": [
             [
              0,
              "#0d0887"
             ],
             [
              0.1111111111111111,
              "#46039f"
             ],
             [
              0.2222222222222222,
              "#7201a8"
             ],
             [
              0.3333333333333333,
              "#9c179e"
             ],
             [
              0.4444444444444444,
              "#bd3786"
             ],
             [
              0.5555555555555556,
              "#d8576b"
             ],
             [
              0.6666666666666666,
              "#ed7953"
             ],
             [
              0.7777777777777778,
              "#fb9f3a"
             ],
             [
              0.8888888888888888,
              "#fdca26"
             ],
             [
              1,
              "#f0f921"
             ]
            ],
            "type": "histogram2dcontour"
           }
          ],
          "mesh3d": [
           {
            "colorbar": {
             "outlinewidth": 0,
             "ticks": ""
            },
            "type": "mesh3d"
           }
          ],
          "parcoords": [
           {
            "line": {
             "colorbar": {
              "outlinewidth": 0,
              "ticks": ""
             }
            },
            "type": "parcoords"
           }
          ],
          "pie": [
           {
            "automargin": true,
            "type": "pie"
           }
          ],
          "scatter": [
           {
            "fillpattern": {
             "fillmode": "overlay",
             "size": 10,
             "solidity": 0.2
            },
            "type": "scatter"
           }
          ],
          "scatter3d": [
           {
            "line": {
             "colorbar": {
              "outlinewidth": 0,
              "ticks": ""
             }
            },
            "marker": {
             "colorbar": {
              "outlinewidth": 0,
              "ticks": ""
             }
            },
            "type": "scatter3d"
           }
          ],
          "scattercarpet": [
           {
            "marker": {
             "colorbar": {
              "outlinewidth": 0,
              "ticks": ""
             }
            },
            "type": "scattercarpet"
           }
          ],
          "scattergeo": [
           {
            "marker": {
             "colorbar": {
              "outlinewidth": 0,
              "ticks": ""
             }
            },
            "type": "scattergeo"
           }
          ],
          "scattergl": [
           {
            "marker": {
             "colorbar": {
              "outlinewidth": 0,
              "ticks": ""
             }
            },
            "type": "scattergl"
           }
          ],
          "scattermapbox": [
           {
            "marker": {
             "colorbar": {
              "outlinewidth": 0,
              "ticks": ""
             }
            },
            "type": "scattermapbox"
           }
          ],
          "scatterpolar": [
           {
            "marker": {
             "colorbar": {
              "outlinewidth": 0,
              "ticks": ""
             }
            },
            "type": "scatterpolar"
           }
          ],
          "scatterpolargl": [
           {
            "marker": {
             "colorbar": {
              "outlinewidth": 0,
              "ticks": ""
             }
            },
            "type": "scatterpolargl"
           }
          ],
          "scatterternary": [
           {
            "marker": {
             "colorbar": {
              "outlinewidth": 0,
              "ticks": ""
             }
            },
            "type": "scatterternary"
           }
          ],
          "surface": [
           {
            "colorbar": {
             "outlinewidth": 0,
             "ticks": ""
            },
            "colorscale": [
             [
              0,
              "#0d0887"
             ],
             [
              0.1111111111111111,
              "#46039f"
             ],
             [
              0.2222222222222222,
              "#7201a8"
             ],
             [
              0.3333333333333333,
              "#9c179e"
             ],
             [
              0.4444444444444444,
              "#bd3786"
             ],
             [
              0.5555555555555556,
              "#d8576b"
             ],
             [
              0.6666666666666666,
              "#ed7953"
             ],
             [
              0.7777777777777778,
              "#fb9f3a"
             ],
             [
              0.8888888888888888,
              "#fdca26"
             ],
             [
              1,
              "#f0f921"
             ]
            ],
            "type": "surface"
           }
          ],
          "table": [
           {
            "cells": {
             "fill": {
              "color": "#EBF0F8"
             },
             "line": {
              "color": "white"
             }
            },
            "header": {
             "fill": {
              "color": "#C8D4E3"
             },
             "line": {
              "color": "white"
             }
            },
            "type": "table"
           }
          ]
         },
         "layout": {
          "annotationdefaults": {
           "arrowcolor": "#2a3f5f",
           "arrowhead": 0,
           "arrowwidth": 1
          },
          "autotypenumbers": "strict",
          "coloraxis": {
           "colorbar": {
            "outlinewidth": 0,
            "ticks": ""
           }
          },
          "colorscale": {
           "diverging": [
            [
             0,
             "#8e0152"
            ],
            [
             0.1,
             "#c51b7d"
            ],
            [
             0.2,
             "#de77ae"
            ],
            [
             0.3,
             "#f1b6da"
            ],
            [
             0.4,
             "#fde0ef"
            ],
            [
             0.5,
             "#f7f7f7"
            ],
            [
             0.6,
             "#e6f5d0"
            ],
            [
             0.7,
             "#b8e186"
            ],
            [
             0.8,
             "#7fbc41"
            ],
            [
             0.9,
             "#4d9221"
            ],
            [
             1,
             "#276419"
            ]
           ],
           "sequential": [
            [
             0,
             "#0d0887"
            ],
            [
             0.1111111111111111,
             "#46039f"
            ],
            [
             0.2222222222222222,
             "#7201a8"
            ],
            [
             0.3333333333333333,
             "#9c179e"
            ],
            [
             0.4444444444444444,
             "#bd3786"
            ],
            [
             0.5555555555555556,
             "#d8576b"
            ],
            [
             0.6666666666666666,
             "#ed7953"
            ],
            [
             0.7777777777777778,
             "#fb9f3a"
            ],
            [
             0.8888888888888888,
             "#fdca26"
            ],
            [
             1,
             "#f0f921"
            ]
           ],
           "sequentialminus": [
            [
             0,
             "#0d0887"
            ],
            [
             0.1111111111111111,
             "#46039f"
            ],
            [
             0.2222222222222222,
             "#7201a8"
            ],
            [
             0.3333333333333333,
             "#9c179e"
            ],
            [
             0.4444444444444444,
             "#bd3786"
            ],
            [
             0.5555555555555556,
             "#d8576b"
            ],
            [
             0.6666666666666666,
             "#ed7953"
            ],
            [
             0.7777777777777778,
             "#fb9f3a"
            ],
            [
             0.8888888888888888,
             "#fdca26"
            ],
            [
             1,
             "#f0f921"
            ]
           ]
          },
          "colorway": [
           "#636efa",
           "#EF553B",
           "#00cc96",
           "#ab63fa",
           "#FFA15A",
           "#19d3f3",
           "#FF6692",
           "#B6E880",
           "#FF97FF",
           "#FECB52"
          ],
          "font": {
           "color": "#2a3f5f"
          },
          "geo": {
           "bgcolor": "white",
           "lakecolor": "white",
           "landcolor": "#E5ECF6",
           "showlakes": true,
           "showland": true,
           "subunitcolor": "white"
          },
          "hoverlabel": {
           "align": "left"
          },
          "hovermode": "closest",
          "mapbox": {
           "style": "light"
          },
          "paper_bgcolor": "white",
          "plot_bgcolor": "#E5ECF6",
          "polar": {
           "angularaxis": {
            "gridcolor": "white",
            "linecolor": "white",
            "ticks": ""
           },
           "bgcolor": "#E5ECF6",
           "radialaxis": {
            "gridcolor": "white",
            "linecolor": "white",
            "ticks": ""
           }
          },
          "scene": {
           "xaxis": {
            "backgroundcolor": "#E5ECF6",
            "gridcolor": "white",
            "gridwidth": 2,
            "linecolor": "white",
            "showbackground": true,
            "ticks": "",
            "zerolinecolor": "white"
           },
           "yaxis": {
            "backgroundcolor": "#E5ECF6",
            "gridcolor": "white",
            "gridwidth": 2,
            "linecolor": "white",
            "showbackground": true,
            "ticks": "",
            "zerolinecolor": "white"
           },
           "zaxis": {
            "backgroundcolor": "#E5ECF6",
            "gridcolor": "white",
            "gridwidth": 2,
            "linecolor": "white",
            "showbackground": true,
            "ticks": "",
            "zerolinecolor": "white"
           }
          },
          "shapedefaults": {
           "line": {
            "color": "#2a3f5f"
           }
          },
          "ternary": {
           "aaxis": {
            "gridcolor": "white",
            "linecolor": "white",
            "ticks": ""
           },
           "baxis": {
            "gridcolor": "white",
            "linecolor": "white",
            "ticks": ""
           },
           "bgcolor": "#E5ECF6",
           "caxis": {
            "gridcolor": "white",
            "linecolor": "white",
            "ticks": ""
           }
          },
          "title": {
           "x": 0.05
          },
          "xaxis": {
           "automargin": true,
           "gridcolor": "white",
           "linecolor": "white",
           "ticks": "",
           "title": {
            "standoff": 15
           },
           "zerolinecolor": "white",
           "zerolinewidth": 2
          },
          "yaxis": {
           "automargin": true,
           "gridcolor": "white",
           "linecolor": "white",
           "ticks": "",
           "title": {
            "standoff": 15
           },
           "zerolinecolor": "white",
           "zerolinewidth": 2
          }
         }
        },
        "title": {
         "font": {
          "color": "black",
          "family": "Overpass",
          "size": 25
         },
         "text": "<b>Model Vs Model Optimized (OPT)<b>",
         "x": 0.45,
         "y": 0.9
        },
        "width": 1100,
        "xaxis": {
         "title": {
          "font": {
           "color": "black",
           "family": "Overpass",
           "size": 25
          },
          "standoff": 25,
          "text": "<b>VDS / V<b>"
         }
        },
        "yaxis": {
         "title": {
          "font": {
           "color": "black",
           "family": "Overpass",
           "size": 25
          },
          "standoff": 10,
          "text": "<b>ID / uA<b>"
         },
         "type": "linear"
        }
       }
      }
     },
     "metadata": {},
     "output_type": "display_data"
    },
    {
     "name": "stdout",
     "output_type": "stream",
     "text": [
      "\n",
      "\n",
      "\n",
      "\n",
      "\n",
      "\n",
      "**************************************************************************************************************************************************\n",
      "\n",
      "|RELATIVE ERROR BETWEEN CURVES: 4013.7659\n",
      "\n",
      "**************************************************************************************************************************************************\n",
      "\n",
      "\n",
      "\n",
      "\n",
      "\n",
      "\n"
     ]
    }
   ],
   "source": [
    "# @title #### **Print grafics plots of model Optimizad and model data.** { run: \"auto\" }\n",
    "# @markdown ### ***Choice the plot that you want to view:***\n",
    "# @markdown ---\n",
    "option = 'show both curves comp' # @param [\"Show Transfer curve opt\", \"Show output curve opt\", \"show both curves opt\", \"Show Transfer curve comp\", \"Show output curve comp\", \"show both curves comp\"]\n",
    "\n",
    "model_opt = create_optimized_model(read, TFTModel, n_points, type_curve_plot, coeff_opt, input_voltage, Vv, load_idleak, width_t, count_transfer, tp_tst, settings['experimental_data_scale_transfer'], settings['current_typic'], resistance, current)\n",
    "\n",
    "in_model_data_opt, in_exp_data_opt, out_model_data_opt, out_exp_data_opt, in_model_data_comp, in_exp_data_comp, out_model_data_comp, out_exp_data_comp = get_model_data(read, count_transfer, count_output, Vv, Id, model_opt, model, compare=True)\n",
    "\n",
    "plot_curves(option, plot, list_tension, list_tension_shift, count_transfer, in_model_data_comp, out_model_data_comp, in_exp_data_comp, out_exp_data_comp, shift_list, settings['select_files'], settings['current_typic'], type_curve_plot, compare=True)\n",
    "\n",
    "read.compute_relative_distance(Id, model_opt)\n",
    "print('\\n\\n\\n\\n\\n')\n"
   ]
  }
 ],
 "metadata": {
  "colab": {
   "collapsed_sections": [
    "teoZkrLIvxaV",
    "HfZC11MavqP5",
    "Kw3wbLglv07J",
    "IHBDOV5ZwCml",
    "c0Jt9A63whok",
    "kSdWoeRx5pob",
    "yMkpHlhivMmv",
    "Lz9YHSiMvVFb",
    "WYpRFYGbu6oH",
    "cXKg5hS-drnb"
   ],
   "provenance": []
  },
  "kernelspec": {
   "display_name": "otft-env",
   "language": "python",
   "name": "python3"
  },
  "language_info": {
   "codemirror_mode": {
    "name": "ipython",
    "version": 3
   },
   "file_extension": ".py",
   "mimetype": "text/x-python",
   "name": "python",
   "nbconvert_exporter": "python",
   "pygments_lexer": "ipython3",
   "version": "3.10.12"
  }
 },
 "nbformat": 4,
 "nbformat_minor": 0
}
