{
 "cells": [
  {
   "cell_type": "markdown",
   "metadata": {
    "id": "HS2zqnqTp83j"
   },
   "source": [
    "# **Summary** 📘\n",
    "\n",
    "1.   **Abstract**\n",
    "2.   **Introduction**\n",
    "3.   **Objectives**\n",
    "4.   **Methodology**\n",
    "4.   **Model**\n",
    "4.   **Using the Model**\n",
    "5.   **Optimizing the Model**\n",
    "5.   **Visualizing Optimized Parameters**\n",
    "5.   **Results**\n",
    "6.   **References**"
   ]
  },
  {
   "cell_type": "markdown",
   "metadata": {
    "id": "_a5XygxxnYzp"
   },
   "source": [
    "## **Benchmarking Tool for Thin-Film Transistors** ⚡\n",
    "\n",
    "## **Student**:\n",
    "\n",
    "Rodrigo Santos Batista – rsb6@cin.ufpe.br\n",
    "\n",
    "CIn ­ UFPE\n",
    "\n",
    "## **Research project**:\n",
    "\n",
    "Benchmarking emerging technologies for near and far computing\n",
    "\n",
    "inside sensors (BEeTle)\n",
    "\n",
    "## **Coordinator**:\n",
    "\n",
    "Stefan Michael Blawid – sblawid@cin.ufpe.br\n",
    "\n",
    "CIn ­ UFPE"
   ]
  },
  {
   "cell_type": "markdown",
   "metadata": {
    "id": "BHo5BnF7L2jD"
   },
   "source": []
  },
  {
   "cell_type": "markdown",
   "metadata": {
    "id": "teoZkrLIvxaV"
   },
   "source": [
    "### **Abstract** 📩"
   ]
  },
  {
   "cell_type": "markdown",
   "metadata": {
    "id": "T1gfcLkSyPWh"
   },
   "source": [
    "> Thin-film transistors (TFTs) are electronic switches where a current flows from the source terminal to the drain terminal, controlled by the voltage applied to the third terminal, the gate. Benchmark models need to reasonably reproduce the current-voltage (IV) characteristics of TFTs with a minimal number of parameters. Here, \"reasonably\" means that the model parameters can be reliably and unambiguously extracted from experimental IV curves."
   ]
  },
  {
   "cell_type": "markdown",
   "metadata": {
    "id": "HfZC11MavqP5"
   },
   "source": [
    "### **Introduction** 📢\n"
   ]
  },
  {
   "cell_type": "markdown",
   "metadata": {
    "id": "jfejU_Wbvbcg"
   },
   "source": [
    "> The ubiquitous computing paradigm envisions computing appearing everywhere at any time. Flexible electronics are considered an essential enabling technology `[1]`. Flexible electronics offer various form factors, including soft, flexible, stretchable, and lightweight forms, thus allowing ambient intelligence to become widely available. Promising applications in health, industrial, environmental, agricultural, and structural monitoring have already been demonstrated `[2]`. It is generally accepted that the low cost required for edge devices `[3]` of future Internet of Things (IoT) infrastructures can only be achieved through printing manufacturing. The basic printed blocks of flexible electronics include sensors, energy harvesters, displays, and antennas. Many of these components require thin-film transistors (TFTs) as active switches. TFTs are usually compared across different devices and technologies based on threshold voltage, charge carrier mobility, and series resistance. However, conventional parameter extraction established for silicon transistors often leads to misleading results when applied to TFTs `[4]`. Some of the peculiarities of TFTs can be addressed by the virtual source (VS) emission-diffusion (ED) theory `[5]`. In combination with nonlinear least squares solvers, VSED-based benchmark models can replace conventional extraction methods and are applicable to a wide range of TFT technologies `[6]`."
   ]
  },
  {
   "cell_type": "markdown",
   "metadata": {
    "id": "Kw3wbLglv07J"
   },
   "source": [
    "### **Objective** 🔎\n"
   ]
  },
  {
   "cell_type": "markdown",
   "metadata": {
    "id": "aqwdc5NS_7bH"
   },
   "source": [
    "> The optimization of parameters for TFT devices is an important process in the manufacturing of thin-film electronics. The main reason for performing this process is to improve the performance of the devices, making them more efficient, reliable, and cost-effective. Essentially, we want to optimize certain parameters embedded in a model that will provide the best results for the production of these devices. A simplified form of how the model operates can be described as follows: `ID = F(VGS, VDS)` where:\n",
    "> * ID → Electric current that flows between the source and drain terminals of a thin-film transistor (TFT)\n",
    "> * VGS → Voltage applied to the gate terminal of the transistor, which controls the current flowing between the source and drain terminals\n",
    "> * VDS → Voltage applied to the drain terminal of the transistor, which determines the current flowing between the source and drain terminals when the gate voltage is kept constant.\n",
    "\n",
    "> VGS and VDS are important for the operation of the TFT transistor and for the optimization of its parameters, which can be obtained from the device's transfer and output curves. From these operations, it is possible to obtain information about its parameters, such as Vtho, l, n, JD, leak, δ, RS, λ, and Vcrit. Since these parameters are limited in the model, it allows for the simultaneous adjustment of all values. Therefore, parameter optimization is performed using a nonlinear least squares solver, which allows for efficient and unambiguous parameter adjustment. In this way, it is possible to gain a better understanding of the TFT device's behavior and optimize its operation for specific applications. Additionally, parameter optimization is also important to ensure the quality and reliability of the device, as well as its integration into complex electronic circuits."
   ]
  },
  {
   "cell_type": "markdown",
   "metadata": {
    "id": "IHBDOV5ZwCml"
   },
   "source": [
    "### **Methodology** 📚\n"
   ]
  },
  {
   "cell_type": "markdown",
   "metadata": {
    "id": "ioyQZpzaItji"
   },
   "source": [
    "> To perform this optimization, we will use the SciPy library, an open-source Python module that provides advanced mathematical functions and algorithms for scientific data processing and numerical analysis. More specifically, we will apply the `curve_fit` function, which is a type of optimization that finds an ideal set of parameters for a defined function that best fits a given set of observations.\n",
    "\n",
    "> Unlike supervised learning, curve fitting requires the author to define the function that maps input examples to outputs. The mapping function, also called the base function, can take any form, including a straight line (linear regression), a curved line (polynomial regression), and many others. This provides flexibility and control to define the shape of the curve, where an optimization process is used to find the optimal specific parameters of the function. For our purposes, this will be to optimize the parameters of the function $ID = F(VGS, VDS)$, which will give us the current at each pair of points from the experiment conducted.\n",
    "\n",
    "> Here is a trivial example of how `curve_fit` works:\n",
    "\n",
    "  > * First, the curve is constructed.\n",
    "  > * Then, we apply the Python curve-fitting API.\n",
    "\n",
    "> In this way, we will think of curve fitting in two dimensions, like a 2D graph. So, let's consider that data collection was performed from the problem domain with inputs and outputs.\n",
    "\n",
    "> The `x-axis is the independent variable` or the input to the function. The `y-axis is the dependent variable` or the output of the function. We do not know the shape of the function that maps input examples to outputs, but we suspect we can approximate the function with a standard function shape. Curve fitting involves first defining the `functional form of the mapping function` (base function or objective function) and searching for the parameters in the function that result in the minimum error.\n",
    "\n",
    "> The error is calculated using observations from the domain and passing the inputs to our candidate mapping function, calculating the output, and comparing the calculated output with the observed output.\n",
    "\n",
    "> Once in shape, we can use the mapping function to interpolate or extrapolate new points in the domain. It is common to run a sequence of input values through the mapping function to calculate a sequence of outputs, then create a line graph of the result to show how the output varies with the input and how well the line fits the observed points.\n",
    "\n",
    "> The key to curve fitting is the shape of the mapping function. A straight line between inputs and outputs can be defined as follows: `y = a * x + b`\n",
    "Where `y is the calculated output`, `x is the input`, and `a` and `b` are parameters of the mapping function found using an optimization algorithm. This is called a linear equation because it is a weighted sum of the inputs. In a linear regression model, these parameters are referred to as coefficients; in a neural network, they are called weights.\n",
    "\n",
    "> This equation can be generalized to any number of inputs (which is the purpose for us), meaning that the notion of curve fitting is not limited to two dimensions (one input and one output) but could have many input variables.\n",
    "\n",
    "> An important observation is that adding arbitrary mathematical functions to our mapping function usually means we cannot calculate the parameters analytically and instead need to use an iterative optimization algorithm. This is called `nonlinear least squares`,\n",
    "as the objective function is no longer convex (not linear), and it is not as simple to solve.\n",
    "\n",
    "> Since our model's data is bi-dimensional, we are not in the trivial case. Thus, when passing data to the model, we will need to preprocess it first. For instance, suppose that for our problem, we will have the voltages Vd and Vg as a set of vectors. Essentially, what will be computed is an $MxN$ matrix; however, the `curve_fit` function only calculates ideal parameters for the one-dimensional vector case. So, we will first allocate all Vg voltages into a matrix and do the same for Vd voltages. Then, we will use Python's `np.ravel()` function to transform an array into a one-dimensional array. This operation does not affect the integrity of the data, only resizes it. The `np.ravel()` function returns a copy of the original array, with all elements of the original array \"flattened\" into a single one-dimensional array. This means that the function returns an array with all the rows of the original array concatenated into a single row."
   ]
  },
  {
   "cell_type": "markdown",
   "metadata": {
    "id": "c0Jt9A63whok"
   },
   "source": [
    "### **Model Description** 🔧\n"
   ]
  },
  {
   "cell_type": "markdown",
   "metadata": {
    "id": "_r5x1sBswlA1"
   },
   "source": [
    "The mathematical model to which we will subject the experimental data consists of a set of equations, where each variable has its degree of importance and contribution. Below is its prototyping as well as what each parameter signifies:\n",
    "\n",
    "The drain current of a TFT consists of mobile charges $Q_{free}$ modulated by the gate voltage and moves with a velocity modulated by the drain voltage. At high electric fields from source to drain, the carrier velocity saturates at a value $V_{sat}$. However, carriers need to scale a potential barrier on the path from source to drain, which represents a bottleneck for carrier transport. The limited rate of charge injection from the top of the barrier potential choke point can be termed as a virtual source (VS). The modified $V_{sed}$ model suggests a specific form of drain current per gate width W in VS:\n",
    "$$J_D = \\frac{I_D}{W} = V_{sat} \\cdot F_{sat} \\cdot Q_{free} $$\n",
    "\n",
    "Some charged particles are not mobile. In certain cases, an exponential tail of trapping states ranging from the valence band edge to the band gap can relate the free and total carrier density by a power law. This occurs because all states are occupied according to the same quasi-Fermi level, as seen in Equation (B4) in [8] and its earlier derivation. Thus, the equation shows that\n",
    "$$Q_{free} = q \\cdot \\sigma_v \\cdot \\left(\\frac{Q_{tot}}{q \\cdot \\sigma_{traps}}\\right)^l$$\n",
    "\n",
    "Here, $σ_V$ and $σ_{traps}$ represent the density of valence states and traps in a single semiconductor layer in $V_S$, respectively. The value of the exponent $l$ is determined by the effective \"temperature\" ratio defining the exponential distribution of trap states' energy and the device temperature, originating from the Boltzmann energy distribution of free charge carriers. However, since the exact trap distribution is generally unknown, $l$ is treated as a model parameter. The distinction between free and trapped charge carriers, as presented in Equation (2), is the main adaptation of the VSED framework for thin film materials proposed in this work.\n",
    "\n",
    "For a depleted semiconductor, an exponential accumulation of holes (positive charges) is expected with increasing gate field, which ceases when substantial shielding by the accumulated charge sheet is established. The following phenomenological expression first proposed in [9] is employed:\n",
    "$$ Q_{tot} = C_I \\cdot n \\cdot V_T \\cdot \\ln \\left[ 1 + e^{\\psi \\cdot V_S - V_{GS}} \\cdot n \\cdot V_T \\right],$$\n",
    "$$ \\psi \\cdot V_S = V_{tho} + |\\delta| \\cdot V_{DS}$$\n",
    "\n",
    "The gate insulator capacitance depends on the dielectric constant ε and the insulator thickness tI: $C_I = \\frac{ε}{t_I}$. The thermal voltage is represented by $V_T = \\frac{kT}{q}$. The transition from weak to strong accumulation is modeled by parameters $n, V_{th0}$, and $δ$, where $n$ is influenced by the charging of the semiconductor region adjacent to the gate insulator interface, filling surface states and affecting the band bending rate with gate bias.\n",
    "\n",
    "The interface potential becomes independent of VGS when it reaches a bias value $ψ \\cdot V_S$, also known as threshold voltage. This allows parameterizing the potential barrier control by gate bias in TFTs. The parameter $ψ \\cdot V_S$ represents the critical bias at which the potential at $V_S$ becomes independent of gate voltage. During hole accumulation at the gate insulator interface, parameters n and $l$ describe the loading of trap states, and the voltage scale for the exponential increase of drain current with gate bias is given by $(\\frac{n}{l}) \\cdot V_T$ in the VSED model. The parameter $δ$ does not necessarily represent drain-induced barrier lowering (DIBL).\n",
    "\n",
    "The charge injection velocity $Q_{free}$ in the transistor channel is represented by $V_{inj} = V_{sat} \\cdot F_{sat}$. It is common to estimate the drain current in TFTs as a drift motion of injected charge carriers, but this can lead to a mistaken conclusion about saturation velocity $V_{sat}$. While in high electric field regions the saturation velocity equals the body semiconductor saturation velocity, in low electric field regions the saturation velocity is defined by the unidirectional thermal velocity of the quasi-Fermi potential, not the electrostatic potential. This concept is discussed in [10]:\n",
    "$$V_{sat} = \\frac{2D}{\\bar{\\lambda}_{free}} = \\frac{2 \\cdot \\mu \\cdot V_T}{\\bar{\\lambda}_{free}}$$\n",
    "\n",
    "which is parametrized here by the diffusion coefficient $D$ and may relate to drift mobility $μ$ through the Einstein relation. In low drain bias, charge carrier diffusion is the dominant transport mechanism in much of the TFT and not just in $V_S$. The characteristic length in Eq. (5) will no longer be given by the mean free path $\\bar{\\lambda}_{free}$ but by the diffusion length. Since only carriers of a single type are injected into a basically intrinsic semiconductor, the diffusion length can be very large and comparable to the device dimension given by the gate length $L_G$. $F_{sat}$ introduces a length scale $λ = \\frac{L_G}{\\bar{\\lambda}_{free}}$, which effectively replaces ${\\bar{\\lambda}_{free}}$ → $L_G$ under low drain bias.\n",
    "\n",
    "The remaining function $F_{sat}$ describes the drainage of accumulated holes. For long-channel TFTs, diffusion and emission theory [11, 5] represent an interesting approach to determine $F_{sat}$:\n",
    "\n",
    "$$F_{sat} = \\frac{1}{1 + 2t} \\cdot \\frac{1-e^{-\\left(\\frac{-V_{SD}}{V_T}\\right)}}{1+e^{-\\left(\\frac{-V_{SD}}{V_T}\\right)}} \\cdot \\frac{1}{1+2t}$$\n",
    "\n",
    "For drain bias significantly exceeding thermal voltage, the transition function is described by $F_{sat} = \\frac{1}{1 + 2t}$. The critical probability factor $t$ is determined by a mean Boltzmann factor in the channel region controlled by the gate and can be obtained from the specific potential profile. For long-channel devices, an analytical form has been proposed, which can be found in equations (4) to (12) of reference [11].\n",
    "\n",
    "$$ t = \\frac{2 \\cdot \\lambda}{m^2 (1 - η^2)} \\cdot \\left[ (1 - m \\cdot η) \\cdot e^{-m (1 - η)} - (1 - m) \\right]$$\n",
    "\n",
    "$$ η = 1 - \\tanh\\left(\\frac{V_{SD}}{mV_T}\\right)$$\n",
    "\n",
    "$$ m = \\frac{2 \\cdot \\frac{V_{Gt}}{V_T}}{1 + \\sqrt{\\frac{2 \\cdot V_{Gt}}{V_{crit}}}}$$\n",
    "\n",
    "$$ V_{Gt} = \\frac{Q_{tot}}{C_I}$$\n",
    "\n",
    "Note that an increase in transistor overdrive leads to a spacious diffusion region and shifts the onset of saturation to higher drain bias. In high gate bias, the necessary increase in saturation voltage decreases and transforms into square root growth for $V_{Gt} > V_{crit}$. Note that the saturation velocity given by Eq. (5) is achieved only for both large $V_{SG}$ (low barrier) and large $V_{SD}$ (sink load). In general, the critical diffusion length replacing $\\lambda_{free}$ in Eq. (5) is a fraction of $L_G$ dependent on gate voltage. The $V_{Gt}$ required to achieve maximum injection velocity given by unidirectional thermal velocity decreases with $L_G$.\n",
    "\n",
    "* The first equation is used to calculate the average lifetime of an unstable particle. It relates the average lifetime ($t$) of an unstable particle to its mass ($m$), binding energy ($λ$), and damping factor ($η$). The equation is a mathematical expression of the exponential decay law of the particle.\n",
    "\n",
    "* The second equation is used to calculate the reflection coefficient of a wave in a MOSFET transistor (metal-oxide-semiconductor field-effect transistor). The equation relates the reflection coefficient ($η$) to the potential difference between drain and source ($V_{SD}$), ambient temperature ($V_T$), and a device parameter ($m$).\n",
    "\n",
    "* The third equation is used in semiconductor devices to calculate the slope factor of a MOSFET transistor. The slope factor is a measure of the transistor's efficiency in turning on and off quickly. The equation relates the slope factor ($m$) to the transistor's threshold voltage ($V_{GT}$), a critical voltage constant ($V_{crit}$), and ambient temperature ($V_T$).\n",
    "\n",
    "* The fourth equation is used to calculate the threshold voltage of a MOSFET transistor. The threshold voltage is the minimum voltage required to turn on the transistor. The equation relates the threshold voltage ($V_{GT}$) to the total charge ($Q_{tot}$) stored on the transistor gate, the gate capacitance ($C$), and the current ($I$) applied to the gate.\n",
    "\n",
    "Understanding how each equation relates and what each one consists of, we will abstract all this 'complex' mathematics into the model code and execute it to observe what kind of results it will yield.\n",
    "\n",
    "Remembering that our goal here will be to optimize the coefficients $J_T, V_{tho}, δ, l\n",
    "\n",
    ", n, λ$, and $V_{crit}$ used in the modeling of the equations.\n",
    "\n",
    "* $J_T$ → Junction Temperature Coefficient. It is a parameter representing the temperature variation at the junction of an electronic device, such as a transistor, diode, or integrated circuit. The value of $J_T$ is important for the correct design and operation of these devices.\n",
    "\n",
    "* $V_{tho}$ → Threshold Voltage. It is the minimum electric voltage that must be applied to an electronic device, such as a MOSFET transistor, to initiate current conduction. The value of $V_{tho}$ is determined by the properties of the semiconductor material used in the device construction.\n",
    "\n",
    "* $δ$ → Diffusion Layer Thickness. It is a parameter representing the thickness of the doped semiconductor material layer deposited on the semiconductor substrate surface to form a transistor or other electronic device.\n",
    "\n",
    "* $l$ → Diffusion Length. It is a parameter representing the distance that the semiconductor material doping diffuses on the semiconductor substrate surface during the electronic device manufacturing process.\n",
    "\n",
    "* $n$ → Diode Ideality Factor. It is a parameter describing the relationship between the electric current and voltage in a diode. The value of $n$ is used to calculate the diode's voltage drop at different current levels.\n",
    "\n",
    "* $λ$ → Voltage Drop Coefficient. It is a parameter describing the voltage drop in an electronic device relative to the electric current passing through it. The value of $λ$ is used to calculate the voltage drop in a MOSFET transistor at different current levels.\n",
    "\n",
    "* $V_{crit}$ → Critical Voltage. It is an electric voltage representing the maximum voltage limit that an electronic device can withstand without damaging its structure or functionality. The value of $V_{crit}$ is determined by the properties of the semiconductor materials used in the device construction and is important for the safe design and operation of electronic circuits.\n",
    "\n",
    "Remembering that our objective here will be to optimize the coefficients $J_T, V_{tho}, δ, l, n, λ$, and $V_{crit}$ used in the modeling of the equations.\n",
    "\n",
    "* $J_T$ → Junction Temperature Coefficient. It is a parameter representing the temperature variation at the junction of an electronic device, such as a transistor, diode, or integrated circuit. The value of $J_T$ is important for the correct design and operation of these devices.\n",
    "\n",
    "* $V_{tho}$ → Threshold Voltage. It is the minimum electric voltage that must be applied to an electronic device, such as a MOSFET transistor, to initiate current conduction. The value of $V_{tho}$ is determined by the properties of the semiconductor material used in the device construction.\n",
    "\n",
    "* $δ$ → Diffusion Layer Thickness. It is a parameter representing the thickness of the doped semiconductor material layer deposited on the semiconductor substrate surface to form a transistor or other electronic device.\n",
    "\n",
    "* $l$ → Diffusion Length. It is a parameter representing the distance that the semiconductor material doping diffuses on the semiconductor substrate surface during the electronic device manufacturing process.\n",
    "\n",
    "* $n$ → Diode Ideality Factor. It is a parameter describing the relationship between the electric current and voltage in a diode. The value of $n$ is used to calculate the diode's voltage drop at different current levels.\n",
    "\n",
    "* $λ$ → Voltage Drop Coefficient. It is a parameter describing the voltage drop in an electronic device relative to the electric current passing through it. The value of $λ$ is used to calculate the voltage drop in a MOSFET transistor at different current levels.\n",
    "\n",
    "* $V_{crit}$ → Critical Voltage. It is an electric voltage representing the maximum voltage limit that an electronic device can withstand without damaging its structure or functionality. The value of $V_{crit}$ is determined by the properties of the semiconductor materials used in the device construction and is important for the safe design and operation of electronic circuits.\n",
    "\n",
    "\n",
    "\n"
   ]
  },
  {
   "cell_type": "markdown",
   "metadata": {
    "id": "RkmdLzKbMAnz"
   },
   "source": [
    "## **Using the Model** 💻"
   ]
  },
  {
   "cell_type": "markdown",
   "metadata": {
    "id": "Ril-6Y3iKXdL"
   },
   "source": [
    "Below, insert the address of the `MODULE_OTFT` module that contains the files to be imported. This folder contains all the necessary files that the model uses to function. It can be loaded following the example: `sys.path.append('/content/drive/MyDrive/your/path/Model_OTFT')`, simply replace the path below with the corresponding path from your mounted drive containing the module."
   ]
  },
  {
   "cell_type": "code",
   "execution_count": 1,
   "metadata": {
    "id": "6UzzLMgVLD9V"
   },
   "outputs": [],
   "source": [
    "# sys.path.append('/content/drive/MyDrive/ICs/beTFT/Model_OTFT') # Change to your own path"
   ]
  },
  {
   "cell_type": "code",
   "execution_count": 2,
   "metadata": {
    "id": "JnknGBYoiJZ2"
   },
   "outputs": [],
   "source": [
    "# Load the used classes\n",
    "from modules_otft._imports import *\n",
    "from modules_otft._read_data import ReadData\n",
    "from modules_otft._model import TFTModel\n",
    "from modules_otft._grafics import  TFTGraphicsPlot\n",
    "from modules_otft._menu import TFTMenu\n",
    "\n",
    "# from modules_otft._global_vars import *\n",
    "from modules_otft._config import *\n",
    "from modules_otft._utils import *\n"
   ]
  },
  {
   "cell_type": "markdown",
   "metadata": {
    "id": "-m6XG_odMgoL"
   },
   "source": [
    "---\n",
    "## **Instantiating the used classes**\n",
    "---\n"
   ]
  },
  {
   "cell_type": "code",
   "execution_count": 3,
   "metadata": {
    "id": "pXJi9KefNXnl"
   },
   "outputs": [],
   "source": [
    "plot = TFTGraphicsPlot()\n",
    "menu = TFTMenu()\n",
    "read = ReadData()"
   ]
  },
  {
   "cell_type": "markdown",
   "metadata": {
    "id": "G0y8r9ATMVuR"
   },
   "source": [
    "---\n",
    "## **Loading sample data** 📚\n",
    "\n",
    "\n",
    "---\n",
    "\n"
   ]
  },
  {
   "cell_type": "code",
   "execution_count": 4,
   "metadata": {
    "cellView": "form",
    "colab": {
     "base_uri": "https://localhost:8080/"
    },
    "executionInfo": {
     "elapsed": 18258,
     "status": "ok",
     "timestamp": 1730290019904,
     "user": {
      "displayName": "Rodrigo Santos Batista",
      "userId": "10844009603124520931"
     },
     "user_tz": 180
    },
    "id": "zojCEe15uAiJ",
    "outputId": "12bc9236-bf6a-4332-e963-aff864b66c58"
   },
   "outputs": [
    {
     "name": "stdout",
     "output_type": "stream",
     "text": [
      "--------------------------------------------------------------------------------------------------------------------------------------------------------------------------------------------------------\n",
      "--------------------------------------------------------------------------------------------------------------------------------------------------------------------------------------------------------\n",
      "\n",
      "\n",
      "___________________________________________________________________________________ SETTINGS PRESENT IN THE JSON FILE:___________________________________________________________________________________\n",
      "\n",
      "| path: /home/rsb6/Desktop/Artigo JICS/Model_OTFT/datas/SBMicro\n",
      "--------------------------------------------------------------------------------------------------------------------------------------------------------------------------------------------------------\n",
      "| experimental_data_scale_transfer: mA\n",
      "--------------------------------------------------------------------------------------------------------------------------------------------------------------------------------------------------------\n",
      "| experimental_data_scale_output: A\n",
      "--------------------------------------------------------------------------------------------------------------------------------------------------------------------------------------------------------\n",
      "| current_typic: uA\n",
      "--------------------------------------------------------------------------------------------------------------------------------------------------------------------------------------------------------\n",
      "| loaded_voltages: -40, -20, -40, -60, -80\n",
      "--------------------------------------------------------------------------------------------------------------------------------------------------------------------------------------------------------\n",
      "| curves_transfer: 1\n",
      "--------------------------------------------------------------------------------------------------------------------------------------------------------------------------------------------------------\n",
      "| type_curve_plot: logarithmic\n",
      "--------------------------------------------------------------------------------------------------------------------------------------------------------------------------------------------------------\n",
      "| type_read_data_exp: read original data\n",
      "--------------------------------------------------------------------------------------------------------------------------------------------------------------------------------------------------------\n",
      "| shift_volt_data: 0, -1, -2, -6\n",
      "--------------------------------------------------------------------------------------------------------------------------------------------------------------------------------------------------------\n",
      "| select_files: \n",
      "--------------------------------------------------------------------------------------------------------------------------------------------------------------------------------------------------------\n",
      "| resistance_scale: 1e4\n",
      "--------------------------------------------------------------------------------------------------------------------------------------------------------------------------------------------------------\n",
      "| current_carry: 1e-10\n",
      "--------------------------------------------------------------------------------------------------------------------------------------------------------------------------------------------------------\n",
      "| with_transistor: 0.1\n",
      "--------------------------------------------------------------------------------------------------------------------------------------------------------------------------------------------------------\n",
      "| type_of_transistor: pFET\n",
      "--------------------------------------------------------------------------------------------------------------------------------------------------------------------------------------------------------\n",
      "| loaded_parameters: {'VTHO': 8.0, 'DELTA': 0.010898, 'N': 34.773, 'L': 2.5641, 'VGCRIT': 32.3, 'JTH': 1, 'RS': 1}\n",
      "--------------------------------------------------------------------------------------------------------------------------------------------------------------------------------------------------------\n",
      "| idleak_mode: unique idleak value\n",
      "--------------------------------------------------------------------------------------------------------------------------------------------------------------------------------------------------------\n",
      "| loaded_idleak: 2e-11\n",
      "--------------------------------------------------------------------------------------------------------------------------------------------------------------------------------------------------------\n",
      "| image_size_width: None\n",
      "--------------------------------------------------------------------------------------------------------------------------------------------------------------------------------------------------------\n",
      "| image_size_height: None\n",
      "--------------------------------------------------------------------------------------------------------------------------------------------------------------------------------------------------------\n",
      "| upper_bounds: {'ub_VTHO': 12, 'ub_DELTA': 0.2, 'ub_N': 130, 'ub_L': 4.1, 'ub_VGCRIT': 80, 'ub_JTH': 10, 'ub_RS': 10}\n",
      "--------------------------------------------------------------------------------------------------------------------------------------------------------------------------------------------------------\n",
      "| lower_bounds: {'lb_VTHO': 8, 'lb_DELTA': 0, 'lb_N': 10, 'lb_L': 1, 'lb_VGCRIT': 10, 'lb_JTH': 0, 'lb_RS': 0}\n",
      "--------------------------------------------------------------------------------------------------------------------------------------------------------------------------------------------------------\n",
      "| default_bounds: yes\n",
      "--------------------------------------------------------------------------------------------------------------------------------------------------------------------------------------------------------\n",
      "| optimization_method: trf\n",
      "--------------------------------------------------------------------------------------------------------------------------------------------------------------------------------------------------------\n",
      "| tolerance_factor: 4e-7\n",
      "--------------------------------------------------------------------------------------------------------------------------------------------------------------------------------------------------------\n",
      "\n",
      "\n",
      "Shift value    : [0, -1, -2, -6]\n",
      "\n",
      "List volt shift: [-40, -20, -39, -58, -74]\n",
      "\n",
      "--------------------------------------------\n",
      "--------------------------------------------\n",
      "|                READ FILES                |\n",
      "--------------------------------------------\n",
      "--------------------------------------------\n",
      "|             transfer-40V.csv             |\n",
      "--------------------------------------------\n",
      "|              output-20V.csv              |\n",
      "--------------------------------------------\n",
      "|              output-40V.csv              |\n",
      "--------------------------------------------\n",
      "|              output-60V.csv              |\n",
      "--------------------------------------------\n",
      "|              output-80V.csv              |\n",
      "--------------------------------------------\n",
      "--------------------------------------------\n",
      "\n",
      "The table above shows all the files that were read in the directory, if you want to filter files so that only those that are of interest are read, do this by passing numbers that correspond to the order of the experiment curves,\n",
      "separated by ,. For example: 0:tranfer-5v , 3:output-40v and so on\n",
      "\n",
      "\n",
      "\n",
      "\n",
      "List volt shift  : [-40, -20, -40, -60, -80]\n",
      "List tension     : [-40, -20, -39, -58, -74]\n",
      "\n",
      "--------------------------------------------\n",
      "--------------------------------------------\n",
      "|                READ FILES                |\n",
      "--------------------------------------------\n",
      "--------------------------------------------\n",
      "|             transfer-40V.csv             |\n",
      "--------------------------------------------\n",
      "|              output-20V.csv              |\n",
      "--------------------------------------------\n",
      "|              output-40V.csv              |\n",
      "--------------------------------------------\n",
      "|              output-60V.csv              |\n",
      "--------------------------------------------\n",
      "|              output-80V.csv              |\n",
      "--------------------------------------------\n",
      "--------------------------------------------\n",
      "\n",
      "\n",
      "\n",
      "\n",
      "   VTHO     |    DELTA   |      N     |     L      |    LAMBDA  |   VGCRIT   |    JTH     |     RS    |\n",
      "-------------------------------------------------------------------------------------------------------\n",
      "[8.0000e+00 │ 1.0898e-02 │ 3.4773e+01 │ 2.5641e+00 │ 3.2300e+01 │ 1.0000e+00 │ 1.0000e+00]\n",
      "-------------------------------------------------------------------------------------------------------\n",
      "\n"
     ]
    }
   ],
   "source": [
    "# @title ### **Load parameters local / remote directory.**\n",
    "# @markdown In this section, you can load the intrinsic parameters of the model you want to optimize. The load can be done locally, by choosing your `json` file containing all the values ​​to be loaded, parameters `Vtho, delta, n, l, lam, Vgcrit, Jth, Rs`\n",
    "\n",
    "# @markdown Note, also, that it is necessary to provide the respective values ​​of `resistance_scale`, `current_carry` and `with_transistor`, which are respectively: resistance values, current values ​​- where the transistor typically operates - and transistor width (associated technology). If you want to add a value other than the default, add it to the field. Remember that the values ​​in the `JTH` and `Rs` fields will be multiples of the values ​​defined in these fields and the value of `with_transistor` is in units of `[cm]`. So make sure you provide consistent values ​​so that the template output can also be consistent\n",
    "\n",
    "# @markdown ---\n",
    "\n",
    "# Read and show the path file Json\n",
    "settings = enter_with_json_file()\n",
    "print()\n",
    "print()\n",
    "\n",
    "ld_voltages = load_voltages(settings['loaded_voltages'])\n",
    "\n",
    "type_curve_plot = get_type_plot(settings['type_curve_plot'])\n",
    "\n",
    "shift_list = calculate_shift_list(settings['shift_volt_data'], ld_voltages, settings['curves_transfer'])\n",
    "\n",
    "list_tension_shift = get_shift_list(read, settings['curves_transfer'], shift_list, ld_voltages)\n",
    "\n",
    "path_voltages = read.read_files_experimental(settings['path'], list_tension_shift)\n",
    "\n",
    "Vv, Id, input_voltage, n_points, count_transfer, count_output = read.load_data(settings['type_read_data_exp'], path_voltages, settings['current_typic'], settings['experimental_data_scale_transfer'], settings['experimental_data_scale_output'], type_curve_plot)\n",
    "\n",
    "\n",
    "print(\"Shift value    : \" + f'{shift_list}')\n",
    "print()\n",
    "\n",
    "print(\"List volt shift: \" +  f'{list_tension_shift}')\n",
    "print()\n",
    "list_curves = menu.view_path_reads(path_voltages, list_tension_shift)\n",
    "\n",
    "print()\n",
    "print('The table above shows all the files that were read in the directory, if you want to filter files so that only those that are of interest are read, do this by passing numbers that correspond to the order of the experiment curves,')\n",
    "print('separated by ,. For example: 0:tranfer-5v , 3:output-40v and so on')\n",
    "print('\\n\\n')\n",
    "\n",
    "path_voltages, list_tension_shift, list_tension = filter_and_load_files(read, settings['select_files'], list_curves, list_tension_shift, ld_voltages, settings['path'])\n",
    "\n",
    "print()\n",
    "\n",
    "print(\"List volt shift  : \" f'{list_tension_shift}' )\n",
    "print(\"List tension     : \" f'{list_tension}' )\n",
    "print()\n",
    "_ = menu.view_path_reads(path_voltages, list_tension_shift)\n",
    "print('\\n\\n')\n",
    "\n",
    "\n",
    "tp_tst = get_transistor_type(settings['type_of_transistor'])\n",
    "resistance = get_resistance(settings['resistance_scale'])\n",
    "current = get_current(settings['current_carry'])\n",
    "width_t = get_transistor_width(settings['with_transistor'])\n",
    "load_parameters = load_coefficients(settings['loaded_parameters'])\n",
    "\n",
    "\n",
    "print()\n",
    "menu.print_values(load_parameters)\n",
    "print()\n",
    "\n",
    "mode_idleak, load_idleak = load_idleak_parameters(settings['idleak_mode'], settings['loaded_idleak'])"
   ]
  },
  {
   "cell_type": "code",
   "execution_count": 5,
   "metadata": {
    "cellView": "form",
    "colab": {
     "base_uri": "https://localhost:8080/",
     "height": 1000
    },
    "executionInfo": {
     "elapsed": 505,
     "status": "ok",
     "timestamp": 1730290020406,
     "user": {
      "displayName": "Rodrigo Santos Batista",
      "userId": "10844009603124520931"
     },
     "user_tz": 180
    },
    "id": "q1VjR5eys3Bi",
    "outputId": "14606288-42a6-46ba-b23c-1ebea2f2f88e"
   },
   "outputs": [
    {
     "data": {
      "application/vnd.plotly.v1+json": {
       "config": {
        "plotlyServerURL": "https://plot.ly"
       },
       "data": [
        {
         "line": {
          "color": "rgb(255, 0, 0)",
          "dash": "dash"
         },
         "mode": "lines+text",
         "name": "<b>Model OVSED<b> <b>-40V<b>",
         "text": [
          "-40V"
         ],
         "textfont": {
          "color": "rgb(255, 0, 0)",
          "family": "Times New Roman",
          "size": 13
         },
         "textposition": "bottom center",
         "type": "scatter",
         "x": [
          0,
          -1,
          -2,
          -3,
          -4,
          -5,
          -6,
          -7,
          -8,
          -9,
          -10,
          -11,
          -12,
          -13,
          -14,
          -15,
          -16,
          -17,
          -18,
          -19,
          -20,
          -21,
          -22,
          -23,
          -24,
          -25,
          -26,
          -27,
          -28,
          -29,
          -30,
          -31,
          -32,
          -33,
          -34,
          -35,
          -36,
          -37,
          -38,
          -39,
          -40,
          -41,
          -42,
          -43,
          -44,
          -45,
          -46,
          -47,
          -48,
          -49,
          -50,
          -51,
          -52,
          -53,
          -54,
          -55,
          -56,
          -57,
          -58,
          -59,
          -60,
          -61,
          -62,
          -63,
          -64,
          -65,
          -66,
          -67,
          -68,
          -69,
          -70,
          -71,
          -72,
          -73,
          -74,
          -75,
          -76,
          -77,
          -78,
          -79,
          -80
         ],
         "y": [
          2.0000000000004584e-11,
          2.0000000000081644e-11,
          2.0000000001456935e-11,
          2.0000000026516443e-11,
          2.0000000509043923e-11,
          2.0000011069614307e-11,
          2.0000293773042488e-11,
          2.0008505195986863e-11,
          2.01879786133033e-11,
          2.229558397596736e-11,
          3.4203107864021136e-11,
          7.14258487492206e-11,
          1.5128569994801832e-10,
          2.891377293072272e-10,
          4.985095543340217e-10,
          7.918403324221882e-10,
          1.1808666514253108e-9,
          1.6767818551916472e-9,
          2.2903136666443757e-9,
          3.031776815216619e-9,
          3.911116530189787e-9,
          4.937946322103312e-9,
          6.121580771897683e-9,
          7.471063793674254e-9,
          8.99519293813009e-9,
          1.070254033684382e-8,
          1.260147084110541e-8,
          1.470015782859057e-8,
          1.700659706755876e-8,
          1.9528618954481472e-8,
          2.227389938035033e-8,
          2.5249969432531264e-8,
          2.846422410083841e-8,
          3.192393012637081e-8,
          3.563623310777078e-8,
          3.960816396050206e-8,
          4.384664480941875e-8,
          4.835849438246807e-8,
          5.315043296322617e-8,
          5.822908695161429e-8,
          6.360099307523564e-8,
          6.927260228800408e-8,
          7.525028338791341e-8,
          8.154032638171609e-8,
          8.81489456208313e-8,
          9.508228272986497e-8,
          1.0234640934660237e-7,
          1.0994732969018145e-7,
          1.1789098297227616e-7,
          1.2618324566451667e-7,
          1.3482993363395998e-7,
          1.4383680415719597e-7,
          1.5320955782260747e-7,
          1.6295384032935486e-7,
          1.7307524419082092e-7,
          1.8357931034953007e-7,
          1.9447152970988612e-7,
          2.0575734459451608e-7,
          2.1744215012947712e-7,
          2.295312955631255e-7,
          2.4203008552305e-7,
          2.5494378121507764e-7,
          2.682776015680564e-7,
          2.8203672432779543e-7,
          2.9622628710329406e-7,
          3.1085138836813403e-7,
          3.2591708841969526e-7,
          3.4142841029864567e-7,
          3.5739034067099945e-7,
          3.7380783067482824e-7,
          3.906857967336068e-7,
          4.080291213379968e-7,
          4.258426537977811e-7,
          4.441312109655034e-7,
          4.6289957793330976e-7,
          4.821525087043528e-7,
          5.018947268400441e-7,
          5.221309260843671e-7,
          5.428657709663604e-7,
          5.641038973818524e-7,
          5.858499131554083e-7
         ]
        },
        {
         "marker": {
          "color": "rgb(255, 0, 0)",
          "line": {
           "color": "MediumPurple",
           "width": 0.8
          },
          "opacity": 0.5,
          "size": 11
         },
         "mode": "markers+text",
         "name": "<b>Exp <b> <b>-40V<b>",
         "text": [
          "<b>VDS<b>=-40V"
         ],
         "textfont": {
          "color": "rgb(255, 0, 0)",
          "family": "Times New Roman",
          "size": 18
         },
         "textposition": "top right",
         "type": "scatter",
         "x": [
          0,
          -1,
          -2,
          -3,
          -4,
          -5,
          -6,
          -7,
          -8,
          -9,
          -10,
          -11,
          -12,
          -13,
          -14,
          -15,
          -16,
          -17,
          -18,
          -19,
          -20,
          -21,
          -22,
          -23,
          -24,
          -25,
          -26,
          -27,
          -28,
          -29,
          -30,
          -31,
          -32,
          -33,
          -34,
          -35,
          -36,
          -37,
          -38,
          -39,
          -40,
          -41,
          -42,
          -43,
          -44,
          -45,
          -46,
          -47,
          -48,
          -49,
          -50,
          -51,
          -52,
          -53,
          -54,
          -55,
          -56,
          -57,
          -58,
          -59,
          -60,
          -61,
          -62,
          -63,
          -64,
          -65,
          -66,
          -67,
          -68,
          -69,
          -70,
          -71,
          -72,
          -73,
          -74,
          -75,
          -76,
          -77,
          -78,
          -79,
          -80
         ],
         "y": [
          1.3990000000000026e-11,
          5.865000000000006e-11,
          1.0756000000000017e-10,
          2.9640000000000026e-11,
          2.1740000000000014e-11,
          2.7479999999999985e-11,
          1.3709999999999983e-11,
          6.235000000000001e-11,
          2.9230000000000025e-11,
          6.037000000000008e-11,
          1.0541100000000012e-9,
          1.0630199999999997e-8,
          5.0417599999999974e-8,
          1.4677200000000012e-7,
          3.4166599999999964e-7,
          6.505059999999998e-7,
          0.0000011046980000000004,
          0.000001676469999999999,
          0.0000024355899999999993,
          0.0000034020399999999988,
          0.000004578069999999996,
          0.000005967800000000002,
          0.0000075919300000000005,
          0.000009455430000000008,
          0.000011526399999999997,
          0.000013909000000000002,
          0.000016555600000000008,
          0.000019467199999999995,
          0.000022652400000000017,
          0.000026064400000000024,
          0.000029744000000000002,
          0.0000336538,
          0.00003780119999999999,
          0.00004216199999999996,
          0.00004676600000000003,
          0.00005155320000000002,
          0.00005656820000000001,
          0.00006177579999999999,
          0.00006717279999999999,
          0.0000726222,
          0.00007852180000000003,
          0.00008461719999999997,
          0.00009087000000000006,
          0.00009729779999999991,
          0.00010393699999999996,
          0.00011072180000000003,
          0.00011705,
          0.00012419199999999997,
          0.00013149399999999998,
          0.00013888800000000004,
          0.00014643600000000006,
          0.00015406599999999998,
          0.00016182200000000005,
          0.00016966000000000003,
          0.00017754400000000007,
          0.00018549600000000005,
          0.00019346599999999994,
          0.00020151399999999994,
          0.000209568,
          0.00021757800000000012,
          0.00022560800000000003,
          0.0002335419999999999,
          0.00024146599999999991,
          0.00024934800000000004,
          0.00025720399999999997,
          0.00026495599999999995,
          0.000272654,
          0.0002802280000000001,
          0.000287732,
          0.00029509599999999995,
          0.00030238800000000006,
          0.00030951999999999987,
          0.0003165360000000002,
          0.0003234600000000002,
          0.0003301600000000002,
          0.0003368399999999998,
          0.0003433440000000001,
          0.00034973999999999997,
          0.0003559659999999999,
          0.0003620419999999998,
          0.00036789799999999997
         ]
        }
       ],
       "layout": {
        "height": 600,
        "legend": {
         "font": {
          "size": 16
         }
        },
        "template": {
         "data": {
          "bar": [
           {
            "error_x": {
             "color": "#2a3f5f"
            },
            "error_y": {
             "color": "#2a3f5f"
            },
            "marker": {
             "line": {
              "color": "#E5ECF6",
              "width": 0.5
             },
             "pattern": {
              "fillmode": "overlay",
              "size": 10,
              "solidity": 0.2
             }
            },
            "type": "bar"
           }
          ],
          "barpolar": [
           {
            "marker": {
             "line": {
              "color": "#E5ECF6",
              "width": 0.5
             },
             "pattern": {
              "fillmode": "overlay",
              "size": 10,
              "solidity": 0.2
             }
            },
            "type": "barpolar"
           }
          ],
          "carpet": [
           {
            "aaxis": {
             "endlinecolor": "#2a3f5f",
             "gridcolor": "white",
             "linecolor": "white",
             "minorgridcolor": "white",
             "startlinecolor": "#2a3f5f"
            },
            "baxis": {
             "endlinecolor": "#2a3f5f",
             "gridcolor": "white",
             "linecolor": "white",
             "minorgridcolor": "white",
             "startlinecolor": "#2a3f5f"
            },
            "type": "carpet"
           }
          ],
          "choropleth": [
           {
            "colorbar": {
             "outlinewidth": 0,
             "ticks": ""
            },
            "type": "choropleth"
           }
          ],
          "contour": [
           {
            "colorbar": {
             "outlinewidth": 0,
             "ticks": ""
            },
            "colorscale": [
             [
              0,
              "#0d0887"
             ],
             [
              0.1111111111111111,
              "#46039f"
             ],
             [
              0.2222222222222222,
              "#7201a8"
             ],
             [
              0.3333333333333333,
              "#9c179e"
             ],
             [
              0.4444444444444444,
              "#bd3786"
             ],
             [
              0.5555555555555556,
              "#d8576b"
             ],
             [
              0.6666666666666666,
              "#ed7953"
             ],
             [
              0.7777777777777778,
              "#fb9f3a"
             ],
             [
              0.8888888888888888,
              "#fdca26"
             ],
             [
              1,
              "#f0f921"
             ]
            ],
            "type": "contour"
           }
          ],
          "contourcarpet": [
           {
            "colorbar": {
             "outlinewidth": 0,
             "ticks": ""
            },
            "type": "contourcarpet"
           }
          ],
          "heatmap": [
           {
            "colorbar": {
             "outlinewidth": 0,
             "ticks": ""
            },
            "colorscale": [
             [
              0,
              "#0d0887"
             ],
             [
              0.1111111111111111,
              "#46039f"
             ],
             [
              0.2222222222222222,
              "#7201a8"
             ],
             [
              0.3333333333333333,
              "#9c179e"
             ],
             [
              0.4444444444444444,
              "#bd3786"
             ],
             [
              0.5555555555555556,
              "#d8576b"
             ],
             [
              0.6666666666666666,
              "#ed7953"
             ],
             [
              0.7777777777777778,
              "#fb9f3a"
             ],
             [
              0.8888888888888888,
              "#fdca26"
             ],
             [
              1,
              "#f0f921"
             ]
            ],
            "type": "heatmap"
           }
          ],
          "heatmapgl": [
           {
            "colorbar": {
             "outlinewidth": 0,
             "ticks": ""
            },
            "colorscale": [
             [
              0,
              "#0d0887"
             ],
             [
              0.1111111111111111,
              "#46039f"
             ],
             [
              0.2222222222222222,
              "#7201a8"
             ],
             [
              0.3333333333333333,
              "#9c179e"
             ],
             [
              0.4444444444444444,
              "#bd3786"
             ],
             [
              0.5555555555555556,
              "#d8576b"
             ],
             [
              0.6666666666666666,
              "#ed7953"
             ],
             [
              0.7777777777777778,
              "#fb9f3a"
             ],
             [
              0.8888888888888888,
              "#fdca26"
             ],
             [
              1,
              "#f0f921"
             ]
            ],
            "type": "heatmapgl"
           }
          ],
          "histogram": [
           {
            "marker": {
             "pattern": {
              "fillmode": "overlay",
              "size": 10,
              "solidity": 0.2
             }
            },
            "type": "histogram"
           }
          ],
          "histogram2d": [
           {
            "colorbar": {
             "outlinewidth": 0,
             "ticks": ""
            },
            "colorscale": [
             [
              0,
              "#0d0887"
             ],
             [
              0.1111111111111111,
              "#46039f"
             ],
             [
              0.2222222222222222,
              "#7201a8"
             ],
             [
              0.3333333333333333,
              "#9c179e"
             ],
             [
              0.4444444444444444,
              "#bd3786"
             ],
             [
              0.5555555555555556,
              "#d8576b"
             ],
             [
              0.6666666666666666,
              "#ed7953"
             ],
             [
              0.7777777777777778,
              "#fb9f3a"
             ],
             [
              0.8888888888888888,
              "#fdca26"
             ],
             [
              1,
              "#f0f921"
             ]
            ],
            "type": "histogram2d"
           }
          ],
          "histogram2dcontour": [
           {
            "colorbar": {
             "outlinewidth": 0,
             "ticks": ""
            },
            "colorscale": [
             [
              0,
              "#0d0887"
             ],
             [
              0.1111111111111111,
              "#46039f"
             ],
             [
              0.2222222222222222,
              "#7201a8"
             ],
             [
              0.3333333333333333,
              "#9c179e"
             ],
             [
              0.4444444444444444,
              "#bd3786"
             ],
             [
              0.5555555555555556,
              "#d8576b"
             ],
             [
              0.6666666666666666,
              "#ed7953"
             ],
             [
              0.7777777777777778,
              "#fb9f3a"
             ],
             [
              0.8888888888888888,
              "#fdca26"
             ],
             [
              1,
              "#f0f921"
             ]
            ],
            "type": "histogram2dcontour"
           }
          ],
          "mesh3d": [
           {
            "colorbar": {
             "outlinewidth": 0,
             "ticks": ""
            },
            "type": "mesh3d"
           }
          ],
          "parcoords": [
           {
            "line": {
             "colorbar": {
              "outlinewidth": 0,
              "ticks": ""
             }
            },
            "type": "parcoords"
           }
          ],
          "pie": [
           {
            "automargin": true,
            "type": "pie"
           }
          ],
          "scatter": [
           {
            "fillpattern": {
             "fillmode": "overlay",
             "size": 10,
             "solidity": 0.2
            },
            "type": "scatter"
           }
          ],
          "scatter3d": [
           {
            "line": {
             "colorbar": {
              "outlinewidth": 0,
              "ticks": ""
             }
            },
            "marker": {
             "colorbar": {
              "outlinewidth": 0,
              "ticks": ""
             }
            },
            "type": "scatter3d"
           }
          ],
          "scattercarpet": [
           {
            "marker": {
             "colorbar": {
              "outlinewidth": 0,
              "ticks": ""
             }
            },
            "type": "scattercarpet"
           }
          ],
          "scattergeo": [
           {
            "marker": {
             "colorbar": {
              "outlinewidth": 0,
              "ticks": ""
             }
            },
            "type": "scattergeo"
           }
          ],
          "scattergl": [
           {
            "marker": {
             "colorbar": {
              "outlinewidth": 0,
              "ticks": ""
             }
            },
            "type": "scattergl"
           }
          ],
          "scattermapbox": [
           {
            "marker": {
             "colorbar": {
              "outlinewidth": 0,
              "ticks": ""
             }
            },
            "type": "scattermapbox"
           }
          ],
          "scatterpolar": [
           {
            "marker": {
             "colorbar": {
              "outlinewidth": 0,
              "ticks": ""
             }
            },
            "type": "scatterpolar"
           }
          ],
          "scatterpolargl": [
           {
            "marker": {
             "colorbar": {
              "outlinewidth": 0,
              "ticks": ""
             }
            },
            "type": "scatterpolargl"
           }
          ],
          "scatterternary": [
           {
            "marker": {
             "colorbar": {
              "outlinewidth": 0,
              "ticks": ""
             }
            },
            "type": "scatterternary"
           }
          ],
          "surface": [
           {
            "colorbar": {
             "outlinewidth": 0,
             "ticks": ""
            },
            "colorscale": [
             [
              0,
              "#0d0887"
             ],
             [
              0.1111111111111111,
              "#46039f"
             ],
             [
              0.2222222222222222,
              "#7201a8"
             ],
             [
              0.3333333333333333,
              "#9c179e"
             ],
             [
              0.4444444444444444,
              "#bd3786"
             ],
             [
              0.5555555555555556,
              "#d8576b"
             ],
             [
              0.6666666666666666,
              "#ed7953"
             ],
             [
              0.7777777777777778,
              "#fb9f3a"
             ],
             [
              0.8888888888888888,
              "#fdca26"
             ],
             [
              1,
              "#f0f921"
             ]
            ],
            "type": "surface"
           }
          ],
          "table": [
           {
            "cells": {
             "fill": {
              "color": "#EBF0F8"
             },
             "line": {
              "color": "white"
             }
            },
            "header": {
             "fill": {
              "color": "#C8D4E3"
             },
             "line": {
              "color": "white"
             }
            },
            "type": "table"
           }
          ]
         },
         "layout": {
          "annotationdefaults": {
           "arrowcolor": "#2a3f5f",
           "arrowhead": 0,
           "arrowwidth": 1
          },
          "autotypenumbers": "strict",
          "coloraxis": {
           "colorbar": {
            "outlinewidth": 0,
            "ticks": ""
           }
          },
          "colorscale": {
           "diverging": [
            [
             0,
             "#8e0152"
            ],
            [
             0.1,
             "#c51b7d"
            ],
            [
             0.2,
             "#de77ae"
            ],
            [
             0.3,
             "#f1b6da"
            ],
            [
             0.4,
             "#fde0ef"
            ],
            [
             0.5,
             "#f7f7f7"
            ],
            [
             0.6,
             "#e6f5d0"
            ],
            [
             0.7,
             "#b8e186"
            ],
            [
             0.8,
             "#7fbc41"
            ],
            [
             0.9,
             "#4d9221"
            ],
            [
             1,
             "#276419"
            ]
           ],
           "sequential": [
            [
             0,
             "#0d0887"
            ],
            [
             0.1111111111111111,
             "#46039f"
            ],
            [
             0.2222222222222222,
             "#7201a8"
            ],
            [
             0.3333333333333333,
             "#9c179e"
            ],
            [
             0.4444444444444444,
             "#bd3786"
            ],
            [
             0.5555555555555556,
             "#d8576b"
            ],
            [
             0.6666666666666666,
             "#ed7953"
            ],
            [
             0.7777777777777778,
             "#fb9f3a"
            ],
            [
             0.8888888888888888,
             "#fdca26"
            ],
            [
             1,
             "#f0f921"
            ]
           ],
           "sequentialminus": [
            [
             0,
             "#0d0887"
            ],
            [
             0.1111111111111111,
             "#46039f"
            ],
            [
             0.2222222222222222,
             "#7201a8"
            ],
            [
             0.3333333333333333,
             "#9c179e"
            ],
            [
             0.4444444444444444,
             "#bd3786"
            ],
            [
             0.5555555555555556,
             "#d8576b"
            ],
            [
             0.6666666666666666,
             "#ed7953"
            ],
            [
             0.7777777777777778,
             "#fb9f3a"
            ],
            [
             0.8888888888888888,
             "#fdca26"
            ],
            [
             1,
             "#f0f921"
            ]
           ]
          },
          "colorway": [
           "#636efa",
           "#EF553B",
           "#00cc96",
           "#ab63fa",
           "#FFA15A",
           "#19d3f3",
           "#FF6692",
           "#B6E880",
           "#FF97FF",
           "#FECB52"
          ],
          "font": {
           "color": "#2a3f5f"
          },
          "geo": {
           "bgcolor": "white",
           "lakecolor": "white",
           "landcolor": "#E5ECF6",
           "showlakes": true,
           "showland": true,
           "subunitcolor": "white"
          },
          "hoverlabel": {
           "align": "left"
          },
          "hovermode": "closest",
          "mapbox": {
           "style": "light"
          },
          "paper_bgcolor": "white",
          "plot_bgcolor": "#E5ECF6",
          "polar": {
           "angularaxis": {
            "gridcolor": "white",
            "linecolor": "white",
            "ticks": ""
           },
           "bgcolor": "#E5ECF6",
           "radialaxis": {
            "gridcolor": "white",
            "linecolor": "white",
            "ticks": ""
           }
          },
          "scene": {
           "xaxis": {
            "backgroundcolor": "#E5ECF6",
            "gridcolor": "white",
            "gridwidth": 2,
            "linecolor": "white",
            "showbackground": true,
            "ticks": "",
            "zerolinecolor": "white"
           },
           "yaxis": {
            "backgroundcolor": "#E5ECF6",
            "gridcolor": "white",
            "gridwidth": 2,
            "linecolor": "white",
            "showbackground": true,
            "ticks": "",
            "zerolinecolor": "white"
           },
           "zaxis": {
            "backgroundcolor": "#E5ECF6",
            "gridcolor": "white",
            "gridwidth": 2,
            "linecolor": "white",
            "showbackground": true,
            "ticks": "",
            "zerolinecolor": "white"
           }
          },
          "shapedefaults": {
           "line": {
            "color": "#2a3f5f"
           }
          },
          "ternary": {
           "aaxis": {
            "gridcolor": "white",
            "linecolor": "white",
            "ticks": ""
           },
           "baxis": {
            "gridcolor": "white",
            "linecolor": "white",
            "ticks": ""
           },
           "bgcolor": "#E5ECF6",
           "caxis": {
            "gridcolor": "white",
            "linecolor": "white",
            "ticks": ""
           }
          },
          "title": {
           "x": 0.05
          },
          "xaxis": {
           "automargin": true,
           "gridcolor": "white",
           "linecolor": "white",
           "ticks": "",
           "title": {
            "standoff": 15
           },
           "zerolinecolor": "white",
           "zerolinewidth": 2
          },
          "yaxis": {
           "automargin": true,
           "gridcolor": "white",
           "linecolor": "white",
           "ticks": "",
           "title": {
            "standoff": 15
           },
           "zerolinecolor": "white",
           "zerolinewidth": 2
          }
         }
        },
        "title": {
         "font": {
          "color": "black",
          "family": "Overpass",
          "size": 25
         },
         "text": "<b>Experimental Datas Vs Model<b>",
         "x": 0.45,
         "y": 0.9
        },
        "width": 1100,
        "xaxis": {
         "title": {
          "font": {
           "color": "black",
           "family": "Overpass",
           "size": 25
          },
          "standoff": 25,
          "text": "<b>VGS / V<b>"
         }
        },
        "yaxis": {
         "title": {
          "font": {
           "color": "black",
           "family": "Overpass",
           "size": 25
          },
          "standoff": 10,
          "text": "<b>|ID| / A<b>"
         },
         "type": "log"
        }
       }
      }
     },
     "metadata": {},
     "output_type": "display_data"
    },
    {
     "name": "stdout",
     "output_type": "stream",
     "text": [
      "\n"
     ]
    },
    {
     "data": {
      "application/vnd.plotly.v1+json": {
       "config": {
        "plotlyServerURL": "https://plot.ly"
       },
       "data": [
        {
         "line": {
          "color": "rgb(255, 0, 0)",
          "dash": "dash"
         },
         "mode": "lines+text",
         "name": "<b>Model OVSED<b> <b>-20V<b>",
         "text": [
          "-20V"
         ],
         "textfont": {
          "color": "rgb(255, 0, 0)",
          "family": "Times New Roman",
          "size": 13
         },
         "textposition": "bottom center",
         "type": "scatter",
         "x": [
          0,
          -1,
          -2,
          -3,
          -4,
          -5,
          -6,
          -7,
          -8,
          -9,
          -10,
          -11,
          -12,
          -13,
          -14,
          -15,
          -16,
          -17,
          -18,
          -19,
          -20,
          -21,
          -22,
          -23,
          -24,
          -25,
          -26,
          -27,
          -28,
          -29,
          -30,
          -31,
          -32,
          -33,
          -34,
          -35,
          -36,
          -37,
          -38,
          -39,
          -40,
          -41,
          -42,
          -43,
          -44,
          -45,
          -46,
          -47,
          -48,
          -49,
          -50,
          -51,
          -52,
          -53,
          -54,
          -55,
          -56,
          -57,
          -58,
          -59,
          -60,
          -61,
          -62,
          -63,
          -64,
          -65,
          -66,
          -67,
          -68,
          -69,
          -70,
          -71,
          -72,
          -73,
          -74,
          -75,
          -76,
          -77,
          -78,
          -79,
          -80
         ],
         "y": [
          -0.000019999999999999998,
          -0.002699401109806396,
          -0.0036366348381065955,
          -0.004019566913790874,
          -0.004177237423765828,
          -0.004237231051281533,
          -0.0042552300591164076,
          -0.00425575671305277,
          -0.0042492630691406165,
          -0.0042400320293266396,
          -0.00422976158258294,
          -0.004219108832342743,
          -0.004208323877509823,
          -0.0041975008511787645,
          -0.004186674917195833,
          -0.004175859140653906,
          -0.004165058354064084,
          -0.004154274335452572,
          -0.004143507732852369,
          -0.004132758777177755,
          -0.004122027545640192,
          -0.004111314058896948,
          -0.004100618316822605,
          -0.004089940311662331,
          -0.004079280032862128,
          -0.004068637468840564,
          -0.00405801260763781,
          -0.004047405437153209,
          -0.004036815945232069,
          -0.0040262441196973675,
          -0.004015689948361311,
          -0.004005153419029558,
          -0.003994634519502705,
          -0.003984133237576898,
          -0.003973649561043974,
          -0.003963183477691572,
          -0.003952734975303129,
          -0.0039423040416578965,
          -0.003931890664530935,
          -0.003921494831693118,
          -0.003911116530911113,
          -0.0039007557499473977,
          -0.0038904124765602364,
          -0.0038800866985036785,
          -0.003869778403527572,
          -0.003859487579377528,
          -0.003849214213794949,
          -0.003838958294517001,
          -0.0038287198092766123,
          -0.003818498745802478,
          -0.003808295091819053,
          -0.0037981088350465286,
          -0.0037879399632008677,
          -0.0037777884639937516,
          -0.003767654325132611,
          -0.0037575375343206134,
          -0.0037474380792566417,
          -0.0037373559476353156,
          -0.003727291127146963,
          -0.003717243605477628,
          -0.0037072133703090694,
          -0.0036972004093187463,
          -0.003687204710179814,
          -0.0036772262605611265,
          -0.0036672650481272217,
          -0.0036573210605383355,
          -0.0036473942854503673,
          -0.003637484710514903,
          -0.0036275923233791913,
          -0.0036177171116861507,
          -0.0036078590630743614,
          -0.00359801816517806,
          -0.0035881944056271224,
          -0.003578387772047086,
          -0.003568598252059119,
          -0.003558825833280028,
          -0.0035490705033222594,
          -0.003539332249793864,
          -0.003529611060298535,
          -0.003519906922435575,
          -0.003510219823799894
         ]
        },
        {
         "line": {
          "color": "rgb(0, 0, 255)",
          "dash": "dash"
         },
         "mode": "lines+text",
         "name": "<b>Model OVSED<b> <b>-40V<b>",
         "text": [
          "-40V"
         ],
         "textfont": {
          "color": "rgb(0, 0, 255)",
          "family": "Times New Roman",
          "size": 13
         },
         "textposition": "bottom center",
         "type": "scatter",
         "x": [
          0,
          -1,
          -2,
          -3,
          -4,
          -5,
          -6,
          -7,
          -8,
          -9,
          -10,
          -11,
          -12,
          -13,
          -14,
          -15,
          -16,
          -17,
          -18,
          -19,
          -20,
          -21,
          -22,
          -23,
          -24,
          -25,
          -26,
          -27,
          -28,
          -29,
          -30,
          -31,
          -32,
          -33,
          -34,
          -35,
          -36,
          -37,
          -38,
          -39,
          -40,
          -41,
          -42,
          -43,
          -44,
          -45,
          -46,
          -47,
          -48,
          -49,
          -50,
          -51,
          -52,
          -53,
          -54,
          -55,
          -56,
          -57,
          -58,
          -59,
          -60,
          -61,
          -62,
          -63,
          -64,
          -65,
          -66,
          -67,
          -68,
          -69,
          -70,
          -71,
          -72,
          -73,
          -74,
          -75,
          -76,
          -77,
          -78,
          -79,
          -80
         ],
         "y": [
          -0.000019999999999999998,
          -0.031915837766005505,
          -0.04481092548883816,
          -0.0513218549540349,
          -0.05494372299120373,
          -0.057045230907767724,
          -0.05827922158614693,
          -0.058997665864539986,
          -0.059404682967499976,
          -0.059623181207082196,
          -0.05972819502359333,
          -0.05976550799356443,
          -0.05976283555211532,
          -0.059736774477090346,
          -0.05969715246861947,
          -0.05964972922035853,
          -0.05959785041309515,
          -0.05954344520389054,
          -0.05948761935329949,
          -0.05943100366337104,
          -0.05937395664248104,
          -0.059316681446238494,
          -0.05925929293104366,
          -0.05920185591383144,
          -0.05914440691921899,
          -0.05908696650413782,
          -0.05902954622640881,
          -0.05897215257781787,
          -0.05891478920081278,
          -0.058857458136441825,
          -0.05880016052627608,
          -0.05874289700692671,
          -0.058685667931649935,
          -0.05862847349476108,
          -0.05857131380145235,
          -0.058514188906958,
          -0.05845709883851608,
          -0.058400043607680155,
          -0.05834302321721868,
          -0.05828603766498075,
          -0.0582290869460608,
          -0.05817217105401148,
          -0.058115289981522,
          -0.058058443720798165,
          -0.05800163226377487,
          -0.05794485560223496,
          -0.05788811372787584,
          -0.05783140663234659,
          -0.05777473430726876,
          -0.05771809674424795,
          -0.057661493934880355,
          -0.057604925870756406,
          -0.05754839254346264,
          -0.05749189394458322,
          -0.05743543006569999,
          -0.05737900089839328,
          -0.05732260643424193,
          -0.05726624666482348,
          -0.05720992158171409,
          -0.05715363117648867,
          -0.05709737544072094,
          -0.05704115436598336,
          -0.056984967943847185,
          -0.05692881616588234,
          -0.05687269902365768,
          -0.056816616508740696,
          -0.056760568612697765,
          -0.056704555327093946,
          -0.05664857664349317,
          -0.05659263255345807,
          -0.05653672304855012,
          -0.05648084812032945,
          -0.05642500776035504,
          -0.05636920196018468,
          -0.0563134307113749,
          -0.056257694005480995,
          -0.05620199183405704,
          -0.056146324188655804,
          -0.05609069106082894,
          -0.05603509244212683,
          -0.05597952832409856
         ]
        },
        {
         "line": {
          "color": "rgb(30, 144, 255)",
          "dash": "dash"
         },
         "mode": "lines+text",
         "name": "<b>Model OVSED<b> <b>-60V<b>",
         "text": [
          "-60V"
         ],
         "textfont": {
          "color": "rgb(30, 144, 255)",
          "family": "Times New Roman",
          "size": 13
         },
         "textposition": "bottom center",
         "type": "scatter",
         "x": [
          0,
          -1,
          -2,
          -3,
          -4,
          -5,
          -6,
          -7,
          -8,
          -9,
          -10,
          -11,
          -12,
          -13,
          -14,
          -15,
          -16,
          -17,
          -18,
          -19,
          -20,
          -21,
          -22,
          -23,
          -24,
          -25,
          -26,
          -27,
          -28,
          -29,
          -30,
          -31,
          -32,
          -33,
          -34,
          -35,
          -36,
          -37,
          -38,
          -39,
          -40,
          -41,
          -42,
          -43,
          -44,
          -45,
          -46,
          -47,
          -48,
          -49,
          -50,
          -51,
          -52,
          -53,
          -54,
          -55,
          -56,
          -57,
          -58,
          -59,
          -60,
          -61,
          -62,
          -63,
          -64,
          -65,
          -66,
          -67,
          -68,
          -69,
          -70,
          -71,
          -72,
          -73,
          -74,
          -75,
          -76,
          -77,
          -78,
          -79,
          -80
         ],
         "y": [
          -0.000019999999999999998,
          -0.10996070208190153,
          -0.15608257148538895,
          -0.18045882857315648,
          -0.1948657912663912,
          -0.20390808244588707,
          -0.20976974640971932,
          -0.21362801080368984,
          -0.21617666039977212,
          -0.21785075952129937,
          -0.21893459912061444,
          -0.21961864220917493,
          -0.22003214864428114,
          -0.22026323943038872,
          -0.2203719367433775,
          -0.2203989589277179,
          -0.22037177400452848,
          -0.22030879748637103,
          -0.22022230073708218,
          -0.22012041468240606,
          -0.2200084995534048,
          -0.21989007342188413,
          -0.21976743655861286,
          -0.21964208816592057,
          -0.2195150027263037,
          -0.2193868122373842,
          -0.21925792581864065,
          -0.21912860790386327,
          -0.21899902919194383,
          -0.21886929975707836,
          -0.2187394905174524,
          -0.2186096471301023,
          -0.2184797989703731,
          -0.21834996492766268,
          -0.21822015714244902,
          -0.21809038341385514,
          -0.21796064874963195,
          -0.2178309563634505,
          -0.21770130831626958,
          -0.21757170592863262,
          -0.217442150045616,
          -0.21731264120703783,
          -0.21718317975677376,
          -0.217053765912948,
          -0.21692439981299497,
          -0.2167950815425805,
          -0.216665811154162,
          -0.21653658867889766,
          -0.21640741413428627,
          -0.21627828752906694,
          -0.21614920886636335,
          -0.2160201781456989,
          -0.21589119536428814,
          -0.21576226051786707,
          -0.21563337360122267,
          -0.2155045346085346,
          -0.21537574353359223,
          -0.21524700036993535,
          -0.2151183051109436,
          -0.21498965774989345,
          -0.2148610582799953,
          -0.21473250669441712,
          -0.2146040029862993,
          -0.21447554714876438,
          -0.21434713917492348,
          -0.21421877905787967,
          -0.21409046679073118,
          -0.2139622023665725,
          -0.213833985778496,
          -0.213705817019592,
          -0.21357769608294913,
          -0.21344962296165532,
          -0.2133215976487976,
          -0.2131936201374618,
          -0.2130656904207334,
          -0.2129378084916968,
          -0.21280997434343574,
          -0.21268218796903374,
          -0.21255444936157322,
          -0.21242675851413587,
          -0.21229911541980329
         ]
        },
        {
         "line": {
          "color": "rgb(0, 255, 0)",
          "dash": "dash"
         },
         "mode": "lines+text",
         "name": "<b>Model OVSED<b> <b>-80V<b>",
         "text": [
          "-80V"
         ],
         "textfont": {
          "color": "rgb(0, 255, 0)",
          "family": "Times New Roman",
          "size": 13
         },
         "textposition": "bottom center",
         "type": "scatter",
         "x": [
          0,
          -1,
          -2,
          -3,
          -4,
          -5,
          -6,
          -7,
          -8,
          -9,
          -10,
          -11,
          -12,
          -13,
          -14,
          -15,
          -16,
          -17,
          -18,
          -19,
          -20,
          -21,
          -22,
          -23,
          -24,
          -25,
          -26,
          -27,
          -28,
          -29,
          -30,
          -31,
          -32,
          -33,
          -34,
          -35,
          -36,
          -37,
          -38,
          -39,
          -40,
          -41,
          -42,
          -43,
          -44,
          -45,
          -46,
          -47,
          -48,
          -49,
          -50,
          -51,
          -52,
          -53,
          -54,
          -55,
          -56,
          -57,
          -58,
          -59,
          -60,
          -61,
          -62,
          -63,
          -64,
          -65,
          -66,
          -67,
          -68,
          -69,
          -70,
          -71,
          -72,
          -73,
          -74,
          -75,
          -76,
          -77,
          -78,
          -79,
          -80
         ],
         "y": [
          -0.000019999999999999998,
          -0.22500682953336668,
          -0.32099905954369407,
          -0.37264705907358353,
          -0.4038686026048828,
          -0.4240333821915543,
          -0.43757817868010734,
          -0.44688685082787527,
          -0.4533615433493476,
          -0.45788391364601855,
          -0.4610362208708885,
          -0.4632166750032463,
          -0.46470410118950256,
          -0.4656965900069321,
          -0.46633596525261733,
          -0.46672405401750067,
          -0.4669339312884092,
          -0.467017904142655,
          -0.46701327402980863,
          -0.46694652756718774,
          -0.46683638915643405,
          -0.4666960392526214,
          -0.46653471890085785,
          -0.46635888376650053,
          -0.46617302919592585,
          -0.4659802766567746,
          -0.46578278831767966,
          -0.4655820587023903,
          -0.4653791189808844,
          -0.4651746795278224,
          -0.4649692290795289,
          -0.46476310351104017,
          -0.464556533428029,
          -0.4643496770329583,
          -0.46414264278327255,
          -0.46393550498969965,
          -0.4637283145413802,
          -0.4635211062727528,
          -0.4633139040193561,
          -0.4631067240850316,
          -0.46289957761822154,
          -0.4626924722397405,
          -0.46248541315731073,
          -0.46227840392838937,
          -0.4620714469821068,
          -0.4618645439762785,
          -0.46165769604155077,
          -0.461450903948322,
          -0.4612441682208458,
          -0.4610374892152152,
          -0.4608308671726522,
          -0.46062430225592205,
          -0.46041779457420506,
          -0.4602113442000919,
          -0.4600049511811855,
          -0.45979861554803103,
          -0.45959233731952764,
          -0.45938611650662287,
          -0.4591799531148367,
          -0.4589738471459867,
          -0.45876779859935995,
          -0.45856180747251946,
          -0.4583558737618505,
          -0.45814999746293317,
          -0.4579441785708013,
          -0.4577384170801126,
          -0.4575327129852704,
          -0.4573270662805033,
          -0.4571214769599201,
          -0.45691594501754906,
          -0.4567104704473634,
          -0.4565050532432964,
          -0.4562996933992571,
          -0.45609439090913495,
          -0.45588914576680817,
          -0.4556839579661464,
          -0.45547882750101265,
          -0.45527375436526635,
          -0.4550687385527634,
          -0.4548637800573579,
          -0.45465887887290257
         ]
        },
        {
         "marker": {
          "color": "rgb(255, 0, 0)",
          "line": {
           "color": "MediumPurple",
           "width": 0.8
          },
          "opacity": 0.5,
          "size": 11
         },
         "mode": "markers+text",
         "name": "<b>Exp <b> <b>-20V<b> <b> (0V)<b>",
         "text": [
          "<b>VGS<b>=-20V  (0)"
         ],
         "textfont": {
          "color": "rgb(255, 0, 0)",
          "family": "Times New Roman",
          "size": 18
         },
         "textposition": "top right",
         "type": "scatter",
         "x": [
          0,
          -1,
          -2,
          -3,
          -4,
          -5,
          -6,
          -7,
          -8,
          -9,
          -10,
          -11,
          -12,
          -13,
          -14,
          -15,
          -16,
          -17,
          -18,
          -19,
          -20,
          -21,
          -22,
          -23,
          -24,
          -25,
          -26,
          -27,
          -28,
          -29,
          -30,
          -31,
          -32,
          -33,
          -34,
          -35,
          -36,
          -37,
          -38,
          -39,
          -40,
          -41,
          -42,
          -43,
          -44,
          -45,
          -46,
          -47,
          -48,
          -49,
          -50,
          -51,
          -52,
          -53,
          -54,
          -55,
          -56,
          -57,
          -58,
          -59,
          -60,
          -61,
          -62,
          -63,
          -64,
          -65,
          -66,
          -67,
          -68,
          -69,
          -70,
          -71,
          -72,
          -73,
          -74,
          -75,
          -76,
          -77,
          -78,
          -79,
          -80
         ],
         "y": [
          -0.07058940000000001,
          -0.8353039999999999,
          -1.54038,
          -2.08743,
          -2.5009099999999997,
          -2.80518,
          -3.0247699999999997,
          -3.17792,
          -3.2827100000000002,
          -3.35066,
          -3.39281,
          -3.41835,
          -3.4325900000000003,
          -3.44,
          -3.44311,
          -3.4439,
          -3.44308,
          -3.44158,
          -3.43999,
          -3.4375199999999997,
          -3.4349700000000003,
          -3.4325799999999997,
          -3.43004,
          -3.4279100000000002,
          -3.42556,
          -3.42326,
          -3.4209300000000002,
          -3.41861,
          -3.4162399999999997,
          -3.41411,
          -3.41194,
          -3.41003,
          -3.4081,
          -3.4063700000000003,
          -3.40443,
          -3.40243,
          -3.4005400000000003,
          -3.39888,
          -3.39672,
          -3.3949100000000003,
          -3.3932399999999996,
          -3.39139,
          -3.38976,
          -3.3882,
          -3.38645,
          -3.3847099999999997,
          -3.38302,
          -3.3815,
          -3.37985,
          -3.37858,
          -3.37725,
          -3.37573,
          -3.3741999999999996,
          -3.37284,
          -3.37157,
          -3.3702400000000003,
          -3.3689,
          -3.3675400000000004,
          -3.3661499999999998,
          -3.36491,
          -3.36362,
          -3.36212,
          -3.36101,
          -3.35977,
          -3.35861,
          -3.35762,
          -3.3563400000000003,
          -3.35503,
          -3.3540699999999997,
          -3.35316,
          -3.35209,
          -3.351,
          -3.3501,
          -3.34911,
          -3.34819,
          -3.34605,
          -3.34516,
          -3.34422,
          -3.34328,
          -3.34247,
          -3.34156
         ]
        },
        {
         "marker": {
          "color": "rgb(0, 0, 255)",
          "line": {
           "color": "MediumPurple",
           "width": 0.8
          },
          "opacity": 0.5,
          "size": 11
         },
         "mode": "markers+text",
         "name": "<b>Exp <b> <b>-39V<b> <b> (1V)<b>",
         "text": [
          "<b>VGS<b>=-40V  (1)"
         ],
         "textfont": {
          "color": "rgb(0, 0, 255)",
          "family": "Times New Roman",
          "size": 18
         },
         "textposition": "top right",
         "type": "scatter",
         "x": [
          0,
          -1,
          -2,
          -3,
          -4,
          -5,
          -6,
          -7,
          -8,
          -9,
          -10,
          -11,
          -12,
          -13,
          -14,
          -15,
          -16,
          -17,
          -18,
          -19,
          -20,
          -21,
          -22,
          -23,
          -24,
          -25,
          -26,
          -27,
          -28,
          -29,
          -30,
          -31,
          -32,
          -33,
          -34,
          -35,
          -36,
          -37,
          -38,
          -39,
          -40,
          -41,
          -42,
          -43,
          -44,
          -45,
          -46,
          -47,
          -48,
          -49,
          -50,
          -51,
          -52,
          -53,
          -54,
          -55,
          -56,
          -57,
          -58,
          -59,
          -60,
          -61,
          -62,
          -63,
          -64,
          -65,
          -66,
          -67,
          -68,
          -69,
          -70,
          -71,
          -72,
          -73,
          -74,
          -75,
          -76,
          -77,
          -78,
          -79,
          -80
         ],
         "y": [
          -2.75151,
          -3.25738,
          -8.977820000000001,
          -14.3526,
          -19.5094,
          -24.3476,
          -28.9064,
          -33.1586,
          -37.141400000000004,
          -40.8356,
          -44.265,
          -47.4462,
          -50.358200000000004,
          -53.0412,
          -55.4738,
          -57.6914,
          -59.6818,
          -61.4732,
          -63.062200000000004,
          -64.47800000000001,
          -65.7214,
          -66.8176,
          -67.7708,
          -68.6036,
          -69.32520000000001,
          -69.95039999999999,
          -70.486,
          -70.9474,
          -71.33539999999999,
          -71.66319999999999,
          -71.9372,
          -72.168,
          -72.35900000000001,
          -72.5186,
          -72.6484,
          -72.75699999999999,
          -72.8466,
          -72.9162,
          -72.9756,
          -73.0234,
          -73.0604,
          -73.08980000000001,
          -73.1126,
          -73.1288,
          -73.1416,
          -73.15259999999999,
          -73.1596,
          -73.1668,
          -73.1752,
          -73.181,
          -73.18820000000001,
          -73.1918,
          -73.1936,
          -73.1932,
          -73.1916,
          -73.1874,
          -73.18379999999999,
          -73.1828,
          -73.1846,
          -73.182,
          -73.1836,
          -73.18140000000001,
          -73.1776,
          -73.1726,
          -73.16940000000001,
          -73.1648,
          -73.1572,
          -73.1512,
          -73.14699999999999,
          -73.144,
          -73.1412,
          -73.13900000000001,
          -73.1392,
          -73.1354,
          -73.132,
          -73.1268,
          -73.1218,
          -73.11659999999999,
          -73.1104,
          -73.1062,
          -73.1002
         ]
        },
        {
         "marker": {
          "color": "rgb(30, 144, 255)",
          "line": {
           "color": "MediumPurple",
           "width": 0.8
          },
          "opacity": 0.5,
          "size": 11
         },
         "mode": "markers+text",
         "name": "<b>Exp <b> <b>-58V<b> <b> (2V)<b>",
         "text": [
          "<b>VGS<b>=-60V  (2)"
         ],
         "textfont": {
          "color": "rgb(30, 144, 255)",
          "family": "Times New Roman",
          "size": 18
         },
         "textposition": "top right",
         "type": "scatter",
         "x": [
          0,
          -1,
          -2,
          -3,
          -4,
          -5,
          -6,
          -7,
          -8,
          -9,
          -10,
          -11,
          -12,
          -13,
          -14,
          -15,
          -16,
          -17,
          -18,
          -19,
          -20,
          -21,
          -22,
          -23,
          -24,
          -25,
          -26,
          -27,
          -28,
          -29,
          -30,
          -31,
          -32,
          -33,
          -34,
          -35,
          -36,
          -37,
          -38,
          -39,
          -40,
          -41,
          -42,
          -43,
          -44,
          -45,
          -46,
          -47,
          -48,
          -49,
          -50,
          -51,
          -52,
          -53,
          -54,
          -55,
          -56,
          -57,
          -58,
          -59,
          -60,
          -61,
          -62,
          -63,
          -64,
          -65,
          -66,
          -67,
          -68,
          -69,
          -70,
          -71,
          -72,
          -73,
          -74,
          -75,
          -76,
          -77,
          -78,
          -79,
          -80
         ],
         "y": [
          -8.22653,
          -0.28700600000000004,
          -8.56488,
          -16.5764,
          -24.479599999999998,
          -32.199600000000004,
          -39.8116,
          -47.2868,
          -54.677,
          -61.925200000000004,
          -69.0608,
          -76.1064,
          -83.008,
          -89.8148,
          -96.456,
          -102.98039999999999,
          -109.3282,
          -115.316,
          -121.336,
          -127.20200000000001,
          -132.85999999999999,
          -138.35999999999999,
          -143.662,
          -148.784,
          -153.68200000000002,
          -158.412,
          -162.92,
          -167.244,
          -171.338,
          -175.232,
          -178.904,
          -182.402,
          -185.678,
          -188.764,
          -191.65,
          -194.346,
          -196.852,
          -199.198,
          -201.348,
          -203.362,
          -205.196,
          -206.90800000000002,
          -208.482,
          -209.91799999999998,
          -211.23999999999998,
          -212.45,
          -213.556,
          -214.572,
          -215.492,
          -216.338,
          -217.106,
          -217.81,
          -218.44,
          -219.028,
          -219.542,
          -220.008,
          -220.44,
          -220.834,
          -221.20399999999998,
          -221.536,
          -221.83,
          -222.108,
          -222.348,
          -222.57,
          -222.774,
          -222.964,
          -223.15200000000002,
          -223.312,
          -223.456,
          -223.596,
          -223.722,
          -223.834,
          -223.95800000000003,
          -224.046,
          -224.148,
          -224.238,
          -224.324,
          -224.41,
          -224.476,
          -224.538,
          -224.61399999999998
         ]
        },
        {
         "marker": {
          "color": "rgb(0, 255, 0)",
          "line": {
           "color": "MediumPurple",
           "width": 0.8
          },
          "opacity": 0.5,
          "size": 11
         },
         "mode": "markers+text",
         "name": "<b>Exp <b> <b>-74V<b> <b> (6V)<b>",
         "text": [
          "<b>VGS<b>=-80V  (6)"
         ],
         "textfont": {
          "color": "rgb(0, 255, 0)",
          "family": "Times New Roman",
          "size": 18
         },
         "textposition": "top right",
         "type": "scatter",
         "x": [
          0,
          -1,
          -2,
          -3,
          -4,
          -5,
          -6,
          -7,
          -8,
          -9,
          -10,
          -11,
          -12,
          -13,
          -14,
          -15,
          -16,
          -17,
          -18,
          -19,
          -20,
          -21,
          -22,
          -23,
          -24,
          -25,
          -26,
          -27,
          -28,
          -29,
          -30,
          -31,
          -32,
          -33,
          -34,
          -35,
          -36,
          -37,
          -38,
          -39,
          -40,
          -41,
          -42,
          -43,
          -44,
          -45,
          -46,
          -47,
          -48,
          -49,
          -50,
          -51,
          -52,
          -53,
          -54,
          -55,
          -56,
          -57,
          -58,
          -59,
          -60,
          -61,
          -62,
          -63,
          -64,
          -65,
          -66,
          -67,
          -68,
          -69,
          -70,
          -71,
          -72,
          -73,
          -74,
          -75,
          -76,
          -77,
          -78,
          -79,
          -80
         ],
         "y": [
          -14.3904,
          -4.94505,
          -4.36406,
          -13.5046,
          -22.8572,
          -32.215,
          -41.648199999999996,
          -51.1322,
          -60.6824,
          -70.2246,
          -79.8264,
          -89.5274,
          -99.16239999999999,
          -108.82939999999999,
          -118.146,
          -127.748,
          -137.262,
          -146.74800000000002,
          -156.12800000000001,
          -165.46599999999998,
          -174.66199999999998,
          -183.80800000000002,
          -192.814,
          -201.74599999999998,
          -210.508,
          -219.176,
          -227.672,
          -236.044,
          -244.242,
          -252.304,
          -260.164,
          -267.894,
          -275.41,
          -282.78,
          -289.928,
          -296.906,
          -303.666,
          -310.24600000000004,
          -316.626,
          -322.824,
          -328.788,
          -334.572,
          -340.126,
          -345.496,
          -350.63,
          -355.588,
          -360.318,
          -364.874,
          -369.194,
          -373.35200000000003,
          -377.306,
          -381.056,
          -384.644,
          -388.02,
          -391.24199999999996,
          -394.274,
          -397.14,
          -399.84,
          -402.41,
          -404.824,
          -407.108,
          -409.27,
          -411.29200000000003,
          -413.192,
          -414.99,
          -416.684,
          -418.26800000000003,
          -419.78000000000003,
          -421.18199999999996,
          -422.502,
          -423.74399999999997,
          -424.9,
          -425.99199999999996,
          -427.034,
          -428.02,
          -428.954,
          -429.81399999999996,
          -430.646,
          -431.41,
          -432.128,
          -432.806
         ]
        }
       ],
       "layout": {
        "height": 600,
        "legend": {
         "font": {
          "size": 16
         }
        },
        "template": {
         "data": {
          "bar": [
           {
            "error_x": {
             "color": "#2a3f5f"
            },
            "error_y": {
             "color": "#2a3f5f"
            },
            "marker": {
             "line": {
              "color": "#E5ECF6",
              "width": 0.5
             },
             "pattern": {
              "fillmode": "overlay",
              "size": 10,
              "solidity": 0.2
             }
            },
            "type": "bar"
           }
          ],
          "barpolar": [
           {
            "marker": {
             "line": {
              "color": "#E5ECF6",
              "width": 0.5
             },
             "pattern": {
              "fillmode": "overlay",
              "size": 10,
              "solidity": 0.2
             }
            },
            "type": "barpolar"
           }
          ],
          "carpet": [
           {
            "aaxis": {
             "endlinecolor": "#2a3f5f",
             "gridcolor": "white",
             "linecolor": "white",
             "minorgridcolor": "white",
             "startlinecolor": "#2a3f5f"
            },
            "baxis": {
             "endlinecolor": "#2a3f5f",
             "gridcolor": "white",
             "linecolor": "white",
             "minorgridcolor": "white",
             "startlinecolor": "#2a3f5f"
            },
            "type": "carpet"
           }
          ],
          "choropleth": [
           {
            "colorbar": {
             "outlinewidth": 0,
             "ticks": ""
            },
            "type": "choropleth"
           }
          ],
          "contour": [
           {
            "colorbar": {
             "outlinewidth": 0,
             "ticks": ""
            },
            "colorscale": [
             [
              0,
              "#0d0887"
             ],
             [
              0.1111111111111111,
              "#46039f"
             ],
             [
              0.2222222222222222,
              "#7201a8"
             ],
             [
              0.3333333333333333,
              "#9c179e"
             ],
             [
              0.4444444444444444,
              "#bd3786"
             ],
             [
              0.5555555555555556,
              "#d8576b"
             ],
             [
              0.6666666666666666,
              "#ed7953"
             ],
             [
              0.7777777777777778,
              "#fb9f3a"
             ],
             [
              0.8888888888888888,
              "#fdca26"
             ],
             [
              1,
              "#f0f921"
             ]
            ],
            "type": "contour"
           }
          ],
          "contourcarpet": [
           {
            "colorbar": {
             "outlinewidth": 0,
             "ticks": ""
            },
            "type": "contourcarpet"
           }
          ],
          "heatmap": [
           {
            "colorbar": {
             "outlinewidth": 0,
             "ticks": ""
            },
            "colorscale": [
             [
              0,
              "#0d0887"
             ],
             [
              0.1111111111111111,
              "#46039f"
             ],
             [
              0.2222222222222222,
              "#7201a8"
             ],
             [
              0.3333333333333333,
              "#9c179e"
             ],
             [
              0.4444444444444444,
              "#bd3786"
             ],
             [
              0.5555555555555556,
              "#d8576b"
             ],
             [
              0.6666666666666666,
              "#ed7953"
             ],
             [
              0.7777777777777778,
              "#fb9f3a"
             ],
             [
              0.8888888888888888,
              "#fdca26"
             ],
             [
              1,
              "#f0f921"
             ]
            ],
            "type": "heatmap"
           }
          ],
          "heatmapgl": [
           {
            "colorbar": {
             "outlinewidth": 0,
             "ticks": ""
            },
            "colorscale": [
             [
              0,
              "#0d0887"
             ],
             [
              0.1111111111111111,
              "#46039f"
             ],
             [
              0.2222222222222222,
              "#7201a8"
             ],
             [
              0.3333333333333333,
              "#9c179e"
             ],
             [
              0.4444444444444444,
              "#bd3786"
             ],
             [
              0.5555555555555556,
              "#d8576b"
             ],
             [
              0.6666666666666666,
              "#ed7953"
             ],
             [
              0.7777777777777778,
              "#fb9f3a"
             ],
             [
              0.8888888888888888,
              "#fdca26"
             ],
             [
              1,
              "#f0f921"
             ]
            ],
            "type": "heatmapgl"
           }
          ],
          "histogram": [
           {
            "marker": {
             "pattern": {
              "fillmode": "overlay",
              "size": 10,
              "solidity": 0.2
             }
            },
            "type": "histogram"
           }
          ],
          "histogram2d": [
           {
            "colorbar": {
             "outlinewidth": 0,
             "ticks": ""
            },
            "colorscale": [
             [
              0,
              "#0d0887"
             ],
             [
              0.1111111111111111,
              "#46039f"
             ],
             [
              0.2222222222222222,
              "#7201a8"
             ],
             [
              0.3333333333333333,
              "#9c179e"
             ],
             [
              0.4444444444444444,
              "#bd3786"
             ],
             [
              0.5555555555555556,
              "#d8576b"
             ],
             [
              0.6666666666666666,
              "#ed7953"
             ],
             [
              0.7777777777777778,
              "#fb9f3a"
             ],
             [
              0.8888888888888888,
              "#fdca26"
             ],
             [
              1,
              "#f0f921"
             ]
            ],
            "type": "histogram2d"
           }
          ],
          "histogram2dcontour": [
           {
            "colorbar": {
             "outlinewidth": 0,
             "ticks": ""
            },
            "colorscale": [
             [
              0,
              "#0d0887"
             ],
             [
              0.1111111111111111,
              "#46039f"
             ],
             [
              0.2222222222222222,
              "#7201a8"
             ],
             [
              0.3333333333333333,
              "#9c179e"
             ],
             [
              0.4444444444444444,
              "#bd3786"
             ],
             [
              0.5555555555555556,
              "#d8576b"
             ],
             [
              0.6666666666666666,
              "#ed7953"
             ],
             [
              0.7777777777777778,
              "#fb9f3a"
             ],
             [
              0.8888888888888888,
              "#fdca26"
             ],
             [
              1,
              "#f0f921"
             ]
            ],
            "type": "histogram2dcontour"
           }
          ],
          "mesh3d": [
           {
            "colorbar": {
             "outlinewidth": 0,
             "ticks": ""
            },
            "type": "mesh3d"
           }
          ],
          "parcoords": [
           {
            "line": {
             "colorbar": {
              "outlinewidth": 0,
              "ticks": ""
             }
            },
            "type": "parcoords"
           }
          ],
          "pie": [
           {
            "automargin": true,
            "type": "pie"
           }
          ],
          "scatter": [
           {
            "fillpattern": {
             "fillmode": "overlay",
             "size": 10,
             "solidity": 0.2
            },
            "type": "scatter"
           }
          ],
          "scatter3d": [
           {
            "line": {
             "colorbar": {
              "outlinewidth": 0,
              "ticks": ""
             }
            },
            "marker": {
             "colorbar": {
              "outlinewidth": 0,
              "ticks": ""
             }
            },
            "type": "scatter3d"
           }
          ],
          "scattercarpet": [
           {
            "marker": {
             "colorbar": {
              "outlinewidth": 0,
              "ticks": ""
             }
            },
            "type": "scattercarpet"
           }
          ],
          "scattergeo": [
           {
            "marker": {
             "colorbar": {
              "outlinewidth": 0,
              "ticks": ""
             }
            },
            "type": "scattergeo"
           }
          ],
          "scattergl": [
           {
            "marker": {
             "colorbar": {
              "outlinewidth": 0,
              "ticks": ""
             }
            },
            "type": "scattergl"
           }
          ],
          "scattermapbox": [
           {
            "marker": {
             "colorbar": {
              "outlinewidth": 0,
              "ticks": ""
             }
            },
            "type": "scattermapbox"
           }
          ],
          "scatterpolar": [
           {
            "marker": {
             "colorbar": {
              "outlinewidth": 0,
              "ticks": ""
             }
            },
            "type": "scatterpolar"
           }
          ],
          "scatterpolargl": [
           {
            "marker": {
             "colorbar": {
              "outlinewidth": 0,
              "ticks": ""
             }
            },
            "type": "scatterpolargl"
           }
          ],
          "scatterternary": [
           {
            "marker": {
             "colorbar": {
              "outlinewidth": 0,
              "ticks": ""
             }
            },
            "type": "scatterternary"
           }
          ],
          "surface": [
           {
            "colorbar": {
             "outlinewidth": 0,
             "ticks": ""
            },
            "colorscale": [
             [
              0,
              "#0d0887"
             ],
             [
              0.1111111111111111,
              "#46039f"
             ],
             [
              0.2222222222222222,
              "#7201a8"
             ],
             [
              0.3333333333333333,
              "#9c179e"
             ],
             [
              0.4444444444444444,
              "#bd3786"
             ],
             [
              0.5555555555555556,
              "#d8576b"
             ],
             [
              0.6666666666666666,
              "#ed7953"
             ],
             [
              0.7777777777777778,
              "#fb9f3a"
             ],
             [
              0.8888888888888888,
              "#fdca26"
             ],
             [
              1,
              "#f0f921"
             ]
            ],
            "type": "surface"
           }
          ],
          "table": [
           {
            "cells": {
             "fill": {
              "color": "#EBF0F8"
             },
             "line": {
              "color": "white"
             }
            },
            "header": {
             "fill": {
              "color": "#C8D4E3"
             },
             "line": {
              "color": "white"
             }
            },
            "type": "table"
           }
          ]
         },
         "layout": {
          "annotationdefaults": {
           "arrowcolor": "#2a3f5f",
           "arrowhead": 0,
           "arrowwidth": 1
          },
          "autotypenumbers": "strict",
          "coloraxis": {
           "colorbar": {
            "outlinewidth": 0,
            "ticks": ""
           }
          },
          "colorscale": {
           "diverging": [
            [
             0,
             "#8e0152"
            ],
            [
             0.1,
             "#c51b7d"
            ],
            [
             0.2,
             "#de77ae"
            ],
            [
             0.3,
             "#f1b6da"
            ],
            [
             0.4,
             "#fde0ef"
            ],
            [
             0.5,
             "#f7f7f7"
            ],
            [
             0.6,
             "#e6f5d0"
            ],
            [
             0.7,
             "#b8e186"
            ],
            [
             0.8,
             "#7fbc41"
            ],
            [
             0.9,
             "#4d9221"
            ],
            [
             1,
             "#276419"
            ]
           ],
           "sequential": [
            [
             0,
             "#0d0887"
            ],
            [
             0.1111111111111111,
             "#46039f"
            ],
            [
             0.2222222222222222,
             "#7201a8"
            ],
            [
             0.3333333333333333,
             "#9c179e"
            ],
            [
             0.4444444444444444,
             "#bd3786"
            ],
            [
             0.5555555555555556,
             "#d8576b"
            ],
            [
             0.6666666666666666,
             "#ed7953"
            ],
            [
             0.7777777777777778,
             "#fb9f3a"
            ],
            [
             0.8888888888888888,
             "#fdca26"
            ],
            [
             1,
             "#f0f921"
            ]
           ],
           "sequentialminus": [
            [
             0,
             "#0d0887"
            ],
            [
             0.1111111111111111,
             "#46039f"
            ],
            [
             0.2222222222222222,
             "#7201a8"
            ],
            [
             0.3333333333333333,
             "#9c179e"
            ],
            [
             0.4444444444444444,
             "#bd3786"
            ],
            [
             0.5555555555555556,
             "#d8576b"
            ],
            [
             0.6666666666666666,
             "#ed7953"
            ],
            [
             0.7777777777777778,
             "#fb9f3a"
            ],
            [
             0.8888888888888888,
             "#fdca26"
            ],
            [
             1,
             "#f0f921"
            ]
           ]
          },
          "colorway": [
           "#636efa",
           "#EF553B",
           "#00cc96",
           "#ab63fa",
           "#FFA15A",
           "#19d3f3",
           "#FF6692",
           "#B6E880",
           "#FF97FF",
           "#FECB52"
          ],
          "font": {
           "color": "#2a3f5f"
          },
          "geo": {
           "bgcolor": "white",
           "lakecolor": "white",
           "landcolor": "#E5ECF6",
           "showlakes": true,
           "showland": true,
           "subunitcolor": "white"
          },
          "hoverlabel": {
           "align": "left"
          },
          "hovermode": "closest",
          "mapbox": {
           "style": "light"
          },
          "paper_bgcolor": "white",
          "plot_bgcolor": "#E5ECF6",
          "polar": {
           "angularaxis": {
            "gridcolor": "white",
            "linecolor": "white",
            "ticks": ""
           },
           "bgcolor": "#E5ECF6",
           "radialaxis": {
            "gridcolor": "white",
            "linecolor": "white",
            "ticks": ""
           }
          },
          "scene": {
           "xaxis": {
            "backgroundcolor": "#E5ECF6",
            "gridcolor": "white",
            "gridwidth": 2,
            "linecolor": "white",
            "showbackground": true,
            "ticks": "",
            "zerolinecolor": "white"
           },
           "yaxis": {
            "backgroundcolor": "#E5ECF6",
            "gridcolor": "white",
            "gridwidth": 2,
            "linecolor": "white",
            "showbackground": true,
            "ticks": "",
            "zerolinecolor": "white"
           },
           "zaxis": {
            "backgroundcolor": "#E5ECF6",
            "gridcolor": "white",
            "gridwidth": 2,
            "linecolor": "white",
            "showbackground": true,
            "ticks": "",
            "zerolinecolor": "white"
           }
          },
          "shapedefaults": {
           "line": {
            "color": "#2a3f5f"
           }
          },
          "ternary": {
           "aaxis": {
            "gridcolor": "white",
            "linecolor": "white",
            "ticks": ""
           },
           "baxis": {
            "gridcolor": "white",
            "linecolor": "white",
            "ticks": ""
           },
           "bgcolor": "#E5ECF6",
           "caxis": {
            "gridcolor": "white",
            "linecolor": "white",
            "ticks": ""
           }
          },
          "title": {
           "x": 0.05
          },
          "xaxis": {
           "automargin": true,
           "gridcolor": "white",
           "linecolor": "white",
           "ticks": "",
           "title": {
            "standoff": 15
           },
           "zerolinecolor": "white",
           "zerolinewidth": 2
          },
          "yaxis": {
           "automargin": true,
           "gridcolor": "white",
           "linecolor": "white",
           "ticks": "",
           "title": {
            "standoff": 15
           },
           "zerolinecolor": "white",
           "zerolinewidth": 2
          }
         }
        },
        "title": {
         "font": {
          "color": "black",
          "family": "Overpass",
          "size": 25
         },
         "text": "<b>Experimental Datas Vs Model<b>",
         "x": 0.45,
         "y": 0.9
        },
        "width": 1100,
        "xaxis": {
         "title": {
          "font": {
           "color": "black",
           "family": "Overpass",
           "size": 25
          },
          "standoff": 25,
          "text": "<b>VDS / V<b>"
         }
        },
        "yaxis": {
         "title": {
          "font": {
           "color": "black",
           "family": "Overpass",
           "size": 25
          },
          "standoff": 10,
          "text": "<b>ID / uA<b>"
         },
         "type": "linear"
        }
       }
      }
     },
     "metadata": {},
     "output_type": "display_data"
    },
    {
     "name": "stdout",
     "output_type": "stream",
     "text": [
      "\n",
      "\n",
      "\n",
      "\n",
      "\n",
      "\n",
      "**************************************************************************************************************************************************\n",
      "\n",
      "|RELATIVE ERROR BETWEEN CURVES: 581.7793\n",
      "\n",
      "**************************************************************************************************************************************************\n"
     ]
    }
   ],
   "source": [
    "# @title ##### ***GRAFICS PLOT OPTION:*** { run: \"auto\" }\n",
    "option = 'show both curves' # @param [\"Show Transfer curve\", \"Show output curve\", \"show both curves\"]\n",
    "\n",
    "plot = initialize_graphics_plot(settings['image_size_width'], settings['image_size_height'])\n",
    "model = instance_model(read, TFTModel, n_points, type_curve_plot, load_parameters, input_voltage, Vv, load_idleak, width_t, count_transfer, tp_tst, settings['experimental_data_scale_transfer'], settings['current_typic'], resistance, current)\n",
    "in_model_data, in_exp_data, out_model_data, out_exp_data = load_experimental_data(read, count_transfer, Vv, Id, model, count_output)\n",
    "plot_curves(option, plot, list_tension, list_tension_shift, count_transfer, in_model_data, out_model_data, in_exp_data, out_exp_data, shift_list, settings['select_files'], settings['current_typic'], type_curve_plot)\n",
    "read.compute_relative_distance(Id, model)\n"
   ]
  },
  {
   "cell_type": "markdown",
   "metadata": {
    "id": "vUMiE-AQVQYh"
   },
   "source": [
    "### **Model Optimization** ⚡"
   ]
  },
  {
   "cell_type": "markdown",
   "metadata": {
    "id": "hPKJt-uDVKbe"
   },
   "source": [
    "This optimization section focuses on estimating the optimal parameters for a MOSFET transistor given a sequence of input voltage $V$ [V] and current $I$ [mA], using the mathematical model introduced in section [5]. The goal here is to estimate these optimal parameters using the `curve_fit` function, as also introduced in section [4] (for more details, refer to that section). The parameters in question are listed below:\n",
    "\n",
    "- $V_{tho}$: Gate threshold voltage of the transistor.\n",
    "- $\\Delta$: Channel modulation coefficient.\n",
    "- $N$: Number of transistor channels.\n",
    "- $L$: Channel length of the transistor.\n",
    "- $\\Lambda$: Channel modulation length.\n",
    "- $V_{crit}$: Transistor breakdown voltage.\n",
    "- $J_{th}$: Transistor saturation current.\n",
    "- $R_s$: Transistor series resistance.\n",
    "\n"
   ]
  },
  {
   "cell_type": "code",
   "execution_count": 6,
   "metadata": {
    "cellView": "form",
    "colab": {
     "base_uri": "https://localhost:8080/"
    },
    "executionInfo": {
     "elapsed": 99499,
     "status": "ok",
     "timestamp": 1730290119901,
     "user": {
      "displayName": "Rodrigo Santos Batista",
      "userId": "10844009603124520931"
     },
     "user_tz": 180
    },
    "id": "R3wX-9nPVZLQ",
    "outputId": "880cb966-b46f-4637-be60-39b090dd3952"
   },
   "outputs": [
    {
     "name": "stdout",
     "output_type": "stream",
     "text": [
      "\n",
      "----------------------------------------------------------------------------------------------------\n",
      "TRUST REGION REFLECTIVE (TRF) MODE\n",
      "----------------------------------------------------------------------------------------------------\n",
      "\n",
      "\n",
      "----------------------------------------------------------------------------------------------------\n",
      "Optimization out of bounds.\n",
      "\n",
      "\n"
     ]
    },
    {
     "ename": "ValueError",
     "evalue": "Input must be 1- or 2-d.",
     "output_type": "error",
     "traceback": [
      "\u001b[0;31m---------------------------------------------------------------------------\u001b[0m",
      "\u001b[0;31mValueError\u001b[0m                                Traceback (most recent call last)",
      "Cell \u001b[0;32mIn[6], line 16\u001b[0m\n\u001b[1;32m     11\u001b[0m optimizer \u001b[38;5;241m=\u001b[39m create_optimizer(settings[\u001b[38;5;124m'\u001b[39m\u001b[38;5;124mcurrent_typic\u001b[39m\u001b[38;5;124m'\u001b[39m], settings[\u001b[38;5;124m'\u001b[39m\u001b[38;5;124mexperimental_data_scale_transfer\u001b[39m\u001b[38;5;124m'\u001b[39m], settings[\u001b[38;5;124m'\u001b[39m\u001b[38;5;124mexperimental_data_scale_output\u001b[39m\u001b[38;5;124m'\u001b[39m],\n\u001b[1;32m     12\u001b[0m                              settings[\u001b[38;5;124m'\u001b[39m\u001b[38;5;124mtype_read_data_exp\u001b[39m\u001b[38;5;124m'\u001b[39m], path_voltages, type_curve_plot, settings[\u001b[38;5;124m'\u001b[39m\u001b[38;5;124moptimization_method\u001b[39m\u001b[38;5;124m'\u001b[39m], (lw_bounds, up_bounds))\n\u001b[1;32m     14\u001b[0m configure_optimizer(optimizer, settings[\u001b[38;5;124m'\u001b[39m\u001b[38;5;124mdefault_bounds\u001b[39m\u001b[38;5;124m'\u001b[39m], tlr_factor)\n\u001b[0;32m---> 16\u001b[0m coeff_opt, coeff_error, text_verbose \u001b[38;5;241m=\u001b[39m \u001b[43moptimize_model\u001b[49m\u001b[43m(\u001b[49m\u001b[43moptimizer\u001b[49m\u001b[43m,\u001b[49m\u001b[43m \u001b[49m\u001b[43mmodel_id\u001b[49m\u001b[43m,\u001b[49m\u001b[43m \u001b[49m\u001b[43mload_parameters\u001b[49m\u001b[43m,\u001b[49m\u001b[43m \u001b[49m\u001b[38;5;241;43m*\u001b[39;49m\u001b[43mpath_voltages\u001b[49m\u001b[43m)\u001b[49m\n\u001b[1;32m     18\u001b[0m \u001b[38;5;66;03m# Exibição dos resultados\u001b[39;00m\n\u001b[1;32m     19\u001b[0m \u001b[38;5;28mprint\u001b[39m(\u001b[38;5;124m'\u001b[39m\u001b[38;5;130;01m\\n\u001b[39;00m\u001b[38;5;130;01m\\n\u001b[39;00m\u001b[38;5;130;01m\\n\u001b[39;00m\u001b[38;5;124m'\u001b[39m)\n",
      "File \u001b[0;32m~/Desktop/Artigo JICS/Model_OTFT/modules_otft/_utils.py:225\u001b[0m, in \u001b[0;36moptimize_model\u001b[0;34m(optimizer, model_id, load_parameters, *path_voltages)\u001b[0m\n\u001b[1;32m    223\u001b[0m \u001b[38;5;28;01mdef\u001b[39;00m \u001b[38;5;21moptimize_model\u001b[39m(optimizer, model_id, load_parameters, \u001b[38;5;241m*\u001b[39mpath_voltages):\n\u001b[1;32m    224\u001b[0m \u001b[38;5;250m    \u001b[39m\u001b[38;5;124;03m\"\"\"Performs model optimization.\"\"\"\u001b[39;00m\n\u001b[0;32m--> 225\u001b[0m     coeff_opt, coeff_error, text_verbose \u001b[38;5;241m=\u001b[39m \u001b[43moptimizer\u001b[49m\u001b[38;5;241;43m.\u001b[39;49m\u001b[43moptimize_all\u001b[49m\u001b[43m(\u001b[49m\u001b[43mmodel_id\u001b[49m\u001b[43m,\u001b[49m\u001b[43m \u001b[49m\u001b[43mload_parameters\u001b[49m\u001b[43m,\u001b[49m\u001b[43m \u001b[49m\u001b[38;5;241;43m*\u001b[39;49m\u001b[43mpath_voltages\u001b[49m\u001b[43m)\u001b[49m\n\u001b[1;32m    226\u001b[0m     \u001b[38;5;28;01mreturn\u001b[39;00m coeff_opt, coeff_error, text_verbose\n",
      "File \u001b[0;32m~/Desktop/Artigo JICS/Model_OTFT/modules_otft/_optmization.py:193\u001b[0m, in \u001b[0;36mModelOptmization.optimize_all\u001b[0;34m(self, Model, coeff, *args)\u001b[0m\n\u001b[1;32m    190\u001b[0m         \u001b[38;5;28mprint\u001b[39m()\n\u001b[1;32m    192\u001b[0m \u001b[38;5;66;03m# Calculate error associated with each parameter\u001b[39;00m\n\u001b[0;32m--> 193\u001b[0m error_coeff \u001b[38;5;241m=\u001b[39m np\u001b[38;5;241m.\u001b[39msqrt(\u001b[43mnp\u001b[49m\u001b[38;5;241;43m.\u001b[39;49m\u001b[43mdiag\u001b[49m\u001b[43m(\u001b[49m\u001b[43mmat_covar\u001b[49m\u001b[43m)\u001b[49m)\n\u001b[1;32m    195\u001b[0m \u001b[38;5;28;01mreturn\u001b[39;00m coeff_opt, error_coeff, text_verbose\n",
      "File \u001b[0;32m~/anaconda3/envs/otft-env/lib/python3.10/site-packages/numpy/lib/twodim_base.py:303\u001b[0m, in \u001b[0;36mdiag\u001b[0;34m(v, k)\u001b[0m\n\u001b[1;32m    301\u001b[0m     \u001b[38;5;28;01mreturn\u001b[39;00m diagonal(v, k)\n\u001b[1;32m    302\u001b[0m \u001b[38;5;28;01melse\u001b[39;00m:\n\u001b[0;32m--> 303\u001b[0m     \u001b[38;5;28;01mraise\u001b[39;00m \u001b[38;5;167;01mValueError\u001b[39;00m(\u001b[38;5;124m\"\u001b[39m\u001b[38;5;124mInput must be 1- or 2-d.\u001b[39m\u001b[38;5;124m\"\u001b[39m)\n",
      "\u001b[0;31mValueError\u001b[0m: Input must be 1- or 2-d."
     ]
    }
   ],
   "source": [
    "# @title #### **OPTIMIZING THE MODEL.** { run: \"auto\" }\n",
    "lw_bounds, up_bounds = get_bounds(settings['lower_bounds'], settings['upper_bounds'])\n",
    "tolerance_factor = get_tolerance_factor(settings['tolerance_factor'])\n",
    "tlr_factor = get_tolerance_factor(tolerance_factor)\n",
    "lw_bounds, up_bounds = configure_bounds(settings['default_bounds'], lw_bounds, up_bounds)\n",
    "\n",
    "model_id = create_model_opt(TFTModel, input_voltage, n_points, type_curve_plot, settings['current_typic'],\n",
    "                            settings['experimental_data_scale_transfer'], load_idleak, mode_idleak, count_transfer,\n",
    "                            resistance, current)\n",
    "\n",
    "optimizer = create_optimizer(settings['current_typic'], settings['experimental_data_scale_transfer'], settings['experimental_data_scale_output'],\n",
    "                             settings['type_read_data_exp'], path_voltages, type_curve_plot, settings['optimization_method'], (lw_bounds, up_bounds))\n",
    "\n",
    "configure_optimizer(optimizer, settings['default_bounds'], tlr_factor)\n",
    "\n",
    "coeff_opt, coeff_error, text_verbose = optimize_model(optimizer, model_id, load_parameters, *path_voltages)\n",
    "\n",
    "# Exibição dos resultados\n",
    "print('\\n\\n\\n')\n",
    "print('*' * 200)\n",
    "print(text_verbose.capitalize())\n",
    "print('*' * 200)\n",
    "print('\\n\\n\\n')"
   ]
  },
  {
   "cell_type": "code",
   "execution_count": null,
   "metadata": {
    "cellView": "form",
    "colab": {
     "base_uri": "https://localhost:8080/"
    },
    "executionInfo": {
     "elapsed": 17,
     "status": "ok",
     "timestamp": 1730290119902,
     "user": {
      "displayName": "Rodrigo Santos Batista",
      "userId": "10844009603124520931"
     },
     "user_tz": 180
    },
    "id": "E2sKzh9yw0jJ",
    "outputId": "279448f8-91bb-46e5-eded-b8aaf9c9dbb1"
   },
   "outputs": [
    {
     "name": "stdout",
     "output_type": "stream",
     "text": [
      "\n",
      "---------------------------\n",
      " OPTIMIZED COEFFICIENTS:\n",
      "\n",
      "╒══════════════════════╤═════════════════╤═══════════════════╤═════════════════════════════════════════╕\n",
      "│ Parameter            │   Initial Value │   Optimized Value │   Associated Error (standard deviation) │\n",
      "╞══════════════════════╪═════════════════╪═══════════════════╪═════════════════════════════════════════╡\n",
      "│ VTHO [V]             │     8.57        │       8           │                             7.56398     │\n",
      "├──────────────────────┼─────────────────┼───────────────────┼─────────────────────────────────────────┤\n",
      "│ DELTA                │     0.0032      │       0.3         │                             0.0590173   │\n",
      "├──────────────────────┼─────────────────┼───────────────────┼─────────────────────────────────────────┤\n",
      "│ N                    │    57.4         │     130           │                            56.6339      │\n",
      "├──────────────────────┼─────────────────┼───────────────────┼─────────────────────────────────────────┤\n",
      "│ L                    │     2.14        │       1           │                             0.686713    │\n",
      "├──────────────────────┼─────────────────┼───────────────────┼─────────────────────────────────────────┤\n",
      "│ LAMBDA               │  3010           │     100           │                           233.855       │\n",
      "├──────────────────────┼─────────────────┼───────────────────┼─────────────────────────────────────────┤\n",
      "│ VGCRIT [V]           │    32.3         │      10           │                            53.2323      │\n",
      "├──────────────────────┼─────────────────┼───────────────────┼─────────────────────────────────────────┤\n",
      "│ JTH [μA cm^−1]       │     4           │       1.80704     │                             4.63626     │\n",
      "├──────────────────────┼─────────────────┼───────────────────┼─────────────────────────────────────────┤\n",
      "│ RS [kΩ]              │   200           │       1.00421e-17 │                          1573.2         │\n",
      "├──────────────────────┼─────────────────┼───────────────────┼─────────────────────────────────────────┤\n",
      "│ JTH / LAMBDA * N [μA │     2.31516e-05 │       0.000139003 │                             0.000350061 │\n",
      "│      cm^−1]          │                 │                   │                                         │\n",
      "╘══════════════════════╧═════════════════╧═══════════════════╧═════════════════════════════════════════╛\n",
      "\n",
      "\n",
      "\n",
      "\n"
     ]
    }
   ],
   "source": [
    "# @title #### **SHOW MODEL PARAMETERS OPTIMIZED.** { run: \"auto\" }\n",
    "# @markdown ### **Loading Parameters and Optimizing the Model** ⚡\n",
    "# @markdown > This section is dedicated to visualizing the parameters obtained through optimization. To do this, simply choose any of the options below:\n",
    "# @markdown ##### ***Show the list coefficients optimized:***\n",
    "# @markdown ##### **--> Vtho, delta, n, l, lam, Vgcrit, Jth, Rs**\n",
    "# @markdown ---\n",
    "\n",
    "option = 'Show the table of values opt' # @param [\"Show the coeff values\",\"Show the initial values\", \"Show the table of values opt\", \"coeff opt\", \"coeff error\"]\n",
    "show_model_parameters_optimized(menu, option, load_parameters, coeff_opt, coeff_error, settings['current_carry'], settings['current_typic'], resistance)\n"
   ]
  },
  {
   "cell_type": "markdown",
   "metadata": {
    "id": "wtumu9_Lxx4q"
   },
   "source": [
    "### **Comparing** ✅\n",
    "\n",
    "---\n",
    "This section aims to evaluate the model's performance relative to the initial data. Visual observation allows assessing whether the model significantly outperformed the initial coefficients.\n",
    "\n",
    "In this section, simply execute the cells below; no explicit modifications are required.\n",
    "\n",
    "---"
   ]
  },
  {
   "cell_type": "code",
   "execution_count": null,
   "metadata": {
    "cellView": "form",
    "colab": {
     "base_uri": "https://localhost:8080/",
     "height": 1000
    },
    "executionInfo": {
     "elapsed": 367,
     "status": "ok",
     "timestamp": 1730290120254,
     "user": {
      "displayName": "Rodrigo Santos Batista",
      "userId": "10844009603124520931"
     },
     "user_tz": 180
    },
    "id": "gvhAweAZx3eD",
    "outputId": "8cceb938-9438-4010-9ed4-9f0b2efeffa5"
   },
   "outputs": [
    {
     "data": {
      "application/vnd.plotly.v1+json": {
       "config": {
        "plotlyServerURL": "https://plot.ly"
       },
       "data": [
        {
         "line": {
          "color": "rgb(255, 0, 0)",
          "dash": "dash"
         },
         "mode": "lines+text",
         "name": "<b>Model OVSED<b> <b>-5V<b>",
         "text": [
          "-5V"
         ],
         "textfont": {
          "color": "rgb(255, 0, 0)",
          "family": "Times New Roman",
          "size": 13
         },
         "textposition": "bottom center",
         "type": "scatter",
         "x": [
          -80,
          -79,
          -78,
          -77,
          -76,
          -75,
          -74,
          -73,
          -72,
          -71,
          -70,
          -69,
          -68,
          -67,
          -66,
          -65,
          -64,
          -63,
          -62,
          -61,
          -60,
          -59,
          -58,
          -57,
          -56,
          -55,
          -54,
          -53,
          -52,
          -51,
          -50,
          -49,
          -48,
          -47,
          -46,
          -45,
          -44,
          -43,
          -42,
          -41,
          -40,
          -39,
          -38,
          -37,
          -36,
          -35,
          -34,
          -33,
          -32,
          -31,
          -30,
          -29,
          -28,
          -27,
          -26,
          -25,
          -24,
          -23,
          -22,
          -21,
          -20,
          -19,
          -18,
          -17,
          -16,
          -15,
          -14,
          -13,
          -12,
          -11,
          -10,
          -9,
          -8,
          -7,
          -6,
          -5,
          -4,
          -3,
          -2,
          -1,
          0
         ],
         "y": [
          0.000009933802733230991,
          0.000009869568818530345,
          0.000009803199205811229,
          0.000009734613633551746,
          0.000009663729116074828,
          0.00000959045993432971,
          0.000009514717641842992,
          0.000009436411088473447,
          0.000009355446464933333,
          0.000009271727371397922,
          0.00000918515491391555,
          0.000009095627832753402,
          0.000009003042667267582,
          0.000008907293962369347,
          0.000008808274522172595,
          0.000008705875716941391,
          0.000008599987850010212,
          0.000008490500591913828,
          0.000008377303489524606,
          0.000008260286558545236,
          0.000008139340968219077,
          0.000008014359827582848,
          0.000007885239082966286,
          0.00000775187853670925,
          0.000007614182997179962,
          0.000007472063570092064,
          0.000007325439100780223,
          0.0000071742377764444675,
          0.000007018398896343919,
          0.000006857874816437474,
          0.0000066926330729518454,
          0.0000065226586867237495,
          0.000006347956646825939,
          0.000006168554567865699,
          0.000005984505510362298,
          0.000005795890947703871,
          0.00000560282385631425,
          0.0000054054518978095344,
          0.000005203960653121112,
          0.000004998576858880624,
          0.0000047895715859379895,
          0.000004577263288926139,
          0.000004362020644585849,
          0.000004144265085502139,
          0.000003924472925459532,
          0.0000037031769633704875,
          0.0000034809674453344905,
          0.0000032584922595888804,
          0.0000030364562377156573,
          0.0000028156194383036022,
          0.000002596794297157243,
          0.0000023808415418861057,
          0.000002168664789023384,
          0.000001961203769363181,
          0.000001759426162553832,
          0.000001564318065693086,
          0.0000013768731732665796,
          0.0000011980808075818851,
          0.0000010289130092043235,
          8.703109715537336e-7,
          7.231711678743389e-7,
          5.883315286975796e-7,
          4.665578682500634e-7,
          3.5853014250552303e-7,
          2.6482637767951583e-7,
          1.8589776510138909e-7,
          1.2201864529856422e-7,
          7.317615188059704e-8,
          3.8839297212976316e-8,
          1.7562568143330135e-8,
          6.595631202044162e-9,
          2.1599193965235038e-9,
          7.942646521086695e-10,
          4.720118952552429e-10,
          4.1137203893331667e-10,
          4.0166281666305175e-10,
          4.002423798321775e-10,
          4.000381007675713e-10,
          4.000067542982178e-10,
          4.000013354370406e-10,
          4.0000028449014406e-10
         ]
        },
        {
         "line": {
          "color": "black",
          "dash": "solid"
         },
         "mode": "lines+text",
         "name": "<b>Model OPT<b> <b>-5V<b>",
         "text": [
          "-5V"
         ],
         "textfont": {
          "color": "black",
          "family": "Times New Roman",
          "size": 13
         },
         "textposition": "bottom center",
         "type": "scatter",
         "x": [
          -80,
          -79,
          -78,
          -77,
          -76,
          -75,
          -74,
          -73,
          -72,
          -71,
          -70,
          -69,
          -68,
          -67,
          -66,
          -65,
          -64,
          -63,
          -62,
          -61,
          -60,
          -59,
          -58,
          -57,
          -56,
          -55,
          -54,
          -53,
          -52,
          -51,
          -50,
          -49,
          -48,
          -47,
          -46,
          -45,
          -44,
          -43,
          -42,
          -41,
          -40,
          -39,
          -38,
          -37,
          -36,
          -35,
          -34,
          -33,
          -32,
          -31,
          -30,
          -29,
          -28,
          -27,
          -26,
          -25,
          -24,
          -23,
          -22,
          -21,
          -20,
          -19,
          -18,
          -17,
          -16,
          -15,
          -14,
          -13,
          -12,
          -11,
          -10,
          -9,
          -8,
          -7,
          -6,
          -5,
          -4,
          -3,
          -2,
          -1,
          0
         ],
         "y": [
          0.000001791771436441386,
          0.0000017654880818191956,
          0.0000017392073936456609,
          0.0000017129294236829384,
          0.0000016866542254213751,
          0.0000016603818541642501,
          0.0000016341123671182742,
          0.00000160784582349035,
          0.000001581582284591206,
          0.0000015553218139465807,
          0.0000015290644774167359,
          0.0000015028103433251547,
          0.000001476559482597495,
          0.0000014503119689119418,
          0.0000014240678788623795,
          0.000001397827292135972,
          0.0000013715902917071905,
          0.0000013453569640505088,
          0.0000013191273993746676,
          0.0000012929016918819087,
          0.0000012666799400564094,
          0.000001240462246987149,
          0.0000012142487207317222,
          0.0000011880394747293645,
          0.0000011618346282735447,
          0.000001135634307057477,
          0.0000011094386438095742,
          0.000001083247779040882,
          0.0000010570618619330742,
          0.0000010308810514042663,
          0.0000010047055174013965,
          9.785354424832686e-7,
          9.52371023778691e-7,
          9.262124754313374e-7,
          9.000600316793438e-7,
          8.739139507661384e-7,
          8.477745199441738e-7,
          8.21642061920394e-7,
          7.955169432093001e-7,
          7.693995850166253e-7,
          7.432904774876808e-7,
          7.171901984382027e-7,
          6.910994380670993e-7,
          6.650190316636143e-7,
          6.389500030116788e-7,
          6.128936221222172e-7,
          5.868514821712492e-7,
          5.608256021954961e-7,
          5.348185643401078e-7,
          5.08833697450451e-7,
          4.828753227897953e-7,
          4.569490829459944e-7,
          4.310623819233592e-7,
          4.052249734100902e-7,
          3.7944974567610673e-7,
          3.537537657876787e-7,
          3.281596627680967e-7,
          3.026974481167143e-7,
          2.7740689018391403e-7,
          2.52340570594121e-7,
          2.275677448816816e-7,
          2.0317908484845814e-7,
          1.792922604961436e-7,
          1.5605806477763612e-7,
          1.336663019429571e-7,
          1.1234982025074414e-7,
          9.238373794413919e-8,
          7.407512068682539e-8,
          5.773687211247239e-8,
          4.364095182784032e-8,
          3.195487185295074e-8,
          2.2683244681936234e-8,
          1.5649396899326697e-8,
          1.0535724751527917e-8,
          6.960131452064084e-9,
          4.54655292723437e-9,
          2.9678972275558835e-9,
          1.963435173060597e-9,
          1.33915809119883e-9,
          9.586375321777952e-10,
          7.302849511406983e-10
         ]
        },
        {
         "marker": {
          "color": "rgb(255, 0, 0)",
          "line": {
           "color": "MediumPurple",
           "width": 0.8
          },
          "opacity": 0.5,
          "size": 11
         },
         "mode": "markers+text",
         "name": "<b>Exp <b> <b>-5V<b>",
         "text": [
          "<b>VDS<b>=-5V"
         ],
         "textfont": {
          "color": "rgb(255, 0, 0)",
          "family": "Times New Roman",
          "size": 18
         },
         "textposition": "top right",
         "type": "scatter",
         "x": [
          -80,
          -79,
          -78,
          -77,
          -76,
          -75,
          -74,
          -73,
          -72,
          -71,
          -70,
          -69,
          -68,
          -67,
          -66,
          -65,
          -64,
          -63,
          -62,
          -61,
          -60,
          -59,
          -58,
          -57,
          -56,
          -55,
          -54,
          -53,
          -52,
          -51,
          -50,
          -49,
          -48,
          -47,
          -46,
          -45,
          -44,
          -43,
          -42,
          -41,
          -40,
          -39,
          -38,
          -37,
          -36,
          -35,
          -34,
          -33,
          -32,
          -31,
          -30,
          -29,
          -28,
          -27,
          -26,
          -25,
          -24,
          -23,
          -22,
          -21,
          -20,
          -19,
          -18,
          -17,
          -16,
          -15,
          -14,
          -13,
          -12,
          -11,
          -10,
          -9,
          -8,
          -7,
          -6,
          -5,
          -4,
          -3,
          -2,
          -1,
          0
         ],
         "y": [
          1.3990000000000026e-11,
          0.00036789799999999997,
          0.00036789799999999997,
          0.00036789799999999997,
          0.00036789799999999997,
          0.00036789799999999997,
          0.00036789799999999997,
          0.00036789799999999997,
          0.00036789799999999997,
          0.00036789799999999997,
          0.00036789799999999997,
          0.00036789799999999997,
          0.00036789799999999997,
          0.00036789799999999997,
          0.00036789799999999997,
          0.00036789799999999997,
          0.00036789799999999997,
          0.00036789799999999997,
          0.00036789799999999997,
          0.00036789799999999997,
          0.00036789799999999997,
          0.00036789799999999997,
          0.00036789799999999997,
          0.00036789799999999997,
          0.00036789799999999997,
          0.00036789799999999997,
          0.00036789799999999997,
          0.00036789799999999997,
          0.00036789799999999997,
          0.00036789799999999997,
          0.00036789799999999997,
          0.00036789799999999997,
          0.00036789799999999997,
          0.00036789799999999997,
          0.00036789799999999997,
          0.00036789799999999997,
          0.00036789799999999997,
          0.00036789799999999997,
          0.00036789799999999997,
          0.00036789799999999997,
          0.00036789799999999997,
          0.00036789799999999997,
          0.00036789799999999997,
          0.00036789799999999997,
          0.00036789799999999997,
          0.00036789799999999997,
          0.00036789799999999997,
          0.00036789799999999997,
          0.00036789799999999997,
          0.00036789799999999997,
          0.00036789799999999997,
          0.00036789799999999997,
          0.00036789799999999997,
          0.00036789799999999997,
          0.00036789799999999997,
          0.00036789799999999997,
          0.00036789799999999997,
          0.00036789799999999997,
          0.00036789799999999997,
          0.00036789799999999997,
          0.00036789799999999997,
          0.00036789799999999997,
          0.00036789799999999997,
          0.00036789799999999997,
          0.00036789799999999997,
          0.00036789799999999997,
          0.00036789799999999997,
          0.00036789799999999997,
          0.00036789799999999997,
          0.00036789799999999997,
          0.00036789799999999997,
          0.00036789799999999997,
          0.00036789799999999997,
          0.00036789799999999997,
          0.00036789799999999997,
          0.00036789799999999997,
          0.00036789799999999997,
          0.00036789799999999997,
          0.00036789799999999997,
          0.00036789799999999997,
          0.00036789799999999997
         ]
        }
       ],
       "layout": {
        "height": 600,
        "legend": {
         "font": {
          "size": 16
         }
        },
        "template": {
         "data": {
          "bar": [
           {
            "error_x": {
             "color": "#2a3f5f"
            },
            "error_y": {
             "color": "#2a3f5f"
            },
            "marker": {
             "line": {
              "color": "#E5ECF6",
              "width": 0.5
             },
             "pattern": {
              "fillmode": "overlay",
              "size": 10,
              "solidity": 0.2
             }
            },
            "type": "bar"
           }
          ],
          "barpolar": [
           {
            "marker": {
             "line": {
              "color": "#E5ECF6",
              "width": 0.5
             },
             "pattern": {
              "fillmode": "overlay",
              "size": 10,
              "solidity": 0.2
             }
            },
            "type": "barpolar"
           }
          ],
          "carpet": [
           {
            "aaxis": {
             "endlinecolor": "#2a3f5f",
             "gridcolor": "white",
             "linecolor": "white",
             "minorgridcolor": "white",
             "startlinecolor": "#2a3f5f"
            },
            "baxis": {
             "endlinecolor": "#2a3f5f",
             "gridcolor": "white",
             "linecolor": "white",
             "minorgridcolor": "white",
             "startlinecolor": "#2a3f5f"
            },
            "type": "carpet"
           }
          ],
          "choropleth": [
           {
            "colorbar": {
             "outlinewidth": 0,
             "ticks": ""
            },
            "type": "choropleth"
           }
          ],
          "contour": [
           {
            "colorbar": {
             "outlinewidth": 0,
             "ticks": ""
            },
            "colorscale": [
             [
              0,
              "#0d0887"
             ],
             [
              0.1111111111111111,
              "#46039f"
             ],
             [
              0.2222222222222222,
              "#7201a8"
             ],
             [
              0.3333333333333333,
              "#9c179e"
             ],
             [
              0.4444444444444444,
              "#bd3786"
             ],
             [
              0.5555555555555556,
              "#d8576b"
             ],
             [
              0.6666666666666666,
              "#ed7953"
             ],
             [
              0.7777777777777778,
              "#fb9f3a"
             ],
             [
              0.8888888888888888,
              "#fdca26"
             ],
             [
              1,
              "#f0f921"
             ]
            ],
            "type": "contour"
           }
          ],
          "contourcarpet": [
           {
            "colorbar": {
             "outlinewidth": 0,
             "ticks": ""
            },
            "type": "contourcarpet"
           }
          ],
          "heatmap": [
           {
            "colorbar": {
             "outlinewidth": 0,
             "ticks": ""
            },
            "colorscale": [
             [
              0,
              "#0d0887"
             ],
             [
              0.1111111111111111,
              "#46039f"
             ],
             [
              0.2222222222222222,
              "#7201a8"
             ],
             [
              0.3333333333333333,
              "#9c179e"
             ],
             [
              0.4444444444444444,
              "#bd3786"
             ],
             [
              0.5555555555555556,
              "#d8576b"
             ],
             [
              0.6666666666666666,
              "#ed7953"
             ],
             [
              0.7777777777777778,
              "#fb9f3a"
             ],
             [
              0.8888888888888888,
              "#fdca26"
             ],
             [
              1,
              "#f0f921"
             ]
            ],
            "type": "heatmap"
           }
          ],
          "heatmapgl": [
           {
            "colorbar": {
             "outlinewidth": 0,
             "ticks": ""
            },
            "colorscale": [
             [
              0,
              "#0d0887"
             ],
             [
              0.1111111111111111,
              "#46039f"
             ],
             [
              0.2222222222222222,
              "#7201a8"
             ],
             [
              0.3333333333333333,
              "#9c179e"
             ],
             [
              0.4444444444444444,
              "#bd3786"
             ],
             [
              0.5555555555555556,
              "#d8576b"
             ],
             [
              0.6666666666666666,
              "#ed7953"
             ],
             [
              0.7777777777777778,
              "#fb9f3a"
             ],
             [
              0.8888888888888888,
              "#fdca26"
             ],
             [
              1,
              "#f0f921"
             ]
            ],
            "type": "heatmapgl"
           }
          ],
          "histogram": [
           {
            "marker": {
             "pattern": {
              "fillmode": "overlay",
              "size": 10,
              "solidity": 0.2
             }
            },
            "type": "histogram"
           }
          ],
          "histogram2d": [
           {
            "colorbar": {
             "outlinewidth": 0,
             "ticks": ""
            },
            "colorscale": [
             [
              0,
              "#0d0887"
             ],
             [
              0.1111111111111111,
              "#46039f"
             ],
             [
              0.2222222222222222,
              "#7201a8"
             ],
             [
              0.3333333333333333,
              "#9c179e"
             ],
             [
              0.4444444444444444,
              "#bd3786"
             ],
             [
              0.5555555555555556,
              "#d8576b"
             ],
             [
              0.6666666666666666,
              "#ed7953"
             ],
             [
              0.7777777777777778,
              "#fb9f3a"
             ],
             [
              0.8888888888888888,
              "#fdca26"
             ],
             [
              1,
              "#f0f921"
             ]
            ],
            "type": "histogram2d"
           }
          ],
          "histogram2dcontour": [
           {
            "colorbar": {
             "outlinewidth": 0,
             "ticks": ""
            },
            "colorscale": [
             [
              0,
              "#0d0887"
             ],
             [
              0.1111111111111111,
              "#46039f"
             ],
             [
              0.2222222222222222,
              "#7201a8"
             ],
             [
              0.3333333333333333,
              "#9c179e"
             ],
             [
              0.4444444444444444,
              "#bd3786"
             ],
             [
              0.5555555555555556,
              "#d8576b"
             ],
             [
              0.6666666666666666,
              "#ed7953"
             ],
             [
              0.7777777777777778,
              "#fb9f3a"
             ],
             [
              0.8888888888888888,
              "#fdca26"
             ],
             [
              1,
              "#f0f921"
             ]
            ],
            "type": "histogram2dcontour"
           }
          ],
          "mesh3d": [
           {
            "colorbar": {
             "outlinewidth": 0,
             "ticks": ""
            },
            "type": "mesh3d"
           }
          ],
          "parcoords": [
           {
            "line": {
             "colorbar": {
              "outlinewidth": 0,
              "ticks": ""
             }
            },
            "type": "parcoords"
           }
          ],
          "pie": [
           {
            "automargin": true,
            "type": "pie"
           }
          ],
          "scatter": [
           {
            "fillpattern": {
             "fillmode": "overlay",
             "size": 10,
             "solidity": 0.2
            },
            "type": "scatter"
           }
          ],
          "scatter3d": [
           {
            "line": {
             "colorbar": {
              "outlinewidth": 0,
              "ticks": ""
             }
            },
            "marker": {
             "colorbar": {
              "outlinewidth": 0,
              "ticks": ""
             }
            },
            "type": "scatter3d"
           }
          ],
          "scattercarpet": [
           {
            "marker": {
             "colorbar": {
              "outlinewidth": 0,
              "ticks": ""
             }
            },
            "type": "scattercarpet"
           }
          ],
          "scattergeo": [
           {
            "marker": {
             "colorbar": {
              "outlinewidth": 0,
              "ticks": ""
             }
            },
            "type": "scattergeo"
           }
          ],
          "scattergl": [
           {
            "marker": {
             "colorbar": {
              "outlinewidth": 0,
              "ticks": ""
             }
            },
            "type": "scattergl"
           }
          ],
          "scattermapbox": [
           {
            "marker": {
             "colorbar": {
              "outlinewidth": 0,
              "ticks": ""
             }
            },
            "type": "scattermapbox"
           }
          ],
          "scatterpolar": [
           {
            "marker": {
             "colorbar": {
              "outlinewidth": 0,
              "ticks": ""
             }
            },
            "type": "scatterpolar"
           }
          ],
          "scatterpolargl": [
           {
            "marker": {
             "colorbar": {
              "outlinewidth": 0,
              "ticks": ""
             }
            },
            "type": "scatterpolargl"
           }
          ],
          "scatterternary": [
           {
            "marker": {
             "colorbar": {
              "outlinewidth": 0,
              "ticks": ""
             }
            },
            "type": "scatterternary"
           }
          ],
          "surface": [
           {
            "colorbar": {
             "outlinewidth": 0,
             "ticks": ""
            },
            "colorscale": [
             [
              0,
              "#0d0887"
             ],
             [
              0.1111111111111111,
              "#46039f"
             ],
             [
              0.2222222222222222,
              "#7201a8"
             ],
             [
              0.3333333333333333,
              "#9c179e"
             ],
             [
              0.4444444444444444,
              "#bd3786"
             ],
             [
              0.5555555555555556,
              "#d8576b"
             ],
             [
              0.6666666666666666,
              "#ed7953"
             ],
             [
              0.7777777777777778,
              "#fb9f3a"
             ],
             [
              0.8888888888888888,
              "#fdca26"
             ],
             [
              1,
              "#f0f921"
             ]
            ],
            "type": "surface"
           }
          ],
          "table": [
           {
            "cells": {
             "fill": {
              "color": "#EBF0F8"
             },
             "line": {
              "color": "white"
             }
            },
            "header": {
             "fill": {
              "color": "#C8D4E3"
             },
             "line": {
              "color": "white"
             }
            },
            "type": "table"
           }
          ]
         },
         "layout": {
          "annotationdefaults": {
           "arrowcolor": "#2a3f5f",
           "arrowhead": 0,
           "arrowwidth": 1
          },
          "autotypenumbers": "strict",
          "coloraxis": {
           "colorbar": {
            "outlinewidth": 0,
            "ticks": ""
           }
          },
          "colorscale": {
           "diverging": [
            [
             0,
             "#8e0152"
            ],
            [
             0.1,
             "#c51b7d"
            ],
            [
             0.2,
             "#de77ae"
            ],
            [
             0.3,
             "#f1b6da"
            ],
            [
             0.4,
             "#fde0ef"
            ],
            [
             0.5,
             "#f7f7f7"
            ],
            [
             0.6,
             "#e6f5d0"
            ],
            [
             0.7,
             "#b8e186"
            ],
            [
             0.8,
             "#7fbc41"
            ],
            [
             0.9,
             "#4d9221"
            ],
            [
             1,
             "#276419"
            ]
           ],
           "sequential": [
            [
             0,
             "#0d0887"
            ],
            [
             0.1111111111111111,
             "#46039f"
            ],
            [
             0.2222222222222222,
             "#7201a8"
            ],
            [
             0.3333333333333333,
             "#9c179e"
            ],
            [
             0.4444444444444444,
             "#bd3786"
            ],
            [
             0.5555555555555556,
             "#d8576b"
            ],
            [
             0.6666666666666666,
             "#ed7953"
            ],
            [
             0.7777777777777778,
             "#fb9f3a"
            ],
            [
             0.8888888888888888,
             "#fdca26"
            ],
            [
             1,
             "#f0f921"
            ]
           ],
           "sequentialminus": [
            [
             0,
             "#0d0887"
            ],
            [
             0.1111111111111111,
             "#46039f"
            ],
            [
             0.2222222222222222,
             "#7201a8"
            ],
            [
             0.3333333333333333,
             "#9c179e"
            ],
            [
             0.4444444444444444,
             "#bd3786"
            ],
            [
             0.5555555555555556,
             "#d8576b"
            ],
            [
             0.6666666666666666,
             "#ed7953"
            ],
            [
             0.7777777777777778,
             "#fb9f3a"
            ],
            [
             0.8888888888888888,
             "#fdca26"
            ],
            [
             1,
             "#f0f921"
            ]
           ]
          },
          "colorway": [
           "#636efa",
           "#EF553B",
           "#00cc96",
           "#ab63fa",
           "#FFA15A",
           "#19d3f3",
           "#FF6692",
           "#B6E880",
           "#FF97FF",
           "#FECB52"
          ],
          "font": {
           "color": "#2a3f5f"
          },
          "geo": {
           "bgcolor": "white",
           "lakecolor": "white",
           "landcolor": "#E5ECF6",
           "showlakes": true,
           "showland": true,
           "subunitcolor": "white"
          },
          "hoverlabel": {
           "align": "left"
          },
          "hovermode": "closest",
          "mapbox": {
           "style": "light"
          },
          "paper_bgcolor": "white",
          "plot_bgcolor": "#E5ECF6",
          "polar": {
           "angularaxis": {
            "gridcolor": "white",
            "linecolor": "white",
            "ticks": ""
           },
           "bgcolor": "#E5ECF6",
           "radialaxis": {
            "gridcolor": "white",
            "linecolor": "white",
            "ticks": ""
           }
          },
          "scene": {
           "xaxis": {
            "backgroundcolor": "#E5ECF6",
            "gridcolor": "white",
            "gridwidth": 2,
            "linecolor": "white",
            "showbackground": true,
            "ticks": "",
            "zerolinecolor": "white"
           },
           "yaxis": {
            "backgroundcolor": "#E5ECF6",
            "gridcolor": "white",
            "gridwidth": 2,
            "linecolor": "white",
            "showbackground": true,
            "ticks": "",
            "zerolinecolor": "white"
           },
           "zaxis": {
            "backgroundcolor": "#E5ECF6",
            "gridcolor": "white",
            "gridwidth": 2,
            "linecolor": "white",
            "showbackground": true,
            "ticks": "",
            "zerolinecolor": "white"
           }
          },
          "shapedefaults": {
           "line": {
            "color": "#2a3f5f"
           }
          },
          "ternary": {
           "aaxis": {
            "gridcolor": "white",
            "linecolor": "white",
            "ticks": ""
           },
           "baxis": {
            "gridcolor": "white",
            "linecolor": "white",
            "ticks": ""
           },
           "bgcolor": "#E5ECF6",
           "caxis": {
            "gridcolor": "white",
            "linecolor": "white",
            "ticks": ""
           }
          },
          "title": {
           "x": 0.05
          },
          "xaxis": {
           "automargin": true,
           "gridcolor": "white",
           "linecolor": "white",
           "ticks": "",
           "title": {
            "standoff": 15
           },
           "zerolinecolor": "white",
           "zerolinewidth": 2
          },
          "yaxis": {
           "automargin": true,
           "gridcolor": "white",
           "linecolor": "white",
           "ticks": "",
           "title": {
            "standoff": 15
           },
           "zerolinecolor": "white",
           "zerolinewidth": 2
          }
         }
        },
        "title": {
         "font": {
          "color": "black",
          "family": "Overpass",
          "size": 25
         },
         "text": "<b>Model Vs Model Optimized (OPT)<b>",
         "x": 0.45,
         "y": 0.9
        },
        "width": 1100,
        "xaxis": {
         "title": {
          "font": {
           "color": "black",
           "family": "Overpass",
           "size": 25
          },
          "standoff": 25,
          "text": "<b>VGS / V<b>"
         }
        },
        "yaxis": {
         "title": {
          "font": {
           "color": "black",
           "family": "Overpass",
           "size": 25
          },
          "standoff": 10,
          "text": "<b>|ID| / A<b>"
         },
         "type": "log"
        }
       }
      }
     },
     "metadata": {},
     "output_type": "display_data"
    },
    {
     "name": "stdout",
     "output_type": "stream",
     "text": [
      "\n"
     ]
    },
    {
     "data": {
      "application/vnd.plotly.v1+json": {
       "config": {
        "plotlyServerURL": "https://plot.ly"
       },
       "data": [
        {
         "line": {
          "color": "rgb(255, 0, 0)",
          "dash": "dash"
         },
         "mode": "lines+text",
         "name": "<b>Model OVSED<b> <b>-40V<b>",
         "text": [
          "-40V"
         ],
         "textfont": {
          "color": "rgb(255, 0, 0)",
          "family": "Times New Roman",
          "size": 13
         },
         "textposition": "bottom center",
         "type": "scatter",
         "x": [
          0,
          -1,
          -2,
          -3,
          -4,
          -5,
          -6,
          -7,
          -8,
          -9,
          -10,
          -11,
          -12,
          -13,
          -14,
          -15,
          -16,
          -17,
          -18,
          -19,
          -20,
          -21,
          -22,
          -23,
          -24,
          -25,
          -26,
          -27,
          -28,
          -29,
          -30,
          -31,
          -32,
          -33,
          -34,
          -35,
          -36,
          -37,
          -38,
          -39,
          -40,
          -41,
          -42,
          -43,
          -44,
          -45,
          -46,
          -47,
          -48,
          -49,
          -50,
          -51,
          -52,
          -53,
          -54,
          -55,
          -56,
          -57,
          -58,
          -59,
          -60,
          -61,
          -62,
          -63,
          -64,
          -65,
          -66,
          -67,
          -68,
          -69,
          -70,
          -71,
          -72,
          -73,
          -74,
          -75,
          -76,
          -77,
          -78,
          -79,
          -80
         ],
         "y": [
          0,
          -1.760652939243841,
          -3.426663786391274,
          -4.997211024098519,
          -6.472265878864768,
          -7.852544280922593,
          -9.139448707665904,
          -10.33500199086438,
          -11.441775242026702,
          -12.462812043223579,
          -13.401550969882436,
          -14.261748367563873,
          -15.04740310847429,
          -15.762684818550804,
          -16.41186680585711,
          -16.999264648920413,
          -17.529181131744426,
          -18.005857951314262,
          -18.4334343823811,
          -18.81591287001096,
          -19.15713133746465,
          -19.460741847992953,
          -19.730195144684718,
          -19.96873051152871,
          -20.17937034892461,
          -20.364918834600203,
          -20.527964042219317,
          -20.670882910552734,
          -20.79584849156381,
          -20.904838951971282,
          -20.99964785600937,
          -21.081895313912465,
          -21.15303963835452,
          -21.214389207480135,
          -21.267114286615048,
          -21.31225861007464,
          -21.350750568963033,
          -21.38341389009585,
          -21.410977725099645,
          -21.434086097475127,
          -21.453306679253195,
          -21.469138888223636,
          -21.4820213120405,
          -21.49233847729585,
          -21.500426990395567,
          -21.506581083240633,
          -21.511057600751016,
          -21.514080469567965,
          -21.51584468818441,
          -21.516519878591854,
          -21.516253438554827,
          -21.515173332054975,
          -21.513390553462287,
          -21.51100129874395,
          -21.508088874624484,
          -21.50472537415894,
          -21.50097314474215,
          -21.496886072203306,
          -21.492510702364147,
          -21.487887219294404,
          -21.483050297496202,
          -21.478029843397294,
          -21.472851639833646,
          -21.467537905653334,
          -21.462107781170644,
          -21.456577748934365,
          -21.450961998140258,
          -21.44527274000322,
          -21.439520480502907,
          -21.433714256114808,
          -21.42786183743074,
          -21.421969904947126,
          -21.416044200748367,
          -21.410089659329728,
          -21.40411052037893,
          -21.398110425965644,
          -21.392092504262557,
          -21.386059441639393,
          -21.38001354472446,
          -21.373956793813544,
          -21.36789088881961
         ]
        },
        {
         "line": {
          "color": "rgb(0, 0, 255)",
          "dash": "dash"
         },
         "mode": "lines+text",
         "name": "<b>Model OVSED<b> <b>-20V<b>",
         "text": [
          "-20V"
         ],
         "textfont": {
          "color": "rgb(0, 0, 255)",
          "family": "Times New Roman",
          "size": 13
         },
         "textposition": "bottom center",
         "type": "scatter",
         "x": [
          0,
          -1,
          -2,
          -3,
          -4,
          -5,
          -6,
          -7,
          -8,
          -9,
          -10,
          -11,
          -12,
          -13,
          -14,
          -15,
          -16,
          -17,
          -18,
          -19,
          -20,
          -21,
          -22,
          -23,
          -24,
          -25,
          -26,
          -27,
          -28,
          -29,
          -30,
          -31,
          -32,
          -33,
          -34,
          -35,
          -36,
          -37,
          -38,
          -39,
          -40,
          -41,
          -42,
          -43,
          -44,
          -45,
          -46,
          -47,
          -48,
          -49,
          -50,
          -51,
          -52,
          -53,
          -54,
          -55,
          -56,
          -57,
          -58,
          -59,
          -60,
          -61,
          -62,
          -63,
          -64,
          -65,
          -66,
          -67,
          -68,
          -69,
          -70,
          -71,
          -72,
          -73,
          -74,
          -75,
          -76,
          -77,
          -78,
          -79,
          -80
         ],
         "y": [
          0,
          -0.43408976707936536,
          -0.8327308864714191,
          -1.1950919146291223,
          -1.5211749051846044,
          -1.811733064562267,
          -2.0681610477256798,
          -2.29236825132913,
          -2.486645435643866,
          -2.6535339711962598,
          -2.795705246040525,
          -2.915855616735354,
          -3.0166200593348296,
          -3.100505636814419,
          -3.1698442234723334,
          -3.2267627030817203,
          -3.273168095624745,
          -3.310744718979223,
          -3.3409604741651067,
          -3.3650795600948857,
          -3.3841792843784972,
          -3.3991690629742006,
          -3.410810134653622,
          -3.419734916987373,
          -3.4264652764287926,
          -3.4314292668920183,
          -3.4349761090862563,
          -3.437389342620972,
          -3.4388981933047145,
          -3.439687268803642,
          -3.4399047362064876,
          -3.43966915326396,
          -3.4390751279317344,
          -3.438197973708357,
          -3.437097515164275,
          -3.43582118192594,
          -3.4344065122235654,
          -3.4328831702488243,
          -3.431274565797473,
          -3.429599150420826,
          -3.427871451754958,
          -3.42610289684973,
          -3.4243024660915777,
          -3.4224772115606066,
          -3.420632667214472,
          -3.41877317297466,
          -3.416902130438094,
          -3.415022204395223,
          -3.4131354814689563,
          -3.4112435948785214,
          -3.4093478224779172,
          -3.407449163734917,
          -3.405548400133149,
          -3.403646142537971,
          -3.401742868319333,
          -3.3998389504323314,
          -3.39793468018767,
          -3.3960302850740836,
          -3.394125942702829,
          -3.3922217917145545,
          -3.390317940307572,
          -3.388414472904557,
          -3.3865114553626574,
          -3.3846089390443392,
          -3.3827069639974483,
          -3.3808055614388683,
          -3.3789047556939886,
          -3.377004565710915,
          -3.375105006242514,
          -3.373206088769019,
          -3.371307822218005,
          -3.369410213526212,
          -3.3675132680778623,
          -3.365616990046616,
          -3.3637213826622805,
          -3.361826448418843,
          -3.359932189236693,
          -3.358038606589136,
          -3.356145701601014,
          -3.3542534751256174,
          -3.352361927804618
         ]
        },
        {
         "line": {
          "color": "rgb(30, 144, 255)",
          "dash": "dash"
         },
         "mode": "lines+text",
         "name": "<b>Model OVSED<b> <b>-30V<b>",
         "text": [
          "-30V"
         ],
         "textfont": {
          "color": "rgb(30, 144, 255)",
          "family": "Times New Roman",
          "size": 13
         },
         "textposition": "bottom center",
         "type": "scatter",
         "x": [
          0,
          -1,
          -2,
          -3,
          -4,
          -5,
          -6,
          -7,
          -8,
          -9,
          -10,
          -11,
          -12,
          -13,
          -14,
          -15,
          -16,
          -17,
          -18,
          -19,
          -20,
          -21,
          -22,
          -23,
          -24,
          -25,
          -26,
          -27,
          -28,
          -29,
          -30,
          -31,
          -32,
          -33,
          -34,
          -35,
          -36,
          -37,
          -38,
          -39,
          -40,
          -41,
          -42,
          -43,
          -44,
          -45,
          -46,
          -47,
          -48,
          -49,
          -50,
          -51,
          -52,
          -53,
          -54,
          -55,
          -56,
          -57,
          -58,
          -59,
          -60,
          -61,
          -62,
          -63,
          -64,
          -65,
          -66,
          -67,
          -68,
          -69,
          -70,
          -71,
          -72,
          -73,
          -74,
          -75,
          -76,
          -77,
          -78,
          -79,
          -80
         ],
         "y": [
          0,
          -1.2120493635544143,
          -2.3517972369496536,
          -3.418315503276335,
          -4.411479341507759,
          -5.3319143109827385,
          -6.180929836992348,
          -6.9604422417288,
          -7.67289059216671,
          -8.321148599634883,
          -8.90843562354545,
          -9.438229529618642,
          -9.914183761088838,
          -10.34005053180329,
          -10.719611574288455,
          -11.056617402569765,
          -11.354735603313937,
          -11.617508268876742,
          -11.84831834536644,
          -12.050364395322484,
          -12.226643070167231,
          -12.379938449809027,
          -12.512817329777288,
          -12.627629511793952,
          -12.726512172157674,
          -12.811397433773427,
          -12.884022342500081,
          -12.945940538012154,
          -12.998535006124019,
          -13.043031397460517,
          -13.080511491856235,
          -13.111926475646975,
          -13.138109777980878,
          -13.159789281309608,
          -13.177598779988733,
          -13.192088609668305,
          -13.203735409543585,
          -13.212951010466492,
          -13.22009046543119,
          -13.22545925612059,
          -13.229319721086277,
          -13.23189675871594,
          -13.233382862300667,
          -13.233942546024679,
          -13.23371622021957,
          -13.232823572303566,
          -13.231366506911735,
          -13.229431695171781,
          -13.227092779172434,
          -13.22441227361777,
          -13.221443202619326,
          -13.218230505660541,
          -13.214812243049861,
          -13.211220627709764,
          -13.207482906954015,
          -13.203622114995973,
          -13.199657714306175,
          -13.19560614158754,
          -13.191481272047154,
          -13.187294813797152,
          -13.183056642592815,
          -13.178775085694694,
          -13.17445716240096,
          -13.170108787719785,
          -13.165734944717485,
          -13.16133983027275,
          -13.156926978272404,
          -13.152499363687149,
          -13.148059490453727,
          -13.143609465650933,
          -13.139151062082442,
          -13.134685771058892,
          -13.130214846898975,
          -13.125739344437097,
          -13.121260150627466,
          -13.116778011166616,
          -13.112293552914172,
          -13.107807302770567,
          -13.103319703568175,
          -13.098831127445912,
          -13.094341887103512
         ]
        },
        {
         "line": {
          "color": "rgb(0, 255, 0)",
          "dash": "dash"
         },
         "mode": "lines+text",
         "name": "<b>Model OVSED<b> <b>-40V<b>",
         "text": [
          "-40V"
         ],
         "textfont": {
          "color": "rgb(0, 255, 0)",
          "family": "Times New Roman",
          "size": 13
         },
         "textposition": "bottom center",
         "type": "scatter",
         "x": [
          0,
          -1,
          -2,
          -3,
          -4,
          -5,
          -6,
          -7,
          -8,
          -9,
          -10,
          -11,
          -12,
          -13,
          -14,
          -15,
          -16,
          -17,
          -18,
          -19,
          -20,
          -21,
          -22,
          -23,
          -24,
          -25,
          -26,
          -27,
          -28,
          -29,
          -30,
          -31,
          -32,
          -33,
          -34,
          -35,
          -36,
          -37,
          -38,
          -39,
          -40,
          -41,
          -42,
          -43,
          -44,
          -45,
          -46,
          -47,
          -48,
          -49,
          -50,
          -51,
          -52,
          -53,
          -54,
          -55,
          -56,
          -57,
          -58,
          -59,
          -60,
          -61,
          -62,
          -63,
          -64,
          -65,
          -66,
          -67,
          -68,
          -69,
          -70,
          -71,
          -72,
          -73,
          -74,
          -75,
          -76,
          -77,
          -78,
          -79,
          -80
         ],
         "y": [
          0,
          -2.4194449447050315,
          -4.719364421455063,
          -6.899130041627202,
          -8.958896446679127,
          -10.899556024480205,
          -12.72268591239906,
          -14.430488763423737,
          -16.025728791075633,
          -17.5116646044806,
          -18.891980300294993,
          -20.17071619791376,
          -21.35220049396779,
          -22.440982977558598,
          -23.441771795274825,
          -24.359374091136843,
          -25.198641177376548,
          -25.964418723137353,
          -26.661502284941225,
          -27.294598349548675,
          -27.86829092022646,
          -28.387013554129314,
          -28.85502665327825,
          -29.27639972538191,
          -29.65499826359361,
          -29.994474845616747,
          -30.298264021169867,
          -30.569580541063647,
          -30.81142047907435,
          -31.026564807297245,
          -31.21758500454117,
          -31.386850303441836,
          -31.53653621330372,
          -31.668633990393424,
          -31.7849607638921,
          -31.887170062598848,
          -31.976762523652138,
          -32.055096599124475,
          -32.12339910870661,
          -32.18277551638961,
          -32.234219835811295,
          -32.27862409264384,
          -32.31678729306351,
          -32.34942386505862,
          -32.3771715542614,
          -32.400598768343926,
          -32.42021137403802,
          -32.436458958775894,
          -32.449740575058144,
          -32.46040999018761,
          -32.46878046719425,
          -32.475129104841116,
          -32.47970076573273,
          -32.4827116219342,
          -32.48435234729349,
          -32.48479098498641,
          -32.48417551778122,
          -32.48263616724652,
          -32.480287446683775,
          -32.477229991016614,
          -32.47355218526933,
          -32.46933161165578,
          -32.46463633371159,
          -32.45952603435906,
          -32.45405302331716,
          -32.44826312786517,
          -32.44219647965144,
          -32.43588820900936,
          -32.42936905710228,
          -32.422665915170356,
          -32.415802299188876,
          -32.40879876736961,
          -32.40167328713806,
          -32.39444155749555,
          -32.387117292022694,
          -32.37971246719166,
          -32.37223754012728,
          -32.36470163948333,
          -32.35711273267776,
          -32.349477772352834,
          -32.3418028245903
         ]
        },
        {
         "line": {
          "color": "black",
          "dash": "solid"
         },
         "mode": "lines+text",
         "name": "<b>Model OPT<b> <b>-40V<b>",
         "text": [
          "-40V"
         ],
         "textfont": {
          "color": "black",
          "family": "Times New Roman",
          "size": 13
         },
         "textposition": "bottom center",
         "type": "scatter",
         "x": [
          0,
          -1,
          -2,
          -3,
          -4,
          -5,
          -6,
          -7,
          -8,
          -9,
          -10,
          -11,
          -12,
          -13,
          -14,
          -15,
          -16,
          -17,
          -18,
          -19,
          -20,
          -21,
          -22,
          -23,
          -24,
          -25,
          -26,
          -27,
          -28,
          -29,
          -30,
          -31,
          -32,
          -33,
          -34,
          -35,
          -36,
          -37,
          -38,
          -39,
          -40,
          -41,
          -42,
          -43,
          -44,
          -45,
          -46,
          -47,
          -48,
          -49,
          -50,
          -51,
          -52,
          -53,
          -54,
          -55,
          -56,
          -57,
          -58,
          -59,
          -60,
          -61,
          -62,
          -63,
          -64,
          -65,
          -66,
          -67,
          -68,
          -69,
          -70,
          -71,
          -72,
          -73,
          -74,
          -75,
          -76,
          -77,
          -78,
          -79,
          -80
         ],
         "y": [
          0,
          -0.2732460749871917,
          -0.4561361707577426,
          -0.583995890138603,
          -0.6758569606168515,
          -0.7428904774876807,
          -0.792094957522293,
          -0.8280869098549805,
          -0.8540426351842783,
          -0.8722259518526939,
          -0.8842994089110363,
          -0.8915156774005285,
          -0.8948394330891625,
          -0.895027303441451,
          -0.892681678064757,
          -0.8882877919869431,
          -0.8822398742252752,
          -0.8748600266146738,
          -0.8664122012987352,
          -0.8571128294952592,
          -0.8471391269861716,
          -0.8366357545738791,
          -0.825720280921275,
          -0.8144877420038433,
          -0.803014491052965,
          -0.7913614686750917,
          -0.7795769831012686,
          -0.7676990668863038,
          -0.7557574628533476,
          -0.7437752844889602,
          -0.7317703915423998,
          -0.7197565185224172,
          -0.7077441911235606,
          -0.6957414628757473,
          -0.6837545013437794,
          -0.671788050036851,
          -0.6598457889335322,
          -0.6479306133168913,
          -0.6360448475642827,
          -0.6241904077336207,
          -0.6123689242859993,
          -0.6005818341062988,
          -0.588830449128198,
          -0.5771160073201442,
          -0.5654397105161237,
          -0.5538027525461202,
          -0.5422063403009073,
          -0.5306517097204656,
          -0.5191401381937225,
          -0.5076729544719012,
          -0.4962515469048503,
          -0.4848773705894332,
          -0.4735519538549813,
          -0.4622769043897606,
          -0.45105391522378174,
          -0.43988477071881765,
          -0.42877135266974387,
          -0.417715646587307,
          -0.4067197482074087,
          -0.3957858702530961,
          -0.3849163494605487,
          -0.3741136538678227,
          -0.3633803903537564,
          -0.35271931240335697,
          -0.3421333280644431,
          -0.33162550804779456,
          -0.321199093909118,
          -0.3108575062353787,
          -0.3006043527402608,
          -0.29044343615335866,
          -0.28037876176508725,
          -0.27041454446405044,
          -0.26055521507571144,
          -0.2508054257807489,
          -0.24117005435865368,
          -0.2316542069673035,
          -0.22226321913306812,
          -0.21300265458927037,
          -0.20387830156478604,
          -0.19489616609070598,
          -0.18606246186330785
         ]
        },
        {
         "line": {
          "color": "black",
          "dash": "solid"
         },
         "mode": "lines+text",
         "name": "<b>Model OPT<b> <b>-20V<b>",
         "text": [
          "-20V"
         ],
         "textfont": {
          "color": "black",
          "family": "Times New Roman",
          "size": 13
         },
         "textposition": "bottom center",
         "type": "scatter",
         "x": [
          0,
          -1,
          -2,
          -3,
          -4,
          -5,
          -6,
          -7,
          -8,
          -9,
          -10,
          -11,
          -12,
          -13,
          -14,
          -15,
          -16,
          -17,
          -18,
          -19,
          -20,
          -21,
          -22,
          -23,
          -24,
          -25,
          -26,
          -27,
          -28,
          -29,
          -30,
          -31,
          -32,
          -33,
          -34,
          -35,
          -36,
          -37,
          -38,
          -39,
          -40,
          -41,
          -42,
          -43,
          -44,
          -45,
          -46,
          -47,
          -48,
          -49,
          -50,
          -51,
          -52,
          -53,
          -54,
          -55,
          -56,
          -57,
          -58,
          -59,
          -60,
          -61,
          -62,
          -63,
          -64,
          -65,
          -66,
          -67,
          -68,
          -69,
          -70,
          -71,
          -72,
          -73,
          -74,
          -75,
          -76,
          -77,
          -78,
          -79,
          -80
         ],
         "y": [
          0,
          -0.1422601954186056,
          -0.23232439254148363,
          -0.2909024073813599,
          -0.32907780792579333,
          -0.3533537657876784,
          -0.36782837257478607,
          -0.3752365378917192,
          -0.377489253005325,
          -0.37596950878399665,
          -0.3717025545651111,
          -0.36545844870383504,
          -0.3578172805668748,
          -0.3492135728157188,
          -0.33996884258864873,
          -0.33031702653371875,
          -0.3204250733183903,
          -0.310409760791745,
          -0.30035125126633705,
          -0.29030373863940734,
          -0.28030354723205836,
          -0.2703750845278236,
          -0.26053506847643937,
          -0.25079543019901224,
          -0.24116524306974502,
          -0.2316519643309699,
          -0.2222622089429195,
          -0.21300221585949572,
          -0.20387811831767552,
          -0.19489609268911687,
          -0.1860624337532664,
          -0.17738358592122447,
          -0.16886614788618057,
          -0.1605168605730464,
          -0.15234258366284412,
          -0.14435026331556594,
          -0.1365468922740297,
          -0.12893946281820984,
          -0.12153491275299164,
          -0.11434006457275535,
          -0.10736155805158451,
          -0.10060577670204764,
          -0.09407876879724388,
          -0.08778616394067047,
          -0.08173308648097477,
          -0.07592406738811419,
          -0.0703629565159489,
          -0.06505283745335048,
          -0.05999594738891146,
          -0.055193604559891085,
          -0.05064614590181866,
          -0.04635287744218659,
          -0.042312039776659774,
          -0.03852079062399566,
          -0.03497520598108292,
          -0.03167030080777881,
          -0.028600069489057398,
          -0.025757545585519577,
          -0.023134879635849738,
          -0.02072343306319068,
          -0.018513885607890135,
          -0.016496353202841284,
          -0.014660512856889943,
          -0.01299573093662258,
          -0.01149119124359255,
          -0.010136019465014313,
          -0.008919400910815766,
          -0.007830688908267996,
          -0.006859501770181485,
          -0.005995806844034757,
          -0.005229990748469118,
          -0.004552915475494037,
          -0.00395596055305481,
          -0.0034310519026562736,
          -0.002970678378030119,
          -0.002567897228684328,
          -0.0022163298986171186,
          -0.0019101496528635086,
          -0.001644062533934902,
          -0.0014132830998302415,
          -0.00121350629912975
         ]
        },
        {
         "line": {
          "color": "black",
          "dash": "solid"
         },
         "mode": "lines+text",
         "name": "<b>Model OPT<b> <b>-30V<b>",
         "text": [
          "-30V"
         ],
         "textfont": {
          "color": "black",
          "family": "Times New Roman",
          "size": 13
         },
         "textposition": "bottom center",
         "type": "scatter",
         "x": [
          0,
          -1,
          -2,
          -3,
          -4,
          -5,
          -6,
          -7,
          -8,
          -9,
          -10,
          -11,
          -12,
          -13,
          -14,
          -15,
          -16,
          -17,
          -18,
          -19,
          -20,
          -21,
          -22,
          -23,
          -24,
          -25,
          -26,
          -27,
          -28,
          -29,
          -30,
          -31,
          -32,
          -33,
          -34,
          -35,
          -36,
          -37,
          -38,
          -39,
          -40,
          -41,
          -42,
          -43,
          -44,
          -45,
          -46,
          -47,
          -48,
          -49,
          -50,
          -51,
          -52,
          -53,
          -54,
          -55,
          -56,
          -57,
          -58,
          -59,
          -60,
          -61,
          -62,
          -63,
          -64,
          -65,
          -66,
          -67,
          -68,
          -69,
          -70,
          -71,
          -72,
          -73,
          -74,
          -75,
          -76,
          -77,
          -78,
          -79,
          -80
         ],
         "y": [
          0,
          -0.2294922758540045,
          -0.3813287345789376,
          -0.4859850894102077,
          -0.5598395817824706,
          -0.6124936221222175,
          -0.6499614787898491,
          -0.6762143272622223,
          -0.6939901928992045,
          -0.7052464764439271,
          -0.7114258833800621,
          -0.7136192551240493,
          -0.7126687436343333,
          -0.709235161504012,
          -0.7038431873498018,
          -0.6969125804277518,
          -0.6887804084945828,
          -0.6797174197539764,
          -0.6699405348944893,
          -0.6596227048142295,
          -0.6489009126066996,
          -0.6378828017283034,
          -0.6266522284820724,
          -0.6152739279335039,
          -0.6037974215872494,
          -0.592260263832836,
          -0.5806907093204131,
          -0.5691098765243705,
          -0.557533478657998,
          -0.5459731891192968,
          -0.5344377036913034,
          -0.5229335556532,
          -0.5114657331108318,
          -0.5000381407084906,
          -0.48865394089219877,
          -0.47731580340365265,
          -0.4660260859094692,
          -0.4547869637121237,
          -0.4436005223571222,
          -0.4324688235953035,
          -0.4213939524947175,
          -0.41037805142293027,
          -0.39942334503595295,
          -0.3885321592189054,
          -0.3777069360419284,
          -0.36695024615142996,
          -0.3562647995530894,
          -0.3456534554124618,
          -0.3351192312651624,
          -0.32466531186357567,
          -0.31429505776998784,
          -0.304012013721535,
          -0.29381991672923685,
          -0.28372270382369563,
          -0.27372451931823794,
          -0.2638297214225938,
          -0.25404288800421276,
          -0.24436882125850537,
          -0.23481255101299064,
          -0.22537933635332477,
          -0.21607466522191665,
          -0.20690425160307058,
          -0.19787402987365166,
          -0.18899014586688206,
          -0.1802589441712412,
          -0.17168695116930255,
          -0.16328085331586636,
          -0.15504747016457554,
          -0.14699372168135716,
          -0.13912658943570885,
          -0.13145307134129136,
          -0.12398012972943039,
          -0.1167146326861827,
          -0.10966328876769707,
          -0.10283257543000583,
          -0.0962286617661881,
          -0.0898573264311915,
          -0.08372387194423021,
          -0.07783303687867354,
          -0.07218890776393708,
          -0.06679483281394016
         ]
        },
        {
         "line": {
          "color": "black",
          "dash": "solid"
         },
         "mode": "lines+text",
         "name": "<b>Model OPT<b> <b>-40V<b>",
         "text": [
          "-40V"
         ],
         "textfont": {
          "color": "black",
          "family": "Times New Roman",
          "size": 13
         },
         "textposition": "bottom center",
         "type": "scatter",
         "x": [
          0,
          -1,
          -2,
          -3,
          -4,
          -5,
          -6,
          -7,
          -8,
          -9,
          -10,
          -11,
          -12,
          -13,
          -14,
          -15,
          -16,
          -17,
          -18,
          -19,
          -20,
          -21,
          -22,
          -23,
          -24,
          -25,
          -26,
          -27,
          -28,
          -29,
          -30,
          -31,
          -32,
          -33,
          -34,
          -35,
          -36,
          -37,
          -38,
          -39,
          -40,
          -41,
          -42,
          -43,
          -44,
          -45,
          -46,
          -47,
          -48,
          -49,
          -50,
          -51,
          -52,
          -53,
          -54,
          -55,
          -56,
          -57,
          -58,
          -59,
          -60,
          -61,
          -62,
          -63,
          -64,
          -65,
          -66,
          -67,
          -68,
          -69,
          -70,
          -71,
          -72,
          -73,
          -74,
          -75,
          -76,
          -77,
          -78,
          -79,
          -80
         ],
         "y": [
          0,
          -0.3170307321400708,
          -0.5310252002428044,
          -0.6821387511459696,
          -0.7920536416579489,
          -0.8735139507661387,
          -0.9345083077566164,
          -0.9803054916096794,
          -1.0145272844936843,
          -1.0397508007056824,
          -1.0578644444068643,
          -1.0702873649057858,
          -1.0781096308542266,
          -1.082184488668474,
          -1.0831906685775203,
          -1.0816754261069947,
          -1.0780848938573746,
          -1.0727859076990691,
          -1.0660820111252087,
          -1.058225429516406,
          -1.0494262204678357,
          -1.0398594209330814,
          -1.0296707531390374,
          -1.018981274931502,
          -1.0078912392356718,
          -0.9964833443215825,
          -0.9848255000679718,
          -0.9729731975186398,
          -0.9609715441110022,
          -0.9488570109599646,
          -0.9366589285387206,
          -0.9244007608752994,
          -0.9121011844769027,
          -0.8997749955861728,
          -0.8874338674130147,
          -0.875086977286664,
          -0.8627415220337121,
          -0.8504031382270748,
          -0.8380762422579755,
          -0.8257643034844689,
          -0.8134700620464927,
          -0.801195701349506,
          -0.7889429837400568,
          -0.7767133565502784,
          -0.7645080344872048,
          -0.7523280632906351,
          -0.740174368676439,
          -0.7280477938120908,
          -0.7159491279257902,
          -0.703879128116174,
          -0.6918385359920788,
          -0.6798280904172781,
          -0.6678485373505805,
          -0.655900637545425,
          -0.6439851726947842,
          -0.6321029504678088,
          -0.6202548087766597,
          -0.6084416195289132,
          -0.5966642920576894,
          -0.5849237763737491,
          -0.573221066347989,
          -0.561557202906054,
          -0.5499332772971591,
          -0.538350434484826,
          -0.5268098766968026,
          -0.5153128671638765,
          -0.5038607340718346,
          -0.49245487474679145,
          -0.4810967600910872,
          -0.4697879392845266,
          -0.45853004476360737,
          -0.4473247974893724,
          -0.4361740125123415,
          -0.4250796048405795,
          -0.41404359561405707,
          -0.4030681185850236,
          -0.3921554268999321,
          -0.38130790017338967,
          -0.3705280518385347,
          -0.3598185367509478,
          -0.3491821590145532
         ]
        },
        {
         "marker": {
          "color": "rgb(255, 0, 0)",
          "line": {
           "color": "MediumPurple",
           "width": 0.8
          },
          "opacity": 0.5,
          "size": 11
         },
         "mode": "markers+text",
         "name": "<b>Exp <b> <b>-40V<b> <b> (-5V)<b>",
         "text": [
          "<b>VGS<b>=-40V  (-5)"
         ],
         "textfont": {
          "color": "rgb(255, 0, 0)",
          "family": "Times New Roman",
          "size": 18
         },
         "textposition": "top right",
         "type": "scatter",
         "x": [
          0,
          -1,
          -2,
          -3,
          -4,
          -5,
          -6,
          -7,
          -8,
          -9,
          -10,
          -11,
          -12,
          -13,
          -14,
          -15,
          -16,
          -17,
          -18,
          -19,
          -20,
          -21,
          -22,
          -23,
          -24,
          -25,
          -26,
          -27,
          -28,
          -29,
          -30,
          -31,
          -32,
          -33,
          -34,
          -35,
          -36,
          -37,
          -38,
          -39,
          -40,
          -41,
          -42,
          -43,
          -44,
          -45,
          -46,
          -47,
          -48,
          -49,
          -50,
          -51,
          -52,
          -53,
          -54,
          -55,
          -56,
          -57,
          -58,
          -59,
          -60,
          -61,
          -62,
          -63,
          -64,
          -65,
          -66,
          -67,
          -68,
          -69,
          -70,
          -71,
          -72,
          -73,
          -74,
          -75,
          -76,
          -77,
          -78,
          -79,
          -80
         ],
         "y": [
          -7.05894e-8,
          -8.35304e-7,
          -0.00000154038,
          -0.00000208743,
          -0.00000250091,
          -0.00000280518,
          -0.00000302477,
          -0.00000317792,
          -0.00000328271,
          -0.00000335066,
          -0.00000339281,
          -0.00000341835,
          -0.00000343259,
          -0.00000344,
          -0.00000344311,
          -0.0000034439,
          -0.00000344308,
          -0.00000344158,
          -0.00000343999,
          -0.00000343752,
          -0.00000343497,
          -0.00000343258,
          -0.00000343004,
          -0.00000342791,
          -0.00000342556,
          -0.00000342326,
          -0.00000342093,
          -0.00000341861,
          -0.00000341624,
          -0.00000341411,
          -0.00000341194,
          -0.00000341003,
          -0.0000034081,
          -0.00000340637,
          -0.00000340443,
          -0.00000340243,
          -0.00000340054,
          -0.00000339888,
          -0.00000339672,
          -0.00000339491,
          -0.00000339324,
          -0.00000339139,
          -0.00000338976,
          -0.0000033882,
          -0.00000338645,
          -0.00000338471,
          -0.00000338302,
          -0.0000033815,
          -0.00000337985,
          -0.00000337858,
          -0.00000337725,
          -0.00000337573,
          -0.0000033742,
          -0.00000337284,
          -0.00000337157,
          -0.00000337024,
          -0.0000033689,
          -0.00000336754,
          -0.00000336615,
          -0.00000336491,
          -0.00000336362,
          -0.00000336212,
          -0.00000336101,
          -0.00000335977,
          -0.00000335861,
          -0.00000335762,
          -0.00000335634,
          -0.00000335503,
          -0.00000335407,
          -0.00000335316,
          -0.00000335209,
          -0.000003351,
          -0.0000033501,
          -0.00000334911,
          -0.00000334819,
          -0.00000334605,
          -0.00000334516,
          -0.00000334422,
          -0.00000334328,
          -0.00000334247,
          -0.00000334156
         ]
        },
        {
         "marker": {
          "color": "rgb(0, 0, 255)",
          "line": {
           "color": "MediumPurple",
           "width": 0.8
          },
          "opacity": 0.5,
          "size": 11
         },
         "mode": "markers+text",
         "name": "<b>Exp <b> <b>-25V<b> <b> (-5V)<b>",
         "text": [
          "<b>VGS<b>=-20V  (-5)"
         ],
         "textfont": {
          "color": "rgb(0, 0, 255)",
          "family": "Times New Roman",
          "size": 18
         },
         "textposition": "top right",
         "type": "scatter",
         "x": [
          0,
          -1,
          -2,
          -3,
          -4,
          -5,
          -6,
          -7,
          -8,
          -9,
          -10,
          -11,
          -12,
          -13,
          -14,
          -15,
          -16,
          -17,
          -18,
          -19,
          -20,
          -21,
          -22,
          -23,
          -24,
          -25,
          -26,
          -27,
          -28,
          -29,
          -30,
          -31,
          -32,
          -33,
          -34,
          -35,
          -36,
          -37,
          -38,
          -39,
          -40,
          -41,
          -42,
          -43,
          -44,
          -45,
          -46,
          -47,
          -48,
          -49,
          -50,
          -51,
          -52,
          -53,
          -54,
          -55,
          -56,
          -57,
          -58,
          -59,
          -60,
          -61,
          -62,
          -63,
          -64,
          -65,
          -66,
          -67,
          -68,
          -69,
          -70,
          -71,
          -72,
          -73,
          -74,
          -75,
          -76,
          -77,
          -78,
          -79,
          -80
         ],
         "y": [
          -0.00000275151,
          -0.00000325738,
          -0.00000897782,
          -0.0000143526,
          -0.0000195094,
          -0.0000243476,
          -0.0000289064,
          -0.0000331586,
          -0.0000371414,
          -0.0000408356,
          -0.000044265,
          -0.0000474462,
          -0.0000503582,
          -0.0000530412,
          -0.0000554738,
          -0.0000576914,
          -0.0000596818,
          -0.0000614732,
          -0.0000630622,
          -0.000064478,
          -0.0000657214,
          -0.0000668176,
          -0.0000677708,
          -0.0000686036,
          -0.0000693252,
          -0.0000699504,
          -0.000070486,
          -0.0000709474,
          -0.0000713354,
          -0.0000716632,
          -0.0000719372,
          -0.000072168,
          -0.000072359,
          -0.0000725186,
          -0.0000726484,
          -0.000072757,
          -0.0000728466,
          -0.0000729162,
          -0.0000729756,
          -0.0000730234,
          -0.0000730604,
          -0.0000730898,
          -0.0000731126,
          -0.0000731288,
          -0.0000731416,
          -0.0000731526,
          -0.0000731596,
          -0.0000731668,
          -0.0000731752,
          -0.000073181,
          -0.0000731882,
          -0.0000731918,
          -0.0000731936,
          -0.0000731932,
          -0.0000731916,
          -0.0000731874,
          -0.0000731838,
          -0.0000731828,
          -0.0000731846,
          -0.000073182,
          -0.0000731836,
          -0.0000731814,
          -0.0000731776,
          -0.0000731726,
          -0.0000731694,
          -0.0000731648,
          -0.0000731572,
          -0.0000731512,
          -0.000073147,
          -0.000073144,
          -0.0000731412,
          -0.000073139,
          -0.0000731392,
          -0.0000731354,
          -0.000073132,
          -0.0000731268,
          -0.0000731218,
          -0.0000731166,
          -0.0000731104,
          -0.0000731062,
          -0.0000731002
         ]
        },
        {
         "marker": {
          "color": "rgb(30, 144, 255)",
          "line": {
           "color": "MediumPurple",
           "width": 0.8
          },
          "opacity": 0.5,
          "size": 11
         },
         "mode": "markers+text",
         "name": "<b>Exp <b> <b>-35V<b> <b> (-5V)<b>",
         "text": [
          "<b>VGS<b>=-30V  (-5)"
         ],
         "textfont": {
          "color": "rgb(30, 144, 255)",
          "family": "Times New Roman",
          "size": 18
         },
         "textposition": "top right",
         "type": "scatter",
         "x": [
          0,
          -1,
          -2,
          -3,
          -4,
          -5,
          -6,
          -7,
          -8,
          -9,
          -10,
          -11,
          -12,
          -13,
          -14,
          -15,
          -16,
          -17,
          -18,
          -19,
          -20,
          -21,
          -22,
          -23,
          -24,
          -25,
          -26,
          -27,
          -28,
          -29,
          -30,
          -31,
          -32,
          -33,
          -34,
          -35,
          -36,
          -37,
          -38,
          -39,
          -40,
          -41,
          -42,
          -43,
          -44,
          -45,
          -46,
          -47,
          -48,
          -49,
          -50,
          -51,
          -52,
          -53,
          -54,
          -55,
          -56,
          -57,
          -58,
          -59,
          -60,
          -61,
          -62,
          -63,
          -64,
          -65,
          -66,
          -67,
          -68,
          -69,
          -70,
          -71,
          -72,
          -73,
          -74,
          -75,
          -76,
          -77,
          -78,
          -79,
          -80
         ],
         "y": [
          -0.00000822653,
          -2.87006e-7,
          -0.00000856488,
          -0.0000165764,
          -0.0000244796,
          -0.0000321996,
          -0.0000398116,
          -0.0000472868,
          -0.000054677,
          -0.0000619252,
          -0.0000690608,
          -0.0000761064,
          -0.000083008,
          -0.0000898148,
          -0.000096456,
          -0.0001029804,
          -0.0001093282,
          -0.000115316,
          -0.000121336,
          -0.000127202,
          -0.00013286,
          -0.00013836,
          -0.000143662,
          -0.000148784,
          -0.000153682,
          -0.000158412,
          -0.00016292,
          -0.000167244,
          -0.000171338,
          -0.000175232,
          -0.000178904,
          -0.000182402,
          -0.000185678,
          -0.000188764,
          -0.00019165,
          -0.000194346,
          -0.000196852,
          -0.000199198,
          -0.000201348,
          -0.000203362,
          -0.000205196,
          -0.000206908,
          -0.000208482,
          -0.000209918,
          -0.00021124,
          -0.00021245,
          -0.000213556,
          -0.000214572,
          -0.000215492,
          -0.000216338,
          -0.000217106,
          -0.00021781,
          -0.00021844,
          -0.000219028,
          -0.000219542,
          -0.000220008,
          -0.00022044,
          -0.000220834,
          -0.000221204,
          -0.000221536,
          -0.00022183,
          -0.000222108,
          -0.000222348,
          -0.00022257,
          -0.000222774,
          -0.000222964,
          -0.000223152,
          -0.000223312,
          -0.000223456,
          -0.000223596,
          -0.000223722,
          -0.000223834,
          -0.000223958,
          -0.000224046,
          -0.000224148,
          -0.000224238,
          -0.000224324,
          -0.00022441,
          -0.000224476,
          -0.000224538,
          -0.000224614
         ]
        },
        {
         "marker": {
          "color": "rgb(0, 255, 0)",
          "line": {
           "color": "MediumPurple",
           "width": 0.8
          },
          "opacity": 0.5,
          "size": 11
         },
         "mode": "markers+text",
         "name": "<b>Exp <b> <b>-45V<b>",
         "text": [
          "<b>VGS<b>=-40V"
         ],
         "textfont": {
          "color": "rgb(0, 255, 0)",
          "family": "Times New Roman",
          "size": 18
         },
         "textposition": "top right",
         "type": "scatter",
         "x": [
          0,
          -1,
          -2,
          -3,
          -4,
          -5,
          -6,
          -7,
          -8,
          -9,
          -10,
          -11,
          -12,
          -13,
          -14,
          -15,
          -16,
          -17,
          -18,
          -19,
          -20,
          -21,
          -22,
          -23,
          -24,
          -25,
          -26,
          -27,
          -28,
          -29,
          -30,
          -31,
          -32,
          -33,
          -34,
          -35,
          -36,
          -37,
          -38,
          -39,
          -40,
          -41,
          -42,
          -43,
          -44,
          -45,
          -46,
          -47,
          -48,
          -49,
          -50,
          -51,
          -52,
          -53,
          -54,
          -55,
          -56,
          -57,
          -58,
          -59,
          -60,
          -61,
          -62,
          -63,
          -64,
          -65,
          -66,
          -67,
          -68,
          -69,
          -70,
          -71,
          -72,
          -73,
          -74,
          -75,
          -76,
          -77,
          -78,
          -79,
          -80
         ],
         "y": [
          -0.0000143904,
          -0.00000494505,
          -0.00000436406,
          -0.0000135046,
          -0.0000228572,
          -0.000032215,
          -0.0000416482,
          -0.0000511322,
          -0.0000606824,
          -0.0000702246,
          -0.0000798264,
          -0.0000895274,
          -0.0000991624,
          -0.0001088294,
          -0.000118146,
          -0.000127748,
          -0.000137262,
          -0.000146748,
          -0.000156128,
          -0.000165466,
          -0.000174662,
          -0.000183808,
          -0.000192814,
          -0.000201746,
          -0.000210508,
          -0.000219176,
          -0.000227672,
          -0.000236044,
          -0.000244242,
          -0.000252304,
          -0.000260164,
          -0.000267894,
          -0.00027541,
          -0.00028278,
          -0.000289928,
          -0.000296906,
          -0.000303666,
          -0.000310246,
          -0.000316626,
          -0.000322824,
          -0.000328788,
          -0.000334572,
          -0.000340126,
          -0.000345496,
          -0.00035063,
          -0.000355588,
          -0.000360318,
          -0.000364874,
          -0.000369194,
          -0.000373352,
          -0.000377306,
          -0.000381056,
          -0.000384644,
          -0.00038802,
          -0.000391242,
          -0.000394274,
          -0.00039714,
          -0.00039984,
          -0.00040241,
          -0.000404824,
          -0.000407108,
          -0.00040927,
          -0.000411292,
          -0.000413192,
          -0.00041499,
          -0.000416684,
          -0.000418268,
          -0.00041978,
          -0.000421182,
          -0.000422502,
          -0.000423744,
          -0.0004249,
          -0.000425992,
          -0.000427034,
          -0.00042802,
          -0.000428954,
          -0.000429814,
          -0.000430646,
          -0.00043141,
          -0.000432128,
          -0.000432806
         ]
        }
       ],
       "layout": {
        "height": 600,
        "legend": {
         "font": {
          "size": 16
         }
        },
        "template": {
         "data": {
          "bar": [
           {
            "error_x": {
             "color": "#2a3f5f"
            },
            "error_y": {
             "color": "#2a3f5f"
            },
            "marker": {
             "line": {
              "color": "#E5ECF6",
              "width": 0.5
             },
             "pattern": {
              "fillmode": "overlay",
              "size": 10,
              "solidity": 0.2
             }
            },
            "type": "bar"
           }
          ],
          "barpolar": [
           {
            "marker": {
             "line": {
              "color": "#E5ECF6",
              "width": 0.5
             },
             "pattern": {
              "fillmode": "overlay",
              "size": 10,
              "solidity": 0.2
             }
            },
            "type": "barpolar"
           }
          ],
          "carpet": [
           {
            "aaxis": {
             "endlinecolor": "#2a3f5f",
             "gridcolor": "white",
             "linecolor": "white",
             "minorgridcolor": "white",
             "startlinecolor": "#2a3f5f"
            },
            "baxis": {
             "endlinecolor": "#2a3f5f",
             "gridcolor": "white",
             "linecolor": "white",
             "minorgridcolor": "white",
             "startlinecolor": "#2a3f5f"
            },
            "type": "carpet"
           }
          ],
          "choropleth": [
           {
            "colorbar": {
             "outlinewidth": 0,
             "ticks": ""
            },
            "type": "choropleth"
           }
          ],
          "contour": [
           {
            "colorbar": {
             "outlinewidth": 0,
             "ticks": ""
            },
            "colorscale": [
             [
              0,
              "#0d0887"
             ],
             [
              0.1111111111111111,
              "#46039f"
             ],
             [
              0.2222222222222222,
              "#7201a8"
             ],
             [
              0.3333333333333333,
              "#9c179e"
             ],
             [
              0.4444444444444444,
              "#bd3786"
             ],
             [
              0.5555555555555556,
              "#d8576b"
             ],
             [
              0.6666666666666666,
              "#ed7953"
             ],
             [
              0.7777777777777778,
              "#fb9f3a"
             ],
             [
              0.8888888888888888,
              "#fdca26"
             ],
             [
              1,
              "#f0f921"
             ]
            ],
            "type": "contour"
           }
          ],
          "contourcarpet": [
           {
            "colorbar": {
             "outlinewidth": 0,
             "ticks": ""
            },
            "type": "contourcarpet"
           }
          ],
          "heatmap": [
           {
            "colorbar": {
             "outlinewidth": 0,
             "ticks": ""
            },
            "colorscale": [
             [
              0,
              "#0d0887"
             ],
             [
              0.1111111111111111,
              "#46039f"
             ],
             [
              0.2222222222222222,
              "#7201a8"
             ],
             [
              0.3333333333333333,
              "#9c179e"
             ],
             [
              0.4444444444444444,
              "#bd3786"
             ],
             [
              0.5555555555555556,
              "#d8576b"
             ],
             [
              0.6666666666666666,
              "#ed7953"
             ],
             [
              0.7777777777777778,
              "#fb9f3a"
             ],
             [
              0.8888888888888888,
              "#fdca26"
             ],
             [
              1,
              "#f0f921"
             ]
            ],
            "type": "heatmap"
           }
          ],
          "heatmapgl": [
           {
            "colorbar": {
             "outlinewidth": 0,
             "ticks": ""
            },
            "colorscale": [
             [
              0,
              "#0d0887"
             ],
             [
              0.1111111111111111,
              "#46039f"
             ],
             [
              0.2222222222222222,
              "#7201a8"
             ],
             [
              0.3333333333333333,
              "#9c179e"
             ],
             [
              0.4444444444444444,
              "#bd3786"
             ],
             [
              0.5555555555555556,
              "#d8576b"
             ],
             [
              0.6666666666666666,
              "#ed7953"
             ],
             [
              0.7777777777777778,
              "#fb9f3a"
             ],
             [
              0.8888888888888888,
              "#fdca26"
             ],
             [
              1,
              "#f0f921"
             ]
            ],
            "type": "heatmapgl"
           }
          ],
          "histogram": [
           {
            "marker": {
             "pattern": {
              "fillmode": "overlay",
              "size": 10,
              "solidity": 0.2
             }
            },
            "type": "histogram"
           }
          ],
          "histogram2d": [
           {
            "colorbar": {
             "outlinewidth": 0,
             "ticks": ""
            },
            "colorscale": [
             [
              0,
              "#0d0887"
             ],
             [
              0.1111111111111111,
              "#46039f"
             ],
             [
              0.2222222222222222,
              "#7201a8"
             ],
             [
              0.3333333333333333,
              "#9c179e"
             ],
             [
              0.4444444444444444,
              "#bd3786"
             ],
             [
              0.5555555555555556,
              "#d8576b"
             ],
             [
              0.6666666666666666,
              "#ed7953"
             ],
             [
              0.7777777777777778,
              "#fb9f3a"
             ],
             [
              0.8888888888888888,
              "#fdca26"
             ],
             [
              1,
              "#f0f921"
             ]
            ],
            "type": "histogram2d"
           }
          ],
          "histogram2dcontour": [
           {
            "colorbar": {
             "outlinewidth": 0,
             "ticks": ""
            },
            "colorscale": [
             [
              0,
              "#0d0887"
             ],
             [
              0.1111111111111111,
              "#46039f"
             ],
             [
              0.2222222222222222,
              "#7201a8"
             ],
             [
              0.3333333333333333,
              "#9c179e"
             ],
             [
              0.4444444444444444,
              "#bd3786"
             ],
             [
              0.5555555555555556,
              "#d8576b"
             ],
             [
              0.6666666666666666,
              "#ed7953"
             ],
             [
              0.7777777777777778,
              "#fb9f3a"
             ],
             [
              0.8888888888888888,
              "#fdca26"
             ],
             [
              1,
              "#f0f921"
             ]
            ],
            "type": "histogram2dcontour"
           }
          ],
          "mesh3d": [
           {
            "colorbar": {
             "outlinewidth": 0,
             "ticks": ""
            },
            "type": "mesh3d"
           }
          ],
          "parcoords": [
           {
            "line": {
             "colorbar": {
              "outlinewidth": 0,
              "ticks": ""
             }
            },
            "type": "parcoords"
           }
          ],
          "pie": [
           {
            "automargin": true,
            "type": "pie"
           }
          ],
          "scatter": [
           {
            "fillpattern": {
             "fillmode": "overlay",
             "size": 10,
             "solidity": 0.2
            },
            "type": "scatter"
           }
          ],
          "scatter3d": [
           {
            "line": {
             "colorbar": {
              "outlinewidth": 0,
              "ticks": ""
             }
            },
            "marker": {
             "colorbar": {
              "outlinewidth": 0,
              "ticks": ""
             }
            },
            "type": "scatter3d"
           }
          ],
          "scattercarpet": [
           {
            "marker": {
             "colorbar": {
              "outlinewidth": 0,
              "ticks": ""
             }
            },
            "type": "scattercarpet"
           }
          ],
          "scattergeo": [
           {
            "marker": {
             "colorbar": {
              "outlinewidth": 0,
              "ticks": ""
             }
            },
            "type": "scattergeo"
           }
          ],
          "scattergl": [
           {
            "marker": {
             "colorbar": {
              "outlinewidth": 0,
              "ticks": ""
             }
            },
            "type": "scattergl"
           }
          ],
          "scattermapbox": [
           {
            "marker": {
             "colorbar": {
              "outlinewidth": 0,
              "ticks": ""
             }
            },
            "type": "scattermapbox"
           }
          ],
          "scatterpolar": [
           {
            "marker": {
             "colorbar": {
              "outlinewidth": 0,
              "ticks": ""
             }
            },
            "type": "scatterpolar"
           }
          ],
          "scatterpolargl": [
           {
            "marker": {
             "colorbar": {
              "outlinewidth": 0,
              "ticks": ""
             }
            },
            "type": "scatterpolargl"
           }
          ],
          "scatterternary": [
           {
            "marker": {
             "colorbar": {
              "outlinewidth": 0,
              "ticks": ""
             }
            },
            "type": "scatterternary"
           }
          ],
          "surface": [
           {
            "colorbar": {
             "outlinewidth": 0,
             "ticks": ""
            },
            "colorscale": [
             [
              0,
              "#0d0887"
             ],
             [
              0.1111111111111111,
              "#46039f"
             ],
             [
              0.2222222222222222,
              "#7201a8"
             ],
             [
              0.3333333333333333,
              "#9c179e"
             ],
             [
              0.4444444444444444,
              "#bd3786"
             ],
             [
              0.5555555555555556,
              "#d8576b"
             ],
             [
              0.6666666666666666,
              "#ed7953"
             ],
             [
              0.7777777777777778,
              "#fb9f3a"
             ],
             [
              0.8888888888888888,
              "#fdca26"
             ],
             [
              1,
              "#f0f921"
             ]
            ],
            "type": "surface"
           }
          ],
          "table": [
           {
            "cells": {
             "fill": {
              "color": "#EBF0F8"
             },
             "line": {
              "color": "white"
             }
            },
            "header": {
             "fill": {
              "color": "#C8D4E3"
             },
             "line": {
              "color": "white"
             }
            },
            "type": "table"
           }
          ]
         },
         "layout": {
          "annotationdefaults": {
           "arrowcolor": "#2a3f5f",
           "arrowhead": 0,
           "arrowwidth": 1
          },
          "autotypenumbers": "strict",
          "coloraxis": {
           "colorbar": {
            "outlinewidth": 0,
            "ticks": ""
           }
          },
          "colorscale": {
           "diverging": [
            [
             0,
             "#8e0152"
            ],
            [
             0.1,
             "#c51b7d"
            ],
            [
             0.2,
             "#de77ae"
            ],
            [
             0.3,
             "#f1b6da"
            ],
            [
             0.4,
             "#fde0ef"
            ],
            [
             0.5,
             "#f7f7f7"
            ],
            [
             0.6,
             "#e6f5d0"
            ],
            [
             0.7,
             "#b8e186"
            ],
            [
             0.8,
             "#7fbc41"
            ],
            [
             0.9,
             "#4d9221"
            ],
            [
             1,
             "#276419"
            ]
           ],
           "sequential": [
            [
             0,
             "#0d0887"
            ],
            [
             0.1111111111111111,
             "#46039f"
            ],
            [
             0.2222222222222222,
             "#7201a8"
            ],
            [
             0.3333333333333333,
             "#9c179e"
            ],
            [
             0.4444444444444444,
             "#bd3786"
            ],
            [
             0.5555555555555556,
             "#d8576b"
            ],
            [
             0.6666666666666666,
             "#ed7953"
            ],
            [
             0.7777777777777778,
             "#fb9f3a"
            ],
            [
             0.8888888888888888,
             "#fdca26"
            ],
            [
             1,
             "#f0f921"
            ]
           ],
           "sequentialminus": [
            [
             0,
             "#0d0887"
            ],
            [
             0.1111111111111111,
             "#46039f"
            ],
            [
             0.2222222222222222,
             "#7201a8"
            ],
            [
             0.3333333333333333,
             "#9c179e"
            ],
            [
             0.4444444444444444,
             "#bd3786"
            ],
            [
             0.5555555555555556,
             "#d8576b"
            ],
            [
             0.6666666666666666,
             "#ed7953"
            ],
            [
             0.7777777777777778,
             "#fb9f3a"
            ],
            [
             0.8888888888888888,
             "#fdca26"
            ],
            [
             1,
             "#f0f921"
            ]
           ]
          },
          "colorway": [
           "#636efa",
           "#EF553B",
           "#00cc96",
           "#ab63fa",
           "#FFA15A",
           "#19d3f3",
           "#FF6692",
           "#B6E880",
           "#FF97FF",
           "#FECB52"
          ],
          "font": {
           "color": "#2a3f5f"
          },
          "geo": {
           "bgcolor": "white",
           "lakecolor": "white",
           "landcolor": "#E5ECF6",
           "showlakes": true,
           "showland": true,
           "subunitcolor": "white"
          },
          "hoverlabel": {
           "align": "left"
          },
          "hovermode": "closest",
          "mapbox": {
           "style": "light"
          },
          "paper_bgcolor": "white",
          "plot_bgcolor": "#E5ECF6",
          "polar": {
           "angularaxis": {
            "gridcolor": "white",
            "linecolor": "white",
            "ticks": ""
           },
           "bgcolor": "#E5ECF6",
           "radialaxis": {
            "gridcolor": "white",
            "linecolor": "white",
            "ticks": ""
           }
          },
          "scene": {
           "xaxis": {
            "backgroundcolor": "#E5ECF6",
            "gridcolor": "white",
            "gridwidth": 2,
            "linecolor": "white",
            "showbackground": true,
            "ticks": "",
            "zerolinecolor": "white"
           },
           "yaxis": {
            "backgroundcolor": "#E5ECF6",
            "gridcolor": "white",
            "gridwidth": 2,
            "linecolor": "white",
            "showbackground": true,
            "ticks": "",
            "zerolinecolor": "white"
           },
           "zaxis": {
            "backgroundcolor": "#E5ECF6",
            "gridcolor": "white",
            "gridwidth": 2,
            "linecolor": "white",
            "showbackground": true,
            "ticks": "",
            "zerolinecolor": "white"
           }
          },
          "shapedefaults": {
           "line": {
            "color": "#2a3f5f"
           }
          },
          "ternary": {
           "aaxis": {
            "gridcolor": "white",
            "linecolor": "white",
            "ticks": ""
           },
           "baxis": {
            "gridcolor": "white",
            "linecolor": "white",
            "ticks": ""
           },
           "bgcolor": "#E5ECF6",
           "caxis": {
            "gridcolor": "white",
            "linecolor": "white",
            "ticks": ""
           }
          },
          "title": {
           "x": 0.05
          },
          "xaxis": {
           "automargin": true,
           "gridcolor": "white",
           "linecolor": "white",
           "ticks": "",
           "title": {
            "standoff": 15
           },
           "zerolinecolor": "white",
           "zerolinewidth": 2
          },
          "yaxis": {
           "automargin": true,
           "gridcolor": "white",
           "linecolor": "white",
           "ticks": "",
           "title": {
            "standoff": 15
           },
           "zerolinecolor": "white",
           "zerolinewidth": 2
          }
         }
        },
        "title": {
         "font": {
          "color": "black",
          "family": "Overpass",
          "size": 25
         },
         "text": "<b>Model Vs Model Optimized (OPT)<b>",
         "x": 0.45,
         "y": 0.9
        },
        "width": 1100,
        "xaxis": {
         "title": {
          "font": {
           "color": "black",
           "family": "Overpass",
           "size": 25
          },
          "standoff": 25,
          "text": "<b>VDS / V<b>"
         }
        },
        "yaxis": {
         "title": {
          "font": {
           "color": "black",
           "family": "Overpass",
           "size": 25
          },
          "standoff": 10,
          "text": "<b>ID / uA<b>"
         },
         "type": "linear"
        }
       }
      }
     },
     "metadata": {},
     "output_type": "display_data"
    },
    {
     "name": "stdout",
     "output_type": "stream",
     "text": [
      "\n",
      "\n",
      "\n",
      "\n",
      "\n",
      "\n",
      "**************************************************************************************************************************************************\n",
      "\n",
      "|RELATIVE ERROR BETWEEN CURVES: 164066348.7619\n",
      "\n",
      "**************************************************************************************************************************************************\n",
      "\n",
      "\n",
      "\n",
      "\n",
      "\n",
      "\n"
     ]
    }
   ],
   "source": [
    "# @title #### **Print grafics plots of model Optimizad and model data.** { run: \"auto\" }\n",
    "# @markdown ### ***Choice the plot that you want to view:***\n",
    "# @markdown ---\n",
    "option = 'show both curves comp' # @param [\"Show Transfer curve opt\", \"Show output curve opt\", \"show both curves opt\", \"Show Transfer curve comp\", \"Show output curve comp\", \"show both curves comp\"]\n",
    "\n",
    "model_opt = create_optimized_model(read, TFTModel, n_points, type_curve_plot, coeff_opt, input_voltage, Vv, load_idleak, width_t, count_transfer, tp_tst, settings['experimental_data_scale_transfer'], settings['current_typic'], resistance, current)\n",
    "\n",
    "in_model_data_opt, in_exp_data_opt, out_model_data_opt, out_exp_data_opt, in_model_data_comp, in_exp_data_comp, out_model_data_comp, out_exp_data_comp = get_model_data(read, count_transfer, count_output, Vv, Id, model_opt, model, compare=True)\n",
    "\n",
    "plot_curves(option, plot, list_tension, list_tension_shift, count_transfer, in_model_data_comp, out_model_data_comp, in_exp_data_comp, out_exp_data_comp, shift_list, settings['select_files'], settings['current_typic'], type_curve_plot, compare=True)\n",
    "\n",
    "read.compute_relative_distance(Id, model_opt)\n",
    "print('\\n\\n\\n\\n\\n')\n"
   ]
  }
 ],
 "metadata": {
  "colab": {
   "collapsed_sections": [
    "teoZkrLIvxaV",
    "HfZC11MavqP5",
    "Kw3wbLglv07J",
    "IHBDOV5ZwCml",
    "c0Jt9A63whok",
    "kSdWoeRx5pob",
    "yMkpHlhivMmv",
    "Lz9YHSiMvVFb",
    "WYpRFYGbu6oH",
    "cXKg5hS-drnb"
   ],
   "provenance": []
  },
  "kernelspec": {
   "display_name": "otft-env",
   "language": "python",
   "name": "python3"
  },
  "language_info": {
   "codemirror_mode": {
    "name": "ipython",
    "version": 3
   },
   "file_extension": ".py",
   "mimetype": "text/x-python",
   "name": "python",
   "nbconvert_exporter": "python",
   "pygments_lexer": "ipython3",
   "version": "3.10.12"
  }
 },
 "nbformat": 4,
 "nbformat_minor": 0
}
