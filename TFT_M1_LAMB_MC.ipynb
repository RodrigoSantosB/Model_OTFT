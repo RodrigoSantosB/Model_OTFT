{
 "cells": [
  {
   "cell_type": "markdown",
   "metadata": {
    "id": "HS2zqnqTp83j"
   },
   "source": [
    "# **Summary** 📘\n",
    "\n",
    "1.   **Abstract**\n",
    "2.   **Introduction**\n",
    "3.   **Objectives**\n",
    "4.   **Methodology**\n",
    "4.   **Model**\n",
    "4.   **Using the Model**\n",
    "5.   **Optimizing the Model**\n",
    "5.   **Visualizing Optimized Parameters**\n",
    "5.   **Results**\n",
    "6.   **References**"
   ]
  },
  {
   "cell_type": "markdown",
   "metadata": {
    "id": "_a5XygxxnYzp"
   },
   "source": [
    "## **Benchmarking Tool for Thin-Film Transistors** ⚡\n",
    "\n",
    "## **Student**:\n",
    "\n",
    "Rodrigo Santos Batista – rsb6@cin.ufpe.br\n",
    "\n",
    "CIn ­ UFPE\n",
    "\n",
    "## **Research project**:\n",
    "\n",
    "Benchmarking emerging technologies for near and far computing\n",
    "\n",
    "inside sensors (BEeTle)\n",
    "\n",
    "## **Coordinator**:\n",
    "\n",
    "Stefan Michael Blawid – sblawid@cin.ufpe.br\n",
    "\n",
    "CIn ­ UFPE"
   ]
  },
  {
   "cell_type": "markdown",
   "metadata": {
    "id": "BHo5BnF7L2jD"
   },
   "source": []
  },
  {
   "cell_type": "markdown",
   "metadata": {
    "id": "teoZkrLIvxaV"
   },
   "source": [
    "### **Abstract** 📩"
   ]
  },
  {
   "cell_type": "markdown",
   "metadata": {
    "id": "T1gfcLkSyPWh"
   },
   "source": [
    "> Thin-film transistors (TFTs) are electronic switches where a current flows from the source terminal to the drain terminal, controlled by the voltage applied to the third terminal, the gate. Benchmark models need to reasonably reproduce the current-voltage (IV) characteristics of TFTs with a minimal number of parameters. Here, \"reasonably\" means that the model parameters can be reliably and unambiguously extracted from experimental IV curves."
   ]
  },
  {
   "cell_type": "markdown",
   "metadata": {
    "id": "HfZC11MavqP5"
   },
   "source": [
    "### **Introduction** 📢\n"
   ]
  },
  {
   "cell_type": "markdown",
   "metadata": {
    "id": "jfejU_Wbvbcg"
   },
   "source": [
    "> The ubiquitous computing paradigm envisions computing appearing everywhere at any time. Flexible electronics are considered an essential enabling technology `[1]`. Flexible electronics offer various form factors, including soft, flexible, stretchable, and lightweight forms, thus allowing ambient intelligence to become widely available. Promising applications in health, industrial, environmental, agricultural, and structural monitoring have already been demonstrated `[2]`. It is generally accepted that the low cost required for edge devices `[3]` of future Internet of Things (IoT) infrastructures can only be achieved through printing manufacturing. The basic printed blocks of flexible electronics include sensors, energy harvesters, displays, and antennas. Many of these components require thin-film transistors (TFTs) as active switches. TFTs are usually compared across different devices and technologies based on threshold voltage, charge carrier mobility, and series resistance. However, conventional parameter extraction established for silicon transistors often leads to misleading results when applied to TFTs `[4]`. Some of the peculiarities of TFTs can be addressed by the virtual source (VS) emission-diffusion (ED) theory `[5]`. In combination with nonlinear least squares solvers, VSED-based benchmark models can replace conventional extraction methods and are applicable to a wide range of TFT technologies `[6]`."
   ]
  },
  {
   "cell_type": "markdown",
   "metadata": {
    "id": "Kw3wbLglv07J"
   },
   "source": [
    "### **Objective** 🔎\n"
   ]
  },
  {
   "cell_type": "markdown",
   "metadata": {
    "id": "aqwdc5NS_7bH"
   },
   "source": [
    "> The optimization of parameters for TFT devices is an important process in the manufacturing of thin-film electronics. The main reason for performing this process is to improve the performance of the devices, making them more efficient, reliable, and cost-effective. Essentially, we want to optimize certain parameters embedded in a model that will provide the best results for the production of these devices. A simplified form of how the model operates can be described as follows: `ID = F(VGS, VDS)` where:\n",
    "> * ID → Electric current that flows between the source and drain terminals of a thin-film transistor (TFT)\n",
    "> * VGS → Voltage applied to the gate terminal of the transistor, which controls the current flowing between the source and drain terminals\n",
    "> * VDS → Voltage applied to the drain terminal of the transistor, which determines the current flowing between the source and drain terminals when the gate voltage is kept constant.\n",
    "\n",
    "> VGS and VDS are important for the operation of the TFT transistor and for the optimization of its parameters, which can be obtained from the device's transfer and output curves. From these operations, it is possible to obtain information about its parameters, such as Vtho, l, n, JD, leak, δ, RS, λ, and Vcrit. Since these parameters are limited in the model, it allows for the simultaneous adjustment of all values. Therefore, parameter optimization is performed using a nonlinear least squares solver, which allows for efficient and unambiguous parameter adjustment. In this way, it is possible to gain a better understanding of the TFT device's behavior and optimize its operation for specific applications. Additionally, parameter optimization is also important to ensure the quality and reliability of the device, as well as its integration into complex electronic circuits."
   ]
  },
  {
   "cell_type": "markdown",
   "metadata": {
    "id": "IHBDOV5ZwCml"
   },
   "source": [
    "### **Methodology** 📚\n"
   ]
  },
  {
   "cell_type": "markdown",
   "metadata": {
    "id": "ioyQZpzaItji"
   },
   "source": [
    "> To perform this optimization, we will use the SciPy library, an open-source Python module that provides advanced mathematical functions and algorithms for scientific data processing and numerical analysis. More specifically, we will apply the `curve_fit` function, which is a type of optimization that finds an ideal set of parameters for a defined function that best fits a given set of observations.\n",
    "\n",
    "> Unlike supervised learning, curve fitting requires the author to define the function that maps input examples to outputs. The mapping function, also called the base function, can take any form, including a straight line (linear regression), a curved line (polynomial regression), and many others. This provides flexibility and control to define the shape of the curve, where an optimization process is used to find the optimal specific parameters of the function. For our purposes, this will be to optimize the parameters of the function $ID = F(VGS, VDS)$, which will give us the current at each pair of points from the experiment conducted.\n",
    "\n",
    "> Here is a trivial example of how `curve_fit` works:\n",
    "\n",
    "  > * First, the curve is constructed.\n",
    "  > * Then, we apply the Python curve-fitting API.\n",
    "\n",
    "> In this way, we will think of curve fitting in two dimensions, like a 2D graph. So, let's consider that data collection was performed from the problem domain with inputs and outputs.\n",
    "\n",
    "> The `x-axis is the independent variable` or the input to the function. The `y-axis is the dependent variable` or the output of the function. We do not know the shape of the function that maps input examples to outputs, but we suspect we can approximate the function with a standard function shape. Curve fitting involves first defining the `functional form of the mapping function` (base function or objective function) and searching for the parameters in the function that result in the minimum error.\n",
    "\n",
    "> The error is calculated using observations from the domain and passing the inputs to our candidate mapping function, calculating the output, and comparing the calculated output with the observed output.\n",
    "\n",
    "> Once in shape, we can use the mapping function to interpolate or extrapolate new points in the domain. It is common to run a sequence of input values through the mapping function to calculate a sequence of outputs, then create a line graph of the result to show how the output varies with the input and how well the line fits the observed points.\n",
    "\n",
    "> The key to curve fitting is the shape of the mapping function. A straight line between inputs and outputs can be defined as follows: `y = a * x + b`\n",
    "Where `y is the calculated output`, `x is the input`, and `a` and `b` are parameters of the mapping function found using an optimization algorithm. This is called a linear equation because it is a weighted sum of the inputs. In a linear regression model, these parameters are referred to as coefficients; in a neural network, they are called weights.\n",
    "\n",
    "> This equation can be generalized to any number of inputs (which is the purpose for us), meaning that the notion of curve fitting is not limited to two dimensions (one input and one output) but could have many input variables.\n",
    "\n",
    "> An important observation is that adding arbitrary mathematical functions to our mapping function usually means we cannot calculate the parameters analytically and instead need to use an iterative optimization algorithm. This is called `nonlinear least squares`,\n",
    "as the objective function is no longer convex (not linear), and it is not as simple to solve.\n",
    "\n",
    "> Since our model's data is bi-dimensional, we are not in the trivial case. Thus, when passing data to the model, we will need to preprocess it first. For instance, suppose that for our problem, we will have the voltages Vd and Vg as a set of vectors. Essentially, what will be computed is an $MxN$ matrix; however, the `curve_fit` function only calculates ideal parameters for the one-dimensional vector case. So, we will first allocate all Vg voltages into a matrix and do the same for Vd voltages. Then, we will use Python's `np.ravel()` function to transform an array into a one-dimensional array. This operation does not affect the integrity of the data, only resizes it. The `np.ravel()` function returns a copy of the original array, with all elements of the original array \"flattened\" into a single one-dimensional array. This means that the function returns an array with all the rows of the original array concatenated into a single row."
   ]
  },
  {
   "cell_type": "markdown",
   "metadata": {
    "id": "c0Jt9A63whok"
   },
   "source": [
    "### **Model Description** 🔧\n"
   ]
  },
  {
   "cell_type": "markdown",
   "metadata": {
    "id": "_r5x1sBswlA1"
   },
   "source": [
    "The mathematical model to which we will subject the experimental data consists of a set of equations, where each variable has its degree of importance and contribution. Below is its prototyping as well as what each parameter signifies:\n",
    "\n",
    "The drain current of a TFT consists of mobile charges $Q_{free}$ modulated by the gate voltage and moves with a velocity modulated by the drain voltage. At high electric fields from source to drain, the carrier velocity saturates at a value $V_{sat}$. However, carriers need to scale a potential barrier on the path from source to drain, which represents a bottleneck for carrier transport. The limited rate of charge injection from the top of the barrier potential choke point can be termed as a virtual source (VS). The modified $V_{sed}$ model suggests a specific form of drain current per gate width W in VS:\n",
    "$$J_D = \\frac{I_D}{W} = V_{sat} \\cdot F_{sat} \\cdot Q_{free} $$\n",
    "\n",
    "Some charged particles are not mobile. In certain cases, an exponential tail of trapping states ranging from the valence band edge to the band gap can relate the free and total carrier density by a power law. This occurs because all states are occupied according to the same quasi-Fermi level, as seen in Equation (B4) in [8] and its earlier derivation. Thus, the equation shows that\n",
    "$$Q_{free} = q \\cdot \\sigma_v \\cdot \\left(\\frac{Q_{tot}}{q \\cdot \\sigma_{traps}}\\right)^l$$\n",
    "\n",
    "Here, $σ_V$ and $σ_{traps}$ represent the density of valence states and traps in a single semiconductor layer in $V_S$, respectively. The value of the exponent $l$ is determined by the effective \"temperature\" ratio defining the exponential distribution of trap states' energy and the device temperature, originating from the Boltzmann energy distribution of free charge carriers. However, since the exact trap distribution is generally unknown, $l$ is treated as a model parameter. The distinction between free and trapped charge carriers, as presented in Equation (2), is the main adaptation of the VSED framework for thin film materials proposed in this work.\n",
    "\n",
    "For a depleted semiconductor, an exponential accumulation of holes (positive charges) is expected with increasing gate field, which ceases when substantial shielding by the accumulated charge sheet is established. The following phenomenological expression first proposed in [9] is employed:\n",
    "$$ Q_{tot} = C_I \\cdot n \\cdot V_T \\cdot \\ln \\left[ 1 + e^{\\psi \\cdot V_S - V_{GS}} \\cdot n \\cdot V_T \\right],$$\n",
    "$$ \\psi \\cdot V_S = V_{tho} + |\\delta| \\cdot V_{DS}$$\n",
    "\n",
    "The gate insulator capacitance depends on the dielectric constant ε and the insulator thickness tI: $C_I = \\frac{ε}{t_I}$. The thermal voltage is represented by $V_T = \\frac{kT}{q}$. The transition from weak to strong accumulation is modeled by parameters $n, V_{th0}$, and $δ$, where $n$ is influenced by the charging of the semiconductor region adjacent to the gate insulator interface, filling surface states and affecting the band bending rate with gate bias.\n",
    "\n",
    "The interface potential becomes independent of VGS when it reaches a bias value $ψ \\cdot V_S$, also known as threshold voltage. This allows parameterizing the potential barrier control by gate bias in TFTs. The parameter $ψ \\cdot V_S$ represents the critical bias at which the potential at $V_S$ becomes independent of gate voltage. During hole accumulation at the gate insulator interface, parameters n and $l$ describe the loading of trap states, and the voltage scale for the exponential increase of drain current with gate bias is given by $(\\frac{n}{l}) \\cdot V_T$ in the VSED model. The parameter $δ$ does not necessarily represent drain-induced barrier lowering (DIBL).\n",
    "\n",
    "The charge injection velocity $Q_{free}$ in the transistor channel is represented by $V_{inj} = V_{sat} \\cdot F_{sat}$. It is common to estimate the drain current in TFTs as a drift motion of injected charge carriers, but this can lead to a mistaken conclusion about saturation velocity $V_{sat}$. While in high electric field regions the saturation velocity equals the body semiconductor saturation velocity, in low electric field regions the saturation velocity is defined by the unidirectional thermal velocity of the quasi-Fermi potential, not the electrostatic potential. This concept is discussed in [10]:\n",
    "$$V_{sat} = \\frac{2D}{\\bar{\\lambda}_{free}} = \\frac{2 \\cdot \\mu \\cdot V_T}{\\bar{\\lambda}_{free}}$$\n",
    "\n",
    "which is parametrized here by the diffusion coefficient $D$ and may relate to drift mobility $μ$ through the Einstein relation. In low drain bias, charge carrier diffusion is the dominant transport mechanism in much of the TFT and not just in $V_S$. The characteristic length in Eq. (5) will no longer be given by the mean free path $\\bar{\\lambda}_{free}$ but by the diffusion length. Since only carriers of a single type are injected into a basically intrinsic semiconductor, the diffusion length can be very large and comparable to the device dimension given by the gate length $L_G$. $F_{sat}$ introduces a length scale $λ = \\frac{L_G}{\\bar{\\lambda}_{free}}$, which effectively replaces ${\\bar{\\lambda}_{free}}$ → $L_G$ under low drain bias.\n",
    "\n",
    "The remaining function $F_{sat}$ describes the drainage of accumulated holes. For long-channel TFTs, diffusion and emission theory [11, 5] represent an interesting approach to determine $F_{sat}$:\n",
    "\n",
    "$$F_{sat} = \\frac{1}{1 + 2t} \\cdot \\frac{1-e^{-\\left(\\frac{-V_{SD}}{V_T}\\right)}}{1+e^{-\\left(\\frac{-V_{SD}}{V_T}\\right)}} \\cdot \\frac{1}{1+2t}$$\n",
    "\n",
    "For drain bias significantly exceeding thermal voltage, the transition function is described by $F_{sat} = \\frac{1}{1 + 2t}$. The critical probability factor $t$ is determined by a mean Boltzmann factor in the channel region controlled by the gate and can be obtained from the specific potential profile. For long-channel devices, an analytical form has been proposed, which can be found in equations (4) to (12) of reference [11].\n",
    "\n",
    "$$ t = \\frac{2 \\cdot \\lambda}{m^2 (1 - η^2)} \\cdot \\left[ (1 - m \\cdot η) \\cdot e^{-m (1 - η)} - (1 - m) \\right]$$\n",
    "\n",
    "$$ η = 1 - \\tanh\\left(\\frac{V_{SD}}{mV_T}\\right)$$\n",
    "\n",
    "$$ m = \\frac{2 \\cdot \\frac{V_{Gt}}{V_T}}{1 + \\sqrt{\\frac{2 \\cdot V_{Gt}}{V_{crit}}}}$$\n",
    "\n",
    "$$ V_{Gt} = \\frac{Q_{tot}}{C_I}$$\n",
    "\n",
    "Note that an increase in transistor overdrive leads to a spacious diffusion region and shifts the onset of saturation to higher drain bias. In high gate bias, the necessary increase in saturation voltage decreases and transforms into square root growth for $V_{Gt} > V_{crit}$. Note that the saturation velocity given by Eq. (5) is achieved only for both large $V_{SG}$ (low barrier) and large $V_{SD}$ (sink load). In general, the critical diffusion length replacing $\\lambda_{free}$ in Eq. (5) is a fraction of $L_G$ dependent on gate voltage. The $V_{Gt}$ required to achieve maximum injection velocity given by unidirectional thermal velocity decreases with $L_G$.\n",
    "\n",
    "* The first equation is used to calculate the average lifetime of an unstable particle. It relates the average lifetime ($t$) of an unstable particle to its mass ($m$), binding energy ($λ$), and damping factor ($η$). The equation is a mathematical expression of the exponential decay law of the particle.\n",
    "\n",
    "* The second equation is used to calculate the reflection coefficient of a wave in a MOSFET transistor (metal-oxide-semiconductor field-effect transistor). The equation relates the reflection coefficient ($η$) to the potential difference between drain and source ($V_{SD}$), ambient temperature ($V_T$), and a device parameter ($m$).\n",
    "\n",
    "* The third equation is used in semiconductor devices to calculate the slope factor of a MOSFET transistor. The slope factor is a measure of the transistor's efficiency in turning on and off quickly. The equation relates the slope factor ($m$) to the transistor's threshold voltage ($V_{GT}$), a critical voltage constant ($V_{crit}$), and ambient temperature ($V_T$).\n",
    "\n",
    "* The fourth equation is used to calculate the threshold voltage of a MOSFET transistor. The threshold voltage is the minimum voltage required to turn on the transistor. The equation relates the threshold voltage ($V_{GT}$) to the total charge ($Q_{tot}$) stored on the transistor gate, the gate capacitance ($C$), and the current ($I$) applied to the gate.\n",
    "\n",
    "Understanding how each equation relates and what each one consists of, we will abstract all this 'complex' mathematics into the model code and execute it to observe what kind of results it will yield.\n",
    "\n",
    "Remembering that our goal here will be to optimize the coefficients $J_T, V_{tho}, δ, l\n",
    "\n",
    ", n, λ$, and $V_{crit}$ used in the modeling of the equations.\n",
    "\n",
    "* $J_T$ → Junction Temperature Coefficient. It is a parameter representing the temperature variation at the junction of an electronic device, such as a transistor, diode, or integrated circuit. The value of $J_T$ is important for the correct design and operation of these devices.\n",
    "\n",
    "* $V_{tho}$ → Threshold Voltage. It is the minimum electric voltage that must be applied to an electronic device, such as a MOSFET transistor, to initiate current conduction. The value of $V_{tho}$ is determined by the properties of the semiconductor material used in the device construction.\n",
    "\n",
    "* $δ$ → Diffusion Layer Thickness. It is a parameter representing the thickness of the doped semiconductor material layer deposited on the semiconductor substrate surface to form a transistor or other electronic device.\n",
    "\n",
    "* $l$ → Diffusion Length. It is a parameter representing the distance that the semiconductor material doping diffuses on the semiconductor substrate surface during the electronic device manufacturing process.\n",
    "\n",
    "* $n$ → Diode Ideality Factor. It is a parameter describing the relationship between the electric current and voltage in a diode. The value of $n$ is used to calculate the diode's voltage drop at different current levels.\n",
    "\n",
    "* $λ$ → Voltage Drop Coefficient. It is a parameter describing the voltage drop in an electronic device relative to the electric current passing through it. The value of $λ$ is used to calculate the voltage drop in a MOSFET transistor at different current levels.\n",
    "\n",
    "* $V_{crit}$ → Critical Voltage. It is an electric voltage representing the maximum voltage limit that an electronic device can withstand without damaging its structure or functionality. The value of $V_{crit}$ is determined by the properties of the semiconductor materials used in the device construction and is important for the safe design and operation of electronic circuits.\n",
    "\n",
    "Remembering that our objective here will be to optimize the coefficients $J_T, V_{tho}, δ, l, n, λ$, and $V_{crit}$ used in the modeling of the equations.\n",
    "\n",
    "* $J_T$ → Junction Temperature Coefficient. It is a parameter representing the temperature variation at the junction of an electronic device, such as a transistor, diode, or integrated circuit. The value of $J_T$ is important for the correct design and operation of these devices.\n",
    "\n",
    "* $V_{tho}$ → Threshold Voltage. It is the minimum electric voltage that must be applied to an electronic device, such as a MOSFET transistor, to initiate current conduction. The value of $V_{tho}$ is determined by the properties of the semiconductor material used in the device construction.\n",
    "\n",
    "* $δ$ → Diffusion Layer Thickness. It is a parameter representing the thickness of the doped semiconductor material layer deposited on the semiconductor substrate surface to form a transistor or other electronic device.\n",
    "\n",
    "* $l$ → Diffusion Length. It is a parameter representing the distance that the semiconductor material doping diffuses on the semiconductor substrate surface during the electronic device manufacturing process.\n",
    "\n",
    "* $n$ → Diode Ideality Factor. It is a parameter describing the relationship between the electric current and voltage in a diode. The value of $n$ is used to calculate the diode's voltage drop at different current levels.\n",
    "\n",
    "* $λ$ → Voltage Drop Coefficient. It is a parameter describing the voltage drop in an electronic device relative to the electric current passing through it. The value of $λ$ is used to calculate the voltage drop in a MOSFET transistor at different current levels.\n",
    "\n",
    "* $V_{crit}$ → Critical Voltage. It is an electric voltage representing the maximum voltage limit that an electronic device can withstand without damaging its structure or functionality. The value of $V_{crit}$ is determined by the properties of the semiconductor materials used in the device construction and is important for the safe design and operation of electronic circuits.\n",
    "\n",
    "\n",
    "\n"
   ]
  },
  {
   "cell_type": "markdown",
   "metadata": {
    "id": "RkmdLzKbMAnz"
   },
   "source": [
    "## **Using the Model** 💻"
   ]
  },
  {
   "cell_type": "markdown",
   "metadata": {
    "id": "Ril-6Y3iKXdL"
   },
   "source": [
    "Below, insert the address of the `MODULE_OTFT` module that contains the files to be imported. This folder contains all the necessary files that the model uses to function. It can be loaded following the example: `sys.path.append('/content/drive/MyDrive/your/path/Model_OTFT')`, simply replace the path below with the corresponding path from your mounted drive containing the module."
   ]
  },
  {
   "cell_type": "code",
   "execution_count": 1,
   "metadata": {
    "id": "6UzzLMgVLD9V"
   },
   "outputs": [],
   "source": [
    "# sys.path.append('/content/drive/MyDrive/ICs/beTFT/Model_OTFT') # Change to your own path"
   ]
  },
  {
   "cell_type": "code",
   "execution_count": 2,
   "metadata": {
    "id": "JnknGBYoiJZ2"
   },
   "outputs": [],
   "source": [
    "# Load the used classes\n",
    "from modules_otft._imports import *\n",
    "from modules_otft._read_data import ReadData\n",
    "from modules_otft._model import TFTModel\n",
    "from modules_otft._grafics import  TFTGraphicsPlot\n",
    "from modules_otft._menu import TFTMenu\n",
    "\n",
    "# from modules_otft._global_vars import *\n",
    "from modules_otft._config import *\n",
    "from modules_otft._utils import *\n"
   ]
  },
  {
   "cell_type": "markdown",
   "metadata": {
    "id": "-m6XG_odMgoL"
   },
   "source": [
    "---\n",
    "## **Instantiating the used classes**\n",
    "---\n"
   ]
  },
  {
   "cell_type": "code",
   "execution_count": 3,
   "metadata": {
    "id": "pXJi9KefNXnl"
   },
   "outputs": [],
   "source": [
    "plot = TFTGraphicsPlot()\n",
    "menu = TFTMenu()\n",
    "read = ReadData()"
   ]
  },
  {
   "cell_type": "markdown",
   "metadata": {
    "id": "G0y8r9ATMVuR"
   },
   "source": [
    "---\n",
    "## **Loading sample data** 📚\n",
    "\n",
    "\n",
    "---\n",
    "\n"
   ]
  },
  {
   "cell_type": "code",
   "execution_count": 4,
   "metadata": {
    "cellView": "form",
    "colab": {
     "base_uri": "https://localhost:8080/"
    },
    "executionInfo": {
     "elapsed": 18258,
     "status": "ok",
     "timestamp": 1730290019904,
     "user": {
      "displayName": "Rodrigo Santos Batista",
      "userId": "10844009603124520931"
     },
     "user_tz": 180
    },
    "id": "zojCEe15uAiJ",
    "outputId": "12bc9236-bf6a-4332-e963-aff864b66c58"
   },
   "outputs": [
    {
     "name": "stdout",
     "output_type": "stream",
     "text": [
      "--------------------------------------------------------------------------------------------------------------------------------------------------------------------------------------------------------\n",
      "--------------------------------------------------------------------------------------------------------------------------------------------------------------------------------------------------------\n",
      "\n",
      "\n",
      "___________________________________________________________________________________ SETTINGS PRESENT IN THE JSON FILE:___________________________________________________________________________________\n",
      "\n",
      "| path: /home/rsb6/Desktop/Artigo JICS/Model_OTFT/datas/Fig1cd\n",
      "--------------------------------------------------------------------------------------------------------------------------------------------------------------------------------------------------------\n",
      "| experimental_data_scale_transfer: A\n",
      "--------------------------------------------------------------------------------------------------------------------------------------------------------------------------------------------------------\n",
      "| experimental_data_scale_output: uA\n",
      "--------------------------------------------------------------------------------------------------------------------------------------------------------------------------------------------------------\n",
      "| current_typic: uA\n",
      "--------------------------------------------------------------------------------------------------------------------------------------------------------------------------------------------------------\n",
      "| loaded_voltages: -5, -40, -20, -30, -40\n",
      "--------------------------------------------------------------------------------------------------------------------------------------------------------------------------------------------------------\n",
      "| curves_transfer: 2\n",
      "--------------------------------------------------------------------------------------------------------------------------------------------------------------------------------------------------------\n",
      "| type_curve_plot: logarithmic\n",
      "--------------------------------------------------------------------------------------------------------------------------------------------------------------------------------------------------------\n",
      "| type_read_data_exp: read interpolated data\n",
      "--------------------------------------------------------------------------------------------------------------------------------------------------------------------------------------------------------\n",
      "| shift_volt_data: 5, 5, 5\n",
      "--------------------------------------------------------------------------------------------------------------------------------------------------------------------------------------------------------\n",
      "| select_files: \n",
      "--------------------------------------------------------------------------------------------------------------------------------------------------------------------------------------------------------\n",
      "| resistance_scale: 1e4\n",
      "--------------------------------------------------------------------------------------------------------------------------------------------------------------------------------------------------------\n",
      "| current_carry: 1e-6\n",
      "--------------------------------------------------------------------------------------------------------------------------------------------------------------------------------------------------------\n",
      "| with_transistor: 0.1\n",
      "--------------------------------------------------------------------------------------------------------------------------------------------------------------------------------------------------------\n",
      "| type_of_transistor: pFET\n",
      "--------------------------------------------------------------------------------------------------------------------------------------------------------------------------------------------------------\n",
      "| loaded_parameters: {'VTHO': 8.57, 'DELTA': 0.0032, 'N': 30, 'L': 2.14, 'LAMBDA': 1000, 'VGCRIT': 32, 'JTH': 1, 'RS': 20}\n",
      "--------------------------------------------------------------------------------------------------------------------------------------------------------------------------------------------------------\n",
      "| idleak_mode: more than one value idleak\n",
      "--------------------------------------------------------------------------------------------------------------------------------------------------------------------------------------------------------\n",
      "| loaded_idleak: 4e-10,  3e-9\n",
      "--------------------------------------------------------------------------------------------------------------------------------------------------------------------------------------------------------\n",
      "| image_size_width: None\n",
      "--------------------------------------------------------------------------------------------------------------------------------------------------------------------------------------------------------\n",
      "| image_size_height: None\n",
      "--------------------------------------------------------------------------------------------------------------------------------------------------------------------------------------------------------\n",
      "| upper_bounds: {'ub_VTHO': 12, 'ub_DELTA': 0.3, 'ub_N': 130, 'ub_L': 4.1, 'ub_LAMBDA': 10000, 'ub_VGCRIT': 80, 'ub_JTH': 10, 'ub_RS': 360}\n",
      "--------------------------------------------------------------------------------------------------------------------------------------------------------------------------------------------------------\n",
      "| lower_bounds: {'lb_VTHO': 8, 'lb_DELTA': 0, 'lb_N': 10, 'lb_L': 1, 'lb_LAMBDA': 100, 'lb_VGCRIT': 10, 'lb_JTH': 0, 'lb_RS': 0}\n",
      "--------------------------------------------------------------------------------------------------------------------------------------------------------------------------------------------------------\n",
      "| default_bounds: no\n",
      "--------------------------------------------------------------------------------------------------------------------------------------------------------------------------------------------------------\n",
      "| optimization_method: trf\n",
      "--------------------------------------------------------------------------------------------------------------------------------------------------------------------------------------------------------\n",
      "| tolerance_factor: 4e-7\n",
      "--------------------------------------------------------------------------------------------------------------------------------------------------------------------------------------------------------\n",
      "\n",
      "\n",
      "Shift value    : [5, 5, 5]\n",
      "\n",
      "List volt shift: [-5, -40, -25, -35, -45]\n",
      "\n",
      "--------------------------------------------\n",
      "--------------------------------------------\n",
      "|                READ FILES                |\n",
      "--------------------------------------------\n",
      "--------------------------------------------\n",
      "|            transfer-5V.csv            |\n",
      "--------------------------------------------\n",
      "|             transfer-40V.csv             |\n",
      "--------------------------------------------\n",
      "|              output-20V.csv              |\n",
      "--------------------------------------------\n",
      "|              output-30V.csv              |\n",
      "--------------------------------------------\n",
      "|              output-40V.csv              |\n",
      "--------------------------------------------\n",
      "--------------------------------------------\n",
      "\n",
      "The table above shows all the files that were read in the directory, if you want to filter files so that only those that are of interest are read, do this by passing numbers that correspond to the order of the experiment curves,\n",
      "separated by ,. For example: 0:tranfer-5v , 3:output-40v and so on\n",
      "\n",
      "\n",
      "\n",
      "\n",
      "List volt shift  : [-5, -40, -20, -30, -40]\n",
      "List tension     : [-5, -40, -25, -35, -45]\n",
      "\n",
      "--------------------------------------------\n",
      "--------------------------------------------\n",
      "|                READ FILES                |\n",
      "--------------------------------------------\n",
      "--------------------------------------------\n",
      "|            transfer-5V.csv            |\n",
      "--------------------------------------------\n",
      "|             transfer-40V.csv             |\n",
      "--------------------------------------------\n",
      "|              output-20V.csv              |\n",
      "--------------------------------------------\n",
      "|              output-30V.csv              |\n",
      "--------------------------------------------\n",
      "|              output-40V.csv              |\n",
      "--------------------------------------------\n",
      "--------------------------------------------\n",
      "\n",
      "\n",
      "\n",
      "\n",
      "   VTHO     |    DELTA   |      N     |     L      |    LAMBDA  |   VGCRIT   |    JTH     |     RS    |\n",
      "-------------------------------------------------------------------------------------------------------\n",
      "[8.5700e+00 │ 3.2000e-03 │ 3.0000e+01 │ 2.1400e+00 │ 1.0000e+03 │ 3.2000e+01 │ 1.0000e+00 │ 2.0000e+01]\n",
      "-------------------------------------------------------------------------------------------------------\n",
      "\n"
     ]
    }
   ],
   "source": [
    "# @title ### **Load parameters local / remote directory.**\n",
    "# @markdown In this section, you can load the intrinsic parameters of the model you want to optimize. The load can be done locally, by choosing your `json` file containing all the values ​​to be loaded, parameters `Vtho, delta, n, l, lam, Vgcrit, Jth, Rs`\n",
    "\n",
    "# @markdown Note, also, that it is necessary to provide the respective values ​​of `resistance_scale`, `current_carry` and `with_transistor`, which are respectively: resistance values, current values ​​- where the transistor typically operates - and transistor width (associated technology). If you want to add a value other than the default, add it to the field. Remember that the values ​​in the `JTH` and `Rs` fields will be multiples of the values ​​defined in these fields and the value of `with_transistor` is in units of `[cm]`. So make sure you provide consistent values ​​so that the template output can also be consistent\n",
    "\n",
    "# @markdown ---\n",
    "\n",
    "# Read and show the path file Json\n",
    "settings = enter_with_json_file()\n",
    "print()\n",
    "print()\n",
    "\n",
    "ld_voltages = load_voltages(settings['loaded_voltages'])\n",
    "\n",
    "type_curve_plot = get_type_plot(settings['type_curve_plot'])\n",
    "\n",
    "shift_list = calculate_shift_list(settings['shift_volt_data'], ld_voltages, settings['curves_transfer'])\n",
    "\n",
    "list_tension_shift = get_shift_list(read, settings['curves_transfer'], shift_list, ld_voltages)\n",
    "\n",
    "path_voltages = read.read_files_experimental(settings['path'], list_tension_shift)\n",
    "\n",
    "Vv, Id, input_voltage, n_points, count_transfer, count_output = read.load_data(settings['type_read_data_exp'], path_voltages, settings['current_typic'], settings['experimental_data_scale_transfer'], settings['experimental_data_scale_output'], type_curve_plot)\n",
    "\n",
    "\n",
    "print(\"Shift value    : \" + f'{shift_list}')\n",
    "print()\n",
    "\n",
    "print(\"List volt shift: \" +  f'{list_tension_shift}')\n",
    "print()\n",
    "list_curves = menu.view_path_reads(path_voltages, list_tension_shift)\n",
    "\n",
    "print()\n",
    "print('The table above shows all the files that were read in the directory, if you want to filter files so that only those that are of interest are read, do this by passing numbers that correspond to the order of the experiment curves,')\n",
    "print('separated by ,. For example: 0:tranfer-5v , 3:output-40v and so on')\n",
    "print('\\n\\n')\n",
    "\n",
    "path_voltages, list_tension_shift, list_tension = filter_and_load_files(read, settings['select_files'], list_curves, list_tension_shift, ld_voltages, settings['path'])\n",
    "\n",
    "print()\n",
    "\n",
    "print(\"List volt shift  : \" f'{list_tension_shift}' )\n",
    "print(\"List tension     : \" f'{list_tension}' )\n",
    "print()\n",
    "_ = menu.view_path_reads(path_voltages, list_tension_shift)\n",
    "print('\\n\\n')\n",
    "\n",
    "\n",
    "tp_tst = get_transistor_type(settings['type_of_transistor'])\n",
    "resistance = get_resistance(settings['resistance_scale'])\n",
    "current = get_current(settings['current_carry'])\n",
    "width_t = get_transistor_width(settings['with_transistor'])\n",
    "load_parameters = load_coefficients(settings['loaded_parameters'])\n",
    "\n",
    "\n",
    "print()\n",
    "menu.print_values(load_parameters)\n",
    "print()\n",
    "\n",
    "mode_idleak, load_idleak = load_idleak_parameters(settings['idleak_mode'], settings['loaded_idleak'])"
   ]
  },
  {
   "cell_type": "code",
   "execution_count": 5,
   "metadata": {
    "cellView": "form",
    "colab": {
     "base_uri": "https://localhost:8080/",
     "height": 1000
    },
    "executionInfo": {
     "elapsed": 505,
     "status": "ok",
     "timestamp": 1730290020406,
     "user": {
      "displayName": "Rodrigo Santos Batista",
      "userId": "10844009603124520931"
     },
     "user_tz": 180
    },
    "id": "q1VjR5eys3Bi",
    "outputId": "14606288-42a6-46ba-b23c-1ebea2f2f88e"
   },
   "outputs": [
    {
     "data": {
      "application/vnd.plotly.v1+json": {
       "config": {
        "plotlyServerURL": "https://plot.ly"
       },
       "data": [
        {
         "line": {
          "color": "rgb(255, 0, 0)",
          "dash": "dash"
         },
         "mode": "lines+text",
         "name": "<b>Model OVSED<b> <b>-5V<b>",
         "text": [
          "-5V"
         ],
         "textfont": {
          "color": "rgb(255, 0, 0)",
          "family": "Times New Roman",
          "size": 13
         },
         "textposition": "bottom center",
         "type": "scatter",
         "x": [
          -43.973,
          -43.40906493506493,
          -42.84512987012987,
          -42.2811948051948,
          -41.71725974025974,
          -41.153324675324676,
          -40.58938961038961,
          -40.025454545454544,
          -39.46151948051948,
          -38.89758441558441,
          -38.33364935064935,
          -37.76971428571429,
          -37.20577922077922,
          -36.641844155844154,
          -36.07790909090909,
          -35.51397402597402,
          -34.950038961038956,
          -34.3861038961039,
          -33.82216883116883,
          -33.258233766233765,
          -32.6942987012987,
          -32.13036363636363,
          -31.56642857142857,
          -31.002493506493504,
          -30.438558441558442,
          -29.874623376623376,
          -29.31068831168831,
          -28.746753246753244,
          -28.18281818181818,
          -27.618883116883115,
          -27.05494805194805,
          -26.491012987012986,
          -25.92707792207792,
          -25.363142857142854,
          -24.799207792207792,
          -24.235272727272726,
          -23.67133766233766,
          -23.107402597402597,
          -22.54346753246753,
          -21.979532467532465,
          -21.4155974025974,
          -20.851662337662336,
          -20.28772727272727,
          -19.723792207792204,
          -19.159857142857142,
          -18.595922077922076,
          -18.03198701298701,
          -17.468051948051947,
          -16.90411688311688,
          -16.340181818181815,
          -15.776246753246753,
          -15.212311688311686,
          -14.64837662337662,
          -14.084441558441558,
          -13.520506493506492,
          -12.956571428571426,
          -12.392636363636363,
          -11.828701298701297,
          -11.264766233766231,
          -10.700831168831165,
          -10.136896103896099,
          -9.57296103896104,
          -9.009025974025974,
          -8.445090909090908,
          -7.881155844155842,
          -7.317220779220776,
          -6.75328571428571,
          -6.189350649350644,
          -5.625415584415585,
          -5.061480519480519,
          -4.4975454545454525,
          -3.9336103896103864,
          -3.3696753246753204,
          -2.8057402597402543,
          -2.2418051948051954,
          -1.6778701298701293,
          -1.1139350649350632,
          -0.55
         ],
         "y": [
          0.000008807354139061428,
          0.000008711071010425552,
          0.000008611736063855728,
          0.000008509262296954492,
          0.000008403563041182494,
          0.000008294552415290475,
          0.000008182145839110017,
          0.000008066260612643447,
          0.000007946816565440083,
          0.000007823736781211145,
          0.00000769694840250425,
          0.000007566383520007326,
          0.000007431980150661625,
          0.00000729368330820859,
          0.000007151446169052952,
          0.000007005231335368308,
          0.00000685501219617626,
          0.0000067007743856735555,
          0.000006542517336340024,
          0.000006380255922316798,
          0.0000062140221861863175,
          0.000006043867139606676,
          0.0000058698626252565465,
          0.000005692103224247835,
          0.0000055107081895870095,
          0.000005325823382456217,
          0.000005137623184098848,
          0.000004946312352007716,
          0.000004752127785021921,
          0.0000045553401579534645,
          0.000004356255382617305,
          0.000004155215848775463,
          0.000003952601395685367,
          0.000003748829962833682,
          0.000003544357867209326,
          0.0000033396796542917847,
          0.000003135327470958794,
          0.0000029318699108866992,
          0.0000027299102868326996,
          0.00000253008428951254,
          0.0000023330569996277714,
          0.0000021395192278903388,
          0.000001950183167487828,
          0.000001765777354066976,
          0.0000015870409395745096,
          0.0000014147172975612277,
          0.0000012495469878735694,
          0.0000010922601164837207,
          9.435681288394989e-7,
          8.041550673745977e-7,
          6.746682950684136e-7,
          5.557086142360723e-7,
          4.4781954245947056e-7,
          3.5147513410807807e-7,
          2.6706491535731995e-7,
          1.9487274102159012e-7,
          1.350427983291737e-7,
          8.751949260600878e-8,
          5.1939431215861325e-8,
          2.7454912832730497e-8,
          1.2520278334448742e-8,
          4.824221092379444e-9,
          1.6576011453293481e-9,
          6.721772781497991e-10,
          4.4601935027859115e-10,
          4.0654695104240703e-10,
          4.008691480323465e-10,
          4.001208880441331e-10,
          4.0001897127831633e-10,
          4.0000334650069627e-10,
          4.000006384741922e-10,
          4.0000012733394123e-10,
          4.0000002598813313e-10,
          4.0000000536575557e-10,
          4.000000011141806e-10,
          4.00000000231997e-10,
          4.0000000004837095e-10,
          4.0000000001009146e-10
         ]
        },
        {
         "line": {
          "color": "rgb(0, 0, 255)",
          "dash": "dash"
         },
         "mode": "lines+text",
         "name": "<b>Model OVSED<b> <b>-40V<b>",
         "text": [
          "-40V"
         ],
         "textfont": {
          "color": "rgb(0, 0, 255)",
          "family": "Times New Roman",
          "size": 13
         },
         "textposition": "bottom center",
         "type": "scatter",
         "x": [
          -44.99,
          -44.4152987012987,
          -43.8405974025974,
          -43.265896103896104,
          -42.691194805194804,
          -42.11649350649351,
          -41.54179220779221,
          -40.96709090909091,
          -40.392389610389614,
          -39.817688311688315,
          -39.242987012987015,
          -38.668285714285716,
          -38.09358441558442,
          -37.51888311688312,
          -36.94418181818182,
          -36.36948051948052,
          -35.79477922077922,
          -35.22007792207792,
          -34.64537662337663,
          -34.07067532467533,
          -33.49597402597403,
          -32.92127272727273,
          -32.34657142857143,
          -31.77187012987013,
          -31.19716883116883,
          -30.62246753246753,
          -30.047766233766236,
          -29.473064935064937,
          -28.898363636363637,
          -28.323662337662338,
          -27.748961038961042,
          -27.174259740259743,
          -26.599558441558443,
          -26.024857142857144,
          -25.450155844155844,
          -24.87545454545455,
          -24.30075324675325,
          -23.72605194805195,
          -23.15135064935065,
          -22.57664935064935,
          -22.001948051948055,
          -21.427246753246756,
          -20.852545454545456,
          -20.277844155844157,
          -19.703142857142858,
          -19.12844155844156,
          -18.553740259740263,
          -17.979038961038963,
          -17.404337662337664,
          -16.829636363636364,
          -16.254935064935065,
          -15.68023376623377,
          -15.10553246753247,
          -14.53083116883117,
          -13.956129870129871,
          -13.381428571428572,
          -12.806727272727272,
          -12.232025974025973,
          -11.657324675324674,
          -11.082623376623381,
          -10.507922077922082,
          -9.933220779220783,
          -9.358519480519483,
          -8.783818181818184,
          -8.209116883116884,
          -7.634415584415585,
          -7.059714285714286,
          -6.485012987012986,
          -5.910311688311687,
          -5.3356103896103875,
          -4.760909090909095,
          -4.186207792207796,
          -3.6115064935064964,
          -3.036805194805197,
          -2.4621038961038977,
          -1.8874025974025983,
          -1.312701298701299,
          -0.738
         ],
         "y": [
          0.000040470298659710316,
          0.00003932351400495412,
          0.000038177737983359193,
          0.000037034147980857174,
          0.00003589389955724949,
          0.00003475812278554065,
          0.00003362791924373802,
          0.00003250435964919772,
          0.00003138848211089341,
          0.000030281290962848565,
          0.000029183756132491545,
          0.000028096812990818892,
          0.000027021362626794882,
          0.000025958272486123903,
          0.00002490837731408385,
          0.000023872480343161417,
          0.000022851354668442254,
          0.000021845744756758297,
          0.000020856368039173774,
          0.00001988391654025561,
          0.00001892905850149084,
          0.000017992439960016047,
          0.000017074686247368335,
          0.000016176403376151894,
          0.000015298179285270225,
          0.000014440584916652191,
          0.00001360417509818196,
          0.000012789489208819988,
          0.000011997051602688006,
          0.00001122737176920225,
          0.000010480944206213978,
          0.000009758247982589965,
          0.000009059745965791644,
          0.00000838588368885014,
          0.000007737087829754283,
          0.000007113764274759957,
          0.0000065162957355919355,
          0.0000059450388890717435,
          0.000005400321006519636,
          0.000004882436039536077,
          0.000004391640128698284,
          0.000003928146502599741,
          0.0000034921197368682363,
          0.000003083669346761548,
          0.000002702842693211166,
          0.000002349617191451377,
          0.0000020238918245038806,
          0.0000017254779818620874,
          0.0000014540896680063227,
          0.000001209333157166223,
          9.906962106912226e-7,
          7.975370197309519e-7,
          6.290730800309713e-7,
          4.843702219799586e-7,
          3.623319446193368e-7,
          2.6168889998665144e-7,
          1.809875838119457e-7,
          1.185756268712466e-7,
          7.257837173472348e-8,
          4.085931729432203e-8,
          2.096414804028793e-8,
          1.0088480799191138e-8,
          5.204696258039257e-9,
          3.5194294206375073e-9,
          3.093070208394157e-9,
          3.013472645828026e-9,
          3.0017412333481698e-9,
          3.0002268281719435e-9,
          3.0000329573239863e-9,
          3.000005448437955e-9,
          3.0000009889905572e-9,
          3.0000001895245074e-9,
          3.000000037364635e-9,
          3.0000000074712615e-9,
          3.0000000015042217e-9,
          3.000000000303859e-9,
          3.000000000061477e-9,
          3.0000000000124437e-9
         ]
        },
        {
         "marker": {
          "color": "rgb(255, 0, 0)",
          "line": {
           "color": "MediumPurple",
           "width": 0.8
          },
          "opacity": 0.5,
          "size": 11
         },
         "mode": "markers+text",
         "name": "<b>Exp <b> <b>-5V<b>",
         "text": [
          "<b>VDS<b>=-5V"
         ],
         "textfont": {
          "color": "rgb(255, 0, 0)",
          "family": "Times New Roman",
          "size": 18
         },
         "textposition": "top right",
         "type": "scatter",
         "x": [
          -43.973,
          -43.40906493506493,
          -42.84512987012987,
          -42.2811948051948,
          -41.71725974025974,
          -41.153324675324676,
          -40.58938961038961,
          -40.025454545454544,
          -39.46151948051948,
          -38.89758441558441,
          -38.33364935064935,
          -37.76971428571429,
          -37.20577922077922,
          -36.641844155844154,
          -36.07790909090909,
          -35.51397402597402,
          -34.950038961038956,
          -34.3861038961039,
          -33.82216883116883,
          -33.258233766233765,
          -32.6942987012987,
          -32.13036363636363,
          -31.56642857142857,
          -31.002493506493504,
          -30.438558441558442,
          -29.874623376623376,
          -29.31068831168831,
          -28.746753246753244,
          -28.18281818181818,
          -27.618883116883115,
          -27.05494805194805,
          -26.491012987012986,
          -25.92707792207792,
          -25.363142857142854,
          -24.799207792207792,
          -24.235272727272726,
          -23.67133766233766,
          -23.107402597402597,
          -22.54346753246753,
          -21.979532467532465,
          -21.4155974025974,
          -20.851662337662336,
          -20.28772727272727,
          -19.723792207792204,
          -19.159857142857142,
          -18.595922077922076,
          -18.03198701298701,
          -17.468051948051947,
          -16.90411688311688,
          -16.340181818181815,
          -15.776246753246753,
          -15.212311688311686,
          -14.64837662337662,
          -14.084441558441558,
          -13.520506493506492,
          -12.956571428571426,
          -12.392636363636363,
          -11.828701298701297,
          -11.264766233766231,
          -10.700831168831165,
          -10.136896103896099,
          -9.57296103896104,
          -9.009025974025974,
          -8.445090909090908,
          -7.881155844155842,
          -7.317220779220776,
          -6.75328571428571,
          -6.189350649350644,
          -5.625415584415585,
          -5.061480519480519,
          -4.4975454545454525,
          -3.9336103896103864,
          -3.3696753246753204,
          -2.8057402597402543,
          -2.2418051948051954,
          -1.6778701298701293,
          -1.1139350649350632,
          -0.55
         ],
         "y": [
          0.000006064000000000001,
          0.0000058829560409679994,
          0.000005740912991252489,
          0.00000573600387208004,
          0.000005643675801262952,
          0.0000054910511735970494,
          0.000005312003810070058,
          0.00000511928152184303,
          0.000005042797660757092,
          0.000004943364555256063,
          0.000004753169474393536,
          0.000004649166147596474,
          0.0000045786074475287714,
          0.0000044316320599478455,
          0.000004273226158456931,
          0.000004181699926447182,
          0.000004090173694437429,
          0.000003983654921679994,
          0.000003850614263177166,
          0.000003705890657729365,
          0.00000361948125261835,
          0.000003524062444597651,
          0.000003403699272558427,
          0.0000032998169459922374,
          0.000003205670858357005,
          0.0000030855590467784627,
          0.0000029399214474845524,
          0.0000028142902672828754,
          0.000002698168474608814,
          0.000002571761356014877,
          0.0000024701776296725604,
          0.0000023946812518110675,
          0.000002288217092950719,
          0.000002164671557562076,
          0.000002035462959162732,
          0.0000019142884655208097,
          0.0000018038860294851085,
          0.0000017069055690072624,
          0.0000016005397273533927,
          0.0000014814478502863575,
          0.0000013577873273223585,
          0.0000012629697102285156,
          0.0000011576973157348354,
          0.000001028385933191606,
          8.973236842105267e-7,
          7.883067443073169e-7,
          7.091025347642699e-7,
          6.203443382149757e-7,
          5.243246094286259e-7,
          4.4563776893421213e-7,
          3.6332019105514497e-7,
          2.819755020935347e-7,
          2.095381047523898e-7,
          1.5439254335408188e-7,
          1.1720105174291077e-7,
          9.181369553896887e-8,
          5.474582079790706e-8,
          3.5157240486785956e-8,
          2.2181385281385247e-8,
          1.4307076435015247e-8,
          8.793623299166012e-9,
          5.270418944239841e-9,
          2.6313959746720934e-9,
          1.6327173100871697e-9,
          8.483063463203468e-10,
          6.332842725556359e-10,
          4.782688775510187e-10,
          3.921952356355763e-10,
          3.7259635601141315e-10,
          3.6670629352947905e-10,
          3.6700572807723243e-10,
          3.6584819780651267e-10,
          3.6417799495094146e-10,
          3.6598620357598375e-10,
          3.7200154703177997e-10,
          3.8919646632437296e-10,
          3.8962035883892276e-10,
          3.8819999999999955e-10
         ]
        },
        {
         "marker": {
          "color": "rgb(0, 0, 255)",
          "line": {
           "color": "MediumPurple",
           "width": 0.8
          },
          "opacity": 0.5,
          "size": 11
         },
         "mode": "markers+text",
         "name": "<b>Exp <b> <b>-40V<b>",
         "text": [
          "<b>VDS<b>=-40V"
         ],
         "textfont": {
          "color": "rgb(0, 0, 255)",
          "family": "Times New Roman",
          "size": 18
         },
         "textposition": "top right",
         "type": "scatter",
         "x": [
          -44.99,
          -44.4152987012987,
          -43.8405974025974,
          -43.265896103896104,
          -42.691194805194804,
          -42.11649350649351,
          -41.54179220779221,
          -40.96709090909091,
          -40.392389610389614,
          -39.817688311688315,
          -39.242987012987015,
          -38.668285714285716,
          -38.09358441558442,
          -37.51888311688312,
          -36.94418181818182,
          -36.36948051948052,
          -35.79477922077922,
          -35.22007792207792,
          -34.64537662337663,
          -34.07067532467533,
          -33.49597402597403,
          -32.92127272727273,
          -32.34657142857143,
          -31.77187012987013,
          -31.19716883116883,
          -30.62246753246753,
          -30.047766233766236,
          -29.473064935064937,
          -28.898363636363637,
          -28.323662337662338,
          -27.748961038961042,
          -27.174259740259743,
          -26.599558441558443,
          -26.024857142857144,
          -25.450155844155844,
          -24.87545454545455,
          -24.30075324675325,
          -23.72605194805195,
          -23.15135064935065,
          -22.57664935064935,
          -22.001948051948055,
          -21.427246753246756,
          -20.852545454545456,
          -20.277844155844157,
          -19.703142857142858,
          -19.12844155844156,
          -18.553740259740263,
          -17.979038961038963,
          -17.404337662337664,
          -16.829636363636364,
          -16.254935064935065,
          -15.68023376623377,
          -15.10553246753247,
          -14.53083116883117,
          -13.956129870129871,
          -13.381428571428572,
          -12.806727272727272,
          -12.232025974025973,
          -11.657324675324674,
          -11.082623376623381,
          -10.507922077922082,
          -9.933220779220783,
          -9.358519480519483,
          -8.783818181818184,
          -8.209116883116884,
          -7.634415584415585,
          -7.059714285714286,
          -6.485012987012986,
          -5.910311688311687,
          -5.3356103896103875,
          -4.760909090909095,
          -4.186207792207796,
          -3.6115064935064964,
          -3.036805194805197,
          -2.4621038961038977,
          -1.8874025974025983,
          -1.312701298701299,
          -0.738
         ],
         "y": [
          0.000025759999999999977,
          0.000024915227489659547,
          0.000024033503262906268,
          0.000023105071673609403,
          0.000022196935187454066,
          0.000021531726322458057,
          0.00002105514475768133,
          0.00002034816161616161,
          0.000019326470418470414,
          0.00001876547560547559,
          0.000018137978968668625,
          0.000016868204707170223,
          0.000016201473874962263,
          0.000015629798733286436,
          0.000014882403940886691,
          0.000014226572207236023,
          0.000013703557106704853,
          0.000013110622176283275,
          0.000012439402170286045,
          0.000011689278173008902,
          0.00001111736926318035,
          0.000010611188177107864,
          0.000010135496299037752,
          0.000009537724872817276,
          0.000008886691736559886,
          0.00000843531809147375,
          0.000008009039649915308,
          0.00000746100276824272,
          0.000006984740157480323,
          0.000006611410573678291,
          0.000006203194155152619,
          0.0000056896964026388934,
          0.000005263132105599319,
          0.000004890989461358314,
          0.000004524380759980764,
          0.000004157458598726117,
          0.0000037883563845920576,
          0.000003451937789483242,
          0.0000031344454636272832,
          0.000002820620315099326,
          0.0000025100009227971608,
          0.0000022427678215201735,
          0.000001982466985645933,
          0.0000017374589849662,
          0.0000015677913429522747,
          0.0000013896175757575758,
          0.0000012018818181818196,
          0.0000010460995824662156,
          8.887547826976167e-7,
          7.1539858302818e-7,
          5.963857353078575e-7,
          4.7064148875514727e-7,
          3.913291688311694e-7,
          2.79302022355754e-7,
          2.080655659331182e-7,
          1.5057936233316856e-7,
          9.607685015989027e-8,
          6.579538261738258e-8,
          4.220343146798354e-8,
          2.939828356357027e-8,
          1.7333114659313337e-8,
          1.1224261254440636e-8,
          8.168790551134517e-9,
          5.853298116298122e-9,
          4.488791537494773e-9,
          3.7373541404831715e-9,
          3.421385550082102e-9,
          3.364575996417376e-9,
          3.3268361716464043e-9,
          3.3235685025706357e-9,
          3.3203008334948666e-9,
          3.3315222254086595e-9,
          3.34421279036421e-9,
          3.3483228140954347e-9,
          3.3487829432377135e-9,
          3.348999999999998e-9,
          3.348999999999998e-9,
          3.348999999999998e-9
         ]
        }
       ],
       "layout": {
        "height": 600,
        "legend": {
         "font": {
          "size": 16
         }
        },
        "template": {
         "data": {
          "bar": [
           {
            "error_x": {
             "color": "#2a3f5f"
            },
            "error_y": {
             "color": "#2a3f5f"
            },
            "marker": {
             "line": {
              "color": "#E5ECF6",
              "width": 0.5
             },
             "pattern": {
              "fillmode": "overlay",
              "size": 10,
              "solidity": 0.2
             }
            },
            "type": "bar"
           }
          ],
          "barpolar": [
           {
            "marker": {
             "line": {
              "color": "#E5ECF6",
              "width": 0.5
             },
             "pattern": {
              "fillmode": "overlay",
              "size": 10,
              "solidity": 0.2
             }
            },
            "type": "barpolar"
           }
          ],
          "carpet": [
           {
            "aaxis": {
             "endlinecolor": "#2a3f5f",
             "gridcolor": "white",
             "linecolor": "white",
             "minorgridcolor": "white",
             "startlinecolor": "#2a3f5f"
            },
            "baxis": {
             "endlinecolor": "#2a3f5f",
             "gridcolor": "white",
             "linecolor": "white",
             "minorgridcolor": "white",
             "startlinecolor": "#2a3f5f"
            },
            "type": "carpet"
           }
          ],
          "choropleth": [
           {
            "colorbar": {
             "outlinewidth": 0,
             "ticks": ""
            },
            "type": "choropleth"
           }
          ],
          "contour": [
           {
            "colorbar": {
             "outlinewidth": 0,
             "ticks": ""
            },
            "colorscale": [
             [
              0,
              "#0d0887"
             ],
             [
              0.1111111111111111,
              "#46039f"
             ],
             [
              0.2222222222222222,
              "#7201a8"
             ],
             [
              0.3333333333333333,
              "#9c179e"
             ],
             [
              0.4444444444444444,
              "#bd3786"
             ],
             [
              0.5555555555555556,
              "#d8576b"
             ],
             [
              0.6666666666666666,
              "#ed7953"
             ],
             [
              0.7777777777777778,
              "#fb9f3a"
             ],
             [
              0.8888888888888888,
              "#fdca26"
             ],
             [
              1,
              "#f0f921"
             ]
            ],
            "type": "contour"
           }
          ],
          "contourcarpet": [
           {
            "colorbar": {
             "outlinewidth": 0,
             "ticks": ""
            },
            "type": "contourcarpet"
           }
          ],
          "heatmap": [
           {
            "colorbar": {
             "outlinewidth": 0,
             "ticks": ""
            },
            "colorscale": [
             [
              0,
              "#0d0887"
             ],
             [
              0.1111111111111111,
              "#46039f"
             ],
             [
              0.2222222222222222,
              "#7201a8"
             ],
             [
              0.3333333333333333,
              "#9c179e"
             ],
             [
              0.4444444444444444,
              "#bd3786"
             ],
             [
              0.5555555555555556,
              "#d8576b"
             ],
             [
              0.6666666666666666,
              "#ed7953"
             ],
             [
              0.7777777777777778,
              "#fb9f3a"
             ],
             [
              0.8888888888888888,
              "#fdca26"
             ],
             [
              1,
              "#f0f921"
             ]
            ],
            "type": "heatmap"
           }
          ],
          "heatmapgl": [
           {
            "colorbar": {
             "outlinewidth": 0,
             "ticks": ""
            },
            "colorscale": [
             [
              0,
              "#0d0887"
             ],
             [
              0.1111111111111111,
              "#46039f"
             ],
             [
              0.2222222222222222,
              "#7201a8"
             ],
             [
              0.3333333333333333,
              "#9c179e"
             ],
             [
              0.4444444444444444,
              "#bd3786"
             ],
             [
              0.5555555555555556,
              "#d8576b"
             ],
             [
              0.6666666666666666,
              "#ed7953"
             ],
             [
              0.7777777777777778,
              "#fb9f3a"
             ],
             [
              0.8888888888888888,
              "#fdca26"
             ],
             [
              1,
              "#f0f921"
             ]
            ],
            "type": "heatmapgl"
           }
          ],
          "histogram": [
           {
            "marker": {
             "pattern": {
              "fillmode": "overlay",
              "size": 10,
              "solidity": 0.2
             }
            },
            "type": "histogram"
           }
          ],
          "histogram2d": [
           {
            "colorbar": {
             "outlinewidth": 0,
             "ticks": ""
            },
            "colorscale": [
             [
              0,
              "#0d0887"
             ],
             [
              0.1111111111111111,
              "#46039f"
             ],
             [
              0.2222222222222222,
              "#7201a8"
             ],
             [
              0.3333333333333333,
              "#9c179e"
             ],
             [
              0.4444444444444444,
              "#bd3786"
             ],
             [
              0.5555555555555556,
              "#d8576b"
             ],
             [
              0.6666666666666666,
              "#ed7953"
             ],
             [
              0.7777777777777778,
              "#fb9f3a"
             ],
             [
              0.8888888888888888,
              "#fdca26"
             ],
             [
              1,
              "#f0f921"
             ]
            ],
            "type": "histogram2d"
           }
          ],
          "histogram2dcontour": [
           {
            "colorbar": {
             "outlinewidth": 0,
             "ticks": ""
            },
            "colorscale": [
             [
              0,
              "#0d0887"
             ],
             [
              0.1111111111111111,
              "#46039f"
             ],
             [
              0.2222222222222222,
              "#7201a8"
             ],
             [
              0.3333333333333333,
              "#9c179e"
             ],
             [
              0.4444444444444444,
              "#bd3786"
             ],
             [
              0.5555555555555556,
              "#d8576b"
             ],
             [
              0.6666666666666666,
              "#ed7953"
             ],
             [
              0.7777777777777778,
              "#fb9f3a"
             ],
             [
              0.8888888888888888,
              "#fdca26"
             ],
             [
              1,
              "#f0f921"
             ]
            ],
            "type": "histogram2dcontour"
           }
          ],
          "mesh3d": [
           {
            "colorbar": {
             "outlinewidth": 0,
             "ticks": ""
            },
            "type": "mesh3d"
           }
          ],
          "parcoords": [
           {
            "line": {
             "colorbar": {
              "outlinewidth": 0,
              "ticks": ""
             }
            },
            "type": "parcoords"
           }
          ],
          "pie": [
           {
            "automargin": true,
            "type": "pie"
           }
          ],
          "scatter": [
           {
            "fillpattern": {
             "fillmode": "overlay",
             "size": 10,
             "solidity": 0.2
            },
            "type": "scatter"
           }
          ],
          "scatter3d": [
           {
            "line": {
             "colorbar": {
              "outlinewidth": 0,
              "ticks": ""
             }
            },
            "marker": {
             "colorbar": {
              "outlinewidth": 0,
              "ticks": ""
             }
            },
            "type": "scatter3d"
           }
          ],
          "scattercarpet": [
           {
            "marker": {
             "colorbar": {
              "outlinewidth": 0,
              "ticks": ""
             }
            },
            "type": "scattercarpet"
           }
          ],
          "scattergeo": [
           {
            "marker": {
             "colorbar": {
              "outlinewidth": 0,
              "ticks": ""
             }
            },
            "type": "scattergeo"
           }
          ],
          "scattergl": [
           {
            "marker": {
             "colorbar": {
              "outlinewidth": 0,
              "ticks": ""
             }
            },
            "type": "scattergl"
           }
          ],
          "scattermapbox": [
           {
            "marker": {
             "colorbar": {
              "outlinewidth": 0,
              "ticks": ""
             }
            },
            "type": "scattermapbox"
           }
          ],
          "scatterpolar": [
           {
            "marker": {
             "colorbar": {
              "outlinewidth": 0,
              "ticks": ""
             }
            },
            "type": "scatterpolar"
           }
          ],
          "scatterpolargl": [
           {
            "marker": {
             "colorbar": {
              "outlinewidth": 0,
              "ticks": ""
             }
            },
            "type": "scatterpolargl"
           }
          ],
          "scatterternary": [
           {
            "marker": {
             "colorbar": {
              "outlinewidth": 0,
              "ticks": ""
             }
            },
            "type": "scatterternary"
           }
          ],
          "surface": [
           {
            "colorbar": {
             "outlinewidth": 0,
             "ticks": ""
            },
            "colorscale": [
             [
              0,
              "#0d0887"
             ],
             [
              0.1111111111111111,
              "#46039f"
             ],
             [
              0.2222222222222222,
              "#7201a8"
             ],
             [
              0.3333333333333333,
              "#9c179e"
             ],
             [
              0.4444444444444444,
              "#bd3786"
             ],
             [
              0.5555555555555556,
              "#d8576b"
             ],
             [
              0.6666666666666666,
              "#ed7953"
             ],
             [
              0.7777777777777778,
              "#fb9f3a"
             ],
             [
              0.8888888888888888,
              "#fdca26"
             ],
             [
              1,
              "#f0f921"
             ]
            ],
            "type": "surface"
           }
          ],
          "table": [
           {
            "cells": {
             "fill": {
              "color": "#EBF0F8"
             },
             "line": {
              "color": "white"
             }
            },
            "header": {
             "fill": {
              "color": "#C8D4E3"
             },
             "line": {
              "color": "white"
             }
            },
            "type": "table"
           }
          ]
         },
         "layout": {
          "annotationdefaults": {
           "arrowcolor": "#2a3f5f",
           "arrowhead": 0,
           "arrowwidth": 1
          },
          "autotypenumbers": "strict",
          "coloraxis": {
           "colorbar": {
            "outlinewidth": 0,
            "ticks": ""
           }
          },
          "colorscale": {
           "diverging": [
            [
             0,
             "#8e0152"
            ],
            [
             0.1,
             "#c51b7d"
            ],
            [
             0.2,
             "#de77ae"
            ],
            [
             0.3,
             "#f1b6da"
            ],
            [
             0.4,
             "#fde0ef"
            ],
            [
             0.5,
             "#f7f7f7"
            ],
            [
             0.6,
             "#e6f5d0"
            ],
            [
             0.7,
             "#b8e186"
            ],
            [
             0.8,
             "#7fbc41"
            ],
            [
             0.9,
             "#4d9221"
            ],
            [
             1,
             "#276419"
            ]
           ],
           "sequential": [
            [
             0,
             "#0d0887"
            ],
            [
             0.1111111111111111,
             "#46039f"
            ],
            [
             0.2222222222222222,
             "#7201a8"
            ],
            [
             0.3333333333333333,
             "#9c179e"
            ],
            [
             0.4444444444444444,
             "#bd3786"
            ],
            [
             0.5555555555555556,
             "#d8576b"
            ],
            [
             0.6666666666666666,
             "#ed7953"
            ],
            [
             0.7777777777777778,
             "#fb9f3a"
            ],
            [
             0.8888888888888888,
             "#fdca26"
            ],
            [
             1,
             "#f0f921"
            ]
           ],
           "sequentialminus": [
            [
             0,
             "#0d0887"
            ],
            [
             0.1111111111111111,
             "#46039f"
            ],
            [
             0.2222222222222222,
             "#7201a8"
            ],
            [
             0.3333333333333333,
             "#9c179e"
            ],
            [
             0.4444444444444444,
             "#bd3786"
            ],
            [
             0.5555555555555556,
             "#d8576b"
            ],
            [
             0.6666666666666666,
             "#ed7953"
            ],
            [
             0.7777777777777778,
             "#fb9f3a"
            ],
            [
             0.8888888888888888,
             "#fdca26"
            ],
            [
             1,
             "#f0f921"
            ]
           ]
          },
          "colorway": [
           "#636efa",
           "#EF553B",
           "#00cc96",
           "#ab63fa",
           "#FFA15A",
           "#19d3f3",
           "#FF6692",
           "#B6E880",
           "#FF97FF",
           "#FECB52"
          ],
          "font": {
           "color": "#2a3f5f"
          },
          "geo": {
           "bgcolor": "white",
           "lakecolor": "white",
           "landcolor": "#E5ECF6",
           "showlakes": true,
           "showland": true,
           "subunitcolor": "white"
          },
          "hoverlabel": {
           "align": "left"
          },
          "hovermode": "closest",
          "mapbox": {
           "style": "light"
          },
          "paper_bgcolor": "white",
          "plot_bgcolor": "#E5ECF6",
          "polar": {
           "angularaxis": {
            "gridcolor": "white",
            "linecolor": "white",
            "ticks": ""
           },
           "bgcolor": "#E5ECF6",
           "radialaxis": {
            "gridcolor": "white",
            "linecolor": "white",
            "ticks": ""
           }
          },
          "scene": {
           "xaxis": {
            "backgroundcolor": "#E5ECF6",
            "gridcolor": "white",
            "gridwidth": 2,
            "linecolor": "white",
            "showbackground": true,
            "ticks": "",
            "zerolinecolor": "white"
           },
           "yaxis": {
            "backgroundcolor": "#E5ECF6",
            "gridcolor": "white",
            "gridwidth": 2,
            "linecolor": "white",
            "showbackground": true,
            "ticks": "",
            "zerolinecolor": "white"
           },
           "zaxis": {
            "backgroundcolor": "#E5ECF6",
            "gridcolor": "white",
            "gridwidth": 2,
            "linecolor": "white",
            "showbackground": true,
            "ticks": "",
            "zerolinecolor": "white"
           }
          },
          "shapedefaults": {
           "line": {
            "color": "#2a3f5f"
           }
          },
          "ternary": {
           "aaxis": {
            "gridcolor": "white",
            "linecolor": "white",
            "ticks": ""
           },
           "baxis": {
            "gridcolor": "white",
            "linecolor": "white",
            "ticks": ""
           },
           "bgcolor": "#E5ECF6",
           "caxis": {
            "gridcolor": "white",
            "linecolor": "white",
            "ticks": ""
           }
          },
          "title": {
           "x": 0.05
          },
          "xaxis": {
           "automargin": true,
           "gridcolor": "white",
           "linecolor": "white",
           "ticks": "",
           "title": {
            "standoff": 15
           },
           "zerolinecolor": "white",
           "zerolinewidth": 2
          },
          "yaxis": {
           "automargin": true,
           "gridcolor": "white",
           "linecolor": "white",
           "ticks": "",
           "title": {
            "standoff": 15
           },
           "zerolinecolor": "white",
           "zerolinewidth": 2
          }
         }
        },
        "title": {
         "font": {
          "color": "black",
          "family": "Overpass",
          "size": 25
         },
         "text": "<b>Experimental Datas Vs Model<b>",
         "x": 0.45,
         "y": 0.9
        },
        "width": 1100,
        "xaxis": {
         "title": {
          "font": {
           "color": "black",
           "family": "Overpass",
           "size": 25
          },
          "standoff": 25,
          "text": "<b>VGS / V<b>"
         }
        },
        "yaxis": {
         "title": {
          "font": {
           "color": "black",
           "family": "Overpass",
           "size": 25
          },
          "standoff": 10,
          "text": "<b>|ID| / A<b>"
         },
         "type": "log"
        }
       }
      }
     },
     "metadata": {},
     "output_type": "display_data"
    },
    {
     "name": "stdout",
     "output_type": "stream",
     "text": [
      "\n"
     ]
    },
    {
     "data": {
      "application/vnd.plotly.v1+json": {
       "config": {
        "plotlyServerURL": "https://plot.ly"
       },
       "data": [
        {
         "line": {
          "color": "rgb(255, 0, 0)",
          "dash": "dash"
         },
         "mode": "lines+text",
         "name": "<b>Model OVSED<b> <b>-20V<b>",
         "text": [
          "-20V"
         ],
         "textfont": {
          "color": "rgb(255, 0, 0)",
          "family": "Times New Roman",
          "size": 13
         },
         "textposition": "bottom center",
         "type": "scatter",
         "x": [
          -39.564,
          -39.044,
          -38.341,
          -37.808,
          -37.333,
          -36.845,
          -36.163,
          -35.491,
          -34.768,
          -34.143,
          -33.477,
          -32.923,
          -32.378,
          -31.876,
          -31.369,
          -30.726,
          -30.23,
          -29.587,
          -28.912,
          -27.935,
          -27.367,
          -26.657,
          -25.912,
          -25.44,
          -24.773,
          -24.253,
          -23.516,
          -22.587,
          -21.925,
          -21.376,
          -20.685,
          -19.91,
          -19.277,
          -18.648,
          -17.985,
          -17.287,
          -16.563,
          -15.924,
          -15.223,
          -14.464,
          -13.824,
          -12.909,
          -12.477,
          -11.822,
          -11.005,
          -10.32,
          -9.659,
          -9.418,
          -8.608,
          -7.985,
          -7.404,
          -6.949,
          -6.214,
          -5.455,
          -4.469,
          -3.907,
          -3.43,
          -3.003,
          -2.506,
          -1.964,
          -1.572,
          -0.909,
          -0.026,
          -0.026,
          -0.026,
          -0.026,
          -0.026,
          -0.026,
          -0.026,
          -0.026,
          -0.026,
          -0.026,
          -0.026,
          -0.026,
          -0.026,
          -0.026,
          -0.026,
          -0.026
         ],
         "y": [
          -7.245669320772065,
          -7.247276051248686,
          -7.249406354994323,
          -7.2509840942349975,
          -7.252358601259967,
          -7.253735463646544,
          -7.2555905775539316,
          -7.257326009699798,
          -7.259070500249374,
          -7.2604566721895205,
          -7.261786028778338,
          -7.2627559138084266,
          -7.263570143446617,
          -7.264179551614925,
          -7.264639035346188,
          -7.264962572719449,
          -7.264984851626261,
          -7.264671886367738,
          -7.263860427673424,
          -7.261626161187295,
          -7.259636684419085,
          -7.2562934948762,
          -7.251581425423277,
          -7.24785279601633,
          -7.241443657113442,
          -7.235392655666774,
          -7.224980391682274,
          -7.208228507122821,
          -7.193353864463088,
          -7.178850423466575,
          -7.1573905591874905,
          -7.128418674456139,
          -7.100308624185655,
          -7.067834332269218,
          -7.02804344071074,
          -6.979150239885758,
          -6.919807600304748,
          -6.859185041501449,
          -6.782679502840732,
          -6.686622825822495,
          -6.593726347065542,
          -6.4397628431245,
          -6.357608808017321,
          -6.220446221120758,
          -6.026423570419886,
          -5.842537215310989,
          -5.645404937280027,
          -5.5684864828124665,
          -5.289266888362919,
          -5.051891837626228,
          -4.811994519740778,
          -4.611232128960435,
          -4.262275833648201,
          -3.869055275850749,
          -3.3068721599968236,
          -2.959906679725575,
          -2.650080166299029,
          -2.360685420355669,
          -2.0094301803649173,
          -1.6086020513969954,
          -1.3071105419423439,
          -0.7749853054855744,
          -0.022869564698521375,
          -0.022869564698521375,
          -0.022869564698521375,
          -0.022869564698521375,
          -0.022869564698521375,
          -0.022869564698521375,
          -0.022869564698521375,
          -0.022869564698521375,
          -0.022869564698521375,
          -0.022869564698521375,
          -0.022869564698521375,
          -0.022869564698521375,
          -0.022869564698521375,
          -0.022869564698521375,
          -0.022869564698521375,
          -0.022869564698521375
         ]
        },
        {
         "line": {
          "color": "rgb(0, 0, 255)",
          "dash": "dash"
         },
         "mode": "lines+text",
         "name": "<b>Model OVSED<b> <b>-30V<b>",
         "text": [
          "-30V"
         ],
         "textfont": {
          "color": "rgb(0, 0, 255)",
          "family": "Times New Roman",
          "size": 13
         },
         "textposition": "bottom center",
         "type": "scatter",
         "x": [
          -40.017,
          -39.419,
          -38.745,
          -38.311,
          -37.949,
          -37.376,
          -36.784,
          -36.396,
          -35.768,
          -35.283,
          -34.582,
          -33.964,
          -33.367,
          -32.681,
          -31.908,
          -31.406,
          -30.837,
          -30.321,
          -29.852,
          -29.122,
          -28.697,
          -28.089,
          -27.44,
          -26.844,
          -26.025,
          -25.186,
          -24.467,
          -23.932,
          -23.176,
          -22.338,
          -21.454,
          -20.724,
          -20.084,
          -19.352,
          -18.738,
          -17.887,
          -17.312,
          -16.586,
          -15.807,
          -15.203,
          -14.453,
          -13.801,
          -13.292,
          -12.835,
          -12.425,
          -11.972,
          -11.539,
          -10.896,
          -10.436,
          -10.025,
          -9.447,
          -8.851,
          -8.461,
          -7.971,
          -7.459,
          -6.975,
          -6.504,
          -5.983,
          -5.507,
          -5.011,
          -4.532,
          -4.032,
          -3.529,
          -2.993,
          -2.544,
          -1.999,
          -1.636,
          -1.059,
          -0.762,
          -0.499,
          -0.055,
          -0.055,
          -0.055,
          -0.055,
          -0.055,
          -0.055,
          -0.055,
          -0.055
         ],
         "y": [
          -21.463148789095907,
          -21.45601775245136,
          -21.44650927412719,
          -21.43947480438768,
          -21.43301234277808,
          -21.421585465494974,
          -21.408096245878642,
          -21.398241590581076,
          -21.380428480795807,
          -21.36495741232101,
          -21.33967714294951,
          -21.314231221294285,
          -21.286533687927488,
          -21.25052410225716,
          -21.203979719044337,
          -21.170009156690746,
          -21.12759510981973,
          -21.085247818870315,
          -21.04330295272696,
          -20.970914631257674,
          -20.924477136289994,
          -20.852095040186818,
          -20.766509332056483,
          -20.679718569408838,
          -20.546516229177293,
          -20.39176701970792,
          -20.24303889307853,
          -20.121972297029437,
          -19.934696328464216,
          -19.703369354861103,
          -19.430209494931123,
          -19.180507372672718,
          -18.9425786475085,
          -18.647582157278745,
          -18.380513065936704,
          -17.979473974174137,
          -17.68746443260741,
          -17.29372778956203,
          -16.83929193511104,
          -16.463616829946215,
          -15.968183453159561,
          -15.511007684348217,
          -15.136769897751318,
          -14.787707821694628,
          -14.46397188653285,
          -14.09460640337479,
          -13.730055382921744,
          -13.167929681267726,
          -12.750541846920374,
          -12.36686372084148,
          -11.810147524347288,
          -11.215178224366094,
          -10.814404720773608,
          -10.298094212967953,
          -9.743486749954618,
          -9.205100415531524,
          -8.668107084931682,
          -8.059215931187206,
          -7.489362686170262,
          -6.881930545451513,
          -6.282241471341057,
          -5.642703782285807,
          -4.985515341534127,
          -4.270152632029605,
          -3.6590941933083716,
          -2.903115803430186,
          -2.391016934100864,
          -1.5631040412023616,
          -1.1303707659660576,
          -0.7434823859861623,
          -0.08250437782360832,
          -0.08250437782360832,
          -0.08250437782360832,
          -0.08250437782360832,
          -0.08250437782360832,
          -0.08250437782360832,
          -0.08250437782360832,
          -0.08250437782360832
         ]
        },
        {
         "line": {
          "color": "rgb(30, 144, 255)",
          "dash": "dash"
         },
         "mode": "lines+text",
         "name": "<b>Model OVSED<b> <b>-40V<b>",
         "text": [
          "-40V"
         ],
         "textfont": {
          "color": "rgb(30, 144, 255)",
          "family": "Times New Roman",
          "size": 13
         },
         "textposition": "bottom center",
         "type": "scatter",
         "x": [
          -39.986,
          -39.372,
          -38.549,
          -37.921,
          -37.898,
          -37.851,
          -37.779,
          -37.755,
          -37.605,
          -37.509,
          -37.462,
          -37.438,
          -37.365,
          -37.341,
          -37.319,
          -36.529,
          -35.713,
          -35.004,
          -34.31,
          -33.641,
          -32.986,
          -32.44,
          -31.329,
          -30.418,
          -29.784,
          -29.127,
          -28.322,
          -27.77,
          -27.032,
          -26.386,
          -25.806,
          -25.136,
          -24.381,
          -23.809,
          -23.371,
          -22.514,
          -21.908,
          -21.325,
          -20.593,
          -19.964,
          -19.468,
          -18.966,
          -18.471,
          -17.983,
          -16.985,
          -16.008,
          -15.515,
          -14.987,
          -14.469,
          -13.989,
          -13.474,
          -13.009,
          -12.459,
          -11.969,
          -11.462,
          -11.032,
          -10.412,
          -9.988,
          -9.485,
          -9.022,
          -8.451,
          -7.957,
          -7.487,
          -7.031,
          -6.466,
          -5.987,
          -5.494,
          -5.042,
          -4.494,
          -3.936,
          -3.504,
          -3.03,
          -2.474,
          -1.981,
          -1.54,
          -1.076,
          -0.648,
          -0.055
         ],
         "y": [
          -40.4864032222497,
          -40.38386339819805,
          -40.232699858133444,
          -40.10602629449044,
          -40.10119179979676,
          -40.09126877172849,
          -40.07595284746121,
          -40.070816559919734,
          -40.038361118036455,
          -40.01726695332935,
          -40.006846933955124,
          -40.00150245772721,
          -39.98514777515057,
          -39.979738367525655,
          -39.974765553358125,
          -39.786971358193846,
          -39.573227706235876,
          -39.3701090837754,
          -39.15466870653467,
          -38.93059984975266,
          -38.69487621271161,
          -38.48550035958022,
          -38.02154874239902,
          -37.60131175069788,
          -37.28671476241354,
          -36.940887592676255,
          -36.4888710355567,
          -36.160471052914,
          -35.69744381682247,
          -35.26922168833474,
          -34.866236975356664,
          -34.37863879973228,
          -33.80050527034373,
          -33.34209891086149,
          -32.979123504524765,
          -32.23880285952958,
          -31.69120218887354,
          -31.145532353883038,
          -30.434269152347674,
          -29.799926440839894,
          -29.284688755767615,
          -28.74980142006951,
          -28.209233943321717,
          -27.6636252002841,
          -26.50899240333032,
          -25.328879186203423,
          -24.714994644549854,
          -24.04404364391733,
          -23.372408132041087,
          -22.73834948277912,
          -22.04570889199046,
          -21.409474486465342,
          -20.643844380705413,
          -19.949953469237013,
          -19.220475615161032,
          -18.592740134199584,
          -17.67324994701254,
          -17.03480853372504,
          -16.267437851782137,
          -15.551668903252397,
          -14.656714456755548,
          -13.871741797998428,
          -13.115850923560231,
          -12.374178114423835,
          -11.44408463584007,
          -10.646085065799653,
          -9.81585055803868,
          -9.046858774697485,
          -8.104717457626082,
          -7.134538577613725,
          -6.376064692926046,
          -5.536592376912967,
          -4.542400889079003,
          -3.652458987572825,
          -2.8498261312993796,
          -1.9987707583593393,
          -1.2078816525962008,
          -0.10296770405836563
         ]
        },
        {
         "marker": {
          "color": "rgb(255, 0, 0)",
          "line": {
           "color": "MediumPurple",
           "width": 0.8
          },
          "opacity": 0.5,
          "size": 11
         },
         "mode": "markers+text",
         "name": "<b>Exp <b> <b>-25V<b> <b> (-5V)<b>",
         "text": [
          "<b>VGS<b>=-20V  (-5)"
         ],
         "textfont": {
          "color": "rgb(255, 0, 0)",
          "family": "Times New Roman",
          "size": 18
         },
         "textposition": "top right",
         "type": "scatter",
         "x": [
          -39.564,
          -39.044,
          -38.341,
          -37.808,
          -37.333,
          -36.845,
          -36.163,
          -35.491,
          -34.768,
          -34.143,
          -33.477,
          -32.923,
          -32.378,
          -31.876,
          -31.369,
          -30.726,
          -30.23,
          -29.587,
          -28.912,
          -27.935,
          -27.367,
          -26.657,
          -25.912,
          -25.44,
          -24.773,
          -24.253,
          -23.516,
          -22.587,
          -21.925,
          -21.376,
          -20.685,
          -19.91,
          -19.277,
          -18.648,
          -17.985,
          -17.287,
          -16.563,
          -15.924,
          -15.223,
          -14.464,
          -13.824,
          -12.909,
          -12.477,
          -11.822,
          -11.005,
          -10.32,
          -9.659,
          -9.418,
          -8.608,
          -7.985,
          -7.404,
          -6.949,
          -6.214,
          -5.455,
          -4.469,
          -3.907,
          -3.43,
          -3.003,
          -2.506,
          -1.964,
          -1.572,
          -0.909,
          -0.026,
          -0.026,
          -0.026,
          -0.026,
          -0.026,
          -0.026,
          -0.026,
          -0.026,
          -0.026,
          -0.026,
          -0.026,
          -0.026,
          -0.026,
          -0.026,
          -0.026,
          -0.026
         ],
         "y": [
          -3.55,
          -3.571,
          -3.571,
          -3.539,
          -3.556,
          -3.557,
          -3.484,
          -3.56,
          -3.578,
          -3.563,
          -3.564,
          -3.564,
          -3.565,
          -3.602,
          -3.618,
          -3.553,
          -3.587,
          -3.586,
          -3.573,
          -3.51,
          -3.533,
          -3.571,
          -3.542,
          -3.542,
          -3.562,
          -3.562,
          -3.548,
          -3.535,
          -3.554,
          -3.555,
          -3.556,
          -3.523,
          -3.524,
          -3.541,
          -3.528,
          -3.563,
          -3.563,
          -3.535,
          -3.486,
          -3.452,
          -3.453,
          -3.404,
          -3.388,
          -3.324,
          -3.238,
          -3.255,
          -3.14,
          -3.073,
          -2.971,
          -2.818,
          -2.713,
          -2.528,
          -2.447,
          -2.165,
          -1.825,
          -1.634,
          -1.497,
          -1.279,
          -1.08,
          -0.871,
          -0.678,
          -0.403,
          -0.016,
          -0.016,
          -0.016,
          -0.016,
          -0.016,
          -0.016,
          -0.016,
          -0.016,
          -0.016,
          -0.016,
          -0.016,
          -0.016,
          -0.016,
          -0.016,
          -0.016,
          -0.016
         ]
        },
        {
         "marker": {
          "color": "rgb(0, 0, 255)",
          "line": {
           "color": "MediumPurple",
           "width": 0.8
          },
          "opacity": 0.5,
          "size": 11
         },
         "mode": "markers+text",
         "name": "<b>Exp <b> <b>-35V<b> <b> (-5V)<b>",
         "text": [
          "<b>VGS<b>=-30V  (-5)"
         ],
         "textfont": {
          "color": "rgb(0, 0, 255)",
          "family": "Times New Roman",
          "size": 18
         },
         "textposition": "top right",
         "type": "scatter",
         "x": [
          -40.017,
          -39.419,
          -38.745,
          -38.311,
          -37.949,
          -37.376,
          -36.784,
          -36.396,
          -35.768,
          -35.283,
          -34.582,
          -33.964,
          -33.367,
          -32.681,
          -31.908,
          -31.406,
          -30.837,
          -30.321,
          -29.852,
          -29.122,
          -28.697,
          -28.089,
          -27.44,
          -26.844,
          -26.025,
          -25.186,
          -24.467,
          -23.932,
          -23.176,
          -22.338,
          -21.454,
          -20.724,
          -20.084,
          -19.352,
          -18.738,
          -17.887,
          -17.312,
          -16.586,
          -15.807,
          -15.203,
          -14.453,
          -13.801,
          -13.292,
          -12.835,
          -12.425,
          -11.972,
          -11.539,
          -10.896,
          -10.436,
          -10.025,
          -9.447,
          -8.851,
          -8.461,
          -7.971,
          -7.459,
          -6.975,
          -6.504,
          -5.983,
          -5.507,
          -5.011,
          -4.532,
          -4.032,
          -3.529,
          -2.993,
          -2.544,
          -1.999,
          -1.636,
          -1.059,
          -0.762,
          -0.499,
          -0.055,
          -0.055,
          -0.055,
          -0.055,
          -0.055,
          -0.055,
          -0.055,
          -0.055
         ],
         "y": [
          -11.498,
          -11.447,
          -11.416,
          -11.434,
          -11.39,
          -11.409,
          -11.41,
          -11.41,
          -11.411,
          -11.394,
          -11.395,
          -11.379,
          -11.379,
          -11.347,
          -11.309,
          -11.31,
          -11.278,
          -11.279,
          -11.279,
          -11.297,
          -11.264,
          -11.265,
          -11.25,
          -11.202,
          -11.17,
          -11.189,
          -11.093,
          -11.061,
          -11.064,
          -11,
          -10.883,
          -10.863,
          -10.746,
          -10.679,
          -10.537,
          -10.398,
          -10.296,
          -10.093,
          -9.88,
          -9.687,
          -9.392,
          -9.155,
          -8.951,
          -8.738,
          -8.518,
          -8.335,
          -8.105,
          -7.812,
          -7.587,
          -7.349,
          -7.083,
          -6.719,
          -6.469,
          -6.149,
          -5.833,
          -5.554,
          -5.165,
          -4.816,
          -4.496,
          -4.145,
          -3.71,
          -3.361,
          -2.986,
          -2.549,
          -2.108,
          -1.775,
          -1.386,
          -1.079,
          -0.723,
          -0.41,
          -0.015,
          -0.015,
          -0.015,
          -0.015,
          -0.015,
          -0.015,
          -0.015,
          -0.015
         ]
        },
        {
         "marker": {
          "color": "rgb(30, 144, 255)",
          "line": {
           "color": "MediumPurple",
           "width": 0.8
          },
          "opacity": 0.5,
          "size": 11
         },
         "mode": "markers+text",
         "name": "<b>Exp <b> <b>-45V<b> <b> (-5V)<b>",
         "text": [
          "<b>VGS<b>=-40V  (-5)"
         ],
         "textfont": {
          "color": "rgb(30, 144, 255)",
          "family": "Times New Roman",
          "size": 18
         },
         "textposition": "top right",
         "type": "scatter",
         "x": [
          -39.986,
          -39.372,
          -38.549,
          -37.921,
          -37.898,
          -37.851,
          -37.779,
          -37.755,
          -37.605,
          -37.509,
          -37.462,
          -37.438,
          -37.365,
          -37.341,
          -37.319,
          -36.529,
          -35.713,
          -35.004,
          -34.31,
          -33.641,
          -32.986,
          -32.44,
          -31.329,
          -30.418,
          -29.784,
          -29.127,
          -28.322,
          -27.77,
          -27.032,
          -26.386,
          -25.806,
          -25.136,
          -24.381,
          -23.809,
          -23.371,
          -22.514,
          -21.908,
          -21.325,
          -20.593,
          -19.964,
          -19.468,
          -18.966,
          -18.471,
          -17.983,
          -16.985,
          -16.008,
          -15.515,
          -14.987,
          -14.469,
          -13.989,
          -13.474,
          -13.009,
          -12.459,
          -11.969,
          -11.462,
          -11.032,
          -10.412,
          -9.988,
          -9.485,
          -9.022,
          -8.451,
          -7.957,
          -7.487,
          -7.031,
          -6.466,
          -5.987,
          -5.494,
          -5.042,
          -4.494,
          -3.936,
          -3.504,
          -3.03,
          -2.474,
          -1.981,
          -1.54,
          -1.076,
          -0.648,
          -0.055
         ],
         "y": [
          -23.363,
          -23.4,
          -23.266,
          -23.266,
          -23.266,
          -23.266,
          -23.267,
          -23.267,
          -23.267,
          -23.267,
          -23.267,
          -23.267,
          -23.285,
          -23.285,
          -23.285,
          -23.185,
          -23.173,
          -23.038,
          -23.038,
          -22.975,
          -22.936,
          -22.865,
          -22.748,
          -22.68,
          -22.582,
          -22.463,
          -22.321,
          -22.184,
          -22.02,
          -21.835,
          -21.627,
          -21.467,
          -21.203,
          -20.996,
          -20.742,
          -20.339,
          -20.099,
          -19.801,
          -19.487,
          -19.058,
          -18.782,
          -18.453,
          -18.16,
          -17.87,
          -17.28,
          -16.636,
          -16.213,
          -15.772,
          -15.371,
          -15.012,
          -14.607,
          -14.168,
          -13.708,
          -13.264,
          -12.819,
          -12.333,
          -11.981,
          -11.435,
          -10.955,
          -10.447,
          -9.94,
          -9.368,
          -8.903,
          -8.412,
          -7.825,
          -7.214,
          -6.673,
          -6.104,
          -5.535,
          -4.966,
          -4.308,
          -3.8,
          -3.134,
          -2.447,
          -1.896,
          -1.273,
          -0.697,
          -0.021
         ]
        }
       ],
       "layout": {
        "height": 600,
        "legend": {
         "font": {
          "size": 16
         }
        },
        "template": {
         "data": {
          "bar": [
           {
            "error_x": {
             "color": "#2a3f5f"
            },
            "error_y": {
             "color": "#2a3f5f"
            },
            "marker": {
             "line": {
              "color": "#E5ECF6",
              "width": 0.5
             },
             "pattern": {
              "fillmode": "overlay",
              "size": 10,
              "solidity": 0.2
             }
            },
            "type": "bar"
           }
          ],
          "barpolar": [
           {
            "marker": {
             "line": {
              "color": "#E5ECF6",
              "width": 0.5
             },
             "pattern": {
              "fillmode": "overlay",
              "size": 10,
              "solidity": 0.2
             }
            },
            "type": "barpolar"
           }
          ],
          "carpet": [
           {
            "aaxis": {
             "endlinecolor": "#2a3f5f",
             "gridcolor": "white",
             "linecolor": "white",
             "minorgridcolor": "white",
             "startlinecolor": "#2a3f5f"
            },
            "baxis": {
             "endlinecolor": "#2a3f5f",
             "gridcolor": "white",
             "linecolor": "white",
             "minorgridcolor": "white",
             "startlinecolor": "#2a3f5f"
            },
            "type": "carpet"
           }
          ],
          "choropleth": [
           {
            "colorbar": {
             "outlinewidth": 0,
             "ticks": ""
            },
            "type": "choropleth"
           }
          ],
          "contour": [
           {
            "colorbar": {
             "outlinewidth": 0,
             "ticks": ""
            },
            "colorscale": [
             [
              0,
              "#0d0887"
             ],
             [
              0.1111111111111111,
              "#46039f"
             ],
             [
              0.2222222222222222,
              "#7201a8"
             ],
             [
              0.3333333333333333,
              "#9c179e"
             ],
             [
              0.4444444444444444,
              "#bd3786"
             ],
             [
              0.5555555555555556,
              "#d8576b"
             ],
             [
              0.6666666666666666,
              "#ed7953"
             ],
             [
              0.7777777777777778,
              "#fb9f3a"
             ],
             [
              0.8888888888888888,
              "#fdca26"
             ],
             [
              1,
              "#f0f921"
             ]
            ],
            "type": "contour"
           }
          ],
          "contourcarpet": [
           {
            "colorbar": {
             "outlinewidth": 0,
             "ticks": ""
            },
            "type": "contourcarpet"
           }
          ],
          "heatmap": [
           {
            "colorbar": {
             "outlinewidth": 0,
             "ticks": ""
            },
            "colorscale": [
             [
              0,
              "#0d0887"
             ],
             [
              0.1111111111111111,
              "#46039f"
             ],
             [
              0.2222222222222222,
              "#7201a8"
             ],
             [
              0.3333333333333333,
              "#9c179e"
             ],
             [
              0.4444444444444444,
              "#bd3786"
             ],
             [
              0.5555555555555556,
              "#d8576b"
             ],
             [
              0.6666666666666666,
              "#ed7953"
             ],
             [
              0.7777777777777778,
              "#fb9f3a"
             ],
             [
              0.8888888888888888,
              "#fdca26"
             ],
             [
              1,
              "#f0f921"
             ]
            ],
            "type": "heatmap"
           }
          ],
          "heatmapgl": [
           {
            "colorbar": {
             "outlinewidth": 0,
             "ticks": ""
            },
            "colorscale": [
             [
              0,
              "#0d0887"
             ],
             [
              0.1111111111111111,
              "#46039f"
             ],
             [
              0.2222222222222222,
              "#7201a8"
             ],
             [
              0.3333333333333333,
              "#9c179e"
             ],
             [
              0.4444444444444444,
              "#bd3786"
             ],
             [
              0.5555555555555556,
              "#d8576b"
             ],
             [
              0.6666666666666666,
              "#ed7953"
             ],
             [
              0.7777777777777778,
              "#fb9f3a"
             ],
             [
              0.8888888888888888,
              "#fdca26"
             ],
             [
              1,
              "#f0f921"
             ]
            ],
            "type": "heatmapgl"
           }
          ],
          "histogram": [
           {
            "marker": {
             "pattern": {
              "fillmode": "overlay",
              "size": 10,
              "solidity": 0.2
             }
            },
            "type": "histogram"
           }
          ],
          "histogram2d": [
           {
            "colorbar": {
             "outlinewidth": 0,
             "ticks": ""
            },
            "colorscale": [
             [
              0,
              "#0d0887"
             ],
             [
              0.1111111111111111,
              "#46039f"
             ],
             [
              0.2222222222222222,
              "#7201a8"
             ],
             [
              0.3333333333333333,
              "#9c179e"
             ],
             [
              0.4444444444444444,
              "#bd3786"
             ],
             [
              0.5555555555555556,
              "#d8576b"
             ],
             [
              0.6666666666666666,
              "#ed7953"
             ],
             [
              0.7777777777777778,
              "#fb9f3a"
             ],
             [
              0.8888888888888888,
              "#fdca26"
             ],
             [
              1,
              "#f0f921"
             ]
            ],
            "type": "histogram2d"
           }
          ],
          "histogram2dcontour": [
           {
            "colorbar": {
             "outlinewidth": 0,
             "ticks": ""
            },
            "colorscale": [
             [
              0,
              "#0d0887"
             ],
             [
              0.1111111111111111,
              "#46039f"
             ],
             [
              0.2222222222222222,
              "#7201a8"
             ],
             [
              0.3333333333333333,
              "#9c179e"
             ],
             [
              0.4444444444444444,
              "#bd3786"
             ],
             [
              0.5555555555555556,
              "#d8576b"
             ],
             [
              0.6666666666666666,
              "#ed7953"
             ],
             [
              0.7777777777777778,
              "#fb9f3a"
             ],
             [
              0.8888888888888888,
              "#fdca26"
             ],
             [
              1,
              "#f0f921"
             ]
            ],
            "type": "histogram2dcontour"
           }
          ],
          "mesh3d": [
           {
            "colorbar": {
             "outlinewidth": 0,
             "ticks": ""
            },
            "type": "mesh3d"
           }
          ],
          "parcoords": [
           {
            "line": {
             "colorbar": {
              "outlinewidth": 0,
              "ticks": ""
             }
            },
            "type": "parcoords"
           }
          ],
          "pie": [
           {
            "automargin": true,
            "type": "pie"
           }
          ],
          "scatter": [
           {
            "fillpattern": {
             "fillmode": "overlay",
             "size": 10,
             "solidity": 0.2
            },
            "type": "scatter"
           }
          ],
          "scatter3d": [
           {
            "line": {
             "colorbar": {
              "outlinewidth": 0,
              "ticks": ""
             }
            },
            "marker": {
             "colorbar": {
              "outlinewidth": 0,
              "ticks": ""
             }
            },
            "type": "scatter3d"
           }
          ],
          "scattercarpet": [
           {
            "marker": {
             "colorbar": {
              "outlinewidth": 0,
              "ticks": ""
             }
            },
            "type": "scattercarpet"
           }
          ],
          "scattergeo": [
           {
            "marker": {
             "colorbar": {
              "outlinewidth": 0,
              "ticks": ""
             }
            },
            "type": "scattergeo"
           }
          ],
          "scattergl": [
           {
            "marker": {
             "colorbar": {
              "outlinewidth": 0,
              "ticks": ""
             }
            },
            "type": "scattergl"
           }
          ],
          "scattermapbox": [
           {
            "marker": {
             "colorbar": {
              "outlinewidth": 0,
              "ticks": ""
             }
            },
            "type": "scattermapbox"
           }
          ],
          "scatterpolar": [
           {
            "marker": {
             "colorbar": {
              "outlinewidth": 0,
              "ticks": ""
             }
            },
            "type": "scatterpolar"
           }
          ],
          "scatterpolargl": [
           {
            "marker": {
             "colorbar": {
              "outlinewidth": 0,
              "ticks": ""
             }
            },
            "type": "scatterpolargl"
           }
          ],
          "scatterternary": [
           {
            "marker": {
             "colorbar": {
              "outlinewidth": 0,
              "ticks": ""
             }
            },
            "type": "scatterternary"
           }
          ],
          "surface": [
           {
            "colorbar": {
             "outlinewidth": 0,
             "ticks": ""
            },
            "colorscale": [
             [
              0,
              "#0d0887"
             ],
             [
              0.1111111111111111,
              "#46039f"
             ],
             [
              0.2222222222222222,
              "#7201a8"
             ],
             [
              0.3333333333333333,
              "#9c179e"
             ],
             [
              0.4444444444444444,
              "#bd3786"
             ],
             [
              0.5555555555555556,
              "#d8576b"
             ],
             [
              0.6666666666666666,
              "#ed7953"
             ],
             [
              0.7777777777777778,
              "#fb9f3a"
             ],
             [
              0.8888888888888888,
              "#fdca26"
             ],
             [
              1,
              "#f0f921"
             ]
            ],
            "type": "surface"
           }
          ],
          "table": [
           {
            "cells": {
             "fill": {
              "color": "#EBF0F8"
             },
             "line": {
              "color": "white"
             }
            },
            "header": {
             "fill": {
              "color": "#C8D4E3"
             },
             "line": {
              "color": "white"
             }
            },
            "type": "table"
           }
          ]
         },
         "layout": {
          "annotationdefaults": {
           "arrowcolor": "#2a3f5f",
           "arrowhead": 0,
           "arrowwidth": 1
          },
          "autotypenumbers": "strict",
          "coloraxis": {
           "colorbar": {
            "outlinewidth": 0,
            "ticks": ""
           }
          },
          "colorscale": {
           "diverging": [
            [
             0,
             "#8e0152"
            ],
            [
             0.1,
             "#c51b7d"
            ],
            [
             0.2,
             "#de77ae"
            ],
            [
             0.3,
             "#f1b6da"
            ],
            [
             0.4,
             "#fde0ef"
            ],
            [
             0.5,
             "#f7f7f7"
            ],
            [
             0.6,
             "#e6f5d0"
            ],
            [
             0.7,
             "#b8e186"
            ],
            [
             0.8,
             "#7fbc41"
            ],
            [
             0.9,
             "#4d9221"
            ],
            [
             1,
             "#276419"
            ]
           ],
           "sequential": [
            [
             0,
             "#0d0887"
            ],
            [
             0.1111111111111111,
             "#46039f"
            ],
            [
             0.2222222222222222,
             "#7201a8"
            ],
            [
             0.3333333333333333,
             "#9c179e"
            ],
            [
             0.4444444444444444,
             "#bd3786"
            ],
            [
             0.5555555555555556,
             "#d8576b"
            ],
            [
             0.6666666666666666,
             "#ed7953"
            ],
            [
             0.7777777777777778,
             "#fb9f3a"
            ],
            [
             0.8888888888888888,
             "#fdca26"
            ],
            [
             1,
             "#f0f921"
            ]
           ],
           "sequentialminus": [
            [
             0,
             "#0d0887"
            ],
            [
             0.1111111111111111,
             "#46039f"
            ],
            [
             0.2222222222222222,
             "#7201a8"
            ],
            [
             0.3333333333333333,
             "#9c179e"
            ],
            [
             0.4444444444444444,
             "#bd3786"
            ],
            [
             0.5555555555555556,
             "#d8576b"
            ],
            [
             0.6666666666666666,
             "#ed7953"
            ],
            [
             0.7777777777777778,
             "#fb9f3a"
            ],
            [
             0.8888888888888888,
             "#fdca26"
            ],
            [
             1,
             "#f0f921"
            ]
           ]
          },
          "colorway": [
           "#636efa",
           "#EF553B",
           "#00cc96",
           "#ab63fa",
           "#FFA15A",
           "#19d3f3",
           "#FF6692",
           "#B6E880",
           "#FF97FF",
           "#FECB52"
          ],
          "font": {
           "color": "#2a3f5f"
          },
          "geo": {
           "bgcolor": "white",
           "lakecolor": "white",
           "landcolor": "#E5ECF6",
           "showlakes": true,
           "showland": true,
           "subunitcolor": "white"
          },
          "hoverlabel": {
           "align": "left"
          },
          "hovermode": "closest",
          "mapbox": {
           "style": "light"
          },
          "paper_bgcolor": "white",
          "plot_bgcolor": "#E5ECF6",
          "polar": {
           "angularaxis": {
            "gridcolor": "white",
            "linecolor": "white",
            "ticks": ""
           },
           "bgcolor": "#E5ECF6",
           "radialaxis": {
            "gridcolor": "white",
            "linecolor": "white",
            "ticks": ""
           }
          },
          "scene": {
           "xaxis": {
            "backgroundcolor": "#E5ECF6",
            "gridcolor": "white",
            "gridwidth": 2,
            "linecolor": "white",
            "showbackground": true,
            "ticks": "",
            "zerolinecolor": "white"
           },
           "yaxis": {
            "backgroundcolor": "#E5ECF6",
            "gridcolor": "white",
            "gridwidth": 2,
            "linecolor": "white",
            "showbackground": true,
            "ticks": "",
            "zerolinecolor": "white"
           },
           "zaxis": {
            "backgroundcolor": "#E5ECF6",
            "gridcolor": "white",
            "gridwidth": 2,
            "linecolor": "white",
            "showbackground": true,
            "ticks": "",
            "zerolinecolor": "white"
           }
          },
          "shapedefaults": {
           "line": {
            "color": "#2a3f5f"
           }
          },
          "ternary": {
           "aaxis": {
            "gridcolor": "white",
            "linecolor": "white",
            "ticks": ""
           },
           "baxis": {
            "gridcolor": "white",
            "linecolor": "white",
            "ticks": ""
           },
           "bgcolor": "#E5ECF6",
           "caxis": {
            "gridcolor": "white",
            "linecolor": "white",
            "ticks": ""
           }
          },
          "title": {
           "x": 0.05
          },
          "xaxis": {
           "automargin": true,
           "gridcolor": "white",
           "linecolor": "white",
           "ticks": "",
           "title": {
            "standoff": 15
           },
           "zerolinecolor": "white",
           "zerolinewidth": 2
          },
          "yaxis": {
           "automargin": true,
           "gridcolor": "white",
           "linecolor": "white",
           "ticks": "",
           "title": {
            "standoff": 15
           },
           "zerolinecolor": "white",
           "zerolinewidth": 2
          }
         }
        },
        "title": {
         "font": {
          "color": "black",
          "family": "Overpass",
          "size": 25
         },
         "text": "<b>Experimental Datas Vs Model<b>",
         "x": 0.45,
         "y": 0.9
        },
        "width": 1100,
        "xaxis": {
         "title": {
          "font": {
           "color": "black",
           "family": "Overpass",
           "size": 25
          },
          "standoff": 25,
          "text": "<b>VDS / V<b>"
         }
        },
        "yaxis": {
         "title": {
          "font": {
           "color": "black",
           "family": "Overpass",
           "size": 25
          },
          "standoff": 10,
          "text": "<b>ID / uA<b>"
         },
         "type": "linear"
        }
       }
      }
     },
     "metadata": {},
     "output_type": "display_data"
    },
    {
     "name": "stdout",
     "output_type": "stream",
     "text": [
      "\n",
      "\n",
      "\n",
      "\n",
      "\n",
      "\n",
      "**************************************************************************************************************************************************\n",
      "\n",
      "|RELATIVE ERROR BETWEEN CURVES: 35858.5568\n",
      "\n",
      "**************************************************************************************************************************************************\n"
     ]
    }
   ],
   "source": [
    "# @title ##### ***GRAFICS PLOT OPTION:*** { run: \"auto\" }\n",
    "option = 'show both curves' # @param [\"Show Transfer curve\", \"Show output curve\", \"show both curves\"]\n",
    "\n",
    "plot = initialize_graphics_plot(settings['image_size_width'], settings['image_size_height'])\n",
    "model = instance_model(read, TFTModel, n_points, type_curve_plot, load_parameters, input_voltage, Vv, load_idleak, width_t, count_transfer, tp_tst, settings['experimental_data_scale_transfer'], settings['current_typic'], resistance, current)\n",
    "in_model_data, in_exp_data, out_model_data, out_exp_data = load_experimental_data(read, count_transfer, Vv, Id, model, count_output)\n",
    "plot_curves(option, plot, list_tension, list_tension_shift, count_transfer, in_model_data, out_model_data, in_exp_data, out_exp_data, shift_list, settings['select_files'], settings['current_typic'], type_curve_plot)\n",
    "read.compute_relative_distance(Id, model)\n"
   ]
  },
  {
   "cell_type": "markdown",
   "metadata": {
    "id": "vUMiE-AQVQYh"
   },
   "source": [
    "### **Model Optimization** ⚡"
   ]
  },
  {
   "cell_type": "markdown",
   "metadata": {
    "id": "hPKJt-uDVKbe"
   },
   "source": [
    "This optimization section focuses on estimating the optimal parameters for a MOSFET transistor given a sequence of input voltage $V$ [V] and current $I$ [mA], using the mathematical model introduced in section [5]. The goal here is to estimate these optimal parameters using the `curve_fit` function, as also introduced in section [4] (for more details, refer to that section). The parameters in question are listed below:\n",
    "\n",
    "- $V_{tho}$: Gate threshold voltage of the transistor.\n",
    "- $\\Delta$: Channel modulation coefficient.\n",
    "- $N$: Number of transistor channels.\n",
    "- $L$: Channel length of the transistor.\n",
    "- $\\Lambda$: Channel modulation length.\n",
    "- $V_{crit}$: Transistor breakdown voltage.\n",
    "- $J_{th}$: Transistor saturation current.\n",
    "- $R_s$: Transistor series resistance.\n",
    "\n"
   ]
  },
  {
   "cell_type": "code",
   "execution_count": 6,
   "metadata": {
    "cellView": "form",
    "colab": {
     "base_uri": "https://localhost:8080/"
    },
    "executionInfo": {
     "elapsed": 99499,
     "status": "ok",
     "timestamp": 1730290119901,
     "user": {
      "displayName": "Rodrigo Santos Batista",
      "userId": "10844009603124520931"
     },
     "user_tz": 180
    },
    "id": "R3wX-9nPVZLQ",
    "outputId": "880cb966-b46f-4637-be60-39b090dd3952"
   },
   "outputs": [
    {
     "name": "stdout",
     "output_type": "stream",
     "text": [
      "\n",
      "----------------------------------------------------------------------------------------------------\n",
      "TRUST REGION REFLECTIVE (TRF) MODE\n",
      "----------------------------------------------------------------------------------------------------\n",
      "\n",
      "\n",
      "\n",
      "\n",
      "\n",
      "********************************************************************************************************************************************************************************************************\n",
      "`xtol` termination condition is satisfied.\n",
      "function evaluations 259, initial cost 1.5401e+04, final cost 1.6030e+00, first-order optimality 2.45e-02.\n",
      "\n",
      "********************************************************************************************************************************************************************************************************\n",
      "\n",
      "\n",
      "\n",
      "\n"
     ]
    }
   ],
   "source": [
    "# @title #### **OPTIMIZING THE MODEL.** { run: \"auto\" }\n",
    "lw_bounds, up_bounds = get_bounds(settings['lower_bounds'], settings['upper_bounds'])\n",
    "tolerance_factor = get_tolerance_factor(settings['tolerance_factor'])\n",
    "tlr_factor = get_tolerance_factor(tolerance_factor)\n",
    "lw_bounds, up_bounds = configure_bounds(settings['default_bounds'], lw_bounds, up_bounds)\n",
    "\n",
    "model_id = create_model_opt(TFTModel, input_voltage, n_points, type_curve_plot, settings['current_typic'],\n",
    "                            settings['experimental_data_scale_transfer'], load_idleak, mode_idleak, count_transfer,\n",
    "                            resistance, current)\n",
    "\n",
    "optimizer = create_optimizer(settings['current_typic'], settings['experimental_data_scale_transfer'], settings['experimental_data_scale_output'],\n",
    "                             settings['type_read_data_exp'], path_voltages, type_curve_plot, settings['optimization_method'], (lw_bounds, up_bounds))\n",
    "\n",
    "configure_optimizer(optimizer, settings['default_bounds'], tlr_factor)\n",
    "\n",
    "coeff_opt, coeff_error, text_verbose = optimize_model(optimizer, model_id, load_parameters, *path_voltages)\n",
    "\n",
    "# Exibição dos resultados\n",
    "print('\\n\\n\\n')\n",
    "print('*' * 200)\n",
    "print(text_verbose.capitalize())\n",
    "print('*' * 200)\n",
    "print('\\n\\n\\n')"
   ]
  },
  {
   "cell_type": "code",
   "execution_count": 7,
   "metadata": {
    "cellView": "form",
    "colab": {
     "base_uri": "https://localhost:8080/"
    },
    "executionInfo": {
     "elapsed": 17,
     "status": "ok",
     "timestamp": 1730290119902,
     "user": {
      "displayName": "Rodrigo Santos Batista",
      "userId": "10844009603124520931"
     },
     "user_tz": 180
    },
    "id": "E2sKzh9yw0jJ",
    "outputId": "279448f8-91bb-46e5-eded-b8aaf9c9dbb1"
   },
   "outputs": [
    {
     "name": "stdout",
     "output_type": "stream",
     "text": [
      "\n",
      "---------------------------\n",
      " OPTIMIZED COEFFICIENTS:\n",
      "\n",
      "╒══════════════════════╤═════════════════╤═══════════════════╤═════════════════════════════════════════╕\n",
      "│ Parameter            │   Initial Value │   Optimized Value │   Associated Error (standard deviation) │\n",
      "╞══════════════════════╪═════════════════╪═══════════════════╪═════════════════════════════════════════╡\n",
      "│ VTHO [V]             │     8.57        │       8.15708     │                             1.76116     │\n",
      "├──────────────────────┼─────────────────┼───────────────────┼─────────────────────────────────────────┤\n",
      "│ DELTA                │     0.0032      │       0.00271474  │                             0.0165169   │\n",
      "├──────────────────────┼─────────────────┼───────────────────┼─────────────────────────────────────────┤\n",
      "│ N                    │    30           │      46.3591      │                            42.5023      │\n",
      "├──────────────────────┼─────────────────┼───────────────────┼─────────────────────────────────────────┤\n",
      "│ L                    │     2.14        │       2.14263     │                             0.4369      │\n",
      "├──────────────────────┼─────────────────┼───────────────────┼─────────────────────────────────────────┤\n",
      "│ LAMBDA               │  1000           │    8959.1         │                         94010.2         │\n",
      "├──────────────────────┼─────────────────┼───────────────────┼─────────────────────────────────────────┤\n",
      "│ VGCRIT [V]           │    32           │      14.6656      │                             5.85128     │\n",
      "├──────────────────────┼─────────────────┼───────────────────┼─────────────────────────────────────────┤\n",
      "│ JTH [μA cm^−1]       │     1           │       9.99999     │                           125.273       │\n",
      "├──────────────────────┼─────────────────┼───────────────────┼─────────────────────────────────────────┤\n",
      "│ RS [kΩ]              │   200           │     238.786       │                             5.20273     │\n",
      "├──────────────────────┼─────────────────┼───────────────────┼─────────────────────────────────────────┤\n",
      "│ JTH / LAMBDA * N [μA │     3.33333e-05 │       2.40768e-05 │                             3.13522e-05 │\n",
      "│      cm^−1]          │                 │                   │                                         │\n",
      "╘══════════════════════╧═════════════════╧═══════════════════╧═════════════════════════════════════════╛\n",
      "\n",
      "\n",
      "\n",
      "\n"
     ]
    }
   ],
   "source": [
    "# @title #### **SHOW MODEL PARAMETERS OPTIMIZED.** { run: \"auto\" }\n",
    "# @markdown ### **Loading Parameters and Optimizing the Model** ⚡\n",
    "# @markdown > This section is dedicated to visualizing the parameters obtained through optimization. To do this, simply choose any of the options below:\n",
    "# @markdown ##### ***Show the list coefficients optimized:***\n",
    "# @markdown ##### **--> Vtho, delta, n, l, lam, Vgcrit, Jth, Rs**\n",
    "# @markdown ---\n",
    "\n",
    "option = 'Show the table of values opt' # @param [\"Show the coeff values\",\"Show the initial values\", \"Show the table of values opt\", \"coeff opt\", \"coeff error\"]\n",
    "show_model_parameters_optimized(menu, option, load_parameters, coeff_opt, coeff_error, current, settings['current_typic'], resistance)\n"
   ]
  },
  {
   "cell_type": "markdown",
   "metadata": {
    "id": "wtumu9_Lxx4q"
   },
   "source": [
    "### **Comparing** ✅\n",
    "\n",
    "---\n",
    "This section aims to evaluate the model's performance relative to the initial data. Visual observation allows assessing whether the model significantly outperformed the initial coefficients.\n",
    "\n",
    "In this section, simply execute the cells below; no explicit modifications are required.\n",
    "\n",
    "---"
   ]
  },
  {
   "cell_type": "code",
   "execution_count": 8,
   "metadata": {
    "cellView": "form",
    "colab": {
     "base_uri": "https://localhost:8080/",
     "height": 1000
    },
    "executionInfo": {
     "elapsed": 367,
     "status": "ok",
     "timestamp": 1730290120254,
     "user": {
      "displayName": "Rodrigo Santos Batista",
      "userId": "10844009603124520931"
     },
     "user_tz": 180
    },
    "id": "gvhAweAZx3eD",
    "outputId": "8cceb938-9438-4010-9ed4-9f0b2efeffa5"
   },
   "outputs": [
    {
     "data": {
      "application/vnd.plotly.v1+json": {
       "config": {
        "plotlyServerURL": "https://plot.ly"
       },
       "data": [
        {
         "line": {
          "color": "rgb(255, 0, 0)",
          "dash": "dash"
         },
         "mode": "lines+text",
         "name": "<b>Model OVSED<b> <b>-5V<b>",
         "text": [
          "-5V"
         ],
         "textfont": {
          "color": "rgb(255, 0, 0)",
          "family": "Times New Roman",
          "size": 13
         },
         "textposition": "bottom center",
         "type": "scatter",
         "x": [
          -43.973,
          -43.40906493506493,
          -42.84512987012987,
          -42.2811948051948,
          -41.71725974025974,
          -41.153324675324676,
          -40.58938961038961,
          -40.025454545454544,
          -39.46151948051948,
          -38.89758441558441,
          -38.33364935064935,
          -37.76971428571429,
          -37.20577922077922,
          -36.641844155844154,
          -36.07790909090909,
          -35.51397402597402,
          -34.950038961038956,
          -34.3861038961039,
          -33.82216883116883,
          -33.258233766233765,
          -32.6942987012987,
          -32.13036363636363,
          -31.56642857142857,
          -31.002493506493504,
          -30.438558441558442,
          -29.874623376623376,
          -29.31068831168831,
          -28.746753246753244,
          -28.18281818181818,
          -27.618883116883115,
          -27.05494805194805,
          -26.491012987012986,
          -25.92707792207792,
          -25.363142857142854,
          -24.799207792207792,
          -24.235272727272726,
          -23.67133766233766,
          -23.107402597402597,
          -22.54346753246753,
          -21.979532467532465,
          -21.4155974025974,
          -20.851662337662336,
          -20.28772727272727,
          -19.723792207792204,
          -19.159857142857142,
          -18.595922077922076,
          -18.03198701298701,
          -17.468051948051947,
          -16.90411688311688,
          -16.340181818181815,
          -15.776246753246753,
          -15.212311688311686,
          -14.64837662337662,
          -14.084441558441558,
          -13.520506493506492,
          -12.956571428571426,
          -12.392636363636363,
          -11.828701298701297,
          -11.264766233766231,
          -10.700831168831165,
          -10.136896103896099,
          -9.57296103896104,
          -9.009025974025974,
          -8.445090909090908,
          -7.881155844155842,
          -7.317220779220776,
          -6.75328571428571,
          -6.189350649350644,
          -5.625415584415585,
          -5.061480519480519,
          -4.4975454545454525,
          -3.9336103896103864,
          -3.3696753246753204,
          -2.8057402597402543,
          -2.2418051948051954,
          -1.6778701298701293,
          -1.1139350649350632,
          -0.55
         ],
         "y": [
          0.000008807354139061428,
          0.000008711071010425552,
          0.000008611736063855728,
          0.000008509262296954492,
          0.000008403563041182494,
          0.000008294552415290475,
          0.000008182145839110017,
          0.000008066260612643447,
          0.000007946816565440083,
          0.000007823736781211145,
          0.00000769694840250425,
          0.000007566383520007326,
          0.000007431980150661625,
          0.00000729368330820859,
          0.000007151446169052952,
          0.000007005231335368308,
          0.00000685501219617626,
          0.0000067007743856735555,
          0.000006542517336340024,
          0.000006380255922316798,
          0.0000062140221861863175,
          0.000006043867139606676,
          0.0000058698626252565465,
          0.000005692103224247835,
          0.0000055107081895870095,
          0.000005325823382456217,
          0.000005137623184098848,
          0.000004946312352007716,
          0.000004752127785021921,
          0.0000045553401579534645,
          0.000004356255382617305,
          0.000004155215848775463,
          0.000003952601395685367,
          0.000003748829962833682,
          0.000003544357867209326,
          0.0000033396796542917847,
          0.000003135327470958794,
          0.0000029318699108866992,
          0.0000027299102868326996,
          0.00000253008428951254,
          0.0000023330569996277714,
          0.0000021395192278903388,
          0.000001950183167487828,
          0.000001765777354066976,
          0.0000015870409395745096,
          0.0000014147172975612277,
          0.0000012495469878735694,
          0.0000010922601164837207,
          9.435681288394989e-7,
          8.041550673745977e-7,
          6.746682950684136e-7,
          5.557086142360723e-7,
          4.4781954245947056e-7,
          3.5147513410807807e-7,
          2.6706491535731995e-7,
          1.9487274102159012e-7,
          1.350427983291737e-7,
          8.751949260600878e-8,
          5.1939431215861325e-8,
          2.7454912832730497e-8,
          1.2520278334448742e-8,
          4.824221092379444e-9,
          1.6576011453293481e-9,
          6.721772781497991e-10,
          4.4601935027859115e-10,
          4.0654695104240703e-10,
          4.008691480323465e-10,
          4.001208880441331e-10,
          4.0001897127831633e-10,
          4.0000334650069627e-10,
          4.000006384741922e-10,
          4.0000012733394123e-10,
          4.0000002598813313e-10,
          4.0000000536575557e-10,
          4.000000011141806e-10,
          4.00000000231997e-10,
          4.0000000004837095e-10,
          4.0000000001009146e-10
         ]
        },
        {
         "line": {
          "color": "rgb(0, 0, 255)",
          "dash": "dash"
         },
         "mode": "lines+text",
         "name": "<b>Model OVSED<b> <b>-40V<b>",
         "text": [
          "-40V"
         ],
         "textfont": {
          "color": "rgb(0, 0, 255)",
          "family": "Times New Roman",
          "size": 13
         },
         "textposition": "bottom center",
         "type": "scatter",
         "x": [
          -44.99,
          -44.4152987012987,
          -43.8405974025974,
          -43.265896103896104,
          -42.691194805194804,
          -42.11649350649351,
          -41.54179220779221,
          -40.96709090909091,
          -40.392389610389614,
          -39.817688311688315,
          -39.242987012987015,
          -38.668285714285716,
          -38.09358441558442,
          -37.51888311688312,
          -36.94418181818182,
          -36.36948051948052,
          -35.79477922077922,
          -35.22007792207792,
          -34.64537662337663,
          -34.07067532467533,
          -33.49597402597403,
          -32.92127272727273,
          -32.34657142857143,
          -31.77187012987013,
          -31.19716883116883,
          -30.62246753246753,
          -30.047766233766236,
          -29.473064935064937,
          -28.898363636363637,
          -28.323662337662338,
          -27.748961038961042,
          -27.174259740259743,
          -26.599558441558443,
          -26.024857142857144,
          -25.450155844155844,
          -24.87545454545455,
          -24.30075324675325,
          -23.72605194805195,
          -23.15135064935065,
          -22.57664935064935,
          -22.001948051948055,
          -21.427246753246756,
          -20.852545454545456,
          -20.277844155844157,
          -19.703142857142858,
          -19.12844155844156,
          -18.553740259740263,
          -17.979038961038963,
          -17.404337662337664,
          -16.829636363636364,
          -16.254935064935065,
          -15.68023376623377,
          -15.10553246753247,
          -14.53083116883117,
          -13.956129870129871,
          -13.381428571428572,
          -12.806727272727272,
          -12.232025974025973,
          -11.657324675324674,
          -11.082623376623381,
          -10.507922077922082,
          -9.933220779220783,
          -9.358519480519483,
          -8.783818181818184,
          -8.209116883116884,
          -7.634415584415585,
          -7.059714285714286,
          -6.485012987012986,
          -5.910311688311687,
          -5.3356103896103875,
          -4.760909090909095,
          -4.186207792207796,
          -3.6115064935064964,
          -3.036805194805197,
          -2.4621038961038977,
          -1.8874025974025983,
          -1.312701298701299,
          -0.738
         ],
         "y": [
          0.000040470298659710316,
          0.00003932351400495412,
          0.000038177737983359193,
          0.000037034147980857174,
          0.00003589389955724949,
          0.00003475812278554065,
          0.00003362791924373802,
          0.00003250435964919772,
          0.00003138848211089341,
          0.000030281290962848565,
          0.000029183756132491545,
          0.000028096812990818892,
          0.000027021362626794882,
          0.000025958272486123903,
          0.00002490837731408385,
          0.000023872480343161417,
          0.000022851354668442254,
          0.000021845744756758297,
          0.000020856368039173774,
          0.00001988391654025561,
          0.00001892905850149084,
          0.000017992439960016047,
          0.000017074686247368335,
          0.000016176403376151894,
          0.000015298179285270225,
          0.000014440584916652191,
          0.00001360417509818196,
          0.000012789489208819988,
          0.000011997051602688006,
          0.00001122737176920225,
          0.000010480944206213978,
          0.000009758247982589965,
          0.000009059745965791644,
          0.00000838588368885014,
          0.000007737087829754283,
          0.000007113764274759957,
          0.0000065162957355919355,
          0.0000059450388890717435,
          0.000005400321006519636,
          0.000004882436039536077,
          0.000004391640128698284,
          0.000003928146502599741,
          0.0000034921197368682363,
          0.000003083669346761548,
          0.000002702842693211166,
          0.000002349617191451377,
          0.0000020238918245038806,
          0.0000017254779818620874,
          0.0000014540896680063227,
          0.000001209333157166223,
          9.906962106912226e-7,
          7.975370197309519e-7,
          6.290730800309713e-7,
          4.843702219799586e-7,
          3.623319446193368e-7,
          2.6168889998665144e-7,
          1.809875838119457e-7,
          1.185756268712466e-7,
          7.257837173472348e-8,
          4.085931729432203e-8,
          2.096414804028793e-8,
          1.0088480799191138e-8,
          5.204696258039257e-9,
          3.5194294206375073e-9,
          3.093070208394157e-9,
          3.013472645828026e-9,
          3.0017412333481698e-9,
          3.0002268281719435e-9,
          3.0000329573239863e-9,
          3.000005448437955e-9,
          3.0000009889905572e-9,
          3.0000001895245074e-9,
          3.000000037364635e-9,
          3.0000000074712615e-9,
          3.0000000015042217e-9,
          3.000000000303859e-9,
          3.000000000061477e-9,
          3.0000000000124437e-9
         ]
        },
        {
         "line": {
          "color": "black",
          "dash": "solid"
         },
         "mode": "lines+text",
         "name": "<b>Model OPT<b> <b>-5V<b>",
         "text": [
          "-5V"
         ],
         "textfont": {
          "color": "black",
          "family": "Times New Roman",
          "size": 13
         },
         "textposition": "bottom center",
         "type": "scatter",
         "x": [
          -43.973,
          -43.40906493506493,
          -42.84512987012987,
          -42.2811948051948,
          -41.71725974025974,
          -41.153324675324676,
          -40.58938961038961,
          -40.025454545454544,
          -39.46151948051948,
          -38.89758441558441,
          -38.33364935064935,
          -37.76971428571429,
          -37.20577922077922,
          -36.641844155844154,
          -36.07790909090909,
          -35.51397402597402,
          -34.950038961038956,
          -34.3861038961039,
          -33.82216883116883,
          -33.258233766233765,
          -32.6942987012987,
          -32.13036363636363,
          -31.56642857142857,
          -31.002493506493504,
          -30.438558441558442,
          -29.874623376623376,
          -29.31068831168831,
          -28.746753246753244,
          -28.18281818181818,
          -27.618883116883115,
          -27.05494805194805,
          -26.491012987012986,
          -25.92707792207792,
          -25.363142857142854,
          -24.799207792207792,
          -24.235272727272726,
          -23.67133766233766,
          -23.107402597402597,
          -22.54346753246753,
          -21.979532467532465,
          -21.4155974025974,
          -20.851662337662336,
          -20.28772727272727,
          -19.723792207792204,
          -19.159857142857142,
          -18.595922077922076,
          -18.03198701298701,
          -17.468051948051947,
          -16.90411688311688,
          -16.340181818181815,
          -15.776246753246753,
          -15.212311688311686,
          -14.64837662337662,
          -14.084441558441558,
          -13.520506493506492,
          -12.956571428571426,
          -12.392636363636363,
          -11.828701298701297,
          -11.264766233766231,
          -10.700831168831165,
          -10.136896103896099,
          -9.57296103896104,
          -9.009025974025974,
          -8.445090909090908,
          -7.881155844155842,
          -7.317220779220776,
          -6.75328571428571,
          -6.189350649350644,
          -5.625415584415585,
          -5.061480519480519,
          -4.4975454545454525,
          -3.9336103896103864,
          -3.3696753246753204,
          -2.8057402597402543,
          -2.2418051948051954,
          -1.6778701298701293,
          -1.1139350649350632,
          -0.55
         ],
         "y": [
          0.000005959843694553209,
          0.000005867388281197651,
          0.000005772984023172666,
          0.00000567662052404625,
          0.000005578290852605261,
          0.000005477991898116353,
          0.000005375724744935734,
          0.000005271495066086716,
          0.000005165313535159738,
          0.000005057196255586274,
          0.0000049471652059949195,
          0.000004835248699973206,
          0.0000047214818581302615,
          0.000004605907089884194,
          0.000004488574581882958,
          0.000004369542789411726,
          0.000004248878926544809,
          0.000004126659450171662,
          0.00000400297053237064,
          0.000003877908514928997,
          0.0000037515803391247994,
          0.000003624103943208744,
          0.0000034956086193676526,
          0.000003366235321335416,
          0.0000032361369132627164,
          0.000003105478349987934,
          0.0000029744367784945407,
          0.0000028432015501226208,
          0.000002711974133052567,
          0.0000025809679147270637,
          0.0000024504078842499743,
          0.000002320530185423983,
          0.0000021915815319841806,
          0.0000020638184777680544,
          0.0000019375065360433288,
          0.0000018129191439935147,
          0.0000016903364704273178,
          0.000001570044067109844,
          0.0000014523313666752645,
          0.00000133749003281886,
          0.0000012258121713073332,
          0.0000011175884131836119,
          0.0000010131058842213852,
          9.12646076964928e-7,
          8.164826431802249e-7,
          7.2487912458104e-7,
          6.380866371264073e-7,
          5.5634151699501e-7,
          4.798629209942066e-7,
          4.0885034453925976e-7,
          3.434809660465468e-7,
          2.8390663048337397e-7,
          2.302501200202659e-7,
          1.826000877779065e-7,
          1.4100360699949272e-7,
          1.0545469256761804e-7,
          7.587648859499813e-8,
          5.20945662159848e-8,
          3.3800286431919553e-8,
          2.0509115010921546e-8,
          1.1531794175211903e-8,
          5.992081491146384e-9,
          2.9214433576446908e-9,
          1.413795786464777e-9,
          7.637192942570781e-10,
          5.175726672508714e-10,
          4.3485385573283054e-10,
          4.096914979650929e-10,
          4.0259106746817004e-10,
          4.006840814510248e-10,
          4.0018360605551605e-10,
          4.000514190059858e-10,
          4.0001523068101194e-10,
          4.00004766976537e-10,
          4.0000156141509446e-10,
          4.0000052900770054e-10,
          4.000001834916486e-10,
          4.0000006465464004e-10
         ]
        },
        {
         "line": {
          "color": "black",
          "dash": "solid"
         },
         "mode": "lines+text",
         "name": "<b>Model OPT<b> <b>-40V<b>",
         "text": [
          "-40V"
         ],
         "textfont": {
          "color": "black",
          "family": "Times New Roman",
          "size": 13
         },
         "textposition": "bottom center",
         "type": "scatter",
         "x": [
          -44.99,
          -44.4152987012987,
          -43.8405974025974,
          -43.265896103896104,
          -42.691194805194804,
          -42.11649350649351,
          -41.54179220779221,
          -40.96709090909091,
          -40.392389610389614,
          -39.817688311688315,
          -39.242987012987015,
          -38.668285714285716,
          -38.09358441558442,
          -37.51888311688312,
          -36.94418181818182,
          -36.36948051948052,
          -35.79477922077922,
          -35.22007792207792,
          -34.64537662337663,
          -34.07067532467533,
          -33.49597402597403,
          -32.92127272727273,
          -32.34657142857143,
          -31.77187012987013,
          -31.19716883116883,
          -30.62246753246753,
          -30.047766233766236,
          -29.473064935064937,
          -28.898363636363637,
          -28.323662337662338,
          -27.748961038961042,
          -27.174259740259743,
          -26.599558441558443,
          -26.024857142857144,
          -25.450155844155844,
          -24.87545454545455,
          -24.30075324675325,
          -23.72605194805195,
          -23.15135064935065,
          -22.57664935064935,
          -22.001948051948055,
          -21.427246753246756,
          -20.852545454545456,
          -20.277844155844157,
          -19.703142857142858,
          -19.12844155844156,
          -18.553740259740263,
          -17.979038961038963,
          -17.404337662337664,
          -16.829636363636364,
          -16.254935064935065,
          -15.68023376623377,
          -15.10553246753247,
          -14.53083116883117,
          -13.956129870129871,
          -13.381428571428572,
          -12.806727272727272,
          -12.232025974025973,
          -11.657324675324674,
          -11.082623376623381,
          -10.507922077922082,
          -9.933220779220783,
          -9.358519480519483,
          -8.783818181818184,
          -8.209116883116884,
          -7.634415584415585,
          -7.059714285714286,
          -6.485012987012986,
          -5.910311688311687,
          -5.3356103896103875,
          -4.760909090909095,
          -4.186207792207796,
          -3.6115064935064964,
          -3.036805194805197,
          -2.4621038961038977,
          -1.8874025974025983,
          -1.312701298701299,
          -0.738
         ],
         "y": [
          0.000023388616128120193,
          0.000022610939991605738,
          0.000021842145684141276,
          0.00002108268606775093,
          0.000020332990239602703,
          0.000019593464663486464,
          0.00001886449433677359,
          0.000018146443967414263,
          0.00001743965913906442,
          0.000016744467445770193,
          0.000016061179580716577,
          0.00001539009036633204,
          0.000014731479715515672,
          0.000014085613515918376,
          0.000013452744431070028,
          0.000012833112613721724,
          0.000012226946328084508,
          0.000011634462478721874,
          0.000011055867044717319,
          0.000010491355418418041,
          0.000009941112648578584,
          0.000009405313588117954,
          0.000008884122946984392,
          0.000008377695250815925,
          0.000007886174706212213,
          0.0000074096949735110944,
          0.000006948378848011194,
          0.0000065023378506132225,
          0.000006071671728882136,
          0.00000565646786957527,
          0.000005256800623747893,
          0.000004872730545652769,
          0.000004504303546805156,
          0.000004151549966802012,
          0.0000038144835627790233,
          0.0000034931004197747887,
          0.000003187377784765493,
          0.00000289727282775349,
          0.0000026227213340604815,
          0.000002363636332910548,
          0.000002119906668511808,
          0.0000018913955211694176,
          0.0000016779388874832524,
          0.0000014793440303560717,
          0.0000012953879112406361,
          0.0000011258156185222521,
          9.703388066471071e-7,
          8.286341596168965e-7,
          7.003418881220133e-7,
          5.850642591260176e-7,
          4.823641357775435e-7,
          3.917634675947078e-7,
          3.127416070781085e-7,
          2.4473322922056866e-7,
          1.8712548865364415e-7,
          1.3925387784047785e-7,
          1.0039611538458184e-7,
          6.976349101502173e-8,
          4.6489869291750324e-8,
          2.9620812771888956e-8,
          1.810994993682461e-8,
          1.0836370939476165e-8,
          6.6603307433183495e-9,
          4.52300221429844e-9,
          3.5623226575089324e-9,
          3.185341511812051e-9,
          3.0553914279687506e-9,
          3.0153488748412024e-9,
          3.004045402013525e-9,
          3.001042341596334e-9,
          3.000270579423591e-9,
          3.000072888093119e-9,
          3.000020763414378e-9,
          3.0000062719616017e-9,
          3.000001991753743e-9,
          3.0000006568229982e-9,
          3.0000002223913776e-9,
          3.0000000766375624e-9
         ]
        },
        {
         "marker": {
          "color": "rgb(255, 0, 0)",
          "line": {
           "color": "MediumPurple",
           "width": 0.8
          },
          "opacity": 0.5,
          "size": 11
         },
         "mode": "markers+text",
         "name": "<b>Exp <b> <b>-5V<b>",
         "text": [
          "<b>VDS<b>=-5V"
         ],
         "textfont": {
          "color": "rgb(255, 0, 0)",
          "family": "Times New Roman",
          "size": 18
         },
         "textposition": "top right",
         "type": "scatter",
         "x": [
          -43.973,
          -43.40906493506493,
          -42.84512987012987,
          -42.2811948051948,
          -41.71725974025974,
          -41.153324675324676,
          -40.58938961038961,
          -40.025454545454544,
          -39.46151948051948,
          -38.89758441558441,
          -38.33364935064935,
          -37.76971428571429,
          -37.20577922077922,
          -36.641844155844154,
          -36.07790909090909,
          -35.51397402597402,
          -34.950038961038956,
          -34.3861038961039,
          -33.82216883116883,
          -33.258233766233765,
          -32.6942987012987,
          -32.13036363636363,
          -31.56642857142857,
          -31.002493506493504,
          -30.438558441558442,
          -29.874623376623376,
          -29.31068831168831,
          -28.746753246753244,
          -28.18281818181818,
          -27.618883116883115,
          -27.05494805194805,
          -26.491012987012986,
          -25.92707792207792,
          -25.363142857142854,
          -24.799207792207792,
          -24.235272727272726,
          -23.67133766233766,
          -23.107402597402597,
          -22.54346753246753,
          -21.979532467532465,
          -21.4155974025974,
          -20.851662337662336,
          -20.28772727272727,
          -19.723792207792204,
          -19.159857142857142,
          -18.595922077922076,
          -18.03198701298701,
          -17.468051948051947,
          -16.90411688311688,
          -16.340181818181815,
          -15.776246753246753,
          -15.212311688311686,
          -14.64837662337662,
          -14.084441558441558,
          -13.520506493506492,
          -12.956571428571426,
          -12.392636363636363,
          -11.828701298701297,
          -11.264766233766231,
          -10.700831168831165,
          -10.136896103896099,
          -9.57296103896104,
          -9.009025974025974,
          -8.445090909090908,
          -7.881155844155842,
          -7.317220779220776,
          -6.75328571428571,
          -6.189350649350644,
          -5.625415584415585,
          -5.061480519480519,
          -4.4975454545454525,
          -3.9336103896103864,
          -3.3696753246753204,
          -2.8057402597402543,
          -2.2418051948051954,
          -1.6778701298701293,
          -1.1139350649350632,
          -0.55
         ],
         "y": [
          0.000006064000000000001,
          0.0000058829560409679994,
          0.000005740912991252489,
          0.00000573600387208004,
          0.000005643675801262952,
          0.0000054910511735970494,
          0.000005312003810070058,
          0.00000511928152184303,
          0.000005042797660757092,
          0.000004943364555256063,
          0.000004753169474393536,
          0.000004649166147596474,
          0.0000045786074475287714,
          0.0000044316320599478455,
          0.000004273226158456931,
          0.000004181699926447182,
          0.000004090173694437429,
          0.000003983654921679994,
          0.000003850614263177166,
          0.000003705890657729365,
          0.00000361948125261835,
          0.000003524062444597651,
          0.000003403699272558427,
          0.0000032998169459922374,
          0.000003205670858357005,
          0.0000030855590467784627,
          0.0000029399214474845524,
          0.0000028142902672828754,
          0.000002698168474608814,
          0.000002571761356014877,
          0.0000024701776296725604,
          0.0000023946812518110675,
          0.000002288217092950719,
          0.000002164671557562076,
          0.000002035462959162732,
          0.0000019142884655208097,
          0.0000018038860294851085,
          0.0000017069055690072624,
          0.0000016005397273533927,
          0.0000014814478502863575,
          0.0000013577873273223585,
          0.0000012629697102285156,
          0.0000011576973157348354,
          0.000001028385933191606,
          8.973236842105267e-7,
          7.883067443073169e-7,
          7.091025347642699e-7,
          6.203443382149757e-7,
          5.243246094286259e-7,
          4.4563776893421213e-7,
          3.6332019105514497e-7,
          2.819755020935347e-7,
          2.095381047523898e-7,
          1.5439254335408188e-7,
          1.1720105174291077e-7,
          9.181369553896887e-8,
          5.474582079790706e-8,
          3.5157240486785956e-8,
          2.2181385281385247e-8,
          1.4307076435015247e-8,
          8.793623299166012e-9,
          5.270418944239841e-9,
          2.6313959746720934e-9,
          1.6327173100871697e-9,
          8.483063463203468e-10,
          6.332842725556359e-10,
          4.782688775510187e-10,
          3.921952356355763e-10,
          3.7259635601141315e-10,
          3.6670629352947905e-10,
          3.6700572807723243e-10,
          3.6584819780651267e-10,
          3.6417799495094146e-10,
          3.6598620357598375e-10,
          3.7200154703177997e-10,
          3.8919646632437296e-10,
          3.8962035883892276e-10,
          3.8819999999999955e-10
         ]
        },
        {
         "marker": {
          "color": "rgb(0, 0, 255)",
          "line": {
           "color": "MediumPurple",
           "width": 0.8
          },
          "opacity": 0.5,
          "size": 11
         },
         "mode": "markers+text",
         "name": "<b>Exp <b> <b>-40V<b>",
         "text": [
          "<b>VDS<b>=-40V"
         ],
         "textfont": {
          "color": "rgb(0, 0, 255)",
          "family": "Times New Roman",
          "size": 18
         },
         "textposition": "top right",
         "type": "scatter",
         "x": [
          -44.99,
          -44.4152987012987,
          -43.8405974025974,
          -43.265896103896104,
          -42.691194805194804,
          -42.11649350649351,
          -41.54179220779221,
          -40.96709090909091,
          -40.392389610389614,
          -39.817688311688315,
          -39.242987012987015,
          -38.668285714285716,
          -38.09358441558442,
          -37.51888311688312,
          -36.94418181818182,
          -36.36948051948052,
          -35.79477922077922,
          -35.22007792207792,
          -34.64537662337663,
          -34.07067532467533,
          -33.49597402597403,
          -32.92127272727273,
          -32.34657142857143,
          -31.77187012987013,
          -31.19716883116883,
          -30.62246753246753,
          -30.047766233766236,
          -29.473064935064937,
          -28.898363636363637,
          -28.323662337662338,
          -27.748961038961042,
          -27.174259740259743,
          -26.599558441558443,
          -26.024857142857144,
          -25.450155844155844,
          -24.87545454545455,
          -24.30075324675325,
          -23.72605194805195,
          -23.15135064935065,
          -22.57664935064935,
          -22.001948051948055,
          -21.427246753246756,
          -20.852545454545456,
          -20.277844155844157,
          -19.703142857142858,
          -19.12844155844156,
          -18.553740259740263,
          -17.979038961038963,
          -17.404337662337664,
          -16.829636363636364,
          -16.254935064935065,
          -15.68023376623377,
          -15.10553246753247,
          -14.53083116883117,
          -13.956129870129871,
          -13.381428571428572,
          -12.806727272727272,
          -12.232025974025973,
          -11.657324675324674,
          -11.082623376623381,
          -10.507922077922082,
          -9.933220779220783,
          -9.358519480519483,
          -8.783818181818184,
          -8.209116883116884,
          -7.634415584415585,
          -7.059714285714286,
          -6.485012987012986,
          -5.910311688311687,
          -5.3356103896103875,
          -4.760909090909095,
          -4.186207792207796,
          -3.6115064935064964,
          -3.036805194805197,
          -2.4621038961038977,
          -1.8874025974025983,
          -1.312701298701299,
          -0.738
         ],
         "y": [
          0.000025759999999999977,
          0.000024915227489659547,
          0.000024033503262906268,
          0.000023105071673609403,
          0.000022196935187454066,
          0.000021531726322458057,
          0.00002105514475768133,
          0.00002034816161616161,
          0.000019326470418470414,
          0.00001876547560547559,
          0.000018137978968668625,
          0.000016868204707170223,
          0.000016201473874962263,
          0.000015629798733286436,
          0.000014882403940886691,
          0.000014226572207236023,
          0.000013703557106704853,
          0.000013110622176283275,
          0.000012439402170286045,
          0.000011689278173008902,
          0.00001111736926318035,
          0.000010611188177107864,
          0.000010135496299037752,
          0.000009537724872817276,
          0.000008886691736559886,
          0.00000843531809147375,
          0.000008009039649915308,
          0.00000746100276824272,
          0.000006984740157480323,
          0.000006611410573678291,
          0.000006203194155152619,
          0.0000056896964026388934,
          0.000005263132105599319,
          0.000004890989461358314,
          0.000004524380759980764,
          0.000004157458598726117,
          0.0000037883563845920576,
          0.000003451937789483242,
          0.0000031344454636272832,
          0.000002820620315099326,
          0.0000025100009227971608,
          0.0000022427678215201735,
          0.000001982466985645933,
          0.0000017374589849662,
          0.0000015677913429522747,
          0.0000013896175757575758,
          0.0000012018818181818196,
          0.0000010460995824662156,
          8.887547826976167e-7,
          7.1539858302818e-7,
          5.963857353078575e-7,
          4.7064148875514727e-7,
          3.913291688311694e-7,
          2.79302022355754e-7,
          2.080655659331182e-7,
          1.5057936233316856e-7,
          9.607685015989027e-8,
          6.579538261738258e-8,
          4.220343146798354e-8,
          2.939828356357027e-8,
          1.7333114659313337e-8,
          1.1224261254440636e-8,
          8.168790551134517e-9,
          5.853298116298122e-9,
          4.488791537494773e-9,
          3.7373541404831715e-9,
          3.421385550082102e-9,
          3.364575996417376e-9,
          3.3268361716464043e-9,
          3.3235685025706357e-9,
          3.3203008334948666e-9,
          3.3315222254086595e-9,
          3.34421279036421e-9,
          3.3483228140954347e-9,
          3.3487829432377135e-9,
          3.348999999999998e-9,
          3.348999999999998e-9,
          3.348999999999998e-9
         ]
        }
       ],
       "layout": {
        "height": 600,
        "legend": {
         "font": {
          "size": 16
         }
        },
        "template": {
         "data": {
          "bar": [
           {
            "error_x": {
             "color": "#2a3f5f"
            },
            "error_y": {
             "color": "#2a3f5f"
            },
            "marker": {
             "line": {
              "color": "#E5ECF6",
              "width": 0.5
             },
             "pattern": {
              "fillmode": "overlay",
              "size": 10,
              "solidity": 0.2
             }
            },
            "type": "bar"
           }
          ],
          "barpolar": [
           {
            "marker": {
             "line": {
              "color": "#E5ECF6",
              "width": 0.5
             },
             "pattern": {
              "fillmode": "overlay",
              "size": 10,
              "solidity": 0.2
             }
            },
            "type": "barpolar"
           }
          ],
          "carpet": [
           {
            "aaxis": {
             "endlinecolor": "#2a3f5f",
             "gridcolor": "white",
             "linecolor": "white",
             "minorgridcolor": "white",
             "startlinecolor": "#2a3f5f"
            },
            "baxis": {
             "endlinecolor": "#2a3f5f",
             "gridcolor": "white",
             "linecolor": "white",
             "minorgridcolor": "white",
             "startlinecolor": "#2a3f5f"
            },
            "type": "carpet"
           }
          ],
          "choropleth": [
           {
            "colorbar": {
             "outlinewidth": 0,
             "ticks": ""
            },
            "type": "choropleth"
           }
          ],
          "contour": [
           {
            "colorbar": {
             "outlinewidth": 0,
             "ticks": ""
            },
            "colorscale": [
             [
              0,
              "#0d0887"
             ],
             [
              0.1111111111111111,
              "#46039f"
             ],
             [
              0.2222222222222222,
              "#7201a8"
             ],
             [
              0.3333333333333333,
              "#9c179e"
             ],
             [
              0.4444444444444444,
              "#bd3786"
             ],
             [
              0.5555555555555556,
              "#d8576b"
             ],
             [
              0.6666666666666666,
              "#ed7953"
             ],
             [
              0.7777777777777778,
              "#fb9f3a"
             ],
             [
              0.8888888888888888,
              "#fdca26"
             ],
             [
              1,
              "#f0f921"
             ]
            ],
            "type": "contour"
           }
          ],
          "contourcarpet": [
           {
            "colorbar": {
             "outlinewidth": 0,
             "ticks": ""
            },
            "type": "contourcarpet"
           }
          ],
          "heatmap": [
           {
            "colorbar": {
             "outlinewidth": 0,
             "ticks": ""
            },
            "colorscale": [
             [
              0,
              "#0d0887"
             ],
             [
              0.1111111111111111,
              "#46039f"
             ],
             [
              0.2222222222222222,
              "#7201a8"
             ],
             [
              0.3333333333333333,
              "#9c179e"
             ],
             [
              0.4444444444444444,
              "#bd3786"
             ],
             [
              0.5555555555555556,
              "#d8576b"
             ],
             [
              0.6666666666666666,
              "#ed7953"
             ],
             [
              0.7777777777777778,
              "#fb9f3a"
             ],
             [
              0.8888888888888888,
              "#fdca26"
             ],
             [
              1,
              "#f0f921"
             ]
            ],
            "type": "heatmap"
           }
          ],
          "heatmapgl": [
           {
            "colorbar": {
             "outlinewidth": 0,
             "ticks": ""
            },
            "colorscale": [
             [
              0,
              "#0d0887"
             ],
             [
              0.1111111111111111,
              "#46039f"
             ],
             [
              0.2222222222222222,
              "#7201a8"
             ],
             [
              0.3333333333333333,
              "#9c179e"
             ],
             [
              0.4444444444444444,
              "#bd3786"
             ],
             [
              0.5555555555555556,
              "#d8576b"
             ],
             [
              0.6666666666666666,
              "#ed7953"
             ],
             [
              0.7777777777777778,
              "#fb9f3a"
             ],
             [
              0.8888888888888888,
              "#fdca26"
             ],
             [
              1,
              "#f0f921"
             ]
            ],
            "type": "heatmapgl"
           }
          ],
          "histogram": [
           {
            "marker": {
             "pattern": {
              "fillmode": "overlay",
              "size": 10,
              "solidity": 0.2
             }
            },
            "type": "histogram"
           }
          ],
          "histogram2d": [
           {
            "colorbar": {
             "outlinewidth": 0,
             "ticks": ""
            },
            "colorscale": [
             [
              0,
              "#0d0887"
             ],
             [
              0.1111111111111111,
              "#46039f"
             ],
             [
              0.2222222222222222,
              "#7201a8"
             ],
             [
              0.3333333333333333,
              "#9c179e"
             ],
             [
              0.4444444444444444,
              "#bd3786"
             ],
             [
              0.5555555555555556,
              "#d8576b"
             ],
             [
              0.6666666666666666,
              "#ed7953"
             ],
             [
              0.7777777777777778,
              "#fb9f3a"
             ],
             [
              0.8888888888888888,
              "#fdca26"
             ],
             [
              1,
              "#f0f921"
             ]
            ],
            "type": "histogram2d"
           }
          ],
          "histogram2dcontour": [
           {
            "colorbar": {
             "outlinewidth": 0,
             "ticks": ""
            },
            "colorscale": [
             [
              0,
              "#0d0887"
             ],
             [
              0.1111111111111111,
              "#46039f"
             ],
             [
              0.2222222222222222,
              "#7201a8"
             ],
             [
              0.3333333333333333,
              "#9c179e"
             ],
             [
              0.4444444444444444,
              "#bd3786"
             ],
             [
              0.5555555555555556,
              "#d8576b"
             ],
             [
              0.6666666666666666,
              "#ed7953"
             ],
             [
              0.7777777777777778,
              "#fb9f3a"
             ],
             [
              0.8888888888888888,
              "#fdca26"
             ],
             [
              1,
              "#f0f921"
             ]
            ],
            "type": "histogram2dcontour"
           }
          ],
          "mesh3d": [
           {
            "colorbar": {
             "outlinewidth": 0,
             "ticks": ""
            },
            "type": "mesh3d"
           }
          ],
          "parcoords": [
           {
            "line": {
             "colorbar": {
              "outlinewidth": 0,
              "ticks": ""
             }
            },
            "type": "parcoords"
           }
          ],
          "pie": [
           {
            "automargin": true,
            "type": "pie"
           }
          ],
          "scatter": [
           {
            "fillpattern": {
             "fillmode": "overlay",
             "size": 10,
             "solidity": 0.2
            },
            "type": "scatter"
           }
          ],
          "scatter3d": [
           {
            "line": {
             "colorbar": {
              "outlinewidth": 0,
              "ticks": ""
             }
            },
            "marker": {
             "colorbar": {
              "outlinewidth": 0,
              "ticks": ""
             }
            },
            "type": "scatter3d"
           }
          ],
          "scattercarpet": [
           {
            "marker": {
             "colorbar": {
              "outlinewidth": 0,
              "ticks": ""
             }
            },
            "type": "scattercarpet"
           }
          ],
          "scattergeo": [
           {
            "marker": {
             "colorbar": {
              "outlinewidth": 0,
              "ticks": ""
             }
            },
            "type": "scattergeo"
           }
          ],
          "scattergl": [
           {
            "marker": {
             "colorbar": {
              "outlinewidth": 0,
              "ticks": ""
             }
            },
            "type": "scattergl"
           }
          ],
          "scattermapbox": [
           {
            "marker": {
             "colorbar": {
              "outlinewidth": 0,
              "ticks": ""
             }
            },
            "type": "scattermapbox"
           }
          ],
          "scatterpolar": [
           {
            "marker": {
             "colorbar": {
              "outlinewidth": 0,
              "ticks": ""
             }
            },
            "type": "scatterpolar"
           }
          ],
          "scatterpolargl": [
           {
            "marker": {
             "colorbar": {
              "outlinewidth": 0,
              "ticks": ""
             }
            },
            "type": "scatterpolargl"
           }
          ],
          "scatterternary": [
           {
            "marker": {
             "colorbar": {
              "outlinewidth": 0,
              "ticks": ""
             }
            },
            "type": "scatterternary"
           }
          ],
          "surface": [
           {
            "colorbar": {
             "outlinewidth": 0,
             "ticks": ""
            },
            "colorscale": [
             [
              0,
              "#0d0887"
             ],
             [
              0.1111111111111111,
              "#46039f"
             ],
             [
              0.2222222222222222,
              "#7201a8"
             ],
             [
              0.3333333333333333,
              "#9c179e"
             ],
             [
              0.4444444444444444,
              "#bd3786"
             ],
             [
              0.5555555555555556,
              "#d8576b"
             ],
             [
              0.6666666666666666,
              "#ed7953"
             ],
             [
              0.7777777777777778,
              "#fb9f3a"
             ],
             [
              0.8888888888888888,
              "#fdca26"
             ],
             [
              1,
              "#f0f921"
             ]
            ],
            "type": "surface"
           }
          ],
          "table": [
           {
            "cells": {
             "fill": {
              "color": "#EBF0F8"
             },
             "line": {
              "color": "white"
             }
            },
            "header": {
             "fill": {
              "color": "#C8D4E3"
             },
             "line": {
              "color": "white"
             }
            },
            "type": "table"
           }
          ]
         },
         "layout": {
          "annotationdefaults": {
           "arrowcolor": "#2a3f5f",
           "arrowhead": 0,
           "arrowwidth": 1
          },
          "autotypenumbers": "strict",
          "coloraxis": {
           "colorbar": {
            "outlinewidth": 0,
            "ticks": ""
           }
          },
          "colorscale": {
           "diverging": [
            [
             0,
             "#8e0152"
            ],
            [
             0.1,
             "#c51b7d"
            ],
            [
             0.2,
             "#de77ae"
            ],
            [
             0.3,
             "#f1b6da"
            ],
            [
             0.4,
             "#fde0ef"
            ],
            [
             0.5,
             "#f7f7f7"
            ],
            [
             0.6,
             "#e6f5d0"
            ],
            [
             0.7,
             "#b8e186"
            ],
            [
             0.8,
             "#7fbc41"
            ],
            [
             0.9,
             "#4d9221"
            ],
            [
             1,
             "#276419"
            ]
           ],
           "sequential": [
            [
             0,
             "#0d0887"
            ],
            [
             0.1111111111111111,
             "#46039f"
            ],
            [
             0.2222222222222222,
             "#7201a8"
            ],
            [
             0.3333333333333333,
             "#9c179e"
            ],
            [
             0.4444444444444444,
             "#bd3786"
            ],
            [
             0.5555555555555556,
             "#d8576b"
            ],
            [
             0.6666666666666666,
             "#ed7953"
            ],
            [
             0.7777777777777778,
             "#fb9f3a"
            ],
            [
             0.8888888888888888,
             "#fdca26"
            ],
            [
             1,
             "#f0f921"
            ]
           ],
           "sequentialminus": [
            [
             0,
             "#0d0887"
            ],
            [
             0.1111111111111111,
             "#46039f"
            ],
            [
             0.2222222222222222,
             "#7201a8"
            ],
            [
             0.3333333333333333,
             "#9c179e"
            ],
            [
             0.4444444444444444,
             "#bd3786"
            ],
            [
             0.5555555555555556,
             "#d8576b"
            ],
            [
             0.6666666666666666,
             "#ed7953"
            ],
            [
             0.7777777777777778,
             "#fb9f3a"
            ],
            [
             0.8888888888888888,
             "#fdca26"
            ],
            [
             1,
             "#f0f921"
            ]
           ]
          },
          "colorway": [
           "#636efa",
           "#EF553B",
           "#00cc96",
           "#ab63fa",
           "#FFA15A",
           "#19d3f3",
           "#FF6692",
           "#B6E880",
           "#FF97FF",
           "#FECB52"
          ],
          "font": {
           "color": "#2a3f5f"
          },
          "geo": {
           "bgcolor": "white",
           "lakecolor": "white",
           "landcolor": "#E5ECF6",
           "showlakes": true,
           "showland": true,
           "subunitcolor": "white"
          },
          "hoverlabel": {
           "align": "left"
          },
          "hovermode": "closest",
          "mapbox": {
           "style": "light"
          },
          "paper_bgcolor": "white",
          "plot_bgcolor": "#E5ECF6",
          "polar": {
           "angularaxis": {
            "gridcolor": "white",
            "linecolor": "white",
            "ticks": ""
           },
           "bgcolor": "#E5ECF6",
           "radialaxis": {
            "gridcolor": "white",
            "linecolor": "white",
            "ticks": ""
           }
          },
          "scene": {
           "xaxis": {
            "backgroundcolor": "#E5ECF6",
            "gridcolor": "white",
            "gridwidth": 2,
            "linecolor": "white",
            "showbackground": true,
            "ticks": "",
            "zerolinecolor": "white"
           },
           "yaxis": {
            "backgroundcolor": "#E5ECF6",
            "gridcolor": "white",
            "gridwidth": 2,
            "linecolor": "white",
            "showbackground": true,
            "ticks": "",
            "zerolinecolor": "white"
           },
           "zaxis": {
            "backgroundcolor": "#E5ECF6",
            "gridcolor": "white",
            "gridwidth": 2,
            "linecolor": "white",
            "showbackground": true,
            "ticks": "",
            "zerolinecolor": "white"
           }
          },
          "shapedefaults": {
           "line": {
            "color": "#2a3f5f"
           }
          },
          "ternary": {
           "aaxis": {
            "gridcolor": "white",
            "linecolor": "white",
            "ticks": ""
           },
           "baxis": {
            "gridcolor": "white",
            "linecolor": "white",
            "ticks": ""
           },
           "bgcolor": "#E5ECF6",
           "caxis": {
            "gridcolor": "white",
            "linecolor": "white",
            "ticks": ""
           }
          },
          "title": {
           "x": 0.05
          },
          "xaxis": {
           "automargin": true,
           "gridcolor": "white",
           "linecolor": "white",
           "ticks": "",
           "title": {
            "standoff": 15
           },
           "zerolinecolor": "white",
           "zerolinewidth": 2
          },
          "yaxis": {
           "automargin": true,
           "gridcolor": "white",
           "linecolor": "white",
           "ticks": "",
           "title": {
            "standoff": 15
           },
           "zerolinecolor": "white",
           "zerolinewidth": 2
          }
         }
        },
        "title": {
         "font": {
          "color": "black",
          "family": "Overpass",
          "size": 25
         },
         "text": "<b>Model Vs Model Optimized (OPT)<b>",
         "x": 0.45,
         "y": 0.9
        },
        "width": 1100,
        "xaxis": {
         "title": {
          "font": {
           "color": "black",
           "family": "Overpass",
           "size": 25
          },
          "standoff": 25,
          "text": "<b>VGS / V<b>"
         }
        },
        "yaxis": {
         "title": {
          "font": {
           "color": "black",
           "family": "Overpass",
           "size": 25
          },
          "standoff": 10,
          "text": "<b>|ID| / A<b>"
         },
         "type": "log"
        }
       }
      }
     },
     "metadata": {},
     "output_type": "display_data"
    },
    {
     "name": "stdout",
     "output_type": "stream",
     "text": [
      "\n"
     ]
    },
    {
     "data": {
      "application/vnd.plotly.v1+json": {
       "config": {
        "plotlyServerURL": "https://plot.ly"
       },
       "data": [
        {
         "line": {
          "color": "rgb(255, 0, 0)",
          "dash": "dash"
         },
         "mode": "lines+text",
         "name": "<b>Model OVSED<b> <b>-20V<b>",
         "text": [
          "-20V"
         ],
         "textfont": {
          "color": "rgb(255, 0, 0)",
          "family": "Times New Roman",
          "size": 13
         },
         "textposition": "bottom center",
         "type": "scatter",
         "x": [
          -39.564,
          -39.044,
          -38.341,
          -37.808,
          -37.333,
          -36.845,
          -36.163,
          -35.491,
          -34.768,
          -34.143,
          -33.477,
          -32.923,
          -32.378,
          -31.876,
          -31.369,
          -30.726,
          -30.23,
          -29.587,
          -28.912,
          -27.935,
          -27.367,
          -26.657,
          -25.912,
          -25.44,
          -24.773,
          -24.253,
          -23.516,
          -22.587,
          -21.925,
          -21.376,
          -20.685,
          -19.91,
          -19.277,
          -18.648,
          -17.985,
          -17.287,
          -16.563,
          -15.924,
          -15.223,
          -14.464,
          -13.824,
          -12.909,
          -12.477,
          -11.822,
          -11.005,
          -10.32,
          -9.659,
          -9.418,
          -8.608,
          -7.985,
          -7.404,
          -6.949,
          -6.214,
          -5.455,
          -4.469,
          -3.907,
          -3.43,
          -3.003,
          -2.506,
          -1.964,
          -1.572,
          -0.909,
          -0.026,
          -0.026,
          -0.026,
          -0.026,
          -0.026,
          -0.026,
          -0.026,
          -0.026,
          -0.026,
          -0.026,
          -0.026,
          -0.026,
          -0.026,
          -0.026,
          -0.026,
          -0.026
         ],
         "y": [
          -7.245669320772065,
          -7.247276051248686,
          -7.249406354994323,
          -7.2509840942349975,
          -7.252358601259967,
          -7.253735463646544,
          -7.2555905775539316,
          -7.257326009699798,
          -7.259070500249374,
          -7.2604566721895205,
          -7.261786028778338,
          -7.2627559138084266,
          -7.263570143446617,
          -7.264179551614925,
          -7.264639035346188,
          -7.264962572719449,
          -7.264984851626261,
          -7.264671886367738,
          -7.263860427673424,
          -7.261626161187295,
          -7.259636684419085,
          -7.2562934948762,
          -7.251581425423277,
          -7.24785279601633,
          -7.241443657113442,
          -7.235392655666774,
          -7.224980391682274,
          -7.208228507122821,
          -7.193353864463088,
          -7.178850423466575,
          -7.1573905591874905,
          -7.128418674456139,
          -7.100308624185655,
          -7.067834332269218,
          -7.02804344071074,
          -6.979150239885758,
          -6.919807600304748,
          -6.859185041501449,
          -6.782679502840732,
          -6.686622825822495,
          -6.593726347065542,
          -6.4397628431245,
          -6.357608808017321,
          -6.220446221120758,
          -6.026423570419886,
          -5.842537215310989,
          -5.645404937280027,
          -5.5684864828124665,
          -5.289266888362919,
          -5.051891837626228,
          -4.811994519740778,
          -4.611232128960435,
          -4.262275833648201,
          -3.869055275850749,
          -3.3068721599968236,
          -2.959906679725575,
          -2.650080166299029,
          -2.360685420355669,
          -2.0094301803649173,
          -1.6086020513969954,
          -1.3071105419423439,
          -0.7749853054855744,
          -0.022869564698521375,
          -0.022869564698521375,
          -0.022869564698521375,
          -0.022869564698521375,
          -0.022869564698521375,
          -0.022869564698521375,
          -0.022869564698521375,
          -0.022869564698521375,
          -0.022869564698521375,
          -0.022869564698521375,
          -0.022869564698521375,
          -0.022869564698521375,
          -0.022869564698521375,
          -0.022869564698521375,
          -0.022869564698521375,
          -0.022869564698521375
         ]
        },
        {
         "line": {
          "color": "rgb(0, 0, 255)",
          "dash": "dash"
         },
         "mode": "lines+text",
         "name": "<b>Model OVSED<b> <b>-30V<b>",
         "text": [
          "-30V"
         ],
         "textfont": {
          "color": "rgb(0, 0, 255)",
          "family": "Times New Roman",
          "size": 13
         },
         "textposition": "bottom center",
         "type": "scatter",
         "x": [
          -40.017,
          -39.419,
          -38.745,
          -38.311,
          -37.949,
          -37.376,
          -36.784,
          -36.396,
          -35.768,
          -35.283,
          -34.582,
          -33.964,
          -33.367,
          -32.681,
          -31.908,
          -31.406,
          -30.837,
          -30.321,
          -29.852,
          -29.122,
          -28.697,
          -28.089,
          -27.44,
          -26.844,
          -26.025,
          -25.186,
          -24.467,
          -23.932,
          -23.176,
          -22.338,
          -21.454,
          -20.724,
          -20.084,
          -19.352,
          -18.738,
          -17.887,
          -17.312,
          -16.586,
          -15.807,
          -15.203,
          -14.453,
          -13.801,
          -13.292,
          -12.835,
          -12.425,
          -11.972,
          -11.539,
          -10.896,
          -10.436,
          -10.025,
          -9.447,
          -8.851,
          -8.461,
          -7.971,
          -7.459,
          -6.975,
          -6.504,
          -5.983,
          -5.507,
          -5.011,
          -4.532,
          -4.032,
          -3.529,
          -2.993,
          -2.544,
          -1.999,
          -1.636,
          -1.059,
          -0.762,
          -0.499,
          -0.055,
          -0.055,
          -0.055,
          -0.055,
          -0.055,
          -0.055,
          -0.055,
          -0.055
         ],
         "y": [
          -21.463148789095907,
          -21.45601775245136,
          -21.44650927412719,
          -21.43947480438768,
          -21.43301234277808,
          -21.421585465494974,
          -21.408096245878642,
          -21.398241590581076,
          -21.380428480795807,
          -21.36495741232101,
          -21.33967714294951,
          -21.314231221294285,
          -21.286533687927488,
          -21.25052410225716,
          -21.203979719044337,
          -21.170009156690746,
          -21.12759510981973,
          -21.085247818870315,
          -21.04330295272696,
          -20.970914631257674,
          -20.924477136289994,
          -20.852095040186818,
          -20.766509332056483,
          -20.679718569408838,
          -20.546516229177293,
          -20.39176701970792,
          -20.24303889307853,
          -20.121972297029437,
          -19.934696328464216,
          -19.703369354861103,
          -19.430209494931123,
          -19.180507372672718,
          -18.9425786475085,
          -18.647582157278745,
          -18.380513065936704,
          -17.979473974174137,
          -17.68746443260741,
          -17.29372778956203,
          -16.83929193511104,
          -16.463616829946215,
          -15.968183453159561,
          -15.511007684348217,
          -15.136769897751318,
          -14.787707821694628,
          -14.46397188653285,
          -14.09460640337479,
          -13.730055382921744,
          -13.167929681267726,
          -12.750541846920374,
          -12.36686372084148,
          -11.810147524347288,
          -11.215178224366094,
          -10.814404720773608,
          -10.298094212967953,
          -9.743486749954618,
          -9.205100415531524,
          -8.668107084931682,
          -8.059215931187206,
          -7.489362686170262,
          -6.881930545451513,
          -6.282241471341057,
          -5.642703782285807,
          -4.985515341534127,
          -4.270152632029605,
          -3.6590941933083716,
          -2.903115803430186,
          -2.391016934100864,
          -1.5631040412023616,
          -1.1303707659660576,
          -0.7434823859861623,
          -0.08250437782360832,
          -0.08250437782360832,
          -0.08250437782360832,
          -0.08250437782360832,
          -0.08250437782360832,
          -0.08250437782360832,
          -0.08250437782360832,
          -0.08250437782360832
         ]
        },
        {
         "line": {
          "color": "rgb(30, 144, 255)",
          "dash": "dash"
         },
         "mode": "lines+text",
         "name": "<b>Model OVSED<b> <b>-40V<b>",
         "text": [
          "-40V"
         ],
         "textfont": {
          "color": "rgb(30, 144, 255)",
          "family": "Times New Roman",
          "size": 13
         },
         "textposition": "bottom center",
         "type": "scatter",
         "x": [
          -39.986,
          -39.372,
          -38.549,
          -37.921,
          -37.898,
          -37.851,
          -37.779,
          -37.755,
          -37.605,
          -37.509,
          -37.462,
          -37.438,
          -37.365,
          -37.341,
          -37.319,
          -36.529,
          -35.713,
          -35.004,
          -34.31,
          -33.641,
          -32.986,
          -32.44,
          -31.329,
          -30.418,
          -29.784,
          -29.127,
          -28.322,
          -27.77,
          -27.032,
          -26.386,
          -25.806,
          -25.136,
          -24.381,
          -23.809,
          -23.371,
          -22.514,
          -21.908,
          -21.325,
          -20.593,
          -19.964,
          -19.468,
          -18.966,
          -18.471,
          -17.983,
          -16.985,
          -16.008,
          -15.515,
          -14.987,
          -14.469,
          -13.989,
          -13.474,
          -13.009,
          -12.459,
          -11.969,
          -11.462,
          -11.032,
          -10.412,
          -9.988,
          -9.485,
          -9.022,
          -8.451,
          -7.957,
          -7.487,
          -7.031,
          -6.466,
          -5.987,
          -5.494,
          -5.042,
          -4.494,
          -3.936,
          -3.504,
          -3.03,
          -2.474,
          -1.981,
          -1.54,
          -1.076,
          -0.648,
          -0.055
         ],
         "y": [
          -40.4864032222497,
          -40.38386339819805,
          -40.232699858133444,
          -40.10602629449044,
          -40.10119179979676,
          -40.09126877172849,
          -40.07595284746121,
          -40.070816559919734,
          -40.038361118036455,
          -40.01726695332935,
          -40.006846933955124,
          -40.00150245772721,
          -39.98514777515057,
          -39.979738367525655,
          -39.974765553358125,
          -39.786971358193846,
          -39.573227706235876,
          -39.3701090837754,
          -39.15466870653467,
          -38.93059984975266,
          -38.69487621271161,
          -38.48550035958022,
          -38.02154874239902,
          -37.60131175069788,
          -37.28671476241354,
          -36.940887592676255,
          -36.4888710355567,
          -36.160471052914,
          -35.69744381682247,
          -35.26922168833474,
          -34.866236975356664,
          -34.37863879973228,
          -33.80050527034373,
          -33.34209891086149,
          -32.979123504524765,
          -32.23880285952958,
          -31.69120218887354,
          -31.145532353883038,
          -30.434269152347674,
          -29.799926440839894,
          -29.284688755767615,
          -28.74980142006951,
          -28.209233943321717,
          -27.6636252002841,
          -26.50899240333032,
          -25.328879186203423,
          -24.714994644549854,
          -24.04404364391733,
          -23.372408132041087,
          -22.73834948277912,
          -22.04570889199046,
          -21.409474486465342,
          -20.643844380705413,
          -19.949953469237013,
          -19.220475615161032,
          -18.592740134199584,
          -17.67324994701254,
          -17.03480853372504,
          -16.267437851782137,
          -15.551668903252397,
          -14.656714456755548,
          -13.871741797998428,
          -13.115850923560231,
          -12.374178114423835,
          -11.44408463584007,
          -10.646085065799653,
          -9.81585055803868,
          -9.046858774697485,
          -8.104717457626082,
          -7.134538577613725,
          -6.376064692926046,
          -5.536592376912967,
          -4.542400889079003,
          -3.652458987572825,
          -2.8498261312993796,
          -1.9987707583593393,
          -1.2078816525962008,
          -0.10296770405836563
         ]
        },
        {
         "line": {
          "color": "black",
          "dash": "solid"
         },
         "mode": "lines+text",
         "name": "<b>Model OPT<b> <b>-20V<b>",
         "text": [
          "-20V"
         ],
         "textfont": {
          "color": "black",
          "family": "Times New Roman",
          "size": 13
         },
         "textposition": "bottom center",
         "type": "scatter",
         "x": [
          -39.564,
          -39.044,
          -38.341,
          -37.808,
          -37.333,
          -36.845,
          -36.163,
          -35.491,
          -34.768,
          -34.143,
          -33.477,
          -32.923,
          -32.378,
          -31.876,
          -31.369,
          -30.726,
          -30.23,
          -29.587,
          -28.912,
          -27.935,
          -27.367,
          -26.657,
          -25.912,
          -25.44,
          -24.773,
          -24.253,
          -23.516,
          -22.587,
          -21.925,
          -21.376,
          -20.685,
          -19.91,
          -19.277,
          -18.648,
          -17.985,
          -17.287,
          -16.563,
          -15.924,
          -15.223,
          -14.464,
          -13.824,
          -12.909,
          -12.477,
          -11.822,
          -11.005,
          -10.32,
          -9.659,
          -9.418,
          -8.608,
          -7.985,
          -7.404,
          -6.949,
          -6.214,
          -5.455,
          -4.469,
          -3.907,
          -3.43,
          -3.003,
          -2.506,
          -1.964,
          -1.572,
          -0.909,
          -0.026,
          -0.026,
          -0.026,
          -0.026,
          -0.026,
          -0.026,
          -0.026,
          -0.026,
          -0.026,
          -0.026,
          -0.026,
          -0.026,
          -0.026,
          -0.026,
          -0.026,
          -0.026
         ],
         "y": [
          -3.55945224488315,
          -3.560214668395558,
          -3.561240897820789,
          -3.5620147979610226,
          -3.5627008582816457,
          -3.5634015290777157,
          -3.5643723297128638,
          -3.5653172495710668,
          -3.5663178494784034,
          -3.5671663088575167,
          -3.5680496768947085,
          -3.5687647667272864,
          -3.569447292358949,
          -3.570054308745133,
          -3.570642659754186,
          -3.5713465243390172,
          -3.5718512536829743,
          -3.5724461919286252,
          -3.572983998342221,
          -3.5735636956494883,
          -3.5737657780793235,
          -3.573843859042287,
          -3.5736706637432594,
          -3.5733975532149906,
          -3.5727516594054265,
          -3.5719997041608327,
          -3.5704844106504785,
          -3.5676455932177995,
          -3.564834009569437,
          -3.5618943649192985,
          -3.5572588784419237,
          -3.5505656878246556,
          -3.5436817071392617,
          -3.535328898339296,
          -3.524593410032647,
          -3.510751113978615,
          -3.4931158833740086,
          -3.474273614947379,
          -3.4494448128686375,
          -3.4168070531664685,
          -3.3838692482282715,
          -3.326671882469633,
          -3.2949612284917262,
          -3.240368649840554,
          -3.1599936627105767,
          -3.0808200016723237,
          -2.993106864278542,
          -2.958162804669691,
          -2.8282895647489457,
          -2.7145702861171794,
          -2.5969832564287234,
          -2.4967775732693815,
          -2.319247834227207,
          -2.1149340471552893,
          -1.8167358526353554,
          -1.629951979198655,
          -1.4618057367396475,
          -1.3038220184287872,
          -1.1111241177248496,
          -0.8902920072205718,
          -0.7237290274503667,
          -0.429201286039528,
          -0.012660297872725804,
          -0.012660297872725804,
          -0.012660297872725804,
          -0.012660297872725804,
          -0.012660297872725804,
          -0.012660297872725804,
          -0.012660297872725804,
          -0.012660297872725804,
          -0.012660297872725804,
          -0.012660297872725804,
          -0.012660297872725804,
          -0.012660297872725804,
          -0.012660297872725804,
          -0.012660297872725804,
          -0.012660297872725804,
          -0.012660297872725804
         ]
        },
        {
         "line": {
          "color": "black",
          "dash": "solid"
         },
         "mode": "lines+text",
         "name": "<b>Model OPT<b> <b>-30V<b>",
         "text": [
          "-30V"
         ],
         "textfont": {
          "color": "black",
          "family": "Times New Roman",
          "size": 13
         },
         "textposition": "bottom center",
         "type": "scatter",
         "x": [
          -40.017,
          -39.419,
          -38.745,
          -38.311,
          -37.949,
          -37.376,
          -36.784,
          -36.396,
          -35.768,
          -35.283,
          -34.582,
          -33.964,
          -33.367,
          -32.681,
          -31.908,
          -31.406,
          -30.837,
          -30.321,
          -29.852,
          -29.122,
          -28.697,
          -28.089,
          -27.44,
          -26.844,
          -26.025,
          -25.186,
          -24.467,
          -23.932,
          -23.176,
          -22.338,
          -21.454,
          -20.724,
          -20.084,
          -19.352,
          -18.738,
          -17.887,
          -17.312,
          -16.586,
          -15.807,
          -15.203,
          -14.453,
          -13.801,
          -13.292,
          -12.835,
          -12.425,
          -11.972,
          -11.539,
          -10.896,
          -10.436,
          -10.025,
          -9.447,
          -8.851,
          -8.461,
          -7.971,
          -7.459,
          -6.975,
          -6.504,
          -5.983,
          -5.507,
          -5.011,
          -4.532,
          -4.032,
          -3.529,
          -2.993,
          -2.544,
          -1.999,
          -1.636,
          -1.059,
          -0.762,
          -0.499,
          -0.055,
          -0.055,
          -0.055,
          -0.055,
          -0.055,
          -0.055,
          -0.055,
          -0.055
         ],
         "y": [
          -11.408957270745782,
          -11.409105690872014,
          -11.409009408224582,
          -11.408779546468091,
          -11.408475662242358,
          -11.40776375614465,
          -11.406695307976547,
          -11.405789304486044,
          -11.403934385670276,
          -11.402135002108324,
          -11.398889505262554,
          -11.395307931257234,
          -11.391112751656978,
          -11.38527042181275,
          -11.377172695836816,
          -11.370928465714236,
          -11.362785237049948,
          -11.354308930864615,
          -11.345603853491358,
          -11.329925709915434,
          -11.319468409257137,
          -11.302599194536924,
          -11.281827299721787,
          -11.25992268284112,
          -11.22479683519518,
          -11.18189368808678,
          -11.138717754218254,
          -11.102267006498607,
          -11.043729212873831,
          -10.968062445584335,
          -10.874305870566582,
          -10.784745749199118,
          -10.696224640657341,
          -10.58244748332191,
          -10.475848267763464,
          -10.30983306707161,
          -10.18477935614664,
          -10.011020248866911,
          -9.803705109308689,
          -9.627289966628286,
          -9.3882732146826,
          -9.161835286460684,
          -8.972628213499634,
          -8.79325787943934,
          -8.624569854003862,
          -8.429541277736156,
          -8.234548195249666,
          -7.929375438919393,
          -7.69953109678385,
          -7.486005344100199,
          -7.172660755406184,
          -6.833587341856297,
          -6.602959027865582,
          -6.303428395201286,
          -5.978900376806586,
          -5.661355382901943,
          -5.342389683055435,
          -4.9782543966541555,
          -4.635309489208032,
          -4.267668429497392,
          -3.9027996903203883,
          -3.5117849648303046,
          -3.1081251616018073,
          -2.666803659731797,
          -2.2883840889937184,
          -1.8185478158354713,
          -1.499318560433847,
          -0.9817189294609197,
          -0.7104956794434755,
          -0.4676354973129052,
          -0.05195657376214634,
          -0.05195657376214634,
          -0.05195657376214634,
          -0.05195657376214634,
          -0.05195657376214634,
          -0.05195657376214634,
          -0.05195657376214634,
          -0.05195657376214634
         ]
        },
        {
         "line": {
          "color": "black",
          "dash": "solid"
         },
         "mode": "lines+text",
         "name": "<b>Model OPT<b> <b>-40V<b>",
         "text": [
          "-40V"
         ],
         "textfont": {
          "color": "black",
          "family": "Times New Roman",
          "size": 13
         },
         "textposition": "bottom center",
         "type": "scatter",
         "x": [
          -39.986,
          -39.372,
          -38.549,
          -37.921,
          -37.898,
          -37.851,
          -37.779,
          -37.755,
          -37.605,
          -37.509,
          -37.462,
          -37.438,
          -37.365,
          -37.341,
          -37.319,
          -36.529,
          -35.713,
          -35.004,
          -34.31,
          -33.641,
          -32.986,
          -32.44,
          -31.329,
          -30.418,
          -29.784,
          -29.127,
          -28.322,
          -27.77,
          -27.032,
          -26.386,
          -25.806,
          -25.136,
          -24.381,
          -23.809,
          -23.371,
          -22.514,
          -21.908,
          -21.325,
          -20.593,
          -19.964,
          -19.468,
          -18.966,
          -18.471,
          -17.983,
          -16.985,
          -16.008,
          -15.515,
          -14.987,
          -14.469,
          -13.989,
          -13.474,
          -13.009,
          -12.459,
          -11.969,
          -11.462,
          -11.032,
          -10.412,
          -9.988,
          -9.485,
          -9.022,
          -8.451,
          -7.957,
          -7.487,
          -7.031,
          -6.466,
          -5.987,
          -5.494,
          -5.042,
          -4.494,
          -3.936,
          -3.504,
          -3.03,
          -2.474,
          -1.981,
          -1.54,
          -1.076,
          -0.648,
          -0.055
         ],
         "y": [
          -23.399802203222205,
          -23.379182172182556,
          -23.347382864093117,
          -23.319535735737848,
          -23.31845225526034,
          -23.316223693227705,
          -23.312771700401438,
          -23.311610734188456,
          -23.30423648688384,
          -23.2994084975696,
          -23.2970134522467,
          -23.295782435200092,
          -23.29200453584366,
          -23.290751385638593,
          -23.28959780923148,
          -23.244960454035148,
          -23.191721512115556,
          -23.138866790702508,
          -23.080522916938126,
          -23.01746661383841,
          -22.94863189610087,
          -22.885429020230674,
          -22.73880634997531,
          -22.598602307760654,
          -22.489294358457887,
          -22.36503969270388,
          -22.19646067531723,
          -22.069796331092125,
          -21.88550695933087,
          -21.7094101083141,
          -21.538964750586388,
          -21.32690255767575,
          -21.067638612317264,
          -20.856364329506377,
          -20.685676914083807,
          -20.3287611250897,
          -20.057619648656036,
          -19.781789625765274,
          -19.414332958110062,
          -19.079553540974462,
          -18.80305093998147,
          -18.51191287133344,
          -18.213682285194352,
          -17.908818873908714,
          -17.25185526157376,
          -16.565384697910133,
          -16.20286229875988,
          -15.80272798375463,
          -15.398346693773002,
          -15.01328259394132,
          -14.589195462762486,
          -14.19666130931815,
          -13.720741553299137,
          -13.286265914778605,
          -12.82647882372004,
          -12.428475579616238,
          -11.841816830437429,
          -11.432053423759598,
          -10.937071201043578,
          -10.473072027918365,
          -9.889968472399454,
          -9.375977731178192,
          -8.878904671920123,
          -8.389255898598572,
          -7.772653980128235,
          -7.241466590984416,
          -6.686812257051323,
          -6.171324923977428,
          -5.537580152954723,
          -4.882570473464807,
          -4.368864751173059,
          -3.798699609554436,
          -3.12135609099997,
          -2.5131828908160156,
          -1.9632240731436907,
          -1.378629119971332,
          -0.8340589479528182,
          -0.07121282216506185
         ]
        },
        {
         "marker": {
          "color": "rgb(255, 0, 0)",
          "line": {
           "color": "MediumPurple",
           "width": 0.8
          },
          "opacity": 0.5,
          "size": 11
         },
         "mode": "markers+text",
         "name": "<b>Exp <b> <b>-25V<b> <b> (-5V)<b>",
         "text": [
          "<b>VGS<b>=-20V  (-5)"
         ],
         "textfont": {
          "color": "rgb(255, 0, 0)",
          "family": "Times New Roman",
          "size": 18
         },
         "textposition": "top right",
         "type": "scatter",
         "x": [
          -39.564,
          -39.044,
          -38.341,
          -37.808,
          -37.333,
          -36.845,
          -36.163,
          -35.491,
          -34.768,
          -34.143,
          -33.477,
          -32.923,
          -32.378,
          -31.876,
          -31.369,
          -30.726,
          -30.23,
          -29.587,
          -28.912,
          -27.935,
          -27.367,
          -26.657,
          -25.912,
          -25.44,
          -24.773,
          -24.253,
          -23.516,
          -22.587,
          -21.925,
          -21.376,
          -20.685,
          -19.91,
          -19.277,
          -18.648,
          -17.985,
          -17.287,
          -16.563,
          -15.924,
          -15.223,
          -14.464,
          -13.824,
          -12.909,
          -12.477,
          -11.822,
          -11.005,
          -10.32,
          -9.659,
          -9.418,
          -8.608,
          -7.985,
          -7.404,
          -6.949,
          -6.214,
          -5.455,
          -4.469,
          -3.907,
          -3.43,
          -3.003,
          -2.506,
          -1.964,
          -1.572,
          -0.909,
          -0.026,
          -0.026,
          -0.026,
          -0.026,
          -0.026,
          -0.026,
          -0.026,
          -0.026,
          -0.026,
          -0.026,
          -0.026,
          -0.026,
          -0.026,
          -0.026,
          -0.026,
          -0.026
         ],
         "y": [
          -3.55,
          -3.571,
          -3.571,
          -3.539,
          -3.556,
          -3.557,
          -3.484,
          -3.56,
          -3.578,
          -3.563,
          -3.564,
          -3.564,
          -3.565,
          -3.602,
          -3.618,
          -3.553,
          -3.587,
          -3.586,
          -3.573,
          -3.51,
          -3.533,
          -3.571,
          -3.542,
          -3.542,
          -3.562,
          -3.562,
          -3.548,
          -3.535,
          -3.554,
          -3.555,
          -3.556,
          -3.523,
          -3.524,
          -3.541,
          -3.528,
          -3.563,
          -3.563,
          -3.535,
          -3.486,
          -3.452,
          -3.453,
          -3.404,
          -3.388,
          -3.324,
          -3.238,
          -3.255,
          -3.14,
          -3.073,
          -2.971,
          -2.818,
          -2.713,
          -2.528,
          -2.447,
          -2.165,
          -1.825,
          -1.634,
          -1.497,
          -1.279,
          -1.08,
          -0.871,
          -0.678,
          -0.403,
          -0.016,
          -0.016,
          -0.016,
          -0.016,
          -0.016,
          -0.016,
          -0.016,
          -0.016,
          -0.016,
          -0.016,
          -0.016,
          -0.016,
          -0.016,
          -0.016,
          -0.016,
          -0.016
         ]
        },
        {
         "marker": {
          "color": "rgb(0, 0, 255)",
          "line": {
           "color": "MediumPurple",
           "width": 0.8
          },
          "opacity": 0.5,
          "size": 11
         },
         "mode": "markers+text",
         "name": "<b>Exp <b> <b>-35V<b> <b> (-5V)<b>",
         "text": [
          "<b>VGS<b>=-30V  (-5)"
         ],
         "textfont": {
          "color": "rgb(0, 0, 255)",
          "family": "Times New Roman",
          "size": 18
         },
         "textposition": "top right",
         "type": "scatter",
         "x": [
          -40.017,
          -39.419,
          -38.745,
          -38.311,
          -37.949,
          -37.376,
          -36.784,
          -36.396,
          -35.768,
          -35.283,
          -34.582,
          -33.964,
          -33.367,
          -32.681,
          -31.908,
          -31.406,
          -30.837,
          -30.321,
          -29.852,
          -29.122,
          -28.697,
          -28.089,
          -27.44,
          -26.844,
          -26.025,
          -25.186,
          -24.467,
          -23.932,
          -23.176,
          -22.338,
          -21.454,
          -20.724,
          -20.084,
          -19.352,
          -18.738,
          -17.887,
          -17.312,
          -16.586,
          -15.807,
          -15.203,
          -14.453,
          -13.801,
          -13.292,
          -12.835,
          -12.425,
          -11.972,
          -11.539,
          -10.896,
          -10.436,
          -10.025,
          -9.447,
          -8.851,
          -8.461,
          -7.971,
          -7.459,
          -6.975,
          -6.504,
          -5.983,
          -5.507,
          -5.011,
          -4.532,
          -4.032,
          -3.529,
          -2.993,
          -2.544,
          -1.999,
          -1.636,
          -1.059,
          -0.762,
          -0.499,
          -0.055,
          -0.055,
          -0.055,
          -0.055,
          -0.055,
          -0.055,
          -0.055,
          -0.055
         ],
         "y": [
          -11.498,
          -11.447,
          -11.416,
          -11.434,
          -11.39,
          -11.409,
          -11.41,
          -11.41,
          -11.411,
          -11.394,
          -11.395,
          -11.379,
          -11.379,
          -11.347,
          -11.309,
          -11.31,
          -11.278,
          -11.279,
          -11.279,
          -11.297,
          -11.264,
          -11.265,
          -11.25,
          -11.202,
          -11.17,
          -11.189,
          -11.093,
          -11.061,
          -11.064,
          -11,
          -10.883,
          -10.863,
          -10.746,
          -10.679,
          -10.537,
          -10.398,
          -10.296,
          -10.093,
          -9.88,
          -9.687,
          -9.392,
          -9.155,
          -8.951,
          -8.738,
          -8.518,
          -8.335,
          -8.105,
          -7.812,
          -7.587,
          -7.349,
          -7.083,
          -6.719,
          -6.469,
          -6.149,
          -5.833,
          -5.554,
          -5.165,
          -4.816,
          -4.496,
          -4.145,
          -3.71,
          -3.361,
          -2.986,
          -2.549,
          -2.108,
          -1.775,
          -1.386,
          -1.079,
          -0.723,
          -0.41,
          -0.015,
          -0.015,
          -0.015,
          -0.015,
          -0.015,
          -0.015,
          -0.015,
          -0.015
         ]
        },
        {
         "marker": {
          "color": "rgb(30, 144, 255)",
          "line": {
           "color": "MediumPurple",
           "width": 0.8
          },
          "opacity": 0.5,
          "size": 11
         },
         "mode": "markers+text",
         "name": "<b>Exp <b> <b>-45V<b> <b> (-5V)<b>",
         "text": [
          "<b>VGS<b>=-40V  (-5)"
         ],
         "textfont": {
          "color": "rgb(30, 144, 255)",
          "family": "Times New Roman",
          "size": 18
         },
         "textposition": "top right",
         "type": "scatter",
         "x": [
          -39.986,
          -39.372,
          -38.549,
          -37.921,
          -37.898,
          -37.851,
          -37.779,
          -37.755,
          -37.605,
          -37.509,
          -37.462,
          -37.438,
          -37.365,
          -37.341,
          -37.319,
          -36.529,
          -35.713,
          -35.004,
          -34.31,
          -33.641,
          -32.986,
          -32.44,
          -31.329,
          -30.418,
          -29.784,
          -29.127,
          -28.322,
          -27.77,
          -27.032,
          -26.386,
          -25.806,
          -25.136,
          -24.381,
          -23.809,
          -23.371,
          -22.514,
          -21.908,
          -21.325,
          -20.593,
          -19.964,
          -19.468,
          -18.966,
          -18.471,
          -17.983,
          -16.985,
          -16.008,
          -15.515,
          -14.987,
          -14.469,
          -13.989,
          -13.474,
          -13.009,
          -12.459,
          -11.969,
          -11.462,
          -11.032,
          -10.412,
          -9.988,
          -9.485,
          -9.022,
          -8.451,
          -7.957,
          -7.487,
          -7.031,
          -6.466,
          -5.987,
          -5.494,
          -5.042,
          -4.494,
          -3.936,
          -3.504,
          -3.03,
          -2.474,
          -1.981,
          -1.54,
          -1.076,
          -0.648,
          -0.055
         ],
         "y": [
          -23.363,
          -23.4,
          -23.266,
          -23.266,
          -23.266,
          -23.266,
          -23.267,
          -23.267,
          -23.267,
          -23.267,
          -23.267,
          -23.267,
          -23.285,
          -23.285,
          -23.285,
          -23.185,
          -23.173,
          -23.038,
          -23.038,
          -22.975,
          -22.936,
          -22.865,
          -22.748,
          -22.68,
          -22.582,
          -22.463,
          -22.321,
          -22.184,
          -22.02,
          -21.835,
          -21.627,
          -21.467,
          -21.203,
          -20.996,
          -20.742,
          -20.339,
          -20.099,
          -19.801,
          -19.487,
          -19.058,
          -18.782,
          -18.453,
          -18.16,
          -17.87,
          -17.28,
          -16.636,
          -16.213,
          -15.772,
          -15.371,
          -15.012,
          -14.607,
          -14.168,
          -13.708,
          -13.264,
          -12.819,
          -12.333,
          -11.981,
          -11.435,
          -10.955,
          -10.447,
          -9.94,
          -9.368,
          -8.903,
          -8.412,
          -7.825,
          -7.214,
          -6.673,
          -6.104,
          -5.535,
          -4.966,
          -4.308,
          -3.8,
          -3.134,
          -2.447,
          -1.896,
          -1.273,
          -0.697,
          -0.021
         ]
        }
       ],
       "layout": {
        "height": 600,
        "legend": {
         "font": {
          "size": 16
         }
        },
        "template": {
         "data": {
          "bar": [
           {
            "error_x": {
             "color": "#2a3f5f"
            },
            "error_y": {
             "color": "#2a3f5f"
            },
            "marker": {
             "line": {
              "color": "#E5ECF6",
              "width": 0.5
             },
             "pattern": {
              "fillmode": "overlay",
              "size": 10,
              "solidity": 0.2
             }
            },
            "type": "bar"
           }
          ],
          "barpolar": [
           {
            "marker": {
             "line": {
              "color": "#E5ECF6",
              "width": 0.5
             },
             "pattern": {
              "fillmode": "overlay",
              "size": 10,
              "solidity": 0.2
             }
            },
            "type": "barpolar"
           }
          ],
          "carpet": [
           {
            "aaxis": {
             "endlinecolor": "#2a3f5f",
             "gridcolor": "white",
             "linecolor": "white",
             "minorgridcolor": "white",
             "startlinecolor": "#2a3f5f"
            },
            "baxis": {
             "endlinecolor": "#2a3f5f",
             "gridcolor": "white",
             "linecolor": "white",
             "minorgridcolor": "white",
             "startlinecolor": "#2a3f5f"
            },
            "type": "carpet"
           }
          ],
          "choropleth": [
           {
            "colorbar": {
             "outlinewidth": 0,
             "ticks": ""
            },
            "type": "choropleth"
           }
          ],
          "contour": [
           {
            "colorbar": {
             "outlinewidth": 0,
             "ticks": ""
            },
            "colorscale": [
             [
              0,
              "#0d0887"
             ],
             [
              0.1111111111111111,
              "#46039f"
             ],
             [
              0.2222222222222222,
              "#7201a8"
             ],
             [
              0.3333333333333333,
              "#9c179e"
             ],
             [
              0.4444444444444444,
              "#bd3786"
             ],
             [
              0.5555555555555556,
              "#d8576b"
             ],
             [
              0.6666666666666666,
              "#ed7953"
             ],
             [
              0.7777777777777778,
              "#fb9f3a"
             ],
             [
              0.8888888888888888,
              "#fdca26"
             ],
             [
              1,
              "#f0f921"
             ]
            ],
            "type": "contour"
           }
          ],
          "contourcarpet": [
           {
            "colorbar": {
             "outlinewidth": 0,
             "ticks": ""
            },
            "type": "contourcarpet"
           }
          ],
          "heatmap": [
           {
            "colorbar": {
             "outlinewidth": 0,
             "ticks": ""
            },
            "colorscale": [
             [
              0,
              "#0d0887"
             ],
             [
              0.1111111111111111,
              "#46039f"
             ],
             [
              0.2222222222222222,
              "#7201a8"
             ],
             [
              0.3333333333333333,
              "#9c179e"
             ],
             [
              0.4444444444444444,
              "#bd3786"
             ],
             [
              0.5555555555555556,
              "#d8576b"
             ],
             [
              0.6666666666666666,
              "#ed7953"
             ],
             [
              0.7777777777777778,
              "#fb9f3a"
             ],
             [
              0.8888888888888888,
              "#fdca26"
             ],
             [
              1,
              "#f0f921"
             ]
            ],
            "type": "heatmap"
           }
          ],
          "heatmapgl": [
           {
            "colorbar": {
             "outlinewidth": 0,
             "ticks": ""
            },
            "colorscale": [
             [
              0,
              "#0d0887"
             ],
             [
              0.1111111111111111,
              "#46039f"
             ],
             [
              0.2222222222222222,
              "#7201a8"
             ],
             [
              0.3333333333333333,
              "#9c179e"
             ],
             [
              0.4444444444444444,
              "#bd3786"
             ],
             [
              0.5555555555555556,
              "#d8576b"
             ],
             [
              0.6666666666666666,
              "#ed7953"
             ],
             [
              0.7777777777777778,
              "#fb9f3a"
             ],
             [
              0.8888888888888888,
              "#fdca26"
             ],
             [
              1,
              "#f0f921"
             ]
            ],
            "type": "heatmapgl"
           }
          ],
          "histogram": [
           {
            "marker": {
             "pattern": {
              "fillmode": "overlay",
              "size": 10,
              "solidity": 0.2
             }
            },
            "type": "histogram"
           }
          ],
          "histogram2d": [
           {
            "colorbar": {
             "outlinewidth": 0,
             "ticks": ""
            },
            "colorscale": [
             [
              0,
              "#0d0887"
             ],
             [
              0.1111111111111111,
              "#46039f"
             ],
             [
              0.2222222222222222,
              "#7201a8"
             ],
             [
              0.3333333333333333,
              "#9c179e"
             ],
             [
              0.4444444444444444,
              "#bd3786"
             ],
             [
              0.5555555555555556,
              "#d8576b"
             ],
             [
              0.6666666666666666,
              "#ed7953"
             ],
             [
              0.7777777777777778,
              "#fb9f3a"
             ],
             [
              0.8888888888888888,
              "#fdca26"
             ],
             [
              1,
              "#f0f921"
             ]
            ],
            "type": "histogram2d"
           }
          ],
          "histogram2dcontour": [
           {
            "colorbar": {
             "outlinewidth": 0,
             "ticks": ""
            },
            "colorscale": [
             [
              0,
              "#0d0887"
             ],
             [
              0.1111111111111111,
              "#46039f"
             ],
             [
              0.2222222222222222,
              "#7201a8"
             ],
             [
              0.3333333333333333,
              "#9c179e"
             ],
             [
              0.4444444444444444,
              "#bd3786"
             ],
             [
              0.5555555555555556,
              "#d8576b"
             ],
             [
              0.6666666666666666,
              "#ed7953"
             ],
             [
              0.7777777777777778,
              "#fb9f3a"
             ],
             [
              0.8888888888888888,
              "#fdca26"
             ],
             [
              1,
              "#f0f921"
             ]
            ],
            "type": "histogram2dcontour"
           }
          ],
          "mesh3d": [
           {
            "colorbar": {
             "outlinewidth": 0,
             "ticks": ""
            },
            "type": "mesh3d"
           }
          ],
          "parcoords": [
           {
            "line": {
             "colorbar": {
              "outlinewidth": 0,
              "ticks": ""
             }
            },
            "type": "parcoords"
           }
          ],
          "pie": [
           {
            "automargin": true,
            "type": "pie"
           }
          ],
          "scatter": [
           {
            "fillpattern": {
             "fillmode": "overlay",
             "size": 10,
             "solidity": 0.2
            },
            "type": "scatter"
           }
          ],
          "scatter3d": [
           {
            "line": {
             "colorbar": {
              "outlinewidth": 0,
              "ticks": ""
             }
            },
            "marker": {
             "colorbar": {
              "outlinewidth": 0,
              "ticks": ""
             }
            },
            "type": "scatter3d"
           }
          ],
          "scattercarpet": [
           {
            "marker": {
             "colorbar": {
              "outlinewidth": 0,
              "ticks": ""
             }
            },
            "type": "scattercarpet"
           }
          ],
          "scattergeo": [
           {
            "marker": {
             "colorbar": {
              "outlinewidth": 0,
              "ticks": ""
             }
            },
            "type": "scattergeo"
           }
          ],
          "scattergl": [
           {
            "marker": {
             "colorbar": {
              "outlinewidth": 0,
              "ticks": ""
             }
            },
            "type": "scattergl"
           }
          ],
          "scattermapbox": [
           {
            "marker": {
             "colorbar": {
              "outlinewidth": 0,
              "ticks": ""
             }
            },
            "type": "scattermapbox"
           }
          ],
          "scatterpolar": [
           {
            "marker": {
             "colorbar": {
              "outlinewidth": 0,
              "ticks": ""
             }
            },
            "type": "scatterpolar"
           }
          ],
          "scatterpolargl": [
           {
            "marker": {
             "colorbar": {
              "outlinewidth": 0,
              "ticks": ""
             }
            },
            "type": "scatterpolargl"
           }
          ],
          "scatterternary": [
           {
            "marker": {
             "colorbar": {
              "outlinewidth": 0,
              "ticks": ""
             }
            },
            "type": "scatterternary"
           }
          ],
          "surface": [
           {
            "colorbar": {
             "outlinewidth": 0,
             "ticks": ""
            },
            "colorscale": [
             [
              0,
              "#0d0887"
             ],
             [
              0.1111111111111111,
              "#46039f"
             ],
             [
              0.2222222222222222,
              "#7201a8"
             ],
             [
              0.3333333333333333,
              "#9c179e"
             ],
             [
              0.4444444444444444,
              "#bd3786"
             ],
             [
              0.5555555555555556,
              "#d8576b"
             ],
             [
              0.6666666666666666,
              "#ed7953"
             ],
             [
              0.7777777777777778,
              "#fb9f3a"
             ],
             [
              0.8888888888888888,
              "#fdca26"
             ],
             [
              1,
              "#f0f921"
             ]
            ],
            "type": "surface"
           }
          ],
          "table": [
           {
            "cells": {
             "fill": {
              "color": "#EBF0F8"
             },
             "line": {
              "color": "white"
             }
            },
            "header": {
             "fill": {
              "color": "#C8D4E3"
             },
             "line": {
              "color": "white"
             }
            },
            "type": "table"
           }
          ]
         },
         "layout": {
          "annotationdefaults": {
           "arrowcolor": "#2a3f5f",
           "arrowhead": 0,
           "arrowwidth": 1
          },
          "autotypenumbers": "strict",
          "coloraxis": {
           "colorbar": {
            "outlinewidth": 0,
            "ticks": ""
           }
          },
          "colorscale": {
           "diverging": [
            [
             0,
             "#8e0152"
            ],
            [
             0.1,
             "#c51b7d"
            ],
            [
             0.2,
             "#de77ae"
            ],
            [
             0.3,
             "#f1b6da"
            ],
            [
             0.4,
             "#fde0ef"
            ],
            [
             0.5,
             "#f7f7f7"
            ],
            [
             0.6,
             "#e6f5d0"
            ],
            [
             0.7,
             "#b8e186"
            ],
            [
             0.8,
             "#7fbc41"
            ],
            [
             0.9,
             "#4d9221"
            ],
            [
             1,
             "#276419"
            ]
           ],
           "sequential": [
            [
             0,
             "#0d0887"
            ],
            [
             0.1111111111111111,
             "#46039f"
            ],
            [
             0.2222222222222222,
             "#7201a8"
            ],
            [
             0.3333333333333333,
             "#9c179e"
            ],
            [
             0.4444444444444444,
             "#bd3786"
            ],
            [
             0.5555555555555556,
             "#d8576b"
            ],
            [
             0.6666666666666666,
             "#ed7953"
            ],
            [
             0.7777777777777778,
             "#fb9f3a"
            ],
            [
             0.8888888888888888,
             "#fdca26"
            ],
            [
             1,
             "#f0f921"
            ]
           ],
           "sequentialminus": [
            [
             0,
             "#0d0887"
            ],
            [
             0.1111111111111111,
             "#46039f"
            ],
            [
             0.2222222222222222,
             "#7201a8"
            ],
            [
             0.3333333333333333,
             "#9c179e"
            ],
            [
             0.4444444444444444,
             "#bd3786"
            ],
            [
             0.5555555555555556,
             "#d8576b"
            ],
            [
             0.6666666666666666,
             "#ed7953"
            ],
            [
             0.7777777777777778,
             "#fb9f3a"
            ],
            [
             0.8888888888888888,
             "#fdca26"
            ],
            [
             1,
             "#f0f921"
            ]
           ]
          },
          "colorway": [
           "#636efa",
           "#EF553B",
           "#00cc96",
           "#ab63fa",
           "#FFA15A",
           "#19d3f3",
           "#FF6692",
           "#B6E880",
           "#FF97FF",
           "#FECB52"
          ],
          "font": {
           "color": "#2a3f5f"
          },
          "geo": {
           "bgcolor": "white",
           "lakecolor": "white",
           "landcolor": "#E5ECF6",
           "showlakes": true,
           "showland": true,
           "subunitcolor": "white"
          },
          "hoverlabel": {
           "align": "left"
          },
          "hovermode": "closest",
          "mapbox": {
           "style": "light"
          },
          "paper_bgcolor": "white",
          "plot_bgcolor": "#E5ECF6",
          "polar": {
           "angularaxis": {
            "gridcolor": "white",
            "linecolor": "white",
            "ticks": ""
           },
           "bgcolor": "#E5ECF6",
           "radialaxis": {
            "gridcolor": "white",
            "linecolor": "white",
            "ticks": ""
           }
          },
          "scene": {
           "xaxis": {
            "backgroundcolor": "#E5ECF6",
            "gridcolor": "white",
            "gridwidth": 2,
            "linecolor": "white",
            "showbackground": true,
            "ticks": "",
            "zerolinecolor": "white"
           },
           "yaxis": {
            "backgroundcolor": "#E5ECF6",
            "gridcolor": "white",
            "gridwidth": 2,
            "linecolor": "white",
            "showbackground": true,
            "ticks": "",
            "zerolinecolor": "white"
           },
           "zaxis": {
            "backgroundcolor": "#E5ECF6",
            "gridcolor": "white",
            "gridwidth": 2,
            "linecolor": "white",
            "showbackground": true,
            "ticks": "",
            "zerolinecolor": "white"
           }
          },
          "shapedefaults": {
           "line": {
            "color": "#2a3f5f"
           }
          },
          "ternary": {
           "aaxis": {
            "gridcolor": "white",
            "linecolor": "white",
            "ticks": ""
           },
           "baxis": {
            "gridcolor": "white",
            "linecolor": "white",
            "ticks": ""
           },
           "bgcolor": "#E5ECF6",
           "caxis": {
            "gridcolor": "white",
            "linecolor": "white",
            "ticks": ""
           }
          },
          "title": {
           "x": 0.05
          },
          "xaxis": {
           "automargin": true,
           "gridcolor": "white",
           "linecolor": "white",
           "ticks": "",
           "title": {
            "standoff": 15
           },
           "zerolinecolor": "white",
           "zerolinewidth": 2
          },
          "yaxis": {
           "automargin": true,
           "gridcolor": "white",
           "linecolor": "white",
           "ticks": "",
           "title": {
            "standoff": 15
           },
           "zerolinecolor": "white",
           "zerolinewidth": 2
          }
         }
        },
        "title": {
         "font": {
          "color": "black",
          "family": "Overpass",
          "size": 25
         },
         "text": "<b>Model Vs Model Optimized (OPT)<b>",
         "x": 0.45,
         "y": 0.9
        },
        "width": 1100,
        "xaxis": {
         "title": {
          "font": {
           "color": "black",
           "family": "Overpass",
           "size": 25
          },
          "standoff": 25,
          "text": "<b>VDS / V<b>"
         }
        },
        "yaxis": {
         "title": {
          "font": {
           "color": "black",
           "family": "Overpass",
           "size": 25
          },
          "standoff": 10,
          "text": "<b>ID / uA<b>"
         },
         "type": "linear"
        }
       }
      }
     },
     "metadata": {},
     "output_type": "display_data"
    },
    {
     "name": "stdout",
     "output_type": "stream",
     "text": [
      "\n",
      "\n",
      "\n",
      "\n",
      "\n",
      "\n",
      "**************************************************************************************************************************************************\n",
      "\n",
      "|RELATIVE ERROR BETWEEN CURVES: 22444.1562\n",
      "\n",
      "**************************************************************************************************************************************************\n",
      "\n",
      "\n",
      "\n",
      "\n",
      "\n",
      "\n"
     ]
    }
   ],
   "source": [
    "# @title #### **Print grafics plots of model Optimizad and model data.** { run: \"auto\" }\n",
    "# @markdown ### ***Choice the plot that you want to view:***\n",
    "# @markdown ---\n",
    "option = 'show both curves comp' # @param [\"Show Transfer curve opt\", \"Show output curve opt\", \"show both curves opt\", \"Show Transfer curve comp\", \"Show output curve comp\", \"show both curves comp\"]\n",
    "\n",
    "model_opt = create_optimized_model(read, TFTModel, n_points, type_curve_plot, coeff_opt, input_voltage, Vv, load_idleak, width_t, count_transfer, tp_tst, settings['experimental_data_scale_transfer'], settings['current_typic'], resistance, current)\n",
    "\n",
    "in_model_data_opt, in_exp_data_opt, out_model_data_opt, out_exp_data_opt, in_model_data_comp, in_exp_data_comp, out_model_data_comp, out_exp_data_comp = get_model_data(read, count_transfer, count_output, Vv, Id, model_opt, model, compare=True)\n",
    "\n",
    "plot_curves(option, plot, list_tension, list_tension_shift, count_transfer, in_model_data_comp, out_model_data_comp, in_exp_data_comp, out_exp_data_comp, shift_list, settings['select_files'], settings['current_typic'], type_curve_plot, compare=True)\n",
    "\n",
    "read.compute_relative_distance(Id, model_opt)\n",
    "print('\\n\\n\\n\\n\\n')\n"
   ]
  }
 ],
 "metadata": {
  "colab": {
   "collapsed_sections": [
    "teoZkrLIvxaV",
    "HfZC11MavqP5",
    "Kw3wbLglv07J",
    "IHBDOV5ZwCml",
    "c0Jt9A63whok",
    "kSdWoeRx5pob",
    "yMkpHlhivMmv",
    "Lz9YHSiMvVFb",
    "WYpRFYGbu6oH",
    "cXKg5hS-drnb"
   ],
   "provenance": []
  },
  "kernelspec": {
   "display_name": "otft-env",
   "language": "python",
   "name": "python3"
  },
  "language_info": {
   "codemirror_mode": {
    "name": "ipython",
    "version": 3
   },
   "file_extension": ".py",
   "mimetype": "text/x-python",
   "name": "python",
   "nbconvert_exporter": "python",
   "pygments_lexer": "ipython3",
   "version": "3.10.12"
  }
 },
 "nbformat": 4,
 "nbformat_minor": 0
}
