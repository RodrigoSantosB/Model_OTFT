{
 "cells": [
  {
   "cell_type": "markdown",
   "metadata": {
    "id": "HS2zqnqTp83j"
   },
   "source": [
    "# **Summary** 📘\n",
    "\n",
    "1.   **Abstract**\n",
    "2.   **Introduction**\n",
    "3.   **Objectives**\n",
    "4.   **Methodology**\n",
    "4.   **Model**\n",
    "4.   **Using the Model**\n",
    "5.   **Optimizing the Model**\n",
    "5.   **Visualizing Optimized Parameters**\n",
    "5.   **Results**\n",
    "6.   **References**"
   ]
  },
  {
   "cell_type": "markdown",
   "metadata": {
    "id": "_a5XygxxnYzp"
   },
   "source": [
    "## **Benchmarking Tool for Thin-Film Transistors** ⚡\n",
    "\n",
    "## **Student**:\n",
    "\n",
    "Rodrigo Santos Batista – rsb6@cin.ufpe.br\n",
    "\n",
    "CIn ­ UFPE\n",
    "\n",
    "## **Research project**:\n",
    "\n",
    "Benchmarking emerging technologies for near and far computing\n",
    "\n",
    "inside sensors (BEeTle)\n",
    "\n",
    "## **Coordinator**:\n",
    "\n",
    "Stefan Michael Blawid – sblawid@cin.ufpe.br\n",
    "\n",
    "CIn ­ UFPE"
   ]
  },
  {
   "cell_type": "markdown",
   "metadata": {
    "id": "BHo5BnF7L2jD"
   },
   "source": []
  },
  {
   "cell_type": "markdown",
   "metadata": {
    "id": "teoZkrLIvxaV"
   },
   "source": [
    "### **Abstract** 📩"
   ]
  },
  {
   "cell_type": "markdown",
   "metadata": {
    "id": "T1gfcLkSyPWh"
   },
   "source": [
    "> Thin-film transistors (TFTs) are electronic switches where a current flows from the source terminal to the drain terminal, controlled by the voltage applied to the third terminal, the gate. Benchmark models need to reasonably reproduce the current-voltage (IV) characteristics of TFTs with a minimal number of parameters. Here, \"reasonably\" means that the model parameters can be reliably and unambiguously extracted from experimental IV curves."
   ]
  },
  {
   "cell_type": "markdown",
   "metadata": {
    "id": "HfZC11MavqP5"
   },
   "source": [
    "### **Introduction** 📢\n"
   ]
  },
  {
   "cell_type": "markdown",
   "metadata": {
    "id": "jfejU_Wbvbcg"
   },
   "source": [
    "> The ubiquitous computing paradigm envisions computing appearing everywhere at any time. Flexible electronics are considered an essential enabling technology `[1]`. Flexible electronics offer various form factors, including soft, flexible, stretchable, and lightweight forms, thus allowing ambient intelligence to become widely available. Promising applications in health, industrial, environmental, agricultural, and structural monitoring have already been demonstrated `[2]`. It is generally accepted that the low cost required for edge devices `[3]` of future Internet of Things (IoT) infrastructures can only be achieved through printing manufacturing. The basic printed blocks of flexible electronics include sensors, energy harvesters, displays, and antennas. Many of these components require thin-film transistors (TFTs) as active switches. TFTs are usually compared across different devices and technologies based on threshold voltage, charge carrier mobility, and series resistance. However, conventional parameter extraction established for silicon transistors often leads to misleading results when applied to TFTs `[4]`. Some of the peculiarities of TFTs can be addressed by the virtual source (VS) emission-diffusion (ED) theory `[5]`. In combination with nonlinear least squares solvers, VSED-based benchmark models can replace conventional extraction methods and are applicable to a wide range of TFT technologies `[6]`."
   ]
  },
  {
   "cell_type": "markdown",
   "metadata": {
    "id": "Kw3wbLglv07J"
   },
   "source": [
    "### **Objective** 🔎\n"
   ]
  },
  {
   "cell_type": "markdown",
   "metadata": {
    "id": "aqwdc5NS_7bH"
   },
   "source": [
    "> The optimization of parameters for TFT devices is an important process in the manufacturing of thin-film electronics. The main reason for performing this process is to improve the performance of the devices, making them more efficient, reliable, and cost-effective. Essentially, we want to optimize certain parameters embedded in a model that will provide the best results for the production of these devices. A simplified form of how the model operates can be described as follows: `ID = F(VGS, VDS)` where:\n",
    "> * ID → Electric current that flows between the source and drain terminals of a thin-film transistor (TFT)\n",
    "> * VGS → Voltage applied to the gate terminal of the transistor, which controls the current flowing between the source and drain terminals\n",
    "> * VDS → Voltage applied to the drain terminal of the transistor, which determines the current flowing between the source and drain terminals when the gate voltage is kept constant.\n",
    "\n",
    "> VGS and VDS are important for the operation of the TFT transistor and for the optimization of its parameters, which can be obtained from the device's transfer and output curves. From these operations, it is possible to obtain information about its parameters, such as Vtho, l, n, JD, leak, δ, RS, λ, and Vcrit. Since these parameters are limited in the model, it allows for the simultaneous adjustment of all values. Therefore, parameter optimization is performed using a nonlinear least squares solver, which allows for efficient and unambiguous parameter adjustment. In this way, it is possible to gain a better understanding of the TFT device's behavior and optimize its operation for specific applications. Additionally, parameter optimization is also important to ensure the quality and reliability of the device, as well as its integration into complex electronic circuits."
   ]
  },
  {
   "cell_type": "markdown",
   "metadata": {
    "id": "IHBDOV5ZwCml"
   },
   "source": [
    "### **Methodology** 📚\n"
   ]
  },
  {
   "cell_type": "markdown",
   "metadata": {
    "id": "ioyQZpzaItji"
   },
   "source": [
    "> To perform this optimization, we will use the SciPy library, an open-source Python module that provides advanced mathematical functions and algorithms for scientific data processing and numerical analysis. More specifically, we will apply the `curve_fit` function, which is a type of optimization that finds an ideal set of parameters for a defined function that best fits a given set of observations.\n",
    "\n",
    "> Unlike supervised learning, curve fitting requires the author to define the function that maps input examples to outputs. The mapping function, also called the base function, can take any form, including a straight line (linear regression), a curved line (polynomial regression), and many others. This provides flexibility and control to define the shape of the curve, where an optimization process is used to find the optimal specific parameters of the function. For our purposes, this will be to optimize the parameters of the function $ID = F(VGS, VDS)$, which will give us the current at each pair of points from the experiment conducted.\n",
    "\n",
    "> Here is a trivial example of how `curve_fit` works:\n",
    "\n",
    "  > * First, the curve is constructed.\n",
    "  > * Then, we apply the Python curve-fitting API.\n",
    "\n",
    "> In this way, we will think of curve fitting in two dimensions, like a 2D graph. So, let's consider that data collection was performed from the problem domain with inputs and outputs.\n",
    "\n",
    "> The `x-axis is the independent variable` or the input to the function. The `y-axis is the dependent variable` or the output of the function. We do not know the shape of the function that maps input examples to outputs, but we suspect we can approximate the function with a standard function shape. Curve fitting involves first defining the `functional form of the mapping function` (base function or objective function) and searching for the parameters in the function that result in the minimum error.\n",
    "\n",
    "> The error is calculated using observations from the domain and passing the inputs to our candidate mapping function, calculating the output, and comparing the calculated output with the observed output.\n",
    "\n",
    "> Once in shape, we can use the mapping function to interpolate or extrapolate new points in the domain. It is common to run a sequence of input values through the mapping function to calculate a sequence of outputs, then create a line graph of the result to show how the output varies with the input and how well the line fits the observed points.\n",
    "\n",
    "> The key to curve fitting is the shape of the mapping function. A straight line between inputs and outputs can be defined as follows: `y = a * x + b`\n",
    "Where `y is the calculated output`, `x is the input`, and `a` and `b` are parameters of the mapping function found using an optimization algorithm. This is called a linear equation because it is a weighted sum of the inputs. In a linear regression model, these parameters are referred to as coefficients; in a neural network, they are called weights.\n",
    "\n",
    "> This equation can be generalized to any number of inputs (which is the purpose for us), meaning that the notion of curve fitting is not limited to two dimensions (one input and one output) but could have many input variables.\n",
    "\n",
    "> An important observation is that adding arbitrary mathematical functions to our mapping function usually means we cannot calculate the parameters analytically and instead need to use an iterative optimization algorithm. This is called `nonlinear least squares`,\n",
    "as the objective function is no longer convex (not linear), and it is not as simple to solve.\n",
    "\n",
    "> Since our model's data is bi-dimensional, we are not in the trivial case. Thus, when passing data to the model, we will need to preprocess it first. For instance, suppose that for our problem, we will have the voltages Vd and Vg as a set of vectors. Essentially, what will be computed is an $MxN$ matrix; however, the `curve_fit` function only calculates ideal parameters for the one-dimensional vector case. So, we will first allocate all Vg voltages into a matrix and do the same for Vd voltages. Then, we will use Python's `np.ravel()` function to transform an array into a one-dimensional array. This operation does not affect the integrity of the data, only resizes it. The `np.ravel()` function returns a copy of the original array, with all elements of the original array \"flattened\" into a single one-dimensional array. This means that the function returns an array with all the rows of the original array concatenated into a single row."
   ]
  },
  {
   "cell_type": "markdown",
   "metadata": {
    "id": "c0Jt9A63whok"
   },
   "source": [
    "### **Model Description** 🔧\n"
   ]
  },
  {
   "cell_type": "markdown",
   "metadata": {
    "id": "_r5x1sBswlA1"
   },
   "source": [
    "The mathematical model to which we will subject the experimental data consists of a set of equations, where each variable has its degree of importance and contribution. Below is its prototyping as well as what each parameter signifies:\n",
    "\n",
    "The drain current of a TFT consists of mobile charges $Q_{free}$ modulated by the gate voltage and moves with a velocity modulated by the drain voltage. At high electric fields from source to drain, the carrier velocity saturates at a value $V_{sat}$. However, carriers need to scale a potential barrier on the path from source to drain, which represents a bottleneck for carrier transport. The limited rate of charge injection from the top of the barrier potential choke point can be termed as a virtual source (VS). The modified $V_{sed}$ model suggests a specific form of drain current per gate width W in VS:\n",
    "$$J_D = \\frac{I_D}{W} = V_{sat} \\cdot F_{sat} \\cdot Q_{free} $$\n",
    "\n",
    "Some charged particles are not mobile. In certain cases, an exponential tail of trapping states ranging from the valence band edge to the band gap can relate the free and total carrier density by a power law. This occurs because all states are occupied according to the same quasi-Fermi level, as seen in Equation (B4) in [8] and its earlier derivation. Thus, the equation shows that\n",
    "$$Q_{free} = q \\cdot \\sigma_v \\cdot \\left(\\frac{Q_{tot}}{q \\cdot \\sigma_{traps}}\\right)^l$$\n",
    "\n",
    "Here, $σ_V$ and $σ_{traps}$ represent the density of valence states and traps in a single semiconductor layer in $V_S$, respectively. The value of the exponent $l$ is determined by the effective \"temperature\" ratio defining the exponential distribution of trap states' energy and the device temperature, originating from the Boltzmann energy distribution of free charge carriers. However, since the exact trap distribution is generally unknown, $l$ is treated as a model parameter. The distinction between free and trapped charge carriers, as presented in Equation (2), is the main adaptation of the VSED framework for thin film materials proposed in this work.\n",
    "\n",
    "For a depleted semiconductor, an exponential accumulation of holes (positive charges) is expected with increasing gate field, which ceases when substantial shielding by the accumulated charge sheet is established. The following phenomenological expression first proposed in [9] is employed:\n",
    "$$ Q_{tot} = C_I \\cdot n \\cdot V_T \\cdot \\ln \\left[ 1 + e^{\\psi \\cdot V_S - V_{GS}} \\cdot n \\cdot V_T \\right],$$\n",
    "$$ \\psi \\cdot V_S = V_{tho} + |\\delta| \\cdot V_{DS}$$\n",
    "\n",
    "The gate insulator capacitance depends on the dielectric constant ε and the insulator thickness tI: $C_I = \\frac{ε}{t_I}$. The thermal voltage is represented by $V_T = \\frac{kT}{q}$. The transition from weak to strong accumulation is modeled by parameters $n, V_{th0}$, and $δ$, where $n$ is influenced by the charging of the semiconductor region adjacent to the gate insulator interface, filling surface states and affecting the band bending rate with gate bias.\n",
    "\n",
    "The interface potential becomes independent of VGS when it reaches a bias value $ψ \\cdot V_S$, also known as threshold voltage. This allows parameterizing the potential barrier control by gate bias in TFTs. The parameter $ψ \\cdot V_S$ represents the critical bias at which the potential at $V_S$ becomes independent of gate voltage. During hole accumulation at the gate insulator interface, parameters n and $l$ describe the loading of trap states, and the voltage scale for the exponential increase of drain current with gate bias is given by $(\\frac{n}{l}) \\cdot V_T$ in the VSED model. The parameter $δ$ does not necessarily represent drain-induced barrier lowering (DIBL).\n",
    "\n",
    "The charge injection velocity $Q_{free}$ in the transistor channel is represented by $V_{inj} = V_{sat} \\cdot F_{sat}$. It is common to estimate the drain current in TFTs as a drift motion of injected charge carriers, but this can lead to a mistaken conclusion about saturation velocity $V_{sat}$. While in high electric field regions the saturation velocity equals the body semiconductor saturation velocity, in low electric field regions the saturation velocity is defined by the unidirectional thermal velocity of the quasi-Fermi potential, not the electrostatic potential. This concept is discussed in [10]:\n",
    "$$V_{sat} = \\frac{2D}{\\bar{\\lambda}_{free}} = \\frac{2 \\cdot \\mu \\cdot V_T}{\\bar{\\lambda}_{free}}$$\n",
    "\n",
    "which is parametrized here by the diffusion coefficient $D$ and may relate to drift mobility $μ$ through the Einstein relation. In low drain bias, charge carrier diffusion is the dominant transport mechanism in much of the TFT and not just in $V_S$. The characteristic length in Eq. (5) will no longer be given by the mean free path $\\bar{\\lambda}_{free}$ but by the diffusion length. Since only carriers of a single type are injected into a basically intrinsic semiconductor, the diffusion length can be very large and comparable to the device dimension given by the gate length $L_G$. $F_{sat}$ introduces a length scale $λ = \\frac{L_G}{\\bar{\\lambda}_{free}}$, which effectively replaces ${\\bar{\\lambda}_{free}}$ → $L_G$ under low drain bias.\n",
    "\n",
    "The remaining function $F_{sat}$ describes the drainage of accumulated holes. For long-channel TFTs, diffusion and emission theory [11, 5] represent an interesting approach to determine $F_{sat}$:\n",
    "\n",
    "$$F_{sat} = \\frac{1}{1 + 2t} \\cdot \\frac{1-e^{-\\left(\\frac{-V_{SD}}{V_T}\\right)}}{1+e^{-\\left(\\frac{-V_{SD}}{V_T}\\right)}} \\cdot \\frac{1}{1+2t}$$\n",
    "\n",
    "For drain bias significantly exceeding thermal voltage, the transition function is described by $F_{sat} = \\frac{1}{1 + 2t}$. The critical probability factor $t$ is determined by a mean Boltzmann factor in the channel region controlled by the gate and can be obtained from the specific potential profile. For long-channel devices, an analytical form has been proposed, which can be found in equations (4) to (12) of reference [11].\n",
    "\n",
    "$$ t = \\frac{2 \\cdot \\lambda}{m^2 (1 - η^2)} \\cdot \\left[ (1 - m \\cdot η) \\cdot e^{-m (1 - η)} - (1 - m) \\right]$$\n",
    "\n",
    "$$ η = 1 - \\tanh\\left(\\frac{V_{SD}}{mV_T}\\right)$$\n",
    "\n",
    "$$ m = \\frac{2 \\cdot \\frac{V_{Gt}}{V_T}}{1 + \\sqrt{\\frac{2 \\cdot V_{Gt}}{V_{crit}}}}$$\n",
    "\n",
    "$$ V_{Gt} = \\frac{Q_{tot}}{C_I}$$\n",
    "\n",
    "Note that an increase in transistor overdrive leads to a spacious diffusion region and shifts the onset of saturation to higher drain bias. In high gate bias, the necessary increase in saturation voltage decreases and transforms into square root growth for $V_{Gt} > V_{crit}$. Note that the saturation velocity given by Eq. (5) is achieved only for both large $V_{SG}$ (low barrier) and large $V_{SD}$ (sink load). In general, the critical diffusion length replacing $\\lambda_{free}$ in Eq. (5) is a fraction of $L_G$ dependent on gate voltage. The $V_{Gt}$ required to achieve maximum injection velocity given by unidirectional thermal velocity decreases with $L_G$.\n",
    "\n",
    "* The first equation is used to calculate the average lifetime of an unstable particle. It relates the average lifetime ($t$) of an unstable particle to its mass ($m$), binding energy ($λ$), and damping factor ($η$). The equation is a mathematical expression of the exponential decay law of the particle.\n",
    "\n",
    "* The second equation is used to calculate the reflection coefficient of a wave in a MOSFET transistor (metal-oxide-semiconductor field-effect transistor). The equation relates the reflection coefficient ($η$) to the potential difference between drain and source ($V_{SD}$), ambient temperature ($V_T$), and a device parameter ($m$).\n",
    "\n",
    "* The third equation is used in semiconductor devices to calculate the slope factor of a MOSFET transistor. The slope factor is a measure of the transistor's efficiency in turning on and off quickly. The equation relates the slope factor ($m$) to the transistor's threshold voltage ($V_{GT}$), a critical voltage constant ($V_{crit}$), and ambient temperature ($V_T$).\n",
    "\n",
    "* The fourth equation is used to calculate the threshold voltage of a MOSFET transistor. The threshold voltage is the minimum voltage required to turn on the transistor. The equation relates the threshold voltage ($V_{GT}$) to the total charge ($Q_{tot}$) stored on the transistor gate, the gate capacitance ($C$), and the current ($I$) applied to the gate.\n",
    "\n",
    "Understanding how each equation relates and what each one consists of, we will abstract all this 'complex' mathematics into the model code and execute it to observe what kind of results it will yield.\n",
    "\n",
    "Remembering that our goal here will be to optimize the coefficients $J_T, V_{tho}, δ, l\n",
    "\n",
    ", n, λ$, and $V_{crit}$ used in the modeling of the equations.\n",
    "\n",
    "* $J_T$ → Junction Temperature Coefficient. It is a parameter representing the temperature variation at the junction of an electronic device, such as a transistor, diode, or integrated circuit. The value of $J_T$ is important for the correct design and operation of these devices.\n",
    "\n",
    "* $V_{tho}$ → Threshold Voltage. It is the minimum electric voltage that must be applied to an electronic device, such as a MOSFET transistor, to initiate current conduction. The value of $V_{tho}$ is determined by the properties of the semiconductor material used in the device construction.\n",
    "\n",
    "* $δ$ → Diffusion Layer Thickness. It is a parameter representing the thickness of the doped semiconductor material layer deposited on the semiconductor substrate surface to form a transistor or other electronic device.\n",
    "\n",
    "* $l$ → Diffusion Length. It is a parameter representing the distance that the semiconductor material doping diffuses on the semiconductor substrate surface during the electronic device manufacturing process.\n",
    "\n",
    "* $n$ → Diode Ideality Factor. It is a parameter describing the relationship between the electric current and voltage in a diode. The value of $n$ is used to calculate the diode's voltage drop at different current levels.\n",
    "\n",
    "* $λ$ → Voltage Drop Coefficient. It is a parameter describing the voltage drop in an electronic device relative to the electric current passing through it. The value of $λ$ is used to calculate the voltage drop in a MOSFET transistor at different current levels.\n",
    "\n",
    "* $V_{crit}$ → Critical Voltage. It is an electric voltage representing the maximum voltage limit that an electronic device can withstand without damaging its structure or functionality. The value of $V_{crit}$ is determined by the properties of the semiconductor materials used in the device construction and is important for the safe design and operation of electronic circuits.\n",
    "\n",
    "Remembering that our objective here will be to optimize the coefficients $J_T, V_{tho}, δ, l, n, λ$, and $V_{crit}$ used in the modeling of the equations.\n",
    "\n",
    "* $J_T$ → Junction Temperature Coefficient. It is a parameter representing the temperature variation at the junction of an electronic device, such as a transistor, diode, or integrated circuit. The value of $J_T$ is important for the correct design and operation of these devices.\n",
    "\n",
    "* $V_{tho}$ → Threshold Voltage. It is the minimum electric voltage that must be applied to an electronic device, such as a MOSFET transistor, to initiate current conduction. The value of $V_{tho}$ is determined by the properties of the semiconductor material used in the device construction.\n",
    "\n",
    "* $δ$ → Diffusion Layer Thickness. It is a parameter representing the thickness of the doped semiconductor material layer deposited on the semiconductor substrate surface to form a transistor or other electronic device.\n",
    "\n",
    "* $l$ → Diffusion Length. It is a parameter representing the distance that the semiconductor material doping diffuses on the semiconductor substrate surface during the electronic device manufacturing process.\n",
    "\n",
    "* $n$ → Diode Ideality Factor. It is a parameter describing the relationship between the electric current and voltage in a diode. The value of $n$ is used to calculate the diode's voltage drop at different current levels.\n",
    "\n",
    "* $λ$ → Voltage Drop Coefficient. It is a parameter describing the voltage drop in an electronic device relative to the electric current passing through it. The value of $λ$ is used to calculate the voltage drop in a MOSFET transistor at different current levels.\n",
    "\n",
    "* $V_{crit}$ → Critical Voltage. It is an electric voltage representing the maximum voltage limit that an electronic device can withstand without damaging its structure or functionality. The value of $V_{crit}$ is determined by the properties of the semiconductor materials used in the device construction and is important for the safe design and operation of electronic circuits.\n",
    "\n",
    "\n",
    "\n"
   ]
  },
  {
   "cell_type": "markdown",
   "metadata": {
    "id": "RkmdLzKbMAnz"
   },
   "source": [
    "## **Using the Model** 💻"
   ]
  },
  {
   "cell_type": "markdown",
   "metadata": {
    "id": "Ril-6Y3iKXdL"
   },
   "source": [
    "Below, insert the address of the `MODULE_OTFT` module that contains the files to be imported. This folder contains all the necessary files that the model uses to function. It can be loaded following the example: `sys.path.append('/content/drive/MyDrive/your/path/Model_OTFT')`, simply replace the path below with the corresponding path from your mounted drive containing the module."
   ]
  },
  {
   "cell_type": "code",
   "execution_count": 1,
   "metadata": {
    "id": "6UzzLMgVLD9V"
   },
   "outputs": [],
   "source": [
    "# sys.path.append('/content/drive/MyDrive/ICs/beTFT/Model_OTFT') # Change to your own path"
   ]
  },
  {
   "cell_type": "code",
   "execution_count": 2,
   "metadata": {
    "id": "JnknGBYoiJZ2"
   },
   "outputs": [],
   "source": [
    "# Load the used classes\n",
    "from modules_otft._imports import *\n",
    "from modules_otft._read_data import ReadData\n",
    "from modules_otft._model import TFTModel\n",
    "from modules_otft._grafics import  TFTGraphicsPlot\n",
    "from modules_otft._menu import TFTMenu\n",
    "\n",
    "# from modules_otft._global_vars import *\n",
    "from modules_otft._config import *\n",
    "from modules_otft._utils import *\n"
   ]
  },
  {
   "cell_type": "markdown",
   "metadata": {
    "id": "-m6XG_odMgoL"
   },
   "source": [
    "---\n",
    "## **Instantiating the used classes**\n",
    "---\n"
   ]
  },
  {
   "cell_type": "code",
   "execution_count": 3,
   "metadata": {
    "id": "pXJi9KefNXnl"
   },
   "outputs": [],
   "source": [
    "plot = TFTGraphicsPlot()\n",
    "menu = TFTMenu()\n",
    "read = ReadData()"
   ]
  },
  {
   "cell_type": "markdown",
   "metadata": {
    "id": "G0y8r9ATMVuR"
   },
   "source": [
    "---\n",
    "## **Loading sample data** 📚\n",
    "\n",
    "\n",
    "---\n",
    "\n"
   ]
  },
  {
   "cell_type": "code",
   "execution_count": 4,
   "metadata": {
    "cellView": "form",
    "colab": {
     "base_uri": "https://localhost:8080/"
    },
    "executionInfo": {
     "elapsed": 18258,
     "status": "ok",
     "timestamp": 1730290019904,
     "user": {
      "displayName": "Rodrigo Santos Batista",
      "userId": "10844009603124520931"
     },
     "user_tz": 180
    },
    "id": "zojCEe15uAiJ",
    "outputId": "12bc9236-bf6a-4332-e963-aff864b66c58"
   },
   "outputs": [
    {
     "name": "stdout",
     "output_type": "stream",
     "text": [
      "--------------------------------------------------------------------------------------------------------------------------------------------------------------------------------------------------------\n",
      "--------------------------------------------------------------------------------------------------------------------------------------------------------------------------------------------------------\n",
      "\n",
      "\n",
      "___________________________________________________________________________________ SETTINGS PRESENT IN THE JSON FILE:___________________________________________________________________________________\n",
      "\n",
      "| path: /home/rsb6/Desktop/Artigo JICS/Model_OTFT/datas/Fig1ab/tipo p\n",
      "--------------------------------------------------------------------------------------------------------------------------------------------------------------------------------------------------------\n",
      "| experimental_data_scale_transfer: A\n",
      "--------------------------------------------------------------------------------------------------------------------------------------------------------------------------------------------------------\n",
      "| experimental_data_scale_output: uA\n",
      "--------------------------------------------------------------------------------------------------------------------------------------------------------------------------------------------------------\n",
      "| current_typic: uA\n",
      "--------------------------------------------------------------------------------------------------------------------------------------------------------------------------------------------------------\n",
      "| loaded_voltages: -2, -50, -30, -40, -50\n",
      "--------------------------------------------------------------------------------------------------------------------------------------------------------------------------------------------------------\n",
      "| curves_transfer: 2\n",
      "--------------------------------------------------------------------------------------------------------------------------------------------------------------------------------------------------------\n",
      "| type_curve_plot: logarithmic\n",
      "--------------------------------------------------------------------------------------------------------------------------------------------------------------------------------------------------------\n",
      "| type_read_data_exp: read original data\n",
      "--------------------------------------------------------------------------------------------------------------------------------------------------------------------------------------------------------\n",
      "| shift_volt_data: -1\n",
      "--------------------------------------------------------------------------------------------------------------------------------------------------------------------------------------------------------\n",
      "| select_files: 0, 1, 2, 3,4\n",
      "--------------------------------------------------------------------------------------------------------------------------------------------------------------------------------------------------------\n",
      "| resistance_scale: 1e4\n",
      "--------------------------------------------------------------------------------------------------------------------------------------------------------------------------------------------------------\n",
      "| current_carry: 1e-6\n",
      "--------------------------------------------------------------------------------------------------------------------------------------------------------------------------------------------------------\n",
      "| with_transistor: 0.1\n",
      "--------------------------------------------------------------------------------------------------------------------------------------------------------------------------------------------------------\n",
      "| type_of_transistor: pFET\n",
      "--------------------------------------------------------------------------------------------------------------------------------------------------------------------------------------------------------\n",
      "| loaded_parameters: {'VTHO': 8.57, 'DELTA': 0.0123, 'N': 108, 'L': 3.18, 'LAMBDA': 1490.0, 'VGCRIT': 32.3, 'JTH': 1, 'RS': 1}\n",
      "--------------------------------------------------------------------------------------------------------------------------------------------------------------------------------------------------------\n",
      "| idleak_mode: unique idleak value\n",
      "--------------------------------------------------------------------------------------------------------------------------------------------------------------------------------------------------------\n",
      "| loaded_idleak: 6.5e-11\n",
      "--------------------------------------------------------------------------------------------------------------------------------------------------------------------------------------------------------\n",
      "| image_size_width: None\n",
      "--------------------------------------------------------------------------------------------------------------------------------------------------------------------------------------------------------\n",
      "| image_size_height: None\n",
      "--------------------------------------------------------------------------------------------------------------------------------------------------------------------------------------------------------\n",
      "| upper_bounds: {'ub_VTHO': 12, 'ub_DELTA': 0.2, 'ub_N': 130, 'ub_L': 4.1, 'ub_LAMBDA': 10000, 'ub_VGCRIT': 80, 'ub_JTH': 10, 'ub_RS': 10}\n",
      "--------------------------------------------------------------------------------------------------------------------------------------------------------------------------------------------------------\n",
      "| lower_bounds: {'lb_VTHO': 8, 'lb_DELTA': 0, 'lb_N': 10, 'lb_L': 1, 'lb_LAMBDA': 100, 'lb_VGCRIT': 10, 'lb_JTH': 0, 'lb_RS': 0}\n",
      "--------------------------------------------------------------------------------------------------------------------------------------------------------------------------------------------------------\n",
      "| default_bounds: no\n",
      "--------------------------------------------------------------------------------------------------------------------------------------------------------------------------------------------------------\n",
      "| optimization_method: trf\n",
      "--------------------------------------------------------------------------------------------------------------------------------------------------------------------------------------------------------\n",
      "| tolerance_factor: 4e-7\n",
      "--------------------------------------------------------------------------------------------------------------------------------------------------------------------------------------------------------\n",
      "\n",
      "\n",
      "Shift value    : [-1]\n",
      "\n",
      "List volt shift: [-2, -50, -29, -40, -50]\n",
      "\n",
      "--------------------------------------------\n",
      "--------------------------------------------\n",
      "|                READ FILES                |\n",
      "--------------------------------------------\n",
      "--------------------------------------------\n",
      "|            transfer-2V.csv            |\n",
      "--------------------------------------------\n",
      "|             transfer-50V.csv             |\n",
      "--------------------------------------------\n",
      "|              output-30V.csv              |\n",
      "--------------------------------------------\n",
      "|              output-40V.csv              |\n",
      "--------------------------------------------\n",
      "|              output-50V.csv              |\n",
      "--------------------------------------------\n",
      "--------------------------------------------\n",
      "\n",
      "The table above shows all the files that were read in the directory, if you want to filter files so that only those that are of interest are read, do this by passing numbers that correspond to the order of the experiment curves,\n",
      "separated by ,. For example: 0:tranfer-5v , 3:output-40v and so on\n",
      "\n",
      "\n",
      "\n",
      "\n",
      "List volt shift  : [-2, -50, -29, -40, -50]\n",
      "List tension     : [-2, -50, -30, -40, -50]\n",
      "\n",
      "--------------------------------------------\n",
      "--------------------------------------------\n",
      "|                READ FILES                |\n",
      "--------------------------------------------\n",
      "--------------------------------------------\n",
      "|            transfer-2V.csv            |\n",
      "--------------------------------------------\n",
      "|             transfer-50V.csv             |\n",
      "--------------------------------------------\n",
      "|              output-30V.csv              |\n",
      "--------------------------------------------\n",
      "|              output-40V.csv              |\n",
      "--------------------------------------------\n",
      "|              output-50V.csv              |\n",
      "--------------------------------------------\n",
      "--------------------------------------------\n",
      "\n",
      "\n",
      "\n",
      "\n",
      "   VTHO     |    DELTA   |      N     |     L      |    LAMBDA  |   VGCRIT   |    JTH     |     RS    |\n",
      "-------------------------------------------------------------------------------------------------------\n",
      "[8.5700e+00 │ 1.2300e-02 │ 1.0800e+02 │ 3.1800e+00 │ 1.4900e+03 │ 3.2300e+01 │ 1.0000e+00 │ 1.0000e+00]\n",
      "-------------------------------------------------------------------------------------------------------\n",
      "\n"
     ]
    }
   ],
   "source": [
    "# @title ### **Load parameters local / remote directory.**\n",
    "# @markdown In this section, you can load the intrinsic parameters of the model you want to optimize. The load can be done locally, by choosing your `json` file containing all the values ​​to be loaded, parameters `Vtho, delta, n, l, lam, Vgcrit, Jth, Rs`\n",
    "\n",
    "# @markdown Note, also, that it is necessary to provide the respective values ​​of `resistance_scale`, `current_carry` and `with_transistor`, which are respectively: resistance values, current values ​​- where the transistor typically operates - and transistor width (associated technology). If you want to add a value other than the default, add it to the field. Remember that the values ​​in the `JTH` and `Rs` fields will be multiples of the values ​​defined in these fields and the value of `with_transistor` is in units of `[cm]`. So make sure you provide consistent values ​​so that the template output can also be consistent\n",
    "\n",
    "# @markdown ---\n",
    "\n",
    "# Read and show the path file Json\n",
    "settings = enter_with_json_file()\n",
    "print()\n",
    "print()\n",
    "\n",
    "ld_voltages = load_voltages(settings['loaded_voltages'])\n",
    "\n",
    "type_curve_plot = get_type_plot(settings['type_curve_plot'])\n",
    "\n",
    "shift_list = calculate_shift_list(settings['shift_volt_data'], ld_voltages, settings['curves_transfer'])\n",
    "\n",
    "list_tension_shift = get_shift_list(read, settings['curves_transfer'], shift_list, ld_voltages)\n",
    "\n",
    "path_voltages = read.read_files_experimental(settings['path'], list_tension_shift)\n",
    "\n",
    "Vv, Id, input_voltage, n_points, count_transfer, count_output = read.load_data(settings['type_read_data_exp'], path_voltages, settings['current_typic'], settings['experimental_data_scale_transfer'], settings['experimental_data_scale_output'], type_curve_plot)\n",
    "\n",
    "\n",
    "print(\"Shift value    : \" + f'{shift_list}')\n",
    "print()\n",
    "\n",
    "print(\"List volt shift: \" +  f'{list_tension_shift}')\n",
    "print()\n",
    "list_curves = menu.view_path_reads(path_voltages, list_tension_shift)\n",
    "\n",
    "print()\n",
    "print('The table above shows all the files that were read in the directory, if you want to filter files so that only those that are of interest are read, do this by passing numbers that correspond to the order of the experiment curves,')\n",
    "print('separated by ,. For example: 0:tranfer-5v , 3:output-40v and so on')\n",
    "print('\\n\\n')\n",
    "\n",
    "path_voltages, list_tension_shift, list_tension = filter_and_load_files(read, settings['select_files'], list_curves, list_tension_shift, ld_voltages, settings['path'])\n",
    "\n",
    "print()\n",
    "\n",
    "print(\"List volt shift  : \" f'{list_tension_shift}' )\n",
    "print(\"List tension     : \" f'{list_tension}' )\n",
    "print()\n",
    "_ = menu.view_path_reads(path_voltages, list_tension_shift)\n",
    "print('\\n\\n')\n",
    "\n",
    "\n",
    "tp_tst = get_transistor_type(settings['type_of_transistor'])\n",
    "resistance = get_resistance(settings['resistance_scale'])\n",
    "current = get_current(settings['current_carry'])\n",
    "width_t = get_transistor_width(settings['with_transistor'])\n",
    "load_parameters = load_coefficients(settings['loaded_parameters'])\n",
    "\n",
    "\n",
    "print()\n",
    "menu.print_values(load_parameters)\n",
    "print()\n",
    "\n",
    "mode_idleak, load_idleak = load_idleak_parameters(settings['idleak_mode'], settings['loaded_idleak'])"
   ]
  },
  {
   "cell_type": "code",
   "execution_count": 5,
   "metadata": {
    "cellView": "form",
    "colab": {
     "base_uri": "https://localhost:8080/",
     "height": 1000
    },
    "executionInfo": {
     "elapsed": 505,
     "status": "ok",
     "timestamp": 1730290020406,
     "user": {
      "displayName": "Rodrigo Santos Batista",
      "userId": "10844009603124520931"
     },
     "user_tz": 180
    },
    "id": "q1VjR5eys3Bi",
    "outputId": "14606288-42a6-46ba-b23c-1ebea2f2f88e"
   },
   "outputs": [
    {
     "data": {
      "application/vnd.plotly.v1+json": {
       "config": {
        "plotlyServerURL": "https://plot.ly"
       },
       "data": [
        {
         "line": {
          "color": "rgb(255, 0, 0)",
          "dash": "dash"
         },
         "mode": "lines+text",
         "name": "<b>Model OVSED<b> <b>-2V<b>",
         "text": [
          "-2V"
         ],
         "textfont": {
          "color": "rgb(255, 0, 0)",
          "family": "Times New Roman",
          "size": 13
         },
         "textposition": "bottom center",
         "type": "scatter",
         "x": [
          -50,
          -49.342106,
          -48.30827,
          -47.274437,
          -46.334587,
          -45.206768,
          -44.26692,
          -43.515038,
          -42.763157,
          -42.01128,
          -41.07143,
          -39.943607,
          -38.909775,
          -38.157894,
          -37.31203,
          -36.278194,
          -35.338345,
          -34.49248,
          -33.458645,
          -32.706768,
          -31.860903,
          -31.015038,
          -30.357143,
          -29.605263,
          -28.7594,
          -28.101503,
          -27.725563,
          -26.691729,
          -25.845865,
          -25.093985,
          -24.718044,
          -24.06015,
          -23.402256,
          -22.932331,
          -21.992481,
          -21.052631,
          -20.394737,
          -19.078947,
          -18.421053,
          -17.481203,
          -16.447369,
          -15.601503,
          -14.567669,
          -13.721805,
          -12.781955,
          -12.030075,
          -10.80827,
          -10.150376,
          -10.056391,
          -9.116541
         ],
         "y": [
          0.000011765778839752284,
          0.00001124348549268896,
          0.000010447734371021171,
          0.000009683085484685686,
          0.000009015376458143903,
          0.00000824905239096903,
          0.000007639815099421326,
          0.0000071717466024279724,
          0.000006720892688508284,
          0.000006287255273517608,
          0.000005769362718335628,
          0.0000051831374876417805,
          0.000004679247733263953,
          0.0000043326690969041685,
          0.000003962532258092249,
          0.0000035381245751317085,
          0.000003178502484732746,
          0.000002875713815381721,
          0.0000025318290084020453,
          0.0000022993640356172313,
          0.0000020550892752992514,
          0.0000018285583475290703,
          0.000001664272793385548,
          0.00000148888542800596,
          0.000001306831036073023,
          0.00000117601372598866,
          0.0000011053671565575545,
          9.25939723273434e-7,
          7.946721831424946e-7,
          6.891331356352617e-7,
          6.401363906369741e-7,
          5.602099038839073e-7,
          4.874016948069892e-7,
          4.3956797401806316e-7,
          3.5378902897613455e-7,
          2.803680927798405e-7,
          2.3579250939604372e-7,
          1.6196542520645207e-7,
          1.3202383895129337e-7,
          9.642701872181664e-8,
          6.59350292821306e-8,
          4.683325195292996e-8,
          2.9500714665566824e-8,
          1.9393550089343884e-8,
          1.1577309515139228e-8,
          7.347239195547007e-9,
          3.2153148099431117e-9,
          1.9669524578369946e-9,
          1.8288719815138311e-9,
          8.564844412833962e-10
         ]
        },
        {
         "line": {
          "color": "rgb(0, 0, 255)",
          "dash": "dash"
         },
         "mode": "lines+text",
         "name": "<b>Model OVSED<b> <b>-50V<b>",
         "text": [
          "-50V"
         ],
         "textfont": {
          "color": "rgb(0, 0, 255)",
          "family": "Times New Roman",
          "size": 13
         },
         "textposition": "bottom center",
         "type": "scatter",
         "x": [
          -49.906013,
          -49.24812,
          -48.402256,
          -47.462406,
          -46.334587,
          -45.582706,
          -44.454887,
          -43.42105,
          -42.669174,
          -41.823307,
          -40.883457,
          -39.849625,
          -39.19173,
          -38.25188,
          -37.030075,
          -36.37218,
          -35.338345,
          -34.304512,
          -33.646618,
          -32.894737,
          -31.766918,
          -30.827068,
          -29.793234,
          -28.947369,
          -28.101503,
          -27.349625,
          -26.31579,
          -25.281956,
          -24.530075,
          -23.778196,
          -22.74436,
          -21.898497,
          -20.864662,
          -19.924812,
          -19.172932,
          -18.233082,
          -17.387218,
          -16.447369,
          -15.507519,
          -14.567669,
          -13.721805,
          -12.781955,
          -11.654136,
          -11.090225,
          -10.150376,
          -9.210526,
          -8.458647,
          -7.330827,
          -6.2969923,
          -5.169173
         ],
         "y": [
          0.00008093200670880956,
          0.00007639007872008292,
          0.00007080502254931677,
          0.00006492862060616308,
          0.000058322844739118026,
          0.000054182178543745635,
          0.000048354257878901425,
          0.00004340339053310755,
          0.0000400302671618439,
          0.000036457294382141304,
          0.00003275403420058634,
          0.000028992644851369876,
          0.000026763068748510954,
          0.000023790749765949722,
          0.000020284713276856857,
          0.00001855677617460785,
          0.000016056326128903227,
          0.000013805539637314759,
          0.000012496450609937563,
          0.000011111947337185754,
          0.00000924649129537656,
          0.00000787358040229144,
          0.000006540325139268052,
          0.0000055777341023410945,
          0.000004722329114763839,
          0.000004045859938484113,
          0.000003234743173559138,
          0.0000025494852491333544,
          0.0000021228491865066872,
          0.0000017512403885720166,
          0.000001321626094825173,
          0.0000010328562118006826,
          7.470747021470579e-7,
          5.430136868913245e-7,
          4.1271420395773083e-7,
          2.8502410280369175e-7,
          1.9836617229994348e-7,
          1.2775712367070056e-7,
          7.86765489551849e-8,
          4.603563622700203e-8,
          2.7055086687370903e-8,
          1.4108633592983996e-8,
          5.900104947954319e-9,
          3.674468155607134e-9,
          1.5864422206783757e-9,
          6.573025515364682e-10,
          3.2840885132112376e-10,
          1.366869192087736e-10,
          8.507407772960348e-11,
          6.966102372551775e-11
         ]
        },
        {
         "marker": {
          "color": "rgb(255, 0, 0)",
          "line": {
           "color": "MediumPurple",
           "width": 0.8
          },
          "opacity": 0.5,
          "size": 11
         },
         "mode": "markers+text",
         "name": "<b>Exp <b> <b>-2V<b>",
         "text": [
          "<b>VDS<b>=-2V"
         ],
         "textfont": {
          "color": "rgb(255, 0, 0)",
          "family": "Times New Roman",
          "size": 18
         },
         "textposition": "top right",
         "type": "scatter",
         "x": [
          -50,
          -49.342106,
          -48.30827,
          -47.274437,
          -46.334587,
          -45.206768,
          -44.26692,
          -43.515038,
          -42.763157,
          -42.01128,
          -41.07143,
          -39.943607,
          -38.909775,
          -38.157894,
          -37.31203,
          -36.278194,
          -35.338345,
          -34.49248,
          -33.458645,
          -32.706768,
          -31.860903,
          -31.015038,
          -30.357143,
          -29.605263,
          -28.7594,
          -28.101503,
          -27.725563,
          -26.691729,
          -25.845865,
          -25.093985,
          -24.718044,
          -24.06015,
          -23.402256,
          -22.932331,
          -21.992481,
          -21.052631,
          -20.394737,
          -19.078947,
          -18.421053,
          -17.481203,
          -16.447369,
          -15.601503,
          -14.567669,
          -13.721805,
          -12.781955,
          -12.030075,
          -10.80827,
          -10.150376,
          -10.056391,
          -9.116541
         ],
         "y": [
          8.400000000000007e-7,
          7.570000000000008e-7,
          7.570000000000008e-7,
          7.189999999999998e-7,
          6.649999999999999e-7,
          6.31e-7,
          5.829999999999994e-7,
          5.829999999999994e-7,
          5.399999999999996e-7,
          5.119999999999996e-7,
          4.739999999999997e-7,
          4.500000000000003e-7,
          4.1600000000000044e-7,
          3.6499999999999995e-7,
          3.6499999999999995e-7,
          3.200000000000002e-7,
          2.960000000000001e-7,
          2.74e-7,
          2.529999999999998e-7,
          2.2800000000000008e-7,
          1.9500000000000012e-7,
          1.8499999999999998e-7,
          1.6300000000000012e-7,
          1.5000000000000005e-7,
          1.319999999999999e-7,
          1.1599999999999991e-7,
          1.0700000000000002e-7,
          9.91000000000001e-8,
          8.259999999999995e-8,
          7.250000000000006e-8,
          6.710000000000006e-8,
          5.8900000000000044e-8,
          5.169999999999999e-8,
          4.4200000000000045e-8,
          3.680000000000004e-8,
          2.840000000000002e-8,
          2.1300000000000015e-8,
          1.769999999999999e-8,
          1.33e-8,
          1e-8,
          6.5900000000000105e-9,
          4.340000000000005e-9,
          2.8600000000000038e-9,
          1.789999999999997e-9,
          1.0100000000000013e-9,
          7.980000000000003e-10,
          3.950000000000003e-10,
          2.220000000000001e-10,
          1.7600000000000022e-10,
          1.2900000000000023e-10
         ]
        },
        {
         "marker": {
          "color": "rgb(0, 0, 255)",
          "line": {
           "color": "MediumPurple",
           "width": 0.8
          },
          "opacity": 0.5,
          "size": 11
         },
         "mode": "markers+text",
         "name": "<b>Exp <b> <b>-50V<b>",
         "text": [
          "<b>VDS<b>=-50V"
         ],
         "textfont": {
          "color": "rgb(0, 0, 255)",
          "family": "Times New Roman",
          "size": 18
         },
         "textposition": "top right",
         "type": "scatter",
         "x": [
          -49.906013,
          -49.24812,
          -48.402256,
          -47.462406,
          -46.334587,
          -45.582706,
          -44.454887,
          -43.42105,
          -42.669174,
          -41.823307,
          -40.883457,
          -39.849625,
          -39.19173,
          -38.25188,
          -37.030075,
          -36.37218,
          -35.338345,
          -34.304512,
          -33.646618,
          -32.894737,
          -31.766918,
          -30.827068,
          -29.793234,
          -28.947369,
          -28.101503,
          -27.349625,
          -26.31579,
          -25.281956,
          -24.530075,
          -23.778196,
          -22.74436,
          -21.898497,
          -20.864662,
          -19.924812,
          -19.172932,
          -18.233082,
          -17.387218,
          -16.447369,
          -15.507519,
          -14.567669,
          -13.721805,
          -12.781955,
          -11.654136,
          -11.090225,
          -10.150376,
          -9.210526,
          -8.458647,
          -7.330827,
          -6.2969923,
          -5.169173
         ],
         "y": [
          0.000007309999999999998,
          0.000007309999999999998,
          0.000006420000000000005,
          0.000006089999999999998,
          0.000005490000000000006,
          0.0000048200000000000004,
          0.0000044600000000000005,
          0.000004019999999999998,
          0.0000035299999999999984,
          0.0000032600000000000027,
          0.0000028599999999999976,
          0.0000027200000000000028,
          0.0000024500000000000007,
          0.000002090000000000001,
          0.0000018400000000000014,
          0.0000016599999999999996,
          0.0000014500000000000014,
          0.000001239999999999999,
          0.000001120000000000001,
          9.829999999999995e-7,
          8.400000000000007e-7,
          7.000000000000002e-7,
          6.15e-7,
          5.119999999999996e-7,
          4.270000000000002e-7,
          3.4599999999999974e-7,
          2.890000000000002e-7,
          2.3399999999999982e-7,
          2.0000000000000002e-7,
          1.5399999999999984e-7,
          1.1900000000000007e-7,
          8.699999999999995e-8,
          6.710000000000006e-8,
          4.900000000000002e-8,
          3.589999999999998e-8,
          2.4299999999999996e-8,
          1.6800000000000018e-8,
          1.1699999999999989e-8,
          7.310000000000012e-9,
          4.230000000000008e-9,
          2.5800000000000047e-9,
          1.4499999999999983e-9,
          7.569999999999991e-10,
          4.160000000000004e-10,
          1.8099999999999966e-10,
          1.2499999999999996e-10,
          9.660000000000011e-11,
          8.479999999999989e-11,
          8.050000000000005e-11,
          8.050000000000005e-11
         ]
        }
       ],
       "layout": {
        "height": 600,
        "legend": {
         "font": {
          "size": 16
         }
        },
        "template": {
         "data": {
          "bar": [
           {
            "error_x": {
             "color": "#2a3f5f"
            },
            "error_y": {
             "color": "#2a3f5f"
            },
            "marker": {
             "line": {
              "color": "#E5ECF6",
              "width": 0.5
             },
             "pattern": {
              "fillmode": "overlay",
              "size": 10,
              "solidity": 0.2
             }
            },
            "type": "bar"
           }
          ],
          "barpolar": [
           {
            "marker": {
             "line": {
              "color": "#E5ECF6",
              "width": 0.5
             },
             "pattern": {
              "fillmode": "overlay",
              "size": 10,
              "solidity": 0.2
             }
            },
            "type": "barpolar"
           }
          ],
          "carpet": [
           {
            "aaxis": {
             "endlinecolor": "#2a3f5f",
             "gridcolor": "white",
             "linecolor": "white",
             "minorgridcolor": "white",
             "startlinecolor": "#2a3f5f"
            },
            "baxis": {
             "endlinecolor": "#2a3f5f",
             "gridcolor": "white",
             "linecolor": "white",
             "minorgridcolor": "white",
             "startlinecolor": "#2a3f5f"
            },
            "type": "carpet"
           }
          ],
          "choropleth": [
           {
            "colorbar": {
             "outlinewidth": 0,
             "ticks": ""
            },
            "type": "choropleth"
           }
          ],
          "contour": [
           {
            "colorbar": {
             "outlinewidth": 0,
             "ticks": ""
            },
            "colorscale": [
             [
              0,
              "#0d0887"
             ],
             [
              0.1111111111111111,
              "#46039f"
             ],
             [
              0.2222222222222222,
              "#7201a8"
             ],
             [
              0.3333333333333333,
              "#9c179e"
             ],
             [
              0.4444444444444444,
              "#bd3786"
             ],
             [
              0.5555555555555556,
              "#d8576b"
             ],
             [
              0.6666666666666666,
              "#ed7953"
             ],
             [
              0.7777777777777778,
              "#fb9f3a"
             ],
             [
              0.8888888888888888,
              "#fdca26"
             ],
             [
              1,
              "#f0f921"
             ]
            ],
            "type": "contour"
           }
          ],
          "contourcarpet": [
           {
            "colorbar": {
             "outlinewidth": 0,
             "ticks": ""
            },
            "type": "contourcarpet"
           }
          ],
          "heatmap": [
           {
            "colorbar": {
             "outlinewidth": 0,
             "ticks": ""
            },
            "colorscale": [
             [
              0,
              "#0d0887"
             ],
             [
              0.1111111111111111,
              "#46039f"
             ],
             [
              0.2222222222222222,
              "#7201a8"
             ],
             [
              0.3333333333333333,
              "#9c179e"
             ],
             [
              0.4444444444444444,
              "#bd3786"
             ],
             [
              0.5555555555555556,
              "#d8576b"
             ],
             [
              0.6666666666666666,
              "#ed7953"
             ],
             [
              0.7777777777777778,
              "#fb9f3a"
             ],
             [
              0.8888888888888888,
              "#fdca26"
             ],
             [
              1,
              "#f0f921"
             ]
            ],
            "type": "heatmap"
           }
          ],
          "heatmapgl": [
           {
            "colorbar": {
             "outlinewidth": 0,
             "ticks": ""
            },
            "colorscale": [
             [
              0,
              "#0d0887"
             ],
             [
              0.1111111111111111,
              "#46039f"
             ],
             [
              0.2222222222222222,
              "#7201a8"
             ],
             [
              0.3333333333333333,
              "#9c179e"
             ],
             [
              0.4444444444444444,
              "#bd3786"
             ],
             [
              0.5555555555555556,
              "#d8576b"
             ],
             [
              0.6666666666666666,
              "#ed7953"
             ],
             [
              0.7777777777777778,
              "#fb9f3a"
             ],
             [
              0.8888888888888888,
              "#fdca26"
             ],
             [
              1,
              "#f0f921"
             ]
            ],
            "type": "heatmapgl"
           }
          ],
          "histogram": [
           {
            "marker": {
             "pattern": {
              "fillmode": "overlay",
              "size": 10,
              "solidity": 0.2
             }
            },
            "type": "histogram"
           }
          ],
          "histogram2d": [
           {
            "colorbar": {
             "outlinewidth": 0,
             "ticks": ""
            },
            "colorscale": [
             [
              0,
              "#0d0887"
             ],
             [
              0.1111111111111111,
              "#46039f"
             ],
             [
              0.2222222222222222,
              "#7201a8"
             ],
             [
              0.3333333333333333,
              "#9c179e"
             ],
             [
              0.4444444444444444,
              "#bd3786"
             ],
             [
              0.5555555555555556,
              "#d8576b"
             ],
             [
              0.6666666666666666,
              "#ed7953"
             ],
             [
              0.7777777777777778,
              "#fb9f3a"
             ],
             [
              0.8888888888888888,
              "#fdca26"
             ],
             [
              1,
              "#f0f921"
             ]
            ],
            "type": "histogram2d"
           }
          ],
          "histogram2dcontour": [
           {
            "colorbar": {
             "outlinewidth": 0,
             "ticks": ""
            },
            "colorscale": [
             [
              0,
              "#0d0887"
             ],
             [
              0.1111111111111111,
              "#46039f"
             ],
             [
              0.2222222222222222,
              "#7201a8"
             ],
             [
              0.3333333333333333,
              "#9c179e"
             ],
             [
              0.4444444444444444,
              "#bd3786"
             ],
             [
              0.5555555555555556,
              "#d8576b"
             ],
             [
              0.6666666666666666,
              "#ed7953"
             ],
             [
              0.7777777777777778,
              "#fb9f3a"
             ],
             [
              0.8888888888888888,
              "#fdca26"
             ],
             [
              1,
              "#f0f921"
             ]
            ],
            "type": "histogram2dcontour"
           }
          ],
          "mesh3d": [
           {
            "colorbar": {
             "outlinewidth": 0,
             "ticks": ""
            },
            "type": "mesh3d"
           }
          ],
          "parcoords": [
           {
            "line": {
             "colorbar": {
              "outlinewidth": 0,
              "ticks": ""
             }
            },
            "type": "parcoords"
           }
          ],
          "pie": [
           {
            "automargin": true,
            "type": "pie"
           }
          ],
          "scatter": [
           {
            "fillpattern": {
             "fillmode": "overlay",
             "size": 10,
             "solidity": 0.2
            },
            "type": "scatter"
           }
          ],
          "scatter3d": [
           {
            "line": {
             "colorbar": {
              "outlinewidth": 0,
              "ticks": ""
             }
            },
            "marker": {
             "colorbar": {
              "outlinewidth": 0,
              "ticks": ""
             }
            },
            "type": "scatter3d"
           }
          ],
          "scattercarpet": [
           {
            "marker": {
             "colorbar": {
              "outlinewidth": 0,
              "ticks": ""
             }
            },
            "type": "scattercarpet"
           }
          ],
          "scattergeo": [
           {
            "marker": {
             "colorbar": {
              "outlinewidth": 0,
              "ticks": ""
             }
            },
            "type": "scattergeo"
           }
          ],
          "scattergl": [
           {
            "marker": {
             "colorbar": {
              "outlinewidth": 0,
              "ticks": ""
             }
            },
            "type": "scattergl"
           }
          ],
          "scattermapbox": [
           {
            "marker": {
             "colorbar": {
              "outlinewidth": 0,
              "ticks": ""
             }
            },
            "type": "scattermapbox"
           }
          ],
          "scatterpolar": [
           {
            "marker": {
             "colorbar": {
              "outlinewidth": 0,
              "ticks": ""
             }
            },
            "type": "scatterpolar"
           }
          ],
          "scatterpolargl": [
           {
            "marker": {
             "colorbar": {
              "outlinewidth": 0,
              "ticks": ""
             }
            },
            "type": "scatterpolargl"
           }
          ],
          "scatterternary": [
           {
            "marker": {
             "colorbar": {
              "outlinewidth": 0,
              "ticks": ""
             }
            },
            "type": "scatterternary"
           }
          ],
          "surface": [
           {
            "colorbar": {
             "outlinewidth": 0,
             "ticks": ""
            },
            "colorscale": [
             [
              0,
              "#0d0887"
             ],
             [
              0.1111111111111111,
              "#46039f"
             ],
             [
              0.2222222222222222,
              "#7201a8"
             ],
             [
              0.3333333333333333,
              "#9c179e"
             ],
             [
              0.4444444444444444,
              "#bd3786"
             ],
             [
              0.5555555555555556,
              "#d8576b"
             ],
             [
              0.6666666666666666,
              "#ed7953"
             ],
             [
              0.7777777777777778,
              "#fb9f3a"
             ],
             [
              0.8888888888888888,
              "#fdca26"
             ],
             [
              1,
              "#f0f921"
             ]
            ],
            "type": "surface"
           }
          ],
          "table": [
           {
            "cells": {
             "fill": {
              "color": "#EBF0F8"
             },
             "line": {
              "color": "white"
             }
            },
            "header": {
             "fill": {
              "color": "#C8D4E3"
             },
             "line": {
              "color": "white"
             }
            },
            "type": "table"
           }
          ]
         },
         "layout": {
          "annotationdefaults": {
           "arrowcolor": "#2a3f5f",
           "arrowhead": 0,
           "arrowwidth": 1
          },
          "autotypenumbers": "strict",
          "coloraxis": {
           "colorbar": {
            "outlinewidth": 0,
            "ticks": ""
           }
          },
          "colorscale": {
           "diverging": [
            [
             0,
             "#8e0152"
            ],
            [
             0.1,
             "#c51b7d"
            ],
            [
             0.2,
             "#de77ae"
            ],
            [
             0.3,
             "#f1b6da"
            ],
            [
             0.4,
             "#fde0ef"
            ],
            [
             0.5,
             "#f7f7f7"
            ],
            [
             0.6,
             "#e6f5d0"
            ],
            [
             0.7,
             "#b8e186"
            ],
            [
             0.8,
             "#7fbc41"
            ],
            [
             0.9,
             "#4d9221"
            ],
            [
             1,
             "#276419"
            ]
           ],
           "sequential": [
            [
             0,
             "#0d0887"
            ],
            [
             0.1111111111111111,
             "#46039f"
            ],
            [
             0.2222222222222222,
             "#7201a8"
            ],
            [
             0.3333333333333333,
             "#9c179e"
            ],
            [
             0.4444444444444444,
             "#bd3786"
            ],
            [
             0.5555555555555556,
             "#d8576b"
            ],
            [
             0.6666666666666666,
             "#ed7953"
            ],
            [
             0.7777777777777778,
             "#fb9f3a"
            ],
            [
             0.8888888888888888,
             "#fdca26"
            ],
            [
             1,
             "#f0f921"
            ]
           ],
           "sequentialminus": [
            [
             0,
             "#0d0887"
            ],
            [
             0.1111111111111111,
             "#46039f"
            ],
            [
             0.2222222222222222,
             "#7201a8"
            ],
            [
             0.3333333333333333,
             "#9c179e"
            ],
            [
             0.4444444444444444,
             "#bd3786"
            ],
            [
             0.5555555555555556,
             "#d8576b"
            ],
            [
             0.6666666666666666,
             "#ed7953"
            ],
            [
             0.7777777777777778,
             "#fb9f3a"
            ],
            [
             0.8888888888888888,
             "#fdca26"
            ],
            [
             1,
             "#f0f921"
            ]
           ]
          },
          "colorway": [
           "#636efa",
           "#EF553B",
           "#00cc96",
           "#ab63fa",
           "#FFA15A",
           "#19d3f3",
           "#FF6692",
           "#B6E880",
           "#FF97FF",
           "#FECB52"
          ],
          "font": {
           "color": "#2a3f5f"
          },
          "geo": {
           "bgcolor": "white",
           "lakecolor": "white",
           "landcolor": "#E5ECF6",
           "showlakes": true,
           "showland": true,
           "subunitcolor": "white"
          },
          "hoverlabel": {
           "align": "left"
          },
          "hovermode": "closest",
          "mapbox": {
           "style": "light"
          },
          "paper_bgcolor": "white",
          "plot_bgcolor": "#E5ECF6",
          "polar": {
           "angularaxis": {
            "gridcolor": "white",
            "linecolor": "white",
            "ticks": ""
           },
           "bgcolor": "#E5ECF6",
           "radialaxis": {
            "gridcolor": "white",
            "linecolor": "white",
            "ticks": ""
           }
          },
          "scene": {
           "xaxis": {
            "backgroundcolor": "#E5ECF6",
            "gridcolor": "white",
            "gridwidth": 2,
            "linecolor": "white",
            "showbackground": true,
            "ticks": "",
            "zerolinecolor": "white"
           },
           "yaxis": {
            "backgroundcolor": "#E5ECF6",
            "gridcolor": "white",
            "gridwidth": 2,
            "linecolor": "white",
            "showbackground": true,
            "ticks": "",
            "zerolinecolor": "white"
           },
           "zaxis": {
            "backgroundcolor": "#E5ECF6",
            "gridcolor": "white",
            "gridwidth": 2,
            "linecolor": "white",
            "showbackground": true,
            "ticks": "",
            "zerolinecolor": "white"
           }
          },
          "shapedefaults": {
           "line": {
            "color": "#2a3f5f"
           }
          },
          "ternary": {
           "aaxis": {
            "gridcolor": "white",
            "linecolor": "white",
            "ticks": ""
           },
           "baxis": {
            "gridcolor": "white",
            "linecolor": "white",
            "ticks": ""
           },
           "bgcolor": "#E5ECF6",
           "caxis": {
            "gridcolor": "white",
            "linecolor": "white",
            "ticks": ""
           }
          },
          "title": {
           "x": 0.05
          },
          "xaxis": {
           "automargin": true,
           "gridcolor": "white",
           "linecolor": "white",
           "ticks": "",
           "title": {
            "standoff": 15
           },
           "zerolinecolor": "white",
           "zerolinewidth": 2
          },
          "yaxis": {
           "automargin": true,
           "gridcolor": "white",
           "linecolor": "white",
           "ticks": "",
           "title": {
            "standoff": 15
           },
           "zerolinecolor": "white",
           "zerolinewidth": 2
          }
         }
        },
        "title": {
         "font": {
          "color": "black",
          "family": "Overpass",
          "size": 25
         },
         "text": "<b>Experimental Datas Vs Model<b>",
         "x": 0.45,
         "y": 0.9
        },
        "width": 1100,
        "xaxis": {
         "title": {
          "font": {
           "color": "black",
           "family": "Overpass",
           "size": 25
          },
          "standoff": 25,
          "text": "<b>VGS / V<b>"
         }
        },
        "yaxis": {
         "title": {
          "font": {
           "color": "black",
           "family": "Overpass",
           "size": 25
          },
          "standoff": 10,
          "text": "<b>|ID| / A<b>"
         },
         "type": "log"
        }
       }
      }
     },
     "metadata": {},
     "output_type": "display_data"
    },
    {
     "name": "stdout",
     "output_type": "stream",
     "text": [
      "\n"
     ]
    },
    {
     "data": {
      "application/vnd.plotly.v1+json": {
       "config": {
        "plotlyServerURL": "https://plot.ly"
       },
       "data": [
        {
         "line": {
          "color": "rgb(255, 0, 0)",
          "dash": "dash"
         },
         "mode": "lines+text",
         "name": "<b>Model OVSED<b> <b>-29V<b>",
         "text": [
          "-29V"
         ],
         "textfont": {
          "color": "rgb(255, 0, 0)",
          "family": "Times New Roman",
          "size": 13
         },
         "textposition": "bottom center",
         "type": "scatter",
         "x": [
          -50,
          -49.24812,
          -48.68421,
          -47.650375,
          -46.710526,
          -46.146618,
          -45.11278,
          -43.984962,
          -42.857143,
          -42.01128,
          -40.977444,
          -40.225563,
          -38.909775,
          -37.87594,
          -37.030075,
          -36.18421,
          -35.150375,
          -33.92857,
          -32.98872,
          -32.048874,
          -31.109022,
          -29.981203,
          -28.853384,
          -28.101503,
          -27.067669,
          -26.033834,
          -25.18797,
          -24.06015,
          -22.932331,
          -21.992481,
          -20.864662,
          -19.736841,
          -18.703007,
          -17.575188,
          -16.541353,
          -15.883459,
          -15.037594,
          -14.285714,
          -13.25188,
          -12.030075,
          -11.37218,
          -10.432331,
          -9.304511,
          -8.270677,
          -7.330827,
          -6.3909774,
          -5.263158,
          -4.3233085,
          -3.2894738,
          -2.1616542
         ],
         "y": [
          -5.634422206110462,
          -5.644343899870048,
          -5.651783867905544,
          -5.6654169055802495,
          -5.677797014017893,
          -5.6852157413637965,
          -5.698791318364146,
          -5.713549141827716,
          -5.728230984599387,
          -5.7391756467715975,
          -5.752451291525742,
          -5.762019081202882,
          -5.7785351886616905,
          -5.791253008861364,
          -5.801442664101514,
          -5.811394606209912,
          -5.8231639764188365,
          -5.836374076936692,
          -5.845890231452209,
          -5.85471083868637,
          -5.862687803926167,
          -5.870894560707241,
          -5.877256919813815,
          -5.880251420773608,
          -5.882401971299843,
          -5.881823842168644,
          -5.878914345161264,
          -5.870925632824553,
          -5.857263742593955,
          -5.840641176562792,
          -5.81312713591404,
          -5.775716960171025,
          -5.731007828570568,
          -5.668692611286503,
          -5.5969370888738466,
          -5.542895691898206,
          -5.462598926513638,
          -5.379881113698245,
          -5.246531967356302,
          -5.055638490191182,
          -4.936045144627259,
          -4.742479300694716,
          -4.4712974715747436,
          -4.181381188687333,
          -3.8801148259498275,
          -3.539929090829327,
          -3.076372460167722,
          -2.6408620704212504,
          -2.1070861612006784,
          -1.456306315399076
         ]
        },
        {
         "line": {
          "color": "rgb(0, 0, 255)",
          "dash": "dash"
         },
         "mode": "lines+text",
         "name": "<b>Model OVSED<b> <b>-40V<b>",
         "text": [
          "-40V"
         ],
         "textfont": {
          "color": "rgb(0, 0, 255)",
          "family": "Times New Roman",
          "size": 13
         },
         "textposition": "bottom center",
         "type": "scatter",
         "x": [
          -49.906013,
          -48.778194,
          -47.93233,
          -46.898495,
          -45.770676,
          -44.924812,
          -43.890976,
          -43.1391,
          -42.01128,
          -40.977444,
          -39.943607,
          -39.00376,
          -38.06391,
          -37.030075,
          -36.18421,
          -34.304512,
          -33.270676,
          -32.142857,
          -30.921053,
          -29.135338,
          -28.101503,
          -26.785715,
          -25.75188,
          -24.718044,
          -24.06015,
          -23.214285,
          -22.368422,
          -21.428572,
          -20.206766,
          -19.078947,
          -18.233082,
          -17.105263,
          -16.165413,
          -15.225564,
          -14.3797,
          -12.969925,
          -12.12406,
          -11.184211,
          -10.056391,
          -9.304511,
          -8.364661,
          -7.142857,
          -6.1090226,
          -5.357143,
          -4.3233085,
          -3.4774437,
          -2.3496242,
          -1.5977443,
          -0.7518797,
          -0.18796992
         ],
         "y": [
          -29.523402376699778,
          -29.564189809313582,
          -29.593796732375342,
          -29.628645742850253,
          -29.664705023225718,
          -29.69018857987588,
          -29.719222364843088,
          -29.738673771535044,
          -29.76481666010607,
          -29.785090247165183,
          -29.801242596928144,
          -29.811795278152353,
          -29.817829535888226,
          -29.818480325832667,
          -29.81369341179055,
          -29.78264684162398,
          -29.75133930143048,
          -29.703412017966944,
          -29.63267559251838,
          -29.48720072005555,
          -29.37591369387721,
          -29.200289645670743,
          -29.031723852072133,
          -28.83245731602493,
          -28.687918838371676,
          -28.479802855703905,
          -28.244366305321723,
          -27.947557682906076,
          -27.500154733259603,
          -27.01815214457077,
          -26.608410307986855,
          -25.99119094897549,
          -25.409244830598247,
          -24.76024066852251,
          -24.11427425911171,
          -22.89582797271808,
          -22.07270641192737,
          -21.070714219048845,
          -19.73858205979696,
          -18.7669816372728,
          -17.453049246130654,
          -15.570469959889207,
          -13.814648828907071,
          -12.439276259324878,
          -10.407091321909528,
          -8.618533166239594,
          -6.050998559271483,
          -4.2197414571495155,
          -2.0421695100706674,
          -0.5200835146567008
         ]
        },
        {
         "line": {
          "color": "rgb(30, 144, 255)",
          "dash": "dash"
         },
         "mode": "lines+text",
         "name": "<b>Model OVSED<b> <b>-50V<b>",
         "text": [
          "-50V"
         ],
         "textfont": {
          "color": "rgb(30, 144, 255)",
          "family": "Times New Roman",
          "size": 13
         },
         "textposition": "bottom center",
         "type": "scatter",
         "x": [
          -50,
          -49.24812,
          -48.026318,
          -47.18045,
          -45.864662,
          -44.830826,
          -43.890976,
          -42.857143,
          -41.917294,
          -40.789474,
          -39.943607,
          -39.097744,
          -38.06391,
          -37.030075,
          -36.18421,
          -35.24436,
          -34.210526,
          -32.894737,
          -32.142857,
          -31.109022,
          -29.981203,
          -29.229322,
          -28.195488,
          -27.067669,
          -25.93985,
          -25.18797,
          -23.966166,
          -23.026316,
          -22.086466,
          -21.146616,
          -20.206766,
          -19.266918,
          -18.045113,
          -17.387218,
          -16.2594,
          -15.225564,
          -14.097744,
          -13.157895,
          -12.31203,
          -11.278195,
          -10.244361,
          -9.398497,
          -8.082706,
          -7.236842,
          -6.2969923,
          -5.357143,
          -4.2293234,
          -3.4774437,
          -2.537594,
          -1.1278195
         ],
         "y": [
          -81.59519067458241,
          -81.61572534218591,
          -81.63960334855447,
          -81.64844323101306,
          -81.6479211604511,
          -81.63371774916416,
          -81.60886573096204,
          -81.56681092423989,
          -81.51365557006712,
          -81.42881870015216,
          -81.34842243900282,
          -81.2521096379008,
          -81.1105552813138,
          -80.93992281978878,
          -80.77637062367081,
          -80.5667930477397,
          -80.29898347729586,
          -79.89507300419066,
          -79.62916236800953,
          -79.21747330827486,
          -78.70164379799222,
          -78.31543005884751,
          -77.72398281122156,
          -76.9917644401797,
          -76.15966315069609,
          -75.54452326023322,
          -74.43266670727199,
          -73.47514046796547,
          -72.42124311100885,
          -71.26387175438299,
          -69.99563539561443,
          -68.6088737032396,
          -66.61583141183753,
          -65.44785987181059,
          -63.281057467615284,
          -61.10136450589111,
          -58.498449108764106,
          -56.1392585738349,
          -53.86035417579203,
          -50.864957493657485,
          -47.62730494711797,
          -44.789842837844986,
          -40.02275118204662,
          -36.72150398656722,
          -32.827262672940854,
          -28.686855350580768,
          -23.381954256747143,
          -19.63513465783667,
          -14.708210914351024,
          -6.79554274525933
         ]
        },
        {
         "marker": {
          "color": "rgb(255, 0, 0)",
          "line": {
           "color": "MediumPurple",
           "width": 0.8
          },
          "opacity": 0.5,
          "size": 11
         },
         "mode": "markers+text",
         "name": "<b>Exp <b> <b>-30V<b> <b> (1V)<b>",
         "text": [
          "<b>VGS<b>=-29V  (1)"
         ],
         "textfont": {
          "color": "rgb(255, 0, 0)",
          "family": "Times New Roman",
          "size": 18
         },
         "textposition": "top right",
         "type": "scatter",
         "x": [
          -50,
          -49.24812,
          -48.68421,
          -47.650375,
          -46.710526,
          -46.146618,
          -45.11278,
          -43.984962,
          -42.857143,
          -42.01128,
          -40.977444,
          -40.225563,
          -38.909775,
          -37.87594,
          -37.030075,
          -36.18421,
          -35.150375,
          -33.92857,
          -32.98872,
          -32.048874,
          -31.109022,
          -29.981203,
          -28.853384,
          -28.101503,
          -27.067669,
          -26.033834,
          -25.18797,
          -24.06015,
          -22.932331,
          -21.992481,
          -20.864662,
          -19.736841,
          -18.703007,
          -17.575188,
          -16.541353,
          -15.883459,
          -15.037594,
          -14.285714,
          -13.25188,
          -12.030075,
          -11.37218,
          -10.432331,
          -9.304511,
          -8.270677,
          -7.330827,
          -6.3909774,
          -5.263158,
          -4.3233085,
          -3.2894738,
          -2.1616542
         ],
         "y": [
          -0.68421054,
          -0.68421054,
          -0.67105263,
          -0.67105263,
          -0.68421054,
          -0.68421054,
          -0.68421054,
          -0.65789473,
          -0.68421054,
          -0.68421054,
          -0.67105263,
          -0.67105263,
          -0.67105263,
          -0.68421054,
          -0.67105263,
          -0.67105263,
          -0.67105263,
          -0.67105263,
          -0.65789473,
          -0.65789473,
          -0.67105263,
          -0.67105263,
          -0.67105263,
          -0.67105263,
          -0.67105263,
          -0.67105263,
          -0.67105263,
          -0.67105263,
          -0.65789473,
          -0.6447368,
          -0.6447368,
          -0.6447368,
          -0.6447368,
          -0.6184211,
          -0.6184211,
          -0.6184211,
          -0.6184211,
          -0.59210527,
          -0.57894737,
          -0.57894737,
          -0.55263156,
          -0.5394737,
          -0.5263158,
          -0.47368422,
          -0.46052632,
          -0.40789473,
          -0.35526314,
          -0.32894737,
          -0.2631579,
          -0.21052632
         ]
        },
        {
         "marker": {
          "color": "rgb(0, 0, 255)",
          "line": {
           "color": "MediumPurple",
           "width": 0.8
          },
          "opacity": 0.5,
          "size": 11
         },
         "mode": "markers+text",
         "name": "<b>Exp <b> <b>-40V<b>",
         "text": [
          "<b>VGS<b>=-40V"
         ],
         "textfont": {
          "color": "rgb(0, 0, 255)",
          "family": "Times New Roman",
          "size": 18
         },
         "textposition": "top right",
         "type": "scatter",
         "x": [
          -49.906013,
          -48.778194,
          -47.93233,
          -46.898495,
          -45.770676,
          -44.924812,
          -43.890976,
          -43.1391,
          -42.01128,
          -40.977444,
          -39.943607,
          -39.00376,
          -38.06391,
          -37.030075,
          -36.18421,
          -34.304512,
          -33.270676,
          -32.142857,
          -30.921053,
          -29.135338,
          -28.101503,
          -26.785715,
          -25.75188,
          -24.718044,
          -24.06015,
          -23.214285,
          -22.368422,
          -21.428572,
          -20.206766,
          -19.078947,
          -18.233082,
          -17.105263,
          -16.165413,
          -15.225564,
          -14.3797,
          -12.969925,
          -12.12406,
          -11.184211,
          -10.056391,
          -9.304511,
          -8.364661,
          -7.142857,
          -6.1090226,
          -5.357143,
          -4.3233085,
          -3.4774437,
          -2.3496242,
          -1.5977443,
          -0.7518797,
          -0.18796992
         ],
         "y": [
          -2.4868422,
          -2.5,
          -2.5131578,
          -2.4868422,
          -2.4736843,
          -2.4736843,
          -2.4868422,
          -2.4868422,
          -2.4868422,
          -2.5,
          -2.5,
          -2.4605262,
          -2.4736843,
          -2.4736843,
          -2.4868422,
          -2.4605262,
          -2.4605262,
          -2.4605262,
          -2.4605262,
          -2.4078948,
          -2.4210527,
          -2.4078948,
          -2.3947368,
          -2.3552632,
          -2.3552632,
          -2.3289473,
          -2.3289473,
          -2.3157895,
          -2.2894738,
          -2.2368422,
          -2.1973684,
          -2.1578948,
          -2.1052632,
          -2.0526316,
          -2.0131578,
          -1.9342105,
          -1.8421053,
          -1.75,
          -1.6315789,
          -1.5526316,
          -1.4078947,
          -1.2894737,
          -1.1184211,
          -0.9868421,
          -0.7894737,
          -0.6315789,
          -0.4473684,
          -0.28947368,
          -0.13157895,
          0
         ]
        },
        {
         "marker": {
          "color": "rgb(30, 144, 255)",
          "line": {
           "color": "MediumPurple",
           "width": 0.8
          },
          "opacity": 0.5,
          "size": 11
         },
         "mode": "markers+text",
         "name": "<b>Exp <b> <b>-50V<b>",
         "text": [
          "<b>VGS<b>=-50V"
         ],
         "textfont": {
          "color": "rgb(30, 144, 255)",
          "family": "Times New Roman",
          "size": 18
         },
         "textposition": "top right",
         "type": "scatter",
         "x": [
          -50,
          -49.24812,
          -48.026318,
          -47.18045,
          -45.864662,
          -44.830826,
          -43.890976,
          -42.857143,
          -41.917294,
          -40.789474,
          -39.943607,
          -39.097744,
          -38.06391,
          -37.030075,
          -36.18421,
          -35.24436,
          -34.210526,
          -32.894737,
          -32.142857,
          -31.109022,
          -29.981203,
          -29.229322,
          -28.195488,
          -27.067669,
          -25.93985,
          -25.18797,
          -23.966166,
          -23.026316,
          -22.086466,
          -21.146616,
          -20.206766,
          -19.266918,
          -18.045113,
          -17.387218,
          -16.2594,
          -15.225564,
          -14.097744,
          -13.157895,
          -12.31203,
          -11.278195,
          -10.244361,
          -9.398497,
          -8.082706,
          -7.236842,
          -6.2969923,
          -5.357143,
          -4.2293234,
          -3.4774437,
          -2.537594,
          -1.1278195
         ],
         "y": [
          -6.2894735,
          -6.2763157,
          -6.2763157,
          -6.2763157,
          -6.2763157,
          -6.25,
          -6.25,
          -6.2236843,
          -6.2236843,
          -6.2236843,
          -6.1973686,
          -6.1973686,
          -6.1842103,
          -6.1578946,
          -6.118421,
          -6.105263,
          -6.0789475,
          -6.0789475,
          -6.0263157,
          -6,
          -5.9605265,
          -5.881579,
          -5.8421054,
          -5.8026314,
          -5.736842,
          -5.644737,
          -5.5657897,
          -5.513158,
          -5.355263,
          -5.263158,
          -5.1710525,
          -5.0394735,
          -4.881579,
          -4.75,
          -4.5657897,
          -4.368421,
          -4.1973686,
          -4,
          -3.7894738,
          -3.5526316,
          -3.2894738,
          -3.0263157,
          -2.7236843,
          -2.4605262,
          -2.131579,
          -1.7894737,
          -1.4736842,
          -1.1315789,
          -0.75,
          -0.38157895
         ]
        }
       ],
       "layout": {
        "height": 600,
        "legend": {
         "font": {
          "size": 16
         }
        },
        "template": {
         "data": {
          "bar": [
           {
            "error_x": {
             "color": "#2a3f5f"
            },
            "error_y": {
             "color": "#2a3f5f"
            },
            "marker": {
             "line": {
              "color": "#E5ECF6",
              "width": 0.5
             },
             "pattern": {
              "fillmode": "overlay",
              "size": 10,
              "solidity": 0.2
             }
            },
            "type": "bar"
           }
          ],
          "barpolar": [
           {
            "marker": {
             "line": {
              "color": "#E5ECF6",
              "width": 0.5
             },
             "pattern": {
              "fillmode": "overlay",
              "size": 10,
              "solidity": 0.2
             }
            },
            "type": "barpolar"
           }
          ],
          "carpet": [
           {
            "aaxis": {
             "endlinecolor": "#2a3f5f",
             "gridcolor": "white",
             "linecolor": "white",
             "minorgridcolor": "white",
             "startlinecolor": "#2a3f5f"
            },
            "baxis": {
             "endlinecolor": "#2a3f5f",
             "gridcolor": "white",
             "linecolor": "white",
             "minorgridcolor": "white",
             "startlinecolor": "#2a3f5f"
            },
            "type": "carpet"
           }
          ],
          "choropleth": [
           {
            "colorbar": {
             "outlinewidth": 0,
             "ticks": ""
            },
            "type": "choropleth"
           }
          ],
          "contour": [
           {
            "colorbar": {
             "outlinewidth": 0,
             "ticks": ""
            },
            "colorscale": [
             [
              0,
              "#0d0887"
             ],
             [
              0.1111111111111111,
              "#46039f"
             ],
             [
              0.2222222222222222,
              "#7201a8"
             ],
             [
              0.3333333333333333,
              "#9c179e"
             ],
             [
              0.4444444444444444,
              "#bd3786"
             ],
             [
              0.5555555555555556,
              "#d8576b"
             ],
             [
              0.6666666666666666,
              "#ed7953"
             ],
             [
              0.7777777777777778,
              "#fb9f3a"
             ],
             [
              0.8888888888888888,
              "#fdca26"
             ],
             [
              1,
              "#f0f921"
             ]
            ],
            "type": "contour"
           }
          ],
          "contourcarpet": [
           {
            "colorbar": {
             "outlinewidth": 0,
             "ticks": ""
            },
            "type": "contourcarpet"
           }
          ],
          "heatmap": [
           {
            "colorbar": {
             "outlinewidth": 0,
             "ticks": ""
            },
            "colorscale": [
             [
              0,
              "#0d0887"
             ],
             [
              0.1111111111111111,
              "#46039f"
             ],
             [
              0.2222222222222222,
              "#7201a8"
             ],
             [
              0.3333333333333333,
              "#9c179e"
             ],
             [
              0.4444444444444444,
              "#bd3786"
             ],
             [
              0.5555555555555556,
              "#d8576b"
             ],
             [
              0.6666666666666666,
              "#ed7953"
             ],
             [
              0.7777777777777778,
              "#fb9f3a"
             ],
             [
              0.8888888888888888,
              "#fdca26"
             ],
             [
              1,
              "#f0f921"
             ]
            ],
            "type": "heatmap"
           }
          ],
          "heatmapgl": [
           {
            "colorbar": {
             "outlinewidth": 0,
             "ticks": ""
            },
            "colorscale": [
             [
              0,
              "#0d0887"
             ],
             [
              0.1111111111111111,
              "#46039f"
             ],
             [
              0.2222222222222222,
              "#7201a8"
             ],
             [
              0.3333333333333333,
              "#9c179e"
             ],
             [
              0.4444444444444444,
              "#bd3786"
             ],
             [
              0.5555555555555556,
              "#d8576b"
             ],
             [
              0.6666666666666666,
              "#ed7953"
             ],
             [
              0.7777777777777778,
              "#fb9f3a"
             ],
             [
              0.8888888888888888,
              "#fdca26"
             ],
             [
              1,
              "#f0f921"
             ]
            ],
            "type": "heatmapgl"
           }
          ],
          "histogram": [
           {
            "marker": {
             "pattern": {
              "fillmode": "overlay",
              "size": 10,
              "solidity": 0.2
             }
            },
            "type": "histogram"
           }
          ],
          "histogram2d": [
           {
            "colorbar": {
             "outlinewidth": 0,
             "ticks": ""
            },
            "colorscale": [
             [
              0,
              "#0d0887"
             ],
             [
              0.1111111111111111,
              "#46039f"
             ],
             [
              0.2222222222222222,
              "#7201a8"
             ],
             [
              0.3333333333333333,
              "#9c179e"
             ],
             [
              0.4444444444444444,
              "#bd3786"
             ],
             [
              0.5555555555555556,
              "#d8576b"
             ],
             [
              0.6666666666666666,
              "#ed7953"
             ],
             [
              0.7777777777777778,
              "#fb9f3a"
             ],
             [
              0.8888888888888888,
              "#fdca26"
             ],
             [
              1,
              "#f0f921"
             ]
            ],
            "type": "histogram2d"
           }
          ],
          "histogram2dcontour": [
           {
            "colorbar": {
             "outlinewidth": 0,
             "ticks": ""
            },
            "colorscale": [
             [
              0,
              "#0d0887"
             ],
             [
              0.1111111111111111,
              "#46039f"
             ],
             [
              0.2222222222222222,
              "#7201a8"
             ],
             [
              0.3333333333333333,
              "#9c179e"
             ],
             [
              0.4444444444444444,
              "#bd3786"
             ],
             [
              0.5555555555555556,
              "#d8576b"
             ],
             [
              0.6666666666666666,
              "#ed7953"
             ],
             [
              0.7777777777777778,
              "#fb9f3a"
             ],
             [
              0.8888888888888888,
              "#fdca26"
             ],
             [
              1,
              "#f0f921"
             ]
            ],
            "type": "histogram2dcontour"
           }
          ],
          "mesh3d": [
           {
            "colorbar": {
             "outlinewidth": 0,
             "ticks": ""
            },
            "type": "mesh3d"
           }
          ],
          "parcoords": [
           {
            "line": {
             "colorbar": {
              "outlinewidth": 0,
              "ticks": ""
             }
            },
            "type": "parcoords"
           }
          ],
          "pie": [
           {
            "automargin": true,
            "type": "pie"
           }
          ],
          "scatter": [
           {
            "fillpattern": {
             "fillmode": "overlay",
             "size": 10,
             "solidity": 0.2
            },
            "type": "scatter"
           }
          ],
          "scatter3d": [
           {
            "line": {
             "colorbar": {
              "outlinewidth": 0,
              "ticks": ""
             }
            },
            "marker": {
             "colorbar": {
              "outlinewidth": 0,
              "ticks": ""
             }
            },
            "type": "scatter3d"
           }
          ],
          "scattercarpet": [
           {
            "marker": {
             "colorbar": {
              "outlinewidth": 0,
              "ticks": ""
             }
            },
            "type": "scattercarpet"
           }
          ],
          "scattergeo": [
           {
            "marker": {
             "colorbar": {
              "outlinewidth": 0,
              "ticks": ""
             }
            },
            "type": "scattergeo"
           }
          ],
          "scattergl": [
           {
            "marker": {
             "colorbar": {
              "outlinewidth": 0,
              "ticks": ""
             }
            },
            "type": "scattergl"
           }
          ],
          "scattermapbox": [
           {
            "marker": {
             "colorbar": {
              "outlinewidth": 0,
              "ticks": ""
             }
            },
            "type": "scattermapbox"
           }
          ],
          "scatterpolar": [
           {
            "marker": {
             "colorbar": {
              "outlinewidth": 0,
              "ticks": ""
             }
            },
            "type": "scatterpolar"
           }
          ],
          "scatterpolargl": [
           {
            "marker": {
             "colorbar": {
              "outlinewidth": 0,
              "ticks": ""
             }
            },
            "type": "scatterpolargl"
           }
          ],
          "scatterternary": [
           {
            "marker": {
             "colorbar": {
              "outlinewidth": 0,
              "ticks": ""
             }
            },
            "type": "scatterternary"
           }
          ],
          "surface": [
           {
            "colorbar": {
             "outlinewidth": 0,
             "ticks": ""
            },
            "colorscale": [
             [
              0,
              "#0d0887"
             ],
             [
              0.1111111111111111,
              "#46039f"
             ],
             [
              0.2222222222222222,
              "#7201a8"
             ],
             [
              0.3333333333333333,
              "#9c179e"
             ],
             [
              0.4444444444444444,
              "#bd3786"
             ],
             [
              0.5555555555555556,
              "#d8576b"
             ],
             [
              0.6666666666666666,
              "#ed7953"
             ],
             [
              0.7777777777777778,
              "#fb9f3a"
             ],
             [
              0.8888888888888888,
              "#fdca26"
             ],
             [
              1,
              "#f0f921"
             ]
            ],
            "type": "surface"
           }
          ],
          "table": [
           {
            "cells": {
             "fill": {
              "color": "#EBF0F8"
             },
             "line": {
              "color": "white"
             }
            },
            "header": {
             "fill": {
              "color": "#C8D4E3"
             },
             "line": {
              "color": "white"
             }
            },
            "type": "table"
           }
          ]
         },
         "layout": {
          "annotationdefaults": {
           "arrowcolor": "#2a3f5f",
           "arrowhead": 0,
           "arrowwidth": 1
          },
          "autotypenumbers": "strict",
          "coloraxis": {
           "colorbar": {
            "outlinewidth": 0,
            "ticks": ""
           }
          },
          "colorscale": {
           "diverging": [
            [
             0,
             "#8e0152"
            ],
            [
             0.1,
             "#c51b7d"
            ],
            [
             0.2,
             "#de77ae"
            ],
            [
             0.3,
             "#f1b6da"
            ],
            [
             0.4,
             "#fde0ef"
            ],
            [
             0.5,
             "#f7f7f7"
            ],
            [
             0.6,
             "#e6f5d0"
            ],
            [
             0.7,
             "#b8e186"
            ],
            [
             0.8,
             "#7fbc41"
            ],
            [
             0.9,
             "#4d9221"
            ],
            [
             1,
             "#276419"
            ]
           ],
           "sequential": [
            [
             0,
             "#0d0887"
            ],
            [
             0.1111111111111111,
             "#46039f"
            ],
            [
             0.2222222222222222,
             "#7201a8"
            ],
            [
             0.3333333333333333,
             "#9c179e"
            ],
            [
             0.4444444444444444,
             "#bd3786"
            ],
            [
             0.5555555555555556,
             "#d8576b"
            ],
            [
             0.6666666666666666,
             "#ed7953"
            ],
            [
             0.7777777777777778,
             "#fb9f3a"
            ],
            [
             0.8888888888888888,
             "#fdca26"
            ],
            [
             1,
             "#f0f921"
            ]
           ],
           "sequentialminus": [
            [
             0,
             "#0d0887"
            ],
            [
             0.1111111111111111,
             "#46039f"
            ],
            [
             0.2222222222222222,
             "#7201a8"
            ],
            [
             0.3333333333333333,
             "#9c179e"
            ],
            [
             0.4444444444444444,
             "#bd3786"
            ],
            [
             0.5555555555555556,
             "#d8576b"
            ],
            [
             0.6666666666666666,
             "#ed7953"
            ],
            [
             0.7777777777777778,
             "#fb9f3a"
            ],
            [
             0.8888888888888888,
             "#fdca26"
            ],
            [
             1,
             "#f0f921"
            ]
           ]
          },
          "colorway": [
           "#636efa",
           "#EF553B",
           "#00cc96",
           "#ab63fa",
           "#FFA15A",
           "#19d3f3",
           "#FF6692",
           "#B6E880",
           "#FF97FF",
           "#FECB52"
          ],
          "font": {
           "color": "#2a3f5f"
          },
          "geo": {
           "bgcolor": "white",
           "lakecolor": "white",
           "landcolor": "#E5ECF6",
           "showlakes": true,
           "showland": true,
           "subunitcolor": "white"
          },
          "hoverlabel": {
           "align": "left"
          },
          "hovermode": "closest",
          "mapbox": {
           "style": "light"
          },
          "paper_bgcolor": "white",
          "plot_bgcolor": "#E5ECF6",
          "polar": {
           "angularaxis": {
            "gridcolor": "white",
            "linecolor": "white",
            "ticks": ""
           },
           "bgcolor": "#E5ECF6",
           "radialaxis": {
            "gridcolor": "white",
            "linecolor": "white",
            "ticks": ""
           }
          },
          "scene": {
           "xaxis": {
            "backgroundcolor": "#E5ECF6",
            "gridcolor": "white",
            "gridwidth": 2,
            "linecolor": "white",
            "showbackground": true,
            "ticks": "",
            "zerolinecolor": "white"
           },
           "yaxis": {
            "backgroundcolor": "#E5ECF6",
            "gridcolor": "white",
            "gridwidth": 2,
            "linecolor": "white",
            "showbackground": true,
            "ticks": "",
            "zerolinecolor": "white"
           },
           "zaxis": {
            "backgroundcolor": "#E5ECF6",
            "gridcolor": "white",
            "gridwidth": 2,
            "linecolor": "white",
            "showbackground": true,
            "ticks": "",
            "zerolinecolor": "white"
           }
          },
          "shapedefaults": {
           "line": {
            "color": "#2a3f5f"
           }
          },
          "ternary": {
           "aaxis": {
            "gridcolor": "white",
            "linecolor": "white",
            "ticks": ""
           },
           "baxis": {
            "gridcolor": "white",
            "linecolor": "white",
            "ticks": ""
           },
           "bgcolor": "#E5ECF6",
           "caxis": {
            "gridcolor": "white",
            "linecolor": "white",
            "ticks": ""
           }
          },
          "title": {
           "x": 0.05
          },
          "xaxis": {
           "automargin": true,
           "gridcolor": "white",
           "linecolor": "white",
           "ticks": "",
           "title": {
            "standoff": 15
           },
           "zerolinecolor": "white",
           "zerolinewidth": 2
          },
          "yaxis": {
           "automargin": true,
           "gridcolor": "white",
           "linecolor": "white",
           "ticks": "",
           "title": {
            "standoff": 15
           },
           "zerolinecolor": "white",
           "zerolinewidth": 2
          }
         }
        },
        "title": {
         "font": {
          "color": "black",
          "family": "Overpass",
          "size": 25
         },
         "text": "<b>Experimental Datas Vs Model<b>",
         "x": 0.45,
         "y": 0.9
        },
        "width": 1100,
        "xaxis": {
         "title": {
          "font": {
           "color": "black",
           "family": "Overpass",
           "size": 25
          },
          "standoff": 25,
          "text": "<b>VDS / V<b>"
         }
        },
        "yaxis": {
         "title": {
          "font": {
           "color": "black",
           "family": "Overpass",
           "size": 25
          },
          "standoff": 10,
          "text": "<b>ID / uA<b>"
         },
         "type": "linear"
        }
       }
      }
     },
     "metadata": {},
     "output_type": "display_data"
    },
    {
     "name": "stdout",
     "output_type": "stream",
     "text": [
      "\n",
      "\n",
      "\n",
      "\n",
      "\n",
      "\n",
      "**************************************************************************************************************************************************\n",
      "\n",
      "|RELATIVE ERROR BETWEEN CURVES: 147082113115.4680\n",
      "\n",
      "**************************************************************************************************************************************************\n"
     ]
    }
   ],
   "source": [
    "# @title ##### ***GRAFICS PLOT OPTION:*** { run: \"auto\" }\n",
    "option = 'show both curves' # @param [\"Show Transfer curve\", \"Show output curve\", \"show both curves\"]\n",
    "\n",
    "plot = initialize_graphics_plot(settings['image_size_width'], settings['image_size_height'])\n",
    "model = instance_model(read, TFTModel, n_points, type_curve_plot, load_parameters, input_voltage, Vv, load_idleak, width_t, count_transfer, tp_tst, settings['experimental_data_scale_transfer'], settings['current_typic'], resistance, current)\n",
    "in_model_data, in_exp_data, out_model_data, out_exp_data = load_experimental_data(read, count_transfer, Vv, Id, model, count_output)\n",
    "plot_curves(option, plot, list_tension, list_tension_shift, count_transfer, in_model_data, out_model_data, in_exp_data, out_exp_data, shift_list, settings['select_files'], settings['current_typic'], type_curve_plot)\n",
    "read.compute_relative_distance(Id, model)\n"
   ]
  },
  {
   "cell_type": "markdown",
   "metadata": {
    "id": "vUMiE-AQVQYh"
   },
   "source": [
    "### **Model Optimization** ⚡"
   ]
  },
  {
   "cell_type": "markdown",
   "metadata": {
    "id": "hPKJt-uDVKbe"
   },
   "source": [
    "This optimization section focuses on estimating the optimal parameters for a MOSFET transistor given a sequence of input voltage $V$ [V] and current $I$ [mA], using the mathematical model introduced in section [5]. The goal here is to estimate these optimal parameters using the `curve_fit` function, as also introduced in section [4] (for more details, refer to that section). The parameters in question are listed below:\n",
    "\n",
    "- $V_{tho}$: Gate threshold voltage of the transistor.\n",
    "- $\\Delta$: Channel modulation coefficient.\n",
    "- $N$: Number of transistor channels.\n",
    "- $L$: Channel length of the transistor.\n",
    "- $\\Lambda$: Channel modulation length.\n",
    "- $V_{crit}$: Transistor breakdown voltage.\n",
    "- $J_{th}$: Transistor saturation current.\n",
    "- $R_s$: Transistor series resistance.\n",
    "\n"
   ]
  },
  {
   "cell_type": "code",
   "execution_count": 6,
   "metadata": {
    "cellView": "form",
    "colab": {
     "base_uri": "https://localhost:8080/"
    },
    "executionInfo": {
     "elapsed": 99499,
     "status": "ok",
     "timestamp": 1730290119901,
     "user": {
      "displayName": "Rodrigo Santos Batista",
      "userId": "10844009603124520931"
     },
     "user_tz": 180
    },
    "id": "R3wX-9nPVZLQ",
    "outputId": "880cb966-b46f-4637-be60-39b090dd3952"
   },
   "outputs": [
    {
     "name": "stdout",
     "output_type": "stream",
     "text": [
      "\n",
      "----------------------------------------------------------------------------------------------------\n",
      "TRUST REGION REFLECTIVE (TRF) MODE\n",
      "----------------------------------------------------------------------------------------------------\n",
      "\n",
      "\n",
      "\n",
      "\n",
      "\n",
      "********************************************************************************************************************************************************************************************************\n",
      "`xtol` termination condition is satisfied.\n",
      "function evaluations 78, initial cost 2.3585e+05, final cost 1.0228e+00, first-order optimality 5.43e-03.\n",
      "\n",
      "********************************************************************************************************************************************************************************************************\n",
      "\n",
      "\n",
      "\n",
      "\n"
     ]
    }
   ],
   "source": [
    "# @title #### **OPTIMIZING THE MODEL.** { run: \"auto\" }\n",
    "lw_bounds, up_bounds = get_bounds(settings['lower_bounds'], settings['upper_bounds'])\n",
    "tolerance_factor = get_tolerance_factor(settings['tolerance_factor'])\n",
    "tlr_factor = get_tolerance_factor(tolerance_factor)\n",
    "lw_bounds, up_bounds = configure_bounds(settings['default_bounds'], lw_bounds, up_bounds)\n",
    "\n",
    "model_id = create_model_opt(TFTModel, input_voltage, n_points, type_curve_plot, settings['current_typic'],\n",
    "                            settings['experimental_data_scale_transfer'], load_idleak, mode_idleak, count_transfer,\n",
    "                            resistance, current)\n",
    "\n",
    "optimizer = create_optimizer(settings['current_typic'], settings['experimental_data_scale_transfer'], settings['experimental_data_scale_output'],\n",
    "                             settings['type_read_data_exp'], path_voltages, type_curve_plot, settings['optimization_method'], (lw_bounds, up_bounds))\n",
    "\n",
    "configure_optimizer(optimizer, settings['default_bounds'], tlr_factor)\n",
    "\n",
    "coeff_opt, coeff_error, text_verbose = optimize_model(optimizer, model_id, load_parameters, *path_voltages)\n",
    "\n",
    "# Exibição dos resultados\n",
    "print('\\n\\n\\n')\n",
    "print('*' * 200)\n",
    "print(text_verbose.capitalize())\n",
    "print('*' * 200)\n",
    "print('\\n\\n\\n')"
   ]
  },
  {
   "cell_type": "code",
   "execution_count": 8,
   "metadata": {
    "cellView": "form",
    "colab": {
     "base_uri": "https://localhost:8080/"
    },
    "executionInfo": {
     "elapsed": 17,
     "status": "ok",
     "timestamp": 1730290119902,
     "user": {
      "displayName": "Rodrigo Santos Batista",
      "userId": "10844009603124520931"
     },
     "user_tz": 180
    },
    "id": "E2sKzh9yw0jJ",
    "outputId": "279448f8-91bb-46e5-eded-b8aaf9c9dbb1"
   },
   "outputs": [
    {
     "name": "stdout",
     "output_type": "stream",
     "text": [
      "\n",
      "---------------------------\n",
      " OPTIMIZED COEFFICIENTS:\n",
      "\n",
      "╒══════════════════════╤═════════════════╤═══════════════════╤═════════════════════════════════════════╕\n",
      "│ Parameter            │   Initial Value │   Optimized Value │   Associated Error (standard deviation) │\n",
      "╞══════════════════════╪═════════════════╪═══════════════════╪═════════════════════════════════════════╡\n",
      "│ VTHO [V]             │     8.57        │      11.5805      │                             8.95273     │\n",
      "├──────────────────────┼─────────────────┼───────────────────┼─────────────────────────────────────────┤\n",
      "│ DELTA                │     0.0123      │       0.00777751  │                             0.030505    │\n",
      "├──────────────────────┼─────────────────┼───────────────────┼─────────────────────────────────────────┤\n",
      "│ N                    │   108           │     110.977       │                            54.7446      │\n",
      "├──────────────────────┼─────────────────┼───────────────────┼─────────────────────────────────────────┤\n",
      "│ L                    │     3.18        │       2.34013     │                             1.90755     │\n",
      "├──────────────────────┼─────────────────┼───────────────────┼─────────────────────────────────────────┤\n",
      "│ LAMBDA               │  1490           │    8468.66        │                        144144           │\n",
      "├──────────────────────┼─────────────────┼───────────────────┼─────────────────────────────────────────┤\n",
      "│ VGCRIT [V]           │    32.3         │      41.3829      │                            56.0104      │\n",
      "├──────────────────────┼─────────────────┼───────────────────┼─────────────────────────────────────────┤\n",
      "│ JTH [μA cm^−1]       │     1           │       4.31136     │                            90.8086      │\n",
      "├──────────────────────┼─────────────────┼───────────────────┼─────────────────────────────────────────┤\n",
      "│ RS [kΩ]              │    10           │     100           │                           110.342       │\n",
      "├──────────────────────┼─────────────────┼───────────────────┼─────────────────────────────────────────┤\n",
      "│ JTH / LAMBDA * N [μA │     6.21427e-06 │       4.58739e-06 │                             1.15077e-05 │\n",
      "│      cm^−1]          │                 │                   │                                         │\n",
      "╘══════════════════════╧═════════════════╧═══════════════════╧═════════════════════════════════════════╛\n",
      "\n",
      "\n",
      "\n",
      "\n"
     ]
    }
   ],
   "source": [
    "# @title #### **SHOW MODEL PARAMETERS OPTIMIZED.** { run: \"auto\" }\n",
    "# @markdown ### **Loading Parameters and Optimizing the Model** ⚡\n",
    "# @markdown > This section is dedicated to visualizing the parameters obtained through optimization. To do this, simply choose any of the options below:\n",
    "# @markdown ##### ***Show the list coefficients optimized:***\n",
    "# @markdown ##### **--> Vtho, delta, n, l, lam, Vgcrit, Jth, Rs**\n",
    "# @markdown ---\n",
    "\n",
    "option = 'Show the table of values opt' # @param [\"Show the coeff values\",\"Show the initial values\", \"Show the table of values opt\", \"coeff opt\", \"coeff error\"]\n",
    "show_model_parameters_optimized(menu, option, load_parameters, coeff_opt, coeff_error, current, settings['current_typic'], resistance)\n"
   ]
  },
  {
   "cell_type": "markdown",
   "metadata": {
    "id": "wtumu9_Lxx4q"
   },
   "source": [
    "### **Comparing** ✅\n",
    "\n",
    "---\n",
    "This section aims to evaluate the model's performance relative to the initial data. Visual observation allows assessing whether the model significantly outperformed the initial coefficients.\n",
    "\n",
    "In this section, simply execute the cells below; no explicit modifications are required.\n",
    "\n",
    "---"
   ]
  },
  {
   "cell_type": "code",
   "execution_count": 9,
   "metadata": {
    "cellView": "form",
    "colab": {
     "base_uri": "https://localhost:8080/",
     "height": 1000
    },
    "executionInfo": {
     "elapsed": 367,
     "status": "ok",
     "timestamp": 1730290120254,
     "user": {
      "displayName": "Rodrigo Santos Batista",
      "userId": "10844009603124520931"
     },
     "user_tz": 180
    },
    "id": "gvhAweAZx3eD",
    "outputId": "8cceb938-9438-4010-9ed4-9f0b2efeffa5"
   },
   "outputs": [
    {
     "data": {
      "application/vnd.plotly.v1+json": {
       "config": {
        "plotlyServerURL": "https://plot.ly"
       },
       "data": [
        {
         "line": {
          "color": "rgb(255, 0, 0)",
          "dash": "dash"
         },
         "mode": "lines+text",
         "name": "<b>Model OVSED<b> <b>-2V<b>",
         "text": [
          "-2V"
         ],
         "textfont": {
          "color": "rgb(255, 0, 0)",
          "family": "Times New Roman",
          "size": 13
         },
         "textposition": "bottom center",
         "type": "scatter",
         "x": [
          -50,
          -49.342106,
          -48.30827,
          -47.274437,
          -46.334587,
          -45.206768,
          -44.26692,
          -43.515038,
          -42.763157,
          -42.01128,
          -41.07143,
          -39.943607,
          -38.909775,
          -38.157894,
          -37.31203,
          -36.278194,
          -35.338345,
          -34.49248,
          -33.458645,
          -32.706768,
          -31.860903,
          -31.015038,
          -30.357143,
          -29.605263,
          -28.7594,
          -28.101503,
          -27.725563,
          -26.691729,
          -25.845865,
          -25.093985,
          -24.718044,
          -24.06015,
          -23.402256,
          -22.932331,
          -21.992481,
          -21.052631,
          -20.394737,
          -19.078947,
          -18.421053,
          -17.481203,
          -16.447369,
          -15.601503,
          -14.567669,
          -13.721805,
          -12.781955,
          -12.030075,
          -10.80827,
          -10.150376,
          -10.056391,
          -9.116541
         ],
         "y": [
          0.000011765778839752284,
          0.00001124348549268896,
          0.000010447734371021171,
          0.000009683085484685686,
          0.000009015376458143903,
          0.00000824905239096903,
          0.000007639815099421326,
          0.0000071717466024279724,
          0.000006720892688508284,
          0.000006287255273517608,
          0.000005769362718335628,
          0.0000051831374876417805,
          0.000004679247733263953,
          0.0000043326690969041685,
          0.000003962532258092249,
          0.0000035381245751317085,
          0.000003178502484732746,
          0.000002875713815381721,
          0.0000025318290084020453,
          0.0000022993640356172313,
          0.0000020550892752992514,
          0.0000018285583475290703,
          0.000001664272793385548,
          0.00000148888542800596,
          0.000001306831036073023,
          0.00000117601372598866,
          0.0000011053671565575545,
          9.25939723273434e-7,
          7.946721831424946e-7,
          6.891331356352617e-7,
          6.401363906369741e-7,
          5.602099038839073e-7,
          4.874016948069892e-7,
          4.3956797401806316e-7,
          3.5378902897613455e-7,
          2.803680927798405e-7,
          2.3579250939604372e-7,
          1.6196542520645207e-7,
          1.3202383895129337e-7,
          9.642701872181664e-8,
          6.59350292821306e-8,
          4.683325195292996e-8,
          2.9500714665566824e-8,
          1.9393550089343884e-8,
          1.1577309515139228e-8,
          7.347239195547007e-9,
          3.2153148099431117e-9,
          1.9669524578369946e-9,
          1.8288719815138311e-9,
          8.564844412833962e-10
         ]
        },
        {
         "line": {
          "color": "rgb(0, 0, 255)",
          "dash": "dash"
         },
         "mode": "lines+text",
         "name": "<b>Model OVSED<b> <b>-50V<b>",
         "text": [
          "-50V"
         ],
         "textfont": {
          "color": "rgb(0, 0, 255)",
          "family": "Times New Roman",
          "size": 13
         },
         "textposition": "bottom center",
         "type": "scatter",
         "x": [
          -49.906013,
          -49.24812,
          -48.402256,
          -47.462406,
          -46.334587,
          -45.582706,
          -44.454887,
          -43.42105,
          -42.669174,
          -41.823307,
          -40.883457,
          -39.849625,
          -39.19173,
          -38.25188,
          -37.030075,
          -36.37218,
          -35.338345,
          -34.304512,
          -33.646618,
          -32.894737,
          -31.766918,
          -30.827068,
          -29.793234,
          -28.947369,
          -28.101503,
          -27.349625,
          -26.31579,
          -25.281956,
          -24.530075,
          -23.778196,
          -22.74436,
          -21.898497,
          -20.864662,
          -19.924812,
          -19.172932,
          -18.233082,
          -17.387218,
          -16.447369,
          -15.507519,
          -14.567669,
          -13.721805,
          -12.781955,
          -11.654136,
          -11.090225,
          -10.150376,
          -9.210526,
          -8.458647,
          -7.330827,
          -6.2969923,
          -5.169173
         ],
         "y": [
          0.00008093200670880956,
          0.00007639007872008292,
          0.00007080502254931677,
          0.00006492862060616308,
          0.000058322844739118026,
          0.000054182178543745635,
          0.000048354257878901425,
          0.00004340339053310755,
          0.0000400302671618439,
          0.000036457294382141304,
          0.00003275403420058634,
          0.000028992644851369876,
          0.000026763068748510954,
          0.000023790749765949722,
          0.000020284713276856857,
          0.00001855677617460785,
          0.000016056326128903227,
          0.000013805539637314759,
          0.000012496450609937563,
          0.000011111947337185754,
          0.00000924649129537656,
          0.00000787358040229144,
          0.000006540325139268052,
          0.0000055777341023410945,
          0.000004722329114763839,
          0.000004045859938484113,
          0.000003234743173559138,
          0.0000025494852491333544,
          0.0000021228491865066872,
          0.0000017512403885720166,
          0.000001321626094825173,
          0.0000010328562118006826,
          7.470747021470579e-7,
          5.430136868913245e-7,
          4.1271420395773083e-7,
          2.8502410280369175e-7,
          1.9836617229994348e-7,
          1.2775712367070056e-7,
          7.86765489551849e-8,
          4.603563622700203e-8,
          2.7055086687370903e-8,
          1.4108633592983996e-8,
          5.900104947954319e-9,
          3.674468155607134e-9,
          1.5864422206783757e-9,
          6.573025515364682e-10,
          3.2840885132112376e-10,
          1.366869192087736e-10,
          8.507407772960348e-11,
          6.966102372551775e-11
         ]
        },
        {
         "line": {
          "color": "black",
          "dash": "solid"
         },
         "mode": "lines+text",
         "name": "<b>Model OPT<b> <b>-2V<b>",
         "text": [
          "-2V"
         ],
         "textfont": {
          "color": "black",
          "family": "Times New Roman",
          "size": 13
         },
         "textposition": "bottom center",
         "type": "scatter",
         "x": [
          -50,
          -49.342106,
          -48.30827,
          -47.274437,
          -46.334587,
          -45.206768,
          -44.26692,
          -43.515038,
          -42.763157,
          -42.01128,
          -41.07143,
          -39.943607,
          -38.909775,
          -38.157894,
          -37.31203,
          -36.278194,
          -35.338345,
          -34.49248,
          -33.458645,
          -32.706768,
          -31.860903,
          -31.015038,
          -30.357143,
          -29.605263,
          -28.7594,
          -28.101503,
          -27.725563,
          -26.691729,
          -25.845865,
          -25.093985,
          -24.718044,
          -24.06015,
          -23.402256,
          -22.932331,
          -21.992481,
          -21.052631,
          -20.394737,
          -19.078947,
          -18.421053,
          -17.481203,
          -16.447369,
          -15.601503,
          -14.567669,
          -13.721805,
          -12.781955,
          -12.030075,
          -10.80827,
          -10.150376,
          -10.056391,
          -9.116541
         ],
         "y": [
          7.747265813872594e-7,
          7.460474025954834e-7,
          7.019858838038774e-7,
          6.591759570043437e-7,
          6.213637810180802e-7,
          5.774039162940376e-7,
          5.419678979720016e-7,
          5.144129120760216e-7,
          4.87571069918456e-7,
          4.6144873292457315e-7,
          4.298159929904918e-7,
          3.933661803603489e-7,
          3.614126334085327e-7,
          3.390555432861153e-7,
          3.1479576711529604e-7,
          2.864318470191928e-7,
          2.6187818865037594e-7,
          2.4078418559409843e-7,
          2.162948317081253e-7,
          1.9937631471010539e-7,
          1.812386852400189e-7,
          1.640466288328764e-7,
          1.513262407800314e-7,
          1.374831782382821e-7,
          1.227904108440878e-7,
          1.1200317813434515e-7,
          1.0608918798644808e-7,
          9.075665753021811e-8,
          7.921806594403118e-8,
          6.971257586601308e-8,
          6.52221882760757e-8,
          5.778061236554284e-8,
          5.086352825980998e-8,
          4.623987574624911e-8,
          3.777252148164966e-8,
          3.032291174884711e-8,
          2.5697380600695057e-8,
          1.784573532892377e-8,
          1.4589038689625557e-8,
          1.0662974893572272e-8,
          7.2597388660973736e-9,
          5.117956744687883e-9,
          3.1816457054028108e-9,
          2.066370512729318e-9,
          1.2210317468080484e-9,
          7.75607755945944e-10,
          3.567204276542243e-10,
          2.3611185860924173e-10,
          2.23061398913041e-10,
          1.3360837749574866e-10
         ]
        },
        {
         "line": {
          "color": "black",
          "dash": "solid"
         },
         "mode": "lines+text",
         "name": "<b>Model OPT<b> <b>-50V<b>",
         "text": [
          "-50V"
         ],
         "textfont": {
          "color": "black",
          "family": "Times New Roman",
          "size": 13
         },
         "textposition": "bottom center",
         "type": "scatter",
         "x": [
          -49.906013,
          -49.24812,
          -48.402256,
          -47.462406,
          -46.334587,
          -45.582706,
          -44.454887,
          -43.42105,
          -42.669174,
          -41.823307,
          -40.883457,
          -39.849625,
          -39.19173,
          -38.25188,
          -37.030075,
          -36.37218,
          -35.338345,
          -34.304512,
          -33.646618,
          -32.894737,
          -31.766918,
          -30.827068,
          -29.793234,
          -28.947369,
          -28.101503,
          -27.349625,
          -26.31579,
          -25.281956,
          -24.530075,
          -23.778196,
          -22.74436,
          -21.898497,
          -20.864662,
          -19.924812,
          -19.172932,
          -18.233082,
          -17.387218,
          -16.447369,
          -15.507519,
          -14.567669,
          -13.721805,
          -12.781955,
          -11.654136,
          -11.090225,
          -10.150376,
          -9.210526,
          -8.458647,
          -7.330827,
          -6.2969923,
          -5.169173
         ],
         "y": [
          0.000006224392430117157,
          0.00000591630111077959,
          0.000005534193340687115,
          0.000005127920424737422,
          0.0000046654638067961015,
          0.000004372136105739153,
          0.000003954240236192121,
          0.0000035940550536415715,
          0.0000033455977156481298,
          0.000003079417697089869,
          0.000002799916156458238,
          0.000002511790423099406,
          0.0000023387473195666646,
          0.0000021051296679861506,
          0.0000018246887750943007,
          0.0000016842668017290917,
          0.0000014781085446363375,
          0.0000012891293744027651,
          0.0000011775204102064925,
          0.0000010579483508948415,
          8.940059719640758e-7,
          7.709478797312833e-7,
          6.491492989524846e-7,
          5.595785848322281e-7,
          4.786501153187203e-7,
          4.1363845854455024e-7,
          3.3433215396376275e-7,
          2.6600138701146123e-7,
          2.227517603274996e-7,
          1.8458472982836307e-7,
          1.3982971744210533e-7,
          1.0934317189317875e-7,
          7.885480302502333e-8,
          5.6923370991644876e-8,
          4.288627471247763e-8,
          2.916324182077624e-8,
          1.9928053943071067e-8,
          1.2519022439493025e-8,
          7.494734884183726e-9,
          4.2628566416740264e-9,
          2.4549539799269223e-9,
          1.2724924023441008e-9,
          5.569013897134636e-10,
          3.6936632508948895e-10,
          1.9604071964558834e-10,
          1.187730953221584e-10,
          9.059412232519428e-11,
          7.306926624655717e-11,
          6.770951716923877e-11,
          6.580360926707037e-11
         ]
        },
        {
         "marker": {
          "color": "rgb(255, 0, 0)",
          "line": {
           "color": "MediumPurple",
           "width": 0.8
          },
          "opacity": 0.5,
          "size": 11
         },
         "mode": "markers+text",
         "name": "<b>Exp <b> <b>-2V<b>",
         "text": [
          "<b>VDS<b>=-2V"
         ],
         "textfont": {
          "color": "rgb(255, 0, 0)",
          "family": "Times New Roman",
          "size": 18
         },
         "textposition": "top right",
         "type": "scatter",
         "x": [
          -50,
          -49.342106,
          -48.30827,
          -47.274437,
          -46.334587,
          -45.206768,
          -44.26692,
          -43.515038,
          -42.763157,
          -42.01128,
          -41.07143,
          -39.943607,
          -38.909775,
          -38.157894,
          -37.31203,
          -36.278194,
          -35.338345,
          -34.49248,
          -33.458645,
          -32.706768,
          -31.860903,
          -31.015038,
          -30.357143,
          -29.605263,
          -28.7594,
          -28.101503,
          -27.725563,
          -26.691729,
          -25.845865,
          -25.093985,
          -24.718044,
          -24.06015,
          -23.402256,
          -22.932331,
          -21.992481,
          -21.052631,
          -20.394737,
          -19.078947,
          -18.421053,
          -17.481203,
          -16.447369,
          -15.601503,
          -14.567669,
          -13.721805,
          -12.781955,
          -12.030075,
          -10.80827,
          -10.150376,
          -10.056391,
          -9.116541
         ],
         "y": [
          8.400000000000007e-7,
          7.570000000000008e-7,
          7.570000000000008e-7,
          7.189999999999998e-7,
          6.649999999999999e-7,
          6.31e-7,
          5.829999999999994e-7,
          5.829999999999994e-7,
          5.399999999999996e-7,
          5.119999999999996e-7,
          4.739999999999997e-7,
          4.500000000000003e-7,
          4.1600000000000044e-7,
          3.6499999999999995e-7,
          3.6499999999999995e-7,
          3.200000000000002e-7,
          2.960000000000001e-7,
          2.74e-7,
          2.529999999999998e-7,
          2.2800000000000008e-7,
          1.9500000000000012e-7,
          1.8499999999999998e-7,
          1.6300000000000012e-7,
          1.5000000000000005e-7,
          1.319999999999999e-7,
          1.1599999999999991e-7,
          1.0700000000000002e-7,
          9.91000000000001e-8,
          8.259999999999995e-8,
          7.250000000000006e-8,
          6.710000000000006e-8,
          5.8900000000000044e-8,
          5.169999999999999e-8,
          4.4200000000000045e-8,
          3.680000000000004e-8,
          2.840000000000002e-8,
          2.1300000000000015e-8,
          1.769999999999999e-8,
          1.33e-8,
          1e-8,
          6.5900000000000105e-9,
          4.340000000000005e-9,
          2.8600000000000038e-9,
          1.789999999999997e-9,
          1.0100000000000013e-9,
          7.980000000000003e-10,
          3.950000000000003e-10,
          2.220000000000001e-10,
          1.7600000000000022e-10,
          1.2900000000000023e-10
         ]
        },
        {
         "marker": {
          "color": "rgb(0, 0, 255)",
          "line": {
           "color": "MediumPurple",
           "width": 0.8
          },
          "opacity": 0.5,
          "size": 11
         },
         "mode": "markers+text",
         "name": "<b>Exp <b> <b>-50V<b>",
         "text": [
          "<b>VDS<b>=-50V"
         ],
         "textfont": {
          "color": "rgb(0, 0, 255)",
          "family": "Times New Roman",
          "size": 18
         },
         "textposition": "top right",
         "type": "scatter",
         "x": [
          -49.906013,
          -49.24812,
          -48.402256,
          -47.462406,
          -46.334587,
          -45.582706,
          -44.454887,
          -43.42105,
          -42.669174,
          -41.823307,
          -40.883457,
          -39.849625,
          -39.19173,
          -38.25188,
          -37.030075,
          -36.37218,
          -35.338345,
          -34.304512,
          -33.646618,
          -32.894737,
          -31.766918,
          -30.827068,
          -29.793234,
          -28.947369,
          -28.101503,
          -27.349625,
          -26.31579,
          -25.281956,
          -24.530075,
          -23.778196,
          -22.74436,
          -21.898497,
          -20.864662,
          -19.924812,
          -19.172932,
          -18.233082,
          -17.387218,
          -16.447369,
          -15.507519,
          -14.567669,
          -13.721805,
          -12.781955,
          -11.654136,
          -11.090225,
          -10.150376,
          -9.210526,
          -8.458647,
          -7.330827,
          -6.2969923,
          -5.169173
         ],
         "y": [
          0.000007309999999999998,
          0.000007309999999999998,
          0.000006420000000000005,
          0.000006089999999999998,
          0.000005490000000000006,
          0.0000048200000000000004,
          0.0000044600000000000005,
          0.000004019999999999998,
          0.0000035299999999999984,
          0.0000032600000000000027,
          0.0000028599999999999976,
          0.0000027200000000000028,
          0.0000024500000000000007,
          0.000002090000000000001,
          0.0000018400000000000014,
          0.0000016599999999999996,
          0.0000014500000000000014,
          0.000001239999999999999,
          0.000001120000000000001,
          9.829999999999995e-7,
          8.400000000000007e-7,
          7.000000000000002e-7,
          6.15e-7,
          5.119999999999996e-7,
          4.270000000000002e-7,
          3.4599999999999974e-7,
          2.890000000000002e-7,
          2.3399999999999982e-7,
          2.0000000000000002e-7,
          1.5399999999999984e-7,
          1.1900000000000007e-7,
          8.699999999999995e-8,
          6.710000000000006e-8,
          4.900000000000002e-8,
          3.589999999999998e-8,
          2.4299999999999996e-8,
          1.6800000000000018e-8,
          1.1699999999999989e-8,
          7.310000000000012e-9,
          4.230000000000008e-9,
          2.5800000000000047e-9,
          1.4499999999999983e-9,
          7.569999999999991e-10,
          4.160000000000004e-10,
          1.8099999999999966e-10,
          1.2499999999999996e-10,
          9.660000000000011e-11,
          8.479999999999989e-11,
          8.050000000000005e-11,
          8.050000000000005e-11
         ]
        }
       ],
       "layout": {
        "height": 600,
        "legend": {
         "font": {
          "size": 16
         }
        },
        "template": {
         "data": {
          "bar": [
           {
            "error_x": {
             "color": "#2a3f5f"
            },
            "error_y": {
             "color": "#2a3f5f"
            },
            "marker": {
             "line": {
              "color": "#E5ECF6",
              "width": 0.5
             },
             "pattern": {
              "fillmode": "overlay",
              "size": 10,
              "solidity": 0.2
             }
            },
            "type": "bar"
           }
          ],
          "barpolar": [
           {
            "marker": {
             "line": {
              "color": "#E5ECF6",
              "width": 0.5
             },
             "pattern": {
              "fillmode": "overlay",
              "size": 10,
              "solidity": 0.2
             }
            },
            "type": "barpolar"
           }
          ],
          "carpet": [
           {
            "aaxis": {
             "endlinecolor": "#2a3f5f",
             "gridcolor": "white",
             "linecolor": "white",
             "minorgridcolor": "white",
             "startlinecolor": "#2a3f5f"
            },
            "baxis": {
             "endlinecolor": "#2a3f5f",
             "gridcolor": "white",
             "linecolor": "white",
             "minorgridcolor": "white",
             "startlinecolor": "#2a3f5f"
            },
            "type": "carpet"
           }
          ],
          "choropleth": [
           {
            "colorbar": {
             "outlinewidth": 0,
             "ticks": ""
            },
            "type": "choropleth"
           }
          ],
          "contour": [
           {
            "colorbar": {
             "outlinewidth": 0,
             "ticks": ""
            },
            "colorscale": [
             [
              0,
              "#0d0887"
             ],
             [
              0.1111111111111111,
              "#46039f"
             ],
             [
              0.2222222222222222,
              "#7201a8"
             ],
             [
              0.3333333333333333,
              "#9c179e"
             ],
             [
              0.4444444444444444,
              "#bd3786"
             ],
             [
              0.5555555555555556,
              "#d8576b"
             ],
             [
              0.6666666666666666,
              "#ed7953"
             ],
             [
              0.7777777777777778,
              "#fb9f3a"
             ],
             [
              0.8888888888888888,
              "#fdca26"
             ],
             [
              1,
              "#f0f921"
             ]
            ],
            "type": "contour"
           }
          ],
          "contourcarpet": [
           {
            "colorbar": {
             "outlinewidth": 0,
             "ticks": ""
            },
            "type": "contourcarpet"
           }
          ],
          "heatmap": [
           {
            "colorbar": {
             "outlinewidth": 0,
             "ticks": ""
            },
            "colorscale": [
             [
              0,
              "#0d0887"
             ],
             [
              0.1111111111111111,
              "#46039f"
             ],
             [
              0.2222222222222222,
              "#7201a8"
             ],
             [
              0.3333333333333333,
              "#9c179e"
             ],
             [
              0.4444444444444444,
              "#bd3786"
             ],
             [
              0.5555555555555556,
              "#d8576b"
             ],
             [
              0.6666666666666666,
              "#ed7953"
             ],
             [
              0.7777777777777778,
              "#fb9f3a"
             ],
             [
              0.8888888888888888,
              "#fdca26"
             ],
             [
              1,
              "#f0f921"
             ]
            ],
            "type": "heatmap"
           }
          ],
          "heatmapgl": [
           {
            "colorbar": {
             "outlinewidth": 0,
             "ticks": ""
            },
            "colorscale": [
             [
              0,
              "#0d0887"
             ],
             [
              0.1111111111111111,
              "#46039f"
             ],
             [
              0.2222222222222222,
              "#7201a8"
             ],
             [
              0.3333333333333333,
              "#9c179e"
             ],
             [
              0.4444444444444444,
              "#bd3786"
             ],
             [
              0.5555555555555556,
              "#d8576b"
             ],
             [
              0.6666666666666666,
              "#ed7953"
             ],
             [
              0.7777777777777778,
              "#fb9f3a"
             ],
             [
              0.8888888888888888,
              "#fdca26"
             ],
             [
              1,
              "#f0f921"
             ]
            ],
            "type": "heatmapgl"
           }
          ],
          "histogram": [
           {
            "marker": {
             "pattern": {
              "fillmode": "overlay",
              "size": 10,
              "solidity": 0.2
             }
            },
            "type": "histogram"
           }
          ],
          "histogram2d": [
           {
            "colorbar": {
             "outlinewidth": 0,
             "ticks": ""
            },
            "colorscale": [
             [
              0,
              "#0d0887"
             ],
             [
              0.1111111111111111,
              "#46039f"
             ],
             [
              0.2222222222222222,
              "#7201a8"
             ],
             [
              0.3333333333333333,
              "#9c179e"
             ],
             [
              0.4444444444444444,
              "#bd3786"
             ],
             [
              0.5555555555555556,
              "#d8576b"
             ],
             [
              0.6666666666666666,
              "#ed7953"
             ],
             [
              0.7777777777777778,
              "#fb9f3a"
             ],
             [
              0.8888888888888888,
              "#fdca26"
             ],
             [
              1,
              "#f0f921"
             ]
            ],
            "type": "histogram2d"
           }
          ],
          "histogram2dcontour": [
           {
            "colorbar": {
             "outlinewidth": 0,
             "ticks": ""
            },
            "colorscale": [
             [
              0,
              "#0d0887"
             ],
             [
              0.1111111111111111,
              "#46039f"
             ],
             [
              0.2222222222222222,
              "#7201a8"
             ],
             [
              0.3333333333333333,
              "#9c179e"
             ],
             [
              0.4444444444444444,
              "#bd3786"
             ],
             [
              0.5555555555555556,
              "#d8576b"
             ],
             [
              0.6666666666666666,
              "#ed7953"
             ],
             [
              0.7777777777777778,
              "#fb9f3a"
             ],
             [
              0.8888888888888888,
              "#fdca26"
             ],
             [
              1,
              "#f0f921"
             ]
            ],
            "type": "histogram2dcontour"
           }
          ],
          "mesh3d": [
           {
            "colorbar": {
             "outlinewidth": 0,
             "ticks": ""
            },
            "type": "mesh3d"
           }
          ],
          "parcoords": [
           {
            "line": {
             "colorbar": {
              "outlinewidth": 0,
              "ticks": ""
             }
            },
            "type": "parcoords"
           }
          ],
          "pie": [
           {
            "automargin": true,
            "type": "pie"
           }
          ],
          "scatter": [
           {
            "fillpattern": {
             "fillmode": "overlay",
             "size": 10,
             "solidity": 0.2
            },
            "type": "scatter"
           }
          ],
          "scatter3d": [
           {
            "line": {
             "colorbar": {
              "outlinewidth": 0,
              "ticks": ""
             }
            },
            "marker": {
             "colorbar": {
              "outlinewidth": 0,
              "ticks": ""
             }
            },
            "type": "scatter3d"
           }
          ],
          "scattercarpet": [
           {
            "marker": {
             "colorbar": {
              "outlinewidth": 0,
              "ticks": ""
             }
            },
            "type": "scattercarpet"
           }
          ],
          "scattergeo": [
           {
            "marker": {
             "colorbar": {
              "outlinewidth": 0,
              "ticks": ""
             }
            },
            "type": "scattergeo"
           }
          ],
          "scattergl": [
           {
            "marker": {
             "colorbar": {
              "outlinewidth": 0,
              "ticks": ""
             }
            },
            "type": "scattergl"
           }
          ],
          "scattermapbox": [
           {
            "marker": {
             "colorbar": {
              "outlinewidth": 0,
              "ticks": ""
             }
            },
            "type": "scattermapbox"
           }
          ],
          "scatterpolar": [
           {
            "marker": {
             "colorbar": {
              "outlinewidth": 0,
              "ticks": ""
             }
            },
            "type": "scatterpolar"
           }
          ],
          "scatterpolargl": [
           {
            "marker": {
             "colorbar": {
              "outlinewidth": 0,
              "ticks": ""
             }
            },
            "type": "scatterpolargl"
           }
          ],
          "scatterternary": [
           {
            "marker": {
             "colorbar": {
              "outlinewidth": 0,
              "ticks": ""
             }
            },
            "type": "scatterternary"
           }
          ],
          "surface": [
           {
            "colorbar": {
             "outlinewidth": 0,
             "ticks": ""
            },
            "colorscale": [
             [
              0,
              "#0d0887"
             ],
             [
              0.1111111111111111,
              "#46039f"
             ],
             [
              0.2222222222222222,
              "#7201a8"
             ],
             [
              0.3333333333333333,
              "#9c179e"
             ],
             [
              0.4444444444444444,
              "#bd3786"
             ],
             [
              0.5555555555555556,
              "#d8576b"
             ],
             [
              0.6666666666666666,
              "#ed7953"
             ],
             [
              0.7777777777777778,
              "#fb9f3a"
             ],
             [
              0.8888888888888888,
              "#fdca26"
             ],
             [
              1,
              "#f0f921"
             ]
            ],
            "type": "surface"
           }
          ],
          "table": [
           {
            "cells": {
             "fill": {
              "color": "#EBF0F8"
             },
             "line": {
              "color": "white"
             }
            },
            "header": {
             "fill": {
              "color": "#C8D4E3"
             },
             "line": {
              "color": "white"
             }
            },
            "type": "table"
           }
          ]
         },
         "layout": {
          "annotationdefaults": {
           "arrowcolor": "#2a3f5f",
           "arrowhead": 0,
           "arrowwidth": 1
          },
          "autotypenumbers": "strict",
          "coloraxis": {
           "colorbar": {
            "outlinewidth": 0,
            "ticks": ""
           }
          },
          "colorscale": {
           "diverging": [
            [
             0,
             "#8e0152"
            ],
            [
             0.1,
             "#c51b7d"
            ],
            [
             0.2,
             "#de77ae"
            ],
            [
             0.3,
             "#f1b6da"
            ],
            [
             0.4,
             "#fde0ef"
            ],
            [
             0.5,
             "#f7f7f7"
            ],
            [
             0.6,
             "#e6f5d0"
            ],
            [
             0.7,
             "#b8e186"
            ],
            [
             0.8,
             "#7fbc41"
            ],
            [
             0.9,
             "#4d9221"
            ],
            [
             1,
             "#276419"
            ]
           ],
           "sequential": [
            [
             0,
             "#0d0887"
            ],
            [
             0.1111111111111111,
             "#46039f"
            ],
            [
             0.2222222222222222,
             "#7201a8"
            ],
            [
             0.3333333333333333,
             "#9c179e"
            ],
            [
             0.4444444444444444,
             "#bd3786"
            ],
            [
             0.5555555555555556,
             "#d8576b"
            ],
            [
             0.6666666666666666,
             "#ed7953"
            ],
            [
             0.7777777777777778,
             "#fb9f3a"
            ],
            [
             0.8888888888888888,
             "#fdca26"
            ],
            [
             1,
             "#f0f921"
            ]
           ],
           "sequentialminus": [
            [
             0,
             "#0d0887"
            ],
            [
             0.1111111111111111,
             "#46039f"
            ],
            [
             0.2222222222222222,
             "#7201a8"
            ],
            [
             0.3333333333333333,
             "#9c179e"
            ],
            [
             0.4444444444444444,
             "#bd3786"
            ],
            [
             0.5555555555555556,
             "#d8576b"
            ],
            [
             0.6666666666666666,
             "#ed7953"
            ],
            [
             0.7777777777777778,
             "#fb9f3a"
            ],
            [
             0.8888888888888888,
             "#fdca26"
            ],
            [
             1,
             "#f0f921"
            ]
           ]
          },
          "colorway": [
           "#636efa",
           "#EF553B",
           "#00cc96",
           "#ab63fa",
           "#FFA15A",
           "#19d3f3",
           "#FF6692",
           "#B6E880",
           "#FF97FF",
           "#FECB52"
          ],
          "font": {
           "color": "#2a3f5f"
          },
          "geo": {
           "bgcolor": "white",
           "lakecolor": "white",
           "landcolor": "#E5ECF6",
           "showlakes": true,
           "showland": true,
           "subunitcolor": "white"
          },
          "hoverlabel": {
           "align": "left"
          },
          "hovermode": "closest",
          "mapbox": {
           "style": "light"
          },
          "paper_bgcolor": "white",
          "plot_bgcolor": "#E5ECF6",
          "polar": {
           "angularaxis": {
            "gridcolor": "white",
            "linecolor": "white",
            "ticks": ""
           },
           "bgcolor": "#E5ECF6",
           "radialaxis": {
            "gridcolor": "white",
            "linecolor": "white",
            "ticks": ""
           }
          },
          "scene": {
           "xaxis": {
            "backgroundcolor": "#E5ECF6",
            "gridcolor": "white",
            "gridwidth": 2,
            "linecolor": "white",
            "showbackground": true,
            "ticks": "",
            "zerolinecolor": "white"
           },
           "yaxis": {
            "backgroundcolor": "#E5ECF6",
            "gridcolor": "white",
            "gridwidth": 2,
            "linecolor": "white",
            "showbackground": true,
            "ticks": "",
            "zerolinecolor": "white"
           },
           "zaxis": {
            "backgroundcolor": "#E5ECF6",
            "gridcolor": "white",
            "gridwidth": 2,
            "linecolor": "white",
            "showbackground": true,
            "ticks": "",
            "zerolinecolor": "white"
           }
          },
          "shapedefaults": {
           "line": {
            "color": "#2a3f5f"
           }
          },
          "ternary": {
           "aaxis": {
            "gridcolor": "white",
            "linecolor": "white",
            "ticks": ""
           },
           "baxis": {
            "gridcolor": "white",
            "linecolor": "white",
            "ticks": ""
           },
           "bgcolor": "#E5ECF6",
           "caxis": {
            "gridcolor": "white",
            "linecolor": "white",
            "ticks": ""
           }
          },
          "title": {
           "x": 0.05
          },
          "xaxis": {
           "automargin": true,
           "gridcolor": "white",
           "linecolor": "white",
           "ticks": "",
           "title": {
            "standoff": 15
           },
           "zerolinecolor": "white",
           "zerolinewidth": 2
          },
          "yaxis": {
           "automargin": true,
           "gridcolor": "white",
           "linecolor": "white",
           "ticks": "",
           "title": {
            "standoff": 15
           },
           "zerolinecolor": "white",
           "zerolinewidth": 2
          }
         }
        },
        "title": {
         "font": {
          "color": "black",
          "family": "Overpass",
          "size": 25
         },
         "text": "<b>Model Vs Model Optimized (OPT)<b>",
         "x": 0.45,
         "y": 0.9
        },
        "width": 1100,
        "xaxis": {
         "title": {
          "font": {
           "color": "black",
           "family": "Overpass",
           "size": 25
          },
          "standoff": 25,
          "text": "<b>VGS / V<b>"
         }
        },
        "yaxis": {
         "title": {
          "font": {
           "color": "black",
           "family": "Overpass",
           "size": 25
          },
          "standoff": 10,
          "text": "<b>|ID| / A<b>"
         },
         "type": "log"
        }
       }
      }
     },
     "metadata": {},
     "output_type": "display_data"
    },
    {
     "name": "stdout",
     "output_type": "stream",
     "text": [
      "\n"
     ]
    },
    {
     "data": {
      "application/vnd.plotly.v1+json": {
       "config": {
        "plotlyServerURL": "https://plot.ly"
       },
       "data": [
        {
         "line": {
          "color": "rgb(255, 0, 0)",
          "dash": "dash"
         },
         "mode": "lines+text",
         "name": "<b>Model OVSED<b> <b>-29V<b>",
         "text": [
          "-29V"
         ],
         "textfont": {
          "color": "rgb(255, 0, 0)",
          "family": "Times New Roman",
          "size": 13
         },
         "textposition": "bottom center",
         "type": "scatter",
         "x": [
          -50,
          -49.24812,
          -48.68421,
          -47.650375,
          -46.710526,
          -46.146618,
          -45.11278,
          -43.984962,
          -42.857143,
          -42.01128,
          -40.977444,
          -40.225563,
          -38.909775,
          -37.87594,
          -37.030075,
          -36.18421,
          -35.150375,
          -33.92857,
          -32.98872,
          -32.048874,
          -31.109022,
          -29.981203,
          -28.853384,
          -28.101503,
          -27.067669,
          -26.033834,
          -25.18797,
          -24.06015,
          -22.932331,
          -21.992481,
          -20.864662,
          -19.736841,
          -18.703007,
          -17.575188,
          -16.541353,
          -15.883459,
          -15.037594,
          -14.285714,
          -13.25188,
          -12.030075,
          -11.37218,
          -10.432331,
          -9.304511,
          -8.270677,
          -7.330827,
          -6.3909774,
          -5.263158,
          -4.3233085,
          -3.2894738,
          -2.1616542
         ],
         "y": [
          -5.634422206110462,
          -5.644343899870048,
          -5.651783867905544,
          -5.6654169055802495,
          -5.677797014017893,
          -5.6852157413637965,
          -5.698791318364146,
          -5.713549141827716,
          -5.728230984599387,
          -5.7391756467715975,
          -5.752451291525742,
          -5.762019081202882,
          -5.7785351886616905,
          -5.791253008861364,
          -5.801442664101514,
          -5.811394606209912,
          -5.8231639764188365,
          -5.836374076936692,
          -5.845890231452209,
          -5.85471083868637,
          -5.862687803926167,
          -5.870894560707241,
          -5.877256919813815,
          -5.880251420773608,
          -5.882401971299843,
          -5.881823842168644,
          -5.878914345161264,
          -5.870925632824553,
          -5.857263742593955,
          -5.840641176562792,
          -5.81312713591404,
          -5.775716960171025,
          -5.731007828570568,
          -5.668692611286503,
          -5.5969370888738466,
          -5.542895691898206,
          -5.462598926513638,
          -5.379881113698245,
          -5.246531967356302,
          -5.055638490191182,
          -4.936045144627259,
          -4.742479300694716,
          -4.4712974715747436,
          -4.181381188687333,
          -3.8801148259498275,
          -3.539929090829327,
          -3.076372460167722,
          -2.6408620704212504,
          -2.1070861612006784,
          -1.456306315399076
         ]
        },
        {
         "line": {
          "color": "rgb(0, 0, 255)",
          "dash": "dash"
         },
         "mode": "lines+text",
         "name": "<b>Model OVSED<b> <b>-40V<b>",
         "text": [
          "-40V"
         ],
         "textfont": {
          "color": "rgb(0, 0, 255)",
          "family": "Times New Roman",
          "size": 13
         },
         "textposition": "bottom center",
         "type": "scatter",
         "x": [
          -49.906013,
          -48.778194,
          -47.93233,
          -46.898495,
          -45.770676,
          -44.924812,
          -43.890976,
          -43.1391,
          -42.01128,
          -40.977444,
          -39.943607,
          -39.00376,
          -38.06391,
          -37.030075,
          -36.18421,
          -34.304512,
          -33.270676,
          -32.142857,
          -30.921053,
          -29.135338,
          -28.101503,
          -26.785715,
          -25.75188,
          -24.718044,
          -24.06015,
          -23.214285,
          -22.368422,
          -21.428572,
          -20.206766,
          -19.078947,
          -18.233082,
          -17.105263,
          -16.165413,
          -15.225564,
          -14.3797,
          -12.969925,
          -12.12406,
          -11.184211,
          -10.056391,
          -9.304511,
          -8.364661,
          -7.142857,
          -6.1090226,
          -5.357143,
          -4.3233085,
          -3.4774437,
          -2.3496242,
          -1.5977443,
          -0.7518797,
          -0.18796992
         ],
         "y": [
          -29.523402376699778,
          -29.564189809313582,
          -29.593796732375342,
          -29.628645742850253,
          -29.664705023225718,
          -29.69018857987588,
          -29.719222364843088,
          -29.738673771535044,
          -29.76481666010607,
          -29.785090247165183,
          -29.801242596928144,
          -29.811795278152353,
          -29.817829535888226,
          -29.818480325832667,
          -29.81369341179055,
          -29.78264684162398,
          -29.75133930143048,
          -29.703412017966944,
          -29.63267559251838,
          -29.48720072005555,
          -29.37591369387721,
          -29.200289645670743,
          -29.031723852072133,
          -28.83245731602493,
          -28.687918838371676,
          -28.479802855703905,
          -28.244366305321723,
          -27.947557682906076,
          -27.500154733259603,
          -27.01815214457077,
          -26.608410307986855,
          -25.99119094897549,
          -25.409244830598247,
          -24.76024066852251,
          -24.11427425911171,
          -22.89582797271808,
          -22.07270641192737,
          -21.070714219048845,
          -19.73858205979696,
          -18.7669816372728,
          -17.453049246130654,
          -15.570469959889207,
          -13.814648828907071,
          -12.439276259324878,
          -10.407091321909528,
          -8.618533166239594,
          -6.050998559271483,
          -4.2197414571495155,
          -2.0421695100706674,
          -0.5200835146567008
         ]
        },
        {
         "line": {
          "color": "rgb(30, 144, 255)",
          "dash": "dash"
         },
         "mode": "lines+text",
         "name": "<b>Model OVSED<b> <b>-50V<b>",
         "text": [
          "-50V"
         ],
         "textfont": {
          "color": "rgb(30, 144, 255)",
          "family": "Times New Roman",
          "size": 13
         },
         "textposition": "bottom center",
         "type": "scatter",
         "x": [
          -50,
          -49.24812,
          -48.026318,
          -47.18045,
          -45.864662,
          -44.830826,
          -43.890976,
          -42.857143,
          -41.917294,
          -40.789474,
          -39.943607,
          -39.097744,
          -38.06391,
          -37.030075,
          -36.18421,
          -35.24436,
          -34.210526,
          -32.894737,
          -32.142857,
          -31.109022,
          -29.981203,
          -29.229322,
          -28.195488,
          -27.067669,
          -25.93985,
          -25.18797,
          -23.966166,
          -23.026316,
          -22.086466,
          -21.146616,
          -20.206766,
          -19.266918,
          -18.045113,
          -17.387218,
          -16.2594,
          -15.225564,
          -14.097744,
          -13.157895,
          -12.31203,
          -11.278195,
          -10.244361,
          -9.398497,
          -8.082706,
          -7.236842,
          -6.2969923,
          -5.357143,
          -4.2293234,
          -3.4774437,
          -2.537594,
          -1.1278195
         ],
         "y": [
          -81.59519067458241,
          -81.61572534218591,
          -81.63960334855447,
          -81.64844323101306,
          -81.6479211604511,
          -81.63371774916416,
          -81.60886573096204,
          -81.56681092423989,
          -81.51365557006712,
          -81.42881870015216,
          -81.34842243900282,
          -81.2521096379008,
          -81.1105552813138,
          -80.93992281978878,
          -80.77637062367081,
          -80.5667930477397,
          -80.29898347729586,
          -79.89507300419066,
          -79.62916236800953,
          -79.21747330827486,
          -78.70164379799222,
          -78.31543005884751,
          -77.72398281122156,
          -76.9917644401797,
          -76.15966315069609,
          -75.54452326023322,
          -74.43266670727199,
          -73.47514046796547,
          -72.42124311100885,
          -71.26387175438299,
          -69.99563539561443,
          -68.6088737032396,
          -66.61583141183753,
          -65.44785987181059,
          -63.281057467615284,
          -61.10136450589111,
          -58.498449108764106,
          -56.1392585738349,
          -53.86035417579203,
          -50.864957493657485,
          -47.62730494711797,
          -44.789842837844986,
          -40.02275118204662,
          -36.72150398656722,
          -32.827262672940854,
          -28.686855350580768,
          -23.381954256747143,
          -19.63513465783667,
          -14.708210914351024,
          -6.79554274525933
         ]
        },
        {
         "line": {
          "color": "black",
          "dash": "solid"
         },
         "mode": "lines+text",
         "name": "<b>Model OPT<b> <b>-29V<b>",
         "text": [
          "-29V"
         ],
         "textfont": {
          "color": "black",
          "family": "Times New Roman",
          "size": 13
         },
         "textposition": "bottom center",
         "type": "scatter",
         "x": [
          -50,
          -49.24812,
          -48.68421,
          -47.650375,
          -46.710526,
          -46.146618,
          -45.11278,
          -43.984962,
          -42.857143,
          -42.01128,
          -40.977444,
          -40.225563,
          -38.909775,
          -37.87594,
          -37.030075,
          -36.18421,
          -35.150375,
          -33.92857,
          -32.98872,
          -32.048874,
          -31.109022,
          -29.981203,
          -28.853384,
          -28.101503,
          -27.067669,
          -26.033834,
          -25.18797,
          -24.06015,
          -22.932331,
          -21.992481,
          -20.864662,
          -19.736841,
          -18.703007,
          -17.575188,
          -16.541353,
          -15.883459,
          -15.037594,
          -14.285714,
          -13.25188,
          -12.030075,
          -11.37218,
          -10.432331,
          -9.304511,
          -8.270677,
          -7.330827,
          -6.3909774,
          -5.263158,
          -4.3233085,
          -3.2894738,
          -2.1616542
         ],
         "y": [
          -0.5648954764183044,
          -0.5654828187003631,
          -0.5659229222067016,
          -0.5667285882972166,
          -0.5674592471422247,
          -0.5678966025906625,
          -0.5686958504728501,
          -0.5695628771322703,
          -0.5704231371604418,
          -0.5710625850920236,
          -0.5718355979834007,
          -0.5723905189676447,
          -0.573342825839158,
          -0.574069728233758,
          -0.5746466992885894,
          -0.5752040629278915,
          -0.5758526552492439,
          -0.5765609427588012,
          -0.577051620813839,
          -0.5774834560012841,
          -0.5778433165638592,
          -0.5781575182643882,
          -0.5783111098474916,
          -0.5783037680450634,
          -0.5781187622925292,
          -0.577688523859734,
          -0.5771151422162347,
          -0.5759729833631769,
          -0.5743032665709844,
          -0.5724189608416052,
          -0.5694373620709265,
          -0.5655028481452502,
          -0.5608821252130658,
          -0.5545095027721666,
          -0.5472158683764032,
          -0.5417373475206918,
          -0.5336073841807493,
          -0.5252373175519084,
          -0.5117453108536815,
          -0.4924276591558436,
          -0.48032473884847393,
          -0.4607416725565538,
          -0.4333367646619806,
          -0.40410605015265655,
          -0.37383428965616333,
          -0.33980965257801266,
          -0.29376390001940766,
          -0.2508816841013325,
          -0.19887096748977826,
          -0.13633070741142791
         ]
        },
        {
         "line": {
          "color": "black",
          "dash": "solid"
         },
         "mode": "lines+text",
         "name": "<b>Model OPT<b> <b>-40V<b>",
         "text": [
          "-40V"
         ],
         "textfont": {
          "color": "black",
          "family": "Times New Roman",
          "size": 13
         },
         "textposition": "bottom center",
         "type": "scatter",
         "x": [
          -49.906013,
          -48.778194,
          -47.93233,
          -46.898495,
          -45.770676,
          -44.924812,
          -43.890976,
          -43.1391,
          -42.01128,
          -40.977444,
          -39.943607,
          -39.00376,
          -38.06391,
          -37.030075,
          -36.18421,
          -34.304512,
          -33.270676,
          -32.142857,
          -30.921053,
          -29.135338,
          -28.101503,
          -26.785715,
          -25.75188,
          -24.718044,
          -24.06015,
          -23.214285,
          -22.368422,
          -21.428572,
          -20.206766,
          -19.078947,
          -18.233082,
          -17.105263,
          -16.165413,
          -15.225564,
          -14.3797,
          -12.969925,
          -12.12406,
          -11.184211,
          -10.056391,
          -9.304511,
          -8.364661,
          -7.142857,
          -6.1090226,
          -5.357143,
          -4.3233085,
          -3.4774437,
          -2.3496242,
          -1.5977443,
          -0.7518797,
          -0.18796992
         ],
         "y": [
          -2.5525979177381974,
          -2.554178271402354,
          -2.555265782623751,
          -2.5564627492178547,
          -2.557575848262388,
          -2.558257672790795,
          -2.5588846658056412,
          -2.559178620807627,
          -2.5593249362875206,
          -2.559101689666848,
          -2.558480493537032,
          -2.5575178409570274,
          -2.5561209378896765,
          -2.5540102401126394,
          -2.5517742743580323,
          -2.544857978008769,
          -2.539699801387087,
          -2.5327661695947126,
          -2.5234750006142823,
          -2.505929300554844,
          -2.4932311594195005,
          -2.4738949046139567,
          -2.4558580637415446,
          -2.434979222758752,
          -2.4200582398077395,
          -2.398829543008293,
          -2.3751052013971425,
          -2.345546200875843,
          -2.3015682283165386,
          -2.2548033158653387,
          -2.2154579353978567,
          -2.156785035989336,
          -2.1020328806403286,
          -2.04154237827731,
          -1.9818741827848636,
          -1.8706433367736803,
          -1.7963936619517613,
          -1.7069065229318858,
          -1.5893667194905043,
          -1.5046136628811928,
          -1.3912435125932896,
          -1.2311854428279299,
          -1.0843067582253925,
          -0.970804348135193,
          -0.8054962239803495,
          -0.6622888881884585,
          -0.4602995513973648,
          -0.3187278040403521,
          -0.15299149206932164,
          -0.03878062029626608
         ]
        },
        {
         "line": {
          "color": "black",
          "dash": "solid"
         },
         "mode": "lines+text",
         "name": "<b>Model OPT<b> <b>-50V<b>",
         "text": [
          "-50V"
         ],
         "textfont": {
          "color": "black",
          "family": "Times New Roman",
          "size": 13
         },
         "textposition": "bottom center",
         "type": "scatter",
         "x": [
          -50,
          -49.24812,
          -48.026318,
          -47.18045,
          -45.864662,
          -44.830826,
          -43.890976,
          -42.857143,
          -41.917294,
          -40.789474,
          -39.943607,
          -39.097744,
          -38.06391,
          -37.030075,
          -36.18421,
          -35.24436,
          -34.210526,
          -32.894737,
          -32.142857,
          -31.109022,
          -29.981203,
          -29.229322,
          -28.195488,
          -27.067669,
          -25.93985,
          -25.18797,
          -23.966166,
          -23.026316,
          -22.086466,
          -21.146616,
          -20.206766,
          -19.266918,
          -18.045113,
          -17.387218,
          -16.2594,
          -15.225564,
          -14.097744,
          -13.157895,
          -12.31203,
          -11.278195,
          -10.244361,
          -9.398497,
          -8.082706,
          -7.236842,
          -6.2969923,
          -5.357143,
          -4.2293234,
          -3.4774437,
          -2.537594,
          -1.1278195
         ],
         "y": [
          -6.269189984003897,
          -6.267555277771856,
          -6.2640006044124386,
          -6.260815501208267,
          -6.25452540285078,
          -6.248300105222937,
          -6.2415367261426375,
          -6.232743671883383,
          -6.223385079879719,
          -6.210240696468569,
          -6.1988660622623115,
          -6.186059917006783,
          -6.168275368771057,
          -6.147904683311192,
          -6.129120873962922,
          -6.10580200045574,
          -6.0768952032122066,
          -6.03463667314578,
          -6.007466756997973,
          -5.966172084556085,
          -5.915464573474644,
          -5.878096575895359,
          -5.821671635701213,
          -5.752913365024795,
          -5.675967640160502,
          -5.619766554528085,
          -5.51942299102821,
          -5.434108839806201,
          -5.341225773083227,
          -5.240309057508406,
          -5.130889372646508,
          -5.012496276328829,
          -4.844399359189822,
          -4.746920103840564,
          -4.567920494099907,
          -4.390089457118146,
          -4.180426286943586,
          -3.992749936825637,
          -3.8134529031197584,
          -3.5805905286240107,
          -3.332276406646814,
          -3.1173881922077276,
          -2.7617879244181087,
          -2.51931471864338,
          -2.237066271525787,
          -1.9412698457482962,
          -1.5684487525567956,
          -1.3091264559096385,
          -0.9729582880310751,
          -0.44403922750265995
         ]
        },
        {
         "marker": {
          "color": "rgb(255, 0, 0)",
          "line": {
           "color": "MediumPurple",
           "width": 0.8
          },
          "opacity": 0.5,
          "size": 11
         },
         "mode": "markers+text",
         "name": "<b>Exp <b> <b>-30V<b> <b> (1V)<b>",
         "text": [
          "<b>VGS<b>=-29V  (1)"
         ],
         "textfont": {
          "color": "rgb(255, 0, 0)",
          "family": "Times New Roman",
          "size": 18
         },
         "textposition": "top right",
         "type": "scatter",
         "x": [
          -50,
          -49.24812,
          -48.68421,
          -47.650375,
          -46.710526,
          -46.146618,
          -45.11278,
          -43.984962,
          -42.857143,
          -42.01128,
          -40.977444,
          -40.225563,
          -38.909775,
          -37.87594,
          -37.030075,
          -36.18421,
          -35.150375,
          -33.92857,
          -32.98872,
          -32.048874,
          -31.109022,
          -29.981203,
          -28.853384,
          -28.101503,
          -27.067669,
          -26.033834,
          -25.18797,
          -24.06015,
          -22.932331,
          -21.992481,
          -20.864662,
          -19.736841,
          -18.703007,
          -17.575188,
          -16.541353,
          -15.883459,
          -15.037594,
          -14.285714,
          -13.25188,
          -12.030075,
          -11.37218,
          -10.432331,
          -9.304511,
          -8.270677,
          -7.330827,
          -6.3909774,
          -5.263158,
          -4.3233085,
          -3.2894738,
          -2.1616542
         ],
         "y": [
          -0.68421054,
          -0.68421054,
          -0.67105263,
          -0.67105263,
          -0.68421054,
          -0.68421054,
          -0.68421054,
          -0.65789473,
          -0.68421054,
          -0.68421054,
          -0.67105263,
          -0.67105263,
          -0.67105263,
          -0.68421054,
          -0.67105263,
          -0.67105263,
          -0.67105263,
          -0.67105263,
          -0.65789473,
          -0.65789473,
          -0.67105263,
          -0.67105263,
          -0.67105263,
          -0.67105263,
          -0.67105263,
          -0.67105263,
          -0.67105263,
          -0.67105263,
          -0.65789473,
          -0.6447368,
          -0.6447368,
          -0.6447368,
          -0.6447368,
          -0.6184211,
          -0.6184211,
          -0.6184211,
          -0.6184211,
          -0.59210527,
          -0.57894737,
          -0.57894737,
          -0.55263156,
          -0.5394737,
          -0.5263158,
          -0.47368422,
          -0.46052632,
          -0.40789473,
          -0.35526314,
          -0.32894737,
          -0.2631579,
          -0.21052632
         ]
        },
        {
         "marker": {
          "color": "rgb(0, 0, 255)",
          "line": {
           "color": "MediumPurple",
           "width": 0.8
          },
          "opacity": 0.5,
          "size": 11
         },
         "mode": "markers+text",
         "name": "<b>Exp <b> <b>-40V<b>",
         "text": [
          "<b>VGS<b>=-40V"
         ],
         "textfont": {
          "color": "rgb(0, 0, 255)",
          "family": "Times New Roman",
          "size": 18
         },
         "textposition": "top right",
         "type": "scatter",
         "x": [
          -49.906013,
          -48.778194,
          -47.93233,
          -46.898495,
          -45.770676,
          -44.924812,
          -43.890976,
          -43.1391,
          -42.01128,
          -40.977444,
          -39.943607,
          -39.00376,
          -38.06391,
          -37.030075,
          -36.18421,
          -34.304512,
          -33.270676,
          -32.142857,
          -30.921053,
          -29.135338,
          -28.101503,
          -26.785715,
          -25.75188,
          -24.718044,
          -24.06015,
          -23.214285,
          -22.368422,
          -21.428572,
          -20.206766,
          -19.078947,
          -18.233082,
          -17.105263,
          -16.165413,
          -15.225564,
          -14.3797,
          -12.969925,
          -12.12406,
          -11.184211,
          -10.056391,
          -9.304511,
          -8.364661,
          -7.142857,
          -6.1090226,
          -5.357143,
          -4.3233085,
          -3.4774437,
          -2.3496242,
          -1.5977443,
          -0.7518797,
          -0.18796992
         ],
         "y": [
          -2.4868422,
          -2.5,
          -2.5131578,
          -2.4868422,
          -2.4736843,
          -2.4736843,
          -2.4868422,
          -2.4868422,
          -2.4868422,
          -2.5,
          -2.5,
          -2.4605262,
          -2.4736843,
          -2.4736843,
          -2.4868422,
          -2.4605262,
          -2.4605262,
          -2.4605262,
          -2.4605262,
          -2.4078948,
          -2.4210527,
          -2.4078948,
          -2.3947368,
          -2.3552632,
          -2.3552632,
          -2.3289473,
          -2.3289473,
          -2.3157895,
          -2.2894738,
          -2.2368422,
          -2.1973684,
          -2.1578948,
          -2.1052632,
          -2.0526316,
          -2.0131578,
          -1.9342105,
          -1.8421053,
          -1.75,
          -1.6315789,
          -1.5526316,
          -1.4078947,
          -1.2894737,
          -1.1184211,
          -0.9868421,
          -0.7894737,
          -0.6315789,
          -0.4473684,
          -0.28947368,
          -0.13157895,
          0
         ]
        },
        {
         "marker": {
          "color": "rgb(30, 144, 255)",
          "line": {
           "color": "MediumPurple",
           "width": 0.8
          },
          "opacity": 0.5,
          "size": 11
         },
         "mode": "markers+text",
         "name": "<b>Exp <b> <b>-50V<b>",
         "text": [
          "<b>VGS<b>=-50V"
         ],
         "textfont": {
          "color": "rgb(30, 144, 255)",
          "family": "Times New Roman",
          "size": 18
         },
         "textposition": "top right",
         "type": "scatter",
         "x": [
          -50,
          -49.24812,
          -48.026318,
          -47.18045,
          -45.864662,
          -44.830826,
          -43.890976,
          -42.857143,
          -41.917294,
          -40.789474,
          -39.943607,
          -39.097744,
          -38.06391,
          -37.030075,
          -36.18421,
          -35.24436,
          -34.210526,
          -32.894737,
          -32.142857,
          -31.109022,
          -29.981203,
          -29.229322,
          -28.195488,
          -27.067669,
          -25.93985,
          -25.18797,
          -23.966166,
          -23.026316,
          -22.086466,
          -21.146616,
          -20.206766,
          -19.266918,
          -18.045113,
          -17.387218,
          -16.2594,
          -15.225564,
          -14.097744,
          -13.157895,
          -12.31203,
          -11.278195,
          -10.244361,
          -9.398497,
          -8.082706,
          -7.236842,
          -6.2969923,
          -5.357143,
          -4.2293234,
          -3.4774437,
          -2.537594,
          -1.1278195
         ],
         "y": [
          -6.2894735,
          -6.2763157,
          -6.2763157,
          -6.2763157,
          -6.2763157,
          -6.25,
          -6.25,
          -6.2236843,
          -6.2236843,
          -6.2236843,
          -6.1973686,
          -6.1973686,
          -6.1842103,
          -6.1578946,
          -6.118421,
          -6.105263,
          -6.0789475,
          -6.0789475,
          -6.0263157,
          -6,
          -5.9605265,
          -5.881579,
          -5.8421054,
          -5.8026314,
          -5.736842,
          -5.644737,
          -5.5657897,
          -5.513158,
          -5.355263,
          -5.263158,
          -5.1710525,
          -5.0394735,
          -4.881579,
          -4.75,
          -4.5657897,
          -4.368421,
          -4.1973686,
          -4,
          -3.7894738,
          -3.5526316,
          -3.2894738,
          -3.0263157,
          -2.7236843,
          -2.4605262,
          -2.131579,
          -1.7894737,
          -1.4736842,
          -1.1315789,
          -0.75,
          -0.38157895
         ]
        }
       ],
       "layout": {
        "height": 600,
        "legend": {
         "font": {
          "size": 16
         }
        },
        "template": {
         "data": {
          "bar": [
           {
            "error_x": {
             "color": "#2a3f5f"
            },
            "error_y": {
             "color": "#2a3f5f"
            },
            "marker": {
             "line": {
              "color": "#E5ECF6",
              "width": 0.5
             },
             "pattern": {
              "fillmode": "overlay",
              "size": 10,
              "solidity": 0.2
             }
            },
            "type": "bar"
           }
          ],
          "barpolar": [
           {
            "marker": {
             "line": {
              "color": "#E5ECF6",
              "width": 0.5
             },
             "pattern": {
              "fillmode": "overlay",
              "size": 10,
              "solidity": 0.2
             }
            },
            "type": "barpolar"
           }
          ],
          "carpet": [
           {
            "aaxis": {
             "endlinecolor": "#2a3f5f",
             "gridcolor": "white",
             "linecolor": "white",
             "minorgridcolor": "white",
             "startlinecolor": "#2a3f5f"
            },
            "baxis": {
             "endlinecolor": "#2a3f5f",
             "gridcolor": "white",
             "linecolor": "white",
             "minorgridcolor": "white",
             "startlinecolor": "#2a3f5f"
            },
            "type": "carpet"
           }
          ],
          "choropleth": [
           {
            "colorbar": {
             "outlinewidth": 0,
             "ticks": ""
            },
            "type": "choropleth"
           }
          ],
          "contour": [
           {
            "colorbar": {
             "outlinewidth": 0,
             "ticks": ""
            },
            "colorscale": [
             [
              0,
              "#0d0887"
             ],
             [
              0.1111111111111111,
              "#46039f"
             ],
             [
              0.2222222222222222,
              "#7201a8"
             ],
             [
              0.3333333333333333,
              "#9c179e"
             ],
             [
              0.4444444444444444,
              "#bd3786"
             ],
             [
              0.5555555555555556,
              "#d8576b"
             ],
             [
              0.6666666666666666,
              "#ed7953"
             ],
             [
              0.7777777777777778,
              "#fb9f3a"
             ],
             [
              0.8888888888888888,
              "#fdca26"
             ],
             [
              1,
              "#f0f921"
             ]
            ],
            "type": "contour"
           }
          ],
          "contourcarpet": [
           {
            "colorbar": {
             "outlinewidth": 0,
             "ticks": ""
            },
            "type": "contourcarpet"
           }
          ],
          "heatmap": [
           {
            "colorbar": {
             "outlinewidth": 0,
             "ticks": ""
            },
            "colorscale": [
             [
              0,
              "#0d0887"
             ],
             [
              0.1111111111111111,
              "#46039f"
             ],
             [
              0.2222222222222222,
              "#7201a8"
             ],
             [
              0.3333333333333333,
              "#9c179e"
             ],
             [
              0.4444444444444444,
              "#bd3786"
             ],
             [
              0.5555555555555556,
              "#d8576b"
             ],
             [
              0.6666666666666666,
              "#ed7953"
             ],
             [
              0.7777777777777778,
              "#fb9f3a"
             ],
             [
              0.8888888888888888,
              "#fdca26"
             ],
             [
              1,
              "#f0f921"
             ]
            ],
            "type": "heatmap"
           }
          ],
          "heatmapgl": [
           {
            "colorbar": {
             "outlinewidth": 0,
             "ticks": ""
            },
            "colorscale": [
             [
              0,
              "#0d0887"
             ],
             [
              0.1111111111111111,
              "#46039f"
             ],
             [
              0.2222222222222222,
              "#7201a8"
             ],
             [
              0.3333333333333333,
              "#9c179e"
             ],
             [
              0.4444444444444444,
              "#bd3786"
             ],
             [
              0.5555555555555556,
              "#d8576b"
             ],
             [
              0.6666666666666666,
              "#ed7953"
             ],
             [
              0.7777777777777778,
              "#fb9f3a"
             ],
             [
              0.8888888888888888,
              "#fdca26"
             ],
             [
              1,
              "#f0f921"
             ]
            ],
            "type": "heatmapgl"
           }
          ],
          "histogram": [
           {
            "marker": {
             "pattern": {
              "fillmode": "overlay",
              "size": 10,
              "solidity": 0.2
             }
            },
            "type": "histogram"
           }
          ],
          "histogram2d": [
           {
            "colorbar": {
             "outlinewidth": 0,
             "ticks": ""
            },
            "colorscale": [
             [
              0,
              "#0d0887"
             ],
             [
              0.1111111111111111,
              "#46039f"
             ],
             [
              0.2222222222222222,
              "#7201a8"
             ],
             [
              0.3333333333333333,
              "#9c179e"
             ],
             [
              0.4444444444444444,
              "#bd3786"
             ],
             [
              0.5555555555555556,
              "#d8576b"
             ],
             [
              0.6666666666666666,
              "#ed7953"
             ],
             [
              0.7777777777777778,
              "#fb9f3a"
             ],
             [
              0.8888888888888888,
              "#fdca26"
             ],
             [
              1,
              "#f0f921"
             ]
            ],
            "type": "histogram2d"
           }
          ],
          "histogram2dcontour": [
           {
            "colorbar": {
             "outlinewidth": 0,
             "ticks": ""
            },
            "colorscale": [
             [
              0,
              "#0d0887"
             ],
             [
              0.1111111111111111,
              "#46039f"
             ],
             [
              0.2222222222222222,
              "#7201a8"
             ],
             [
              0.3333333333333333,
              "#9c179e"
             ],
             [
              0.4444444444444444,
              "#bd3786"
             ],
             [
              0.5555555555555556,
              "#d8576b"
             ],
             [
              0.6666666666666666,
              "#ed7953"
             ],
             [
              0.7777777777777778,
              "#fb9f3a"
             ],
             [
              0.8888888888888888,
              "#fdca26"
             ],
             [
              1,
              "#f0f921"
             ]
            ],
            "type": "histogram2dcontour"
           }
          ],
          "mesh3d": [
           {
            "colorbar": {
             "outlinewidth": 0,
             "ticks": ""
            },
            "type": "mesh3d"
           }
          ],
          "parcoords": [
           {
            "line": {
             "colorbar": {
              "outlinewidth": 0,
              "ticks": ""
             }
            },
            "type": "parcoords"
           }
          ],
          "pie": [
           {
            "automargin": true,
            "type": "pie"
           }
          ],
          "scatter": [
           {
            "fillpattern": {
             "fillmode": "overlay",
             "size": 10,
             "solidity": 0.2
            },
            "type": "scatter"
           }
          ],
          "scatter3d": [
           {
            "line": {
             "colorbar": {
              "outlinewidth": 0,
              "ticks": ""
             }
            },
            "marker": {
             "colorbar": {
              "outlinewidth": 0,
              "ticks": ""
             }
            },
            "type": "scatter3d"
           }
          ],
          "scattercarpet": [
           {
            "marker": {
             "colorbar": {
              "outlinewidth": 0,
              "ticks": ""
             }
            },
            "type": "scattercarpet"
           }
          ],
          "scattergeo": [
           {
            "marker": {
             "colorbar": {
              "outlinewidth": 0,
              "ticks": ""
             }
            },
            "type": "scattergeo"
           }
          ],
          "scattergl": [
           {
            "marker": {
             "colorbar": {
              "outlinewidth": 0,
              "ticks": ""
             }
            },
            "type": "scattergl"
           }
          ],
          "scattermapbox": [
           {
            "marker": {
             "colorbar": {
              "outlinewidth": 0,
              "ticks": ""
             }
            },
            "type": "scattermapbox"
           }
          ],
          "scatterpolar": [
           {
            "marker": {
             "colorbar": {
              "outlinewidth": 0,
              "ticks": ""
             }
            },
            "type": "scatterpolar"
           }
          ],
          "scatterpolargl": [
           {
            "marker": {
             "colorbar": {
              "outlinewidth": 0,
              "ticks": ""
             }
            },
            "type": "scatterpolargl"
           }
          ],
          "scatterternary": [
           {
            "marker": {
             "colorbar": {
              "outlinewidth": 0,
              "ticks": ""
             }
            },
            "type": "scatterternary"
           }
          ],
          "surface": [
           {
            "colorbar": {
             "outlinewidth": 0,
             "ticks": ""
            },
            "colorscale": [
             [
              0,
              "#0d0887"
             ],
             [
              0.1111111111111111,
              "#46039f"
             ],
             [
              0.2222222222222222,
              "#7201a8"
             ],
             [
              0.3333333333333333,
              "#9c179e"
             ],
             [
              0.4444444444444444,
              "#bd3786"
             ],
             [
              0.5555555555555556,
              "#d8576b"
             ],
             [
              0.6666666666666666,
              "#ed7953"
             ],
             [
              0.7777777777777778,
              "#fb9f3a"
             ],
             [
              0.8888888888888888,
              "#fdca26"
             ],
             [
              1,
              "#f0f921"
             ]
            ],
            "type": "surface"
           }
          ],
          "table": [
           {
            "cells": {
             "fill": {
              "color": "#EBF0F8"
             },
             "line": {
              "color": "white"
             }
            },
            "header": {
             "fill": {
              "color": "#C8D4E3"
             },
             "line": {
              "color": "white"
             }
            },
            "type": "table"
           }
          ]
         },
         "layout": {
          "annotationdefaults": {
           "arrowcolor": "#2a3f5f",
           "arrowhead": 0,
           "arrowwidth": 1
          },
          "autotypenumbers": "strict",
          "coloraxis": {
           "colorbar": {
            "outlinewidth": 0,
            "ticks": ""
           }
          },
          "colorscale": {
           "diverging": [
            [
             0,
             "#8e0152"
            ],
            [
             0.1,
             "#c51b7d"
            ],
            [
             0.2,
             "#de77ae"
            ],
            [
             0.3,
             "#f1b6da"
            ],
            [
             0.4,
             "#fde0ef"
            ],
            [
             0.5,
             "#f7f7f7"
            ],
            [
             0.6,
             "#e6f5d0"
            ],
            [
             0.7,
             "#b8e186"
            ],
            [
             0.8,
             "#7fbc41"
            ],
            [
             0.9,
             "#4d9221"
            ],
            [
             1,
             "#276419"
            ]
           ],
           "sequential": [
            [
             0,
             "#0d0887"
            ],
            [
             0.1111111111111111,
             "#46039f"
            ],
            [
             0.2222222222222222,
             "#7201a8"
            ],
            [
             0.3333333333333333,
             "#9c179e"
            ],
            [
             0.4444444444444444,
             "#bd3786"
            ],
            [
             0.5555555555555556,
             "#d8576b"
            ],
            [
             0.6666666666666666,
             "#ed7953"
            ],
            [
             0.7777777777777778,
             "#fb9f3a"
            ],
            [
             0.8888888888888888,
             "#fdca26"
            ],
            [
             1,
             "#f0f921"
            ]
           ],
           "sequentialminus": [
            [
             0,
             "#0d0887"
            ],
            [
             0.1111111111111111,
             "#46039f"
            ],
            [
             0.2222222222222222,
             "#7201a8"
            ],
            [
             0.3333333333333333,
             "#9c179e"
            ],
            [
             0.4444444444444444,
             "#bd3786"
            ],
            [
             0.5555555555555556,
             "#d8576b"
            ],
            [
             0.6666666666666666,
             "#ed7953"
            ],
            [
             0.7777777777777778,
             "#fb9f3a"
            ],
            [
             0.8888888888888888,
             "#fdca26"
            ],
            [
             1,
             "#f0f921"
            ]
           ]
          },
          "colorway": [
           "#636efa",
           "#EF553B",
           "#00cc96",
           "#ab63fa",
           "#FFA15A",
           "#19d3f3",
           "#FF6692",
           "#B6E880",
           "#FF97FF",
           "#FECB52"
          ],
          "font": {
           "color": "#2a3f5f"
          },
          "geo": {
           "bgcolor": "white",
           "lakecolor": "white",
           "landcolor": "#E5ECF6",
           "showlakes": true,
           "showland": true,
           "subunitcolor": "white"
          },
          "hoverlabel": {
           "align": "left"
          },
          "hovermode": "closest",
          "mapbox": {
           "style": "light"
          },
          "paper_bgcolor": "white",
          "plot_bgcolor": "#E5ECF6",
          "polar": {
           "angularaxis": {
            "gridcolor": "white",
            "linecolor": "white",
            "ticks": ""
           },
           "bgcolor": "#E5ECF6",
           "radialaxis": {
            "gridcolor": "white",
            "linecolor": "white",
            "ticks": ""
           }
          },
          "scene": {
           "xaxis": {
            "backgroundcolor": "#E5ECF6",
            "gridcolor": "white",
            "gridwidth": 2,
            "linecolor": "white",
            "showbackground": true,
            "ticks": "",
            "zerolinecolor": "white"
           },
           "yaxis": {
            "backgroundcolor": "#E5ECF6",
            "gridcolor": "white",
            "gridwidth": 2,
            "linecolor": "white",
            "showbackground": true,
            "ticks": "",
            "zerolinecolor": "white"
           },
           "zaxis": {
            "backgroundcolor": "#E5ECF6",
            "gridcolor": "white",
            "gridwidth": 2,
            "linecolor": "white",
            "showbackground": true,
            "ticks": "",
            "zerolinecolor": "white"
           }
          },
          "shapedefaults": {
           "line": {
            "color": "#2a3f5f"
           }
          },
          "ternary": {
           "aaxis": {
            "gridcolor": "white",
            "linecolor": "white",
            "ticks": ""
           },
           "baxis": {
            "gridcolor": "white",
            "linecolor": "white",
            "ticks": ""
           },
           "bgcolor": "#E5ECF6",
           "caxis": {
            "gridcolor": "white",
            "linecolor": "white",
            "ticks": ""
           }
          },
          "title": {
           "x": 0.05
          },
          "xaxis": {
           "automargin": true,
           "gridcolor": "white",
           "linecolor": "white",
           "ticks": "",
           "title": {
            "standoff": 15
           },
           "zerolinecolor": "white",
           "zerolinewidth": 2
          },
          "yaxis": {
           "automargin": true,
           "gridcolor": "white",
           "linecolor": "white",
           "ticks": "",
           "title": {
            "standoff": 15
           },
           "zerolinecolor": "white",
           "zerolinewidth": 2
          }
         }
        },
        "title": {
         "font": {
          "color": "black",
          "family": "Overpass",
          "size": 25
         },
         "text": "<b>Model Vs Model Optimized (OPT)<b>",
         "x": 0.45,
         "y": 0.9
        },
        "width": 1100,
        "xaxis": {
         "title": {
          "font": {
           "color": "black",
           "family": "Overpass",
           "size": 25
          },
          "standoff": 25,
          "text": "<b>VDS / V<b>"
         }
        },
        "yaxis": {
         "title": {
          "font": {
           "color": "black",
           "family": "Overpass",
           "size": 25
          },
          "standoff": 10,
          "text": "<b>ID / uA<b>"
         },
         "type": "linear"
        }
       }
      }
     },
     "metadata": {},
     "output_type": "display_data"
    },
    {
     "name": "stdout",
     "output_type": "stream",
     "text": [
      "\n",
      "\n",
      "\n",
      "\n",
      "\n",
      "\n",
      "**************************************************************************************************************************************************\n",
      "\n",
      "|RELATIVE ERROR BETWEEN CURVES: 9729583405.3813\n",
      "\n",
      "**************************************************************************************************************************************************\n",
      "\n",
      "\n",
      "\n",
      "\n",
      "\n",
      "\n"
     ]
    }
   ],
   "source": [
    "# @title #### **Print grafics plots of model Optimizad and model data.** { run: \"auto\" }\n",
    "# @markdown ### ***Choice the plot that you want to view:***\n",
    "# @markdown ---\n",
    "option = 'show both curves comp' # @param [\"Show Transfer curve opt\", \"Show output curve opt\", \"show both curves opt\", \"Show Transfer curve comp\", \"Show output curve comp\", \"show both curves comp\"]\n",
    "\n",
    "model_opt = create_optimized_model(read, TFTModel, n_points, type_curve_plot, coeff_opt, input_voltage, Vv, load_idleak, width_t, count_transfer, tp_tst, settings['experimental_data_scale_transfer'], settings['current_typic'], resistance, current)\n",
    "\n",
    "in_model_data_opt, in_exp_data_opt, out_model_data_opt, out_exp_data_opt, in_model_data_comp, in_exp_data_comp, out_model_data_comp, out_exp_data_comp = get_model_data(read, count_transfer, count_output, Vv, Id, model_opt, model, compare=True)\n",
    "\n",
    "plot_curves(option, plot, list_tension, list_tension_shift, count_transfer, in_model_data_comp, out_model_data_comp, in_exp_data_comp, out_exp_data_comp, shift_list, settings['select_files'], settings['current_typic'], type_curve_plot, compare=True)\n",
    "\n",
    "read.compute_relative_distance(Id, model_opt)\n",
    "print('\\n\\n\\n\\n\\n')\n"
   ]
  }
 ],
 "metadata": {
  "colab": {
   "collapsed_sections": [
    "teoZkrLIvxaV",
    "HfZC11MavqP5",
    "Kw3wbLglv07J",
    "IHBDOV5ZwCml",
    "c0Jt9A63whok",
    "kSdWoeRx5pob",
    "yMkpHlhivMmv",
    "Lz9YHSiMvVFb",
    "WYpRFYGbu6oH",
    "cXKg5hS-drnb"
   ],
   "provenance": []
  },
  "kernelspec": {
   "display_name": "otft-env",
   "language": "python",
   "name": "python3"
  },
  "language_info": {
   "codemirror_mode": {
    "name": "ipython",
    "version": 3
   },
   "file_extension": ".py",
   "mimetype": "text/x-python",
   "name": "python",
   "nbconvert_exporter": "python",
   "pygments_lexer": "ipython3",
   "version": "3.10.12"
  }
 },
 "nbformat": 4,
 "nbformat_minor": 0
}
