{
 "cells": [
  {
   "cell_type": "markdown",
   "metadata": {
    "id": "HS2zqnqTp83j"
   },
   "source": [
    "# **Summary** 📘\n",
    "\n",
    "1.   **Abstract**\n",
    "2.   **Introduction**\n",
    "3.   **Objectives**\n",
    "4.   **Methodology**\n",
    "4.   **Model**\n",
    "4.   **Using the Model**\n",
    "5.   **Optimizing the Model**\n",
    "5.   **Visualizing Optimized Parameters**\n",
    "5.   **Results**\n",
    "6.   **References**"
   ]
  },
  {
   "cell_type": "markdown",
   "metadata": {
    "id": "_a5XygxxnYzp"
   },
   "source": [
    "## **Benchmarking Tool for Thin-Film Transistors** ⚡\n",
    "\n",
    "## **Student**:\n",
    "\n",
    "Rodrigo Santos Batista – rsb6@cin.ufpe.br\n",
    "\n",
    "CIn ­ UFPE\n",
    "\n",
    "## **Research project**:\n",
    "\n",
    "Benchmarking emerging technologies for near and far computing\n",
    "\n",
    "inside sensors (BEeTle)\n",
    "\n",
    "## **Coordinator**:\n",
    "\n",
    "Stefan Michael Blawid – sblawid@cin.ufpe.br\n",
    "\n",
    "CIn ­ UFPE"
   ]
  },
  {
   "cell_type": "markdown",
   "metadata": {
    "id": "BHo5BnF7L2jD"
   },
   "source": []
  },
  {
   "cell_type": "markdown",
   "metadata": {
    "id": "teoZkrLIvxaV"
   },
   "source": [
    "### **Abstract** 📩"
   ]
  },
  {
   "cell_type": "markdown",
   "metadata": {
    "id": "T1gfcLkSyPWh"
   },
   "source": [
    "> Thin-film transistors (TFTs) are electronic switches where a current flows from the source terminal to the drain terminal, controlled by the voltage applied to the third terminal, the gate. Benchmark models need to reasonably reproduce the current-voltage (IV) characteristics of TFTs with a minimal number of parameters. Here, \"reasonably\" means that the model parameters can be reliably and unambiguously extracted from experimental IV curves."
   ]
  },
  {
   "cell_type": "markdown",
   "metadata": {
    "id": "HfZC11MavqP5"
   },
   "source": [
    "### **Introduction** 📢\n"
   ]
  },
  {
   "cell_type": "markdown",
   "metadata": {
    "id": "jfejU_Wbvbcg"
   },
   "source": [
    "> The ubiquitous computing paradigm envisions computing appearing everywhere at any time. Flexible electronics are considered an essential enabling technology `[1]`. Flexible electronics offer various form factors, including soft, flexible, stretchable, and lightweight forms, thus allowing ambient intelligence to become widely available. Promising applications in health, industrial, environmental, agricultural, and structural monitoring have already been demonstrated `[2]`. It is generally accepted that the low cost required for edge devices `[3]` of future Internet of Things (IoT) infrastructures can only be achieved through printing manufacturing. The basic printed blocks of flexible electronics include sensors, energy harvesters, displays, and antennas. Many of these components require thin-film transistors (TFTs) as active switches. TFTs are usually compared across different devices and technologies based on threshold voltage, charge carrier mobility, and series resistance. However, conventional parameter extraction established for silicon transistors often leads to misleading results when applied to TFTs `[4]`. Some of the peculiarities of TFTs can be addressed by the virtual source (VS) emission-diffusion (ED) theory `[5]`. In combination with nonlinear least squares solvers, VSED-based benchmark models can replace conventional extraction methods and are applicable to a wide range of TFT technologies `[6]`."
   ]
  },
  {
   "cell_type": "markdown",
   "metadata": {
    "id": "Kw3wbLglv07J"
   },
   "source": [
    "### **Objective** 🔎\n"
   ]
  },
  {
   "cell_type": "markdown",
   "metadata": {
    "id": "aqwdc5NS_7bH"
   },
   "source": [
    "> The optimization of parameters for TFT devices is an important process in the manufacturing of thin-film electronics. The main reason for performing this process is to improve the performance of the devices, making them more efficient, reliable, and cost-effective. Essentially, we want to optimize certain parameters embedded in a model that will provide the best results for the production of these devices. A simplified form of how the model operates can be described as follows: `ID = F(VGS, VDS)` where:\n",
    "> * ID → Electric current that flows between the source and drain terminals of a thin-film transistor (TFT)\n",
    "> * VGS → Voltage applied to the gate terminal of the transistor, which controls the current flowing between the source and drain terminals\n",
    "> * VDS → Voltage applied to the drain terminal of the transistor, which determines the current flowing between the source and drain terminals when the gate voltage is kept constant.\n",
    "\n",
    "> VGS and VDS are important for the operation of the TFT transistor and for the optimization of its parameters, which can be obtained from the device's transfer and output curves. From these operations, it is possible to obtain information about its parameters, such as Vtho, l, n, JD, leak, δ, RS, λ, and Vcrit. Since these parameters are limited in the model, it allows for the simultaneous adjustment of all values. Therefore, parameter optimization is performed using a nonlinear least squares solver, which allows for efficient and unambiguous parameter adjustment. In this way, it is possible to gain a better understanding of the TFT device's behavior and optimize its operation for specific applications. Additionally, parameter optimization is also important to ensure the quality and reliability of the device, as well as its integration into complex electronic circuits."
   ]
  },
  {
   "cell_type": "markdown",
   "metadata": {
    "id": "IHBDOV5ZwCml"
   },
   "source": [
    "### **Methodology** 📚\n"
   ]
  },
  {
   "cell_type": "markdown",
   "metadata": {
    "id": "ioyQZpzaItji"
   },
   "source": [
    "> To perform this optimization, we will use the SciPy library, an open-source Python module that provides advanced mathematical functions and algorithms for scientific data processing and numerical analysis. More specifically, we will apply the `curve_fit` function, which is a type of optimization that finds an ideal set of parameters for a defined function that best fits a given set of observations.\n",
    "\n",
    "> Unlike supervised learning, curve fitting requires the author to define the function that maps input examples to outputs. The mapping function, also called the base function, can take any form, including a straight line (linear regression), a curved line (polynomial regression), and many others. This provides flexibility and control to define the shape of the curve, where an optimization process is used to find the optimal specific parameters of the function. For our purposes, this will be to optimize the parameters of the function $ID = F(VGS, VDS)$, which will give us the current at each pair of points from the experiment conducted.\n",
    "\n",
    "> Here is a trivial example of how `curve_fit` works:\n",
    "\n",
    "  > * First, the curve is constructed.\n",
    "  > * Then, we apply the Python curve-fitting API.\n",
    "\n",
    "> In this way, we will think of curve fitting in two dimensions, like a 2D graph. So, let's consider that data collection was performed from the problem domain with inputs and outputs.\n",
    "\n",
    "> The `x-axis is the independent variable` or the input to the function. The `y-axis is the dependent variable` or the output of the function. We do not know the shape of the function that maps input examples to outputs, but we suspect we can approximate the function with a standard function shape. Curve fitting involves first defining the `functional form of the mapping function` (base function or objective function) and searching for the parameters in the function that result in the minimum error.\n",
    "\n",
    "> The error is calculated using observations from the domain and passing the inputs to our candidate mapping function, calculating the output, and comparing the calculated output with the observed output.\n",
    "\n",
    "> Once in shape, we can use the mapping function to interpolate or extrapolate new points in the domain. It is common to run a sequence of input values through the mapping function to calculate a sequence of outputs, then create a line graph of the result to show how the output varies with the input and how well the line fits the observed points.\n",
    "\n",
    "> The key to curve fitting is the shape of the mapping function. A straight line between inputs and outputs can be defined as follows: `y = a * x + b`\n",
    "Where `y is the calculated output`, `x is the input`, and `a` and `b` are parameters of the mapping function found using an optimization algorithm. This is called a linear equation because it is a weighted sum of the inputs. In a linear regression model, these parameters are referred to as coefficients; in a neural network, they are called weights.\n",
    "\n",
    "> This equation can be generalized to any number of inputs (which is the purpose for us), meaning that the notion of curve fitting is not limited to two dimensions (one input and one output) but could have many input variables.\n",
    "\n",
    "> An important observation is that adding arbitrary mathematical functions to our mapping function usually means we cannot calculate the parameters analytically and instead need to use an iterative optimization algorithm. This is called `nonlinear least squares`,\n",
    "as the objective function is no longer convex (not linear), and it is not as simple to solve.\n",
    "\n",
    "> Since our model's data is bi-dimensional, we are not in the trivial case. Thus, when passing data to the model, we will need to preprocess it first. For instance, suppose that for our problem, we will have the voltages Vd and Vg as a set of vectors. Essentially, what will be computed is an $MxN$ matrix; however, the `curve_fit` function only calculates ideal parameters for the one-dimensional vector case. So, we will first allocate all Vg voltages into a matrix and do the same for Vd voltages. Then, we will use Python's `np.ravel()` function to transform an array into a one-dimensional array. This operation does not affect the integrity of the data, only resizes it. The `np.ravel()` function returns a copy of the original array, with all elements of the original array \"flattened\" into a single one-dimensional array. This means that the function returns an array with all the rows of the original array concatenated into a single row."
   ]
  },
  {
   "cell_type": "markdown",
   "metadata": {
    "id": "c0Jt9A63whok"
   },
   "source": [
    "### **Model Description** 🔧\n"
   ]
  },
  {
   "cell_type": "markdown",
   "metadata": {
    "id": "_r5x1sBswlA1"
   },
   "source": [
    "The mathematical model to which we will subject the experimental data consists of a set of equations, where each variable has its degree of importance and contribution. Below is its prototyping as well as what each parameter signifies:\n",
    "\n",
    "The drain current of a TFT consists of mobile charges $Q_{free}$ modulated by the gate voltage and moves with a velocity modulated by the drain voltage. At high electric fields from source to drain, the carrier velocity saturates at a value $V_{sat}$. However, carriers need to scale a potential barrier on the path from source to drain, which represents a bottleneck for carrier transport. The limited rate of charge injection from the top of the barrier potential choke point can be termed as a virtual source (VS). The modified $V_{sed}$ model suggests a specific form of drain current per gate width W in VS:\n",
    "$$J_D = \\frac{I_D}{W} = V_{sat} \\cdot F_{sat} \\cdot Q_{free} $$\n",
    "\n",
    "Some charged particles are not mobile. In certain cases, an exponential tail of trapping states ranging from the valence band edge to the band gap can relate the free and total carrier density by a power law. This occurs because all states are occupied according to the same quasi-Fermi level, as seen in Equation (B4) in [8] and its earlier derivation. Thus, the equation shows that\n",
    "$$Q_{free} = q \\cdot \\sigma_v \\cdot \\left(\\frac{Q_{tot}}{q \\cdot \\sigma_{traps}}\\right)^l$$\n",
    "\n",
    "Here, $σ_V$ and $σ_{traps}$ represent the density of valence states and traps in a single semiconductor layer in $V_S$, respectively. The value of the exponent $l$ is determined by the effective \"temperature\" ratio defining the exponential distribution of trap states' energy and the device temperature, originating from the Boltzmann energy distribution of free charge carriers. However, since the exact trap distribution is generally unknown, $l$ is treated as a model parameter. The distinction between free and trapped charge carriers, as presented in Equation (2), is the main adaptation of the VSED framework for thin film materials proposed in this work.\n",
    "\n",
    "For a depleted semiconductor, an exponential accumulation of holes (positive charges) is expected with increasing gate field, which ceases when substantial shielding by the accumulated charge sheet is established. The following phenomenological expression first proposed in [9] is employed:\n",
    "$$ Q_{tot} = C_I \\cdot n \\cdot V_T \\cdot \\ln \\left[ 1 + e^{\\psi \\cdot V_S - V_{GS}} \\cdot n \\cdot V_T \\right],$$\n",
    "$$ \\psi \\cdot V_S = V_{tho} + |\\delta| \\cdot V_{DS}$$\n",
    "\n",
    "The gate insulator capacitance depends on the dielectric constant ε and the insulator thickness tI: $C_I = \\frac{ε}{t_I}$. The thermal voltage is represented by $V_T = \\frac{kT}{q}$. The transition from weak to strong accumulation is modeled by parameters $n, V_{th0}$, and $δ$, where $n$ is influenced by the charging of the semiconductor region adjacent to the gate insulator interface, filling surface states and affecting the band bending rate with gate bias.\n",
    "\n",
    "The interface potential becomes independent of VGS when it reaches a bias value $ψ \\cdot V_S$, also known as threshold voltage. This allows parameterizing the potential barrier control by gate bias in TFTs. The parameter $ψ \\cdot V_S$ represents the critical bias at which the potential at $V_S$ becomes independent of gate voltage. During hole accumulation at the gate insulator interface, parameters n and $l$ describe the loading of trap states, and the voltage scale for the exponential increase of drain current with gate bias is given by $(\\frac{n}{l}) \\cdot V_T$ in the VSED model. The parameter $δ$ does not necessarily represent drain-induced barrier lowering (DIBL).\n",
    "\n",
    "The charge injection velocity $Q_{free}$ in the transistor channel is represented by $V_{inj} = V_{sat} \\cdot F_{sat}$. It is common to estimate the drain current in TFTs as a drift motion of injected charge carriers, but this can lead to a mistaken conclusion about saturation velocity $V_{sat}$. While in high electric field regions the saturation velocity equals the body semiconductor saturation velocity, in low electric field regions the saturation velocity is defined by the unidirectional thermal velocity of the quasi-Fermi potential, not the electrostatic potential. This concept is discussed in [10]:\n",
    "$$V_{sat} = \\frac{2D}{\\bar{\\lambda}_{free}} = \\frac{2 \\cdot \\mu \\cdot V_T}{\\bar{\\lambda}_{free}}$$\n",
    "\n",
    "which is parametrized here by the diffusion coefficient $D$ and may relate to drift mobility $μ$ through the Einstein relation. In low drain bias, charge carrier diffusion is the dominant transport mechanism in much of the TFT and not just in $V_S$. The characteristic length in Eq. (5) will no longer be given by the mean free path $\\bar{\\lambda}_{free}$ but by the diffusion length. Since only carriers of a single type are injected into a basically intrinsic semiconductor, the diffusion length can be very large and comparable to the device dimension given by the gate length $L_G$. $F_{sat}$ introduces a length scale $λ = \\frac{L_G}{\\bar{\\lambda}_{free}}$, which effectively replaces ${\\bar{\\lambda}_{free}}$ → $L_G$ under low drain bias.\n",
    "\n",
    "The remaining function $F_{sat}$ describes the drainage of accumulated holes. For long-channel TFTs, diffusion and emission theory [11, 5] represent an interesting approach to determine $F_{sat}$:\n",
    "\n",
    "$$F_{sat} = \\frac{1}{1 + 2t} \\cdot \\frac{1-e^{-\\left(\\frac{-V_{SD}}{V_T}\\right)}}{1+e^{-\\left(\\frac{-V_{SD}}{V_T}\\right)}} \\cdot \\frac{1}{1+2t}$$\n",
    "\n",
    "For drain bias significantly exceeding thermal voltage, the transition function is described by $F_{sat} = \\frac{1}{1 + 2t}$. The critical probability factor $t$ is determined by a mean Boltzmann factor in the channel region controlled by the gate and can be obtained from the specific potential profile. For long-channel devices, an analytical form has been proposed, which can be found in equations (4) to (12) of reference [11].\n",
    "\n",
    "$$ t = \\frac{2 \\cdot \\lambda}{m^2 (1 - η^2)} \\cdot \\left[ (1 - m \\cdot η) \\cdot e^{-m (1 - η)} - (1 - m) \\right]$$\n",
    "\n",
    "$$ η = 1 - \\tanh\\left(\\frac{V_{SD}}{mV_T}\\right)$$\n",
    "\n",
    "$$ m = \\frac{2 \\cdot \\frac{V_{Gt}}{V_T}}{1 + \\sqrt{\\frac{2 \\cdot V_{Gt}}{V_{crit}}}}$$\n",
    "\n",
    "$$ V_{Gt} = \\frac{Q_{tot}}{C_I}$$\n",
    "\n",
    "Note that an increase in transistor overdrive leads to a spacious diffusion region and shifts the onset of saturation to higher drain bias. In high gate bias, the necessary increase in saturation voltage decreases and transforms into square root growth for $V_{Gt} > V_{crit}$. Note that the saturation velocity given by Eq. (5) is achieved only for both large $V_{SG}$ (low barrier) and large $V_{SD}$ (sink load). In general, the critical diffusion length replacing $\\lambda_{free}$ in Eq. (5) is a fraction of $L_G$ dependent on gate voltage. The $V_{Gt}$ required to achieve maximum injection velocity given by unidirectional thermal velocity decreases with $L_G$.\n",
    "\n",
    "* The first equation is used to calculate the average lifetime of an unstable particle. It relates the average lifetime ($t$) of an unstable particle to its mass ($m$), binding energy ($λ$), and damping factor ($η$). The equation is a mathematical expression of the exponential decay law of the particle.\n",
    "\n",
    "* The second equation is used to calculate the reflection coefficient of a wave in a MOSFET transistor (metal-oxide-semiconductor field-effect transistor). The equation relates the reflection coefficient ($η$) to the potential difference between drain and source ($V_{SD}$), ambient temperature ($V_T$), and a device parameter ($m$).\n",
    "\n",
    "* The third equation is used in semiconductor devices to calculate the slope factor of a MOSFET transistor. The slope factor is a measure of the transistor's efficiency in turning on and off quickly. The equation relates the slope factor ($m$) to the transistor's threshold voltage ($V_{GT}$), a critical voltage constant ($V_{crit}$), and ambient temperature ($V_T$).\n",
    "\n",
    "* The fourth equation is used to calculate the threshold voltage of a MOSFET transistor. The threshold voltage is the minimum voltage required to turn on the transistor. The equation relates the threshold voltage ($V_{GT}$) to the total charge ($Q_{tot}$) stored on the transistor gate, the gate capacitance ($C$), and the current ($I$) applied to the gate.\n",
    "\n",
    "Understanding how each equation relates and what each one consists of, we will abstract all this 'complex' mathematics into the model code and execute it to observe what kind of results it will yield.\n",
    "\n",
    "Remembering that our goal here will be to optimize the coefficients $J_T, V_{tho}, δ, l\n",
    "\n",
    ", n, λ$, and $V_{crit}$ used in the modeling of the equations.\n",
    "\n",
    "* $J_T$ → Junction Temperature Coefficient. It is a parameter representing the temperature variation at the junction of an electronic device, such as a transistor, diode, or integrated circuit. The value of $J_T$ is important for the correct design and operation of these devices.\n",
    "\n",
    "* $V_{tho}$ → Threshold Voltage. It is the minimum electric voltage that must be applied to an electronic device, such as a MOSFET transistor, to initiate current conduction. The value of $V_{tho}$ is determined by the properties of the semiconductor material used in the device construction.\n",
    "\n",
    "* $δ$ → Diffusion Layer Thickness. It is a parameter representing the thickness of the doped semiconductor material layer deposited on the semiconductor substrate surface to form a transistor or other electronic device.\n",
    "\n",
    "* $l$ → Diffusion Length. It is a parameter representing the distance that the semiconductor material doping diffuses on the semiconductor substrate surface during the electronic device manufacturing process.\n",
    "\n",
    "* $n$ → Diode Ideality Factor. It is a parameter describing the relationship between the electric current and voltage in a diode. The value of $n$ is used to calculate the diode's voltage drop at different current levels.\n",
    "\n",
    "* $λ$ → Voltage Drop Coefficient. It is a parameter describing the voltage drop in an electronic device relative to the electric current passing through it. The value of $λ$ is used to calculate the voltage drop in a MOSFET transistor at different current levels.\n",
    "\n",
    "* $V_{crit}$ → Critical Voltage. It is an electric voltage representing the maximum voltage limit that an electronic device can withstand without damaging its structure or functionality. The value of $V_{crit}$ is determined by the properties of the semiconductor materials used in the device construction and is important for the safe design and operation of electronic circuits.\n",
    "\n",
    "Remembering that our objective here will be to optimize the coefficients $J_T, V_{tho}, δ, l, n, λ$, and $V_{crit}$ used in the modeling of the equations.\n",
    "\n",
    "* $J_T$ → Junction Temperature Coefficient. It is a parameter representing the temperature variation at the junction of an electronic device, such as a transistor, diode, or integrated circuit. The value of $J_T$ is important for the correct design and operation of these devices.\n",
    "\n",
    "* $V_{tho}$ → Threshold Voltage. It is the minimum electric voltage that must be applied to an electronic device, such as a MOSFET transistor, to initiate current conduction. The value of $V_{tho}$ is determined by the properties of the semiconductor material used in the device construction.\n",
    "\n",
    "* $δ$ → Diffusion Layer Thickness. It is a parameter representing the thickness of the doped semiconductor material layer deposited on the semiconductor substrate surface to form a transistor or other electronic device.\n",
    "\n",
    "* $l$ → Diffusion Length. It is a parameter representing the distance that the semiconductor material doping diffuses on the semiconductor substrate surface during the electronic device manufacturing process.\n",
    "\n",
    "* $n$ → Diode Ideality Factor. It is a parameter describing the relationship between the electric current and voltage in a diode. The value of $n$ is used to calculate the diode's voltage drop at different current levels.\n",
    "\n",
    "* $λ$ → Voltage Drop Coefficient. It is a parameter describing the voltage drop in an electronic device relative to the electric current passing through it. The value of $λ$ is used to calculate the voltage drop in a MOSFET transistor at different current levels.\n",
    "\n",
    "* $V_{crit}$ → Critical Voltage. It is an electric voltage representing the maximum voltage limit that an electronic device can withstand without damaging its structure or functionality. The value of $V_{crit}$ is determined by the properties of the semiconductor materials used in the device construction and is important for the safe design and operation of electronic circuits.\n",
    "\n",
    "\n",
    "\n"
   ]
  },
  {
   "cell_type": "markdown",
   "metadata": {
    "id": "RkmdLzKbMAnz"
   },
   "source": [
    "## **Using the Model** 💻"
   ]
  },
  {
   "cell_type": "code",
   "execution_count": 1,
   "metadata": {
    "colab": {
     "base_uri": "https://localhost:8080/",
     "height": 321
    },
    "executionInfo": {
     "elapsed": 21245,
     "status": "error",
     "timestamp": 1730416850838,
     "user": {
      "displayName": "Rodrigo Santos Batista",
      "userId": "10844009603124520931"
     },
     "user_tz": 180
    },
    "id": "5O8hH3bzkuJI",
    "outputId": "6e40ba4a-4f04-41c9-e0aa-5d84dad099ac"
   },
   "outputs": [],
   "source": [
    "# !git clone https://github.com/RodrigoSantosB/Model_OTFT.git"
   ]
  },
  {
   "cell_type": "markdown",
   "metadata": {
    "id": "Ril-6Y3iKXdL"
   },
   "source": [
    "Below, insert the address of the `MODULE_OTFT` module that contains the files to be imported. This folder contains all the necessary files that the model uses to function. It can be loaded following the example: `sys.path.append('/content/drive/MyDrive/your/path/Model_OTFT')`, simply replace the path below with the corresponding path from your mounted drive containing the module."
   ]
  },
  {
   "cell_type": "code",
   "execution_count": 2,
   "metadata": {
    "id": "6UzzLMgVLD9V"
   },
   "outputs": [],
   "source": [
    "# import sys\n",
    "# sys.path.append('/content/Model_OTFT')"
   ]
  },
  {
   "cell_type": "code",
   "execution_count": 3,
   "metadata": {
    "id": "JnknGBYoiJZ2"
   },
   "outputs": [],
   "source": [
    "# Load the used classes\n",
    "from modules_otft._imports import *\n",
    "from modules_otft._read_data import ReadData\n",
    "from modules_otft._model import TFTModel\n",
    "from modules_otft._grafics import  TFTGraphicsPlot\n",
    "from modules_otft._menu import TFTMenu\n",
    "\n",
    "# from modules_otft._global_vars import *\n",
    "from modules_otft._config import *\n",
    "from modules_otft._utils import *\n"
   ]
  },
  {
   "cell_type": "markdown",
   "metadata": {
    "id": "-m6XG_odMgoL"
   },
   "source": [
    "---\n",
    "## **Instantiating the used classes**\n",
    "---\n"
   ]
  },
  {
   "cell_type": "code",
   "execution_count": 4,
   "metadata": {
    "id": "pXJi9KefNXnl"
   },
   "outputs": [],
   "source": [
    "plot = TFTGraphicsPlot()\n",
    "menu = TFTMenu()\n",
    "read = ReadData()"
   ]
  },
  {
   "cell_type": "markdown",
   "metadata": {
    "id": "G0y8r9ATMVuR"
   },
   "source": [
    "---\n",
    "## **Loading sample data** 📚\n",
    "\n",
    "\n",
    "---\n",
    "\n"
   ]
  },
  {
   "cell_type": "code",
   "execution_count": 5,
   "metadata": {
    "cellView": "form",
    "colab": {
     "base_uri": "https://localhost:8080/"
    },
    "executionInfo": {
     "elapsed": 18258,
     "status": "ok",
     "timestamp": 1730290019904,
     "user": {
      "displayName": "Rodrigo Santos Batista",
      "userId": "10844009603124520931"
     },
     "user_tz": 180
    },
    "id": "zojCEe15uAiJ",
    "outputId": "12bc9236-bf6a-4332-e963-aff864b66c58"
   },
   "outputs": [
    {
     "name": "stdout",
     "output_type": "stream",
     "text": [
      "--------------------------------------------------------------------------------------------------------------------------------------------------------------------------------------------------------\n"
     ]
    },
    {
     "name": "stdout",
     "output_type": "stream",
     "text": [
      "--------------------------------------------------------------------------------------------------------------------------------------------------------------------------------------------------------\n",
      "\n",
      "\n",
      "___________________________________________________________________________________ SETTINGS PRESENT IN THE JSON FILE:___________________________________________________________________________________\n",
      "\n",
      "| path: /home/rsb6/Desktop/Artigo JICS/Model_OTFT/datas/SbMicro\n",
      "--------------------------------------------------------------------------------------------------------------------------------------------------------------------------------------------------------\n",
      "| experimental_data_scale_transfer: mA\n",
      "--------------------------------------------------------------------------------------------------------------------------------------------------------------------------------------------------------\n",
      "| experimental_data_scale_output: A\n",
      "--------------------------------------------------------------------------------------------------------------------------------------------------------------------------------------------------------\n",
      "| current_typic: uA\n",
      "--------------------------------------------------------------------------------------------------------------------------------------------------------------------------------------------------------\n",
      "| loaded_voltages: -40, -20, -40, -60, -80\n",
      "--------------------------------------------------------------------------------------------------------------------------------------------------------------------------------------------------------\n",
      "| curves_transfer: 1\n",
      "--------------------------------------------------------------------------------------------------------------------------------------------------------------------------------------------------------\n",
      "| type_curve_plot: logarithmic\n",
      "--------------------------------------------------------------------------------------------------------------------------------------------------------------------------------------------------------\n",
      "| type_read_data_exp: read original data\n",
      "--------------------------------------------------------------------------------------------------------------------------------------------------------------------------------------------------------\n",
      "| shift_volt_data: 0, -1, -2, -6\n",
      "--------------------------------------------------------------------------------------------------------------------------------------------------------------------------------------------------------\n",
      "| select_files: \n",
      "--------------------------------------------------------------------------------------------------------------------------------------------------------------------------------------------------------\n",
      "| resistance_scale: 1e4\n",
      "--------------------------------------------------------------------------------------------------------------------------------------------------------------------------------------------------------\n",
      "| current_carry: 1e-10\n",
      "--------------------------------------------------------------------------------------------------------------------------------------------------------------------------------------------------------\n",
      "| with_transistor: 0.1\n",
      "--------------------------------------------------------------------------------------------------------------------------------------------------------------------------------------------------------\n",
      "| type_of_transistor: pFET\n",
      "--------------------------------------------------------------------------------------------------------------------------------------------------------------------------------------------------------\n",
      "| loaded_parameters: {'VTHO': 8.0, 'DELTA': 0.010898, 'N': 34.773, 'L': 2.5641, 'VGCRIT': 32.3, 'JTH': 1, 'RS': 1}\n",
      "--------------------------------------------------------------------------------------------------------------------------------------------------------------------------------------------------------\n",
      "| idleak_mode: unique idleak value\n",
      "--------------------------------------------------------------------------------------------------------------------------------------------------------------------------------------------------------\n",
      "| loaded_idleak: 2e-11\n",
      "--------------------------------------------------------------------------------------------------------------------------------------------------------------------------------------------------------\n",
      "| image_size_width: None\n",
      "--------------------------------------------------------------------------------------------------------------------------------------------------------------------------------------------------------\n",
      "| image_size_height: None\n",
      "--------------------------------------------------------------------------------------------------------------------------------------------------------------------------------------------------------\n",
      "| upper_bounds: {'ub_VTHO': 12, 'ub_DELTA': 0.2, 'ub_N': 130, 'ub_L': 4.1, 'ub_VGCRIT': 80, 'ub_JTH': 10, 'ub_RS': 10}\n",
      "--------------------------------------------------------------------------------------------------------------------------------------------------------------------------------------------------------\n",
      "| lower_bounds: {'lb_VTHO': 8, 'lb_DELTA': 0, 'lb_N': 10, 'lb_L': 1, 'lb_VGCRIT': 10, 'lb_JTH': 0, 'lb_RS': 0}\n",
      "--------------------------------------------------------------------------------------------------------------------------------------------------------------------------------------------------------\n",
      "| default_bounds: yes\n",
      "--------------------------------------------------------------------------------------------------------------------------------------------------------------------------------------------------------\n",
      "| optimization_method: trf\n",
      "--------------------------------------------------------------------------------------------------------------------------------------------------------------------------------------------------------\n",
      "| tolerance_factor: 4e-7\n",
      "--------------------------------------------------------------------------------------------------------------------------------------------------------------------------------------------------------\n",
      "\n",
      "\n",
      "Shift value    : [0, -1, -2, -6]\n",
      "\n",
      "List volt shift: [-40, -20, -39, -58, -74]\n",
      "\n",
      "--------------------------------------------\n",
      "--------------------------------------------\n",
      "|                READ FILES                |\n",
      "--------------------------------------------\n",
      "--------------------------------------------\n",
      "|             transfer-40V.csv             |\n",
      "--------------------------------------------\n",
      "|              output-20V.csv              |\n",
      "--------------------------------------------\n",
      "|              output-40V.csv              |\n",
      "--------------------------------------------\n",
      "|              output-60V.csv              |\n",
      "--------------------------------------------\n",
      "|              output-80V.csv              |\n",
      "--------------------------------------------\n",
      "--------------------------------------------\n",
      "\n",
      "The table above shows all the files that were read in the directory, if you want to filter files so that only those that are of interest are read, do this by passing numbers that correspond to the order of the experiment curves,\n",
      "separated by ,. For example: 0:tranfer-5v , 3:output-40v and so on\n",
      "\n",
      "\n",
      "\n",
      "\n",
      "List volt shift  : ['transfer-40V.csv', 'output-20V.csv', 'output-40V.csv', 'output-60V.csv', 'output-80V.csv']\n",
      "List tension     : [-40, -20, -39, -58, -74]\n",
      "\n",
      "--------------------------------------------\n",
      "--------------------------------------------\n",
      "|                READ FILES                |\n",
      "--------------------------------------------\n",
      "--------------------------------------------\n",
      "|             transfer-40V.csv             |\n",
      "--------------------------------------------\n",
      "|              output-20V.csv              |\n",
      "--------------------------------------------\n",
      "|              output-40V.csv              |\n",
      "--------------------------------------------\n",
      "|              output-60V.csv              |\n",
      "--------------------------------------------\n",
      "|              output-80V.csv              |\n",
      "--------------------------------------------\n",
      "--------------------------------------------\n",
      "\n",
      "\n",
      "\n",
      "\n",
      "   VTHO     |    DELTA   |      N     |     L      |   VGCRIT   |    JTH     |     RS    |\n",
      "------------------------------------------------------------------------------------------\n",
      "[8.0000e+00 │ 1.0898e-02 │ 3.4773e+01 │ 2.5641e+00 │ 3.2300e+01 │ 1.0000e+00 │ 1.0000e+00]\n",
      "------------------------------------------------------------------------------------------\n",
      "\n"
     ]
    }
   ],
   "source": [
    "# @title ### **Load parameters local / remote directory.**\n",
    "# @markdown In this section, you can load the intrinsic parameters of the model you want to optimize. The load can be done locally, by choosing your `json` file containing all the values ​​to be loaded, parameters `Vtho, delta, n, l, lam, Vgcrit, Jth, Rs`\n",
    "\n",
    "# @markdown Note, also, that it is necessary to provide the respective values ​​of `resistance_scale`, `current_carry` and `with_transistor`, which are respectively: resistance values, current values ​​- where the transistor typically operates - and transistor width (associated technology). If you want to add a value other than the default, add it to the field. Remember that the values ​​in the `JTH` and `Rs` fields will be multiples of the values ​​defined in these fields and the value of `with_transistor` is in units of `[cm]`. So make sure you provide consistent values ​​so that the template output can also be consistent\n",
    "\n",
    "# @markdown ---\n",
    "\n",
    "# Read and show the path file Json\n",
    "settings = enter_with_json_file()\n",
    "print()\n",
    "print()\n",
    "\n",
    "ld_voltages = load_voltages(settings['loaded_voltages'])\n",
    "\n",
    "type_curve_plot = get_type_plot(settings['type_curve_plot'])\n",
    "\n",
    "shift_list = calculate_shift_list(settings['shift_volt_data'], ld_voltages, settings['curves_transfer'])\n",
    "\n",
    "list_tension_shift = get_shift_list(read, settings['curves_transfer'], shift_list, ld_voltages)\n",
    "\n",
    "path_voltages = read.read_files_experimental(settings['path'], list_tension_shift)\n",
    "\n",
    "Vv, Id, input_voltage, n_points, count_transfer, count_output = read.load_data(settings['type_read_data_exp'], path_voltages, settings['current_typic'], \n",
    "                                                                               settings['experimental_data_scale_transfer'], \n",
    "                                                                               settings['experimental_data_scale_output'], type_curve_plot)\n",
    "\n",
    "\n",
    "print(\"Shift value    : \" + f'{shift_list}')\n",
    "print()\n",
    "\n",
    "print(\"List volt shift: \" +  f'{list_tension_shift}')\n",
    "print()\n",
    "list_curves = menu.view_path_reads(path_voltages, list_tension_shift)\n",
    "\n",
    "print()\n",
    "print('The table above shows all the files that were read in the directory, if you want to filter files so that only those that are of interest are read, do this by passing numbers that correspond to the order of the experiment curves,')\n",
    "print('separated by ,. For example: 0:tranfer-5v , 3:output-40v and so on')\n",
    "print('\\n\\n')\n",
    "\n",
    "path_voltages, list_tension_shift, list_tension, = filter_and_load_files(read, settings['path'], settings['select_files'], list_curves, list_tension_shift, ld_voltages)\n",
    "\n",
    "print()\n",
    "\n",
    "print(\"List volt shift  : \" f'{list_tension_shift}' )\n",
    "print(\"List tension     : \" f'{list_tension}' )\n",
    "print()\n",
    "_ = menu.view_path_reads(path_voltages, list_tension_shift)\n",
    "print('\\n\\n')\n",
    "\n",
    "\n",
    "tp_tst = get_transistor_type(settings['type_of_transistor'])\n",
    "resistance = get_resistance(settings['resistance_scale'])\n",
    "current = get_current(settings['current_carry'])\n",
    "width_t = get_transistor_width(settings['with_transistor'])\n",
    "load_parameters = load_coefficients(settings['loaded_parameters'])\n",
    "\n",
    "\n",
    "print()\n",
    "menu.print_values(load_parameters)\n",
    "print()\n",
    "\n",
    "mode_idleak, load_idleak = load_idleak_parameters(settings['idleak_mode'], settings['loaded_idleak'])"
   ]
  },
  {
   "cell_type": "code",
   "execution_count": 6,
   "metadata": {
    "cellView": "form",
    "colab": {
     "base_uri": "https://localhost:8080/",
     "height": 1000
    },
    "executionInfo": {
     "elapsed": 505,
     "status": "ok",
     "timestamp": 1730290020406,
     "user": {
      "displayName": "Rodrigo Santos Batista",
      "userId": "10844009603124520931"
     },
     "user_tz": 180
    },
    "id": "q1VjR5eys3Bi",
    "outputId": "14606288-42a6-46ba-b23c-1ebea2f2f88e"
   },
   "outputs": [
    {
     "data": {
      "application/vnd.plotly.v1+json": {
       "config": {
        "plotlyServerURL": "https://plot.ly"
       },
       "data": [
        {
         "line": {
          "color": "rgb(255, 0, 0)",
          "dash": "dash"
         },
         "mode": "lines+text",
         "name": "<b>Model OVSED<b> <b>transfer-40V.csvV<b>",
         "text": [
          "transfer-40V.csvV"
         ],
         "textfont": {
          "color": "rgb(255, 0, 0)",
          "family": "Times New Roman",
          "size": 13
         },
         "textposition": "bottom center",
         "type": "scatter",
         "x": [
          0,
          -1,
          -2,
          -3,
          -4,
          -5,
          -6,
          -7,
          -8,
          -9,
          -10,
          -11,
          -12,
          -13,
          -14,
          -15,
          -16,
          -17,
          -18,
          -19,
          -20,
          -21,
          -22,
          -23,
          -24,
          -25,
          -26,
          -27,
          -28,
          -29,
          -30,
          -31,
          -32,
          -33,
          -34,
          -35,
          -36,
          -37,
          -38,
          -39,
          -40,
          -41,
          -42,
          -43,
          -44,
          -45,
          -46,
          -47,
          -48,
          -49,
          -50,
          -51,
          -52,
          -53,
          -54,
          -55,
          -56,
          -57,
          -58,
          -59,
          -60,
          -61,
          -62,
          -63,
          -64,
          -65,
          -66,
          -67,
          -68,
          -69,
          -70,
          -71,
          -72,
          -73,
          -74,
          -75,
          -76,
          -77,
          -78,
          -79,
          -80
         ],
         "y": [
          2.0000000000004584e-11,
          2.0000000000081644e-11,
          2.0000000001456935e-11,
          2.0000000026516443e-11,
          2.0000000509043923e-11,
          2.0000011069614307e-11,
          2.0000293773042488e-11,
          2.0008505195986863e-11,
          2.01879786133033e-11,
          2.229558397596736e-11,
          3.4203107864021136e-11,
          7.14258487492206e-11,
          1.5128569994801832e-10,
          2.891377293072272e-10,
          4.985095543340217e-10,
          7.918403324221882e-10,
          1.1808666514253108e-9,
          1.6767818551916472e-9,
          2.2903136666443757e-9,
          3.031776815216619e-9,
          3.911116530189787e-9,
          4.937946322103312e-9,
          6.121580771897683e-9,
          7.471063793674254e-9,
          8.99519293813009e-9,
          1.070254033684382e-8,
          1.260147084110541e-8,
          1.470015782859057e-8,
          1.700659706755876e-8,
          1.9528618954481472e-8,
          2.227389938035033e-8,
          2.5249969432531264e-8,
          2.846422410083841e-8,
          3.192393012637081e-8,
          3.563623310777078e-8,
          3.960816396050206e-8,
          4.384664480941875e-8,
          4.835849438246807e-8,
          5.315043296322617e-8,
          5.822908695161429e-8,
          6.360099307523564e-8,
          6.927260228800408e-8,
          7.525028338791341e-8,
          8.154032638171609e-8,
          8.81489456208313e-8,
          9.508228272986497e-8,
          1.0234640934660237e-7,
          1.0994732969018145e-7,
          1.1789098297227616e-7,
          1.2618324566451667e-7,
          1.3482993363395998e-7,
          1.4383680415719597e-7,
          1.5320955782260747e-7,
          1.6295384032935486e-7,
          1.7307524419082092e-7,
          1.8357931034953007e-7,
          1.9447152970988612e-7,
          2.0575734459451608e-7,
          2.1744215012947712e-7,
          2.295312955631255e-7,
          2.4203008552305e-7,
          2.5494378121507764e-7,
          2.682776015680564e-7,
          2.8203672432779543e-7,
          2.9622628710329406e-7,
          3.1085138836813403e-7,
          3.2591708841969526e-7,
          3.4142841029864567e-7,
          3.5739034067099945e-7,
          3.7380783067482824e-7,
          3.906857967336068e-7,
          4.080291213379968e-7,
          4.258426537977811e-7,
          4.441312109655034e-7,
          4.6289957793330976e-7,
          4.821525087043528e-7,
          5.018947268400441e-7,
          5.221309260843671e-7,
          5.428657709663604e-7,
          5.641038973818524e-7,
          5.858499131554083e-7
         ]
        },
        {
         "marker": {
          "color": "rgb(255, 0, 0)",
          "line": {
           "color": "MediumPurple",
           "width": 0.8
          },
          "opacity": 0.5,
          "size": 11
         },
         "mode": "markers+text",
         "name": "<b>Exp <b> <b>-40V<b>",
         "text": [
          "<b>VDS<b>=transfer-40V.csvV"
         ],
         "textfont": {
          "color": "rgb(255, 0, 0)",
          "family": "Times New Roman",
          "size": 18
         },
         "textposition": "top right",
         "type": "scatter",
         "x": [
          0,
          -1,
          -2,
          -3,
          -4,
          -5,
          -6,
          -7,
          -8,
          -9,
          -10,
          -11,
          -12,
          -13,
          -14,
          -15,
          -16,
          -17,
          -18,
          -19,
          -20,
          -21,
          -22,
          -23,
          -24,
          -25,
          -26,
          -27,
          -28,
          -29,
          -30,
          -31,
          -32,
          -33,
          -34,
          -35,
          -36,
          -37,
          -38,
          -39,
          -40,
          -41,
          -42,
          -43,
          -44,
          -45,
          -46,
          -47,
          -48,
          -49,
          -50,
          -51,
          -52,
          -53,
          -54,
          -55,
          -56,
          -57,
          -58,
          -59,
          -60,
          -61,
          -62,
          -63,
          -64,
          -65,
          -66,
          -67,
          -68,
          -69,
          -70,
          -71,
          -72,
          -73,
          -74,
          -75,
          -76,
          -77,
          -78,
          -79,
          -80
         ],
         "y": [
          1.3990000000000026e-11,
          5.865000000000006e-11,
          1.0756000000000017e-10,
          2.9640000000000026e-11,
          2.1740000000000014e-11,
          2.7479999999999985e-11,
          1.3709999999999983e-11,
          6.235000000000001e-11,
          2.9230000000000025e-11,
          6.037000000000008e-11,
          1.0541100000000012e-9,
          1.0630199999999997e-8,
          5.0417599999999974e-8,
          1.4677200000000012e-7,
          3.4166599999999964e-7,
          6.505059999999998e-7,
          0.0000011046980000000004,
          0.000001676469999999999,
          0.0000024355899999999993,
          0.0000034020399999999988,
          0.000004578069999999996,
          0.000005967800000000002,
          0.0000075919300000000005,
          0.000009455430000000008,
          0.000011526399999999997,
          0.000013909000000000002,
          0.000016555600000000008,
          0.000019467199999999995,
          0.000022652400000000017,
          0.000026064400000000024,
          0.000029744000000000002,
          0.0000336538,
          0.00003780119999999999,
          0.00004216199999999996,
          0.00004676600000000003,
          0.00005155320000000002,
          0.00005656820000000001,
          0.00006177579999999999,
          0.00006717279999999999,
          0.0000726222,
          0.00007852180000000003,
          0.00008461719999999997,
          0.00009087000000000006,
          0.00009729779999999991,
          0.00010393699999999996,
          0.00011072180000000003,
          0.00011705,
          0.00012419199999999997,
          0.00013149399999999998,
          0.00013888800000000004,
          0.00014643600000000006,
          0.00015406599999999998,
          0.00016182200000000005,
          0.00016966000000000003,
          0.00017754400000000007,
          0.00018549600000000005,
          0.00019346599999999994,
          0.00020151399999999994,
          0.000209568,
          0.00021757800000000012,
          0.00022560800000000003,
          0.0002335419999999999,
          0.00024146599999999991,
          0.00024934800000000004,
          0.00025720399999999997,
          0.00026495599999999995,
          0.000272654,
          0.0002802280000000001,
          0.000287732,
          0.00029509599999999995,
          0.00030238800000000006,
          0.00030951999999999987,
          0.0003165360000000002,
          0.0003234600000000002,
          0.0003301600000000002,
          0.0003368399999999998,
          0.0003433440000000001,
          0.00034973999999999997,
          0.0003559659999999999,
          0.0003620419999999998,
          0.00036789799999999997
         ]
        }
       ],
       "layout": {
        "height": 600,
        "legend": {
         "font": {
          "size": 16
         }
        },
        "template": {
         "data": {
          "bar": [
           {
            "error_x": {
             "color": "#2a3f5f"
            },
            "error_y": {
             "color": "#2a3f5f"
            },
            "marker": {
             "line": {
              "color": "#E5ECF6",
              "width": 0.5
             },
             "pattern": {
              "fillmode": "overlay",
              "size": 10,
              "solidity": 0.2
             }
            },
            "type": "bar"
           }
          ],
          "barpolar": [
           {
            "marker": {
             "line": {
              "color": "#E5ECF6",
              "width": 0.5
             },
             "pattern": {
              "fillmode": "overlay",
              "size": 10,
              "solidity": 0.2
             }
            },
            "type": "barpolar"
           }
          ],
          "carpet": [
           {
            "aaxis": {
             "endlinecolor": "#2a3f5f",
             "gridcolor": "white",
             "linecolor": "white",
             "minorgridcolor": "white",
             "startlinecolor": "#2a3f5f"
            },
            "baxis": {
             "endlinecolor": "#2a3f5f",
             "gridcolor": "white",
             "linecolor": "white",
             "minorgridcolor": "white",
             "startlinecolor": "#2a3f5f"
            },
            "type": "carpet"
           }
          ],
          "choropleth": [
           {
            "colorbar": {
             "outlinewidth": 0,
             "ticks": ""
            },
            "type": "choropleth"
           }
          ],
          "contour": [
           {
            "colorbar": {
             "outlinewidth": 0,
             "ticks": ""
            },
            "colorscale": [
             [
              0,
              "#0d0887"
             ],
             [
              0.1111111111111111,
              "#46039f"
             ],
             [
              0.2222222222222222,
              "#7201a8"
             ],
             [
              0.3333333333333333,
              "#9c179e"
             ],
             [
              0.4444444444444444,
              "#bd3786"
             ],
             [
              0.5555555555555556,
              "#d8576b"
             ],
             [
              0.6666666666666666,
              "#ed7953"
             ],
             [
              0.7777777777777778,
              "#fb9f3a"
             ],
             [
              0.8888888888888888,
              "#fdca26"
             ],
             [
              1,
              "#f0f921"
             ]
            ],
            "type": "contour"
           }
          ],
          "contourcarpet": [
           {
            "colorbar": {
             "outlinewidth": 0,
             "ticks": ""
            },
            "type": "contourcarpet"
           }
          ],
          "heatmap": [
           {
            "colorbar": {
             "outlinewidth": 0,
             "ticks": ""
            },
            "colorscale": [
             [
              0,
              "#0d0887"
             ],
             [
              0.1111111111111111,
              "#46039f"
             ],
             [
              0.2222222222222222,
              "#7201a8"
             ],
             [
              0.3333333333333333,
              "#9c179e"
             ],
             [
              0.4444444444444444,
              "#bd3786"
             ],
             [
              0.5555555555555556,
              "#d8576b"
             ],
             [
              0.6666666666666666,
              "#ed7953"
             ],
             [
              0.7777777777777778,
              "#fb9f3a"
             ],
             [
              0.8888888888888888,
              "#fdca26"
             ],
             [
              1,
              "#f0f921"
             ]
            ],
            "type": "heatmap"
           }
          ],
          "heatmapgl": [
           {
            "colorbar": {
             "outlinewidth": 0,
             "ticks": ""
            },
            "colorscale": [
             [
              0,
              "#0d0887"
             ],
             [
              0.1111111111111111,
              "#46039f"
             ],
             [
              0.2222222222222222,
              "#7201a8"
             ],
             [
              0.3333333333333333,
              "#9c179e"
             ],
             [
              0.4444444444444444,
              "#bd3786"
             ],
             [
              0.5555555555555556,
              "#d8576b"
             ],
             [
              0.6666666666666666,
              "#ed7953"
             ],
             [
              0.7777777777777778,
              "#fb9f3a"
             ],
             [
              0.8888888888888888,
              "#fdca26"
             ],
             [
              1,
              "#f0f921"
             ]
            ],
            "type": "heatmapgl"
           }
          ],
          "histogram": [
           {
            "marker": {
             "pattern": {
              "fillmode": "overlay",
              "size": 10,
              "solidity": 0.2
             }
            },
            "type": "histogram"
           }
          ],
          "histogram2d": [
           {
            "colorbar": {
             "outlinewidth": 0,
             "ticks": ""
            },
            "colorscale": [
             [
              0,
              "#0d0887"
             ],
             [
              0.1111111111111111,
              "#46039f"
             ],
             [
              0.2222222222222222,
              "#7201a8"
             ],
             [
              0.3333333333333333,
              "#9c179e"
             ],
             [
              0.4444444444444444,
              "#bd3786"
             ],
             [
              0.5555555555555556,
              "#d8576b"
             ],
             [
              0.6666666666666666,
              "#ed7953"
             ],
             [
              0.7777777777777778,
              "#fb9f3a"
             ],
             [
              0.8888888888888888,
              "#fdca26"
             ],
             [
              1,
              "#f0f921"
             ]
            ],
            "type": "histogram2d"
           }
          ],
          "histogram2dcontour": [
           {
            "colorbar": {
             "outlinewidth": 0,
             "ticks": ""
            },
            "colorscale": [
             [
              0,
              "#0d0887"
             ],
             [
              0.1111111111111111,
              "#46039f"
             ],
             [
              0.2222222222222222,
              "#7201a8"
             ],
             [
              0.3333333333333333,
              "#9c179e"
             ],
             [
              0.4444444444444444,
              "#bd3786"
             ],
             [
              0.5555555555555556,
              "#d8576b"
             ],
             [
              0.6666666666666666,
              "#ed7953"
             ],
             [
              0.7777777777777778,
              "#fb9f3a"
             ],
             [
              0.8888888888888888,
              "#fdca26"
             ],
             [
              1,
              "#f0f921"
             ]
            ],
            "type": "histogram2dcontour"
           }
          ],
          "mesh3d": [
           {
            "colorbar": {
             "outlinewidth": 0,
             "ticks": ""
            },
            "type": "mesh3d"
           }
          ],
          "parcoords": [
           {
            "line": {
             "colorbar": {
              "outlinewidth": 0,
              "ticks": ""
             }
            },
            "type": "parcoords"
           }
          ],
          "pie": [
           {
            "automargin": true,
            "type": "pie"
           }
          ],
          "scatter": [
           {
            "fillpattern": {
             "fillmode": "overlay",
             "size": 10,
             "solidity": 0.2
            },
            "type": "scatter"
           }
          ],
          "scatter3d": [
           {
            "line": {
             "colorbar": {
              "outlinewidth": 0,
              "ticks": ""
             }
            },
            "marker": {
             "colorbar": {
              "outlinewidth": 0,
              "ticks": ""
             }
            },
            "type": "scatter3d"
           }
          ],
          "scattercarpet": [
           {
            "marker": {
             "colorbar": {
              "outlinewidth": 0,
              "ticks": ""
             }
            },
            "type": "scattercarpet"
           }
          ],
          "scattergeo": [
           {
            "marker": {
             "colorbar": {
              "outlinewidth": 0,
              "ticks": ""
             }
            },
            "type": "scattergeo"
           }
          ],
          "scattergl": [
           {
            "marker": {
             "colorbar": {
              "outlinewidth": 0,
              "ticks": ""
             }
            },
            "type": "scattergl"
           }
          ],
          "scattermapbox": [
           {
            "marker": {
             "colorbar": {
              "outlinewidth": 0,
              "ticks": ""
             }
            },
            "type": "scattermapbox"
           }
          ],
          "scatterpolar": [
           {
            "marker": {
             "colorbar": {
              "outlinewidth": 0,
              "ticks": ""
             }
            },
            "type": "scatterpolar"
           }
          ],
          "scatterpolargl": [
           {
            "marker": {
             "colorbar": {
              "outlinewidth": 0,
              "ticks": ""
             }
            },
            "type": "scatterpolargl"
           }
          ],
          "scatterternary": [
           {
            "marker": {
             "colorbar": {
              "outlinewidth": 0,
              "ticks": ""
             }
            },
            "type": "scatterternary"
           }
          ],
          "surface": [
           {
            "colorbar": {
             "outlinewidth": 0,
             "ticks": ""
            },
            "colorscale": [
             [
              0,
              "#0d0887"
             ],
             [
              0.1111111111111111,
              "#46039f"
             ],
             [
              0.2222222222222222,
              "#7201a8"
             ],
             [
              0.3333333333333333,
              "#9c179e"
             ],
             [
              0.4444444444444444,
              "#bd3786"
             ],
             [
              0.5555555555555556,
              "#d8576b"
             ],
             [
              0.6666666666666666,
              "#ed7953"
             ],
             [
              0.7777777777777778,
              "#fb9f3a"
             ],
             [
              0.8888888888888888,
              "#fdca26"
             ],
             [
              1,
              "#f0f921"
             ]
            ],
            "type": "surface"
           }
          ],
          "table": [
           {
            "cells": {
             "fill": {
              "color": "#EBF0F8"
             },
             "line": {
              "color": "white"
             }
            },
            "header": {
             "fill": {
              "color": "#C8D4E3"
             },
             "line": {
              "color": "white"
             }
            },
            "type": "table"
           }
          ]
         },
         "layout": {
          "annotationdefaults": {
           "arrowcolor": "#2a3f5f",
           "arrowhead": 0,
           "arrowwidth": 1
          },
          "autotypenumbers": "strict",
          "coloraxis": {
           "colorbar": {
            "outlinewidth": 0,
            "ticks": ""
           }
          },
          "colorscale": {
           "diverging": [
            [
             0,
             "#8e0152"
            ],
            [
             0.1,
             "#c51b7d"
            ],
            [
             0.2,
             "#de77ae"
            ],
            [
             0.3,
             "#f1b6da"
            ],
            [
             0.4,
             "#fde0ef"
            ],
            [
             0.5,
             "#f7f7f7"
            ],
            [
             0.6,
             "#e6f5d0"
            ],
            [
             0.7,
             "#b8e186"
            ],
            [
             0.8,
             "#7fbc41"
            ],
            [
             0.9,
             "#4d9221"
            ],
            [
             1,
             "#276419"
            ]
           ],
           "sequential": [
            [
             0,
             "#0d0887"
            ],
            [
             0.1111111111111111,
             "#46039f"
            ],
            [
             0.2222222222222222,
             "#7201a8"
            ],
            [
             0.3333333333333333,
             "#9c179e"
            ],
            [
             0.4444444444444444,
             "#bd3786"
            ],
            [
             0.5555555555555556,
             "#d8576b"
            ],
            [
             0.6666666666666666,
             "#ed7953"
            ],
            [
             0.7777777777777778,
             "#fb9f3a"
            ],
            [
             0.8888888888888888,
             "#fdca26"
            ],
            [
             1,
             "#f0f921"
            ]
           ],
           "sequentialminus": [
            [
             0,
             "#0d0887"
            ],
            [
             0.1111111111111111,
             "#46039f"
            ],
            [
             0.2222222222222222,
             "#7201a8"
            ],
            [
             0.3333333333333333,
             "#9c179e"
            ],
            [
             0.4444444444444444,
             "#bd3786"
            ],
            [
             0.5555555555555556,
             "#d8576b"
            ],
            [
             0.6666666666666666,
             "#ed7953"
            ],
            [
             0.7777777777777778,
             "#fb9f3a"
            ],
            [
             0.8888888888888888,
             "#fdca26"
            ],
            [
             1,
             "#f0f921"
            ]
           ]
          },
          "colorway": [
           "#636efa",
           "#EF553B",
           "#00cc96",
           "#ab63fa",
           "#FFA15A",
           "#19d3f3",
           "#FF6692",
           "#B6E880",
           "#FF97FF",
           "#FECB52"
          ],
          "font": {
           "color": "#2a3f5f"
          },
          "geo": {
           "bgcolor": "white",
           "lakecolor": "white",
           "landcolor": "#E5ECF6",
           "showlakes": true,
           "showland": true,
           "subunitcolor": "white"
          },
          "hoverlabel": {
           "align": "left"
          },
          "hovermode": "closest",
          "mapbox": {
           "style": "light"
          },
          "paper_bgcolor": "white",
          "plot_bgcolor": "#E5ECF6",
          "polar": {
           "angularaxis": {
            "gridcolor": "white",
            "linecolor": "white",
            "ticks": ""
           },
           "bgcolor": "#E5ECF6",
           "radialaxis": {
            "gridcolor": "white",
            "linecolor": "white",
            "ticks": ""
           }
          },
          "scene": {
           "xaxis": {
            "backgroundcolor": "#E5ECF6",
            "gridcolor": "white",
            "gridwidth": 2,
            "linecolor": "white",
            "showbackground": true,
            "ticks": "",
            "zerolinecolor": "white"
           },
           "yaxis": {
            "backgroundcolor": "#E5ECF6",
            "gridcolor": "white",
            "gridwidth": 2,
            "linecolor": "white",
            "showbackground": true,
            "ticks": "",
            "zerolinecolor": "white"
           },
           "zaxis": {
            "backgroundcolor": "#E5ECF6",
            "gridcolor": "white",
            "gridwidth": 2,
            "linecolor": "white",
            "showbackground": true,
            "ticks": "",
            "zerolinecolor": "white"
           }
          },
          "shapedefaults": {
           "line": {
            "color": "#2a3f5f"
           }
          },
          "ternary": {
           "aaxis": {
            "gridcolor": "white",
            "linecolor": "white",
            "ticks": ""
           },
           "baxis": {
            "gridcolor": "white",
            "linecolor": "white",
            "ticks": ""
           },
           "bgcolor": "#E5ECF6",
           "caxis": {
            "gridcolor": "white",
            "linecolor": "white",
            "ticks": ""
           }
          },
          "title": {
           "x": 0.05
          },
          "xaxis": {
           "automargin": true,
           "gridcolor": "white",
           "linecolor": "white",
           "ticks": "",
           "title": {
            "standoff": 15
           },
           "zerolinecolor": "white",
           "zerolinewidth": 2
          },
          "yaxis": {
           "automargin": true,
           "gridcolor": "white",
           "linecolor": "white",
           "ticks": "",
           "title": {
            "standoff": 15
           },
           "zerolinecolor": "white",
           "zerolinewidth": 2
          }
         }
        },
        "title": {
         "font": {
          "color": "black",
          "family": "Overpass",
          "size": 25
         },
         "text": "<b>Experimental Datas Vs Model<b>",
         "x": 0.45,
         "y": 0.9
        },
        "width": 1100,
        "xaxis": {
         "title": {
          "font": {
           "color": "black",
           "family": "Overpass",
           "size": 25
          },
          "standoff": 25,
          "text": "<b>VGS / V<b>"
         }
        },
        "yaxis": {
         "title": {
          "font": {
           "color": "black",
           "family": "Overpass",
           "size": 25
          },
          "standoff": 10,
          "text": "<b>|ID| / A<b>"
         },
         "type": "log"
        }
       }
      }
     },
     "metadata": {},
     "output_type": "display_data"
    },
    {
     "name": "stdout",
     "output_type": "stream",
     "text": [
      "\n"
     ]
    },
    {
     "data": {
      "application/vnd.plotly.v1+json": {
       "config": {
        "plotlyServerURL": "https://plot.ly"
       },
       "data": [
        {
         "line": {
          "color": "rgb(255, 0, 0)",
          "dash": "dash"
         },
         "mode": "lines+text",
         "name": "<b>Model OVSED<b> <b>output-20V.csvV<b>",
         "text": [
          "output-20V.csvV"
         ],
         "textfont": {
          "color": "rgb(255, 0, 0)",
          "family": "Times New Roman",
          "size": 13
         },
         "textposition": "bottom center",
         "type": "scatter",
         "x": [
          0,
          -1,
          -2,
          -3,
          -4,
          -5,
          -6,
          -7,
          -8,
          -9,
          -10,
          -11,
          -12,
          -13,
          -14,
          -15,
          -16,
          -17,
          -18,
          -19,
          -20,
          -21,
          -22,
          -23,
          -24,
          -25,
          -26,
          -27,
          -28,
          -29,
          -30,
          -31,
          -32,
          -33,
          -34,
          -35,
          -36,
          -37,
          -38,
          -39,
          -40,
          -41,
          -42,
          -43,
          -44,
          -45,
          -46,
          -47,
          -48,
          -49,
          -50,
          -51,
          -52,
          -53,
          -54,
          -55,
          -56,
          -57,
          -58,
          -59,
          -60,
          -61,
          -62,
          -63,
          -64,
          -65,
          -66,
          -67,
          -68,
          -69,
          -70,
          -71,
          -72,
          -73,
          -74,
          -75,
          -76,
          -77,
          -78,
          -79,
          -80
         ],
         "y": [
          -0.000019999999999999998,
          -0.002699401109806396,
          -0.0036366348381065955,
          -0.004019566913790874,
          -0.004177237423765828,
          -0.004237231051281533,
          -0.0042552300591164076,
          -0.00425575671305277,
          -0.0042492630691406165,
          -0.0042400320293266396,
          -0.00422976158258294,
          -0.004219108832342743,
          -0.004208323877509823,
          -0.0041975008511787645,
          -0.004186674917195833,
          -0.004175859140653906,
          -0.004165058354064084,
          -0.004154274335452572,
          -0.004143507732852369,
          -0.004132758777177755,
          -0.004122027545640192,
          -0.004111314058896948,
          -0.004100618316822605,
          -0.004089940311662331,
          -0.004079280032862128,
          -0.004068637468840564,
          -0.00405801260763781,
          -0.004047405437153209,
          -0.004036815945232069,
          -0.0040262441196973675,
          -0.004015689948361311,
          -0.004005153419029558,
          -0.003994634519502705,
          -0.003984133237576898,
          -0.003973649561043974,
          -0.003963183477691572,
          -0.003952734975303129,
          -0.0039423040416578965,
          -0.003931890664530935,
          -0.003921494831693118,
          -0.003911116530911113,
          -0.0039007557499473977,
          -0.0038904124765602364,
          -0.0038800866985036785,
          -0.003869778403527572,
          -0.003859487579377528,
          -0.003849214213794949,
          -0.003838958294517001,
          -0.0038287198092766123,
          -0.003818498745802478,
          -0.003808295091819053,
          -0.0037981088350465286,
          -0.0037879399632008677,
          -0.0037777884639937516,
          -0.003767654325132611,
          -0.0037575375343206134,
          -0.0037474380792566417,
          -0.0037373559476353156,
          -0.003727291127146963,
          -0.003717243605477628,
          -0.0037072133703090694,
          -0.0036972004093187463,
          -0.003687204710179814,
          -0.0036772262605611265,
          -0.0036672650481272217,
          -0.0036573210605383355,
          -0.0036473942854503673,
          -0.003637484710514903,
          -0.0036275923233791913,
          -0.0036177171116861507,
          -0.0036078590630743614,
          -0.00359801816517806,
          -0.0035881944056271224,
          -0.003578387772047086,
          -0.003568598252059119,
          -0.003558825833280028,
          -0.0035490705033222594,
          -0.003539332249793864,
          -0.003529611060298535,
          -0.003519906922435575,
          -0.003510219823799894
         ]
        },
        {
         "line": {
          "color": "rgb(0, 0, 255)",
          "dash": "dash"
         },
         "mode": "lines+text",
         "name": "<b>Model OVSED<b> <b>output-40V.csvV<b>",
         "text": [
          "output-40V.csvV"
         ],
         "textfont": {
          "color": "rgb(0, 0, 255)",
          "family": "Times New Roman",
          "size": 13
         },
         "textposition": "bottom center",
         "type": "scatter",
         "x": [
          0,
          -1,
          -2,
          -3,
          -4,
          -5,
          -6,
          -7,
          -8,
          -9,
          -10,
          -11,
          -12,
          -13,
          -14,
          -15,
          -16,
          -17,
          -18,
          -19,
          -20,
          -21,
          -22,
          -23,
          -24,
          -25,
          -26,
          -27,
          -28,
          -29,
          -30,
          -31,
          -32,
          -33,
          -34,
          -35,
          -36,
          -37,
          -38,
          -39,
          -40,
          -41,
          -42,
          -43,
          -44,
          -45,
          -46,
          -47,
          -48,
          -49,
          -50,
          -51,
          -52,
          -53,
          -54,
          -55,
          -56,
          -57,
          -58,
          -59,
          -60,
          -61,
          -62,
          -63,
          -64,
          -65,
          -66,
          -67,
          -68,
          -69,
          -70,
          -71,
          -72,
          -73,
          -74,
          -75,
          -76,
          -77,
          -78,
          -79,
          -80
         ],
         "y": [
          -0.000019999999999999998,
          -0.031915837766005505,
          -0.04481092548883816,
          -0.0513218549540349,
          -0.05494372299120373,
          -0.057045230907767724,
          -0.05827922158614693,
          -0.058997665864539986,
          -0.059404682967499976,
          -0.059623181207082196,
          -0.05972819502359333,
          -0.05976550799356443,
          -0.05976283555211532,
          -0.059736774477090346,
          -0.05969715246861947,
          -0.05964972922035853,
          -0.05959785041309515,
          -0.05954344520389054,
          -0.05948761935329949,
          -0.05943100366337104,
          -0.05937395664248104,
          -0.059316681446238494,
          -0.05925929293104366,
          -0.05920185591383144,
          -0.05914440691921899,
          -0.05908696650413782,
          -0.05902954622640881,
          -0.05897215257781787,
          -0.05891478920081278,
          -0.058857458136441825,
          -0.05880016052627608,
          -0.05874289700692671,
          -0.058685667931649935,
          -0.05862847349476108,
          -0.05857131380145235,
          -0.058514188906958,
          -0.05845709883851608,
          -0.058400043607680155,
          -0.05834302321721868,
          -0.05828603766498075,
          -0.0582290869460608,
          -0.05817217105401148,
          -0.058115289981522,
          -0.058058443720798165,
          -0.05800163226377487,
          -0.05794485560223496,
          -0.05788811372787584,
          -0.05783140663234659,
          -0.05777473430726876,
          -0.05771809674424795,
          -0.057661493934880355,
          -0.057604925870756406,
          -0.05754839254346264,
          -0.05749189394458322,
          -0.05743543006569999,
          -0.05737900089839328,
          -0.05732260643424193,
          -0.05726624666482348,
          -0.05720992158171409,
          -0.05715363117648867,
          -0.05709737544072094,
          -0.05704115436598336,
          -0.056984967943847185,
          -0.05692881616588234,
          -0.05687269902365768,
          -0.056816616508740696,
          -0.056760568612697765,
          -0.056704555327093946,
          -0.05664857664349317,
          -0.05659263255345807,
          -0.05653672304855012,
          -0.05648084812032945,
          -0.05642500776035504,
          -0.05636920196018468,
          -0.0563134307113749,
          -0.056257694005480995,
          -0.05620199183405704,
          -0.056146324188655804,
          -0.05609069106082894,
          -0.05603509244212683,
          -0.05597952832409856
         ]
        },
        {
         "line": {
          "color": "rgb(30, 144, 255)",
          "dash": "dash"
         },
         "mode": "lines+text",
         "name": "<b>Model OVSED<b> <b>output-60V.csvV<b>",
         "text": [
          "output-60V.csvV"
         ],
         "textfont": {
          "color": "rgb(30, 144, 255)",
          "family": "Times New Roman",
          "size": 13
         },
         "textposition": "bottom center",
         "type": "scatter",
         "x": [
          0,
          -1,
          -2,
          -3,
          -4,
          -5,
          -6,
          -7,
          -8,
          -9,
          -10,
          -11,
          -12,
          -13,
          -14,
          -15,
          -16,
          -17,
          -18,
          -19,
          -20,
          -21,
          -22,
          -23,
          -24,
          -25,
          -26,
          -27,
          -28,
          -29,
          -30,
          -31,
          -32,
          -33,
          -34,
          -35,
          -36,
          -37,
          -38,
          -39,
          -40,
          -41,
          -42,
          -43,
          -44,
          -45,
          -46,
          -47,
          -48,
          -49,
          -50,
          -51,
          -52,
          -53,
          -54,
          -55,
          -56,
          -57,
          -58,
          -59,
          -60,
          -61,
          -62,
          -63,
          -64,
          -65,
          -66,
          -67,
          -68,
          -69,
          -70,
          -71,
          -72,
          -73,
          -74,
          -75,
          -76,
          -77,
          -78,
          -79,
          -80
         ],
         "y": [
          -0.000019999999999999998,
          -0.10996070208190153,
          -0.15608257148538895,
          -0.18045882857315648,
          -0.1948657912663912,
          -0.20390808244588707,
          -0.20976974640971932,
          -0.21362801080368984,
          -0.21617666039977212,
          -0.21785075952129937,
          -0.21893459912061444,
          -0.21961864220917493,
          -0.22003214864428114,
          -0.22026323943038872,
          -0.2203719367433775,
          -0.2203989589277179,
          -0.22037177400452848,
          -0.22030879748637103,
          -0.22022230073708218,
          -0.22012041468240606,
          -0.2200084995534048,
          -0.21989007342188413,
          -0.21976743655861286,
          -0.21964208816592057,
          -0.2195150027263037,
          -0.2193868122373842,
          -0.21925792581864065,
          -0.21912860790386327,
          -0.21899902919194383,
          -0.21886929975707836,
          -0.2187394905174524,
          -0.2186096471301023,
          -0.2184797989703731,
          -0.21834996492766268,
          -0.21822015714244902,
          -0.21809038341385514,
          -0.21796064874963195,
          -0.2178309563634505,
          -0.21770130831626958,
          -0.21757170592863262,
          -0.217442150045616,
          -0.21731264120703783,
          -0.21718317975677376,
          -0.217053765912948,
          -0.21692439981299497,
          -0.2167950815425805,
          -0.216665811154162,
          -0.21653658867889766,
          -0.21640741413428627,
          -0.21627828752906694,
          -0.21614920886636335,
          -0.2160201781456989,
          -0.21589119536428814,
          -0.21576226051786707,
          -0.21563337360122267,
          -0.2155045346085346,
          -0.21537574353359223,
          -0.21524700036993535,
          -0.2151183051109436,
          -0.21498965774989345,
          -0.2148610582799953,
          -0.21473250669441712,
          -0.2146040029862993,
          -0.21447554714876438,
          -0.21434713917492348,
          -0.21421877905787967,
          -0.21409046679073118,
          -0.2139622023665725,
          -0.213833985778496,
          -0.213705817019592,
          -0.21357769608294913,
          -0.21344962296165532,
          -0.2133215976487976,
          -0.2131936201374618,
          -0.2130656904207334,
          -0.2129378084916968,
          -0.21280997434343574,
          -0.21268218796903374,
          -0.21255444936157322,
          -0.21242675851413587,
          -0.21229911541980329
         ]
        },
        {
         "line": {
          "color": "rgb(0, 255, 0)",
          "dash": "dash"
         },
         "mode": "lines+text",
         "name": "<b>Model OVSED<b> <b>output-80V.csvV<b>",
         "text": [
          "output-80V.csvV"
         ],
         "textfont": {
          "color": "rgb(0, 255, 0)",
          "family": "Times New Roman",
          "size": 13
         },
         "textposition": "bottom center",
         "type": "scatter",
         "x": [
          0,
          -1,
          -2,
          -3,
          -4,
          -5,
          -6,
          -7,
          -8,
          -9,
          -10,
          -11,
          -12,
          -13,
          -14,
          -15,
          -16,
          -17,
          -18,
          -19,
          -20,
          -21,
          -22,
          -23,
          -24,
          -25,
          -26,
          -27,
          -28,
          -29,
          -30,
          -31,
          -32,
          -33,
          -34,
          -35,
          -36,
          -37,
          -38,
          -39,
          -40,
          -41,
          -42,
          -43,
          -44,
          -45,
          -46,
          -47,
          -48,
          -49,
          -50,
          -51,
          -52,
          -53,
          -54,
          -55,
          -56,
          -57,
          -58,
          -59,
          -60,
          -61,
          -62,
          -63,
          -64,
          -65,
          -66,
          -67,
          -68,
          -69,
          -70,
          -71,
          -72,
          -73,
          -74,
          -75,
          -76,
          -77,
          -78,
          -79,
          -80
         ],
         "y": [
          -0.000019999999999999998,
          -0.22500682953336668,
          -0.32099905954369407,
          -0.37264705907358353,
          -0.4038686026048828,
          -0.4240333821915543,
          -0.43757817868010734,
          -0.44688685082787527,
          -0.4533615433493476,
          -0.45788391364601855,
          -0.4610362208708885,
          -0.4632166750032463,
          -0.46470410118950256,
          -0.4656965900069321,
          -0.46633596525261733,
          -0.46672405401750067,
          -0.4669339312884092,
          -0.467017904142655,
          -0.46701327402980863,
          -0.46694652756718774,
          -0.46683638915643405,
          -0.4666960392526214,
          -0.46653471890085785,
          -0.46635888376650053,
          -0.46617302919592585,
          -0.4659802766567746,
          -0.46578278831767966,
          -0.4655820587023903,
          -0.4653791189808844,
          -0.4651746795278224,
          -0.4649692290795289,
          -0.46476310351104017,
          -0.464556533428029,
          -0.4643496770329583,
          -0.46414264278327255,
          -0.46393550498969965,
          -0.4637283145413802,
          -0.4635211062727528,
          -0.4633139040193561,
          -0.4631067240850316,
          -0.46289957761822154,
          -0.4626924722397405,
          -0.46248541315731073,
          -0.46227840392838937,
          -0.4620714469821068,
          -0.4618645439762785,
          -0.46165769604155077,
          -0.461450903948322,
          -0.4612441682208458,
          -0.4610374892152152,
          -0.4608308671726522,
          -0.46062430225592205,
          -0.46041779457420506,
          -0.4602113442000919,
          -0.4600049511811855,
          -0.45979861554803103,
          -0.45959233731952764,
          -0.45938611650662287,
          -0.4591799531148367,
          -0.4589738471459867,
          -0.45876779859935995,
          -0.45856180747251946,
          -0.4583558737618505,
          -0.45814999746293317,
          -0.4579441785708013,
          -0.4577384170801126,
          -0.4575327129852704,
          -0.4573270662805033,
          -0.4571214769599201,
          -0.45691594501754906,
          -0.4567104704473634,
          -0.4565050532432964,
          -0.4562996933992571,
          -0.45609439090913495,
          -0.45588914576680817,
          -0.4556839579661464,
          -0.45547882750101265,
          -0.45527375436526635,
          -0.4550687385527634,
          -0.4548637800573579,
          -0.45465887887290257
         ]
        },
        {
         "marker": {
          "color": "rgb(255, 0, 0)",
          "line": {
           "color": "MediumPurple",
           "width": 0.8
          },
          "opacity": 0.5,
          "size": 11
         },
         "mode": "markers+text",
         "name": "<b>Exp <b> <b>-20V<b> <b> (0V)<b>",
         "text": [
          "<b>VGS<b>=output-20V.csvV  (0)"
         ],
         "textfont": {
          "color": "rgb(255, 0, 0)",
          "family": "Times New Roman",
          "size": 18
         },
         "textposition": "top right",
         "type": "scatter",
         "x": [
          0,
          -1,
          -2,
          -3,
          -4,
          -5,
          -6,
          -7,
          -8,
          -9,
          -10,
          -11,
          -12,
          -13,
          -14,
          -15,
          -16,
          -17,
          -18,
          -19,
          -20,
          -21,
          -22,
          -23,
          -24,
          -25,
          -26,
          -27,
          -28,
          -29,
          -30,
          -31,
          -32,
          -33,
          -34,
          -35,
          -36,
          -37,
          -38,
          -39,
          -40,
          -41,
          -42,
          -43,
          -44,
          -45,
          -46,
          -47,
          -48,
          -49,
          -50,
          -51,
          -52,
          -53,
          -54,
          -55,
          -56,
          -57,
          -58,
          -59,
          -60,
          -61,
          -62,
          -63,
          -64,
          -65,
          -66,
          -67,
          -68,
          -69,
          -70,
          -71,
          -72,
          -73,
          -74,
          -75,
          -76,
          -77,
          -78,
          -79,
          -80
         ],
         "y": [
          -0.07058940000000001,
          -0.8353039999999999,
          -1.54038,
          -2.08743,
          -2.5009099999999997,
          -2.80518,
          -3.0247699999999997,
          -3.17792,
          -3.2827100000000002,
          -3.35066,
          -3.39281,
          -3.41835,
          -3.4325900000000003,
          -3.44,
          -3.44311,
          -3.4439,
          -3.44308,
          -3.44158,
          -3.43999,
          -3.4375199999999997,
          -3.4349700000000003,
          -3.4325799999999997,
          -3.43004,
          -3.4279100000000002,
          -3.42556,
          -3.42326,
          -3.4209300000000002,
          -3.41861,
          -3.4162399999999997,
          -3.41411,
          -3.41194,
          -3.41003,
          -3.4081,
          -3.4063700000000003,
          -3.40443,
          -3.40243,
          -3.4005400000000003,
          -3.39888,
          -3.39672,
          -3.3949100000000003,
          -3.3932399999999996,
          -3.39139,
          -3.38976,
          -3.3882,
          -3.38645,
          -3.3847099999999997,
          -3.38302,
          -3.3815,
          -3.37985,
          -3.37858,
          -3.37725,
          -3.37573,
          -3.3741999999999996,
          -3.37284,
          -3.37157,
          -3.3702400000000003,
          -3.3689,
          -3.3675400000000004,
          -3.3661499999999998,
          -3.36491,
          -3.36362,
          -3.36212,
          -3.36101,
          -3.35977,
          -3.35861,
          -3.35762,
          -3.3563400000000003,
          -3.35503,
          -3.3540699999999997,
          -3.35316,
          -3.35209,
          -3.351,
          -3.3501,
          -3.34911,
          -3.34819,
          -3.34605,
          -3.34516,
          -3.34422,
          -3.34328,
          -3.34247,
          -3.34156
         ]
        },
        {
         "marker": {
          "color": "rgb(0, 0, 255)",
          "line": {
           "color": "MediumPurple",
           "width": 0.8
          },
          "opacity": 0.5,
          "size": 11
         },
         "mode": "markers+text",
         "name": "<b>Exp <b> <b>-39V<b> <b> (1V)<b>",
         "text": [
          "<b>VGS<b>=output-40V.csvV  (1)"
         ],
         "textfont": {
          "color": "rgb(0, 0, 255)",
          "family": "Times New Roman",
          "size": 18
         },
         "textposition": "top right",
         "type": "scatter",
         "x": [
          0,
          -1,
          -2,
          -3,
          -4,
          -5,
          -6,
          -7,
          -8,
          -9,
          -10,
          -11,
          -12,
          -13,
          -14,
          -15,
          -16,
          -17,
          -18,
          -19,
          -20,
          -21,
          -22,
          -23,
          -24,
          -25,
          -26,
          -27,
          -28,
          -29,
          -30,
          -31,
          -32,
          -33,
          -34,
          -35,
          -36,
          -37,
          -38,
          -39,
          -40,
          -41,
          -42,
          -43,
          -44,
          -45,
          -46,
          -47,
          -48,
          -49,
          -50,
          -51,
          -52,
          -53,
          -54,
          -55,
          -56,
          -57,
          -58,
          -59,
          -60,
          -61,
          -62,
          -63,
          -64,
          -65,
          -66,
          -67,
          -68,
          -69,
          -70,
          -71,
          -72,
          -73,
          -74,
          -75,
          -76,
          -77,
          -78,
          -79,
          -80
         ],
         "y": [
          -2.75151,
          -3.25738,
          -8.977820000000001,
          -14.3526,
          -19.5094,
          -24.3476,
          -28.9064,
          -33.1586,
          -37.141400000000004,
          -40.8356,
          -44.265,
          -47.4462,
          -50.358200000000004,
          -53.0412,
          -55.4738,
          -57.6914,
          -59.6818,
          -61.4732,
          -63.062200000000004,
          -64.47800000000001,
          -65.7214,
          -66.8176,
          -67.7708,
          -68.6036,
          -69.32520000000001,
          -69.95039999999999,
          -70.486,
          -70.9474,
          -71.33539999999999,
          -71.66319999999999,
          -71.9372,
          -72.168,
          -72.35900000000001,
          -72.5186,
          -72.6484,
          -72.75699999999999,
          -72.8466,
          -72.9162,
          -72.9756,
          -73.0234,
          -73.0604,
          -73.08980000000001,
          -73.1126,
          -73.1288,
          -73.1416,
          -73.15259999999999,
          -73.1596,
          -73.1668,
          -73.1752,
          -73.181,
          -73.18820000000001,
          -73.1918,
          -73.1936,
          -73.1932,
          -73.1916,
          -73.1874,
          -73.18379999999999,
          -73.1828,
          -73.1846,
          -73.182,
          -73.1836,
          -73.18140000000001,
          -73.1776,
          -73.1726,
          -73.16940000000001,
          -73.1648,
          -73.1572,
          -73.1512,
          -73.14699999999999,
          -73.144,
          -73.1412,
          -73.13900000000001,
          -73.1392,
          -73.1354,
          -73.132,
          -73.1268,
          -73.1218,
          -73.11659999999999,
          -73.1104,
          -73.1062,
          -73.1002
         ]
        },
        {
         "marker": {
          "color": "rgb(30, 144, 255)",
          "line": {
           "color": "MediumPurple",
           "width": 0.8
          },
          "opacity": 0.5,
          "size": 11
         },
         "mode": "markers+text",
         "name": "<b>Exp <b> <b>-58V<b> <b> (2V)<b>",
         "text": [
          "<b>VGS<b>=output-60V.csvV  (2)"
         ],
         "textfont": {
          "color": "rgb(30, 144, 255)",
          "family": "Times New Roman",
          "size": 18
         },
         "textposition": "top right",
         "type": "scatter",
         "x": [
          0,
          -1,
          -2,
          -3,
          -4,
          -5,
          -6,
          -7,
          -8,
          -9,
          -10,
          -11,
          -12,
          -13,
          -14,
          -15,
          -16,
          -17,
          -18,
          -19,
          -20,
          -21,
          -22,
          -23,
          -24,
          -25,
          -26,
          -27,
          -28,
          -29,
          -30,
          -31,
          -32,
          -33,
          -34,
          -35,
          -36,
          -37,
          -38,
          -39,
          -40,
          -41,
          -42,
          -43,
          -44,
          -45,
          -46,
          -47,
          -48,
          -49,
          -50,
          -51,
          -52,
          -53,
          -54,
          -55,
          -56,
          -57,
          -58,
          -59,
          -60,
          -61,
          -62,
          -63,
          -64,
          -65,
          -66,
          -67,
          -68,
          -69,
          -70,
          -71,
          -72,
          -73,
          -74,
          -75,
          -76,
          -77,
          -78,
          -79,
          -80
         ],
         "y": [
          -8.22653,
          -0.28700600000000004,
          -8.56488,
          -16.5764,
          -24.479599999999998,
          -32.199600000000004,
          -39.8116,
          -47.2868,
          -54.677,
          -61.925200000000004,
          -69.0608,
          -76.1064,
          -83.008,
          -89.8148,
          -96.456,
          -102.98039999999999,
          -109.3282,
          -115.316,
          -121.336,
          -127.20200000000001,
          -132.85999999999999,
          -138.35999999999999,
          -143.662,
          -148.784,
          -153.68200000000002,
          -158.412,
          -162.92,
          -167.244,
          -171.338,
          -175.232,
          -178.904,
          -182.402,
          -185.678,
          -188.764,
          -191.65,
          -194.346,
          -196.852,
          -199.198,
          -201.348,
          -203.362,
          -205.196,
          -206.90800000000002,
          -208.482,
          -209.91799999999998,
          -211.23999999999998,
          -212.45,
          -213.556,
          -214.572,
          -215.492,
          -216.338,
          -217.106,
          -217.81,
          -218.44,
          -219.028,
          -219.542,
          -220.008,
          -220.44,
          -220.834,
          -221.20399999999998,
          -221.536,
          -221.83,
          -222.108,
          -222.348,
          -222.57,
          -222.774,
          -222.964,
          -223.15200000000002,
          -223.312,
          -223.456,
          -223.596,
          -223.722,
          -223.834,
          -223.95800000000003,
          -224.046,
          -224.148,
          -224.238,
          -224.324,
          -224.41,
          -224.476,
          -224.538,
          -224.61399999999998
         ]
        },
        {
         "marker": {
          "color": "rgb(0, 255, 0)",
          "line": {
           "color": "MediumPurple",
           "width": 0.8
          },
          "opacity": 0.5,
          "size": 11
         },
         "mode": "markers+text",
         "name": "<b>Exp <b> <b>-74V<b> <b> (6V)<b>",
         "text": [
          "<b>VGS<b>=output-80V.csvV  (6)"
         ],
         "textfont": {
          "color": "rgb(0, 255, 0)",
          "family": "Times New Roman",
          "size": 18
         },
         "textposition": "top right",
         "type": "scatter",
         "x": [
          0,
          -1,
          -2,
          -3,
          -4,
          -5,
          -6,
          -7,
          -8,
          -9,
          -10,
          -11,
          -12,
          -13,
          -14,
          -15,
          -16,
          -17,
          -18,
          -19,
          -20,
          -21,
          -22,
          -23,
          -24,
          -25,
          -26,
          -27,
          -28,
          -29,
          -30,
          -31,
          -32,
          -33,
          -34,
          -35,
          -36,
          -37,
          -38,
          -39,
          -40,
          -41,
          -42,
          -43,
          -44,
          -45,
          -46,
          -47,
          -48,
          -49,
          -50,
          -51,
          -52,
          -53,
          -54,
          -55,
          -56,
          -57,
          -58,
          -59,
          -60,
          -61,
          -62,
          -63,
          -64,
          -65,
          -66,
          -67,
          -68,
          -69,
          -70,
          -71,
          -72,
          -73,
          -74,
          -75,
          -76,
          -77,
          -78,
          -79,
          -80
         ],
         "y": [
          -14.3904,
          -4.94505,
          -4.36406,
          -13.5046,
          -22.8572,
          -32.215,
          -41.648199999999996,
          -51.1322,
          -60.6824,
          -70.2246,
          -79.8264,
          -89.5274,
          -99.16239999999999,
          -108.82939999999999,
          -118.146,
          -127.748,
          -137.262,
          -146.74800000000002,
          -156.12800000000001,
          -165.46599999999998,
          -174.66199999999998,
          -183.80800000000002,
          -192.814,
          -201.74599999999998,
          -210.508,
          -219.176,
          -227.672,
          -236.044,
          -244.242,
          -252.304,
          -260.164,
          -267.894,
          -275.41,
          -282.78,
          -289.928,
          -296.906,
          -303.666,
          -310.24600000000004,
          -316.626,
          -322.824,
          -328.788,
          -334.572,
          -340.126,
          -345.496,
          -350.63,
          -355.588,
          -360.318,
          -364.874,
          -369.194,
          -373.35200000000003,
          -377.306,
          -381.056,
          -384.644,
          -388.02,
          -391.24199999999996,
          -394.274,
          -397.14,
          -399.84,
          -402.41,
          -404.824,
          -407.108,
          -409.27,
          -411.29200000000003,
          -413.192,
          -414.99,
          -416.684,
          -418.26800000000003,
          -419.78000000000003,
          -421.18199999999996,
          -422.502,
          -423.74399999999997,
          -424.9,
          -425.99199999999996,
          -427.034,
          -428.02,
          -428.954,
          -429.81399999999996,
          -430.646,
          -431.41,
          -432.128,
          -432.806
         ]
        }
       ],
       "layout": {
        "height": 600,
        "legend": {
         "font": {
          "size": 16
         }
        },
        "template": {
         "data": {
          "bar": [
           {
            "error_x": {
             "color": "#2a3f5f"
            },
            "error_y": {
             "color": "#2a3f5f"
            },
            "marker": {
             "line": {
              "color": "#E5ECF6",
              "width": 0.5
             },
             "pattern": {
              "fillmode": "overlay",
              "size": 10,
              "solidity": 0.2
             }
            },
            "type": "bar"
           }
          ],
          "barpolar": [
           {
            "marker": {
             "line": {
              "color": "#E5ECF6",
              "width": 0.5
             },
             "pattern": {
              "fillmode": "overlay",
              "size": 10,
              "solidity": 0.2
             }
            },
            "type": "barpolar"
           }
          ],
          "carpet": [
           {
            "aaxis": {
             "endlinecolor": "#2a3f5f",
             "gridcolor": "white",
             "linecolor": "white",
             "minorgridcolor": "white",
             "startlinecolor": "#2a3f5f"
            },
            "baxis": {
             "endlinecolor": "#2a3f5f",
             "gridcolor": "white",
             "linecolor": "white",
             "minorgridcolor": "white",
             "startlinecolor": "#2a3f5f"
            },
            "type": "carpet"
           }
          ],
          "choropleth": [
           {
            "colorbar": {
             "outlinewidth": 0,
             "ticks": ""
            },
            "type": "choropleth"
           }
          ],
          "contour": [
           {
            "colorbar": {
             "outlinewidth": 0,
             "ticks": ""
            },
            "colorscale": [
             [
              0,
              "#0d0887"
             ],
             [
              0.1111111111111111,
              "#46039f"
             ],
             [
              0.2222222222222222,
              "#7201a8"
             ],
             [
              0.3333333333333333,
              "#9c179e"
             ],
             [
              0.4444444444444444,
              "#bd3786"
             ],
             [
              0.5555555555555556,
              "#d8576b"
             ],
             [
              0.6666666666666666,
              "#ed7953"
             ],
             [
              0.7777777777777778,
              "#fb9f3a"
             ],
             [
              0.8888888888888888,
              "#fdca26"
             ],
             [
              1,
              "#f0f921"
             ]
            ],
            "type": "contour"
           }
          ],
          "contourcarpet": [
           {
            "colorbar": {
             "outlinewidth": 0,
             "ticks": ""
            },
            "type": "contourcarpet"
           }
          ],
          "heatmap": [
           {
            "colorbar": {
             "outlinewidth": 0,
             "ticks": ""
            },
            "colorscale": [
             [
              0,
              "#0d0887"
             ],
             [
              0.1111111111111111,
              "#46039f"
             ],
             [
              0.2222222222222222,
              "#7201a8"
             ],
             [
              0.3333333333333333,
              "#9c179e"
             ],
             [
              0.4444444444444444,
              "#bd3786"
             ],
             [
              0.5555555555555556,
              "#d8576b"
             ],
             [
              0.6666666666666666,
              "#ed7953"
             ],
             [
              0.7777777777777778,
              "#fb9f3a"
             ],
             [
              0.8888888888888888,
              "#fdca26"
             ],
             [
              1,
              "#f0f921"
             ]
            ],
            "type": "heatmap"
           }
          ],
          "heatmapgl": [
           {
            "colorbar": {
             "outlinewidth": 0,
             "ticks": ""
            },
            "colorscale": [
             [
              0,
              "#0d0887"
             ],
             [
              0.1111111111111111,
              "#46039f"
             ],
             [
              0.2222222222222222,
              "#7201a8"
             ],
             [
              0.3333333333333333,
              "#9c179e"
             ],
             [
              0.4444444444444444,
              "#bd3786"
             ],
             [
              0.5555555555555556,
              "#d8576b"
             ],
             [
              0.6666666666666666,
              "#ed7953"
             ],
             [
              0.7777777777777778,
              "#fb9f3a"
             ],
             [
              0.8888888888888888,
              "#fdca26"
             ],
             [
              1,
              "#f0f921"
             ]
            ],
            "type": "heatmapgl"
           }
          ],
          "histogram": [
           {
            "marker": {
             "pattern": {
              "fillmode": "overlay",
              "size": 10,
              "solidity": 0.2
             }
            },
            "type": "histogram"
           }
          ],
          "histogram2d": [
           {
            "colorbar": {
             "outlinewidth": 0,
             "ticks": ""
            },
            "colorscale": [
             [
              0,
              "#0d0887"
             ],
             [
              0.1111111111111111,
              "#46039f"
             ],
             [
              0.2222222222222222,
              "#7201a8"
             ],
             [
              0.3333333333333333,
              "#9c179e"
             ],
             [
              0.4444444444444444,
              "#bd3786"
             ],
             [
              0.5555555555555556,
              "#d8576b"
             ],
             [
              0.6666666666666666,
              "#ed7953"
             ],
             [
              0.7777777777777778,
              "#fb9f3a"
             ],
             [
              0.8888888888888888,
              "#fdca26"
             ],
             [
              1,
              "#f0f921"
             ]
            ],
            "type": "histogram2d"
           }
          ],
          "histogram2dcontour": [
           {
            "colorbar": {
             "outlinewidth": 0,
             "ticks": ""
            },
            "colorscale": [
             [
              0,
              "#0d0887"
             ],
             [
              0.1111111111111111,
              "#46039f"
             ],
             [
              0.2222222222222222,
              "#7201a8"
             ],
             [
              0.3333333333333333,
              "#9c179e"
             ],
             [
              0.4444444444444444,
              "#bd3786"
             ],
             [
              0.5555555555555556,
              "#d8576b"
             ],
             [
              0.6666666666666666,
              "#ed7953"
             ],
             [
              0.7777777777777778,
              "#fb9f3a"
             ],
             [
              0.8888888888888888,
              "#fdca26"
             ],
             [
              1,
              "#f0f921"
             ]
            ],
            "type": "histogram2dcontour"
           }
          ],
          "mesh3d": [
           {
            "colorbar": {
             "outlinewidth": 0,
             "ticks": ""
            },
            "type": "mesh3d"
           }
          ],
          "parcoords": [
           {
            "line": {
             "colorbar": {
              "outlinewidth": 0,
              "ticks": ""
             }
            },
            "type": "parcoords"
           }
          ],
          "pie": [
           {
            "automargin": true,
            "type": "pie"
           }
          ],
          "scatter": [
           {
            "fillpattern": {
             "fillmode": "overlay",
             "size": 10,
             "solidity": 0.2
            },
            "type": "scatter"
           }
          ],
          "scatter3d": [
           {
            "line": {
             "colorbar": {
              "outlinewidth": 0,
              "ticks": ""
             }
            },
            "marker": {
             "colorbar": {
              "outlinewidth": 0,
              "ticks": ""
             }
            },
            "type": "scatter3d"
           }
          ],
          "scattercarpet": [
           {
            "marker": {
             "colorbar": {
              "outlinewidth": 0,
              "ticks": ""
             }
            },
            "type": "scattercarpet"
           }
          ],
          "scattergeo": [
           {
            "marker": {
             "colorbar": {
              "outlinewidth": 0,
              "ticks": ""
             }
            },
            "type": "scattergeo"
           }
          ],
          "scattergl": [
           {
            "marker": {
             "colorbar": {
              "outlinewidth": 0,
              "ticks": ""
             }
            },
            "type": "scattergl"
           }
          ],
          "scattermapbox": [
           {
            "marker": {
             "colorbar": {
              "outlinewidth": 0,
              "ticks": ""
             }
            },
            "type": "scattermapbox"
           }
          ],
          "scatterpolar": [
           {
            "marker": {
             "colorbar": {
              "outlinewidth": 0,
              "ticks": ""
             }
            },
            "type": "scatterpolar"
           }
          ],
          "scatterpolargl": [
           {
            "marker": {
             "colorbar": {
              "outlinewidth": 0,
              "ticks": ""
             }
            },
            "type": "scatterpolargl"
           }
          ],
          "scatterternary": [
           {
            "marker": {
             "colorbar": {
              "outlinewidth": 0,
              "ticks": ""
             }
            },
            "type": "scatterternary"
           }
          ],
          "surface": [
           {
            "colorbar": {
             "outlinewidth": 0,
             "ticks": ""
            },
            "colorscale": [
             [
              0,
              "#0d0887"
             ],
             [
              0.1111111111111111,
              "#46039f"
             ],
             [
              0.2222222222222222,
              "#7201a8"
             ],
             [
              0.3333333333333333,
              "#9c179e"
             ],
             [
              0.4444444444444444,
              "#bd3786"
             ],
             [
              0.5555555555555556,
              "#d8576b"
             ],
             [
              0.6666666666666666,
              "#ed7953"
             ],
             [
              0.7777777777777778,
              "#fb9f3a"
             ],
             [
              0.8888888888888888,
              "#fdca26"
             ],
             [
              1,
              "#f0f921"
             ]
            ],
            "type": "surface"
           }
          ],
          "table": [
           {
            "cells": {
             "fill": {
              "color": "#EBF0F8"
             },
             "line": {
              "color": "white"
             }
            },
            "header": {
             "fill": {
              "color": "#C8D4E3"
             },
             "line": {
              "color": "white"
             }
            },
            "type": "table"
           }
          ]
         },
         "layout": {
          "annotationdefaults": {
           "arrowcolor": "#2a3f5f",
           "arrowhead": 0,
           "arrowwidth": 1
          },
          "autotypenumbers": "strict",
          "coloraxis": {
           "colorbar": {
            "outlinewidth": 0,
            "ticks": ""
           }
          },
          "colorscale": {
           "diverging": [
            [
             0,
             "#8e0152"
            ],
            [
             0.1,
             "#c51b7d"
            ],
            [
             0.2,
             "#de77ae"
            ],
            [
             0.3,
             "#f1b6da"
            ],
            [
             0.4,
             "#fde0ef"
            ],
            [
             0.5,
             "#f7f7f7"
            ],
            [
             0.6,
             "#e6f5d0"
            ],
            [
             0.7,
             "#b8e186"
            ],
            [
             0.8,
             "#7fbc41"
            ],
            [
             0.9,
             "#4d9221"
            ],
            [
             1,
             "#276419"
            ]
           ],
           "sequential": [
            [
             0,
             "#0d0887"
            ],
            [
             0.1111111111111111,
             "#46039f"
            ],
            [
             0.2222222222222222,
             "#7201a8"
            ],
            [
             0.3333333333333333,
             "#9c179e"
            ],
            [
             0.4444444444444444,
             "#bd3786"
            ],
            [
             0.5555555555555556,
             "#d8576b"
            ],
            [
             0.6666666666666666,
             "#ed7953"
            ],
            [
             0.7777777777777778,
             "#fb9f3a"
            ],
            [
             0.8888888888888888,
             "#fdca26"
            ],
            [
             1,
             "#f0f921"
            ]
           ],
           "sequentialminus": [
            [
             0,
             "#0d0887"
            ],
            [
             0.1111111111111111,
             "#46039f"
            ],
            [
             0.2222222222222222,
             "#7201a8"
            ],
            [
             0.3333333333333333,
             "#9c179e"
            ],
            [
             0.4444444444444444,
             "#bd3786"
            ],
            [
             0.5555555555555556,
             "#d8576b"
            ],
            [
             0.6666666666666666,
             "#ed7953"
            ],
            [
             0.7777777777777778,
             "#fb9f3a"
            ],
            [
             0.8888888888888888,
             "#fdca26"
            ],
            [
             1,
             "#f0f921"
            ]
           ]
          },
          "colorway": [
           "#636efa",
           "#EF553B",
           "#00cc96",
           "#ab63fa",
           "#FFA15A",
           "#19d3f3",
           "#FF6692",
           "#B6E880",
           "#FF97FF",
           "#FECB52"
          ],
          "font": {
           "color": "#2a3f5f"
          },
          "geo": {
           "bgcolor": "white",
           "lakecolor": "white",
           "landcolor": "#E5ECF6",
           "showlakes": true,
           "showland": true,
           "subunitcolor": "white"
          },
          "hoverlabel": {
           "align": "left"
          },
          "hovermode": "closest",
          "mapbox": {
           "style": "light"
          },
          "paper_bgcolor": "white",
          "plot_bgcolor": "#E5ECF6",
          "polar": {
           "angularaxis": {
            "gridcolor": "white",
            "linecolor": "white",
            "ticks": ""
           },
           "bgcolor": "#E5ECF6",
           "radialaxis": {
            "gridcolor": "white",
            "linecolor": "white",
            "ticks": ""
           }
          },
          "scene": {
           "xaxis": {
            "backgroundcolor": "#E5ECF6",
            "gridcolor": "white",
            "gridwidth": 2,
            "linecolor": "white",
            "showbackground": true,
            "ticks": "",
            "zerolinecolor": "white"
           },
           "yaxis": {
            "backgroundcolor": "#E5ECF6",
            "gridcolor": "white",
            "gridwidth": 2,
            "linecolor": "white",
            "showbackground": true,
            "ticks": "",
            "zerolinecolor": "white"
           },
           "zaxis": {
            "backgroundcolor": "#E5ECF6",
            "gridcolor": "white",
            "gridwidth": 2,
            "linecolor": "white",
            "showbackground": true,
            "ticks": "",
            "zerolinecolor": "white"
           }
          },
          "shapedefaults": {
           "line": {
            "color": "#2a3f5f"
           }
          },
          "ternary": {
           "aaxis": {
            "gridcolor": "white",
            "linecolor": "white",
            "ticks": ""
           },
           "baxis": {
            "gridcolor": "white",
            "linecolor": "white",
            "ticks": ""
           },
           "bgcolor": "#E5ECF6",
           "caxis": {
            "gridcolor": "white",
            "linecolor": "white",
            "ticks": ""
           }
          },
          "title": {
           "x": 0.05
          },
          "xaxis": {
           "automargin": true,
           "gridcolor": "white",
           "linecolor": "white",
           "ticks": "",
           "title": {
            "standoff": 15
           },
           "zerolinecolor": "white",
           "zerolinewidth": 2
          },
          "yaxis": {
           "automargin": true,
           "gridcolor": "white",
           "linecolor": "white",
           "ticks": "",
           "title": {
            "standoff": 15
           },
           "zerolinecolor": "white",
           "zerolinewidth": 2
          }
         }
        },
        "title": {
         "font": {
          "color": "black",
          "family": "Overpass",
          "size": 25
         },
         "text": "<b>Experimental Datas Vs Model<b>",
         "x": 0.45,
         "y": 0.9
        },
        "width": 1100,
        "xaxis": {
         "title": {
          "font": {
           "color": "black",
           "family": "Overpass",
           "size": 25
          },
          "standoff": 25,
          "text": "<b>VDS / V<b>"
         }
        },
        "yaxis": {
         "title": {
          "font": {
           "color": "black",
           "family": "Overpass",
           "size": 25
          },
          "standoff": 10,
          "text": "<b>ID / uA<b>"
         },
         "type": "linear"
        }
       }
      }
     },
     "metadata": {},
     "output_type": "display_data"
    },
    {
     "name": "stdout",
     "output_type": "stream",
     "text": [
      "\n",
      "\n",
      "\n",
      "\n",
      "\n",
      "\n",
      "**************************************************************************************************************************************************\n",
      "\n",
      "|RELATIVE ERROR BETWEEN CURVES: 581.7793\n",
      "\n",
      "**************************************************************************************************************************************************\n"
     ]
    }
   ],
   "source": [
    "# @title ##### ***GRAFICS PLOT OPTION:*** { run: \"auto\" }\n",
    "option = 'show both curves' # @param [\"Show Transfer curve\", \"Show output curve\", \"show both curves\"]\n",
    "\n",
    "plot = initialize_graphics_plot(settings['image_size_width'], settings['image_size_height'])\n",
    "model = instance_model(read, TFTModel, n_points, type_curve_plot, load_parameters, input_voltage, Vv, load_idleak, width_t, count_transfer, tp_tst, settings['experimental_data_scale_transfer'], settings['current_typic'], resistance, current)\n",
    "in_model_data, in_exp_data, out_model_data, out_exp_data = load_experimental_data(read, count_transfer, Vv, Id, model, count_output)\n",
    "plot_curves(option, plot, list_tension, list_tension_shift, count_transfer, in_model_data, out_model_data, in_exp_data, out_exp_data, shift_list, settings['select_files'], settings['current_typic'], type_curve_plot)\n",
    "read.compute_relative_distance(Id, model)\n"
   ]
  },
  {
   "cell_type": "markdown",
   "metadata": {
    "id": "vUMiE-AQVQYh"
   },
   "source": [
    "### **Model Optimization** ⚡"
   ]
  },
  {
   "cell_type": "markdown",
   "metadata": {
    "id": "hPKJt-uDVKbe"
   },
   "source": [
    "This optimization section focuses on estimating the optimal parameters for a MOSFET transistor given a sequence of input voltage $V$ [V] and current $I$ [mA], using the mathematical model introduced in section [5]. The goal here is to estimate these optimal parameters using the `curve_fit` function, as also introduced in section [4] (for more details, refer to that section). The parameters in question are listed below:\n",
    "\n",
    "- $V_{tho}$: Gate threshold voltage of the transistor.\n",
    "- $\\Delta$: Channel modulation coefficient.\n",
    "- $N$: Number of transistor channels.\n",
    "- $L$: Channel length of the transistor.\n",
    "- $\\Lambda$: Channel modulation length.\n",
    "- $V_{crit}$: Transistor breakdown voltage.\n",
    "- $J_{th}$: Transistor saturation current.\n",
    "- $R_s$: Transistor series resistance.\n",
    "\n"
   ]
  },
  {
   "cell_type": "code",
   "execution_count": 7,
   "metadata": {
    "cellView": "form",
    "colab": {
     "base_uri": "https://localhost:8080/"
    },
    "executionInfo": {
     "elapsed": 99499,
     "status": "ok",
     "timestamp": 1730290119901,
     "user": {
      "displayName": "Rodrigo Santos Batista",
      "userId": "10844009603124520931"
     },
     "user_tz": 180
    },
    "id": "R3wX-9nPVZLQ",
    "outputId": "880cb966-b46f-4637-be60-39b090dd3952"
   },
   "outputs": [
    {
     "name": "stdout",
     "output_type": "stream",
     "text": [
      "\n",
      "----------------------------------------------------------------------------------------------------\n",
      "TRUST REGION REFLECTIVE (TRF) MODE\n",
      "----------------------------------------------------------------------------------------------------\n",
      "\n",
      "\n",
      "----------------------------------------------------------------------------------------------------\n",
      "Optimization out of bounds.\n",
      "\n",
      "\n"
     ]
    },
    {
     "ename": "ValueError",
     "evalue": "Input must be 1- or 2-d.",
     "output_type": "error",
     "traceback": [
      "\u001b[0;31m---------------------------------------------------------------------------\u001b[0m",
      "\u001b[0;31mValueError\u001b[0m                                Traceback (most recent call last)",
      "Cell \u001b[0;32mIn[7], line 16\u001b[0m\n\u001b[1;32m     11\u001b[0m optimizer \u001b[38;5;241m=\u001b[39m create_optimizer(settings[\u001b[38;5;124m'\u001b[39m\u001b[38;5;124mcurrent_typic\u001b[39m\u001b[38;5;124m'\u001b[39m], settings[\u001b[38;5;124m'\u001b[39m\u001b[38;5;124mexperimental_data_scale_transfer\u001b[39m\u001b[38;5;124m'\u001b[39m], settings[\u001b[38;5;124m'\u001b[39m\u001b[38;5;124mexperimental_data_scale_output\u001b[39m\u001b[38;5;124m'\u001b[39m],\n\u001b[1;32m     12\u001b[0m                              settings[\u001b[38;5;124m'\u001b[39m\u001b[38;5;124mtype_read_data_exp\u001b[39m\u001b[38;5;124m'\u001b[39m], path_voltages, type_curve_plot, settings[\u001b[38;5;124m'\u001b[39m\u001b[38;5;124moptimization_method\u001b[39m\u001b[38;5;124m'\u001b[39m], (lw_bounds, up_bounds))\n\u001b[1;32m     14\u001b[0m configure_optimizer(optimizer, settings[\u001b[38;5;124m'\u001b[39m\u001b[38;5;124mdefault_bounds\u001b[39m\u001b[38;5;124m'\u001b[39m], tlr_factor)\n\u001b[0;32m---> 16\u001b[0m coeff_opt, coeff_error, text_verbose \u001b[38;5;241m=\u001b[39m \u001b[43moptimize_model\u001b[49m\u001b[43m(\u001b[49m\u001b[43moptimizer\u001b[49m\u001b[43m,\u001b[49m\u001b[43m \u001b[49m\u001b[43mmodel_id\u001b[49m\u001b[43m,\u001b[49m\u001b[43m \u001b[49m\u001b[43mload_parameters\u001b[49m\u001b[43m,\u001b[49m\u001b[43m \u001b[49m\u001b[38;5;241;43m*\u001b[39;49m\u001b[43mpath_voltages\u001b[49m\u001b[43m)\u001b[49m\n\u001b[1;32m     18\u001b[0m \u001b[38;5;66;03m# Exibição dos resultados\u001b[39;00m\n\u001b[1;32m     19\u001b[0m \u001b[38;5;28mprint\u001b[39m(\u001b[38;5;124m'\u001b[39m\u001b[38;5;130;01m\\n\u001b[39;00m\u001b[38;5;130;01m\\n\u001b[39;00m\u001b[38;5;130;01m\\n\u001b[39;00m\u001b[38;5;124m'\u001b[39m)\n",
      "File \u001b[0;32m~/Desktop/Artigo JICS/Model_OTFT/modules_otft/_utils.py:229\u001b[0m, in \u001b[0;36moptimize_model\u001b[0;34m(optimizer, model_id, load_parameters, *path_voltages)\u001b[0m\n\u001b[1;32m    227\u001b[0m \u001b[38;5;28;01mdef\u001b[39;00m \u001b[38;5;21moptimize_model\u001b[39m(optimizer, model_id, load_parameters, \u001b[38;5;241m*\u001b[39mpath_voltages):\n\u001b[1;32m    228\u001b[0m \u001b[38;5;250m    \u001b[39m\u001b[38;5;124;03m\"\"\"Performs model optimization.\"\"\"\u001b[39;00m\n\u001b[0;32m--> 229\u001b[0m     coeff_opt, coeff_error, text_verbose \u001b[38;5;241m=\u001b[39m \u001b[43moptimizer\u001b[49m\u001b[38;5;241;43m.\u001b[39;49m\u001b[43moptimize_all\u001b[49m\u001b[43m(\u001b[49m\u001b[43mmodel_id\u001b[49m\u001b[43m,\u001b[49m\u001b[43m \u001b[49m\u001b[43mload_parameters\u001b[49m\u001b[43m,\u001b[49m\u001b[43m \u001b[49m\u001b[38;5;241;43m*\u001b[39;49m\u001b[43mpath_voltages\u001b[49m\u001b[43m)\u001b[49m\n\u001b[1;32m    230\u001b[0m     \u001b[38;5;28;01mreturn\u001b[39;00m coeff_opt, coeff_error, text_verbose\n",
      "File \u001b[0;32m~/Desktop/Artigo JICS/Model_OTFT/modules_otft/_optmization.py:193\u001b[0m, in \u001b[0;36mModelOptmization.optimize_all\u001b[0;34m(self, Model, coeff, *args)\u001b[0m\n\u001b[1;32m    190\u001b[0m         \u001b[38;5;28mprint\u001b[39m()\n\u001b[1;32m    192\u001b[0m \u001b[38;5;66;03m# Calculate error associated with each parameter\u001b[39;00m\n\u001b[0;32m--> 193\u001b[0m error_coeff \u001b[38;5;241m=\u001b[39m np\u001b[38;5;241m.\u001b[39msqrt(\u001b[43mnp\u001b[49m\u001b[38;5;241;43m.\u001b[39;49m\u001b[43mdiag\u001b[49m\u001b[43m(\u001b[49m\u001b[43mmat_covar\u001b[49m\u001b[43m)\u001b[49m)\n\u001b[1;32m    195\u001b[0m \u001b[38;5;28;01mreturn\u001b[39;00m coeff_opt, error_coeff, text_verbose\n",
      "File \u001b[0;32m~/anaconda3/envs/otft-env/lib/python3.10/site-packages/numpy/lib/twodim_base.py:303\u001b[0m, in \u001b[0;36mdiag\u001b[0;34m(v, k)\u001b[0m\n\u001b[1;32m    301\u001b[0m     \u001b[38;5;28;01mreturn\u001b[39;00m diagonal(v, k)\n\u001b[1;32m    302\u001b[0m \u001b[38;5;28;01melse\u001b[39;00m:\n\u001b[0;32m--> 303\u001b[0m     \u001b[38;5;28;01mraise\u001b[39;00m \u001b[38;5;167;01mValueError\u001b[39;00m(\u001b[38;5;124m\"\u001b[39m\u001b[38;5;124mInput must be 1- or 2-d.\u001b[39m\u001b[38;5;124m\"\u001b[39m)\n",
      "\u001b[0;31mValueError\u001b[0m: Input must be 1- or 2-d."
     ]
    }
   ],
   "source": [
    "# @title #### **OPTIMIZING THE MODEL.** { run: \"auto\" }\n",
    "lw_bounds, up_bounds = get_bounds(settings['lower_bounds'], settings['upper_bounds'])\n",
    "tolerance_factor = get_tolerance_factor(settings['tolerance_factor'])\n",
    "tlr_factor = get_tolerance_factor(tolerance_factor)\n",
    "lw_bounds, up_bounds = configure_bounds(settings['default_bounds'], lw_bounds, up_bounds)\n",
    "\n",
    "model_id = create_model_opt(TFTModel, input_voltage, n_points, type_curve_plot, settings['current_typic'],\n",
    "                            settings['experimental_data_scale_transfer'], load_idleak, mode_idleak, count_transfer,\n",
    "                            resistance, current)\n",
    "\n",
    "optimizer = create_optimizer(settings['current_typic'], settings['experimental_data_scale_transfer'], settings['experimental_data_scale_output'],\n",
    "                             settings['type_read_data_exp'], path_voltages, type_curve_plot, settings['optimization_method'], (lw_bounds, up_bounds))\n",
    "\n",
    "configure_optimizer(optimizer, settings['default_bounds'], tlr_factor)\n",
    "\n",
    "coeff_opt, coeff_error, text_verbose = optimize_model(optimizer, model_id, load_parameters, *path_voltages)\n",
    "\n",
    "# Exibição dos resultados\n",
    "print('\\n\\n\\n')\n",
    "print('*' * 200)\n",
    "print(text_verbose.capitalize())\n",
    "print('*' * 200)\n",
    "print('\\n\\n\\n')"
   ]
  },
  {
   "cell_type": "code",
   "execution_count": null,
   "metadata": {
    "cellView": "form",
    "colab": {
     "base_uri": "https://localhost:8080/"
    },
    "executionInfo": {
     "elapsed": 17,
     "status": "ok",
     "timestamp": 1730290119902,
     "user": {
      "displayName": "Rodrigo Santos Batista",
      "userId": "10844009603124520931"
     },
     "user_tz": 180
    },
    "id": "E2sKzh9yw0jJ",
    "outputId": "279448f8-91bb-46e5-eded-b8aaf9c9dbb1"
   },
   "outputs": [
    {
     "name": "stdout",
     "output_type": "stream",
     "text": [
      "\n",
      "---------------------------\n",
      " COEFICIENTES OTIMIZADOS:\n",
      "\n",
      "╒════════════════════╤═════════════════╤═══════════════════╤══════════════════════════════════╕\n",
      "│ Parâmetro          │   Valor Inicial │   Valor Otimizado │   Erro associado (desvio padrão) │\n",
      "╞════════════════════╪═════════════════╪═══════════════════╪══════════════════════════════════╡\n",
      "│ VTHO [V]           │     9           │       8           │                      0.169801    │\n",
      "├────────────────────┼─────────────────┼───────────────────┼──────────────────────────────────┤\n",
      "│ DELTA              │     0.010898    │       2.20854e-28 │                      0.000508665 │\n",
      "├────────────────────┼─────────────────┼───────────────────┼──────────────────────────────────┤\n",
      "│ N                  │    34.773       │      10           │                     66.2703      │\n",
      "├────────────────────┼─────────────────┼───────────────────┼──────────────────────────────────┤\n",
      "│ L                  │     2.5641      │       2.78936     │                      0.0107287   │\n",
      "├────────────────────┼─────────────────┼───────────────────┼──────────────────────────────────┤\n",
      "│ VGCRIT [V]         │    32.3         │      80           │                      0.846872    │\n",
      "├────────────────────┼─────────────────┼───────────────────┼──────────────────────────────────┤\n",
      "│ JTH [μA cm^−1]     │     0.0001      │       0.001       │                      0.453435    │\n",
      "├────────────────────┼─────────────────┼───────────────────┼──────────────────────────────────┤\n",
      "│ RS [kΩ]            │    10           │     100           │                    184.959       │\n",
      "├────────────────────┼─────────────────┼───────────────────┼──────────────────────────────────┤\n",
      "│ JTH / N [μA cm^−1] │     2.87579e-06 │       0.0001      │                      0.00684221  │\n",
      "╘════════════════════╧═════════════════╧═══════════════════╧══════════════════════════════════╛\n",
      "\n",
      "\n",
      "\n",
      "\n"
     ]
    }
   ],
   "source": [
    "# @title #### **SHOW MODEL PARAMETERS OPTIMIZED.** { run: \"auto\" }\n",
    "# @markdown ### **Loading Parameters and Optimizing the Model** ⚡\n",
    "# @markdown > This section is dedicated to visualizing the parameters obtained through optimization. To do this, simply choose any of the options below:\n",
    "# @markdown ##### ***Show the list coefficients optimized:***\n",
    "# @markdown ##### **--> Vtho, delta, n, l, lam, Vgcrit, Jth, Rs**\n",
    "# @markdown ---\n",
    "\n",
    "option = 'Show the table of values opt' # @param [\"Show the coeff values\",\"Show the initial values\", \"Show the table of values opt\", \"coeff opt\", \"coeff error\"]\n",
    "show_model_parameters_optimized(menu, option, load_parameters, coeff_opt, coeff_error, settings['current_typic'], current, resistance)\n"
   ]
  },
  {
   "cell_type": "markdown",
   "metadata": {
    "id": "wtumu9_Lxx4q"
   },
   "source": [
    "### **Comparing** ✅\n",
    "\n",
    "---\n",
    "This section aims to evaluate the model's performance relative to the initial data. Visual observation allows assessing whether the model significantly outperformed the initial coefficients.\n",
    "\n",
    "In this section, simply execute the cells below; no explicit modifications are required.\n",
    "\n",
    "---"
   ]
  },
  {
   "cell_type": "code",
   "execution_count": null,
   "metadata": {
    "cellView": "form",
    "colab": {
     "base_uri": "https://localhost:8080/",
     "height": 1000
    },
    "executionInfo": {
     "elapsed": 367,
     "status": "ok",
     "timestamp": 1730290120254,
     "user": {
      "displayName": "Rodrigo Santos Batista",
      "userId": "10844009603124520931"
     },
     "user_tz": 180
    },
    "id": "gvhAweAZx3eD",
    "outputId": "8cceb938-9438-4010-9ed4-9f0b2efeffa5"
   },
   "outputs": [
    {
     "data": {
      "application/vnd.plotly.v1+json": {
       "config": {
        "plotlyServerURL": "https://plot.ly"
       },
       "data": [
        {
         "line": {
          "color": "rgb(255, 0, 0)",
          "dash": "dash"
         },
         "mode": "lines+text",
         "name": "<b>Model OVSED<b> <b>transfer-40V.csvV<b>",
         "text": [
          "transfer-40V.csvV"
         ],
         "textfont": {
          "color": "rgb(255, 0, 0)",
          "family": "Times New Roman",
          "size": 13
         },
         "textposition": "bottom center",
         "type": "scatter",
         "x": [
          0,
          -1,
          -2,
          -3,
          -4,
          -5,
          -6,
          -7,
          -8,
          -9,
          -10,
          -11,
          -12,
          -13,
          -14,
          -15,
          -16,
          -17,
          -18,
          -19,
          -20,
          -21,
          -22,
          -23,
          -24,
          -25,
          -26,
          -27,
          -28,
          -29,
          -30,
          -31,
          -32,
          -33,
          -34,
          -35,
          -36,
          -37,
          -38,
          -39,
          -40,
          -41,
          -42,
          -43,
          -44,
          -45,
          -46,
          -47,
          -48,
          -49,
          -50,
          -51,
          -52,
          -53,
          -54,
          -55,
          -56,
          -57,
          -58,
          -59,
          -60,
          -61,
          -62,
          -63,
          -64,
          -65,
          -66,
          -67,
          -68,
          -69,
          -70,
          -71,
          -72,
          -73,
          -74,
          -75,
          -76,
          -77,
          -78,
          -79,
          -80
         ],
         "y": [
          2.0000000000000248e-11,
          2.0000000000004584e-11,
          2.0000000000081644e-11,
          2.0000000001456935e-11,
          2.0000000026516443e-11,
          2.0000000509043923e-11,
          2.0000011069614307e-11,
          2.0000293773042488e-11,
          2.0008505195986863e-11,
          2.01879786133033e-11,
          2.229558397596736e-11,
          3.4203107864021136e-11,
          7.14258487492206e-11,
          1.5128569994801832e-10,
          2.891377293072272e-10,
          4.985095543340217e-10,
          7.918403324221882e-10,
          1.1808666514253108e-9,
          1.6767818551916472e-9,
          2.2903136666443757e-9,
          3.031776815216619e-9,
          3.911116530189787e-9,
          4.937946322103312e-9,
          6.121580771897683e-9,
          7.471063793674254e-9,
          8.99519293813009e-9,
          1.070254033684382e-8,
          1.260147084110541e-8,
          1.470015782859057e-8,
          1.700659706755876e-8,
          1.9528618954481472e-8,
          2.227389938035033e-8,
          2.5249969432531264e-8,
          2.846422410083841e-8,
          3.192393012637081e-8,
          3.563623310777078e-8,
          3.960816396050206e-8,
          4.384664480941875e-8,
          4.835849438246807e-8,
          5.315043296322617e-8,
          5.822908695161429e-8,
          6.360099307523564e-8,
          6.927260228800408e-8,
          7.525028338791341e-8,
          8.154032638171609e-8,
          8.81489456208313e-8,
          9.508228272986497e-8,
          1.0234640934660237e-7,
          1.0994732969018145e-7,
          1.1789098297227616e-7,
          1.2618324566451667e-7,
          1.3482993363395998e-7,
          1.4383680415719597e-7,
          1.5320955782260747e-7,
          1.6295384032935486e-7,
          1.7307524419082092e-7,
          1.8357931034953007e-7,
          1.9447152970988612e-7,
          2.0575734459451608e-7,
          2.1744215012947712e-7,
          2.295312955631255e-7,
          2.4203008552305e-7,
          2.5494378121507764e-7,
          2.682776015680564e-7,
          2.8203672432779543e-7,
          2.9622628710329406e-7,
          3.1085138836813403e-7,
          3.2591708841969526e-7,
          3.4142841029864567e-7,
          3.5739034067099945e-7,
          3.7380783067482824e-7,
          3.906857967336068e-7,
          4.080291213379968e-7,
          4.258426537977811e-7,
          4.441312109655034e-7,
          4.6289957793330976e-7,
          4.821525087043528e-7,
          5.018947268400441e-7,
          5.221309260843671e-7,
          5.428657709663604e-7,
          5.641038973818524e-7
         ]
        },
        {
         "line": {
          "color": "black",
          "dash": "solid"
         },
         "mode": "lines+text",
         "name": "<b>Model OPT<b> <b>transfer-40V.csvV<b>",
         "text": [
          "transfer-40V.csvV"
         ],
         "textfont": {
          "color": "black",
          "family": "Times New Roman",
          "size": 13
         },
         "textposition": "bottom center",
         "type": "scatter",
         "x": [
          0,
          -1,
          -2,
          -3,
          -4,
          -5,
          -6,
          -7,
          -8,
          -9,
          -10,
          -11,
          -12,
          -13,
          -14,
          -15,
          -16,
          -17,
          -18,
          -19,
          -20,
          -21,
          -22,
          -23,
          -24,
          -25,
          -26,
          -27,
          -28,
          -29,
          -30,
          -31,
          -32,
          -33,
          -34,
          -35,
          -36,
          -37,
          -38,
          -39,
          -40,
          -41,
          -42,
          -43,
          -44,
          -45,
          -46,
          -47,
          -48,
          -49,
          -50,
          -51,
          -52,
          -53,
          -54,
          -55,
          -56,
          -57,
          -58,
          -59,
          -60,
          -61,
          -62,
          -63,
          -64,
          -65,
          -66,
          -67,
          -68,
          -69,
          -70,
          -71,
          -72,
          -73,
          -74,
          -75,
          -76,
          -77,
          -78,
          -79,
          -80
         ],
         "y": [
          2.0000000000000002e-11,
          2.0000000000000002e-11,
          2.0000000000000002e-11,
          2.0000000000000002e-11,
          2.0000000000000002e-11,
          2.0000000000000002e-11,
          2.0000000000228562e-11,
          2.0000013114603072e-11,
          2.1379119855400574e-11,
          6.806548162804719e-10,
          7.120700984085012e-9,
          2.785875521090372e-8,
          7.222345945827474e-8,
          1.4977922339612398e-7,
          2.70105936496686e-7,
          4.4270523995842753e-7,
          6.769551886679927e-7,
          9.820863048258452e-7,
          0.0000013671681238799164,
          0.0000018411012258832704,
          0.000002412612264559306,
          0.0000030902506876967895,
          0.000003882386434623605,
          0.000004797208209603964,
          0.000005842722103072235,
          0.000007026750431779507,
          0.000008356930727240538,
          0.000009840714836617775,
          0.00001148536812082049,
          0.000013297968746537102,
          0.00001528540707538641,
          0.000017454385156375112,
          0.00001981141632866793,
          0.00002236282494115679,
          0.000025114746194015344,
          0.000028073126105715955,
          0.00003124372160710708,
          0.00003463210076226478,
          0.00003824364311402865,
          0.000042083540150471656,
          0.00004615679588705983,
          0.00005046822755793918,
          0.000055022466408641936,
          0.000059823958581519635,
          0.00006487696608437299,
          0.00007018556783204483,
          0.00007575366075014556,
          0.00008158496092959109,
          0.00008768300482021615,
          0.00009405115045138322,
          0.00010069257866721991,
          0.00010761029436386974,
          0.00011480712771593124,
          0.00012228573537907526,
          0.00013004860165565996,
          0.00013809803961000692,
          0.00014643619211984033,
          0.00015506503285024338,
          0.00016398636713631205,
          0.00017320183276051896,
          0.0001827129006106005,
          0.00019252087520357352,
          0.00020262689506124246,
          0.00021303193292230045,
          0.00022373679577581874,
          0.00023474212470059037,
          0.00024604839449441106,
          0.00025765591307696324,
          0.00026956482064949527,
          0.00028177508859396436,
          0.00029428651809373615,
          0.0003070987384572808,
          0.0003202112051256164,
          0.00033362319734345496,
          0.0003473338154731764,
          0.0003613419779298217,
          0.00037564641771430454,
          0.000390245678520957,
          0.000405138110394375,
          0.0004203218649092943,
          0.000435794889845929
         ]
        },
        {
         "marker": {
          "color": "rgb(255, 0, 0)",
          "line": {
           "color": "MediumPurple",
           "width": 0.8
          },
          "opacity": 0.5,
          "size": 11
         },
         "mode": "markers+text",
         "name": "<b>Exp <b> <b>-40V<b>",
         "text": [
          "<b>VDS<b>=transfer-40V.csvV"
         ],
         "textfont": {
          "color": "rgb(255, 0, 0)",
          "family": "Times New Roman",
          "size": 18
         },
         "textposition": "top right",
         "type": "scatter",
         "x": [
          0,
          -1,
          -2,
          -3,
          -4,
          -5,
          -6,
          -7,
          -8,
          -9,
          -10,
          -11,
          -12,
          -13,
          -14,
          -15,
          -16,
          -17,
          -18,
          -19,
          -20,
          -21,
          -22,
          -23,
          -24,
          -25,
          -26,
          -27,
          -28,
          -29,
          -30,
          -31,
          -32,
          -33,
          -34,
          -35,
          -36,
          -37,
          -38,
          -39,
          -40,
          -41,
          -42,
          -43,
          -44,
          -45,
          -46,
          -47,
          -48,
          -49,
          -50,
          -51,
          -52,
          -53,
          -54,
          -55,
          -56,
          -57,
          -58,
          -59,
          -60,
          -61,
          -62,
          -63,
          -64,
          -65,
          -66,
          -67,
          -68,
          -69,
          -70,
          -71,
          -72,
          -73,
          -74,
          -75,
          -76,
          -77,
          -78,
          -79,
          -80
         ],
         "y": [
          1.3990000000000026e-11,
          5.865000000000006e-11,
          1.0756000000000017e-10,
          2.9640000000000026e-11,
          2.1740000000000014e-11,
          2.7479999999999985e-11,
          1.3709999999999983e-11,
          6.235000000000001e-11,
          2.9230000000000025e-11,
          6.037000000000008e-11,
          1.0541100000000012e-9,
          1.0630199999999997e-8,
          5.0417599999999974e-8,
          1.4677200000000012e-7,
          3.4166599999999964e-7,
          6.505059999999998e-7,
          0.0000011046980000000004,
          0.000001676469999999999,
          0.0000024355899999999993,
          0.0000034020399999999988,
          0.000004578069999999996,
          0.000005967800000000002,
          0.0000075919300000000005,
          0.000009455430000000008,
          0.000011526399999999997,
          0.000013909000000000002,
          0.000016555600000000008,
          0.000019467199999999995,
          0.000022652400000000017,
          0.000026064400000000024,
          0.000029744000000000002,
          0.0000336538,
          0.00003780119999999999,
          0.00004216199999999996,
          0.00004676600000000003,
          0.00005155320000000002,
          0.00005656820000000001,
          0.00006177579999999999,
          0.00006717279999999999,
          0.0000726222,
          0.00007852180000000003,
          0.00008461719999999997,
          0.00009087000000000006,
          0.00009729779999999991,
          0.00010393699999999996,
          0.00011072180000000003,
          0.00011705,
          0.00012419199999999997,
          0.00013149399999999998,
          0.00013888800000000004,
          0.00014643600000000006,
          0.00015406599999999998,
          0.00016182200000000005,
          0.00016966000000000003,
          0.00017754400000000007,
          0.00018549600000000005,
          0.00019346599999999994,
          0.00020151399999999994,
          0.000209568,
          0.00021757800000000012,
          0.00022560800000000003,
          0.0002335419999999999,
          0.00024146599999999991,
          0.00024934800000000004,
          0.00025720399999999997,
          0.00026495599999999995,
          0.000272654,
          0.0002802280000000001,
          0.000287732,
          0.00029509599999999995,
          0.00030238800000000006,
          0.00030951999999999987,
          0.0003165360000000002,
          0.0003234600000000002,
          0.0003301600000000002,
          0.0003368399999999998,
          0.0003433440000000001,
          0.00034973999999999997,
          0.0003559659999999999,
          0.0003620419999999998,
          0.00036789799999999997
         ]
        }
       ],
       "layout": {
        "height": 600,
        "legend": {
         "font": {
          "size": 16
         }
        },
        "template": {
         "data": {
          "bar": [
           {
            "error_x": {
             "color": "#2a3f5f"
            },
            "error_y": {
             "color": "#2a3f5f"
            },
            "marker": {
             "line": {
              "color": "#E5ECF6",
              "width": 0.5
             },
             "pattern": {
              "fillmode": "overlay",
              "size": 10,
              "solidity": 0.2
             }
            },
            "type": "bar"
           }
          ],
          "barpolar": [
           {
            "marker": {
             "line": {
              "color": "#E5ECF6",
              "width": 0.5
             },
             "pattern": {
              "fillmode": "overlay",
              "size": 10,
              "solidity": 0.2
             }
            },
            "type": "barpolar"
           }
          ],
          "carpet": [
           {
            "aaxis": {
             "endlinecolor": "#2a3f5f",
             "gridcolor": "white",
             "linecolor": "white",
             "minorgridcolor": "white",
             "startlinecolor": "#2a3f5f"
            },
            "baxis": {
             "endlinecolor": "#2a3f5f",
             "gridcolor": "white",
             "linecolor": "white",
             "minorgridcolor": "white",
             "startlinecolor": "#2a3f5f"
            },
            "type": "carpet"
           }
          ],
          "choropleth": [
           {
            "colorbar": {
             "outlinewidth": 0,
             "ticks": ""
            },
            "type": "choropleth"
           }
          ],
          "contour": [
           {
            "colorbar": {
             "outlinewidth": 0,
             "ticks": ""
            },
            "colorscale": [
             [
              0,
              "#0d0887"
             ],
             [
              0.1111111111111111,
              "#46039f"
             ],
             [
              0.2222222222222222,
              "#7201a8"
             ],
             [
              0.3333333333333333,
              "#9c179e"
             ],
             [
              0.4444444444444444,
              "#bd3786"
             ],
             [
              0.5555555555555556,
              "#d8576b"
             ],
             [
              0.6666666666666666,
              "#ed7953"
             ],
             [
              0.7777777777777778,
              "#fb9f3a"
             ],
             [
              0.8888888888888888,
              "#fdca26"
             ],
             [
              1,
              "#f0f921"
             ]
            ],
            "type": "contour"
           }
          ],
          "contourcarpet": [
           {
            "colorbar": {
             "outlinewidth": 0,
             "ticks": ""
            },
            "type": "contourcarpet"
           }
          ],
          "heatmap": [
           {
            "colorbar": {
             "outlinewidth": 0,
             "ticks": ""
            },
            "colorscale": [
             [
              0,
              "#0d0887"
             ],
             [
              0.1111111111111111,
              "#46039f"
             ],
             [
              0.2222222222222222,
              "#7201a8"
             ],
             [
              0.3333333333333333,
              "#9c179e"
             ],
             [
              0.4444444444444444,
              "#bd3786"
             ],
             [
              0.5555555555555556,
              "#d8576b"
             ],
             [
              0.6666666666666666,
              "#ed7953"
             ],
             [
              0.7777777777777778,
              "#fb9f3a"
             ],
             [
              0.8888888888888888,
              "#fdca26"
             ],
             [
              1,
              "#f0f921"
             ]
            ],
            "type": "heatmap"
           }
          ],
          "heatmapgl": [
           {
            "colorbar": {
             "outlinewidth": 0,
             "ticks": ""
            },
            "colorscale": [
             [
              0,
              "#0d0887"
             ],
             [
              0.1111111111111111,
              "#46039f"
             ],
             [
              0.2222222222222222,
              "#7201a8"
             ],
             [
              0.3333333333333333,
              "#9c179e"
             ],
             [
              0.4444444444444444,
              "#bd3786"
             ],
             [
              0.5555555555555556,
              "#d8576b"
             ],
             [
              0.6666666666666666,
              "#ed7953"
             ],
             [
              0.7777777777777778,
              "#fb9f3a"
             ],
             [
              0.8888888888888888,
              "#fdca26"
             ],
             [
              1,
              "#f0f921"
             ]
            ],
            "type": "heatmapgl"
           }
          ],
          "histogram": [
           {
            "marker": {
             "pattern": {
              "fillmode": "overlay",
              "size": 10,
              "solidity": 0.2
             }
            },
            "type": "histogram"
           }
          ],
          "histogram2d": [
           {
            "colorbar": {
             "outlinewidth": 0,
             "ticks": ""
            },
            "colorscale": [
             [
              0,
              "#0d0887"
             ],
             [
              0.1111111111111111,
              "#46039f"
             ],
             [
              0.2222222222222222,
              "#7201a8"
             ],
             [
              0.3333333333333333,
              "#9c179e"
             ],
             [
              0.4444444444444444,
              "#bd3786"
             ],
             [
              0.5555555555555556,
              "#d8576b"
             ],
             [
              0.6666666666666666,
              "#ed7953"
             ],
             [
              0.7777777777777778,
              "#fb9f3a"
             ],
             [
              0.8888888888888888,
              "#fdca26"
             ],
             [
              1,
              "#f0f921"
             ]
            ],
            "type": "histogram2d"
           }
          ],
          "histogram2dcontour": [
           {
            "colorbar": {
             "outlinewidth": 0,
             "ticks": ""
            },
            "colorscale": [
             [
              0,
              "#0d0887"
             ],
             [
              0.1111111111111111,
              "#46039f"
             ],
             [
              0.2222222222222222,
              "#7201a8"
             ],
             [
              0.3333333333333333,
              "#9c179e"
             ],
             [
              0.4444444444444444,
              "#bd3786"
             ],
             [
              0.5555555555555556,
              "#d8576b"
             ],
             [
              0.6666666666666666,
              "#ed7953"
             ],
             [
              0.7777777777777778,
              "#fb9f3a"
             ],
             [
              0.8888888888888888,
              "#fdca26"
             ],
             [
              1,
              "#f0f921"
             ]
            ],
            "type": "histogram2dcontour"
           }
          ],
          "mesh3d": [
           {
            "colorbar": {
             "outlinewidth": 0,
             "ticks": ""
            },
            "type": "mesh3d"
           }
          ],
          "parcoords": [
           {
            "line": {
             "colorbar": {
              "outlinewidth": 0,
              "ticks": ""
             }
            },
            "type": "parcoords"
           }
          ],
          "pie": [
           {
            "automargin": true,
            "type": "pie"
           }
          ],
          "scatter": [
           {
            "fillpattern": {
             "fillmode": "overlay",
             "size": 10,
             "solidity": 0.2
            },
            "type": "scatter"
           }
          ],
          "scatter3d": [
           {
            "line": {
             "colorbar": {
              "outlinewidth": 0,
              "ticks": ""
             }
            },
            "marker": {
             "colorbar": {
              "outlinewidth": 0,
              "ticks": ""
             }
            },
            "type": "scatter3d"
           }
          ],
          "scattercarpet": [
           {
            "marker": {
             "colorbar": {
              "outlinewidth": 0,
              "ticks": ""
             }
            },
            "type": "scattercarpet"
           }
          ],
          "scattergeo": [
           {
            "marker": {
             "colorbar": {
              "outlinewidth": 0,
              "ticks": ""
             }
            },
            "type": "scattergeo"
           }
          ],
          "scattergl": [
           {
            "marker": {
             "colorbar": {
              "outlinewidth": 0,
              "ticks": ""
             }
            },
            "type": "scattergl"
           }
          ],
          "scattermapbox": [
           {
            "marker": {
             "colorbar": {
              "outlinewidth": 0,
              "ticks": ""
             }
            },
            "type": "scattermapbox"
           }
          ],
          "scatterpolar": [
           {
            "marker": {
             "colorbar": {
              "outlinewidth": 0,
              "ticks": ""
             }
            },
            "type": "scatterpolar"
           }
          ],
          "scatterpolargl": [
           {
            "marker": {
             "colorbar": {
              "outlinewidth": 0,
              "ticks": ""
             }
            },
            "type": "scatterpolargl"
           }
          ],
          "scatterternary": [
           {
            "marker": {
             "colorbar": {
              "outlinewidth": 0,
              "ticks": ""
             }
            },
            "type": "scatterternary"
           }
          ],
          "surface": [
           {
            "colorbar": {
             "outlinewidth": 0,
             "ticks": ""
            },
            "colorscale": [
             [
              0,
              "#0d0887"
             ],
             [
              0.1111111111111111,
              "#46039f"
             ],
             [
              0.2222222222222222,
              "#7201a8"
             ],
             [
              0.3333333333333333,
              "#9c179e"
             ],
             [
              0.4444444444444444,
              "#bd3786"
             ],
             [
              0.5555555555555556,
              "#d8576b"
             ],
             [
              0.6666666666666666,
              "#ed7953"
             ],
             [
              0.7777777777777778,
              "#fb9f3a"
             ],
             [
              0.8888888888888888,
              "#fdca26"
             ],
             [
              1,
              "#f0f921"
             ]
            ],
            "type": "surface"
           }
          ],
          "table": [
           {
            "cells": {
             "fill": {
              "color": "#EBF0F8"
             },
             "line": {
              "color": "white"
             }
            },
            "header": {
             "fill": {
              "color": "#C8D4E3"
             },
             "line": {
              "color": "white"
             }
            },
            "type": "table"
           }
          ]
         },
         "layout": {
          "annotationdefaults": {
           "arrowcolor": "#2a3f5f",
           "arrowhead": 0,
           "arrowwidth": 1
          },
          "autotypenumbers": "strict",
          "coloraxis": {
           "colorbar": {
            "outlinewidth": 0,
            "ticks": ""
           }
          },
          "colorscale": {
           "diverging": [
            [
             0,
             "#8e0152"
            ],
            [
             0.1,
             "#c51b7d"
            ],
            [
             0.2,
             "#de77ae"
            ],
            [
             0.3,
             "#f1b6da"
            ],
            [
             0.4,
             "#fde0ef"
            ],
            [
             0.5,
             "#f7f7f7"
            ],
            [
             0.6,
             "#e6f5d0"
            ],
            [
             0.7,
             "#b8e186"
            ],
            [
             0.8,
             "#7fbc41"
            ],
            [
             0.9,
             "#4d9221"
            ],
            [
             1,
             "#276419"
            ]
           ],
           "sequential": [
            [
             0,
             "#0d0887"
            ],
            [
             0.1111111111111111,
             "#46039f"
            ],
            [
             0.2222222222222222,
             "#7201a8"
            ],
            [
             0.3333333333333333,
             "#9c179e"
            ],
            [
             0.4444444444444444,
             "#bd3786"
            ],
            [
             0.5555555555555556,
             "#d8576b"
            ],
            [
             0.6666666666666666,
             "#ed7953"
            ],
            [
             0.7777777777777778,
             "#fb9f3a"
            ],
            [
             0.8888888888888888,
             "#fdca26"
            ],
            [
             1,
             "#f0f921"
            ]
           ],
           "sequentialminus": [
            [
             0,
             "#0d0887"
            ],
            [
             0.1111111111111111,
             "#46039f"
            ],
            [
             0.2222222222222222,
             "#7201a8"
            ],
            [
             0.3333333333333333,
             "#9c179e"
            ],
            [
             0.4444444444444444,
             "#bd3786"
            ],
            [
             0.5555555555555556,
             "#d8576b"
            ],
            [
             0.6666666666666666,
             "#ed7953"
            ],
            [
             0.7777777777777778,
             "#fb9f3a"
            ],
            [
             0.8888888888888888,
             "#fdca26"
            ],
            [
             1,
             "#f0f921"
            ]
           ]
          },
          "colorway": [
           "#636efa",
           "#EF553B",
           "#00cc96",
           "#ab63fa",
           "#FFA15A",
           "#19d3f3",
           "#FF6692",
           "#B6E880",
           "#FF97FF",
           "#FECB52"
          ],
          "font": {
           "color": "#2a3f5f"
          },
          "geo": {
           "bgcolor": "white",
           "lakecolor": "white",
           "landcolor": "#E5ECF6",
           "showlakes": true,
           "showland": true,
           "subunitcolor": "white"
          },
          "hoverlabel": {
           "align": "left"
          },
          "hovermode": "closest",
          "mapbox": {
           "style": "light"
          },
          "paper_bgcolor": "white",
          "plot_bgcolor": "#E5ECF6",
          "polar": {
           "angularaxis": {
            "gridcolor": "white",
            "linecolor": "white",
            "ticks": ""
           },
           "bgcolor": "#E5ECF6",
           "radialaxis": {
            "gridcolor": "white",
            "linecolor": "white",
            "ticks": ""
           }
          },
          "scene": {
           "xaxis": {
            "backgroundcolor": "#E5ECF6",
            "gridcolor": "white",
            "gridwidth": 2,
            "linecolor": "white",
            "showbackground": true,
            "ticks": "",
            "zerolinecolor": "white"
           },
           "yaxis": {
            "backgroundcolor": "#E5ECF6",
            "gridcolor": "white",
            "gridwidth": 2,
            "linecolor": "white",
            "showbackground": true,
            "ticks": "",
            "zerolinecolor": "white"
           },
           "zaxis": {
            "backgroundcolor": "#E5ECF6",
            "gridcolor": "white",
            "gridwidth": 2,
            "linecolor": "white",
            "showbackground": true,
            "ticks": "",
            "zerolinecolor": "white"
           }
          },
          "shapedefaults": {
           "line": {
            "color": "#2a3f5f"
           }
          },
          "ternary": {
           "aaxis": {
            "gridcolor": "white",
            "linecolor": "white",
            "ticks": ""
           },
           "baxis": {
            "gridcolor": "white",
            "linecolor": "white",
            "ticks": ""
           },
           "bgcolor": "#E5ECF6",
           "caxis": {
            "gridcolor": "white",
            "linecolor": "white",
            "ticks": ""
           }
          },
          "title": {
           "x": 0.05
          },
          "xaxis": {
           "automargin": true,
           "gridcolor": "white",
           "linecolor": "white",
           "ticks": "",
           "title": {
            "standoff": 15
           },
           "zerolinecolor": "white",
           "zerolinewidth": 2
          },
          "yaxis": {
           "automargin": true,
           "gridcolor": "white",
           "linecolor": "white",
           "ticks": "",
           "title": {
            "standoff": 15
           },
           "zerolinecolor": "white",
           "zerolinewidth": 2
          }
         }
        },
        "title": {
         "font": {
          "color": "black",
          "family": "Overpass",
          "size": 25
         },
         "text": "<b>Model Vs Model Optimized (OPT)<b>",
         "x": 0.45,
         "y": 0.9
        },
        "width": 1100,
        "xaxis": {
         "title": {
          "font": {
           "color": "black",
           "family": "Overpass",
           "size": 25
          },
          "standoff": 25,
          "text": "<b>VGS / V<b>"
         }
        },
        "yaxis": {
         "title": {
          "font": {
           "color": "black",
           "family": "Overpass",
           "size": 25
          },
          "standoff": 10,
          "text": "<b>|ID| / A<b>"
         },
         "type": "log"
        }
       }
      }
     },
     "metadata": {},
     "output_type": "display_data"
    },
    {
     "name": "stdout",
     "output_type": "stream",
     "text": [
      "\n"
     ]
    },
    {
     "data": {
      "application/vnd.plotly.v1+json": {
       "config": {
        "plotlyServerURL": "https://plot.ly"
       },
       "data": [
        {
         "line": {
          "color": "rgb(255, 0, 0)",
          "dash": "dash"
         },
         "mode": "lines+text",
         "name": "<b>Model OVSED<b> <b>output-20V.csvV<b>",
         "text": [
          "output-20V.csvV"
         ],
         "textfont": {
          "color": "rgb(255, 0, 0)",
          "family": "Times New Roman",
          "size": 13
         },
         "textposition": "bottom center",
         "type": "scatter",
         "x": [
          0,
          -1,
          -2,
          -3,
          -4,
          -5,
          -6,
          -7,
          -8,
          -9,
          -10,
          -11,
          -12,
          -13,
          -14,
          -15,
          -16,
          -17,
          -18,
          -19,
          -20,
          -21,
          -22,
          -23,
          -24,
          -25,
          -26,
          -27,
          -28,
          -29,
          -30,
          -31,
          -32,
          -33,
          -34,
          -35,
          -36,
          -37,
          -38,
          -39,
          -40,
          -41,
          -42,
          -43,
          -44,
          -45,
          -46,
          -47,
          -48,
          -49,
          -50,
          -51,
          -52,
          -53,
          -54,
          -55,
          -56,
          -57,
          -58,
          -59,
          -60,
          -61,
          -62,
          -63,
          -64,
          -65,
          -66,
          -67,
          -68,
          -69,
          -70,
          -71,
          -72,
          -73,
          -74,
          -75,
          -76,
          -77,
          -78,
          -79,
          -80
         ],
         "y": [
          -0.000019999999999999998,
          -0.0021509754129306565,
          -0.002880341036392494,
          -0.003168301261050088,
          -0.003280951050065649,
          -0.0033204027208783527,
          -0.003329895025918784,
          -0.0033275978679178893,
          -0.0033208336526237264,
          -0.0033124298937392306,
          -0.003303442732646135,
          -0.00329425762623121,
          -0.0032850131033667182,
          -0.003275758447426205,
          -0.003266511070837502,
          -0.0032572770928553764,
          -0.0032480586518452343,
          -0.003238856487949896,
          -0.003229670851510656,
          -0.0032205018216457707,
          -0.003211349417720636,
          -0.0032022136382786597,
          -0.0031930944746158623,
          -0.0031839919155072158,
          -0.003174905948849935,
          -0.003165836562234066,
          -0.003156783743140357,
          -0.003147747479008773,
          -0.003138727757262182,
          -0.0031297245653145616,
          -0.0031207378905737894,
          -0.0031117677204426306,
          -0.0031028140423190655,
          -0.0030938768435963913,
          -0.003084956111663252,
          -0.0030760518339036716,
          -0.0030671639976970243,
          -0.00305829259041805,
          -0.0030494375994368343,
          -0.003040599012118818,
          -0.0030317768158247905,
          -0.0030229709979108657,
          -0.0030141815457284974,
          -0.0030054084466244716,
          -0.0029966516879408904,
          -0.0029879112570151698,
          -0.002979187141180042,
          -0.00297047932776354,
          -0.002961787804089008,
          -0.0029531125574750673,
          -0.0029444535752356457,
          -0.00293581084467994,
          -0.0029271843531124375,
          -0.0029185740878328887,
          -0.002909980036136319,
          -0.0029014021853130114,
          -0.002892840522648505,
          -0.002884295035423594,
          -0.002875765710914304,
          -0.0028672525363919216,
          -0.0028587554991229523,
          -0.002850274586369132,
          -0.002841809785387427,
          -0.0028333610834300063,
          -0.002824928467744268,
          -0.0028165119255728036,
          -0.0028081114441534157,
          -0.002799727010719089,
          -0.002791358612498009,
          -0.0027830062367135405,
          -0.002774669870584225,
          -0.0027663495013237793,
          -0.0027580451161410813,
          -0.00274975670224018,
          -0.0027414842468202706,
          -0.0027332277370757034,
          -0.002724987160195967,
          -0.0027167625033656987,
          -0.0027085537537646577,
          -0.002700360898567735,
          -0.002692183924944942
         ]
        },
        {
         "line": {
          "color": "rgb(0, 0, 255)",
          "dash": "dash"
         },
         "mode": "lines+text",
         "name": "<b>Model OVSED<b> <b>output-40V.csvV<b>",
         "text": [
          "output-40V.csvV"
         ],
         "textfont": {
          "color": "rgb(0, 0, 255)",
          "family": "Times New Roman",
          "size": 13
         },
         "textposition": "bottom center",
         "type": "scatter",
         "x": [
          0,
          -1,
          -2,
          -3,
          -4,
          -5,
          -6,
          -7,
          -8,
          -9,
          -10,
          -11,
          -12,
          -13,
          -14,
          -15,
          -16,
          -17,
          -18,
          -19,
          -20,
          -21,
          -22,
          -23,
          -24,
          -25,
          -26,
          -27,
          -28,
          -29,
          -30,
          -31,
          -32,
          -33,
          -34,
          -35,
          -36,
          -37,
          -38,
          -39,
          -40,
          -41,
          -42,
          -43,
          -44,
          -45,
          -46,
          -47,
          -48,
          -49,
          -50,
          -51,
          -52,
          -53,
          -54,
          -55,
          -56,
          -57,
          -58,
          -59,
          -60,
          -61,
          -62,
          -63,
          -64,
          -65,
          -66,
          -67,
          -68,
          -69,
          -70,
          -71,
          -72,
          -73,
          -74,
          -75,
          -76,
          -77,
          -78,
          -79,
          -80
         ],
         "y": [
          -0.000019999999999999998,
          -0.029314212015824397,
          -0.04112078875672182,
          -0.04705776735890418,
          -0.05034208119619142,
          -0.05223391619682841,
          -0.053334528829614224,
          -0.05396779042900388,
          -0.054320951871281956,
          -0.05450613445375966,
          -0.05459124642739712,
          -0.05461732215459982,
          -0.054608931994668694,
          -0.05458061902520864,
          -0.05454089218934352,
          -0.05449467830850039,
          -0.054444804934807946,
          -0.054392883086734525,
          -0.05433982532769604,
          -0.05428614620910043,
          -0.05423213481844393,
          -0.05417795311518702,
          -0.05412369163597652,
          -0.054069400903199796,
          -0.05401510907027537,
          -0.05396083180707519,
          -0.05390657782604589,
          -0.05385235196619409,
          -0.053798156911895614,
          -0.05374399414983811,
          -0.05368986450134317,
          -0.05363576841827792,
          -0.05358170614745276,
          -0.053527677821910126,
          -0.0534736835115943,
          -0.053419723251464955,
          -0.05336579705709035,
          -0.05331190493329298,
          -0.05325804687894221,
          -0.05320422288960997,
          -0.05315043295904174,
          -0.05309667707997176,
          -0.05304295524457384,
          -0.05298926744471126,
          -0.05293561367207503,
          -0.05288199391826025,
          -0.05282840817480848,
          -0.052774856433231154,
          -0.05272133868502236,
          -0.05266785492166616,
          -0.05261440513464049,
          -0.05256098931541931,
          -0.05250760745547381,
          -0.05245425954627319,
          -0.05240094557928472,
          -0.05234766554597434,
          -0.05229441943780648,
          -0.052241207246244245,
          -0.05218802896274944,
          -0.05213488457878255,
          -0.05208177408580281,
          -0.052028697475268094,
          -0.05197565473863509,
          -0.05192264586735908,
          -0.05186967085289427,
          -0.05181672968669336,
          -0.05176382236020793,
          -0.05171094886488824,
          -0.0516581091921832,
          -0.0516053033335405,
          -0.051552531280406634,
          -0.05149979302422657,
          -0.05144708855644424,
          -0.051394417868502205,
          -0.05134178095184173,
          -0.0512891777979027,
          -0.05123660839812394,
          -0.051184072743942766,
          -0.05113157082679543,
          -0.051079102638116596,
          -0.051026668169339984
         ]
        },
        {
         "line": {
          "color": "rgb(30, 144, 255)",
          "dash": "dash"
         },
         "mode": "lines+text",
         "name": "<b>Model OVSED<b> <b>output-60V.csvV<b>",
         "text": [
          "output-60V.csvV"
         ],
         "textfont": {
          "color": "rgb(30, 144, 255)",
          "family": "Times New Roman",
          "size": 13
         },
         "textposition": "bottom center",
         "type": "scatter",
         "x": [
          0,
          -1,
          -2,
          -3,
          -4,
          -5,
          -6,
          -7,
          -8,
          -9,
          -10,
          -11,
          -12,
          -13,
          -14,
          -15,
          -16,
          -17,
          -18,
          -19,
          -20,
          -21,
          -22,
          -23,
          -24,
          -25,
          -26,
          -27,
          -28,
          -29,
          -30,
          -31,
          -32,
          -33,
          -34,
          -35,
          -36,
          -37,
          -38,
          -39,
          -40,
          -41,
          -42,
          -43,
          -44,
          -45,
          -46,
          -47,
          -48,
          -49,
          -50,
          -51,
          -52,
          -53,
          -54,
          -55,
          -56,
          -57,
          -58,
          -59,
          -60,
          -61,
          -62,
          -63,
          -64,
          -65,
          -66,
          -67,
          -68,
          -69,
          -70,
          -71,
          -72,
          -73,
          -74,
          -75,
          -76,
          -77,
          -78,
          -79,
          -80
         ],
         "y": [
          -0.000019999999999999998,
          -0.10437034391544726,
          -0.14808928436320212,
          -0.17116090991248772,
          -0.18477043446693348,
          -0.1932910911240095,
          -0.19879756541882262,
          -0.2024084038471058,
          -0.20478280357744405,
          -0.20633390277434174,
          -0.20733129134307696,
          -0.20795516827409405,
          -0.20832743914437427,
          -0.20853088456606278,
          -0.20862163412508183,
          -0.20863757682553807,
          -0.20860413801424807,
          -0.2085382713034839,
          -0.20845121159728583,
          -0.2083503617595649,
          -0.2082405749995182,
          -0.20812501905515987,
          -0.20800575380687572,
          -0.2078841145090438,
          -0.20776096442116632,
          -0.20763686043190432,
          -0.20751216114028004,
          -0.20738709711492123,
          -0.20726181642146393,
          -0.20713641404664943,
          -0.20701095087404692,
          -0.2068854658999955,
          -0.20675998408645024,
          -0.2066345214030831,
          -0.20650908806151563,
          -0.206383690588231,
          -0.206258333152273,
          -0.20613301841516113,
          -0.2060077480747007,
          -0.20588252321279804,
          -0.20575734451784009,
          -0.20563221242683757,
          -0.20550712721625441,
          -0.20538208906003746,
          -0.2052570980666821,
          -0.2051321543029019,
          -0.2050072578087435,
          -0.20488240860723503,
          -0.20475760671054563,
          -0.20463285212391571,
          -0.20450814484816582,
          -0.20438348488129687,
          -0.20425887221951172,
          -0.20413430685786574,
          -0.20400978879068288,
          -0.20388531801182067,
          -0.20376089451483825,
          -0.2036365182931057,
          -0.20351218933987084,
          -0.20338790764830447,
          -0.20326367321152766,
          -0.20313948602262966,
          -0.20301534607467914,
          -0.20289125336073102,
          -0.20276720787383226,
          -0.2026432096070236,
          -0.20251925855334188,
          -0.20239535470582123,
          -0.20227149805749392,
          -0.20214768860139032,
          -0.20202392633054023,
          -0.201900211237972,
          -0.2017765433167133,
          -0.20165292255979086,
          -0.2015293489602308,
          -0.20140582251105868,
          -0.20128234320529878,
          -0.20115891103597552,
          -0.201035525996112,
          -0.20091218807873099,
          -0.2007888972768544
         ]
        },
        {
         "line": {
          "color": "rgb(0, 255, 0)",
          "dash": "dash"
         },
         "mode": "lines+text",
         "name": "<b>Model OVSED<b> <b>output-80V.csvV<b>",
         "text": [
          "output-80V.csvV"
         ],
         "textfont": {
          "color": "rgb(0, 255, 0)",
          "family": "Times New Roman",
          "size": 13
         },
         "textposition": "bottom center",
         "type": "scatter",
         "x": [
          0,
          -1,
          -2,
          -3,
          -4,
          -5,
          -6,
          -7,
          -8,
          -9,
          -10,
          -11,
          -12,
          -13,
          -14,
          -15,
          -16,
          -17,
          -18,
          -19,
          -20,
          -21,
          -22,
          -23,
          -24,
          -25,
          -26,
          -27,
          -28,
          -29,
          -30,
          -31,
          -32,
          -33,
          -34,
          -35,
          -36,
          -37,
          -38,
          -39,
          -40,
          -41,
          -42,
          -43,
          -44,
          -45,
          -46,
          -47,
          -48,
          -49,
          -50,
          -51,
          -52,
          -53,
          -54,
          -55,
          -56,
          -57,
          -58,
          -59,
          -60,
          -61,
          -62,
          -63,
          -64,
          -65,
          -66,
          -67,
          -68,
          -69,
          -70,
          -71,
          -72,
          -73,
          -74,
          -75,
          -76,
          -77,
          -78,
          -79,
          -80
         ],
         "y": [
          -0.000019999999999999998,
          -0.2163312384101111,
          -0.30854019538606703,
          -0.35810972005754815,
          -0.3880428802258757,
          -0.40734963218298115,
          -0.42029660559799603,
          -0.4291765950708119,
          -0.4353384032845056,
          -0.43963017160771467,
          -0.44261187897463156,
          -0.444666237428874,
          -0.4460609057988874,
          -0.44698572168503364,
          -0.4475763074064579,
          -0.4479297883549498,
          -0.44811566432704003,
          -0.44818352741325107,
          -0.4481686258173084,
          -0.448095902302196,
          -0.4479829280243198,
          -0.44784202778563015,
          -0.4476818119545799,
          -0.44750827422423806,
          -0.4473255734747452,
          -0.44713658738232676,
          -0.44694330229035417,
          -0.44674708643719735,
          -0.4465488806197362,
          -0.4463493307475291,
          -0.44614887970324596,
          -0.4459478308283751,
          -0.4457463916970494,
          -0.44554470423909787,
          -0.4453428654349162,
          -0.44514094151317807,
          -0.44493897767970264,
          -0.44473700477746547,
          -0.44453504384196824,
          -0.4443331092148604,
          -0.4441312106708423,
          -0.44392935486980606,
          -0.4437275463478585,
          -0.44352578819339716,
          -0.44332408250818367,
          -0.44312243072170376,
          -0.4429208338054438,
          -0.4427192924189197,
          -0.4425178070091754,
          -0.44231637787856515,
          -0.44211500523092434,
          -0.4419136892030156,
          -0.4417124298859398,
          -0.44151122733971737,
          -0.4413100816032137,
          -0.44110899270089793,
          -0.4409079606474407,
          -0.4407069854508464,
          -0.4405060671145832,
          -0.4403052056390327,
          -0.44010440102247717,
          -0.4399036532617698,
          -0.43970296235279277,
          -0.43950232829076696,
          -0.43930175107046293,
          -0.4391012306863466,
          -0.43890076713267423,
          -0.4387003604035615,
          -0.4385000104930272,
          -0.43829971739502366,
          -0.4380994811034597,
          -0.43789930161221285,
          -0.43769917891513976,
          -0.43749911300608235,
          -0.43729910387887366,
          -0.4370991515273384,
          -0.43689925594529794,
          -0.436699417126569,
          -0.4364996350649664,
          -0.43629990975430333,
          -0.43610024118839147
         ]
        },
        {
         "line": {
          "color": "black",
          "dash": "solid"
         },
         "mode": "lines+text",
         "name": "<b>Model OPT<b> <b>output-20V.csvV<b>",
         "text": [
          "output-20V.csvV"
         ],
         "textfont": {
          "color": "black",
          "family": "Times New Roman",
          "size": 13
         },
         "textposition": "bottom center",
         "type": "scatter",
         "x": [
          0,
          -1,
          -2,
          -3,
          -4,
          -5,
          -6,
          -7,
          -8,
          -9,
          -10,
          -11,
          -12,
          -13,
          -14,
          -15,
          -16,
          -17,
          -18,
          -19,
          -20,
          -21,
          -22,
          -23,
          -24,
          -25,
          -26,
          -27,
          -28,
          -29,
          -30,
          -31,
          -32,
          -33,
          -34,
          -35,
          -36,
          -37,
          -38,
          -39,
          -40,
          -41,
          -42,
          -43,
          -44,
          -45,
          -46,
          -47,
          -48,
          -49,
          -50,
          -51,
          -52,
          -53,
          -54,
          -55,
          -56,
          -57,
          -58,
          -59,
          -60,
          -61,
          -62,
          -63,
          -64,
          -65,
          -66,
          -67,
          -68,
          -69,
          -70,
          -71,
          -72,
          -73,
          -74,
          -75,
          -76,
          -77,
          -78,
          -79,
          -80
         ],
         "y": [
          -0.000019999999999999998,
          -0.8374346281311523,
          -1.351269107925958,
          -1.6853305205503357,
          -1.9102157321651594,
          -2.0646915616301467,
          -2.171916899723379,
          -2.246634113491215,
          -2.2986730689353503,
          -2.334797584786743,
          -2.359750446193798,
          -2.3768870019703945,
          -2.3885848292890866,
          -2.3965231527077173,
          -2.4018806654837594,
          -2.405478450435142,
          -2.407883895307577,
          -2.409486017909826,
          -2.410549610279937,
          -2.4112537388462516,
          -2.4117188103560636,
          -2.412025392676848,
          -2.412227172862634,
          -2.412359801176955,
          -2.412446882069148,
          -2.412504006748319,
          -2.4125414531117833,
          -2.412565985438098,
          -2.4125820496281447,
          -2.412592564623256,
          -2.4125994451454815,
          -2.412603946278477,
          -2.4126068902362983,
          -2.4126088154007235,
          -2.412610074165408,
          -2.4126108971147118,
          -2.4126114350903505,
          -2.4126117867484145,
          -2.412612016602917,
          -2.4126121668357277,
          -2.4126122650240567,
          -2.4126123291954458,
          -2.412612371133868,
          -2.41261239854165,
          -2.4126124164530105,
          -2.4126124281581722,
          -2.4126124358074716,
          -2.41261244080623,
          -2.4126124440728565,
          -2.412612446207544,
          -2.412612447602523,
          -2.412612448514111,
          -2.412612449109813,
          -2.4126124494990884,
          -2.4126124497534693,
          -2.412612449919703,
          -2.4126124500283295,
          -2.412612450099314,
          -2.412612450145701,
          -2.4126124501760127,
          -2.412612450195821,
          -2.412612450208766,
          -2.4126124502172237,
          -2.412612450222752,
          -2.412612450226363,
          -2.4126124502287243,
          -2.4126124502302653,
          -2.412612450231275,
          -2.412612450231934,
          -2.4126124502323623,
          -2.412612450232645,
          -2.412612450232828,
          -2.412612450232949,
          -2.412612450233028,
          -2.4126124502330764,
          -2.412612450233111,
          -2.4126124502331328,
          -2.4126124502331474,
          -2.4126124502331567,
          -2.4126124502331625,
          -2.4126124502331665
         ]
        },
        {
         "line": {
          "color": "black",
          "dash": "solid"
         },
         "mode": "lines+text",
         "name": "<b>Model OPT<b> <b>output-40V.csvV<b>",
         "text": [
          "output-40V.csvV"
         ],
         "textfont": {
          "color": "black",
          "family": "Times New Roman",
          "size": 13
         },
         "textposition": "bottom center",
         "type": "scatter",
         "x": [
          0,
          -1,
          -2,
          -3,
          -4,
          -5,
          -6,
          -7,
          -8,
          -9,
          -10,
          -11,
          -12,
          -13,
          -14,
          -15,
          -16,
          -17,
          -18,
          -19,
          -20,
          -21,
          -22,
          -23,
          -24,
          -25,
          -26,
          -27,
          -28,
          -29,
          -30,
          -31,
          -32,
          -33,
          -34,
          -35,
          -36,
          -37,
          -38,
          -39,
          -40,
          -41,
          -42,
          -43,
          -44,
          -45,
          -46,
          -47,
          -48,
          -49,
          -50,
          -51,
          -52,
          -53,
          -54,
          -55,
          -56,
          -57,
          -58,
          -59,
          -60,
          -61,
          -62,
          -63,
          -64,
          -65,
          -66,
          -67,
          -68,
          -69,
          -70,
          -71,
          -72,
          -73,
          -74,
          -75,
          -76,
          -77,
          -78,
          -79,
          -80
         ],
         "y": [
          -0.000019999999999999998,
          -10.134599985353445,
          -17.459730564668014,
          -22.839953695359583,
          -26.86825273864847,
          -29.940690693509808,
          -32.32256426824991,
          -34.19447985755966,
          -35.682059346271096,
          -36.87470126191056,
          -37.837466387469036,
          -38.61870919080133,
          -39.25506504747164,
          -39.77477224481869,
          -40.19992782129323,
          -40.54804881259594,
          -40.833173200592825,
          -41.06665083529479,
          -41.257722286126594,
          -41.41395042634854,
          -41.54154818538582,
          -41.645631918426076,
          -41.730420571703625,
          -41.79939461392542,
          -41.85542451610689,
          -41.900875721033586,
          -41.93769510772121,
          -41.96748263083583,
          -41.991550901369884,
          -42.010974838350506,
          -42.02663307083777,
          -42.0392424435365,
          -42.04938673695771,
          -42.0575405271348,
          -42.06408896272188,
          -42.0693441174626,
          -42.07355847618781,
          -42.07693602797453,
          -42.07964136780101,
          -42.081807145891545,
          -42.08354015047169,
          -42.08492626371821,
          -42.0860344913545,
          -42.086920232810726,
          -42.08762793042078,
          -42.0881932121148,
          -42.0886446218957,
          -42.08900501552857,
          -42.089292684840245,
          -42.08952226239854,
          -42.0897054487444,
          -42.089851596452476,
          -42.08996817882485,
          -42.09006116572909,
          -42.090135324777336,
          -42.09019446253387,
          -42.090241617589754,
          -42.09027921503465,
          -42.090309189991835,
          -42.09033308637307,
          -42.09035213579758,
          -42.0903673206391,
          -42.090379424379954,
          -42.090389071816844,
          -42.09039676115682,
          -42.09040288963421,
          -42.09040777395266,
          -42.090411666595074,
          -42.09041476883485,
          -42.0904172411143,
          -42.090419211322086,
          -42.090420781394194,
          -42.090422032577685,
          -42.09042302962765,
          -42.09042382415327,
          -42.090424457285614,
          -42.09042496180422,
          -42.09042536383231,
          -42.090425684188006,
          -42.09042593946152,
          -42.09042614287349
         ]
        },
        {
         "line": {
          "color": "black",
          "dash": "solid"
         },
         "mode": "lines+text",
         "name": "<b>Model OPT<b> <b>output-60V.csvV<b>",
         "text": [
          "output-60V.csvV"
         ],
         "textfont": {
          "color": "black",
          "family": "Times New Roman",
          "size": 13
         },
         "textposition": "bottom center",
         "type": "scatter",
         "x": [
          0,
          -1,
          -2,
          -3,
          -4,
          -5,
          -6,
          -7,
          -8,
          -9,
          -10,
          -11,
          -12,
          -13,
          -14,
          -15,
          -16,
          -17,
          -18,
          -19,
          -20,
          -21,
          -22,
          -23,
          -24,
          -25,
          -26,
          -27,
          -28,
          -29,
          -30,
          -31,
          -32,
          -33,
          -34,
          -35,
          -36,
          -37,
          -38,
          -39,
          -40,
          -41,
          -42,
          -43,
          -44,
          -45,
          -46,
          -47,
          -48,
          -49,
          -50,
          -51,
          -52,
          -53,
          -54,
          -55,
          -56,
          -57,
          -58,
          -59,
          -60,
          -61,
          -62,
          -63,
          -64,
          -65,
          -66,
          -67,
          -68,
          -69,
          -70,
          -71,
          -72,
          -73,
          -74,
          -75,
          -76,
          -77,
          -78,
          -79,
          -80
         ],
         "y": [
          -0.000019999999999999998,
          -25.41404574869797,
          -47.42489106419903,
          -66.1707462217469,
          -81.93291688633418,
          -95.07692546677403,
          -105.99285959203527,
          -115.0517422248643,
          -122.58183840160878,
          -128.8606883413706,
          -134.11659951820357,
          -138.53454174019285,
          -142.26332693594284,
          -145.42249417500813,
          -148.10826550727418,
          -150.39843073159054,
          -152.35623869609253,
          -154.03344886521288,
          -155.47270610151804,
          -156.70938397448057,
          -157.7730165690118,
          -158.68841396154497,
          -159.47653522078093,
          -160.1551755721831,
          -160.73951089682106,
          -161.24253238311726,
          -161.67539626689108,
          -162.04770761870748,
          -162.36775261434107,
          -162.64269030145644,
          -162.87871228442447,
          -163.08117678632408,
          -163.2547220595643,
          -163.40336298883636,
          -163.53057387513206,
          -163.63935974126633,
          -163.73231800751338,
          -163.81169201235218,
          -163.87941756878814,
          -163.93716352909527,
          -163.98636716329537,
          -164.02826502654062,
          -164.06391988827588,
          -164.09424421449475,
          -164.12002062832227,
          -164.1419197196847,
          -164.16051552915525,
          -164.1762989921483,
          -164.18968959601185,
          -164.20104547318587,
          -164.21067212768253,
          -164.21882996915878,
          -164.22574080837816,
          -164.23159344958512,
          -164.23654849899728,
          -164.24074249405618,
          -164.244291445106,
          -164.2472938696209,
          -164.24983338887094,
          -164.25198094785154,
          -164.25379671131012,
          -164.25533168166996,
          -164.2566290784759,
          -164.25772551358642,
          -164.2586519916214,
          -164.25943476106298,
          -164.26009603784803,
          -164.26065462018676,
          -164.26112641067633,
          -164.2615248594606,
          -164.26186134019906,
          -164.2621454688936,
          -164.26238537414835,
          -164.26258792617696,
          -164.26275893078505,
          -164.2629032936357,
          -164.26302515930658,
          -164.26312802897723,
          -164.2632148600055,
          -164.26328815016038,
          -164.26335000886075
         ]
        },
        {
         "line": {
          "color": "black",
          "dash": "solid"
         },
         "mode": "lines+text",
         "name": "<b>Model OPT<b> <b>output-80V.csvV<b>",
         "text": [
          "output-80V.csvV"
         ],
         "textfont": {
          "color": "black",
          "family": "Times New Roman",
          "size": 13
         },
         "textposition": "bottom center",
         "type": "scatter",
         "x": [
          0,
          -1,
          -2,
          -3,
          -4,
          -5,
          -6,
          -7,
          -8,
          -9,
          -10,
          -11,
          -12,
          -13,
          -14,
          -15,
          -16,
          -17,
          -18,
          -19,
          -20,
          -21,
          -22,
          -23,
          -24,
          -25,
          -26,
          -27,
          -28,
          -29,
          -30,
          -31,
          -32,
          -33,
          -34,
          -35,
          -36,
          -37,
          -38,
          -39,
          -40,
          -41,
          -42,
          -43,
          -44,
          -45,
          -46,
          -47,
          -48,
          -49,
          -50,
          -51,
          -52,
          -53,
          -54,
          -55,
          -56,
          -57,
          -58,
          -59,
          -60,
          -61,
          -62,
          -63,
          -64,
          -65,
          -66,
          -67,
          -68,
          -69,
          -70,
          -71,
          -72,
          -73,
          -74,
          -75,
          -76,
          -77,
          -78,
          -79,
          -80
         ],
         "y": [
          -0.000019999999999999998,
          -35.07095123011119,
          -68.15626189536924,
          -99.06688285893027,
          -127.64612564791976,
          -153.78676412260023,
          -177.44435793884034,
          -198.64312910530134,
          -217.47268327290666,
          -234.07655918927145,
          -248.6358002343958,
          -261.351471828134,
          -272.42930086758764,
          -282.0681367137209,
          -290.4525393444353,
          -297.7489156650952,
          -304.10427533943067,
          -309.64668910662346,
          -314.48671273370195,
          -318.7192567332447,
          -322.4255707480352,
          -325.67515195610116,
          -328.52748131365985,
          -331.033550141747,
          -333.2371733341661,
          -335.1761031378499,
          -336.8829653393403,
          -338.3860419597211,
          -339.70992383206703,
          -340.8760542762963,
          -341.9031823911878,
          -342.8077417361098,
          -343.60416761661185,
          -344.30516392079664,
          -344.92192850422055,
          -345.4643444781171,
          -345.9411433896347,
          -346.3600451578066,
          -346.7278787093618,
          -347.0506865110198,
          -347.3338155901914,
          -347.5819971487201,
          -347.7994164829051,
          -347.98977460956934,
          -348.1563427473761,
          -348.3020106025862,
          -348.42932924886946,
          -348.5405492633221,
          -348.63765467884235,
          -348.7223932310311,
          -348.79630331153663,
          -348.8607379857972,
          -348.91688638877343,
          -348.96579277536966,
          -349.0083734712166,
          -349.04543194301584,
          -349.0776721848298,
          -349.10571059674044,
          -349.13008651471,
          -349.15127153476936,
          -349.1696777606018,
          -349.1856650908669,
          -349.199547651105,
          -349.2115994645893,
          -349.22205944698516,
          -349.2311358010025,
          -349.2390098793507,
          -349.24583957713384,
          -349.2517623083303,
          -349.2568976151008,
          -349.2613494533416,
          -349.2652081930945,
          -349.26855236809274,
          -349.2714502048291,
          -349.27396095804767,
          -349.27613607643553,
          -349.27802021950265,
          -349.27965214415536,
          -349.28106547725923,
          -349.28228938851817,
          -349.2833491762672
         ]
        },
        {
         "marker": {
          "color": "rgb(255, 0, 0)",
          "line": {
           "color": "MediumPurple",
           "width": 0.8
          },
          "opacity": 0.5,
          "size": 11
         },
         "mode": "markers+text",
         "name": "<b>Exp <b> <b>-20V<b> <b> (0V)<b>",
         "text": [
          "<b>VGS<b>=output-20V.csvV  (0)"
         ],
         "textfont": {
          "color": "rgb(255, 0, 0)",
          "family": "Times New Roman",
          "size": 18
         },
         "textposition": "top right",
         "type": "scatter",
         "x": [
          0,
          -1,
          -2,
          -3,
          -4,
          -5,
          -6,
          -7,
          -8,
          -9,
          -10,
          -11,
          -12,
          -13,
          -14,
          -15,
          -16,
          -17,
          -18,
          -19,
          -20,
          -21,
          -22,
          -23,
          -24,
          -25,
          -26,
          -27,
          -28,
          -29,
          -30,
          -31,
          -32,
          -33,
          -34,
          -35,
          -36,
          -37,
          -38,
          -39,
          -40,
          -41,
          -42,
          -43,
          -44,
          -45,
          -46,
          -47,
          -48,
          -49,
          -50,
          -51,
          -52,
          -53,
          -54,
          -55,
          -56,
          -57,
          -58,
          -59,
          -60,
          -61,
          -62,
          -63,
          -64,
          -65,
          -66,
          -67,
          -68,
          -69,
          -70,
          -71,
          -72,
          -73,
          -74,
          -75,
          -76,
          -77,
          -78,
          -79,
          -80
         ],
         "y": [
          -0.07058940000000001,
          -0.8353039999999999,
          -1.54038,
          -2.08743,
          -2.5009099999999997,
          -2.80518,
          -3.0247699999999997,
          -3.17792,
          -3.2827100000000002,
          -3.35066,
          -3.39281,
          -3.41835,
          -3.4325900000000003,
          -3.44,
          -3.44311,
          -3.4439,
          -3.44308,
          -3.44158,
          -3.43999,
          -3.4375199999999997,
          -3.4349700000000003,
          -3.4325799999999997,
          -3.43004,
          -3.4279100000000002,
          -3.42556,
          -3.42326,
          -3.4209300000000002,
          -3.41861,
          -3.4162399999999997,
          -3.41411,
          -3.41194,
          -3.41003,
          -3.4081,
          -3.4063700000000003,
          -3.40443,
          -3.40243,
          -3.4005400000000003,
          -3.39888,
          -3.39672,
          -3.3949100000000003,
          -3.3932399999999996,
          -3.39139,
          -3.38976,
          -3.3882,
          -3.38645,
          -3.3847099999999997,
          -3.38302,
          -3.3815,
          -3.37985,
          -3.37858,
          -3.37725,
          -3.37573,
          -3.3741999999999996,
          -3.37284,
          -3.37157,
          -3.3702400000000003,
          -3.3689,
          -3.3675400000000004,
          -3.3661499999999998,
          -3.36491,
          -3.36362,
          -3.36212,
          -3.36101,
          -3.35977,
          -3.35861,
          -3.35762,
          -3.3563400000000003,
          -3.35503,
          -3.3540699999999997,
          -3.35316,
          -3.35209,
          -3.351,
          -3.3501,
          -3.34911,
          -3.34819,
          -3.34605,
          -3.34516,
          -3.34422,
          -3.34328,
          -3.34247,
          -3.34156
         ]
        },
        {
         "marker": {
          "color": "rgb(0, 0, 255)",
          "line": {
           "color": "MediumPurple",
           "width": 0.8
          },
          "opacity": 0.5,
          "size": 11
         },
         "mode": "markers+text",
         "name": "<b>Exp <b> <b>-39V<b> <b> (1V)<b>",
         "text": [
          "<b>VGS<b>=output-40V.csvV  (1)"
         ],
         "textfont": {
          "color": "rgb(0, 0, 255)",
          "family": "Times New Roman",
          "size": 18
         },
         "textposition": "top right",
         "type": "scatter",
         "x": [
          0,
          -1,
          -2,
          -3,
          -4,
          -5,
          -6,
          -7,
          -8,
          -9,
          -10,
          -11,
          -12,
          -13,
          -14,
          -15,
          -16,
          -17,
          -18,
          -19,
          -20,
          -21,
          -22,
          -23,
          -24,
          -25,
          -26,
          -27,
          -28,
          -29,
          -30,
          -31,
          -32,
          -33,
          -34,
          -35,
          -36,
          -37,
          -38,
          -39,
          -40,
          -41,
          -42,
          -43,
          -44,
          -45,
          -46,
          -47,
          -48,
          -49,
          -50,
          -51,
          -52,
          -53,
          -54,
          -55,
          -56,
          -57,
          -58,
          -59,
          -60,
          -61,
          -62,
          -63,
          -64,
          -65,
          -66,
          -67,
          -68,
          -69,
          -70,
          -71,
          -72,
          -73,
          -74,
          -75,
          -76,
          -77,
          -78,
          -79,
          -80
         ],
         "y": [
          -2.75151,
          -3.25738,
          -8.977820000000001,
          -14.3526,
          -19.5094,
          -24.3476,
          -28.9064,
          -33.1586,
          -37.141400000000004,
          -40.8356,
          -44.265,
          -47.4462,
          -50.358200000000004,
          -53.0412,
          -55.4738,
          -57.6914,
          -59.6818,
          -61.4732,
          -63.062200000000004,
          -64.47800000000001,
          -65.7214,
          -66.8176,
          -67.7708,
          -68.6036,
          -69.32520000000001,
          -69.95039999999999,
          -70.486,
          -70.9474,
          -71.33539999999999,
          -71.66319999999999,
          -71.9372,
          -72.168,
          -72.35900000000001,
          -72.5186,
          -72.6484,
          -72.75699999999999,
          -72.8466,
          -72.9162,
          -72.9756,
          -73.0234,
          -73.0604,
          -73.08980000000001,
          -73.1126,
          -73.1288,
          -73.1416,
          -73.15259999999999,
          -73.1596,
          -73.1668,
          -73.1752,
          -73.181,
          -73.18820000000001,
          -73.1918,
          -73.1936,
          -73.1932,
          -73.1916,
          -73.1874,
          -73.18379999999999,
          -73.1828,
          -73.1846,
          -73.182,
          -73.1836,
          -73.18140000000001,
          -73.1776,
          -73.1726,
          -73.16940000000001,
          -73.1648,
          -73.1572,
          -73.1512,
          -73.14699999999999,
          -73.144,
          -73.1412,
          -73.13900000000001,
          -73.1392,
          -73.1354,
          -73.132,
          -73.1268,
          -73.1218,
          -73.11659999999999,
          -73.1104,
          -73.1062,
          -73.1002
         ]
        },
        {
         "marker": {
          "color": "rgb(30, 144, 255)",
          "line": {
           "color": "MediumPurple",
           "width": 0.8
          },
          "opacity": 0.5,
          "size": 11
         },
         "mode": "markers+text",
         "name": "<b>Exp <b> <b>-58V<b> <b> (2V)<b>",
         "text": [
          "<b>VGS<b>=output-60V.csvV  (2)"
         ],
         "textfont": {
          "color": "rgb(30, 144, 255)",
          "family": "Times New Roman",
          "size": 18
         },
         "textposition": "top right",
         "type": "scatter",
         "x": [
          0,
          -1,
          -2,
          -3,
          -4,
          -5,
          -6,
          -7,
          -8,
          -9,
          -10,
          -11,
          -12,
          -13,
          -14,
          -15,
          -16,
          -17,
          -18,
          -19,
          -20,
          -21,
          -22,
          -23,
          -24,
          -25,
          -26,
          -27,
          -28,
          -29,
          -30,
          -31,
          -32,
          -33,
          -34,
          -35,
          -36,
          -37,
          -38,
          -39,
          -40,
          -41,
          -42,
          -43,
          -44,
          -45,
          -46,
          -47,
          -48,
          -49,
          -50,
          -51,
          -52,
          -53,
          -54,
          -55,
          -56,
          -57,
          -58,
          -59,
          -60,
          -61,
          -62,
          -63,
          -64,
          -65,
          -66,
          -67,
          -68,
          -69,
          -70,
          -71,
          -72,
          -73,
          -74,
          -75,
          -76,
          -77,
          -78,
          -79,
          -80
         ],
         "y": [
          -8.22653,
          -0.28700600000000004,
          -8.56488,
          -16.5764,
          -24.479599999999998,
          -32.199600000000004,
          -39.8116,
          -47.2868,
          -54.677,
          -61.925200000000004,
          -69.0608,
          -76.1064,
          -83.008,
          -89.8148,
          -96.456,
          -102.98039999999999,
          -109.3282,
          -115.316,
          -121.336,
          -127.20200000000001,
          -132.85999999999999,
          -138.35999999999999,
          -143.662,
          -148.784,
          -153.68200000000002,
          -158.412,
          -162.92,
          -167.244,
          -171.338,
          -175.232,
          -178.904,
          -182.402,
          -185.678,
          -188.764,
          -191.65,
          -194.346,
          -196.852,
          -199.198,
          -201.348,
          -203.362,
          -205.196,
          -206.90800000000002,
          -208.482,
          -209.91799999999998,
          -211.23999999999998,
          -212.45,
          -213.556,
          -214.572,
          -215.492,
          -216.338,
          -217.106,
          -217.81,
          -218.44,
          -219.028,
          -219.542,
          -220.008,
          -220.44,
          -220.834,
          -221.20399999999998,
          -221.536,
          -221.83,
          -222.108,
          -222.348,
          -222.57,
          -222.774,
          -222.964,
          -223.15200000000002,
          -223.312,
          -223.456,
          -223.596,
          -223.722,
          -223.834,
          -223.95800000000003,
          -224.046,
          -224.148,
          -224.238,
          -224.324,
          -224.41,
          -224.476,
          -224.538,
          -224.61399999999998
         ]
        },
        {
         "marker": {
          "color": "rgb(0, 255, 0)",
          "line": {
           "color": "MediumPurple",
           "width": 0.8
          },
          "opacity": 0.5,
          "size": 11
         },
         "mode": "markers+text",
         "name": "<b>Exp <b> <b>-74V<b> <b> (6V)<b>",
         "text": [
          "<b>VGS<b>=output-80V.csvV  (6)"
         ],
         "textfont": {
          "color": "rgb(0, 255, 0)",
          "family": "Times New Roman",
          "size": 18
         },
         "textposition": "top right",
         "type": "scatter",
         "x": [
          0,
          -1,
          -2,
          -3,
          -4,
          -5,
          -6,
          -7,
          -8,
          -9,
          -10,
          -11,
          -12,
          -13,
          -14,
          -15,
          -16,
          -17,
          -18,
          -19,
          -20,
          -21,
          -22,
          -23,
          -24,
          -25,
          -26,
          -27,
          -28,
          -29,
          -30,
          -31,
          -32,
          -33,
          -34,
          -35,
          -36,
          -37,
          -38,
          -39,
          -40,
          -41,
          -42,
          -43,
          -44,
          -45,
          -46,
          -47,
          -48,
          -49,
          -50,
          -51,
          -52,
          -53,
          -54,
          -55,
          -56,
          -57,
          -58,
          -59,
          -60,
          -61,
          -62,
          -63,
          -64,
          -65,
          -66,
          -67,
          -68,
          -69,
          -70,
          -71,
          -72,
          -73,
          -74,
          -75,
          -76,
          -77,
          -78,
          -79,
          -80
         ],
         "y": [
          -14.3904,
          -4.94505,
          -4.36406,
          -13.5046,
          -22.8572,
          -32.215,
          -41.648199999999996,
          -51.1322,
          -60.6824,
          -70.2246,
          -79.8264,
          -89.5274,
          -99.16239999999999,
          -108.82939999999999,
          -118.146,
          -127.748,
          -137.262,
          -146.74800000000002,
          -156.12800000000001,
          -165.46599999999998,
          -174.66199999999998,
          -183.80800000000002,
          -192.814,
          -201.74599999999998,
          -210.508,
          -219.176,
          -227.672,
          -236.044,
          -244.242,
          -252.304,
          -260.164,
          -267.894,
          -275.41,
          -282.78,
          -289.928,
          -296.906,
          -303.666,
          -310.24600000000004,
          -316.626,
          -322.824,
          -328.788,
          -334.572,
          -340.126,
          -345.496,
          -350.63,
          -355.588,
          -360.318,
          -364.874,
          -369.194,
          -373.35200000000003,
          -377.306,
          -381.056,
          -384.644,
          -388.02,
          -391.24199999999996,
          -394.274,
          -397.14,
          -399.84,
          -402.41,
          -404.824,
          -407.108,
          -409.27,
          -411.29200000000003,
          -413.192,
          -414.99,
          -416.684,
          -418.26800000000003,
          -419.78000000000003,
          -421.18199999999996,
          -422.502,
          -423.74399999999997,
          -424.9,
          -425.99199999999996,
          -427.034,
          -428.02,
          -428.954,
          -429.81399999999996,
          -430.646,
          -431.41,
          -432.128,
          -432.806
         ]
        }
       ],
       "layout": {
        "height": 600,
        "legend": {
         "font": {
          "size": 16
         }
        },
        "template": {
         "data": {
          "bar": [
           {
            "error_x": {
             "color": "#2a3f5f"
            },
            "error_y": {
             "color": "#2a3f5f"
            },
            "marker": {
             "line": {
              "color": "#E5ECF6",
              "width": 0.5
             },
             "pattern": {
              "fillmode": "overlay",
              "size": 10,
              "solidity": 0.2
             }
            },
            "type": "bar"
           }
          ],
          "barpolar": [
           {
            "marker": {
             "line": {
              "color": "#E5ECF6",
              "width": 0.5
             },
             "pattern": {
              "fillmode": "overlay",
              "size": 10,
              "solidity": 0.2
             }
            },
            "type": "barpolar"
           }
          ],
          "carpet": [
           {
            "aaxis": {
             "endlinecolor": "#2a3f5f",
             "gridcolor": "white",
             "linecolor": "white",
             "minorgridcolor": "white",
             "startlinecolor": "#2a3f5f"
            },
            "baxis": {
             "endlinecolor": "#2a3f5f",
             "gridcolor": "white",
             "linecolor": "white",
             "minorgridcolor": "white",
             "startlinecolor": "#2a3f5f"
            },
            "type": "carpet"
           }
          ],
          "choropleth": [
           {
            "colorbar": {
             "outlinewidth": 0,
             "ticks": ""
            },
            "type": "choropleth"
           }
          ],
          "contour": [
           {
            "colorbar": {
             "outlinewidth": 0,
             "ticks": ""
            },
            "colorscale": [
             [
              0,
              "#0d0887"
             ],
             [
              0.1111111111111111,
              "#46039f"
             ],
             [
              0.2222222222222222,
              "#7201a8"
             ],
             [
              0.3333333333333333,
              "#9c179e"
             ],
             [
              0.4444444444444444,
              "#bd3786"
             ],
             [
              0.5555555555555556,
              "#d8576b"
             ],
             [
              0.6666666666666666,
              "#ed7953"
             ],
             [
              0.7777777777777778,
              "#fb9f3a"
             ],
             [
              0.8888888888888888,
              "#fdca26"
             ],
             [
              1,
              "#f0f921"
             ]
            ],
            "type": "contour"
           }
          ],
          "contourcarpet": [
           {
            "colorbar": {
             "outlinewidth": 0,
             "ticks": ""
            },
            "type": "contourcarpet"
           }
          ],
          "heatmap": [
           {
            "colorbar": {
             "outlinewidth": 0,
             "ticks": ""
            },
            "colorscale": [
             [
              0,
              "#0d0887"
             ],
             [
              0.1111111111111111,
              "#46039f"
             ],
             [
              0.2222222222222222,
              "#7201a8"
             ],
             [
              0.3333333333333333,
              "#9c179e"
             ],
             [
              0.4444444444444444,
              "#bd3786"
             ],
             [
              0.5555555555555556,
              "#d8576b"
             ],
             [
              0.6666666666666666,
              "#ed7953"
             ],
             [
              0.7777777777777778,
              "#fb9f3a"
             ],
             [
              0.8888888888888888,
              "#fdca26"
             ],
             [
              1,
              "#f0f921"
             ]
            ],
            "type": "heatmap"
           }
          ],
          "heatmapgl": [
           {
            "colorbar": {
             "outlinewidth": 0,
             "ticks": ""
            },
            "colorscale": [
             [
              0,
              "#0d0887"
             ],
             [
              0.1111111111111111,
              "#46039f"
             ],
             [
              0.2222222222222222,
              "#7201a8"
             ],
             [
              0.3333333333333333,
              "#9c179e"
             ],
             [
              0.4444444444444444,
              "#bd3786"
             ],
             [
              0.5555555555555556,
              "#d8576b"
             ],
             [
              0.6666666666666666,
              "#ed7953"
             ],
             [
              0.7777777777777778,
              "#fb9f3a"
             ],
             [
              0.8888888888888888,
              "#fdca26"
             ],
             [
              1,
              "#f0f921"
             ]
            ],
            "type": "heatmapgl"
           }
          ],
          "histogram": [
           {
            "marker": {
             "pattern": {
              "fillmode": "overlay",
              "size": 10,
              "solidity": 0.2
             }
            },
            "type": "histogram"
           }
          ],
          "histogram2d": [
           {
            "colorbar": {
             "outlinewidth": 0,
             "ticks": ""
            },
            "colorscale": [
             [
              0,
              "#0d0887"
             ],
             [
              0.1111111111111111,
              "#46039f"
             ],
             [
              0.2222222222222222,
              "#7201a8"
             ],
             [
              0.3333333333333333,
              "#9c179e"
             ],
             [
              0.4444444444444444,
              "#bd3786"
             ],
             [
              0.5555555555555556,
              "#d8576b"
             ],
             [
              0.6666666666666666,
              "#ed7953"
             ],
             [
              0.7777777777777778,
              "#fb9f3a"
             ],
             [
              0.8888888888888888,
              "#fdca26"
             ],
             [
              1,
              "#f0f921"
             ]
            ],
            "type": "histogram2d"
           }
          ],
          "histogram2dcontour": [
           {
            "colorbar": {
             "outlinewidth": 0,
             "ticks": ""
            },
            "colorscale": [
             [
              0,
              "#0d0887"
             ],
             [
              0.1111111111111111,
              "#46039f"
             ],
             [
              0.2222222222222222,
              "#7201a8"
             ],
             [
              0.3333333333333333,
              "#9c179e"
             ],
             [
              0.4444444444444444,
              "#bd3786"
             ],
             [
              0.5555555555555556,
              "#d8576b"
             ],
             [
              0.6666666666666666,
              "#ed7953"
             ],
             [
              0.7777777777777778,
              "#fb9f3a"
             ],
             [
              0.8888888888888888,
              "#fdca26"
             ],
             [
              1,
              "#f0f921"
             ]
            ],
            "type": "histogram2dcontour"
           }
          ],
          "mesh3d": [
           {
            "colorbar": {
             "outlinewidth": 0,
             "ticks": ""
            },
            "type": "mesh3d"
           }
          ],
          "parcoords": [
           {
            "line": {
             "colorbar": {
              "outlinewidth": 0,
              "ticks": ""
             }
            },
            "type": "parcoords"
           }
          ],
          "pie": [
           {
            "automargin": true,
            "type": "pie"
           }
          ],
          "scatter": [
           {
            "fillpattern": {
             "fillmode": "overlay",
             "size": 10,
             "solidity": 0.2
            },
            "type": "scatter"
           }
          ],
          "scatter3d": [
           {
            "line": {
             "colorbar": {
              "outlinewidth": 0,
              "ticks": ""
             }
            },
            "marker": {
             "colorbar": {
              "outlinewidth": 0,
              "ticks": ""
             }
            },
            "type": "scatter3d"
           }
          ],
          "scattercarpet": [
           {
            "marker": {
             "colorbar": {
              "outlinewidth": 0,
              "ticks": ""
             }
            },
            "type": "scattercarpet"
           }
          ],
          "scattergeo": [
           {
            "marker": {
             "colorbar": {
              "outlinewidth": 0,
              "ticks": ""
             }
            },
            "type": "scattergeo"
           }
          ],
          "scattergl": [
           {
            "marker": {
             "colorbar": {
              "outlinewidth": 0,
              "ticks": ""
             }
            },
            "type": "scattergl"
           }
          ],
          "scattermapbox": [
           {
            "marker": {
             "colorbar": {
              "outlinewidth": 0,
              "ticks": ""
             }
            },
            "type": "scattermapbox"
           }
          ],
          "scatterpolar": [
           {
            "marker": {
             "colorbar": {
              "outlinewidth": 0,
              "ticks": ""
             }
            },
            "type": "scatterpolar"
           }
          ],
          "scatterpolargl": [
           {
            "marker": {
             "colorbar": {
              "outlinewidth": 0,
              "ticks": ""
             }
            },
            "type": "scatterpolargl"
           }
          ],
          "scatterternary": [
           {
            "marker": {
             "colorbar": {
              "outlinewidth": 0,
              "ticks": ""
             }
            },
            "type": "scatterternary"
           }
          ],
          "surface": [
           {
            "colorbar": {
             "outlinewidth": 0,
             "ticks": ""
            },
            "colorscale": [
             [
              0,
              "#0d0887"
             ],
             [
              0.1111111111111111,
              "#46039f"
             ],
             [
              0.2222222222222222,
              "#7201a8"
             ],
             [
              0.3333333333333333,
              "#9c179e"
             ],
             [
              0.4444444444444444,
              "#bd3786"
             ],
             [
              0.5555555555555556,
              "#d8576b"
             ],
             [
              0.6666666666666666,
              "#ed7953"
             ],
             [
              0.7777777777777778,
              "#fb9f3a"
             ],
             [
              0.8888888888888888,
              "#fdca26"
             ],
             [
              1,
              "#f0f921"
             ]
            ],
            "type": "surface"
           }
          ],
          "table": [
           {
            "cells": {
             "fill": {
              "color": "#EBF0F8"
             },
             "line": {
              "color": "white"
             }
            },
            "header": {
             "fill": {
              "color": "#C8D4E3"
             },
             "line": {
              "color": "white"
             }
            },
            "type": "table"
           }
          ]
         },
         "layout": {
          "annotationdefaults": {
           "arrowcolor": "#2a3f5f",
           "arrowhead": 0,
           "arrowwidth": 1
          },
          "autotypenumbers": "strict",
          "coloraxis": {
           "colorbar": {
            "outlinewidth": 0,
            "ticks": ""
           }
          },
          "colorscale": {
           "diverging": [
            [
             0,
             "#8e0152"
            ],
            [
             0.1,
             "#c51b7d"
            ],
            [
             0.2,
             "#de77ae"
            ],
            [
             0.3,
             "#f1b6da"
            ],
            [
             0.4,
             "#fde0ef"
            ],
            [
             0.5,
             "#f7f7f7"
            ],
            [
             0.6,
             "#e6f5d0"
            ],
            [
             0.7,
             "#b8e186"
            ],
            [
             0.8,
             "#7fbc41"
            ],
            [
             0.9,
             "#4d9221"
            ],
            [
             1,
             "#276419"
            ]
           ],
           "sequential": [
            [
             0,
             "#0d0887"
            ],
            [
             0.1111111111111111,
             "#46039f"
            ],
            [
             0.2222222222222222,
             "#7201a8"
            ],
            [
             0.3333333333333333,
             "#9c179e"
            ],
            [
             0.4444444444444444,
             "#bd3786"
            ],
            [
             0.5555555555555556,
             "#d8576b"
            ],
            [
             0.6666666666666666,
             "#ed7953"
            ],
            [
             0.7777777777777778,
             "#fb9f3a"
            ],
            [
             0.8888888888888888,
             "#fdca26"
            ],
            [
             1,
             "#f0f921"
            ]
           ],
           "sequentialminus": [
            [
             0,
             "#0d0887"
            ],
            [
             0.1111111111111111,
             "#46039f"
            ],
            [
             0.2222222222222222,
             "#7201a8"
            ],
            [
             0.3333333333333333,
             "#9c179e"
            ],
            [
             0.4444444444444444,
             "#bd3786"
            ],
            [
             0.5555555555555556,
             "#d8576b"
            ],
            [
             0.6666666666666666,
             "#ed7953"
            ],
            [
             0.7777777777777778,
             "#fb9f3a"
            ],
            [
             0.8888888888888888,
             "#fdca26"
            ],
            [
             1,
             "#f0f921"
            ]
           ]
          },
          "colorway": [
           "#636efa",
           "#EF553B",
           "#00cc96",
           "#ab63fa",
           "#FFA15A",
           "#19d3f3",
           "#FF6692",
           "#B6E880",
           "#FF97FF",
           "#FECB52"
          ],
          "font": {
           "color": "#2a3f5f"
          },
          "geo": {
           "bgcolor": "white",
           "lakecolor": "white",
           "landcolor": "#E5ECF6",
           "showlakes": true,
           "showland": true,
           "subunitcolor": "white"
          },
          "hoverlabel": {
           "align": "left"
          },
          "hovermode": "closest",
          "mapbox": {
           "style": "light"
          },
          "paper_bgcolor": "white",
          "plot_bgcolor": "#E5ECF6",
          "polar": {
           "angularaxis": {
            "gridcolor": "white",
            "linecolor": "white",
            "ticks": ""
           },
           "bgcolor": "#E5ECF6",
           "radialaxis": {
            "gridcolor": "white",
            "linecolor": "white",
            "ticks": ""
           }
          },
          "scene": {
           "xaxis": {
            "backgroundcolor": "#E5ECF6",
            "gridcolor": "white",
            "gridwidth": 2,
            "linecolor": "white",
            "showbackground": true,
            "ticks": "",
            "zerolinecolor": "white"
           },
           "yaxis": {
            "backgroundcolor": "#E5ECF6",
            "gridcolor": "white",
            "gridwidth": 2,
            "linecolor": "white",
            "showbackground": true,
            "ticks": "",
            "zerolinecolor": "white"
           },
           "zaxis": {
            "backgroundcolor": "#E5ECF6",
            "gridcolor": "white",
            "gridwidth": 2,
            "linecolor": "white",
            "showbackground": true,
            "ticks": "",
            "zerolinecolor": "white"
           }
          },
          "shapedefaults": {
           "line": {
            "color": "#2a3f5f"
           }
          },
          "ternary": {
           "aaxis": {
            "gridcolor": "white",
            "linecolor": "white",
            "ticks": ""
           },
           "baxis": {
            "gridcolor": "white",
            "linecolor": "white",
            "ticks": ""
           },
           "bgcolor": "#E5ECF6",
           "caxis": {
            "gridcolor": "white",
            "linecolor": "white",
            "ticks": ""
           }
          },
          "title": {
           "x": 0.05
          },
          "xaxis": {
           "automargin": true,
           "gridcolor": "white",
           "linecolor": "white",
           "ticks": "",
           "title": {
            "standoff": 15
           },
           "zerolinecolor": "white",
           "zerolinewidth": 2
          },
          "yaxis": {
           "automargin": true,
           "gridcolor": "white",
           "linecolor": "white",
           "ticks": "",
           "title": {
            "standoff": 15
           },
           "zerolinecolor": "white",
           "zerolinewidth": 2
          }
         }
        },
        "title": {
         "font": {
          "color": "black",
          "family": "Overpass",
          "size": 25
         },
         "text": "<b>Model Vs Model Optimized (OPT)<b>",
         "x": 0.45,
         "y": 0.9
        },
        "width": 1100,
        "xaxis": {
         "title": {
          "font": {
           "color": "black",
           "family": "Overpass",
           "size": 25
          },
          "standoff": 25,
          "text": "<b>VDS / V<b>"
         }
        },
        "yaxis": {
         "title": {
          "font": {
           "color": "black",
           "family": "Overpass",
           "size": 25
          },
          "standoff": 10,
          "text": "<b>ID / uA<b>"
         },
         "type": "linear"
        }
       }
      }
     },
     "metadata": {},
     "output_type": "display_data"
    },
    {
     "name": "stdout",
     "output_type": "stream",
     "text": [
      "\n",
      "\n",
      "\n",
      "\n",
      "\n",
      "\n",
      "**************************************************************************************************************************************************\n",
      "\n",
      "|RELATIVE ERROR BETWEEN CURVES: 4991.7287\n",
      "\n",
      "**************************************************************************************************************************************************\n",
      "\n",
      "\n",
      "\n",
      "\n",
      "\n",
      "\n"
     ]
    }
   ],
   "source": [
    "# @title #### **Print grafics plots of model Optimizad and model data.** { run: \"auto\" }\n",
    "# @markdown ### ***Choice the plot that you want to view:***\n",
    "# @markdown ---\n",
    "option = 'show both curves comp' # @param [\"Show Transfer curve opt\", \"Show output curve opt\", \"show both curves opt\", \"Show Transfer curve comp\", \"Show output curve comp\", \"show both curves comp\"]\n",
    "\n",
    "model_opt = create_optimized_model(read, TFTModel, n_points, type_curve_plot, coeff_opt, input_voltage, Vv, load_idleak, width_t, count_transfer, tp_tst, settings['experimental_data_scale_transfer'], settings['current_typic'], resistance, current)\n",
    "\n",
    "in_model_data_opt, in_exp_data_opt, out_model_data_opt, out_exp_data_opt, in_model_data_comp, in_exp_data_comp, out_model_data_comp, out_exp_data_comp = get_model_data(read, count_transfer, count_output, Vv, Id, model_opt, model, compare=True)\n",
    "\n",
    "plot_curves(option, plot, list_tension, list_tension_shift, count_transfer, in_model_data_comp, out_model_data_comp, in_exp_data_comp, out_exp_data_comp, shift_list, settings['select_files'], settings['current_typic'], type_curve_plot, compare=True)\n",
    "\n",
    "read.compute_relative_distance(Id, model_opt)\n",
    "print('\\n\\n\\n\\n\\n')\n"
   ]
  }
 ],
 "metadata": {
  "colab": {
   "collapsed_sections": [
    "teoZkrLIvxaV",
    "HfZC11MavqP5",
    "Kw3wbLglv07J",
    "IHBDOV5ZwCml",
    "c0Jt9A63whok",
    "kSdWoeRx5pob",
    "yMkpHlhivMmv",
    "Lz9YHSiMvVFb",
    "WYpRFYGbu6oH",
    "cXKg5hS-drnb"
   ],
   "provenance": []
  },
  "kernelspec": {
   "display_name": "otft-env",
   "language": "python",
   "name": "python3"
  },
  "language_info": {
   "codemirror_mode": {
    "name": "ipython",
    "version": 3
   },
   "file_extension": ".py",
   "mimetype": "text/x-python",
   "name": "python",
   "nbconvert_exporter": "python",
   "pygments_lexer": "ipython3",
   "version": "3.10.12"
  }
 },
 "nbformat": 4,
 "nbformat_minor": 0
}
