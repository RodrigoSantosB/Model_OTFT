{
 "cells": [
  {
   "cell_type": "markdown",
   "metadata": {
    "id": "HS2zqnqTp83j"
   },
   "source": [
    "# **Summary** 📘\n",
    "\n",
    "1.   **Abstract**\n",
    "2.   **Introduction**\n",
    "3.   **Objectives**\n",
    "4.   **Methodology**\n",
    "4.   **Model**\n",
    "4.   **Using the Model**\n",
    "5.   **Optimizing the Model**\n",
    "5.   **Visualizing Optimized Parameters**\n",
    "5.   **Results**\n",
    "6.   **References**"
   ]
  },
  {
   "cell_type": "markdown",
   "metadata": {
    "id": "_a5XygxxnYzp"
   },
   "source": [
    "## **Benchmarking Tool for Thin-Film Transistors** ⚡\n",
    "\n",
    "## **Student**:\n",
    "\n",
    "Rodrigo Santos Batista – rsb6@cin.ufpe.br\n",
    "\n",
    "CIn ­ UFPE\n",
    "\n",
    "## **Research project**:\n",
    "\n",
    "Benchmarking emerging technologies for near and far computing\n",
    "\n",
    "inside sensors (BEeTle)\n",
    "\n",
    "## **Coordinator**:\n",
    "\n",
    "Stefan Michael Blawid – sblawid@cin.ufpe.br\n",
    "\n",
    "CIn ­ UFPE"
   ]
  },
  {
   "cell_type": "markdown",
   "metadata": {
    "id": "BHo5BnF7L2jD"
   },
   "source": []
  },
  {
   "cell_type": "markdown",
   "metadata": {
    "id": "teoZkrLIvxaV"
   },
   "source": [
    "### **Abstract** 📩"
   ]
  },
  {
   "cell_type": "markdown",
   "metadata": {
    "id": "T1gfcLkSyPWh"
   },
   "source": [
    "> Thin-film transistors (TFTs) are electronic switches where a current flows from the source terminal to the drain terminal, controlled by the voltage applied to the third terminal, the gate. Benchmark models need to reasonably reproduce the current-voltage (IV) characteristics of TFTs with a minimal number of parameters. Here, \"reasonably\" means that the model parameters can be reliably and unambiguously extracted from experimental IV curves."
   ]
  },
  {
   "cell_type": "markdown",
   "metadata": {
    "id": "HfZC11MavqP5"
   },
   "source": [
    "### **Introduction** 📢\n"
   ]
  },
  {
   "cell_type": "markdown",
   "metadata": {
    "id": "jfejU_Wbvbcg"
   },
   "source": [
    "> The ubiquitous computing paradigm envisions computing appearing everywhere at any time. Flexible electronics are considered an essential enabling technology `[1]`. Flexible electronics offer various form factors, including soft, flexible, stretchable, and lightweight forms, thus allowing ambient intelligence to become widely available. Promising applications in health, industrial, environmental, agricultural, and structural monitoring have already been demonstrated `[2]`. It is generally accepted that the low cost required for edge devices `[3]` of future Internet of Things (IoT) infrastructures can only be achieved through printing manufacturing. The basic printed blocks of flexible electronics include sensors, energy harvesters, displays, and antennas. Many of these components require thin-film transistors (TFTs) as active switches. TFTs are usually compared across different devices and technologies based on threshold voltage, charge carrier mobility, and series resistance. However, conventional parameter extraction established for silicon transistors often leads to misleading results when applied to TFTs `[4]`. Some of the peculiarities of TFTs can be addressed by the virtual source (VS) emission-diffusion (ED) theory `[5]`. In combination with nonlinear least squares solvers, VSED-based benchmark models can replace conventional extraction methods and are applicable to a wide range of TFT technologies `[6]`."
   ]
  },
  {
   "cell_type": "markdown",
   "metadata": {
    "id": "Kw3wbLglv07J"
   },
   "source": [
    "### **Objective** 🔎\n"
   ]
  },
  {
   "cell_type": "markdown",
   "metadata": {
    "id": "aqwdc5NS_7bH"
   },
   "source": [
    "> The optimization of parameters for TFT devices is an important process in the manufacturing of thin-film electronics. The main reason for performing this process is to improve the performance of the devices, making them more efficient, reliable, and cost-effective. Essentially, we want to optimize certain parameters embedded in a model that will provide the best results for the production of these devices. A simplified form of how the model operates can be described as follows: `ID = F(VGS, VDS)` where:\n",
    "> * ID → Electric current that flows between the source and drain terminals of a thin-film transistor (TFT)\n",
    "> * VGS → Voltage applied to the gate terminal of the transistor, which controls the current flowing between the source and drain terminals\n",
    "> * VDS → Voltage applied to the drain terminal of the transistor, which determines the current flowing between the source and drain terminals when the gate voltage is kept constant.\n",
    "\n",
    "> VGS and VDS are important for the operation of the TFT transistor and for the optimization of its parameters, which can be obtained from the device's transfer and output curves. From these operations, it is possible to obtain information about its parameters, such as Vtho, l, n, JD, leak, δ, RS, λ, and Vcrit. Since these parameters are limited in the model, it allows for the simultaneous adjustment of all values. Therefore, parameter optimization is performed using a nonlinear least squares solver, which allows for efficient and unambiguous parameter adjustment. In this way, it is possible to gain a better understanding of the TFT device's behavior and optimize its operation for specific applications. Additionally, parameter optimization is also important to ensure the quality and reliability of the device, as well as its integration into complex electronic circuits."
   ]
  },
  {
   "cell_type": "markdown",
   "metadata": {
    "id": "IHBDOV5ZwCml"
   },
   "source": [
    "### **Methodology** 📚\n"
   ]
  },
  {
   "cell_type": "markdown",
   "metadata": {
    "id": "ioyQZpzaItji"
   },
   "source": [
    "> To perform this optimization, we will use the SciPy library, an open-source Python module that provides advanced mathematical functions and algorithms for scientific data processing and numerical analysis. More specifically, we will apply the `curve_fit` function, which is a type of optimization that finds an ideal set of parameters for a defined function that best fits a given set of observations.\n",
    "\n",
    "> Unlike supervised learning, curve fitting requires the author to define the function that maps input examples to outputs. The mapping function, also called the base function, can take any form, including a straight line (linear regression), a curved line (polynomial regression), and many others. This provides flexibility and control to define the shape of the curve, where an optimization process is used to find the optimal specific parameters of the function. For our purposes, this will be to optimize the parameters of the function $ID = F(VGS, VDS)$, which will give us the current at each pair of points from the experiment conducted.\n",
    "\n",
    "> Here is a trivial example of how `curve_fit` works:\n",
    "\n",
    "  > * First, the curve is constructed.\n",
    "  > * Then, we apply the Python curve-fitting API.\n",
    "\n",
    "> In this way, we will think of curve fitting in two dimensions, like a 2D graph. So, let's consider that data collection was performed from the problem domain with inputs and outputs.\n",
    "\n",
    "> The `x-axis is the independent variable` or the input to the function. The `y-axis is the dependent variable` or the output of the function. We do not know the shape of the function that maps input examples to outputs, but we suspect we can approximate the function with a standard function shape. Curve fitting involves first defining the `functional form of the mapping function` (base function or objective function) and searching for the parameters in the function that result in the minimum error.\n",
    "\n",
    "> The error is calculated using observations from the domain and passing the inputs to our candidate mapping function, calculating the output, and comparing the calculated output with the observed output.\n",
    "\n",
    "> Once in shape, we can use the mapping function to interpolate or extrapolate new points in the domain. It is common to run a sequence of input values through the mapping function to calculate a sequence of outputs, then create a line graph of the result to show how the output varies with the input and how well the line fits the observed points.\n",
    "\n",
    "> The key to curve fitting is the shape of the mapping function. A straight line between inputs and outputs can be defined as follows: `y = a * x + b`\n",
    "Where `y is the calculated output`, `x is the input`, and `a` and `b` are parameters of the mapping function found using an optimization algorithm. This is called a linear equation because it is a weighted sum of the inputs. In a linear regression model, these parameters are referred to as coefficients; in a neural network, they are called weights.\n",
    "\n",
    "> This equation can be generalized to any number of inputs (which is the purpose for us), meaning that the notion of curve fitting is not limited to two dimensions (one input and one output) but could have many input variables.\n",
    "\n",
    "> An important observation is that adding arbitrary mathematical functions to our mapping function usually means we cannot calculate the parameters analytically and instead need to use an iterative optimization algorithm. This is called `nonlinear least squares`,\n",
    "as the objective function is no longer convex (not linear), and it is not as simple to solve.\n",
    "\n",
    "> Since our model's data is bi-dimensional, we are not in the trivial case. Thus, when passing data to the model, we will need to preprocess it first. For instance, suppose that for our problem, we will have the voltages Vd and Vg as a set of vectors. Essentially, what will be computed is an $MxN$ matrix; however, the `curve_fit` function only calculates ideal parameters for the one-dimensional vector case. So, we will first allocate all Vg voltages into a matrix and do the same for Vd voltages. Then, we will use Python's `np.ravel()` function to transform an array into a one-dimensional array. This operation does not affect the integrity of the data, only resizes it. The `np.ravel()` function returns a copy of the original array, with all elements of the original array \"flattened\" into a single one-dimensional array. This means that the function returns an array with all the rows of the original array concatenated into a single row."
   ]
  },
  {
   "cell_type": "markdown",
   "metadata": {
    "id": "c0Jt9A63whok"
   },
   "source": [
    "### **Model Description** 🔧\n"
   ]
  },
  {
   "cell_type": "markdown",
   "metadata": {
    "id": "_r5x1sBswlA1"
   },
   "source": [
    "The mathematical model to which we will subject the experimental data consists of a set of equations, where each variable has its degree of importance and contribution. Below is its prototyping as well as what each parameter signifies:\n",
    "\n",
    "The drain current of a TFT consists of mobile charges $Q_{free}$ modulated by the gate voltage and moves with a velocity modulated by the drain voltage. At high electric fields from source to drain, the carrier velocity saturates at a value $V_{sat}$. However, carriers need to scale a potential barrier on the path from source to drain, which represents a bottleneck for carrier transport. The limited rate of charge injection from the top of the barrier potential choke point can be termed as a virtual source (VS). The modified $V_{sed}$ model suggests a specific form of drain current per gate width W in VS:\n",
    "$$J_D = \\frac{I_D}{W} = V_{sat} \\cdot F_{sat} \\cdot Q_{free} $$\n",
    "\n",
    "Some charged particles are not mobile. In certain cases, an exponential tail of trapping states ranging from the valence band edge to the band gap can relate the free and total carrier density by a power law. This occurs because all states are occupied according to the same quasi-Fermi level, as seen in Equation (B4) in [8] and its earlier derivation. Thus, the equation shows that\n",
    "$$Q_{free} = q \\cdot \\sigma_v \\cdot \\left(\\frac{Q_{tot}}{q \\cdot \\sigma_{traps}}\\right)^l$$\n",
    "\n",
    "Here, $σ_V$ and $σ_{traps}$ represent the density of valence states and traps in a single semiconductor layer in $V_S$, respectively. The value of the exponent $l$ is determined by the effective \"temperature\" ratio defining the exponential distribution of trap states' energy and the device temperature, originating from the Boltzmann energy distribution of free charge carriers. However, since the exact trap distribution is generally unknown, $l$ is treated as a model parameter. The distinction between free and trapped charge carriers, as presented in Equation (2), is the main adaptation of the VSED framework for thin film materials proposed in this work.\n",
    "\n",
    "For a depleted semiconductor, an exponential accumulation of holes (positive charges) is expected with increasing gate field, which ceases when substantial shielding by the accumulated charge sheet is established. The following phenomenological expression first proposed in [9] is employed:\n",
    "$$ Q_{tot} = C_I \\cdot n \\cdot V_T \\cdot \\ln \\left[ 1 + e^{\\psi \\cdot V_S - V_{GS}} \\cdot n \\cdot V_T \\right],$$\n",
    "$$ \\psi \\cdot V_S = V_{tho} + |\\delta| \\cdot V_{DS}$$\n",
    "\n",
    "The gate insulator capacitance depends on the dielectric constant ε and the insulator thickness tI: $C_I = \\frac{ε}{t_I}$. The thermal voltage is represented by $V_T = \\frac{kT}{q}$. The transition from weak to strong accumulation is modeled by parameters $n, V_{th0}$, and $δ$, where $n$ is influenced by the charging of the semiconductor region adjacent to the gate insulator interface, filling surface states and affecting the band bending rate with gate bias.\n",
    "\n",
    "The interface potential becomes independent of VGS when it reaches a bias value $ψ \\cdot V_S$, also known as threshold voltage. This allows parameterizing the potential barrier control by gate bias in TFTs. The parameter $ψ \\cdot V_S$ represents the critical bias at which the potential at $V_S$ becomes independent of gate voltage. During hole accumulation at the gate insulator interface, parameters n and $l$ describe the loading of trap states, and the voltage scale for the exponential increase of drain current with gate bias is given by $(\\frac{n}{l}) \\cdot V_T$ in the VSED model. The parameter $δ$ does not necessarily represent drain-induced barrier lowering (DIBL).\n",
    "\n",
    "The charge injection velocity $Q_{free}$ in the transistor channel is represented by $V_{inj} = V_{sat} \\cdot F_{sat}$. It is common to estimate the drain current in TFTs as a drift motion of injected charge carriers, but this can lead to a mistaken conclusion about saturation velocity $V_{sat}$. While in high electric field regions the saturation velocity equals the body semiconductor saturation velocity, in low electric field regions the saturation velocity is defined by the unidirectional thermal velocity of the quasi-Fermi potential, not the electrostatic potential. This concept is discussed in [10]:\n",
    "$$V_{sat} = \\frac{2D}{\\bar{\\lambda}_{free}} = \\frac{2 \\cdot \\mu \\cdot V_T}{\\bar{\\lambda}_{free}}$$\n",
    "\n",
    "which is parametrized here by the diffusion coefficient $D$ and may relate to drift mobility $μ$ through the Einstein relation. In low drain bias, charge carrier diffusion is the dominant transport mechanism in much of the TFT and not just in $V_S$. The characteristic length in Eq. (5) will no longer be given by the mean free path $\\bar{\\lambda}_{free}$ but by the diffusion length. Since only carriers of a single type are injected into a basically intrinsic semiconductor, the diffusion length can be very large and comparable to the device dimension given by the gate length $L_G$. $F_{sat}$ introduces a length scale $λ = \\frac{L_G}{\\bar{\\lambda}_{free}}$, which effectively replaces ${\\bar{\\lambda}_{free}}$ → $L_G$ under low drain bias.\n",
    "\n",
    "The remaining function $F_{sat}$ describes the drainage of accumulated holes. For long-channel TFTs, diffusion and emission theory [11, 5] represent an interesting approach to determine $F_{sat}$:\n",
    "\n",
    "$$F_{sat} = \\frac{1}{1 + 2t} \\cdot \\frac{1-e^{-\\left(\\frac{-V_{SD}}{V_T}\\right)}}{1+e^{-\\left(\\frac{-V_{SD}}{V_T}\\right)}} \\cdot \\frac{1}{1+2t}$$\n",
    "\n",
    "For drain bias significantly exceeding thermal voltage, the transition function is described by $F_{sat} = \\frac{1}{1 + 2t}$. The critical probability factor $t$ is determined by a mean Boltzmann factor in the channel region controlled by the gate and can be obtained from the specific potential profile. For long-channel devices, an analytical form has been proposed, which can be found in equations (4) to (12) of reference [11].\n",
    "\n",
    "$$ t = \\frac{2 \\cdot \\lambda}{m^2 (1 - η^2)} \\cdot \\left[ (1 - m \\cdot η) \\cdot e^{-m (1 - η)} - (1 - m) \\right]$$\n",
    "\n",
    "$$ η = 1 - \\tanh\\left(\\frac{V_{SD}}{mV_T}\\right)$$\n",
    "\n",
    "$$ m = \\frac{2 \\cdot \\frac{V_{Gt}}{V_T}}{1 + \\sqrt{\\frac{2 \\cdot V_{Gt}}{V_{crit}}}}$$\n",
    "\n",
    "$$ V_{Gt} = \\frac{Q_{tot}}{C_I}$$\n",
    "\n",
    "Note that an increase in transistor overdrive leads to a spacious diffusion region and shifts the onset of saturation to higher drain bias. In high gate bias, the necessary increase in saturation voltage decreases and transforms into square root growth for $V_{Gt} > V_{crit}$. Note that the saturation velocity given by Eq. (5) is achieved only for both large $V_{SG}$ (low barrier) and large $V_{SD}$ (sink load). In general, the critical diffusion length replacing $\\lambda_{free}$ in Eq. (5) is a fraction of $L_G$ dependent on gate voltage. The $V_{Gt}$ required to achieve maximum injection velocity given by unidirectional thermal velocity decreases with $L_G$.\n",
    "\n",
    "* The first equation is used to calculate the average lifetime of an unstable particle. It relates the average lifetime ($t$) of an unstable particle to its mass ($m$), binding energy ($λ$), and damping factor ($η$). The equation is a mathematical expression of the exponential decay law of the particle.\n",
    "\n",
    "* The second equation is used to calculate the reflection coefficient of a wave in a MOSFET transistor (metal-oxide-semiconductor field-effect transistor). The equation relates the reflection coefficient ($η$) to the potential difference between drain and source ($V_{SD}$), ambient temperature ($V_T$), and a device parameter ($m$).\n",
    "\n",
    "* The third equation is used in semiconductor devices to calculate the slope factor of a MOSFET transistor. The slope factor is a measure of the transistor's efficiency in turning on and off quickly. The equation relates the slope factor ($m$) to the transistor's threshold voltage ($V_{GT}$), a critical voltage constant ($V_{crit}$), and ambient temperature ($V_T$).\n",
    "\n",
    "* The fourth equation is used to calculate the threshold voltage of a MOSFET transistor. The threshold voltage is the minimum voltage required to turn on the transistor. The equation relates the threshold voltage ($V_{GT}$) to the total charge ($Q_{tot}$) stored on the transistor gate, the gate capacitance ($C$), and the current ($I$) applied to the gate.\n",
    "\n",
    "Understanding how each equation relates and what each one consists of, we will abstract all this 'complex' mathematics into the model code and execute it to observe what kind of results it will yield.\n",
    "\n",
    "Remembering that our goal here will be to optimize the coefficients $J_T, V_{tho}, δ, l\n",
    "\n",
    ", n, λ$, and $V_{crit}$ used in the modeling of the equations.\n",
    "\n",
    "* $J_T$ → Junction Temperature Coefficient. It is a parameter representing the temperature variation at the junction of an electronic device, such as a transistor, diode, or integrated circuit. The value of $J_T$ is important for the correct design and operation of these devices.\n",
    "\n",
    "* $V_{tho}$ → Threshold Voltage. It is the minimum electric voltage that must be applied to an electronic device, such as a MOSFET transistor, to initiate current conduction. The value of $V_{tho}$ is determined by the properties of the semiconductor material used in the device construction.\n",
    "\n",
    "* $δ$ → Diffusion Layer Thickness. It is a parameter representing the thickness of the doped semiconductor material layer deposited on the semiconductor substrate surface to form a transistor or other electronic device.\n",
    "\n",
    "* $l$ → Diffusion Length. It is a parameter representing the distance that the semiconductor material doping diffuses on the semiconductor substrate surface during the electronic device manufacturing process.\n",
    "\n",
    "* $n$ → Diode Ideality Factor. It is a parameter describing the relationship between the electric current and voltage in a diode. The value of $n$ is used to calculate the diode's voltage drop at different current levels.\n",
    "\n",
    "* $λ$ → Voltage Drop Coefficient. It is a parameter describing the voltage drop in an electronic device relative to the electric current passing through it. The value of $λ$ is used to calculate the voltage drop in a MOSFET transistor at different current levels.\n",
    "\n",
    "* $V_{crit}$ → Critical Voltage. It is an electric voltage representing the maximum voltage limit that an electronic device can withstand without damaging its structure or functionality. The value of $V_{crit}$ is determined by the properties of the semiconductor materials used in the device construction and is important for the safe design and operation of electronic circuits.\n",
    "\n",
    "Remembering that our objective here will be to optimize the coefficients $J_T, V_{tho}, δ, l, n, λ$, and $V_{crit}$ used in the modeling of the equations.\n",
    "\n",
    "* $J_T$ → Junction Temperature Coefficient. It is a parameter representing the temperature variation at the junction of an electronic device, such as a transistor, diode, or integrated circuit. The value of $J_T$ is important for the correct design and operation of these devices.\n",
    "\n",
    "* $V_{tho}$ → Threshold Voltage. It is the minimum electric voltage that must be applied to an electronic device, such as a MOSFET transistor, to initiate current conduction. The value of $V_{tho}$ is determined by the properties of the semiconductor material used in the device construction.\n",
    "\n",
    "* $δ$ → Diffusion Layer Thickness. It is a parameter representing the thickness of the doped semiconductor material layer deposited on the semiconductor substrate surface to form a transistor or other electronic device.\n",
    "\n",
    "* $l$ → Diffusion Length. It is a parameter representing the distance that the semiconductor material doping diffuses on the semiconductor substrate surface during the electronic device manufacturing process.\n",
    "\n",
    "* $n$ → Diode Ideality Factor. It is a parameter describing the relationship between the electric current and voltage in a diode. The value of $n$ is used to calculate the diode's voltage drop at different current levels.\n",
    "\n",
    "* $λ$ → Voltage Drop Coefficient. It is a parameter describing the voltage drop in an electronic device relative to the electric current passing through it. The value of $λ$ is used to calculate the voltage drop in a MOSFET transistor at different current levels.\n",
    "\n",
    "* $V_{crit}$ → Critical Voltage. It is an electric voltage representing the maximum voltage limit that an electronic device can withstand without damaging its structure or functionality. The value of $V_{crit}$ is determined by the properties of the semiconductor materials used in the device construction and is important for the safe design and operation of electronic circuits.\n",
    "\n",
    "\n",
    "\n"
   ]
  },
  {
   "cell_type": "markdown",
   "metadata": {
    "id": "RkmdLzKbMAnz"
   },
   "source": [
    "## **Using the Model** 💻"
   ]
  },
  {
   "cell_type": "markdown",
   "metadata": {
    "id": "Ril-6Y3iKXdL"
   },
   "source": [
    "Below, insert the address of the `MODULE_OTFT` module that contains the files to be imported. This folder contains all the necessary files that the model uses to function. It can be loaded following the example: `sys.path.append('/content/drive/MyDrive/your/path/Model_OTFT')`, simply replace the path below with the corresponding path from your mounted drive containing the module."
   ]
  },
  {
   "cell_type": "code",
   "execution_count": 1,
   "metadata": {
    "id": "6UzzLMgVLD9V"
   },
   "outputs": [],
   "source": [
    "# sys.path.append('/content/drive/MyDrive/ICs/beTFT/Model_OTFT') # Change to your own path"
   ]
  },
  {
   "cell_type": "code",
   "execution_count": 1,
   "metadata": {
    "id": "JnknGBYoiJZ2"
   },
   "outputs": [],
   "source": [
    "# Load the used classes\n",
    "from modules_otft._imports import *\n",
    "from modules_otft._read_data import ReadData\n",
    "from modules_otft._model import TFTModel\n",
    "from modules_otft._grafics import  TFTGraphicsPlot\n",
    "from modules_otft._menu import TFTMenu\n",
    "\n",
    "# from modules_otft._global_vars import *\n",
    "from modules_otft._config import *\n",
    "from modules_otft._utils import *\n"
   ]
  },
  {
   "cell_type": "markdown",
   "metadata": {
    "id": "-m6XG_odMgoL"
   },
   "source": [
    "---\n",
    "## **Instantiating the used classes**\n",
    "---\n"
   ]
  },
  {
   "cell_type": "code",
   "execution_count": 2,
   "metadata": {
    "id": "pXJi9KefNXnl"
   },
   "outputs": [],
   "source": [
    "plot = TFTGraphicsPlot()\n",
    "menu = TFTMenu()\n",
    "read = ReadData()"
   ]
  },
  {
   "cell_type": "markdown",
   "metadata": {
    "id": "G0y8r9ATMVuR"
   },
   "source": [
    "---\n",
    "## **Loading sample data** 📚\n",
    "\n",
    "\n",
    "---\n",
    "\n"
   ]
  },
  {
   "cell_type": "code",
   "execution_count": null,
   "metadata": {
    "cellView": "form",
    "colab": {
     "base_uri": "https://localhost:8080/"
    },
    "executionInfo": {
     "elapsed": 18258,
     "status": "ok",
     "timestamp": 1730290019904,
     "user": {
      "displayName": "Rodrigo Santos Batista",
      "userId": "10844009603124520931"
     },
     "user_tz": 180
    },
    "id": "zojCEe15uAiJ",
    "outputId": "12bc9236-bf6a-4332-e963-aff864b66c58"
   },
   "outputs": [
    {
     "name": "stdout",
     "output_type": "stream",
     "text": [
      "--------------------------------------------------------------------------------------------------------------------------------------------------------------------------------------------------------\n",
      "--------------------------------------------------------------------------------------------------------------------------------------------------------------------------------------------------------\n",
      "\n",
      "\n",
      "___________________________________________________________________________________ SETTINGS PRESENT IN THE JSON FILE:___________________________________________________________________________________\n",
      "\n",
      "| path: /home/rsb6/Desktop/Artigo JICS/Model_OTFT/datas/Fig1cd\n",
      "--------------------------------------------------------------------------------------------------------------------------------------------------------------------------------------------------------\n",
      "| experimental_data_scale_transfer: A\n",
      "--------------------------------------------------------------------------------------------------------------------------------------------------------------------------------------------------------\n",
      "| experimental_data_scale_output: uA\n",
      "--------------------------------------------------------------------------------------------------------------------------------------------------------------------------------------------------------\n",
      "| current_typic: uA\n",
      "--------------------------------------------------------------------------------------------------------------------------------------------------------------------------------------------------------\n",
      "| loaded_voltages: -5, -40, -20, -30, -40\n",
      "--------------------------------------------------------------------------------------------------------------------------------------------------------------------------------------------------------\n",
      "| curves_transfer: 2\n",
      "--------------------------------------------------------------------------------------------------------------------------------------------------------------------------------------------------------\n",
      "| type_curve_plot: logarithmic\n",
      "--------------------------------------------------------------------------------------------------------------------------------------------------------------------------------------------------------\n",
      "| type_read_data_exp: read interpolated data\n",
      "--------------------------------------------------------------------------------------------------------------------------------------------------------------------------------------------------------\n",
      "| shift_volt_data: 5, 5, 5\n",
      "--------------------------------------------------------------------------------------------------------------------------------------------------------------------------------------------------------\n",
      "| select_files: 0,2,3\n",
      "--------------------------------------------------------------------------------------------------------------------------------------------------------------------------------------------------------\n",
      "| resistance_scale: 1e4\n",
      "--------------------------------------------------------------------------------------------------------------------------------------------------------------------------------------------------------\n",
      "| current_carry: 1e-6\n",
      "--------------------------------------------------------------------------------------------------------------------------------------------------------------------------------------------------------\n",
      "| with_transistor: 0.1\n",
      "--------------------------------------------------------------------------------------------------------------------------------------------------------------------------------------------------------\n",
      "| type_of_transistor: pFET\n",
      "--------------------------------------------------------------------------------------------------------------------------------------------------------------------------------------------------------\n",
      "| loaded_parameters: {'VTHO': 5, 'DELTA': 0.0032, 'N': 30, 'L': 2.14, 'LAMBDA': 1000, 'VGCRIT': 32, 'JTH': 1, 'RS': 20}\n",
      "--------------------------------------------------------------------------------------------------------------------------------------------------------------------------------------------------------\n",
      "| idleak_mode: more than one value idleak\n",
      "--------------------------------------------------------------------------------------------------------------------------------------------------------------------------------------------------------\n",
      "| loaded_idleak: 4e-10,  3e-9\n",
      "--------------------------------------------------------------------------------------------------------------------------------------------------------------------------------------------------------\n",
      "| image_size_width: None\n",
      "--------------------------------------------------------------------------------------------------------------------------------------------------------------------------------------------------------\n",
      "| image_size_height: None\n",
      "--------------------------------------------------------------------------------------------------------------------------------------------------------------------------------------------------------\n",
      "| upper_bounds: {'ub_VTHO': 10, 'ub_DELTA': 0.3, 'ub_N': 130, 'ub_L': 4.1, 'ub_LAMBDA': 10000, 'ub_VGCRIT': 80, 'ub_JTH': 10, 'ub_RS': 360}\n",
      "--------------------------------------------------------------------------------------------------------------------------------------------------------------------------------------------------------\n",
      "| lower_bounds: {'lb_VTHO': 0, 'lb_DELTA': 0, 'lb_N': 10, 'lb_L': 1, 'lb_LAMBDA': 100, 'lb_VGCRIT': 10, 'lb_JTH': 0, 'lb_RS': 0}\n",
      "--------------------------------------------------------------------------------------------------------------------------------------------------------------------------------------------------------\n",
      "| default_bounds: no\n",
      "--------------------------------------------------------------------------------------------------------------------------------------------------------------------------------------------------------\n",
      "| optimization_method: trf\n",
      "--------------------------------------------------------------------------------------------------------------------------------------------------------------------------------------------------------\n",
      "| tolerance_factor: 4e-7\n",
      "--------------------------------------------------------------------------------------------------------------------------------------------------------------------------------------------------------\n",
      "\n",
      "\n",
      "Shift value    : [5, 5, 5]\n",
      "\n",
      "List volt shift: [-5, -40, -25, -35, -45]\n",
      "\n",
      "--------------------------------------------\n",
      "--------------------------------------------\n",
      "|                READ FILES                |\n",
      "--------------------------------------------\n",
      "--------------------------------------------\n",
      "|            transfer-5V.csv            |\n",
      "--------------------------------------------\n",
      "|             transfer-40V.csv             |\n",
      "--------------------------------------------\n",
      "|              output-20V.csv              |\n",
      "--------------------------------------------\n",
      "|              output-30V.csv              |\n",
      "--------------------------------------------\n",
      "|              output-40V.csv              |\n",
      "--------------------------------------------\n",
      "--------------------------------------------\n",
      "\n",
      "The table above shows all the files that were read in the directory, if you want to filter files so that only those that are of interest are read, do this by passing numbers that correspond to the order of the experiment curves,\n",
      "separated by ,. For example: 0:tranfer-5v , 3:output-40v and so on\n",
      "\n",
      "\n",
      "\n",
      "\n",
      "List volt shift  : [-5, -25, -35]\n",
      "List tension     : [-5, -20, -30]\n",
      "\n",
      "--------------------------------------------\n",
      "--------------------------------------------\n",
      "|                READ FILES                |\n",
      "--------------------------------------------\n",
      "--------------------------------------------\n",
      "|            transfer-5V.csv            |\n",
      "--------------------------------------------\n",
      "|              output-20V.csv              |\n",
      "--------------------------------------------\n",
      "|              output-30V.csv              |\n",
      "--------------------------------------------\n",
      "--------------------------------------------\n",
      "\n",
      "\n",
      "\n",
      "\n",
      "   VTHO     |    DELTA   |      N     |     L      |    LAMBDA  |   VGCRIT   |    JTH     |     RS    |\n",
      "-------------------------------------------------------------------------------------------------------\n",
      "[5.0000e+00 │ 3.2000e-03 │ 3.0000e+01 │ 2.1400e+00 │ 1.0000e+03 │ 3.2000e+01 │ 1.0000e+00 │ 2.0000e+01]\n",
      "-------------------------------------------------------------------------------------------------------\n",
      "\n"
     ]
    }
   ],
   "source": [
    "# @title ### **Load parameters local / remote directory.**\n",
    "# @markdown In this section, you can load the intrinsic parameters of the model you want to optimize. The load can be done locally, by choosing your `json` file containing all the values ​​to be loaded, parameters `Vtho, delta, n, l, lam, Vgcrit, Jth, Rs`\n",
    "\n",
    "# @markdown Note, also, that it is necessary to provide the respective values ​​of `resistance_scale`, `current_carry` and `with_transistor`, which are respectively: resistance values, current values ​​- where the transistor typically operates - and transistor width (associated technology). If you want to add a value other than the default, add it to the field. Remember that the values ​​in the `JTH` and `Rs` fields will be multiples of the values ​​defined in these fields and the value of `with_transistor` is in units of `[cm]`. So make sure you provide consistent values ​​so that the template output can also be consistent\n",
    "\n",
    "# @markdown ---\n",
    "\n",
    "# Read and show the path file Json\n",
    "settings = enter_with_json_file()\n",
    "print()\n",
    "print()\n",
    "\n",
    "ld_voltages = load_voltages(settings['loaded_voltages'])\n",
    "\n",
    "type_curve_plot = get_type_plot(settings['type_curve_plot'])\n",
    "\n",
    "shift_list = calculate_shift_list(settings['shift_volt_data'], ld_voltages, settings['curves_transfer'])\n",
    "\n",
    "list_tension_shift = get_shift_list(read, settings['curves_transfer'], shift_list, ld_voltages)\n",
    "\n",
    "path_voltages = read.read_files_experimental(settings['path'], list_tension_shift)\n",
    "\n",
    "Vv, Id, input_voltage, n_points, count_transfer, count_output = read.load_data(settings['type_read_data_exp'], path_voltages, settings['current_typic'], settings['experimental_data_scale_transfer'], settings['experimental_data_scale_output'], type_curve_plot)\n",
    "\n",
    "\n",
    "print(\"Shift value    : \" + f'{shift_list}')\n",
    "print()\n",
    "\n",
    "print(\"List volt shift: \" +  f'{list_tension_shift}')\n",
    "print()\n",
    "list_curves = menu.view_path_reads(path_voltages, list_tension_shift)\n",
    "\n",
    "print()\n",
    "print('The table above shows all the files that were read in the directory, if you want to filter files so that only those that are of interest are read, do this by passing numbers that correspond to the order of the experiment curves,')\n",
    "print('separated by ,. For example: 0:tranfer-5v , 3:output-40v and so on')\n",
    "print('\\n\\n')\n",
    "\n",
    "path_voltages, list_tension_shift, list_tension = filter_and_load_files(read, settings['select_files'], list_curves, list_tension_shift, ld_voltages, settings['path'])\n",
    "\n",
    "print()\n",
    "\n",
    "print(\"List volt shift  : \" f'{list_tension_shift}' )\n",
    "print(\"List tension     : \" f'{list_tension}' )\n",
    "print()\n",
    "_ = menu.view_path_reads(path_voltages, list_tension_shift)\n",
    "print('\\n\\n')\n",
    "\n",
    "\n",
    "tp_tst = get_transistor_type(settings['type_of_transistor'])\n",
    "resistance = get_resistance(settings['resistance_scale'])\n",
    "current = get_current(settings['current_carry'])\n",
    "width_t = get_transistor_width(settings['with_transistor'])\n",
    "load_parameters = load_coefficients(settings['loaded_parameters'])\n",
    "\n",
    "\n",
    "print()\n",
    "menu.print_values(load_parameters)\n",
    "print()\n",
    "\n",
    "mode_idleak, load_idleak = load_idleak_parameters(settings['idleak_mode'], settings['loaded_idleak'])"
   ]
  },
  {
   "cell_type": "code",
   "execution_count": 5,
   "metadata": {
    "cellView": "form",
    "colab": {
     "base_uri": "https://localhost:8080/",
     "height": 1000
    },
    "executionInfo": {
     "elapsed": 505,
     "status": "ok",
     "timestamp": 1730290020406,
     "user": {
      "displayName": "Rodrigo Santos Batista",
      "userId": "10844009603124520931"
     },
     "user_tz": 180
    },
    "id": "q1VjR5eys3Bi",
    "outputId": "14606288-42a6-46ba-b23c-1ebea2f2f88e"
   },
   "outputs": [
    {
     "ename": "IndexError",
     "evalue": "list index out of range",
     "output_type": "error",
     "traceback": [
      "\u001b[0;31m---------------------------------------------------------------------------\u001b[0m",
      "\u001b[0;31mIndexError\u001b[0m                                Traceback (most recent call last)",
      "Cell \u001b[0;32mIn[5], line 7\u001b[0m\n\u001b[1;32m      5\u001b[0m model \u001b[38;5;241m=\u001b[39m instance_model(read, TFTModel, n_points, type_curve_plot, load_parameters, input_voltage, Vv, load_idleak, width_t, count_transfer, tp_tst, settings[\u001b[38;5;124m'\u001b[39m\u001b[38;5;124mexperimental_data_scale_transfer\u001b[39m\u001b[38;5;124m'\u001b[39m], settings[\u001b[38;5;124m'\u001b[39m\u001b[38;5;124mcurrent_typic\u001b[39m\u001b[38;5;124m'\u001b[39m], resistance, current)\n\u001b[1;32m      6\u001b[0m in_model_data, in_exp_data, out_model_data, out_exp_data \u001b[38;5;241m=\u001b[39m load_experimental_data(read, count_transfer, Vv, Id, model, count_output)\n\u001b[0;32m----> 7\u001b[0m \u001b[43mplot_curves\u001b[49m\u001b[43m(\u001b[49m\u001b[43moption\u001b[49m\u001b[43m,\u001b[49m\u001b[43m \u001b[49m\u001b[43mplot\u001b[49m\u001b[43m,\u001b[49m\u001b[43m \u001b[49m\u001b[43mlist_tension\u001b[49m\u001b[43m,\u001b[49m\u001b[43m \u001b[49m\u001b[43mlist_tension_shift\u001b[49m\u001b[43m,\u001b[49m\u001b[43m \u001b[49m\u001b[43mcount_transfer\u001b[49m\u001b[43m,\u001b[49m\u001b[43m \u001b[49m\u001b[43min_model_data\u001b[49m\u001b[43m,\u001b[49m\u001b[43m \u001b[49m\u001b[43mout_model_data\u001b[49m\u001b[43m,\u001b[49m\u001b[43m \u001b[49m\u001b[43min_exp_data\u001b[49m\u001b[43m,\u001b[49m\u001b[43m \u001b[49m\u001b[43mout_exp_data\u001b[49m\u001b[43m,\u001b[49m\u001b[43m \u001b[49m\u001b[43mshift_list\u001b[49m\u001b[43m,\u001b[49m\u001b[43m \u001b[49m\u001b[43msettings\u001b[49m\u001b[43m[\u001b[49m\u001b[38;5;124;43m'\u001b[39;49m\u001b[38;5;124;43mselect_files\u001b[39;49m\u001b[38;5;124;43m'\u001b[39;49m\u001b[43m]\u001b[49m\u001b[43m,\u001b[49m\u001b[43m \u001b[49m\u001b[43msettings\u001b[49m\u001b[43m[\u001b[49m\u001b[38;5;124;43m'\u001b[39;49m\u001b[38;5;124;43mcurrent_typic\u001b[39;49m\u001b[38;5;124;43m'\u001b[39;49m\u001b[43m]\u001b[49m\u001b[43m,\u001b[49m\u001b[43m \u001b[49m\u001b[43mtype_curve_plot\u001b[49m\u001b[43m)\u001b[49m\n\u001b[1;32m      8\u001b[0m read\u001b[38;5;241m.\u001b[39mcompute_relative_distance(Id, model)\n",
      "File \u001b[0;32m~/Desktop/Artigo JICS/Model_OTFT/modules_otft/_utils.py:334\u001b[0m, in \u001b[0;36mplot_curves\u001b[0;34m(option, plot, list_tension, list_tension_shift, count_transfer, in_model_data, out_model_data, in_exp_data, out_exp_data, shift_list, select_files, current_typic, type_curve_plot, compare)\u001b[0m\n\u001b[1;32m    330\u001b[0m     plot\u001b[38;5;241m.\u001b[39mplot_vgs_vds(list_tension, list_tension_shift, \u001b[38;5;241m0\u001b[39m, count_transfer, \n\u001b[1;32m    331\u001b[0m                       in_model_data, shift_list, select_files, \u001b[38;5;241m*\u001b[39min_exp_data, \n\u001b[1;32m    332\u001b[0m                       sample_unit\u001b[38;5;241m=\u001b[39mcurrent_typic, plot_type\u001b[38;5;241m=\u001b[39mtype_curve_plot)\n\u001b[1;32m    333\u001b[0m \u001b[38;5;28;01melif\u001b[39;00m option \u001b[38;5;241m==\u001b[39m \u001b[38;5;124m'\u001b[39m\u001b[38;5;124mShow output curve\u001b[39m\u001b[38;5;124m'\u001b[39m:\n\u001b[0;32m--> 334\u001b[0m     \u001b[43mplot\u001b[49m\u001b[38;5;241;43m.\u001b[39;49m\u001b[43mplot_vgs_vds\u001b[49m\u001b[43m(\u001b[49m\u001b[43mlist_tension\u001b[49m\u001b[43m,\u001b[49m\u001b[43m \u001b[49m\u001b[43mlist_tension_shift\u001b[49m\u001b[43m,\u001b[49m\u001b[43m \u001b[49m\u001b[38;5;241;43m1\u001b[39;49m\u001b[43m,\u001b[49m\u001b[43m \u001b[49m\u001b[43mcount_transfer\u001b[49m\u001b[43m,\u001b[49m\u001b[43m \u001b[49m\n\u001b[1;32m    335\u001b[0m \u001b[43m                      \u001b[49m\u001b[43mout_model_data\u001b[49m\u001b[43m,\u001b[49m\u001b[43m \u001b[49m\u001b[43mshift_list\u001b[49m\u001b[43m,\u001b[49m\u001b[43m \u001b[49m\u001b[43mselect_files\u001b[49m\u001b[43m,\u001b[49m\u001b[43m \u001b[49m\u001b[38;5;241;43m*\u001b[39;49m\u001b[43mout_exp_data\u001b[49m\u001b[43m,\u001b[49m\u001b[43m \u001b[49m\n\u001b[1;32m    336\u001b[0m \u001b[43m                      \u001b[49m\u001b[43msample_unit\u001b[49m\u001b[38;5;241;43m=\u001b[39;49m\u001b[43mcurrent_typic\u001b[49m\u001b[43m,\u001b[49m\u001b[43m \u001b[49m\u001b[43mplot_type\u001b[49m\u001b[38;5;241;43m=\u001b[39;49m\u001b[38;5;124;43m'\u001b[39;49m\u001b[38;5;124;43mlinear\u001b[39;49m\u001b[38;5;124;43m'\u001b[39;49m\u001b[43m)\u001b[49m\n\u001b[1;32m    337\u001b[0m \u001b[38;5;28;01melif\u001b[39;00m option \u001b[38;5;241m==\u001b[39m \u001b[38;5;124m'\u001b[39m\u001b[38;5;124mshow both curves\u001b[39m\u001b[38;5;124m'\u001b[39m:\n\u001b[1;32m    338\u001b[0m     plot\u001b[38;5;241m.\u001b[39mplot_vgs_vds(list_tension, list_tension_shift, \u001b[38;5;241m0\u001b[39m, count_transfer, \n\u001b[1;32m    339\u001b[0m                       in_model_data, shift_list, select_files, \u001b[38;5;241m*\u001b[39min_exp_data, \n\u001b[1;32m    340\u001b[0m                       sample_unit\u001b[38;5;241m=\u001b[39mcurrent_typic, plot_type\u001b[38;5;241m=\u001b[39mtype_curve_plot)\n",
      "File \u001b[0;32m~/Desktop/Artigo JICS/Model_OTFT/modules_otft/_grafics.py:366\u001b[0m, in \u001b[0;36mTFTGraphicsPlot.plot_vgs_vds\u001b[0;34m(self, list_tension, input_tension_shift, type_data, count, model_data, shift_list, select_files, sample_unit, plot_type, compare, *exp_data)\u001b[0m\n\u001b[1;32m    361\u001b[0m         dash_style \u001b[38;5;241m=\u001b[39m \u001b[38;5;124m'\u001b[39m\u001b[38;5;124msolid\u001b[39m\u001b[38;5;124m'\u001b[39m  \u001b[38;5;66;03m# Linha sólida para modelos otimizados\u001b[39;00m\n\u001b[1;32m    362\u001b[0m         name \u001b[38;5;241m=\u001b[39m \u001b[38;5;124m'\u001b[39m\u001b[38;5;124m<b>Model OPT<b>\u001b[39m\u001b[38;5;124m'\u001b[39m\n\u001b[1;32m    364\u001b[0m     fig\u001b[38;5;241m.\u001b[39madd_trace(go\u001b[38;5;241m.\u001b[39mScatter(x\u001b[38;5;241m=\u001b[39mdata[\u001b[38;5;241m0\u001b[39m], y\u001b[38;5;241m=\u001b[39my_data,\n\u001b[1;32m    365\u001b[0m                             mode\u001b[38;5;241m=\u001b[39m\u001b[38;5;124m'\u001b[39m\u001b[38;5;124mlines+text\u001b[39m\u001b[38;5;124m'\u001b[39m,\n\u001b[0;32m--> 366\u001b[0m                             name\u001b[38;5;241m=\u001b[39mname \u001b[38;5;241m+\u001b[39m \u001b[38;5;124m'\u001b[39m\u001b[38;5;124m \u001b[39m\u001b[38;5;124m'\u001b[39m \u001b[38;5;241m+\u001b[39m \u001b[38;5;124mf\u001b[39m\u001b[38;5;124m'\u001b[39m\u001b[38;5;124m<b>\u001b[39m\u001b[38;5;132;01m{\u001b[39;00m\u001b[43mvolt_data\u001b[49m\u001b[43m[\u001b[49m\u001b[43mi\u001b[49m\u001b[43m]\u001b[49m\u001b[38;5;132;01m}\u001b[39;00m\u001b[38;5;124m'\u001b[39m \u001b[38;5;241m+\u001b[39m \u001b[38;5;124m'\u001b[39m\u001b[38;5;124mV<b>\u001b[39m\u001b[38;5;124m'\u001b[39m,\n\u001b[1;32m    367\u001b[0m                             line\u001b[38;5;241m=\u001b[39m\u001b[38;5;28mdict\u001b[39m(color\u001b[38;5;241m=\u001b[39mcor,  dash\u001b[38;5;241m=\u001b[39mdash_style),  \u001b[38;5;66;03m# Use the choice color\u001b[39;00m\n\u001b[1;32m    368\u001b[0m                             text\u001b[38;5;241m=\u001b[39m[\u001b[38;5;124mf\u001b[39m\u001b[38;5;124m'\u001b[39m\u001b[38;5;132;01m{\u001b[39;00mvolt_data[i]\u001b[38;5;132;01m}\u001b[39;00m\u001b[38;5;124mV\u001b[39m\u001b[38;5;124m'\u001b[39m],\n\u001b[1;32m    369\u001b[0m                             textposition\u001b[38;5;241m=\u001b[39m\u001b[38;5;124m'\u001b[39m\u001b[38;5;124mbottom center\u001b[39m\u001b[38;5;124m'\u001b[39m,\n\u001b[1;32m    370\u001b[0m                             textfont\u001b[38;5;241m=\u001b[39m\u001b[38;5;28mdict\u001b[39m(\n\u001b[1;32m    371\u001b[0m                                 family\u001b[38;5;241m=\u001b[39m\u001b[38;5;124m\"\u001b[39m\u001b[38;5;124mTimes New Roman\u001b[39m\u001b[38;5;124m\"\u001b[39m,\n\u001b[1;32m    372\u001b[0m                                 size\u001b[38;5;241m=\u001b[39m\u001b[38;5;241m13\u001b[39m,\n\u001b[1;32m    373\u001b[0m                                 color\u001b[38;5;241m=\u001b[39mcor)))  \u001b[38;5;66;03m# use the same color in text\u001b[39;00m\n\u001b[1;32m    375\u001b[0m \u001b[38;5;28;01melse\u001b[39;00m:\n\u001b[1;32m    376\u001b[0m     \u001b[38;5;28mprint\u001b[39m(\u001b[38;5;124m\"\u001b[39m\u001b[38;5;124mERROR TYPE OF DATA\u001b[39m\u001b[38;5;124m\"\u001b[39m)\n",
      "\u001b[0;31mIndexError\u001b[0m: list index out of range"
     ]
    }
   ],
   "source": [
    "# @title ##### ***GRAFICS PLOT OPTION:*** { run: \"auto\" }\n",
    "option = 'Show output curve' # @param [\"Show Transfer curve\", \"Show output curve\", \"show both curves\"]\n",
    "\n",
    "plot = initialize_graphics_plot(settings['image_size_width'], settings['image_size_height'])\n",
    "model = instance_model(read, TFTModel, n_points, type_curve_plot, load_parameters, input_voltage, Vv, load_idleak, width_t, count_transfer, tp_tst, settings['experimental_data_scale_transfer'], settings['current_typic'], resistance, current)\n",
    "in_model_data, in_exp_data, out_model_data, out_exp_data = load_experimental_data(read, count_transfer, Vv, Id, model, count_output)\n",
    "plot_curves(option, plot, list_tension, list_tension_shift, count_transfer, in_model_data, out_model_data, in_exp_data, out_exp_data, shift_list, settings['select_files'], settings['current_typic'], type_curve_plot)\n",
    "read.compute_relative_distance(Id, model)\n"
   ]
  },
  {
   "cell_type": "markdown",
   "metadata": {
    "id": "vUMiE-AQVQYh"
   },
   "source": [
    "### **Model Optimization** ⚡"
   ]
  },
  {
   "cell_type": "markdown",
   "metadata": {
    "id": "hPKJt-uDVKbe"
   },
   "source": [
    "This optimization section focuses on estimating the optimal parameters for a MOSFET transistor given a sequence of input voltage $V$ [V] and current $I$ [mA], using the mathematical model introduced in section [5]. The goal here is to estimate these optimal parameters using the `curve_fit` function, as also introduced in section [4] (for more details, refer to that section). The parameters in question are listed below:\n",
    "\n",
    "- $V_{tho}$: Gate threshold voltage of the transistor.\n",
    "- $\\Delta$: Channel modulation coefficient.\n",
    "- $N$: Number of transistor channels.\n",
    "- $L$: Channel length of the transistor.\n",
    "- $\\Lambda$: Channel modulation length.\n",
    "- $V_{crit}$: Transistor breakdown voltage.\n",
    "- $J_{th}$: Transistor saturation current.\n",
    "- $R_s$: Transistor series resistance.\n",
    "\n"
   ]
  },
  {
   "cell_type": "code",
   "execution_count": 6,
   "metadata": {
    "cellView": "form",
    "colab": {
     "base_uri": "https://localhost:8080/"
    },
    "executionInfo": {
     "elapsed": 99499,
     "status": "ok",
     "timestamp": 1730290119901,
     "user": {
      "displayName": "Rodrigo Santos Batista",
      "userId": "10844009603124520931"
     },
     "user_tz": 180
    },
    "id": "R3wX-9nPVZLQ",
    "outputId": "880cb966-b46f-4637-be60-39b090dd3952"
   },
   "outputs": [
    {
     "name": "stdout",
     "output_type": "stream",
     "text": [
      "\n",
      "----------------------------------------------------------------------------------------------------\n",
      "TRUST REGION REFLECTIVE (TRF) MODE\n",
      "----------------------------------------------------------------------------------------------------\n",
      "\n",
      "\n",
      "\n",
      "\n",
      "\n",
      "********************************************************************************************************************************************************************************************************\n",
      "`xtol` termination condition is satisfied.\n",
      "function evaluations 245, initial cost 3.2541e+04, final cost 1.6071e+00, first-order optimality 1.46e-02.\n",
      "\n",
      "********************************************************************************************************************************************************************************************************\n",
      "\n",
      "\n",
      "\n",
      "\n"
     ]
    }
   ],
   "source": [
    "# @title #### **OPTIMIZING THE MODEL.** { run: \"auto\" }\n",
    "lw_bounds, up_bounds = get_bounds(settings['lower_bounds'], settings['upper_bounds'])\n",
    "tolerance_factor = get_tolerance_factor(settings['tolerance_factor'])\n",
    "tlr_factor = get_tolerance_factor(tolerance_factor)\n",
    "lw_bounds, up_bounds = configure_bounds(settings['default_bounds'], lw_bounds, up_bounds)\n",
    "\n",
    "model_id = create_model_opt(TFTModel, input_voltage, n_points, type_curve_plot, settings['current_typic'],\n",
    "                            settings['experimental_data_scale_transfer'], load_idleak, mode_idleak, count_transfer,\n",
    "                            resistance, current)\n",
    "\n",
    "optimizer = create_optimizer(settings['current_typic'], settings['experimental_data_scale_transfer'], settings['experimental_data_scale_output'],\n",
    "                             settings['type_read_data_exp'], path_voltages, type_curve_plot, settings['optimization_method'], (lw_bounds, up_bounds))\n",
    "\n",
    "configure_optimizer(optimizer, settings['default_bounds'], tlr_factor)\n",
    "\n",
    "coeff_opt, coeff_error, text_verbose = optimize_model(optimizer, model_id, load_parameters, *path_voltages)\n",
    "\n",
    "# Exibição dos resultados\n",
    "print('\\n\\n\\n')\n",
    "print('*' * 200)\n",
    "print(text_verbose.capitalize())\n",
    "print('*' * 200)\n",
    "print('\\n\\n\\n')"
   ]
  },
  {
   "cell_type": "code",
   "execution_count": 7,
   "metadata": {
    "cellView": "form",
    "colab": {
     "base_uri": "https://localhost:8080/"
    },
    "executionInfo": {
     "elapsed": 17,
     "status": "ok",
     "timestamp": 1730290119902,
     "user": {
      "displayName": "Rodrigo Santos Batista",
      "userId": "10844009603124520931"
     },
     "user_tz": 180
    },
    "id": "E2sKzh9yw0jJ",
    "outputId": "279448f8-91bb-46e5-eded-b8aaf9c9dbb1"
   },
   "outputs": [
    {
     "name": "stdout",
     "output_type": "stream",
     "text": [
      "\n",
      "---------------------------\n",
      " OPTIMIZED COEFFICIENTS:\n",
      "\n",
      "╒══════════════════════╤═════════════════╤═══════════════════╤═════════════════════════════════════════╕\n",
      "│ Parameter            │   Initial Value │   Optimized Value │   Associated Error (standard deviation) │\n",
      "╞══════════════════════╪═════════════════╪═══════════════════╪═════════════════════════════════════════╡\n",
      "│ VTHO [V]             │     5           │       8.20079     │                             1.80495     │\n",
      "├──────────────────────┼─────────────────┼───────────────────┼─────────────────────────────────────────┤\n",
      "│ DELTA                │     0.0032      │       0.00270331  │                             0.0165466   │\n",
      "├──────────────────────┼─────────────────┼───────────────────┼─────────────────────────────────────────┤\n",
      "│ N                    │    30           │      47.8591      │                            41.9101      │\n",
      "├──────────────────────┼─────────────────┼───────────────────┼─────────────────────────────────────────┤\n",
      "│ L                    │     2.14        │       2.13745     │                             0.444098    │\n",
      "├──────────────────────┼─────────────────┼───────────────────┼─────────────────────────────────────────┤\n",
      "│ LAMBDA               │  1000           │    8206.61        │                         79486.8         │\n",
      "├──────────────────────┼─────────────────┼───────────────────┼─────────────────────────────────────────┤\n",
      "│ VGCRIT [V]           │    32           │      14.7861      │                             5.92355     │\n",
      "├──────────────────────┼─────────────────┼───────────────────┼─────────────────────────────────────────┤\n",
      "│ JTH [μA cm^−1]       │     1           │      10           │                           116.99        │\n",
      "├──────────────────────┼─────────────────┼───────────────────┼─────────────────────────────────────────┤\n",
      "│ RS [kΩ]              │   200           │     238.522       │                             5.26505     │\n",
      "├──────────────────────┼─────────────────┼───────────────────┼─────────────────────────────────────────┤\n",
      "│ JTH / LAMBDA * N [μA │     3.33333e-05 │       2.54608e-05 │                             3.51185e-05 │\n",
      "│      cm^−1]          │                 │                   │                                         │\n",
      "╘══════════════════════╧═════════════════╧═══════════════════╧═════════════════════════════════════════╛\n",
      "\n",
      "\n",
      "\n",
      "\n"
     ]
    }
   ],
   "source": [
    "# @title #### **SHOW MODEL PARAMETERS OPTIMIZED.** { run: \"auto\" }\n",
    "# @markdown ### **Loading Parameters and Optimizing the Model** ⚡\n",
    "# @markdown > This section is dedicated to visualizing the parameters obtained through optimization. To do this, simply choose any of the options below:\n",
    "# @markdown ##### ***Show the list coefficients optimized:***\n",
    "# @markdown ##### **--> Vtho, delta, n, l, lam, Vgcrit, Jth, Rs**\n",
    "# @markdown ---\n",
    "\n",
    "option = 'Show the table of values opt' # @param [\"Show the coeff values\",\"Show the initial values\", \"Show the table of values opt\", \"coeff opt\", \"coeff error\"]\n",
    "show_model_parameters_optimized(menu, option, load_parameters, coeff_opt, coeff_error, current, settings['current_typic'], resistance)\n"
   ]
  },
  {
   "cell_type": "markdown",
   "metadata": {
    "id": "wtumu9_Lxx4q"
   },
   "source": [
    "### **Comparing** ✅\n",
    "\n",
    "---\n",
    "This section aims to evaluate the model's performance relative to the initial data. Visual observation allows assessing whether the model significantly outperformed the initial coefficients.\n",
    "\n",
    "In this section, simply execute the cells below; no explicit modifications are required.\n",
    "\n",
    "---"
   ]
  },
  {
   "cell_type": "code",
   "execution_count": 8,
   "metadata": {
    "cellView": "form",
    "colab": {
     "base_uri": "https://localhost:8080/",
     "height": 1000
    },
    "executionInfo": {
     "elapsed": 367,
     "status": "ok",
     "timestamp": 1730290120254,
     "user": {
      "displayName": "Rodrigo Santos Batista",
      "userId": "10844009603124520931"
     },
     "user_tz": 180
    },
    "id": "gvhAweAZx3eD",
    "outputId": "8cceb938-9438-4010-9ed4-9f0b2efeffa5"
   },
   "outputs": [
    {
     "data": {
      "application/vnd.plotly.v1+json": {
       "config": {
        "plotlyServerURL": "https://plot.ly"
       },
       "data": [
        {
         "line": {
          "color": "rgb(255, 0, 0)",
          "dash": "dash"
         },
         "mode": "lines+text",
         "name": "<b>Model OVSED<b> <b>-5V<b>",
         "text": [
          "-5V"
         ],
         "textfont": {
          "color": "rgb(255, 0, 0)",
          "family": "Times New Roman",
          "size": 13
         },
         "textposition": "bottom center",
         "type": "scatter",
         "x": [
          -43.973,
          -43.40906493506493,
          -42.84512987012987,
          -42.2811948051948,
          -41.71725974025974,
          -41.153324675324676,
          -40.58938961038961,
          -40.025454545454544,
          -39.46151948051948,
          -38.89758441558441,
          -38.33364935064935,
          -37.76971428571429,
          -37.20577922077922,
          -36.641844155844154,
          -36.07790909090909,
          -35.51397402597402,
          -34.950038961038956,
          -34.3861038961039,
          -33.82216883116883,
          -33.258233766233765,
          -32.6942987012987,
          -32.13036363636363,
          -31.56642857142857,
          -31.002493506493504,
          -30.438558441558442,
          -29.874623376623376,
          -29.31068831168831,
          -28.746753246753244,
          -28.18281818181818,
          -27.618883116883115,
          -27.05494805194805,
          -26.491012987012986,
          -25.92707792207792,
          -25.363142857142854,
          -24.799207792207792,
          -24.235272727272726,
          -23.67133766233766,
          -23.107402597402597,
          -22.54346753246753,
          -21.979532467532465,
          -21.4155974025974,
          -20.851662337662336,
          -20.28772727272727,
          -19.723792207792204,
          -19.159857142857142,
          -18.595922077922076,
          -18.03198701298701,
          -17.468051948051947,
          -16.90411688311688,
          -16.340181818181815,
          -15.776246753246753,
          -15.212311688311686,
          -14.64837662337662,
          -14.084441558441558,
          -13.520506493506492,
          -12.956571428571426,
          -12.392636363636363,
          -11.828701298701297,
          -11.264766233766231,
          -10.700831168831165,
          -10.136896103896099,
          -9.57296103896104,
          -9.009025974025974,
          -8.445090909090908,
          -7.881155844155842,
          -7.317220779220776,
          -6.75328571428571,
          -6.189350649350644,
          -5.625415584415585,
          -5.061480519480519,
          -4.4975454545454525,
          -3.9336103896103864,
          -3.3696753246753204,
          -2.8057402597402543,
          -2.2418051948051954,
          -1.6778701298701293,
          -1.1139350649350632,
          -0.55
         ],
         "y": [
          0.000009351610323738218,
          0.000009272658711260874,
          0.000009191192203323318,
          0.000009107129012845055,
          0.000009020385921408378,
          0.000008930878454749749,
          0.000008838521091422581,
          0.000008743227508306755,
          0.000008644910866893412,
          0.000008543484144519694,
          0.000008438860514956284,
          0.000008330953782959447,
          0.00000821967887756959,
          0.000008104952409067953,
          0.000007986693294570476,
          0.000007864823457233183,
          0.000007739268603945133,
          0.0000076099590861762,
          0.000007476830848305419,
          0.000007339826467257432,
          0.000007198896286597499,
          0.000007053999647352052,
          0.000006905106216709232,
          0.000006752197414385483,
          0.000006595267934799317,
          0.000006434327361251381,
          0.000006269401866057227,
          0.000006100535988005827,
          0.000005927794475625502,
          0.0000057512641815363505,
          0.000005571055989680983,
          0.00000538730675348616,
          0.000005200181219073088,
          0.00000500987390357054,
          0.000004816610894483766,
          0.0000046206515320374766,
          0.000004422289932570402,
          0.000004221856307551366,
          0.0000040197180297690906,
          0.000003816280395884729,
          0.0000036119870329985378,
          0.000003407319896339461,
          0.0000032027988057996184,
          0.000002998980470948344,
          0.000002796456957488894,
          0.000002595853552942929,
          0.0000023978259956904857,
          0.0000022030570393186087,
          0.0000020122523334199284,
          0.0000018261356123108859,
          0.0000016454431942502152,
          0.000001470917805089076,
          0.0000013033017510502623,
          0.0000011433294742092981,
          9.91719529009958e-7,
          8.49166014652446e-7,
          7.163294781151399e-7,
          5.938272481760359e-7,
          4.822230331651361e-7,
          3.820153282511704e-7,
          2.936235442677361e-7,
          2.1736939730102524e-7,
          1.534482413859987e-7,
          1.0187958471993398e-7,
          6.241772086505986e-8,
          3.4398689857483374e-8,
          1.6528134041654202e-8,
          6.733300686418191e-9,
          2.3636693397135618e-9,
          8.64995855761123e-10,
          4.847786476371178e-10,
          4.1263785839903387e-10,
          4.016948406208844e-10,
          4.002293967530775e-10,
          4.0003448826334274e-10,
          4.0000587484483837e-10,
          4.000010969651553e-10,
          4.000002162293796e-10
         ]
        },
        {
         "line": {
          "color": "rgb(0, 0, 255)",
          "dash": "dash"
         },
         "mode": "lines+text",
         "name": "<b>Model OVSED<b> <b>-40V<b>",
         "text": [
          "-40V"
         ],
         "textfont": {
          "color": "rgb(0, 0, 255)",
          "family": "Times New Roman",
          "size": 13
         },
         "textposition": "bottom center",
         "type": "scatter",
         "x": [
          -44.99,
          -44.4152987012987,
          -43.8405974025974,
          -43.265896103896104,
          -42.691194805194804,
          -42.11649350649351,
          -41.54179220779221,
          -40.96709090909091,
          -40.392389610389614,
          -39.817688311688315,
          -39.242987012987015,
          -38.668285714285716,
          -38.09358441558442,
          -37.51888311688312,
          -36.94418181818182,
          -36.36948051948052,
          -35.79477922077922,
          -35.22007792207792,
          -34.64537662337663,
          -34.07067532467533,
          -33.49597402597403,
          -32.92127272727273,
          -32.34657142857143,
          -31.77187012987013,
          -31.19716883116883,
          -30.62246753246753,
          -30.047766233766236,
          -29.473064935064937,
          -28.898363636363637,
          -28.323662337662338,
          -27.748961038961042,
          -27.174259740259743,
          -26.599558441558443,
          -26.024857142857144,
          -25.450155844155844,
          -24.87545454545455,
          -24.30075324675325,
          -23.72605194805195,
          -23.15135064935065,
          -22.57664935064935,
          -22.001948051948055,
          -21.427246753246756,
          -20.852545454545456,
          -20.277844155844157,
          -19.703142857142858,
          -19.12844155844156,
          -18.553740259740263,
          -17.979038961038963,
          -17.404337662337664,
          -16.829636363636364,
          -16.254935064935065,
          -15.68023376623377,
          -15.10553246753247,
          -14.53083116883117,
          -13.956129870129871,
          -13.381428571428572,
          -12.806727272727272,
          -12.232025974025973,
          -11.657324675324674,
          -11.082623376623381,
          -10.507922077922082,
          -9.933220779220783,
          -9.358519480519483,
          -8.783818181818184,
          -8.209116883116884,
          -7.634415584415585,
          -7.059714285714286,
          -6.485012987012986,
          -5.910311688311687,
          -5.3356103896103875,
          -4.760909090909095,
          -4.186207792207796,
          -3.6115064935064964,
          -3.036805194805197,
          -2.4621038961038977,
          -1.8874025974025983,
          -1.312701298701299,
          -0.738
         ],
         "y": [
          0.00004754274434842029,
          0.000046416712279021386,
          0.000045284195812668545,
          0.00004414638976493267,
          0.000043004502493544635,
          0.000041859749101398,
          0.00004071334493250735,
          0.00003956649946856355,
          0.00003842041071612956,
          0.00003727626015503669,
          0.000036135208298222826,
          0.00003499839089309107,
          0.00003386691577532378,
          0.00003274186036865624,
          0.000031624269808894215,
          0.000030515155657765196,
          0.00002941549516215364,
          0.00002832623100684973,
          0.00002724827150399477,
          0.000026182491159681622,
          0.00002512973155735442,
          0.000024090802498417265,
          0.00002306648334245737,
          0.00002205752449238275,
          0.000021064648973267056,
          0.000020088554057516394,
          0.00001912991289289519,
          0.000018189376093787906,
          0.000017267573259681352,
          0.000016365114388121713,
          0.00001548259115224964,
          0.000014620578015401192,
          0.000013779633157148113,
          0.000012960299186536497,
          0.0000121631036191698,
          0.00001138855909519292,
          0.00001063716331519776,
          0.000009909398670624988,
          0.000009205731544432606,
          0.000008526611256695246,
          0.00000787246862845781,
          0.000007243714135677485,
          0.000006640735623547859,
          0.00000606389555002729,
          0.000005513527726141368,
          0.000004989933519774412,
          0.000004493377489430638,
          0.000004024082415107145,
          0.000003582223695315996,
          0.000003167923082842497,
          0.000002781241737556398,
          0.0000024221725831590224,
          0.0000020906319669802865,
          0.000001786450638865903,
          0.0000015093640880530934,
          0.000001259002307037087,
          0.0000010348790896683769,
          8.363810160936274e-7,
          6.627563230722173e-7,
          5.131038839815061e-7,
          3.8636247587520866e-7,
          2.813002737883709e-7,
          1.9650385462315647e-7,
          1.3036454859823424e-7,
          8.105745735353357e-8,
          4.6505863621653096e-8,
          2.432754950252783e-8,
          1.179010589375277e-8,
          5.8875369200471514e-9,
          3.722675151284677e-9,
          3.1367761943385828e-9,
          3.0205627862371128e-9,
          3.0026961497829792e-9,
          3.0003470303087734e-9,
          3.000049039321878e-9,
          3.0000079047571277e-9,
          3.000001411824702e-9,
          3.0000002681686173e-9
         ]
        },
        {
         "line": {
          "color": "black",
          "dash": "solid"
         },
         "mode": "lines+text",
         "name": "<b>Model OPT<b> <b>-5V<b>",
         "text": [
          "-5V"
         ],
         "textfont": {
          "color": "black",
          "family": "Times New Roman",
          "size": 13
         },
         "textposition": "bottom center",
         "type": "scatter",
         "x": [
          -43.973,
          -43.40906493506493,
          -42.84512987012987,
          -42.2811948051948,
          -41.71725974025974,
          -41.153324675324676,
          -40.58938961038961,
          -40.025454545454544,
          -39.46151948051948,
          -38.89758441558441,
          -38.33364935064935,
          -37.76971428571429,
          -37.20577922077922,
          -36.641844155844154,
          -36.07790909090909,
          -35.51397402597402,
          -34.950038961038956,
          -34.3861038961039,
          -33.82216883116883,
          -33.258233766233765,
          -32.6942987012987,
          -32.13036363636363,
          -31.56642857142857,
          -31.002493506493504,
          -30.438558441558442,
          -29.874623376623376,
          -29.31068831168831,
          -28.746753246753244,
          -28.18281818181818,
          -27.618883116883115,
          -27.05494805194805,
          -26.491012987012986,
          -25.92707792207792,
          -25.363142857142854,
          -24.799207792207792,
          -24.235272727272726,
          -23.67133766233766,
          -23.107402597402597,
          -22.54346753246753,
          -21.979532467532465,
          -21.4155974025974,
          -20.851662337662336,
          -20.28772727272727,
          -19.723792207792204,
          -19.159857142857142,
          -18.595922077922076,
          -18.03198701298701,
          -17.468051948051947,
          -16.90411688311688,
          -16.340181818181815,
          -15.776246753246753,
          -15.212311688311686,
          -14.64837662337662,
          -14.084441558441558,
          -13.520506493506492,
          -12.956571428571426,
          -12.392636363636363,
          -11.828701298701297,
          -11.264766233766231,
          -10.700831168831165,
          -10.136896103896099,
          -9.57296103896104,
          -9.009025974025974,
          -8.445090909090908,
          -7.881155844155842,
          -7.317220779220776,
          -6.75328571428571,
          -6.189350649350644,
          -5.625415584415585,
          -5.061480519480519,
          -4.4975454545454525,
          -3.9336103896103864,
          -3.3696753246753204,
          -2.8057402597402543,
          -2.2418051948051954,
          -1.6778701298701293,
          -1.1139350649350632,
          -0.55
         ],
         "y": [
          0.000005961593108551834,
          0.000005869101450728541,
          0.0000057746617403213496,
          0.000005678263534608086,
          0.000005579899845869658,
          0.0000054795674959122676,
          0.000005377267489948014,
          0.000005273005409465521,
          0.000005166791823458898,
          0.000005058642717083419,
          0.000004948579936465221,
          0.000004836631648010441,
          0.0000047228328101341015,
          0.000004607225654860419,
          0.000004489860176234994,
          0.00000437079462193638,
          0.0000042500959838831976,
          0.000004127840483007769,
          0.000004004114042714045,
          0.000003879012744865524,
          0.0000037526432614678332,
          0.0000036251232545348383,
          0.0000034965817359710513,
          0.0000033671593786871203,
          0.000003237008769608487,
          0.0000031062945947654326,
          0.000002975193746290425,
          0.0000028438953409243887,
          0.00000271260063957555,
          0.000002581522857612322,
          0.0000024508868559328954,
          0.0000023209287034654392,
          0.000002191895102635996,
          0.0000020640426705141664,
          0.0000019376370698200003,
          0.0000018129519857516575,
          0.0000016902679466646919,
          0.0000015698709889804718,
          0.0000014520511692896097,
          0.000001337100929393254,
          0.0000012253133229141349,
          0.00000111698011499494,
          0.000001012389769308361,
          9.118253388505149e-7,
          8.155622783135715e-7,
          7.238661954454802e-7,
          6.369905553463624e-7,
          5.551743427735861e-7,
          4.786396691950286e-7,
          4.0758927669563e-7,
          3.4220382854059474e-7,
          2.826387680022123e-7,
          2.2902034540223472e-7,
          1.8144012100997112e-7,
          1.3994681090745628e-7,
          1.0453375499245181e-7,
          7.511970374708699e-8,
          5.1520614951732583e-8,
          3.34121731960743e-8,
          2.0289377757127082e-8,
          1.1442702538649129e-8,
          5.984055980654898e-9,
          2.9478507067056717e-9,
          1.4436244941551027e-9,
          7.843261244119325e-10,
          5.284444281904052e-10,
          4.3959568644009216e-10,
          4.114908641809713e-10,
          4.032098383465788e-10,
          4.008838069875041e-10,
          4.002461858421396e-10,
          4.0007111082787077e-10,
          4.000216247624169e-10,
          4.000069359940007e-10,
          4.0000232912883504e-10,
          4.00000810199837e-10,
          4.000002890397237e-10,
          4.0000010491504655e-10
         ]
        },
        {
         "line": {
          "color": "black",
          "dash": "solid"
         },
         "mode": "lines+text",
         "name": "<b>Model OPT<b> <b>-40V<b>",
         "text": [
          "-40V"
         ],
         "textfont": {
          "color": "black",
          "family": "Times New Roman",
          "size": 13
         },
         "textposition": "bottom center",
         "type": "scatter",
         "x": [
          -44.99,
          -44.4152987012987,
          -43.8405974025974,
          -43.265896103896104,
          -42.691194805194804,
          -42.11649350649351,
          -41.54179220779221,
          -40.96709090909091,
          -40.392389610389614,
          -39.817688311688315,
          -39.242987012987015,
          -38.668285714285716,
          -38.09358441558442,
          -37.51888311688312,
          -36.94418181818182,
          -36.36948051948052,
          -35.79477922077922,
          -35.22007792207792,
          -34.64537662337663,
          -34.07067532467533,
          -33.49597402597403,
          -32.92127272727273,
          -32.34657142857143,
          -31.77187012987013,
          -31.19716883116883,
          -30.62246753246753,
          -30.047766233766236,
          -29.473064935064937,
          -28.898363636363637,
          -28.323662337662338,
          -27.748961038961042,
          -27.174259740259743,
          -26.599558441558443,
          -26.024857142857144,
          -25.450155844155844,
          -24.87545454545455,
          -24.30075324675325,
          -23.72605194805195,
          -23.15135064935065,
          -22.57664935064935,
          -22.001948051948055,
          -21.427246753246756,
          -20.852545454545456,
          -20.277844155844157,
          -19.703142857142858,
          -19.12844155844156,
          -18.553740259740263,
          -17.979038961038963,
          -17.404337662337664,
          -16.829636363636364,
          -16.254935064935065,
          -15.68023376623377,
          -15.10553246753247,
          -14.53083116883117,
          -13.956129870129871,
          -13.381428571428572,
          -12.806727272727272,
          -12.232025974025973,
          -11.657324675324674,
          -11.082623376623381,
          -10.507922077922082,
          -9.933220779220783,
          -9.358519480519483,
          -8.783818181818184,
          -8.209116883116884,
          -7.634415584415585,
          -7.059714285714286,
          -6.485012987012986,
          -5.910311688311687,
          -5.3356103896103875,
          -4.760909090909095,
          -4.186207792207796,
          -3.6115064935064964,
          -3.036805194805197,
          -2.4621038961038977,
          -1.8874025974025983,
          -1.312701298701299,
          -0.738
         ],
         "y": [
          0.00002338905803764671,
          0.000022611688692206288,
          0.000021843175599427977,
          0.00002108397159251727,
          0.00002033450587357615,
          0.000019595185126445113,
          0.00001886639466668749,
          0.000018148499603404552,
          0.000017441845991037235,
          0.000016746761952591322,
          0.000016063558758756784,
          0.000015392531850142443,
          0.000014733961792297373,
          0.00001408811515533565,
          0.000013455245311831936,
          0.000012835593148223946,
          0.000012229387686268585,
          0.000011636846612173838,
          0.0000110581767118943,
          0.000010493574211761958,
          0.00000994322502414956,
          0.000009407304898258308,
          0.000008885979476405394,
          0.000008379404256384673,
          0.000007887724460602817,
          0.000007411074812773342,
          0.000006949579222999699,
          0.0000065033503821085575,
          0.000006072489266124882,
          0.00000565708455182034,
          0.000005257211944332793,
          0.000004872933417958401,
          0.000004504296371372608,
          0.000004151332698756819,
          0.0000038140577786065954,
          0.0000034924693823927905,
          0.0000031865465057549515,
          0.0000028962481255466173,
          0.000002621511886844136,
          0.000002362252724994005,
          0.0000021183614289221514,
          0.000001889703153263466,
          0.0000016761158883639586,
          0.0000014774088987784598,
          0.0000012933611423496262,
          0.000001123719682945277,
          9.68198109784771e-7,
          8.26474973842329e-7,
          6.981922451453759e-7,
          5.82953780811303e-7,
          4.803237677233466e-7,
          3.8982505925566346e-7,
          3.109372541999251e-7,
          2.430942603139755e-7,
          1.8568094445834505e-7,
          1.3802832112434742e-7,
          9.940666111711827e-8,
          6.901614185854571e-8,
          4.5975686170494e-8,
          2.9313209249700373e-8,
          1.7965261246824676e-8,
          1.079994579054699e-8,
          6.678250662260997e-9,
          4.55490484145626e-9,
          3.587704559700574e-9,
          3.199844655135162e-9,
          3.0620321220693995e-9,
          3.0179359076539373e-9,
          3.004943010169019e-9,
          3.001330622058047e-9,
          3.0003593747640103e-9,
          3.0001000828606908e-9,
          3.000029312876613e-9,
          3.0000090797554406e-9,
          3.0000029567082736e-9,
          3.0000010012145835e-9,
          3.0000003487285565e-9,
          3.000000123833224e-9
         ]
        },
        {
         "marker": {
          "color": "rgb(255, 0, 0)",
          "line": {
           "color": "MediumPurple",
           "width": 0.8
          },
          "opacity": 0.5,
          "size": 11
         },
         "mode": "markers+text",
         "name": "<b>Exp <b> <b>-5V<b>",
         "text": [
          "<b>VDS<b>=-5V"
         ],
         "textfont": {
          "color": "rgb(255, 0, 0)",
          "family": "Times New Roman",
          "size": 18
         },
         "textposition": "top right",
         "type": "scatter",
         "x": [
          -43.973,
          -43.40906493506493,
          -42.84512987012987,
          -42.2811948051948,
          -41.71725974025974,
          -41.153324675324676,
          -40.58938961038961,
          -40.025454545454544,
          -39.46151948051948,
          -38.89758441558441,
          -38.33364935064935,
          -37.76971428571429,
          -37.20577922077922,
          -36.641844155844154,
          -36.07790909090909,
          -35.51397402597402,
          -34.950038961038956,
          -34.3861038961039,
          -33.82216883116883,
          -33.258233766233765,
          -32.6942987012987,
          -32.13036363636363,
          -31.56642857142857,
          -31.002493506493504,
          -30.438558441558442,
          -29.874623376623376,
          -29.31068831168831,
          -28.746753246753244,
          -28.18281818181818,
          -27.618883116883115,
          -27.05494805194805,
          -26.491012987012986,
          -25.92707792207792,
          -25.363142857142854,
          -24.799207792207792,
          -24.235272727272726,
          -23.67133766233766,
          -23.107402597402597,
          -22.54346753246753,
          -21.979532467532465,
          -21.4155974025974,
          -20.851662337662336,
          -20.28772727272727,
          -19.723792207792204,
          -19.159857142857142,
          -18.595922077922076,
          -18.03198701298701,
          -17.468051948051947,
          -16.90411688311688,
          -16.340181818181815,
          -15.776246753246753,
          -15.212311688311686,
          -14.64837662337662,
          -14.084441558441558,
          -13.520506493506492,
          -12.956571428571426,
          -12.392636363636363,
          -11.828701298701297,
          -11.264766233766231,
          -10.700831168831165,
          -10.136896103896099,
          -9.57296103896104,
          -9.009025974025974,
          -8.445090909090908,
          -7.881155844155842,
          -7.317220779220776,
          -6.75328571428571,
          -6.189350649350644,
          -5.625415584415585,
          -5.061480519480519,
          -4.4975454545454525,
          -3.9336103896103864,
          -3.3696753246753204,
          -2.8057402597402543,
          -2.2418051948051954,
          -1.6778701298701293,
          -1.1139350649350632,
          -0.55
         ],
         "y": [
          0.000006064000000000001,
          0.0000058829560409679994,
          0.000005740912991252489,
          0.00000573600387208004,
          0.000005643675801262952,
          0.0000054910511735970494,
          0.000005312003810070058,
          0.00000511928152184303,
          0.000005042797660757092,
          0.000004943364555256063,
          0.000004753169474393536,
          0.000004649166147596474,
          0.0000045786074475287714,
          0.0000044316320599478455,
          0.000004273226158456931,
          0.000004181699926447182,
          0.000004090173694437429,
          0.000003983654921679994,
          0.000003850614263177166,
          0.000003705890657729365,
          0.00000361948125261835,
          0.000003524062444597651,
          0.000003403699272558427,
          0.0000032998169459922374,
          0.000003205670858357005,
          0.0000030855590467784627,
          0.0000029399214474845524,
          0.0000028142902672828754,
          0.000002698168474608814,
          0.000002571761356014877,
          0.0000024701776296725604,
          0.0000023946812518110675,
          0.000002288217092950719,
          0.000002164671557562076,
          0.000002035462959162732,
          0.0000019142884655208097,
          0.0000018038860294851085,
          0.0000017069055690072624,
          0.0000016005397273533927,
          0.0000014814478502863575,
          0.0000013577873273223585,
          0.0000012629697102285156,
          0.0000011576973157348354,
          0.000001028385933191606,
          8.973236842105267e-7,
          7.883067443073169e-7,
          7.091025347642699e-7,
          6.203443382149757e-7,
          5.243246094286259e-7,
          4.4563776893421213e-7,
          3.6332019105514497e-7,
          2.819755020935347e-7,
          2.095381047523898e-7,
          1.5439254335408188e-7,
          1.1720105174291077e-7,
          9.181369553896887e-8,
          5.474582079790706e-8,
          3.5157240486785956e-8,
          2.2181385281385247e-8,
          1.4307076435015247e-8,
          8.793623299166012e-9,
          5.270418944239841e-9,
          2.6313959746720934e-9,
          1.6327173100871697e-9,
          8.483063463203468e-10,
          6.332842725556359e-10,
          4.782688775510187e-10,
          3.921952356355763e-10,
          3.7259635601141315e-10,
          3.6670629352947905e-10,
          3.6700572807723243e-10,
          3.6584819780651267e-10,
          3.6417799495094146e-10,
          3.6598620357598375e-10,
          3.7200154703177997e-10,
          3.8919646632437296e-10,
          3.8962035883892276e-10,
          3.8819999999999955e-10
         ]
        },
        {
         "marker": {
          "color": "rgb(0, 0, 255)",
          "line": {
           "color": "MediumPurple",
           "width": 0.8
          },
          "opacity": 0.5,
          "size": 11
         },
         "mode": "markers+text",
         "name": "<b>Exp <b> <b>-40V<b>",
         "text": [
          "<b>VDS<b>=-40V"
         ],
         "textfont": {
          "color": "rgb(0, 0, 255)",
          "family": "Times New Roman",
          "size": 18
         },
         "textposition": "top right",
         "type": "scatter",
         "x": [
          -44.99,
          -44.4152987012987,
          -43.8405974025974,
          -43.265896103896104,
          -42.691194805194804,
          -42.11649350649351,
          -41.54179220779221,
          -40.96709090909091,
          -40.392389610389614,
          -39.817688311688315,
          -39.242987012987015,
          -38.668285714285716,
          -38.09358441558442,
          -37.51888311688312,
          -36.94418181818182,
          -36.36948051948052,
          -35.79477922077922,
          -35.22007792207792,
          -34.64537662337663,
          -34.07067532467533,
          -33.49597402597403,
          -32.92127272727273,
          -32.34657142857143,
          -31.77187012987013,
          -31.19716883116883,
          -30.62246753246753,
          -30.047766233766236,
          -29.473064935064937,
          -28.898363636363637,
          -28.323662337662338,
          -27.748961038961042,
          -27.174259740259743,
          -26.599558441558443,
          -26.024857142857144,
          -25.450155844155844,
          -24.87545454545455,
          -24.30075324675325,
          -23.72605194805195,
          -23.15135064935065,
          -22.57664935064935,
          -22.001948051948055,
          -21.427246753246756,
          -20.852545454545456,
          -20.277844155844157,
          -19.703142857142858,
          -19.12844155844156,
          -18.553740259740263,
          -17.979038961038963,
          -17.404337662337664,
          -16.829636363636364,
          -16.254935064935065,
          -15.68023376623377,
          -15.10553246753247,
          -14.53083116883117,
          -13.956129870129871,
          -13.381428571428572,
          -12.806727272727272,
          -12.232025974025973,
          -11.657324675324674,
          -11.082623376623381,
          -10.507922077922082,
          -9.933220779220783,
          -9.358519480519483,
          -8.783818181818184,
          -8.209116883116884,
          -7.634415584415585,
          -7.059714285714286,
          -6.485012987012986,
          -5.910311688311687,
          -5.3356103896103875,
          -4.760909090909095,
          -4.186207792207796,
          -3.6115064935064964,
          -3.036805194805197,
          -2.4621038961038977,
          -1.8874025974025983,
          -1.312701298701299,
          -0.738
         ],
         "y": [
          0.000025759999999999977,
          0.000024915227489659547,
          0.000024033503262906268,
          0.000023105071673609403,
          0.000022196935187454066,
          0.000021531726322458057,
          0.00002105514475768133,
          0.00002034816161616161,
          0.000019326470418470414,
          0.00001876547560547559,
          0.000018137978968668625,
          0.000016868204707170223,
          0.000016201473874962263,
          0.000015629798733286436,
          0.000014882403940886691,
          0.000014226572207236023,
          0.000013703557106704853,
          0.000013110622176283275,
          0.000012439402170286045,
          0.000011689278173008902,
          0.00001111736926318035,
          0.000010611188177107864,
          0.000010135496299037752,
          0.000009537724872817276,
          0.000008886691736559886,
          0.00000843531809147375,
          0.000008009039649915308,
          0.00000746100276824272,
          0.000006984740157480323,
          0.000006611410573678291,
          0.000006203194155152619,
          0.0000056896964026388934,
          0.000005263132105599319,
          0.000004890989461358314,
          0.000004524380759980764,
          0.000004157458598726117,
          0.0000037883563845920576,
          0.000003451937789483242,
          0.0000031344454636272832,
          0.000002820620315099326,
          0.0000025100009227971608,
          0.0000022427678215201735,
          0.000001982466985645933,
          0.0000017374589849662,
          0.0000015677913429522747,
          0.0000013896175757575758,
          0.0000012018818181818196,
          0.0000010460995824662156,
          8.887547826976167e-7,
          7.1539858302818e-7,
          5.963857353078575e-7,
          4.7064148875514727e-7,
          3.913291688311694e-7,
          2.79302022355754e-7,
          2.080655659331182e-7,
          1.5057936233316856e-7,
          9.607685015989027e-8,
          6.579538261738258e-8,
          4.220343146798354e-8,
          2.939828356357027e-8,
          1.7333114659313337e-8,
          1.1224261254440636e-8,
          8.168790551134517e-9,
          5.853298116298122e-9,
          4.488791537494773e-9,
          3.7373541404831715e-9,
          3.421385550082102e-9,
          3.364575996417376e-9,
          3.3268361716464043e-9,
          3.3235685025706357e-9,
          3.3203008334948666e-9,
          3.3315222254086595e-9,
          3.34421279036421e-9,
          3.3483228140954347e-9,
          3.3487829432377135e-9,
          3.348999999999998e-9,
          3.348999999999998e-9,
          3.348999999999998e-9
         ]
        }
       ],
       "layout": {
        "height": 600,
        "legend": {
         "font": {
          "size": 16
         }
        },
        "template": {
         "data": {
          "bar": [
           {
            "error_x": {
             "color": "#2a3f5f"
            },
            "error_y": {
             "color": "#2a3f5f"
            },
            "marker": {
             "line": {
              "color": "#E5ECF6",
              "width": 0.5
             },
             "pattern": {
              "fillmode": "overlay",
              "size": 10,
              "solidity": 0.2
             }
            },
            "type": "bar"
           }
          ],
          "barpolar": [
           {
            "marker": {
             "line": {
              "color": "#E5ECF6",
              "width": 0.5
             },
             "pattern": {
              "fillmode": "overlay",
              "size": 10,
              "solidity": 0.2
             }
            },
            "type": "barpolar"
           }
          ],
          "carpet": [
           {
            "aaxis": {
             "endlinecolor": "#2a3f5f",
             "gridcolor": "white",
             "linecolor": "white",
             "minorgridcolor": "white",
             "startlinecolor": "#2a3f5f"
            },
            "baxis": {
             "endlinecolor": "#2a3f5f",
             "gridcolor": "white",
             "linecolor": "white",
             "minorgridcolor": "white",
             "startlinecolor": "#2a3f5f"
            },
            "type": "carpet"
           }
          ],
          "choropleth": [
           {
            "colorbar": {
             "outlinewidth": 0,
             "ticks": ""
            },
            "type": "choropleth"
           }
          ],
          "contour": [
           {
            "colorbar": {
             "outlinewidth": 0,
             "ticks": ""
            },
            "colorscale": [
             [
              0,
              "#0d0887"
             ],
             [
              0.1111111111111111,
              "#46039f"
             ],
             [
              0.2222222222222222,
              "#7201a8"
             ],
             [
              0.3333333333333333,
              "#9c179e"
             ],
             [
              0.4444444444444444,
              "#bd3786"
             ],
             [
              0.5555555555555556,
              "#d8576b"
             ],
             [
              0.6666666666666666,
              "#ed7953"
             ],
             [
              0.7777777777777778,
              "#fb9f3a"
             ],
             [
              0.8888888888888888,
              "#fdca26"
             ],
             [
              1,
              "#f0f921"
             ]
            ],
            "type": "contour"
           }
          ],
          "contourcarpet": [
           {
            "colorbar": {
             "outlinewidth": 0,
             "ticks": ""
            },
            "type": "contourcarpet"
           }
          ],
          "heatmap": [
           {
            "colorbar": {
             "outlinewidth": 0,
             "ticks": ""
            },
            "colorscale": [
             [
              0,
              "#0d0887"
             ],
             [
              0.1111111111111111,
              "#46039f"
             ],
             [
              0.2222222222222222,
              "#7201a8"
             ],
             [
              0.3333333333333333,
              "#9c179e"
             ],
             [
              0.4444444444444444,
              "#bd3786"
             ],
             [
              0.5555555555555556,
              "#d8576b"
             ],
             [
              0.6666666666666666,
              "#ed7953"
             ],
             [
              0.7777777777777778,
              "#fb9f3a"
             ],
             [
              0.8888888888888888,
              "#fdca26"
             ],
             [
              1,
              "#f0f921"
             ]
            ],
            "type": "heatmap"
           }
          ],
          "heatmapgl": [
           {
            "colorbar": {
             "outlinewidth": 0,
             "ticks": ""
            },
            "colorscale": [
             [
              0,
              "#0d0887"
             ],
             [
              0.1111111111111111,
              "#46039f"
             ],
             [
              0.2222222222222222,
              "#7201a8"
             ],
             [
              0.3333333333333333,
              "#9c179e"
             ],
             [
              0.4444444444444444,
              "#bd3786"
             ],
             [
              0.5555555555555556,
              "#d8576b"
             ],
             [
              0.6666666666666666,
              "#ed7953"
             ],
             [
              0.7777777777777778,
              "#fb9f3a"
             ],
             [
              0.8888888888888888,
              "#fdca26"
             ],
             [
              1,
              "#f0f921"
             ]
            ],
            "type": "heatmapgl"
           }
          ],
          "histogram": [
           {
            "marker": {
             "pattern": {
              "fillmode": "overlay",
              "size": 10,
              "solidity": 0.2
             }
            },
            "type": "histogram"
           }
          ],
          "histogram2d": [
           {
            "colorbar": {
             "outlinewidth": 0,
             "ticks": ""
            },
            "colorscale": [
             [
              0,
              "#0d0887"
             ],
             [
              0.1111111111111111,
              "#46039f"
             ],
             [
              0.2222222222222222,
              "#7201a8"
             ],
             [
              0.3333333333333333,
              "#9c179e"
             ],
             [
              0.4444444444444444,
              "#bd3786"
             ],
             [
              0.5555555555555556,
              "#d8576b"
             ],
             [
              0.6666666666666666,
              "#ed7953"
             ],
             [
              0.7777777777777778,
              "#fb9f3a"
             ],
             [
              0.8888888888888888,
              "#fdca26"
             ],
             [
              1,
              "#f0f921"
             ]
            ],
            "type": "histogram2d"
           }
          ],
          "histogram2dcontour": [
           {
            "colorbar": {
             "outlinewidth": 0,
             "ticks": ""
            },
            "colorscale": [
             [
              0,
              "#0d0887"
             ],
             [
              0.1111111111111111,
              "#46039f"
             ],
             [
              0.2222222222222222,
              "#7201a8"
             ],
             [
              0.3333333333333333,
              "#9c179e"
             ],
             [
              0.4444444444444444,
              "#bd3786"
             ],
             [
              0.5555555555555556,
              "#d8576b"
             ],
             [
              0.6666666666666666,
              "#ed7953"
             ],
             [
              0.7777777777777778,
              "#fb9f3a"
             ],
             [
              0.8888888888888888,
              "#fdca26"
             ],
             [
              1,
              "#f0f921"
             ]
            ],
            "type": "histogram2dcontour"
           }
          ],
          "mesh3d": [
           {
            "colorbar": {
             "outlinewidth": 0,
             "ticks": ""
            },
            "type": "mesh3d"
           }
          ],
          "parcoords": [
           {
            "line": {
             "colorbar": {
              "outlinewidth": 0,
              "ticks": ""
             }
            },
            "type": "parcoords"
           }
          ],
          "pie": [
           {
            "automargin": true,
            "type": "pie"
           }
          ],
          "scatter": [
           {
            "fillpattern": {
             "fillmode": "overlay",
             "size": 10,
             "solidity": 0.2
            },
            "type": "scatter"
           }
          ],
          "scatter3d": [
           {
            "line": {
             "colorbar": {
              "outlinewidth": 0,
              "ticks": ""
             }
            },
            "marker": {
             "colorbar": {
              "outlinewidth": 0,
              "ticks": ""
             }
            },
            "type": "scatter3d"
           }
          ],
          "scattercarpet": [
           {
            "marker": {
             "colorbar": {
              "outlinewidth": 0,
              "ticks": ""
             }
            },
            "type": "scattercarpet"
           }
          ],
          "scattergeo": [
           {
            "marker": {
             "colorbar": {
              "outlinewidth": 0,
              "ticks": ""
             }
            },
            "type": "scattergeo"
           }
          ],
          "scattergl": [
           {
            "marker": {
             "colorbar": {
              "outlinewidth": 0,
              "ticks": ""
             }
            },
            "type": "scattergl"
           }
          ],
          "scattermapbox": [
           {
            "marker": {
             "colorbar": {
              "outlinewidth": 0,
              "ticks": ""
             }
            },
            "type": "scattermapbox"
           }
          ],
          "scatterpolar": [
           {
            "marker": {
             "colorbar": {
              "outlinewidth": 0,
              "ticks": ""
             }
            },
            "type": "scatterpolar"
           }
          ],
          "scatterpolargl": [
           {
            "marker": {
             "colorbar": {
              "outlinewidth": 0,
              "ticks": ""
             }
            },
            "type": "scatterpolargl"
           }
          ],
          "scatterternary": [
           {
            "marker": {
             "colorbar": {
              "outlinewidth": 0,
              "ticks": ""
             }
            },
            "type": "scatterternary"
           }
          ],
          "surface": [
           {
            "colorbar": {
             "outlinewidth": 0,
             "ticks": ""
            },
            "colorscale": [
             [
              0,
              "#0d0887"
             ],
             [
              0.1111111111111111,
              "#46039f"
             ],
             [
              0.2222222222222222,
              "#7201a8"
             ],
             [
              0.3333333333333333,
              "#9c179e"
             ],
             [
              0.4444444444444444,
              "#bd3786"
             ],
             [
              0.5555555555555556,
              "#d8576b"
             ],
             [
              0.6666666666666666,
              "#ed7953"
             ],
             [
              0.7777777777777778,
              "#fb9f3a"
             ],
             [
              0.8888888888888888,
              "#fdca26"
             ],
             [
              1,
              "#f0f921"
             ]
            ],
            "type": "surface"
           }
          ],
          "table": [
           {
            "cells": {
             "fill": {
              "color": "#EBF0F8"
             },
             "line": {
              "color": "white"
             }
            },
            "header": {
             "fill": {
              "color": "#C8D4E3"
             },
             "line": {
              "color": "white"
             }
            },
            "type": "table"
           }
          ]
         },
         "layout": {
          "annotationdefaults": {
           "arrowcolor": "#2a3f5f",
           "arrowhead": 0,
           "arrowwidth": 1
          },
          "autotypenumbers": "strict",
          "coloraxis": {
           "colorbar": {
            "outlinewidth": 0,
            "ticks": ""
           }
          },
          "colorscale": {
           "diverging": [
            [
             0,
             "#8e0152"
            ],
            [
             0.1,
             "#c51b7d"
            ],
            [
             0.2,
             "#de77ae"
            ],
            [
             0.3,
             "#f1b6da"
            ],
            [
             0.4,
             "#fde0ef"
            ],
            [
             0.5,
             "#f7f7f7"
            ],
            [
             0.6,
             "#e6f5d0"
            ],
            [
             0.7,
             "#b8e186"
            ],
            [
             0.8,
             "#7fbc41"
            ],
            [
             0.9,
             "#4d9221"
            ],
            [
             1,
             "#276419"
            ]
           ],
           "sequential": [
            [
             0,
             "#0d0887"
            ],
            [
             0.1111111111111111,
             "#46039f"
            ],
            [
             0.2222222222222222,
             "#7201a8"
            ],
            [
             0.3333333333333333,
             "#9c179e"
            ],
            [
             0.4444444444444444,
             "#bd3786"
            ],
            [
             0.5555555555555556,
             "#d8576b"
            ],
            [
             0.6666666666666666,
             "#ed7953"
            ],
            [
             0.7777777777777778,
             "#fb9f3a"
            ],
            [
             0.8888888888888888,
             "#fdca26"
            ],
            [
             1,
             "#f0f921"
            ]
           ],
           "sequentialminus": [
            [
             0,
             "#0d0887"
            ],
            [
             0.1111111111111111,
             "#46039f"
            ],
            [
             0.2222222222222222,
             "#7201a8"
            ],
            [
             0.3333333333333333,
             "#9c179e"
            ],
            [
             0.4444444444444444,
             "#bd3786"
            ],
            [
             0.5555555555555556,
             "#d8576b"
            ],
            [
             0.6666666666666666,
             "#ed7953"
            ],
            [
             0.7777777777777778,
             "#fb9f3a"
            ],
            [
             0.8888888888888888,
             "#fdca26"
            ],
            [
             1,
             "#f0f921"
            ]
           ]
          },
          "colorway": [
           "#636efa",
           "#EF553B",
           "#00cc96",
           "#ab63fa",
           "#FFA15A",
           "#19d3f3",
           "#FF6692",
           "#B6E880",
           "#FF97FF",
           "#FECB52"
          ],
          "font": {
           "color": "#2a3f5f"
          },
          "geo": {
           "bgcolor": "white",
           "lakecolor": "white",
           "landcolor": "#E5ECF6",
           "showlakes": true,
           "showland": true,
           "subunitcolor": "white"
          },
          "hoverlabel": {
           "align": "left"
          },
          "hovermode": "closest",
          "mapbox": {
           "style": "light"
          },
          "paper_bgcolor": "white",
          "plot_bgcolor": "#E5ECF6",
          "polar": {
           "angularaxis": {
            "gridcolor": "white",
            "linecolor": "white",
            "ticks": ""
           },
           "bgcolor": "#E5ECF6",
           "radialaxis": {
            "gridcolor": "white",
            "linecolor": "white",
            "ticks": ""
           }
          },
          "scene": {
           "xaxis": {
            "backgroundcolor": "#E5ECF6",
            "gridcolor": "white",
            "gridwidth": 2,
            "linecolor": "white",
            "showbackground": true,
            "ticks": "",
            "zerolinecolor": "white"
           },
           "yaxis": {
            "backgroundcolor": "#E5ECF6",
            "gridcolor": "white",
            "gridwidth": 2,
            "linecolor": "white",
            "showbackground": true,
            "ticks": "",
            "zerolinecolor": "white"
           },
           "zaxis": {
            "backgroundcolor": "#E5ECF6",
            "gridcolor": "white",
            "gridwidth": 2,
            "linecolor": "white",
            "showbackground": true,
            "ticks": "",
            "zerolinecolor": "white"
           }
          },
          "shapedefaults": {
           "line": {
            "color": "#2a3f5f"
           }
          },
          "ternary": {
           "aaxis": {
            "gridcolor": "white",
            "linecolor": "white",
            "ticks": ""
           },
           "baxis": {
            "gridcolor": "white",
            "linecolor": "white",
            "ticks": ""
           },
           "bgcolor": "#E5ECF6",
           "caxis": {
            "gridcolor": "white",
            "linecolor": "white",
            "ticks": ""
           }
          },
          "title": {
           "x": 0.05
          },
          "xaxis": {
           "automargin": true,
           "gridcolor": "white",
           "linecolor": "white",
           "ticks": "",
           "title": {
            "standoff": 15
           },
           "zerolinecolor": "white",
           "zerolinewidth": 2
          },
          "yaxis": {
           "automargin": true,
           "gridcolor": "white",
           "linecolor": "white",
           "ticks": "",
           "title": {
            "standoff": 15
           },
           "zerolinecolor": "white",
           "zerolinewidth": 2
          }
         }
        },
        "title": {
         "font": {
          "color": "black",
          "family": "Overpass",
          "size": 25
         },
         "text": "<b>Model Vs Model Optimized (OPT)<b>",
         "x": 0.45,
         "y": 0.9
        },
        "width": 1100,
        "xaxis": {
         "title": {
          "font": {
           "color": "black",
           "family": "Overpass",
           "size": 25
          },
          "standoff": 25,
          "text": "<b>VGS / V<b>"
         }
        },
        "yaxis": {
         "title": {
          "font": {
           "color": "black",
           "family": "Overpass",
           "size": 25
          },
          "standoff": 10,
          "text": "<b>|ID| / A<b>"
         },
         "type": "log"
        }
       }
      }
     },
     "metadata": {},
     "output_type": "display_data"
    },
    {
     "name": "stdout",
     "output_type": "stream",
     "text": [
      "\n"
     ]
    },
    {
     "data": {
      "application/vnd.plotly.v1+json": {
       "config": {
        "plotlyServerURL": "https://plot.ly"
       },
       "data": [
        {
         "line": {
          "color": "rgb(255, 0, 0)",
          "dash": "dash"
         },
         "mode": "lines+text",
         "name": "<b>Model OVSED<b> <b>-20V<b>",
         "text": [
          "-20V"
         ],
         "textfont": {
          "color": "rgb(255, 0, 0)",
          "family": "Times New Roman",
          "size": 13
         },
         "textposition": "bottom center",
         "type": "scatter",
         "x": [
          -39.564,
          -39.044,
          -38.341,
          -37.808,
          -37.333,
          -36.845,
          -36.163,
          -35.491,
          -34.768,
          -34.143,
          -33.477,
          -32.923,
          -32.378,
          -31.876,
          -31.369,
          -30.726,
          -30.23,
          -29.587,
          -28.912,
          -27.935,
          -27.367,
          -26.657,
          -25.912,
          -25.44,
          -24.773,
          -24.253,
          -23.516,
          -22.587,
          -21.925,
          -21.376,
          -20.685,
          -19.91,
          -19.277,
          -18.648,
          -17.985,
          -17.287,
          -16.563,
          -15.924,
          -15.223,
          -14.464,
          -13.824,
          -12.909,
          -12.477,
          -11.822,
          -11.005,
          -10.32,
          -9.659,
          -9.418,
          -8.608,
          -7.985,
          -7.404,
          -6.949,
          -6.214,
          -5.455,
          -4.469,
          -3.907,
          -3.43,
          -3.003,
          -2.506,
          -1.964,
          -1.572,
          -0.909,
          -0.026,
          -0.026,
          -0.026,
          -0.026,
          -0.026,
          -0.026,
          -0.026,
          -0.026,
          -0.026,
          -0.026,
          -0.026,
          -0.026,
          -0.026,
          -0.026,
          -0.026,
          -0.026
         ],
         "y": [
          -11.55335143292033,
          -11.554540449015297,
          -11.555936829312014,
          -11.556811064795788,
          -11.557437912414883,
          -11.557914897562778,
          -11.558260979725652,
          -11.558183047226292,
          -11.557558165978486,
          -11.55649419036302,
          -11.554741678434466,
          -11.552728229288572,
          -11.550188664199991,
          -11.547299755570867,
          -11.543784684549324,
          -11.538356255620599,
          -11.5333368774413,
          -11.52560925437623,
          -11.515816519118774,
          -11.498075421332725,
          -11.485510760361306,
          -11.46710529916375,
          -11.44411222881297,
          -11.427339091654561,
          -11.400351747510603,
          -11.376354313641178,
          -11.337351399352196,
          -11.278686255846466,
          -11.22948603845205,
          -11.183423344581056,
          -11.117927897372603,
          -11.033384258822117,
          -10.95465922748215,
          -10.86692183360562,
          -10.763217733783945,
          -10.640441009562005,
          -10.497002334277088,
          -10.355634403794022,
          -10.18335115947906,
          -9.974996170415377,
          -9.780456661594517,
          -9.47027921675504,
          -9.310020620243732,
          -9.049302357923388,
          -8.692898185596473,
          -8.366261482365019,
          -8.026137064145427,
          -7.895894106969354,
          -7.433200730392386,
          -7.050685046325482,
          -6.672691605839109,
          -6.362163380682021,
          -5.833332394123538,
          -5.251649452684156,
          -4.441615018841391,
          -3.9523228529903305,
          -3.521309883042241,
          -3.1232424808027703,
          -2.645392224323108,
          -2.1065160919200103,
          -1.7052712942449244,
          -1.0047672620769823,
          -0.02941870298603248,
          -0.02941870298603248,
          -0.02941870298603248,
          -0.02941870298603248,
          -0.02941870298603248,
          -0.02941870298603248,
          -0.02941870298603248,
          -0.02941870298603248,
          -0.02941870298603248,
          -0.02941870298603248,
          -0.02941870298603248,
          -0.02941870298603248,
          -0.02941870298603248,
          -0.02941870298603248,
          -0.02941870298603248,
          -0.02941870298603248
         ]
        },
        {
         "line": {
          "color": "rgb(0, 0, 255)",
          "dash": "dash"
         },
         "mode": "lines+text",
         "name": "<b>Model OVSED<b> <b>-30V<b>",
         "text": [
          "-30V"
         ],
         "textfont": {
          "color": "rgb(0, 0, 255)",
          "family": "Times New Roman",
          "size": 13
         },
         "textposition": "bottom center",
         "type": "scatter",
         "x": [
          -40.017,
          -39.419,
          -38.745,
          -38.311,
          -37.949,
          -37.376,
          -36.784,
          -36.396,
          -35.768,
          -35.283,
          -34.582,
          -33.964,
          -33.367,
          -32.681,
          -31.908,
          -31.406,
          -30.837,
          -30.321,
          -29.852,
          -29.122,
          -28.697,
          -28.089,
          -27.44,
          -26.844,
          -26.025,
          -25.186,
          -24.467,
          -23.932,
          -23.176,
          -22.338,
          -21.454,
          -20.724,
          -20.084,
          -19.352,
          -18.738,
          -17.887,
          -17.312,
          -16.586,
          -15.807,
          -15.203,
          -14.453,
          -13.801,
          -13.292,
          -12.835,
          -12.425,
          -11.972,
          -11.539,
          -10.896,
          -10.436,
          -10.025,
          -9.447,
          -8.851,
          -8.461,
          -7.971,
          -7.459,
          -6.975,
          -6.504,
          -5.983,
          -5.507,
          -5.011,
          -4.532,
          -4.032,
          -3.529,
          -2.993,
          -2.544,
          -1.999,
          -1.636,
          -1.059,
          -0.762,
          -0.499,
          -0.055,
          -0.055,
          -0.055,
          -0.055,
          -0.055,
          -0.055,
          -0.055,
          -0.055
         ],
         "y": [
          -27.910849273986074,
          -27.887477570956985,
          -27.85777892617357,
          -27.836604430149865,
          -27.817620890745232,
          -27.78494337425744,
          -27.747536993681813,
          -27.720856026232592,
          -27.67375274044669,
          -27.633820364595486,
          -27.570155908159727,
          -27.507707735971746,
          -27.441265532689542,
          -27.356870842419177,
          -27.250543764140904,
          -27.17459891201118,
          -27.081466424895655,
          -26.99013071889432,
          -26.90110669305779,
          -26.75044437628578,
          -26.65555907116567,
          -26.51009495104308,
          -26.341505686680236,
          -26.173878253986548,
          -25.92232126714374,
          -25.637587528622596,
          -25.37049464950785,
          -25.157254597453807,
          -24.83392854450766,
          -24.444172644361124,
          -23.995732785367338,
          -23.595465045376937,
          -23.22158667473786,
          -22.767030788488885,
          -22.363154136222025,
          -21.76868193996631,
          -21.34387849363286,
          -20.78057246840926,
          -20.142438684087246,
          -19.623521338081797,
          -18.949753029743786,
          -18.337544276072517,
          -17.842522638180704,
          -17.385348181754008,
          -16.964982141079393,
          -16.48934821052522,
          -16.023795168496328,
          -15.312894410495511,
          -14.79008251886311,
          -14.313000109572858,
          -13.62629768356934,
          -12.899106209384561,
          -12.412874071616715,
          -11.790448090109939,
          -11.126519895827586,
          -10.486315703070472,
          -9.851710864722566,
          -9.136587681261119,
          -8.471318386639078,
          -7.766165268309009,
          -7.0737863423477565,
          -6.339286588371441,
          -5.588438116517625,
          -4.775361414055557,
          -4.084125199205917,
          -3.232894875395391,
          -2.6586181549352266,
          -1.7339622773251642,
          -1.2524350892767266,
          -0.8229059433635566,
          -0.09116607762805942,
          -0.09116607762805942,
          -0.09116607762805942,
          -0.09116607762805942,
          -0.09116607762805942,
          -0.09116607762805942,
          -0.09116607762805942,
          -0.09116607762805942
         ]
        },
        {
         "line": {
          "color": "rgb(30, 144, 255)",
          "dash": "dash"
         },
         "mode": "lines+text",
         "name": "<b>Model OVSED<b> <b>-40V<b>",
         "text": [
          "-40V"
         ],
         "textfont": {
          "color": "rgb(30, 144, 255)",
          "family": "Times New Roman",
          "size": 13
         },
         "textposition": "bottom center",
         "type": "scatter",
         "x": [
          -39.986,
          -39.372,
          -38.549,
          -37.921,
          -37.898,
          -37.851,
          -37.779,
          -37.755,
          -37.605,
          -37.509,
          -37.462,
          -37.438,
          -37.365,
          -37.341,
          -37.319,
          -36.529,
          -35.713,
          -35.004,
          -34.31,
          -33.641,
          -32.986,
          -32.44,
          -31.329,
          -30.418,
          -29.784,
          -29.127,
          -28.322,
          -27.77,
          -27.032,
          -26.386,
          -25.806,
          -25.136,
          -24.381,
          -23.809,
          -23.371,
          -22.514,
          -21.908,
          -21.325,
          -20.593,
          -19.964,
          -19.468,
          -18.966,
          -18.471,
          -17.983,
          -16.985,
          -16.008,
          -15.515,
          -14.987,
          -14.469,
          -13.989,
          -13.474,
          -13.009,
          -12.459,
          -11.969,
          -11.462,
          -11.032,
          -10.412,
          -9.988,
          -9.485,
          -9.022,
          -8.451,
          -7.957,
          -7.487,
          -7.031,
          -6.466,
          -5.987,
          -5.494,
          -5.042,
          -4.494,
          -3.936,
          -3.504,
          -3.03,
          -2.474,
          -1.981,
          -1.54,
          -1.076,
          -0.648,
          -0.055
         ],
         "y": [
          -47.556726411380396,
          -47.37203955340817,
          -47.10438651206371,
          -46.88390012834073,
          -46.87554909958125,
          -46.85842241878415,
          -46.832025066911875,
          -46.82318259670352,
          -46.7674235195815,
          -46.7312885465395,
          -46.71346886439517,
          -46.70433673620347,
          -46.67642349676369,
          -46.6672016044585,
          -46.65872862196201,
          -46.34185313627259,
          -45.987966012826966,
          -45.65763895951925,
          -45.3129818765075,
          -44.9601623661537,
          -44.59462589710307,
          -44.27437704814608,
          -43.57803083884486,
          -42.961269209287394,
          -42.50721705236261,
          -42.014914878696345,
          -41.3812007982197,
          -40.927095816559586,
          -40.294994587851754,
          -39.71816938133225,
          -39.181553731423854,
          -38.539640625612904,
          -37.788071886293416,
          -37.198852032406485,
          -36.736176145559,
          -35.80227054703804,
          -35.11921439392549,
          -34.444537159419326,
          -33.57333265502256,
          -32.80354724383266,
          -32.18290715413442,
          -31.542672914651924,
          -30.899597176529003,
          -30.254312596016145,
          -28.900294393572477,
          -27.5310430752799,
          -26.824067464737247,
          -26.055199896825805,
          -25.289316652029047,
          -24.5695436095364,
          -23.78668323947359,
          -23.070547330205617,
          -22.212326064476514,
          -21.437696251044066,
          -20.626415137668634,
          -19.93068227482473,
          -18.915375267851836,
          -18.21291455437548,
          -17.371174857487112,
          -16.588455625174625,
          -15.612904729990351,
          -14.759944830685098,
          -13.940854191209851,
          -13.139234045588331,
          -12.136714430964892,
          -11.278898157143638,
          -10.388598116674313,
          -9.565855835032886,
          -8.560217697913952,
          -7.527235337835579,
          -6.7214029782773475,
          -5.8312172751904665,
          -4.779179004863588,
          -3.839400637582046,
          -2.993327536341713,
          -2.0977085987882855,
          -1.266731468258144,
          -0.1078818921553609
         ]
        },
        {
         "line": {
          "color": "black",
          "dash": "solid"
         },
         "mode": "lines+text",
         "name": "<b>Model OPT<b> <b>-20V<b>",
         "text": [
          "-20V"
         ],
         "textfont": {
          "color": "black",
          "family": "Times New Roman",
          "size": 13
         },
         "textposition": "bottom center",
         "type": "scatter",
         "x": [
          -39.564,
          -39.044,
          -38.341,
          -37.808,
          -37.333,
          -36.845,
          -36.163,
          -35.491,
          -34.768,
          -34.143,
          -33.477,
          -32.923,
          -32.378,
          -31.876,
          -31.369,
          -30.726,
          -30.23,
          -29.587,
          -28.912,
          -27.935,
          -27.367,
          -26.657,
          -25.912,
          -25.44,
          -24.773,
          -24.253,
          -23.516,
          -22.587,
          -21.925,
          -21.376,
          -20.685,
          -19.91,
          -19.277,
          -18.648,
          -17.985,
          -17.287,
          -16.563,
          -15.924,
          -15.223,
          -14.464,
          -13.824,
          -12.909,
          -12.477,
          -11.822,
          -11.005,
          -10.32,
          -9.659,
          -9.418,
          -8.608,
          -7.985,
          -7.404,
          -6.949,
          -6.214,
          -5.455,
          -4.469,
          -3.907,
          -3.43,
          -3.003,
          -2.506,
          -1.964,
          -1.572,
          -0.909,
          -0.026,
          -0.026,
          -0.026,
          -0.026,
          -0.026,
          -0.026,
          -0.026,
          -0.026,
          -0.026,
          -0.026,
          -0.026,
          -0.026,
          -0.026,
          -0.026,
          -0.026,
          -0.026
         ],
         "y": [
          -3.5588627730844435,
          -3.559622351166527,
          -3.560644717163506,
          -3.5614156735048272,
          -3.5620990982072462,
          -3.56279704783116,
          -3.563764019577927,
          -3.5647051325263712,
          -3.565701592133863,
          -3.5665464290674005,
          -3.5674258855412684,
          -3.568137675211071,
          -3.568816907543588,
          -3.5694208444803417,
          -3.5700060354737517,
          -3.5707058116529886,
          -3.57120731849347,
          -3.5717979793018384,
          -3.572331159900151,
          -3.5729038815751637,
          -3.573101737671487,
          -3.573174339878015,
          -3.5729951431326024,
          -3.572718088653822,
          -3.5720664274873517,
          -3.571309817050848,
          -3.5697876936226396,
          -3.566939918903589,
          -3.564121771771737,
          -3.561176624190308,
          -3.5565342283776533,
          -3.5498334977853725,
          -3.5429437302528473,
          -3.534585740431219,
          -3.523845719111611,
          -3.510000130928282,
          -3.4923637216002716,
          -3.473522941157237,
          -3.4486993071670238,
          -3.41607242495358,
          -3.3831490485227067,
          -3.32598249735356,
          -3.294291200334528,
          -3.2397345897417527,
          -3.1594166098879146,
          -3.0803017434114124,
          -2.9926549479743483,
          -2.9577373573024746,
          -2.8279613004385795,
          -2.7143241741969404,
          -2.596817934977019,
          -2.4966771311529588,
          -2.3192522207474524,
          -2.1150416684514566,
          -1.8169586264597866,
          -1.6302248402270256,
          -1.462109067714619,
          -1.3041413889053728,
          -1.1114466529124556,
          -0.8905962406574105,
          -0.7240041581052136,
          -0.42939328203318977,
          -0.012667083688553512,
          -0.012667083688553512,
          -0.012667083688553512,
          -0.012667083688553512,
          -0.012667083688553512,
          -0.012667083688553512,
          -0.012667083688553512,
          -0.012667083688553512,
          -0.012667083688553512,
          -0.012667083688553512,
          -0.012667083688553512,
          -0.012667083688553512,
          -0.012667083688553512,
          -0.012667083688553512,
          -0.012667083688553512,
          -0.012667083688553512
         ]
        },
        {
         "line": {
          "color": "black",
          "dash": "solid"
         },
         "mode": "lines+text",
         "name": "<b>Model OPT<b> <b>-30V<b>",
         "text": [
          "-30V"
         ],
         "textfont": {
          "color": "black",
          "family": "Times New Roman",
          "size": 13
         },
         "textposition": "bottom center",
         "type": "scatter",
         "x": [
          -40.017,
          -39.419,
          -38.745,
          -38.311,
          -37.949,
          -37.376,
          -36.784,
          -36.396,
          -35.768,
          -35.283,
          -34.582,
          -33.964,
          -33.367,
          -32.681,
          -31.908,
          -31.406,
          -30.837,
          -30.321,
          -29.852,
          -29.122,
          -28.697,
          -28.089,
          -27.44,
          -26.844,
          -26.025,
          -25.186,
          -24.467,
          -23.932,
          -23.176,
          -22.338,
          -21.454,
          -20.724,
          -20.084,
          -19.352,
          -18.738,
          -17.887,
          -17.312,
          -16.586,
          -15.807,
          -15.203,
          -14.453,
          -13.801,
          -13.292,
          -12.835,
          -12.425,
          -11.972,
          -11.539,
          -10.896,
          -10.436,
          -10.025,
          -9.447,
          -8.851,
          -8.461,
          -7.971,
          -7.459,
          -6.975,
          -6.504,
          -5.983,
          -5.507,
          -5.011,
          -4.532,
          -4.032,
          -3.529,
          -2.993,
          -2.544,
          -1.999,
          -1.636,
          -1.059,
          -0.762,
          -0.499,
          -0.055,
          -0.055,
          -0.055,
          -0.055,
          -0.055,
          -0.055,
          -0.055,
          -0.055
         ],
         "y": [
          -11.411314715894665,
          -11.411444873694283,
          -11.411326430806012,
          -11.41108133222356,
          -11.410764113694869,
          -11.410029855230988,
          -11.408936583880115,
          -11.408013283730474,
          -11.406128510991685,
          -11.40430438909894,
          -11.401020333438872,
          -11.397401805750167,
          -11.39316809080696,
          -11.387277794094022,
          -11.379120964880853,
          -11.372835315882512,
          -11.364642112383814,
          -11.356117610499577,
          -11.347366291860787,
          -11.331611468190252,
          -11.321106862114478,
          -11.304166574999652,
          -11.283314481250072,
          -11.261332428558168,
          -11.226094708602288,
          -11.183071284574295,
          -11.13978874779326,
          -11.103257274072064,
          -11.044604588657162,
          -10.968811457370753,
          -10.874925955378286,
          -10.78526555109874,
          -10.696663190788174,
          -10.582803020440762,
          -10.476144094884745,
          -10.31006387371451,
          -10.184979402963117,
          -10.011198129315053,
          -9.803881131494332,
          -9.627480608514404,
          -9.38850139923198,
          -9.162112845246423,
          -8.97295435212225,
          -8.793634430651542,
          -8.624996510389163,
          -8.430027927575212,
          -8.235095944706517,
          -7.9300188215681855,
          -7.700244989045917,
          -7.486782599809666,
          -7.173525912912215,
          -6.834539180715673,
          -6.603964040943418,
          -6.304494775635914,
          -5.980022767855498,
          -5.662521475220524,
          -5.343588210630552,
          -4.979475563173334,
          -4.636537736205363,
          -4.268888806687283,
          -3.903996420236255,
          -3.5129389084077833,
          -3.10921616113048,
          -2.6678042944432434,
          -2.2892895915949816,
          -1.8193129600695546,
          -1.4999745437764207,
          -0.9821747356495442,
          -0.7108353737208378,
          -0.46786480371923517,
          -0.05198300197787051,
          -0.05198300197787051,
          -0.05198300197787051,
          -0.05198300197787051,
          -0.05198300197787051,
          -0.05198300197787051,
          -0.05198300197787051,
          -0.05198300197787051
         ]
        },
        {
         "line": {
          "color": "black",
          "dash": "solid"
         },
         "mode": "lines+text",
         "name": "<b>Model OPT<b> <b>-40V<b>",
         "text": [
          "-40V"
         ],
         "textfont": {
          "color": "black",
          "family": "Times New Roman",
          "size": 13
         },
         "textposition": "bottom center",
         "type": "scatter",
         "x": [
          -39.986,
          -39.372,
          -38.549,
          -37.921,
          -37.898,
          -37.851,
          -37.779,
          -37.755,
          -37.605,
          -37.509,
          -37.462,
          -37.438,
          -37.365,
          -37.341,
          -37.319,
          -36.529,
          -35.713,
          -35.004,
          -34.31,
          -33.641,
          -32.986,
          -32.44,
          -31.329,
          -30.418,
          -29.784,
          -29.127,
          -28.322,
          -27.77,
          -27.032,
          -26.386,
          -25.806,
          -25.136,
          -24.381,
          -23.809,
          -23.371,
          -22.514,
          -21.908,
          -21.325,
          -20.593,
          -19.964,
          -19.468,
          -18.966,
          -18.471,
          -17.983,
          -16.985,
          -16.008,
          -15.515,
          -14.987,
          -14.469,
          -13.989,
          -13.474,
          -13.009,
          -12.459,
          -11.969,
          -11.462,
          -11.032,
          -10.412,
          -9.988,
          -9.485,
          -9.022,
          -8.451,
          -7.957,
          -7.487,
          -7.031,
          -6.466,
          -5.987,
          -5.494,
          -5.042,
          -4.494,
          -3.936,
          -3.504,
          -3.03,
          -2.474,
          -1.981,
          -1.54,
          -1.076,
          -0.648,
          -0.055
         ],
         "y": [
          -23.400234698700594,
          -23.379498227204632,
          -23.3475340422638,
          -23.319554554114074,
          -23.318466122432703,
          -23.31622742046736,
          -23.31275983647125,
          -23.311593657781174,
          -23.30418665949964,
          -23.299337554779484,
          -23.29693212821709,
          -23.295695799170286,
          -23.291901697320988,
          -23.290643205509376,
          -23.289484726251334,
          -23.2446674569534,
          -23.19123566955492,
          -23.138208855594932,
          -23.079693794149414,
          -23.016471321937463,
          -22.947474339356674,
          -22.884137723498444,
          -22.737251862109296,
          -22.596846671102064,
          -22.487409894084934,
          -22.363033899931214,
          -22.194326438381115,
          -22.067588866708416,
          -21.883222934222914,
          -21.707081049166266,
          -21.53661410596406,
          -21.324550432296547,
          -21.065316179550397,
          -20.8540870214745,
          -20.683447418515886,
          -20.32665806691428,
          -20.055631525126582,
          -19.779931047155728,
          -19.412661588471703,
          -19.07806288458379,
          -18.801714278391795,
          -18.510741116334206,
          -18.212680811760322,
          -17.907991468093112,
          -17.251397511005138,
          -16.56529745991965,
          -16.202961782482117,
          -15.803025183760084,
          -15.398834014476135,
          -15.013941336332921,
          -14.590031662382286,
          -14.197650850320722,
          -13.721902634860234,
          -13.287569663221047,
          -12.827918972351506,
          -12.430021688521611,
          -11.843498724489635,
          -11.433815858183397,
          -10.938915430528038,
          -10.47497774911465,
          -9.891931009524779,
          -9.377971837324061,
          -8.880913179781485,
          -8.391263438623842,
          -7.774639448838954,
          -7.2434149103829375,
          -6.688704391332507,
          -6.173149355719049,
          -5.539301530784968,
          -4.884163124821522,
          -4.370341175894785,
          -3.800031831309553,
          -3.122496914403259,
          -2.514133939272392,
          -1.9639894326397322,
          -1.3791829360133698,
          -0.8344030124854418,
          -0.0712430959161388
         ]
        },
        {
         "marker": {
          "color": "rgb(255, 0, 0)",
          "line": {
           "color": "MediumPurple",
           "width": 0.8
          },
          "opacity": 0.5,
          "size": 11
         },
         "mode": "markers+text",
         "name": "<b>Exp <b> <b>-25V<b> <b> (-5V)<b>",
         "text": [
          "<b>VGS<b>=-20V  (-5)"
         ],
         "textfont": {
          "color": "rgb(255, 0, 0)",
          "family": "Times New Roman",
          "size": 18
         },
         "textposition": "top right",
         "type": "scatter",
         "x": [
          -39.564,
          -39.044,
          -38.341,
          -37.808,
          -37.333,
          -36.845,
          -36.163,
          -35.491,
          -34.768,
          -34.143,
          -33.477,
          -32.923,
          -32.378,
          -31.876,
          -31.369,
          -30.726,
          -30.23,
          -29.587,
          -28.912,
          -27.935,
          -27.367,
          -26.657,
          -25.912,
          -25.44,
          -24.773,
          -24.253,
          -23.516,
          -22.587,
          -21.925,
          -21.376,
          -20.685,
          -19.91,
          -19.277,
          -18.648,
          -17.985,
          -17.287,
          -16.563,
          -15.924,
          -15.223,
          -14.464,
          -13.824,
          -12.909,
          -12.477,
          -11.822,
          -11.005,
          -10.32,
          -9.659,
          -9.418,
          -8.608,
          -7.985,
          -7.404,
          -6.949,
          -6.214,
          -5.455,
          -4.469,
          -3.907,
          -3.43,
          -3.003,
          -2.506,
          -1.964,
          -1.572,
          -0.909,
          -0.026,
          -0.026,
          -0.026,
          -0.026,
          -0.026,
          -0.026,
          -0.026,
          -0.026,
          -0.026,
          -0.026,
          -0.026,
          -0.026,
          -0.026,
          -0.026,
          -0.026,
          -0.026
         ],
         "y": [
          -3.55,
          -3.571,
          -3.571,
          -3.539,
          -3.556,
          -3.557,
          -3.484,
          -3.56,
          -3.578,
          -3.563,
          -3.564,
          -3.564,
          -3.565,
          -3.602,
          -3.618,
          -3.553,
          -3.587,
          -3.586,
          -3.573,
          -3.51,
          -3.533,
          -3.571,
          -3.542,
          -3.542,
          -3.562,
          -3.562,
          -3.548,
          -3.535,
          -3.554,
          -3.555,
          -3.556,
          -3.523,
          -3.524,
          -3.541,
          -3.528,
          -3.563,
          -3.563,
          -3.535,
          -3.486,
          -3.452,
          -3.453,
          -3.404,
          -3.388,
          -3.324,
          -3.238,
          -3.255,
          -3.14,
          -3.073,
          -2.971,
          -2.818,
          -2.713,
          -2.528,
          -2.447,
          -2.165,
          -1.825,
          -1.634,
          -1.497,
          -1.279,
          -1.08,
          -0.871,
          -0.678,
          -0.403,
          -0.016,
          -0.016,
          -0.016,
          -0.016,
          -0.016,
          -0.016,
          -0.016,
          -0.016,
          -0.016,
          -0.016,
          -0.016,
          -0.016,
          -0.016,
          -0.016,
          -0.016,
          -0.016
         ]
        },
        {
         "marker": {
          "color": "rgb(0, 0, 255)",
          "line": {
           "color": "MediumPurple",
           "width": 0.8
          },
          "opacity": 0.5,
          "size": 11
         },
         "mode": "markers+text",
         "name": "<b>Exp <b> <b>-35V<b> <b> (-5V)<b>",
         "text": [
          "<b>VGS<b>=-30V  (-5)"
         ],
         "textfont": {
          "color": "rgb(0, 0, 255)",
          "family": "Times New Roman",
          "size": 18
         },
         "textposition": "top right",
         "type": "scatter",
         "x": [
          -40.017,
          -39.419,
          -38.745,
          -38.311,
          -37.949,
          -37.376,
          -36.784,
          -36.396,
          -35.768,
          -35.283,
          -34.582,
          -33.964,
          -33.367,
          -32.681,
          -31.908,
          -31.406,
          -30.837,
          -30.321,
          -29.852,
          -29.122,
          -28.697,
          -28.089,
          -27.44,
          -26.844,
          -26.025,
          -25.186,
          -24.467,
          -23.932,
          -23.176,
          -22.338,
          -21.454,
          -20.724,
          -20.084,
          -19.352,
          -18.738,
          -17.887,
          -17.312,
          -16.586,
          -15.807,
          -15.203,
          -14.453,
          -13.801,
          -13.292,
          -12.835,
          -12.425,
          -11.972,
          -11.539,
          -10.896,
          -10.436,
          -10.025,
          -9.447,
          -8.851,
          -8.461,
          -7.971,
          -7.459,
          -6.975,
          -6.504,
          -5.983,
          -5.507,
          -5.011,
          -4.532,
          -4.032,
          -3.529,
          -2.993,
          -2.544,
          -1.999,
          -1.636,
          -1.059,
          -0.762,
          -0.499,
          -0.055,
          -0.055,
          -0.055,
          -0.055,
          -0.055,
          -0.055,
          -0.055,
          -0.055
         ],
         "y": [
          -11.498,
          -11.447,
          -11.416,
          -11.434,
          -11.39,
          -11.409,
          -11.41,
          -11.41,
          -11.411,
          -11.394,
          -11.395,
          -11.379,
          -11.379,
          -11.347,
          -11.309,
          -11.31,
          -11.278,
          -11.279,
          -11.279,
          -11.297,
          -11.264,
          -11.265,
          -11.25,
          -11.202,
          -11.17,
          -11.189,
          -11.093,
          -11.061,
          -11.064,
          -11,
          -10.883,
          -10.863,
          -10.746,
          -10.679,
          -10.537,
          -10.398,
          -10.296,
          -10.093,
          -9.88,
          -9.687,
          -9.392,
          -9.155,
          -8.951,
          -8.738,
          -8.518,
          -8.335,
          -8.105,
          -7.812,
          -7.587,
          -7.349,
          -7.083,
          -6.719,
          -6.469,
          -6.149,
          -5.833,
          -5.554,
          -5.165,
          -4.816,
          -4.496,
          -4.145,
          -3.71,
          -3.361,
          -2.986,
          -2.549,
          -2.108,
          -1.775,
          -1.386,
          -1.079,
          -0.723,
          -0.41,
          -0.015,
          -0.015,
          -0.015,
          -0.015,
          -0.015,
          -0.015,
          -0.015,
          -0.015
         ]
        },
        {
         "marker": {
          "color": "rgb(30, 144, 255)",
          "line": {
           "color": "MediumPurple",
           "width": 0.8
          },
          "opacity": 0.5,
          "size": 11
         },
         "mode": "markers+text",
         "name": "<b>Exp <b> <b>-45V<b> <b> (-5V)<b>",
         "text": [
          "<b>VGS<b>=-40V  (-5)"
         ],
         "textfont": {
          "color": "rgb(30, 144, 255)",
          "family": "Times New Roman",
          "size": 18
         },
         "textposition": "top right",
         "type": "scatter",
         "x": [
          -39.986,
          -39.372,
          -38.549,
          -37.921,
          -37.898,
          -37.851,
          -37.779,
          -37.755,
          -37.605,
          -37.509,
          -37.462,
          -37.438,
          -37.365,
          -37.341,
          -37.319,
          -36.529,
          -35.713,
          -35.004,
          -34.31,
          -33.641,
          -32.986,
          -32.44,
          -31.329,
          -30.418,
          -29.784,
          -29.127,
          -28.322,
          -27.77,
          -27.032,
          -26.386,
          -25.806,
          -25.136,
          -24.381,
          -23.809,
          -23.371,
          -22.514,
          -21.908,
          -21.325,
          -20.593,
          -19.964,
          -19.468,
          -18.966,
          -18.471,
          -17.983,
          -16.985,
          -16.008,
          -15.515,
          -14.987,
          -14.469,
          -13.989,
          -13.474,
          -13.009,
          -12.459,
          -11.969,
          -11.462,
          -11.032,
          -10.412,
          -9.988,
          -9.485,
          -9.022,
          -8.451,
          -7.957,
          -7.487,
          -7.031,
          -6.466,
          -5.987,
          -5.494,
          -5.042,
          -4.494,
          -3.936,
          -3.504,
          -3.03,
          -2.474,
          -1.981,
          -1.54,
          -1.076,
          -0.648,
          -0.055
         ],
         "y": [
          -23.363,
          -23.4,
          -23.266,
          -23.266,
          -23.266,
          -23.266,
          -23.267,
          -23.267,
          -23.267,
          -23.267,
          -23.267,
          -23.267,
          -23.285,
          -23.285,
          -23.285,
          -23.185,
          -23.173,
          -23.038,
          -23.038,
          -22.975,
          -22.936,
          -22.865,
          -22.748,
          -22.68,
          -22.582,
          -22.463,
          -22.321,
          -22.184,
          -22.02,
          -21.835,
          -21.627,
          -21.467,
          -21.203,
          -20.996,
          -20.742,
          -20.339,
          -20.099,
          -19.801,
          -19.487,
          -19.058,
          -18.782,
          -18.453,
          -18.16,
          -17.87,
          -17.28,
          -16.636,
          -16.213,
          -15.772,
          -15.371,
          -15.012,
          -14.607,
          -14.168,
          -13.708,
          -13.264,
          -12.819,
          -12.333,
          -11.981,
          -11.435,
          -10.955,
          -10.447,
          -9.94,
          -9.368,
          -8.903,
          -8.412,
          -7.825,
          -7.214,
          -6.673,
          -6.104,
          -5.535,
          -4.966,
          -4.308,
          -3.8,
          -3.134,
          -2.447,
          -1.896,
          -1.273,
          -0.697,
          -0.021
         ]
        }
       ],
       "layout": {
        "height": 600,
        "legend": {
         "font": {
          "size": 16
         }
        },
        "template": {
         "data": {
          "bar": [
           {
            "error_x": {
             "color": "#2a3f5f"
            },
            "error_y": {
             "color": "#2a3f5f"
            },
            "marker": {
             "line": {
              "color": "#E5ECF6",
              "width": 0.5
             },
             "pattern": {
              "fillmode": "overlay",
              "size": 10,
              "solidity": 0.2
             }
            },
            "type": "bar"
           }
          ],
          "barpolar": [
           {
            "marker": {
             "line": {
              "color": "#E5ECF6",
              "width": 0.5
             },
             "pattern": {
              "fillmode": "overlay",
              "size": 10,
              "solidity": 0.2
             }
            },
            "type": "barpolar"
           }
          ],
          "carpet": [
           {
            "aaxis": {
             "endlinecolor": "#2a3f5f",
             "gridcolor": "white",
             "linecolor": "white",
             "minorgridcolor": "white",
             "startlinecolor": "#2a3f5f"
            },
            "baxis": {
             "endlinecolor": "#2a3f5f",
             "gridcolor": "white",
             "linecolor": "white",
             "minorgridcolor": "white",
             "startlinecolor": "#2a3f5f"
            },
            "type": "carpet"
           }
          ],
          "choropleth": [
           {
            "colorbar": {
             "outlinewidth": 0,
             "ticks": ""
            },
            "type": "choropleth"
           }
          ],
          "contour": [
           {
            "colorbar": {
             "outlinewidth": 0,
             "ticks": ""
            },
            "colorscale": [
             [
              0,
              "#0d0887"
             ],
             [
              0.1111111111111111,
              "#46039f"
             ],
             [
              0.2222222222222222,
              "#7201a8"
             ],
             [
              0.3333333333333333,
              "#9c179e"
             ],
             [
              0.4444444444444444,
              "#bd3786"
             ],
             [
              0.5555555555555556,
              "#d8576b"
             ],
             [
              0.6666666666666666,
              "#ed7953"
             ],
             [
              0.7777777777777778,
              "#fb9f3a"
             ],
             [
              0.8888888888888888,
              "#fdca26"
             ],
             [
              1,
              "#f0f921"
             ]
            ],
            "type": "contour"
           }
          ],
          "contourcarpet": [
           {
            "colorbar": {
             "outlinewidth": 0,
             "ticks": ""
            },
            "type": "contourcarpet"
           }
          ],
          "heatmap": [
           {
            "colorbar": {
             "outlinewidth": 0,
             "ticks": ""
            },
            "colorscale": [
             [
              0,
              "#0d0887"
             ],
             [
              0.1111111111111111,
              "#46039f"
             ],
             [
              0.2222222222222222,
              "#7201a8"
             ],
             [
              0.3333333333333333,
              "#9c179e"
             ],
             [
              0.4444444444444444,
              "#bd3786"
             ],
             [
              0.5555555555555556,
              "#d8576b"
             ],
             [
              0.6666666666666666,
              "#ed7953"
             ],
             [
              0.7777777777777778,
              "#fb9f3a"
             ],
             [
              0.8888888888888888,
              "#fdca26"
             ],
             [
              1,
              "#f0f921"
             ]
            ],
            "type": "heatmap"
           }
          ],
          "heatmapgl": [
           {
            "colorbar": {
             "outlinewidth": 0,
             "ticks": ""
            },
            "colorscale": [
             [
              0,
              "#0d0887"
             ],
             [
              0.1111111111111111,
              "#46039f"
             ],
             [
              0.2222222222222222,
              "#7201a8"
             ],
             [
              0.3333333333333333,
              "#9c179e"
             ],
             [
              0.4444444444444444,
              "#bd3786"
             ],
             [
              0.5555555555555556,
              "#d8576b"
             ],
             [
              0.6666666666666666,
              "#ed7953"
             ],
             [
              0.7777777777777778,
              "#fb9f3a"
             ],
             [
              0.8888888888888888,
              "#fdca26"
             ],
             [
              1,
              "#f0f921"
             ]
            ],
            "type": "heatmapgl"
           }
          ],
          "histogram": [
           {
            "marker": {
             "pattern": {
              "fillmode": "overlay",
              "size": 10,
              "solidity": 0.2
             }
            },
            "type": "histogram"
           }
          ],
          "histogram2d": [
           {
            "colorbar": {
             "outlinewidth": 0,
             "ticks": ""
            },
            "colorscale": [
             [
              0,
              "#0d0887"
             ],
             [
              0.1111111111111111,
              "#46039f"
             ],
             [
              0.2222222222222222,
              "#7201a8"
             ],
             [
              0.3333333333333333,
              "#9c179e"
             ],
             [
              0.4444444444444444,
              "#bd3786"
             ],
             [
              0.5555555555555556,
              "#d8576b"
             ],
             [
              0.6666666666666666,
              "#ed7953"
             ],
             [
              0.7777777777777778,
              "#fb9f3a"
             ],
             [
              0.8888888888888888,
              "#fdca26"
             ],
             [
              1,
              "#f0f921"
             ]
            ],
            "type": "histogram2d"
           }
          ],
          "histogram2dcontour": [
           {
            "colorbar": {
             "outlinewidth": 0,
             "ticks": ""
            },
            "colorscale": [
             [
              0,
              "#0d0887"
             ],
             [
              0.1111111111111111,
              "#46039f"
             ],
             [
              0.2222222222222222,
              "#7201a8"
             ],
             [
              0.3333333333333333,
              "#9c179e"
             ],
             [
              0.4444444444444444,
              "#bd3786"
             ],
             [
              0.5555555555555556,
              "#d8576b"
             ],
             [
              0.6666666666666666,
              "#ed7953"
             ],
             [
              0.7777777777777778,
              "#fb9f3a"
             ],
             [
              0.8888888888888888,
              "#fdca26"
             ],
             [
              1,
              "#f0f921"
             ]
            ],
            "type": "histogram2dcontour"
           }
          ],
          "mesh3d": [
           {
            "colorbar": {
             "outlinewidth": 0,
             "ticks": ""
            },
            "type": "mesh3d"
           }
          ],
          "parcoords": [
           {
            "line": {
             "colorbar": {
              "outlinewidth": 0,
              "ticks": ""
             }
            },
            "type": "parcoords"
           }
          ],
          "pie": [
           {
            "automargin": true,
            "type": "pie"
           }
          ],
          "scatter": [
           {
            "fillpattern": {
             "fillmode": "overlay",
             "size": 10,
             "solidity": 0.2
            },
            "type": "scatter"
           }
          ],
          "scatter3d": [
           {
            "line": {
             "colorbar": {
              "outlinewidth": 0,
              "ticks": ""
             }
            },
            "marker": {
             "colorbar": {
              "outlinewidth": 0,
              "ticks": ""
             }
            },
            "type": "scatter3d"
           }
          ],
          "scattercarpet": [
           {
            "marker": {
             "colorbar": {
              "outlinewidth": 0,
              "ticks": ""
             }
            },
            "type": "scattercarpet"
           }
          ],
          "scattergeo": [
           {
            "marker": {
             "colorbar": {
              "outlinewidth": 0,
              "ticks": ""
             }
            },
            "type": "scattergeo"
           }
          ],
          "scattergl": [
           {
            "marker": {
             "colorbar": {
              "outlinewidth": 0,
              "ticks": ""
             }
            },
            "type": "scattergl"
           }
          ],
          "scattermapbox": [
           {
            "marker": {
             "colorbar": {
              "outlinewidth": 0,
              "ticks": ""
             }
            },
            "type": "scattermapbox"
           }
          ],
          "scatterpolar": [
           {
            "marker": {
             "colorbar": {
              "outlinewidth": 0,
              "ticks": ""
             }
            },
            "type": "scatterpolar"
           }
          ],
          "scatterpolargl": [
           {
            "marker": {
             "colorbar": {
              "outlinewidth": 0,
              "ticks": ""
             }
            },
            "type": "scatterpolargl"
           }
          ],
          "scatterternary": [
           {
            "marker": {
             "colorbar": {
              "outlinewidth": 0,
              "ticks": ""
             }
            },
            "type": "scatterternary"
           }
          ],
          "surface": [
           {
            "colorbar": {
             "outlinewidth": 0,
             "ticks": ""
            },
            "colorscale": [
             [
              0,
              "#0d0887"
             ],
             [
              0.1111111111111111,
              "#46039f"
             ],
             [
              0.2222222222222222,
              "#7201a8"
             ],
             [
              0.3333333333333333,
              "#9c179e"
             ],
             [
              0.4444444444444444,
              "#bd3786"
             ],
             [
              0.5555555555555556,
              "#d8576b"
             ],
             [
              0.6666666666666666,
              "#ed7953"
             ],
             [
              0.7777777777777778,
              "#fb9f3a"
             ],
             [
              0.8888888888888888,
              "#fdca26"
             ],
             [
              1,
              "#f0f921"
             ]
            ],
            "type": "surface"
           }
          ],
          "table": [
           {
            "cells": {
             "fill": {
              "color": "#EBF0F8"
             },
             "line": {
              "color": "white"
             }
            },
            "header": {
             "fill": {
              "color": "#C8D4E3"
             },
             "line": {
              "color": "white"
             }
            },
            "type": "table"
           }
          ]
         },
         "layout": {
          "annotationdefaults": {
           "arrowcolor": "#2a3f5f",
           "arrowhead": 0,
           "arrowwidth": 1
          },
          "autotypenumbers": "strict",
          "coloraxis": {
           "colorbar": {
            "outlinewidth": 0,
            "ticks": ""
           }
          },
          "colorscale": {
           "diverging": [
            [
             0,
             "#8e0152"
            ],
            [
             0.1,
             "#c51b7d"
            ],
            [
             0.2,
             "#de77ae"
            ],
            [
             0.3,
             "#f1b6da"
            ],
            [
             0.4,
             "#fde0ef"
            ],
            [
             0.5,
             "#f7f7f7"
            ],
            [
             0.6,
             "#e6f5d0"
            ],
            [
             0.7,
             "#b8e186"
            ],
            [
             0.8,
             "#7fbc41"
            ],
            [
             0.9,
             "#4d9221"
            ],
            [
             1,
             "#276419"
            ]
           ],
           "sequential": [
            [
             0,
             "#0d0887"
            ],
            [
             0.1111111111111111,
             "#46039f"
            ],
            [
             0.2222222222222222,
             "#7201a8"
            ],
            [
             0.3333333333333333,
             "#9c179e"
            ],
            [
             0.4444444444444444,
             "#bd3786"
            ],
            [
             0.5555555555555556,
             "#d8576b"
            ],
            [
             0.6666666666666666,
             "#ed7953"
            ],
            [
             0.7777777777777778,
             "#fb9f3a"
            ],
            [
             0.8888888888888888,
             "#fdca26"
            ],
            [
             1,
             "#f0f921"
            ]
           ],
           "sequentialminus": [
            [
             0,
             "#0d0887"
            ],
            [
             0.1111111111111111,
             "#46039f"
            ],
            [
             0.2222222222222222,
             "#7201a8"
            ],
            [
             0.3333333333333333,
             "#9c179e"
            ],
            [
             0.4444444444444444,
             "#bd3786"
            ],
            [
             0.5555555555555556,
             "#d8576b"
            ],
            [
             0.6666666666666666,
             "#ed7953"
            ],
            [
             0.7777777777777778,
             "#fb9f3a"
            ],
            [
             0.8888888888888888,
             "#fdca26"
            ],
            [
             1,
             "#f0f921"
            ]
           ]
          },
          "colorway": [
           "#636efa",
           "#EF553B",
           "#00cc96",
           "#ab63fa",
           "#FFA15A",
           "#19d3f3",
           "#FF6692",
           "#B6E880",
           "#FF97FF",
           "#FECB52"
          ],
          "font": {
           "color": "#2a3f5f"
          },
          "geo": {
           "bgcolor": "white",
           "lakecolor": "white",
           "landcolor": "#E5ECF6",
           "showlakes": true,
           "showland": true,
           "subunitcolor": "white"
          },
          "hoverlabel": {
           "align": "left"
          },
          "hovermode": "closest",
          "mapbox": {
           "style": "light"
          },
          "paper_bgcolor": "white",
          "plot_bgcolor": "#E5ECF6",
          "polar": {
           "angularaxis": {
            "gridcolor": "white",
            "linecolor": "white",
            "ticks": ""
           },
           "bgcolor": "#E5ECF6",
           "radialaxis": {
            "gridcolor": "white",
            "linecolor": "white",
            "ticks": ""
           }
          },
          "scene": {
           "xaxis": {
            "backgroundcolor": "#E5ECF6",
            "gridcolor": "white",
            "gridwidth": 2,
            "linecolor": "white",
            "showbackground": true,
            "ticks": "",
            "zerolinecolor": "white"
           },
           "yaxis": {
            "backgroundcolor": "#E5ECF6",
            "gridcolor": "white",
            "gridwidth": 2,
            "linecolor": "white",
            "showbackground": true,
            "ticks": "",
            "zerolinecolor": "white"
           },
           "zaxis": {
            "backgroundcolor": "#E5ECF6",
            "gridcolor": "white",
            "gridwidth": 2,
            "linecolor": "white",
            "showbackground": true,
            "ticks": "",
            "zerolinecolor": "white"
           }
          },
          "shapedefaults": {
           "line": {
            "color": "#2a3f5f"
           }
          },
          "ternary": {
           "aaxis": {
            "gridcolor": "white",
            "linecolor": "white",
            "ticks": ""
           },
           "baxis": {
            "gridcolor": "white",
            "linecolor": "white",
            "ticks": ""
           },
           "bgcolor": "#E5ECF6",
           "caxis": {
            "gridcolor": "white",
            "linecolor": "white",
            "ticks": ""
           }
          },
          "title": {
           "x": 0.05
          },
          "xaxis": {
           "automargin": true,
           "gridcolor": "white",
           "linecolor": "white",
           "ticks": "",
           "title": {
            "standoff": 15
           },
           "zerolinecolor": "white",
           "zerolinewidth": 2
          },
          "yaxis": {
           "automargin": true,
           "gridcolor": "white",
           "linecolor": "white",
           "ticks": "",
           "title": {
            "standoff": 15
           },
           "zerolinecolor": "white",
           "zerolinewidth": 2
          }
         }
        },
        "title": {
         "font": {
          "color": "black",
          "family": "Overpass",
          "size": 25
         },
         "text": "<b>Model Vs Model Optimized (OPT)<b>",
         "x": 0.45,
         "y": 0.9
        },
        "width": 1100,
        "xaxis": {
         "title": {
          "font": {
           "color": "black",
           "family": "Overpass",
           "size": 25
          },
          "standoff": 25,
          "text": "<b>VDS / V<b>"
         }
        },
        "yaxis": {
         "title": {
          "font": {
           "color": "black",
           "family": "Overpass",
           "size": 25
          },
          "standoff": 10,
          "text": "<b>ID / uA<b>"
         },
         "type": "linear"
        }
       }
      }
     },
     "metadata": {},
     "output_type": "display_data"
    },
    {
     "name": "stdout",
     "output_type": "stream",
     "text": [
      "\n",
      "\n",
      "\n",
      "\n",
      "\n",
      "\n",
      "**************************************************************************************************************************************************\n",
      "RELATIVE ERROR BETWEEN CURVES: 78257.5450\n",
      "**************************************************************************************************************************************************\n",
      "\n",
      "\n",
      "\n",
      "\n",
      "\n",
      "\n"
     ]
    }
   ],
   "source": [
    "# @title #### **Print grafics plots of model Optimizad and model data.** { run: \"auto\" }\n",
    "# @markdown ### ***Choice the plot that you want to view:***\n",
    "# @markdown ---\n",
    "option = 'show both curves comp' # @param [\"Show Transfer curve opt\", \"Show output curve opt\", \"show both curves opt\", \"Show Transfer curve comp\", \"Show output curve comp\", \"show both curves comp\"]\n",
    "\n",
    "model_opt = create_optimized_model(read, TFTModel, n_points, type_curve_plot, coeff_opt, input_voltage, Vv, load_idleak, width_t, count_transfer, tp_tst, settings['experimental_data_scale_transfer'], settings['current_typic'], resistance, current)\n",
    "\n",
    "in_model_data_opt, in_exp_data_opt, out_model_data_opt, out_exp_data_opt, in_model_data_comp, in_exp_data_comp, out_model_data_comp, out_exp_data_comp = get_model_data(read, count_transfer, count_output, Vv, Id, model_opt, model, compare=True)\n",
    "\n",
    "plot_curves(option, plot, list_tension, list_tension_shift, count_transfer, in_model_data_comp, out_model_data_comp, in_exp_data_comp, out_exp_data_comp, shift_list, settings['select_files'], settings['current_typic'], type_curve_plot, compare=True)\n",
    "\n",
    "read.compute_relative_distance(Id, model_opt)\n",
    "print('\\n\\n\\n\\n\\n')\n"
   ]
  },
  {
   "cell_type": "code",
   "execution_count": 13,
   "metadata": {},
   "outputs": [
    {
     "data": {
      "text/plain": [
       "''"
      ]
     },
     "execution_count": 13,
     "metadata": {},
     "output_type": "execute_result"
    }
   ],
   "source": [
    "settings['select_files']"
   ]
  },
  {
   "cell_type": "code",
   "execution_count": 9,
   "metadata": {},
   "outputs": [
    {
     "data": {
      "application/vnd.plotly.v1+json": {
       "config": {
        "plotlyServerURL": "https://plot.ly"
       },
       "data": [
        {
         "line": {
          "color": "blue"
         },
         "mode": "lines",
         "name": "I_D vs V_GS",
         "type": "scatter",
         "x": [
          -43.973,
          -43.40906493506493,
          -42.84512987012987,
          -42.2811948051948,
          -41.71725974025974,
          -41.153324675324676,
          -40.58938961038961,
          -40.025454545454544,
          -39.46151948051948,
          -38.89758441558441,
          -38.33364935064935,
          -37.76971428571429,
          -37.20577922077922,
          -36.641844155844154,
          -36.07790909090909,
          -35.51397402597402,
          -34.950038961038956,
          -34.3861038961039,
          -33.82216883116883,
          -33.258233766233765,
          -32.6942987012987,
          -32.13036363636363,
          -31.56642857142857,
          -31.002493506493504,
          -30.438558441558442,
          -29.874623376623376,
          -29.31068831168831,
          -28.746753246753244,
          -28.18281818181818,
          -27.618883116883115,
          -27.05494805194805,
          -26.491012987012986,
          -25.92707792207792,
          -25.363142857142854,
          -24.799207792207792,
          -24.235272727272726,
          -23.67133766233766,
          -23.107402597402597,
          -22.54346753246753,
          -21.979532467532465,
          -21.4155974025974,
          -20.851662337662336,
          -20.28772727272727,
          -19.723792207792204,
          -19.159857142857142,
          -18.595922077922076,
          -18.03198701298701,
          -17.468051948051947,
          -16.90411688311688,
          -16.340181818181815,
          -15.776246753246753,
          -15.212311688311686,
          -14.64837662337662,
          -14.084441558441558,
          -13.520506493506492,
          -12.956571428571426,
          -12.392636363636363,
          -11.828701298701297,
          -11.264766233766231,
          -10.700831168831165,
          -10.136896103896099,
          -9.57296103896104,
          -9.009025974025974,
          -8.445090909090908,
          -7.881155844155842,
          -7.317220779220776,
          -6.75328571428571,
          -6.189350649350644,
          -5.625415584415585,
          -5.061480519480519,
          -4.4975454545454525,
          -3.9336103896103864,
          -3.3696753246753204,
          -2.8057402597402543,
          -2.2418051948051954,
          -1.6778701298701293,
          -1.1139350649350632,
          -0.55
         ],
         "y": [
          -5.029113598272234,
          -5.03279572453104,
          -5.036628151971562,
          -5.040618511105079,
          -5.0447748815320335,
          -5.04910582114651,
          -5.053620397381319,
          -5.058328220648931,
          -5.063239480147827,
          -5.068364982220011,
          -5.073716191463926,
          -5.079305274828046,
          -5.0851451489348545,
          -5.091249530912919,
          -5.097632993047579,
          -5.10431102159886,
          -5.111300080180094,
          -5.118617678143445,
          -5.126282444480849,
          -5.134314207822816,
          -5.142734083205352,
          -5.151564566380049,
          -5.160829636567477,
          -5.170554868703948,
          -5.180767556411598,
          -5.191496847138065,
          -5.2027738911727806,
          -5.21463200656182,
          -5.227106862324455,
          -5.240236682837273,
          -5.25406247681478,
          -5.268628295002874,
          -5.283981521543642,
          -5.300173205005544,
          -5.317258436351977,
          -5.335296782708236,
          -5.3543527877664125,
          -5.374496552150936,
          -5.395804410201666,
          -5.418359723613704,
          -5.442253817469077,
          -5.4675870907664,
          -5.494470342096531,
          -5.523026362312159,
          -5.553391860858858,
          -5.585719812234841,
          -5.620182335771497,
          -5.656974258391386,
          -5.696317560325571,
          -5.73846697406821,
          -5.783717106289399,
          -5.832411594977164,
          -5.884955021245112,
          -5.941828600565319,
          -6.003611134525233,
          -6.071007395504932,
          -6.1448871765541755,
          -6.226339878378589,
          -6.316752049583582,
          -6.41791921080205,
          -6.532209123362253,
          -6.662801598790756,
          -6.8140380844933714,
          -6.991912833969599,
          -7.204692093309247,
          -7.463458098082564,
          -7.781776173721677,
          -8.171771990977415,
          -8.626413278206135,
          -9.062985973257021,
          -9.314456517178392,
          -9.38443092919968,
          -9.396103746322273,
          -9.397691015702868,
          -9.397902565130067,
          -9.39793363018714,
          -9.397938817658886,
          -9.397939773904035
         ]
        },
        {
         "line": {
          "color": "orange"
         },
         "mode": "lines",
         "name": "dI_D/dV_GS (1ª derivative)",
         "type": "scatter",
         "x": [
          -43.973,
          -43.40906493506493,
          -42.84512987012987,
          -42.2811948051948,
          -41.71725974025974,
          -41.153324675324676,
          -40.58938961038961,
          -40.025454545454544,
          -39.46151948051948,
          -38.89758441558441,
          -38.33364935064935,
          -37.76971428571429,
          -37.20577922077922,
          -36.641844155844154,
          -36.07790909090909,
          -35.51397402597402,
          -34.950038961038956,
          -34.3861038961039,
          -33.82216883116883,
          -33.258233766233765,
          -32.6942987012987,
          -32.13036363636363,
          -31.56642857142857,
          -31.002493506493504,
          -30.438558441558442,
          -29.874623376623376,
          -29.31068831168831,
          -28.746753246753244,
          -28.18281818181818,
          -27.618883116883115,
          -27.05494805194805,
          -26.491012987012986,
          -25.92707792207792,
          -25.363142857142854,
          -24.799207792207792,
          -24.235272727272726,
          -23.67133766233766,
          -23.107402597402597,
          -22.54346753246753,
          -21.979532467532465,
          -21.4155974025974,
          -20.851662337662336,
          -20.28772727272727,
          -19.723792207792204,
          -19.159857142857142,
          -18.595922077922076,
          -18.03198701298701,
          -17.468051948051947,
          -16.90411688311688,
          -16.340181818181815,
          -15.776246753246753,
          -15.212311688311686,
          -14.64837662337662,
          -14.084441558441558,
          -13.520506493506492,
          -12.956571428571426,
          -12.392636363636363,
          -11.828701298701297,
          -11.264766233766231,
          -10.700831168831165,
          -10.136896103896099,
          -9.57296103896104,
          -9.009025974025974,
          -8.445090909090908,
          -7.881155844155842,
          -7.317220779220776,
          -6.75328571428571,
          -6.189350649350644,
          -5.625415584415585,
          -5.061480519480519,
          -4.4975454545454525,
          -3.9336103896103864,
          -3.3696753246753204,
          -2.8057402597402543,
          -2.2418051948051954,
          -1.6778701298701293,
          -1.1139350649350632,
          -0.55
         ],
         "y": [
          -0.006529344401078468,
          -0.0066626054723100125,
          -0.0069358930313550005,
          -0.007223109598096578,
          -0.007525077415081682,
          -0.007842672321062949,
          -0.008176827507154982,
          -0.008528537560981597,
          -0.008898862825843956,
          -0.00928893410565479,
          -0.009699957750716415,
          -0.010133221164607242,
          -0.010590098778702206,
          -0.011072058548232455,
          -0.011580669032740687,
          -0.012117607134509711,
          -0.012684666581455062,
          -0.013283767256502266,
          -0.013916965494225941,
          -0.014586465488181766,
          -0.015294631979675621,
          -0.016044004431793546,
          -0.016837312932549864,
          -0.017677496119537395,
          -0.018567721477408483,
          -0.01951140843114363,
          -0.02051225474551721,
          -0.02157426684797059,
          -0.02270179482313406,
          -0.02389957298845058,
          -0.025172767159699738,
          -0.026527029962489124,
          -0.02796856585456542,
          -0.029504207911035252,
          -0.03114150891356271,
          -0.03288884990571361,
          -0.03475557017119879,
          -0.03675212361553282,
          -0.03889026786073124,
          -0.041183294102096646,
          -0.043646308071271456,
          -0.04629657550507815,
          -0.049153949623741866,
          -0.052241403688128685,
          -0.055585699330384486,
          -0.05921823190789599,
          -0.0631761089060392,
          -0.06750353833986278,
          -0.07225363410077001,
          -0.0774907887434626,
          -0.08329382827061149,
          -0.08976025898245066,
          -0.0970120607775593,
          -0.10520370221506248,
          -0.11453339486389869,
          -0.12525913958303914,
          -0.1377219581934872,
          -0.15238002007305163,
          -0.1698593901458505,
          -0.1910300380093224,
          -0.217119313211092,
          -0.24987713892518126,
          -0.29179887512114444,
          -0.3463643539002641,
          -0.4180847170473969,
          -0.5116582708674775,
          -0.6280101530629318,
          -0.7488779799334866,
          -0.790174292834787,
          -0.6100376459579442,
          -0.2850017457060172,
          -0.072390629897507,
          -0.011756749427094704,
          -0.001594881148241356,
          -0.0002151085287618315,
          -0.00003214246734550841,
          -0.000005447184683760042,
          -0.000001695665349258222
         ]
        },
        {
         "line": {
          "color": "red"
         },
         "mode": "lines",
         "name": "d²I_D/dV_GS² (2ª derivative)",
         "type": "scatter",
         "x": [
          -43.973,
          -43.40906493506493,
          -42.84512987012987,
          -42.2811948051948,
          -41.71725974025974,
          -41.153324675324676,
          -40.58938961038961,
          -40.025454545454544,
          -39.46151948051948,
          -38.89758441558441,
          -38.33364935064935,
          -37.76971428571429,
          -37.20577922077922,
          -36.641844155844154,
          -36.07790909090909,
          -35.51397402597402,
          -34.950038961038956,
          -34.3861038961039,
          -33.82216883116883,
          -33.258233766233765,
          -32.6942987012987,
          -32.13036363636363,
          -31.56642857142857,
          -31.002493506493504,
          -30.438558441558442,
          -29.874623376623376,
          -29.31068831168831,
          -28.746753246753244,
          -28.18281818181818,
          -27.618883116883115,
          -27.05494805194805,
          -26.491012987012986,
          -25.92707792207792,
          -25.363142857142854,
          -24.799207792207792,
          -24.235272727272726,
          -23.67133766233766,
          -23.107402597402597,
          -22.54346753246753,
          -21.979532467532465,
          -21.4155974025974,
          -20.851662337662336,
          -20.28772727272727,
          -19.723792207792204,
          -19.159857142857142,
          -18.595922077922076,
          -18.03198701298701,
          -17.468051948051947,
          -16.90411688311688,
          -16.340181818181815,
          -15.776246753246753,
          -15.212311688311686,
          -14.64837662337662,
          -14.084441558441558,
          -13.520506493506492,
          -12.956571428571426,
          -12.392636363636363,
          -11.828701298701297,
          -11.264766233766231,
          -10.700831168831165,
          -10.136896103896099,
          -9.57296103896104,
          -9.009025974025974,
          -8.445090909090908,
          -7.881155844155842,
          -7.317220779220776,
          -6.75328571428571,
          -6.189350649350644,
          -5.625415584415585,
          -5.061480519480519,
          -4.4975454545454525,
          -3.9336103896103864,
          -3.3696753246753204,
          -2.8057402597402543,
          -2.2418051948051954,
          -1.6778701298701293,
          -1.1139350649350632,
          -0.55
         ],
         "y": [
          -0.00023630570169792367,
          -0.0003604569528970012,
          -0.0004969580370490917,
          -0.0005223867253178575,
          -0.0005493209781499532,
          -0.0005778591655302952,
          -0.0006081065734027565,
          -0.0006401759383166845,
          -0.0006741880332984326,
          -0.0007102723120832235,
          -0.0007485676201476089,
          -0.0007892229826924196,
          -0.0008323984816703267,
          -0.0008782662363374574,
          -0.0009270115047710723,
          -0.0009788339273081852,
          -0.0010339489371234967,
          -0.0010925893683457859,
          -0.0011550072984284985,
          -0.0012214761690765852,
          -0.0012922932392753477,
          -0.0013677824352453394,
          -0.0014482976758431777,
          -0.0015342267686953206,
          -0.0016259959928342158,
          -0.0017240755088820635,
          -0.0018289857690126851,
          -0.0019413051375595618,
          -0.0020616789813803667,
          -0.0021908305496575187,
          -0.0023295740391148477,
          -0.0024788303376627324,
          -0.0026396460635844075,
          -0.0028132166771387447,
          -0.0030009146488063285,
          -0.003204323939363672,
          -0.0034252824039803648,
          -0.003665934206457399,
          -0.0039287949642518236,
          -0.004216833201432374,
          -0.004533572853436849,
          -0.004883223171363367,
          -0.005270844599577294,
          -0.005702562321943237,
          -0.006185843595814235,
          -0.006729861332996474,
          -0.007345975580469372,
          -0.008048378048433717,
          -0.008854964892766333,
          -0.009788533163044871,
          -0.01087844239691041,
          -0.012162953999435538,
          -0.013692572241797096,
          -0.015534886173780418,
          -0.01778169031773713,
          -0.020559604085142874,
          -0.024046102269891123,
          -0.028493911755659074,
          -0.03426814569574699,
          -0.041901919213591765,
          -0.052175422823401874,
          -0.0662129086782817,
          -0.08554816057252337,
          -0.11196842489373626,
          -0.14655403365123787,
          -0.18612553915201802,
          -0.21032537593075856,
          -0.14377908899008385,
          0.1230995752955415,
          0.4478995708370586,
          0.4766923086458049,
          0.2422663647545885,
          0.06276941544450455,
          0.010233129322843038,
          0.0013855661565182272,
          0.00018589138813545204,
          0.000026994953753900658,
          0.000006652395936638212
         ]
        }
       ],
       "layout": {
        "annotations": [
         {
          "showarrow": false,
          "text": "<b>Vtho ~ -6.75 V</b>",
          "x": -6.75328571428571,
          "xanchor": "right",
          "xref": "x",
          "y": 1,
          "yanchor": "top",
          "yref": "y domain"
         }
        ],
        "font": {
         "color": "black",
         "family": "Arial",
         "size": 18
        },
        "height": 600,
        "legend": {
         "x": 0.04,
         "y": 0.04
        },
        "shapes": [
         {
          "line": {
           "color": "green",
           "dash": "dash"
          },
          "type": "line",
          "x0": -6.75328571428571,
          "x1": -6.75328571428571,
          "xref": "x",
          "y0": 0,
          "y1": 1,
          "yref": "y domain"
         }
        ],
        "showlegend": true,
        "template": {
         "data": {
          "bar": [
           {
            "error_x": {
             "color": "#2a3f5f"
            },
            "error_y": {
             "color": "#2a3f5f"
            },
            "marker": {
             "line": {
              "color": "#E5ECF6",
              "width": 0.5
             },
             "pattern": {
              "fillmode": "overlay",
              "size": 10,
              "solidity": 0.2
             }
            },
            "type": "bar"
           }
          ],
          "barpolar": [
           {
            "marker": {
             "line": {
              "color": "#E5ECF6",
              "width": 0.5
             },
             "pattern": {
              "fillmode": "overlay",
              "size": 10,
              "solidity": 0.2
             }
            },
            "type": "barpolar"
           }
          ],
          "carpet": [
           {
            "aaxis": {
             "endlinecolor": "#2a3f5f",
             "gridcolor": "white",
             "linecolor": "white",
             "minorgridcolor": "white",
             "startlinecolor": "#2a3f5f"
            },
            "baxis": {
             "endlinecolor": "#2a3f5f",
             "gridcolor": "white",
             "linecolor": "white",
             "minorgridcolor": "white",
             "startlinecolor": "#2a3f5f"
            },
            "type": "carpet"
           }
          ],
          "choropleth": [
           {
            "colorbar": {
             "outlinewidth": 0,
             "ticks": ""
            },
            "type": "choropleth"
           }
          ],
          "contour": [
           {
            "colorbar": {
             "outlinewidth": 0,
             "ticks": ""
            },
            "colorscale": [
             [
              0,
              "#0d0887"
             ],
             [
              0.1111111111111111,
              "#46039f"
             ],
             [
              0.2222222222222222,
              "#7201a8"
             ],
             [
              0.3333333333333333,
              "#9c179e"
             ],
             [
              0.4444444444444444,
              "#bd3786"
             ],
             [
              0.5555555555555556,
              "#d8576b"
             ],
             [
              0.6666666666666666,
              "#ed7953"
             ],
             [
              0.7777777777777778,
              "#fb9f3a"
             ],
             [
              0.8888888888888888,
              "#fdca26"
             ],
             [
              1,
              "#f0f921"
             ]
            ],
            "type": "contour"
           }
          ],
          "contourcarpet": [
           {
            "colorbar": {
             "outlinewidth": 0,
             "ticks": ""
            },
            "type": "contourcarpet"
           }
          ],
          "heatmap": [
           {
            "colorbar": {
             "outlinewidth": 0,
             "ticks": ""
            },
            "colorscale": [
             [
              0,
              "#0d0887"
             ],
             [
              0.1111111111111111,
              "#46039f"
             ],
             [
              0.2222222222222222,
              "#7201a8"
             ],
             [
              0.3333333333333333,
              "#9c179e"
             ],
             [
              0.4444444444444444,
              "#bd3786"
             ],
             [
              0.5555555555555556,
              "#d8576b"
             ],
             [
              0.6666666666666666,
              "#ed7953"
             ],
             [
              0.7777777777777778,
              "#fb9f3a"
             ],
             [
              0.8888888888888888,
              "#fdca26"
             ],
             [
              1,
              "#f0f921"
             ]
            ],
            "type": "heatmap"
           }
          ],
          "heatmapgl": [
           {
            "colorbar": {
             "outlinewidth": 0,
             "ticks": ""
            },
            "colorscale": [
             [
              0,
              "#0d0887"
             ],
             [
              0.1111111111111111,
              "#46039f"
             ],
             [
              0.2222222222222222,
              "#7201a8"
             ],
             [
              0.3333333333333333,
              "#9c179e"
             ],
             [
              0.4444444444444444,
              "#bd3786"
             ],
             [
              0.5555555555555556,
              "#d8576b"
             ],
             [
              0.6666666666666666,
              "#ed7953"
             ],
             [
              0.7777777777777778,
              "#fb9f3a"
             ],
             [
              0.8888888888888888,
              "#fdca26"
             ],
             [
              1,
              "#f0f921"
             ]
            ],
            "type": "heatmapgl"
           }
          ],
          "histogram": [
           {
            "marker": {
             "pattern": {
              "fillmode": "overlay",
              "size": 10,
              "solidity": 0.2
             }
            },
            "type": "histogram"
           }
          ],
          "histogram2d": [
           {
            "colorbar": {
             "outlinewidth": 0,
             "ticks": ""
            },
            "colorscale": [
             [
              0,
              "#0d0887"
             ],
             [
              0.1111111111111111,
              "#46039f"
             ],
             [
              0.2222222222222222,
              "#7201a8"
             ],
             [
              0.3333333333333333,
              "#9c179e"
             ],
             [
              0.4444444444444444,
              "#bd3786"
             ],
             [
              0.5555555555555556,
              "#d8576b"
             ],
             [
              0.6666666666666666,
              "#ed7953"
             ],
             [
              0.7777777777777778,
              "#fb9f3a"
             ],
             [
              0.8888888888888888,
              "#fdca26"
             ],
             [
              1,
              "#f0f921"
             ]
            ],
            "type": "histogram2d"
           }
          ],
          "histogram2dcontour": [
           {
            "colorbar": {
             "outlinewidth": 0,
             "ticks": ""
            },
            "colorscale": [
             [
              0,
              "#0d0887"
             ],
             [
              0.1111111111111111,
              "#46039f"
             ],
             [
              0.2222222222222222,
              "#7201a8"
             ],
             [
              0.3333333333333333,
              "#9c179e"
             ],
             [
              0.4444444444444444,
              "#bd3786"
             ],
             [
              0.5555555555555556,
              "#d8576b"
             ],
             [
              0.6666666666666666,
              "#ed7953"
             ],
             [
              0.7777777777777778,
              "#fb9f3a"
             ],
             [
              0.8888888888888888,
              "#fdca26"
             ],
             [
              1,
              "#f0f921"
             ]
            ],
            "type": "histogram2dcontour"
           }
          ],
          "mesh3d": [
           {
            "colorbar": {
             "outlinewidth": 0,
             "ticks": ""
            },
            "type": "mesh3d"
           }
          ],
          "parcoords": [
           {
            "line": {
             "colorbar": {
              "outlinewidth": 0,
              "ticks": ""
             }
            },
            "type": "parcoords"
           }
          ],
          "pie": [
           {
            "automargin": true,
            "type": "pie"
           }
          ],
          "scatter": [
           {
            "fillpattern": {
             "fillmode": "overlay",
             "size": 10,
             "solidity": 0.2
            },
            "type": "scatter"
           }
          ],
          "scatter3d": [
           {
            "line": {
             "colorbar": {
              "outlinewidth": 0,
              "ticks": ""
             }
            },
            "marker": {
             "colorbar": {
              "outlinewidth": 0,
              "ticks": ""
             }
            },
            "type": "scatter3d"
           }
          ],
          "scattercarpet": [
           {
            "marker": {
             "colorbar": {
              "outlinewidth": 0,
              "ticks": ""
             }
            },
            "type": "scattercarpet"
           }
          ],
          "scattergeo": [
           {
            "marker": {
             "colorbar": {
              "outlinewidth": 0,
              "ticks": ""
             }
            },
            "type": "scattergeo"
           }
          ],
          "scattergl": [
           {
            "marker": {
             "colorbar": {
              "outlinewidth": 0,
              "ticks": ""
             }
            },
            "type": "scattergl"
           }
          ],
          "scattermapbox": [
           {
            "marker": {
             "colorbar": {
              "outlinewidth": 0,
              "ticks": ""
             }
            },
            "type": "scattermapbox"
           }
          ],
          "scatterpolar": [
           {
            "marker": {
             "colorbar": {
              "outlinewidth": 0,
              "ticks": ""
             }
            },
            "type": "scatterpolar"
           }
          ],
          "scatterpolargl": [
           {
            "marker": {
             "colorbar": {
              "outlinewidth": 0,
              "ticks": ""
             }
            },
            "type": "scatterpolargl"
           }
          ],
          "scatterternary": [
           {
            "marker": {
             "colorbar": {
              "outlinewidth": 0,
              "ticks": ""
             }
            },
            "type": "scatterternary"
           }
          ],
          "surface": [
           {
            "colorbar": {
             "outlinewidth": 0,
             "ticks": ""
            },
            "colorscale": [
             [
              0,
              "#0d0887"
             ],
             [
              0.1111111111111111,
              "#46039f"
             ],
             [
              0.2222222222222222,
              "#7201a8"
             ],
             [
              0.3333333333333333,
              "#9c179e"
             ],
             [
              0.4444444444444444,
              "#bd3786"
             ],
             [
              0.5555555555555556,
              "#d8576b"
             ],
             [
              0.6666666666666666,
              "#ed7953"
             ],
             [
              0.7777777777777778,
              "#fb9f3a"
             ],
             [
              0.8888888888888888,
              "#fdca26"
             ],
             [
              1,
              "#f0f921"
             ]
            ],
            "type": "surface"
           }
          ],
          "table": [
           {
            "cells": {
             "fill": {
              "color": "#EBF0F8"
             },
             "line": {
              "color": "white"
             }
            },
            "header": {
             "fill": {
              "color": "#C8D4E3"
             },
             "line": {
              "color": "white"
             }
            },
            "type": "table"
           }
          ]
         },
         "layout": {
          "annotationdefaults": {
           "arrowcolor": "#2a3f5f",
           "arrowhead": 0,
           "arrowwidth": 1
          },
          "autotypenumbers": "strict",
          "coloraxis": {
           "colorbar": {
            "outlinewidth": 0,
            "ticks": ""
           }
          },
          "colorscale": {
           "diverging": [
            [
             0,
             "#8e0152"
            ],
            [
             0.1,
             "#c51b7d"
            ],
            [
             0.2,
             "#de77ae"
            ],
            [
             0.3,
             "#f1b6da"
            ],
            [
             0.4,
             "#fde0ef"
            ],
            [
             0.5,
             "#f7f7f7"
            ],
            [
             0.6,
             "#e6f5d0"
            ],
            [
             0.7,
             "#b8e186"
            ],
            [
             0.8,
             "#7fbc41"
            ],
            [
             0.9,
             "#4d9221"
            ],
            [
             1,
             "#276419"
            ]
           ],
           "sequential": [
            [
             0,
             "#0d0887"
            ],
            [
             0.1111111111111111,
             "#46039f"
            ],
            [
             0.2222222222222222,
             "#7201a8"
            ],
            [
             0.3333333333333333,
             "#9c179e"
            ],
            [
             0.4444444444444444,
             "#bd3786"
            ],
            [
             0.5555555555555556,
             "#d8576b"
            ],
            [
             0.6666666666666666,
             "#ed7953"
            ],
            [
             0.7777777777777778,
             "#fb9f3a"
            ],
            [
             0.8888888888888888,
             "#fdca26"
            ],
            [
             1,
             "#f0f921"
            ]
           ],
           "sequentialminus": [
            [
             0,
             "#0d0887"
            ],
            [
             0.1111111111111111,
             "#46039f"
            ],
            [
             0.2222222222222222,
             "#7201a8"
            ],
            [
             0.3333333333333333,
             "#9c179e"
            ],
            [
             0.4444444444444444,
             "#bd3786"
            ],
            [
             0.5555555555555556,
             "#d8576b"
            ],
            [
             0.6666666666666666,
             "#ed7953"
            ],
            [
             0.7777777777777778,
             "#fb9f3a"
            ],
            [
             0.8888888888888888,
             "#fdca26"
            ],
            [
             1,
             "#f0f921"
            ]
           ]
          },
          "colorway": [
           "#636efa",
           "#EF553B",
           "#00cc96",
           "#ab63fa",
           "#FFA15A",
           "#19d3f3",
           "#FF6692",
           "#B6E880",
           "#FF97FF",
           "#FECB52"
          ],
          "font": {
           "color": "#2a3f5f"
          },
          "geo": {
           "bgcolor": "white",
           "lakecolor": "white",
           "landcolor": "#E5ECF6",
           "showlakes": true,
           "showland": true,
           "subunitcolor": "white"
          },
          "hoverlabel": {
           "align": "left"
          },
          "hovermode": "closest",
          "mapbox": {
           "style": "light"
          },
          "paper_bgcolor": "white",
          "plot_bgcolor": "#E5ECF6",
          "polar": {
           "angularaxis": {
            "gridcolor": "white",
            "linecolor": "white",
            "ticks": ""
           },
           "bgcolor": "#E5ECF6",
           "radialaxis": {
            "gridcolor": "white",
            "linecolor": "white",
            "ticks": ""
           }
          },
          "scene": {
           "xaxis": {
            "backgroundcolor": "#E5ECF6",
            "gridcolor": "white",
            "gridwidth": 2,
            "linecolor": "white",
            "showbackground": true,
            "ticks": "",
            "zerolinecolor": "white"
           },
           "yaxis": {
            "backgroundcolor": "#E5ECF6",
            "gridcolor": "white",
            "gridwidth": 2,
            "linecolor": "white",
            "showbackground": true,
            "ticks": "",
            "zerolinecolor": "white"
           },
           "zaxis": {
            "backgroundcolor": "#E5ECF6",
            "gridcolor": "white",
            "gridwidth": 2,
            "linecolor": "white",
            "showbackground": true,
            "ticks": "",
            "zerolinecolor": "white"
           }
          },
          "shapedefaults": {
           "line": {
            "color": "#2a3f5f"
           }
          },
          "ternary": {
           "aaxis": {
            "gridcolor": "white",
            "linecolor": "white",
            "ticks": ""
           },
           "baxis": {
            "gridcolor": "white",
            "linecolor": "white",
            "ticks": ""
           },
           "bgcolor": "#E5ECF6",
           "caxis": {
            "gridcolor": "white",
            "linecolor": "white",
            "ticks": ""
           }
          },
          "title": {
           "x": 0.05
          },
          "xaxis": {
           "automargin": true,
           "gridcolor": "white",
           "linecolor": "white",
           "ticks": "",
           "title": {
            "standoff": 15
           },
           "zerolinecolor": "white",
           "zerolinewidth": 2
          },
          "yaxis": {
           "automargin": true,
           "gridcolor": "white",
           "linecolor": "white",
           "ticks": "",
           "title": {
            "standoff": 15
           },
           "zerolinecolor": "white",
           "zerolinewidth": 2
          }
         }
        },
        "title": {
         "font": {
          "family": "Arial",
          "size": 20,
          "weight": "bold"
         },
         "text": " Current vs. Tension whith Vtho value",
         "x": 0.5,
         "y": 0.95
        },
        "width": 1100,
        "xaxis": {
         "title": {
          "text": "<b>VGS / V</b>"
         }
        },
        "yaxis": {
         "title": {
          "text": "<b>ID / A and Derivatives </b>"
         }
        }
       }
      }
     },
     "metadata": {},
     "output_type": "display_data"
    }
   ],
   "source": [
    "vtho_calculation(in_model_data)"
   ]
  },
  {
   "cell_type": "code",
   "execution_count": 10,
   "metadata": {},
   "outputs": [],
   "source": [
    "def compute_relative_distance(experiment_curve_id, model_curve_id):\n",
    "    \"\"\"\n",
    "    Computes the relative distance between the experiment and model curves.\n",
    "\n",
    "    Args:\n",
    "        experiment_curve (np.ndarray): Array representing the experiment curve.\n",
    "        model_curve (np.ndarray): Array representing the model curve.\n",
    "\n",
    "    Returns:\n",
    "        float: Relative distance between the curves.\n",
    "    \"\"\"\n",
    "\n",
    "    # Empilha as correntes em um única estrutura de dados (vetor)\n",
    "    experiment_curve_id = np.ravel(experiment_curve_id)\n",
    "    model_curve_id      = np.ravel(model_curve_id)\n",
    "\n",
    "\n",
    "    # Compute the absolute difference between the curves\n",
    "    absolute_difference = np.abs(experiment_curve_id - model_curve_id)\n",
    "\n",
    "    # Compute the relative distance\n",
    "    relative_distance = np.sum(absolute_difference / (abs(experiment_curve_id) + 1e-10) )\n",
    "    print('**'*73)\n",
    "    print()\n",
    "    print('|' + f\"RELATIVE ERROR BETWEEN CURVES: {relative_distance:.4f}\")\n",
    "    print()\n",
    "    print('**'*73)"
   ]
  },
  {
   "cell_type": "code",
   "execution_count": 11,
   "metadata": {},
   "outputs": [],
   "source": [
    "absolute_difference = []\n",
    "Id_vector = []\n",
    "for (i, j) in zip(Id, model):\n",
    "    for (k,n) in zip(i, j):\n",
    "        abs_diff = np.abs(k - n)\n",
    "        absolute_difference.append(abs_diff)\n",
    "        Id_vector.append(k)\n"
   ]
  }
 ],
 "metadata": {
  "colab": {
   "collapsed_sections": [
    "teoZkrLIvxaV",
    "HfZC11MavqP5",
    "Kw3wbLglv07J",
    "IHBDOV5ZwCml",
    "c0Jt9A63whok",
    "kSdWoeRx5pob",
    "yMkpHlhivMmv",
    "Lz9YHSiMvVFb",
    "WYpRFYGbu6oH",
    "cXKg5hS-drnb"
   ],
   "provenance": []
  },
  "kernelspec": {
   "display_name": "otft-env",
   "language": "python",
   "name": "python3"
  },
  "language_info": {
   "codemirror_mode": {
    "name": "ipython",
    "version": 3
   },
   "file_extension": ".py",
   "mimetype": "text/x-python",
   "name": "python",
   "nbconvert_exporter": "python",
   "pygments_lexer": "ipython3",
   "version": "3.10.12"
  }
 },
 "nbformat": 4,
 "nbformat_minor": 0
}
